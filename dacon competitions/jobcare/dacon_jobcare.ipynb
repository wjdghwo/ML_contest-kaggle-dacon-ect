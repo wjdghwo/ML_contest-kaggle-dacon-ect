{
  "cells": [
    {
      "cell_type": "markdown",
      "metadata": {
        "id": "glbuyNEBFYTh"
      },
      "source": [
        "# Data Load & Simple Preprocessing"
      ]
    },
    {
      "cell_type": "code",
      "execution_count": null,
      "metadata": {
        "colab": {
          "base_uri": "https://localhost:8080/"
        },
        "id": "AWP46837X4XJ",
        "outputId": "a58a0e4a-4f1c-4740-c4ee-3dbc2a80b164"
      },
      "outputs": [
        {
          "name": "stdout",
          "output_type": "stream",
          "text": [
            "Mounted at /content/gdrive/\n"
          ]
        }
      ],
      "source": [
        "from google.colab import drive\n",
        "drive.mount('/content/gdrive/')"
      ]
    },
    {
      "cell_type": "code",
      "execution_count": null,
      "metadata": {
        "colab": {
          "base_uri": "https://localhost:8080/"
        },
        "id": "o81jZN8gYBDt",
        "outputId": "e2da5e37-c32b-41b6-b899-85e4c5d166c8"
      },
      "outputs": [
        {
          "data": {
            "text/plain": [
              "['train.csv', 'sample_submission.csv', 'test.csv', 'prediction.csv']"
            ]
          },
          "execution_count": 2,
          "metadata": {},
          "output_type": "execute_result"
        }
      ],
      "source": [
        "path = '/content/gdrive/MyDrive/dacon/jobcare/'\n",
        "import os\n",
        "os.listdir(path)"
      ]
    },
    {
      "cell_type": "code",
      "execution_count": null,
      "metadata": {
        "id": "kj2UVDgKYn4D"
      },
      "outputs": [],
      "source": [
        "import pandas as pd"
      ]
    },
    {
      "cell_type": "code",
      "execution_count": null,
      "metadata": {
        "id": "SZP4ffE5YYFp"
      },
      "outputs": [],
      "source": [
        "train = pd.read_csv(path + \"train.csv\")\n",
        "X_test = pd.read_csv(path + \"test.csv\")\n",
        "submission = pd.read_csv(path + \"sample_submission.csv\")\n",
        "\n",
        "X_train = train.drop('target',axis=1)\n",
        "y_train = train['target']"
      ]
    },
    {
      "cell_type": "code",
      "execution_count": null,
      "metadata": {
        "colab": {
          "base_uri": "https://localhost:8080/"
        },
        "id": "8LVwjoiOYvkv",
        "outputId": "5ca0283d-1ce2-401d-d18e-3eeef6e71b86"
      },
      "outputs": [
        {
          "name": "stdout",
          "output_type": "stream",
          "text": [
            "<class 'pandas.core.frame.DataFrame'>\n",
            "RangeIndex: 501951 entries, 0 to 501950\n",
            "Data columns (total 34 columns):\n",
            " #   Column                  Non-Null Count   Dtype \n",
            "---  ------                  --------------   ----- \n",
            " 0   id                      501951 non-null  int64 \n",
            " 1   d_l_match_yn            501951 non-null  bool  \n",
            " 2   d_m_match_yn            501951 non-null  bool  \n",
            " 3   d_s_match_yn            501951 non-null  bool  \n",
            " 4   h_l_match_yn            501951 non-null  bool  \n",
            " 5   h_m_match_yn            501951 non-null  bool  \n",
            " 6   h_s_match_yn            501951 non-null  bool  \n",
            " 7   person_attribute_a      501951 non-null  int64 \n",
            " 8   person_attribute_a_1    501951 non-null  int64 \n",
            " 9   person_attribute_b      501951 non-null  int64 \n",
            " 10  person_prefer_c         501951 non-null  int64 \n",
            " 11  person_prefer_d_1       501951 non-null  int64 \n",
            " 12  person_prefer_d_2       501951 non-null  int64 \n",
            " 13  person_prefer_d_3       501951 non-null  int64 \n",
            " 14  person_prefer_e         501951 non-null  int64 \n",
            " 15  person_prefer_f         501951 non-null  int64 \n",
            " 16  person_prefer_g         501951 non-null  int64 \n",
            " 17  person_prefer_h_1       501951 non-null  int64 \n",
            " 18  person_prefer_h_2       501951 non-null  int64 \n",
            " 19  person_prefer_h_3       501951 non-null  int64 \n",
            " 20  contents_attribute_i    501951 non-null  int64 \n",
            " 21  contents_attribute_a    501951 non-null  int64 \n",
            " 22  contents_attribute_j_1  501951 non-null  int64 \n",
            " 23  contents_attribute_j    501951 non-null  int64 \n",
            " 24  contents_attribute_c    501951 non-null  int64 \n",
            " 25  contents_attribute_k    501951 non-null  int64 \n",
            " 26  contents_attribute_l    501951 non-null  int64 \n",
            " 27  contents_attribute_d    501951 non-null  int64 \n",
            " 28  contents_attribute_m    501951 non-null  int64 \n",
            " 29  contents_attribute_e    501951 non-null  int64 \n",
            " 30  contents_attribute_h    501951 non-null  int64 \n",
            " 31  person_rn               501951 non-null  int64 \n",
            " 32  contents_rn             501951 non-null  int64 \n",
            " 33  contents_open_dt        501951 non-null  object\n",
            "dtypes: bool(6), int64(27), object(1)\n",
            "memory usage: 110.1+ MB\n"
          ]
        }
      ],
      "source": [
        "X_train.info()"
      ]
    },
    {
      "cell_type": "code",
      "execution_count": null,
      "metadata": {
        "id": "ORF9ek6CYvnN"
      },
      "outputs": [],
      "source": [
        "data = [X_train, X_test]\n",
        "\n",
        "for i in range(2):\n",
        "  data[i].contents_open_dt = pd.to_datetime(data[i].contents_open_dt)\n",
        "\n",
        "  data[i]['month'] = data[i].contents_open_dt.dt.month\n",
        "  data[i]['day'] = data[i].contents_open_dt.dt.day\n",
        "  data[i]['week'] = data[i].contents_open_dt.dt.isocalendar().week\n",
        "  data[i]['dayofweek'] = data[i].contents_open_dt.dt.dayofweek\n",
        "  data[i]['hour'] = data[i].contents_open_dt.dt.hour\n",
        "  data[i]['minute'] = data[i].contents_open_dt.dt.minute\n",
        "\n",
        "  data[i].drop(['id', 'contents_open_dt'], axis=1, inplace=True)"
      ]
    },
    {
      "cell_type": "code",
      "execution_count": null,
      "metadata": {
        "id": "94R8xxl5aWiI"
      },
      "outputs": [],
      "source": [
        "for i in range(X_train.shape[1]):\n",
        "  X_train.iloc[:,i] = X_train.iloc[:,i].astype(int)\n",
        "  X_test.iloc[:,i] = X_test.iloc[:,i].astype(int)"
      ]
    },
    {
      "cell_type": "code",
      "execution_count": null,
      "metadata": {
        "colab": {
          "base_uri": "https://localhost:8080/"
        },
        "id": "MJsgJWATYvrs",
        "outputId": "b9330c5e-a52f-449a-8838-b69001cee70f"
      },
      "outputs": [
        {
          "name": "stdout",
          "output_type": "stream",
          "text": [
            "<class 'pandas.core.frame.DataFrame'>\n",
            "RangeIndex: 501951 entries, 0 to 501950\n",
            "Data columns (total 38 columns):\n",
            " #   Column                  Non-Null Count   Dtype\n",
            "---  ------                  --------------   -----\n",
            " 0   d_l_match_yn            501951 non-null  int64\n",
            " 1   d_m_match_yn            501951 non-null  int64\n",
            " 2   d_s_match_yn            501951 non-null  int64\n",
            " 3   h_l_match_yn            501951 non-null  int64\n",
            " 4   h_m_match_yn            501951 non-null  int64\n",
            " 5   h_s_match_yn            501951 non-null  int64\n",
            " 6   person_attribute_a      501951 non-null  int64\n",
            " 7   person_attribute_a_1    501951 non-null  int64\n",
            " 8   person_attribute_b      501951 non-null  int64\n",
            " 9   person_prefer_c         501951 non-null  int64\n",
            " 10  person_prefer_d_1       501951 non-null  int64\n",
            " 11  person_prefer_d_2       501951 non-null  int64\n",
            " 12  person_prefer_d_3       501951 non-null  int64\n",
            " 13  person_prefer_e         501951 non-null  int64\n",
            " 14  person_prefer_f         501951 non-null  int64\n",
            " 15  person_prefer_g         501951 non-null  int64\n",
            " 16  person_prefer_h_1       501951 non-null  int64\n",
            " 17  person_prefer_h_2       501951 non-null  int64\n",
            " 18  person_prefer_h_3       501951 non-null  int64\n",
            " 19  contents_attribute_i    501951 non-null  int64\n",
            " 20  contents_attribute_a    501951 non-null  int64\n",
            " 21  contents_attribute_j_1  501951 non-null  int64\n",
            " 22  contents_attribute_j    501951 non-null  int64\n",
            " 23  contents_attribute_c    501951 non-null  int64\n",
            " 24  contents_attribute_k    501951 non-null  int64\n",
            " 25  contents_attribute_l    501951 non-null  int64\n",
            " 26  contents_attribute_d    501951 non-null  int64\n",
            " 27  contents_attribute_m    501951 non-null  int64\n",
            " 28  contents_attribute_e    501951 non-null  int64\n",
            " 29  contents_attribute_h    501951 non-null  int64\n",
            " 30  person_rn               501951 non-null  int64\n",
            " 31  contents_rn             501951 non-null  int64\n",
            " 32  month                   501951 non-null  int64\n",
            " 33  day                     501951 non-null  int64\n",
            " 34  week                    501951 non-null  int64\n",
            " 35  dayofweek               501951 non-null  int64\n",
            " 36  hour                    501951 non-null  int64\n",
            " 37  minute                  501951 non-null  int64\n",
            "dtypes: int64(38)\n",
            "memory usage: 145.5 MB\n"
          ]
        }
      ],
      "source": [
        "X_train.info()"
      ]
    },
    {
      "cell_type": "markdown",
      "metadata": {
        "id": "16mdSPcQFKXZ"
      },
      "source": [
        "# AutoML"
      ]
    },
    {
      "cell_type": "code",
      "execution_count": null,
      "metadata": {
        "colab": {
          "base_uri": "https://localhost:8080/"
        },
        "id": "uf0XLl-2X4Zl",
        "outputId": "11a8bccc-7dba-47b1-e98b-90f598b31b51"
      },
      "outputs": [
        {
          "name": "stdout",
          "output_type": "stream",
          "text": [
            "Collecting pycaret\n",
            "  Downloading pycaret-2.3.5-py3-none-any.whl (288 kB)\n",
            "\u001b[K     |████████████████████████████████| 288 kB 5.2 MB/s \n",
            "\u001b[?25hCollecting scikit-plot\n",
            "  Downloading scikit_plot-0.3.7-py3-none-any.whl (33 kB)\n",
            "Requirement already satisfied: IPython in /usr/local/lib/python3.7/dist-packages (from pycaret) (5.5.0)\n",
            "Requirement already satisfied: nltk in /usr/local/lib/python3.7/dist-packages (from pycaret) (3.2.5)\n",
            "Requirement already satisfied: plotly>=4.4.1 in /usr/local/lib/python3.7/dist-packages (from pycaret) (4.4.1)\n",
            "Requirement already satisfied: ipywidgets in /usr/local/lib/python3.7/dist-packages (from pycaret) (7.6.5)\n",
            "Collecting Boruta\n",
            "  Downloading Boruta-0.3-py3-none-any.whl (56 kB)\n",
            "\u001b[K     |████████████████████████████████| 56 kB 4.1 MB/s \n",
            "\u001b[?25hRequirement already satisfied: wordcloud in /usr/local/lib/python3.7/dist-packages (from pycaret) (1.5.0)\n",
            "Requirement already satisfied: seaborn in /usr/local/lib/python3.7/dist-packages (from pycaret) (0.11.2)\n",
            "Collecting mlxtend>=0.17.0\n",
            "  Downloading mlxtend-0.19.0-py2.py3-none-any.whl (1.3 MB)\n",
            "\u001b[K     |████████████████████████████████| 1.3 MB 42.4 MB/s \n",
            "\u001b[?25hCollecting imbalanced-learn==0.7.0\n",
            "  Downloading imbalanced_learn-0.7.0-py3-none-any.whl (167 kB)\n",
            "\u001b[K     |████████████████████████████████| 167 kB 54.4 MB/s \n",
            "\u001b[?25hRequirement already satisfied: yellowbrick>=1.0.1 in /usr/local/lib/python3.7/dist-packages (from pycaret) (1.3.post1)\n",
            "Collecting lightgbm>=2.3.1\n",
            "  Downloading lightgbm-3.3.1-py3-none-manylinux1_x86_64.whl (2.0 MB)\n",
            "\u001b[K     |████████████████████████████████| 2.0 MB 37.5 MB/s \n",
            "\u001b[?25hCollecting pyod\n",
            "  Downloading pyod-0.9.5.tar.gz (113 kB)\n",
            "\u001b[K     |████████████████████████████████| 113 kB 59.3 MB/s \n",
            "\u001b[?25hCollecting pandas-profiling>=2.8.0\n",
            "  Downloading pandas_profiling-3.1.0-py2.py3-none-any.whl (261 kB)\n",
            "\u001b[K     |████████████████████████████████| 261 kB 51.8 MB/s \n",
            "\u001b[?25hRequirement already satisfied: gensim<4.0.0 in /usr/local/lib/python3.7/dist-packages (from pycaret) (3.6.0)\n",
            "Collecting umap-learn\n",
            "  Downloading umap-learn-0.5.2.tar.gz (86 kB)\n",
            "\u001b[K     |████████████████████████████████| 86 kB 5.6 MB/s \n",
            "\u001b[?25hCollecting pyLDAvis\n",
            "  Downloading pyLDAvis-3.3.1.tar.gz (1.7 MB)\n",
            "\u001b[K     |████████████████████████████████| 1.7 MB 51.6 MB/s \n",
            "\u001b[?25h  Installing build dependencies ... \u001b[?25l\u001b[?25hdone\n",
            "  Getting requirements to build wheel ... \u001b[?25l\u001b[?25hdone\n",
            "  Installing backend dependencies ... \u001b[?25l\u001b[?25hdone\n",
            "    Preparing wheel metadata ... \u001b[?25l\u001b[?25hdone\n",
            "Requirement already satisfied: pandas in /usr/local/lib/python3.7/dist-packages (from pycaret) (1.1.5)\n",
            "Collecting scikit-learn==0.23.2\n",
            "  Downloading scikit_learn-0.23.2-cp37-cp37m-manylinux1_x86_64.whl (6.8 MB)\n",
            "\u001b[K     |████████████████████████████████| 6.8 MB 49.6 MB/s \n",
            "\u001b[?25hRequirement already satisfied: numpy==1.19.5 in /usr/local/lib/python3.7/dist-packages (from pycaret) (1.19.5)\n",
            "Requirement already satisfied: textblob in /usr/local/lib/python3.7/dist-packages (from pycaret) (0.15.3)\n",
            "Requirement already satisfied: spacy<2.4.0 in /usr/local/lib/python3.7/dist-packages (from pycaret) (2.2.4)\n",
            "Requirement already satisfied: matplotlib in /usr/local/lib/python3.7/dist-packages (from pycaret) (3.2.2)\n",
            "Requirement already satisfied: joblib in /usr/local/lib/python3.7/dist-packages (from pycaret) (1.1.0)\n",
            "Collecting mlflow\n",
            "  Downloading mlflow-1.22.0-py3-none-any.whl (15.5 MB)\n",
            "\u001b[K     |████████████████████████████████| 15.5 MB 67.7 MB/s \n",
            "\u001b[?25hRequirement already satisfied: cufflinks>=0.17.0 in /usr/local/lib/python3.7/dist-packages (from pycaret) (0.17.3)\n",
            "Requirement already satisfied: scipy<=1.5.4 in /usr/local/lib/python3.7/dist-packages (from pycaret) (1.4.1)\n",
            "Collecting kmodes>=0.10.1\n",
            "  Downloading kmodes-0.11.1-py2.py3-none-any.whl (19 kB)\n",
            "Requirement already satisfied: threadpoolctl>=2.0.0 in /usr/local/lib/python3.7/dist-packages (from scikit-learn==0.23.2->pycaret) (3.0.0)\n",
            "Requirement already satisfied: setuptools>=34.4.1 in /usr/local/lib/python3.7/dist-packages (from cufflinks>=0.17.0->pycaret) (57.4.0)\n",
            "Requirement already satisfied: colorlover>=0.2.1 in /usr/local/lib/python3.7/dist-packages (from cufflinks>=0.17.0->pycaret) (0.3.0)\n",
            "Requirement already satisfied: six>=1.9.0 in /usr/local/lib/python3.7/dist-packages (from cufflinks>=0.17.0->pycaret) (1.15.0)\n",
            "Requirement already satisfied: smart-open>=1.2.1 in /usr/local/lib/python3.7/dist-packages (from gensim<4.0.0->pycaret) (5.2.1)\n",
            "Requirement already satisfied: decorator in /usr/local/lib/python3.7/dist-packages (from IPython->pycaret) (4.4.2)\n",
            "Requirement already satisfied: traitlets>=4.2 in /usr/local/lib/python3.7/dist-packages (from IPython->pycaret) (5.1.1)\n",
            "Requirement already satisfied: pygments in /usr/local/lib/python3.7/dist-packages (from IPython->pycaret) (2.6.1)\n",
            "Requirement already satisfied: simplegeneric>0.8 in /usr/local/lib/python3.7/dist-packages (from IPython->pycaret) (0.8.1)\n",
            "Requirement already satisfied: pickleshare in /usr/local/lib/python3.7/dist-packages (from IPython->pycaret) (0.7.5)\n",
            "Requirement already satisfied: pexpect in /usr/local/lib/python3.7/dist-packages (from IPython->pycaret) (4.8.0)\n",
            "Requirement already satisfied: prompt-toolkit<2.0.0,>=1.0.4 in /usr/local/lib/python3.7/dist-packages (from IPython->pycaret) (1.0.18)\n",
            "Requirement already satisfied: jupyterlab-widgets>=1.0.0 in /usr/local/lib/python3.7/dist-packages (from ipywidgets->pycaret) (1.0.2)\n",
            "Requirement already satisfied: widgetsnbextension~=3.5.0 in /usr/local/lib/python3.7/dist-packages (from ipywidgets->pycaret) (3.5.2)\n",
            "Requirement already satisfied: ipykernel>=4.5.1 in /usr/local/lib/python3.7/dist-packages (from ipywidgets->pycaret) (4.10.1)\n",
            "Requirement already satisfied: ipython-genutils~=0.2.0 in /usr/local/lib/python3.7/dist-packages (from ipywidgets->pycaret) (0.2.0)\n",
            "Requirement already satisfied: nbformat>=4.2.0 in /usr/local/lib/python3.7/dist-packages (from ipywidgets->pycaret) (5.1.3)\n",
            "Requirement already satisfied: jupyter-client in /usr/local/lib/python3.7/dist-packages (from ipykernel>=4.5.1->ipywidgets->pycaret) (5.3.5)\n",
            "Requirement already satisfied: tornado>=4.0 in /usr/local/lib/python3.7/dist-packages (from ipykernel>=4.5.1->ipywidgets->pycaret) (5.1.1)\n",
            "Requirement already satisfied: wheel in /usr/local/lib/python3.7/dist-packages (from lightgbm>=2.3.1->pycaret) (0.37.0)\n",
            "Requirement already satisfied: cycler>=0.10 in /usr/local/lib/python3.7/dist-packages (from matplotlib->pycaret) (0.11.0)\n",
            "Requirement already satisfied: kiwisolver>=1.0.1 in /usr/local/lib/python3.7/dist-packages (from matplotlib->pycaret) (1.3.2)\n",
            "Requirement already satisfied: pyparsing!=2.0.4,!=2.1.2,!=2.1.6,>=2.0.1 in /usr/local/lib/python3.7/dist-packages (from matplotlib->pycaret) (3.0.6)\n",
            "Requirement already satisfied: python-dateutil>=2.1 in /usr/local/lib/python3.7/dist-packages (from matplotlib->pycaret) (2.8.2)\n",
            "Requirement already satisfied: jupyter-core in /usr/local/lib/python3.7/dist-packages (from nbformat>=4.2.0->ipywidgets->pycaret) (4.9.1)\n",
            "Requirement already satisfied: jsonschema!=2.5.0,>=2.4 in /usr/local/lib/python3.7/dist-packages (from nbformat>=4.2.0->ipywidgets->pycaret) (2.6.0)\n",
            "Requirement already satisfied: pytz>=2017.2 in /usr/local/lib/python3.7/dist-packages (from pandas->pycaret) (2018.9)\n",
            "Requirement already satisfied: tqdm>=4.48.2 in /usr/local/lib/python3.7/dist-packages (from pandas-profiling>=2.8.0->pycaret) (4.62.3)\n",
            "Collecting PyYAML>=5.0.0\n",
            "  Downloading PyYAML-6.0-cp37-cp37m-manylinux_2_5_x86_64.manylinux1_x86_64.manylinux_2_12_x86_64.manylinux2010_x86_64.whl (596 kB)\n",
            "\u001b[K     |████████████████████████████████| 596 kB 42.7 MB/s \n",
            "\u001b[?25hCollecting tangled-up-in-unicode==0.1.0\n",
            "  Downloading tangled_up_in_unicode-0.1.0-py3-none-any.whl (3.1 MB)\n",
            "\u001b[K     |████████████████████████████████| 3.1 MB 45.9 MB/s \n",
            "\u001b[?25hRequirement already satisfied: jinja2>=2.11.1 in /usr/local/lib/python3.7/dist-packages (from pandas-profiling>=2.8.0->pycaret) (2.11.3)\n",
            "Requirement already satisfied: markupsafe~=2.0.1 in /usr/local/lib/python3.7/dist-packages (from pandas-profiling>=2.8.0->pycaret) (2.0.1)\n",
            "Collecting htmlmin>=0.1.12\n",
            "  Downloading htmlmin-0.1.12.tar.gz (19 kB)\n",
            "Collecting multimethod>=1.4\n",
            "  Downloading multimethod-1.6-py3-none-any.whl (9.4 kB)\n",
            "Collecting pydantic>=1.8.1\n",
            "  Downloading pydantic-1.8.2-cp37-cp37m-manylinux2014_x86_64.whl (10.1 MB)\n",
            "\u001b[K     |████████████████████████████████| 10.1 MB 10.5 MB/s \n",
            "\u001b[?25hCollecting joblib\n",
            "  Downloading joblib-1.0.1-py3-none-any.whl (303 kB)\n",
            "\u001b[K     |████████████████████████████████| 303 kB 59.8 MB/s \n",
            "\u001b[?25hCollecting visions[type_image_path]==0.7.4\n",
            "  Downloading visions-0.7.4-py3-none-any.whl (102 kB)\n",
            "\u001b[K     |████████████████████████████████| 102 kB 11.1 MB/s \n",
            "\u001b[?25hCollecting phik>=0.11.1\n",
            "  Downloading phik-0.12.0-cp37-cp37m-manylinux2010_x86_64.whl (675 kB)\n",
            "\u001b[K     |████████████████████████████████| 675 kB 58.3 MB/s \n",
            "\u001b[?25hCollecting requests>=2.24.0\n",
            "  Downloading requests-2.26.0-py2.py3-none-any.whl (62 kB)\n",
            "\u001b[K     |████████████████████████████████| 62 kB 789 kB/s \n",
            "\u001b[?25hRequirement already satisfied: missingno>=0.4.2 in /usr/local/lib/python3.7/dist-packages (from pandas-profiling>=2.8.0->pycaret) (0.5.0)\n",
            "Requirement already satisfied: networkx>=2.4 in /usr/local/lib/python3.7/dist-packages (from visions[type_image_path]==0.7.4->pandas-profiling>=2.8.0->pycaret) (2.6.3)\n",
            "Requirement already satisfied: attrs>=19.3.0 in /usr/local/lib/python3.7/dist-packages (from visions[type_image_path]==0.7.4->pandas-profiling>=2.8.0->pycaret) (21.2.0)\n",
            "Collecting imagehash\n",
            "  Downloading ImageHash-4.2.1.tar.gz (812 kB)\n",
            "\u001b[K     |████████████████████████████████| 812 kB 48.7 MB/s \n",
            "\u001b[?25hRequirement already satisfied: Pillow in /usr/local/lib/python3.7/dist-packages (from visions[type_image_path]==0.7.4->pandas-profiling>=2.8.0->pycaret) (7.1.2)\n",
            "Collecting scipy<=1.5.4\n",
            "  Downloading scipy-1.5.4-cp37-cp37m-manylinux1_x86_64.whl (25.9 MB)\n",
            "\u001b[K     |████████████████████████████████| 25.9 MB 109.2 MB/s \n",
            "\u001b[?25hRequirement already satisfied: retrying>=1.3.3 in /usr/local/lib/python3.7/dist-packages (from plotly>=4.4.1->pycaret) (1.3.3)\n",
            "Requirement already satisfied: wcwidth in /usr/local/lib/python3.7/dist-packages (from prompt-toolkit<2.0.0,>=1.0.4->IPython->pycaret) (0.2.5)\n",
            "Requirement already satisfied: typing-extensions>=3.7.4.3 in /usr/local/lib/python3.7/dist-packages (from pydantic>=1.8.1->pandas-profiling>=2.8.0->pycaret) (3.10.0.2)\n",
            "Requirement already satisfied: urllib3<1.27,>=1.21.1 in /usr/local/lib/python3.7/dist-packages (from requests>=2.24.0->pandas-profiling>=2.8.0->pycaret) (1.24.3)\n",
            "Requirement already satisfied: certifi>=2017.4.17 in /usr/local/lib/python3.7/dist-packages (from requests>=2.24.0->pandas-profiling>=2.8.0->pycaret) (2021.10.8)\n",
            "Requirement already satisfied: idna<4,>=2.5 in /usr/local/lib/python3.7/dist-packages (from requests>=2.24.0->pandas-profiling>=2.8.0->pycaret) (2.10)\n",
            "Requirement already satisfied: charset-normalizer~=2.0.0 in /usr/local/lib/python3.7/dist-packages (from requests>=2.24.0->pandas-profiling>=2.8.0->pycaret) (2.0.8)\n",
            "Requirement already satisfied: wasabi<1.1.0,>=0.4.0 in /usr/local/lib/python3.7/dist-packages (from spacy<2.4.0->pycaret) (0.8.2)\n",
            "Requirement already satisfied: catalogue<1.1.0,>=0.0.7 in /usr/local/lib/python3.7/dist-packages (from spacy<2.4.0->pycaret) (1.0.0)\n",
            "Requirement already satisfied: plac<1.2.0,>=0.9.6 in /usr/local/lib/python3.7/dist-packages (from spacy<2.4.0->pycaret) (1.1.3)\n",
            "Requirement already satisfied: cymem<2.1.0,>=2.0.2 in /usr/local/lib/python3.7/dist-packages (from spacy<2.4.0->pycaret) (2.0.6)\n",
            "Requirement already satisfied: blis<0.5.0,>=0.4.0 in /usr/local/lib/python3.7/dist-packages (from spacy<2.4.0->pycaret) (0.4.1)\n",
            "Requirement already satisfied: srsly<1.1.0,>=1.0.2 in /usr/local/lib/python3.7/dist-packages (from spacy<2.4.0->pycaret) (1.0.5)\n",
            "Requirement already satisfied: thinc==7.4.0 in /usr/local/lib/python3.7/dist-packages (from spacy<2.4.0->pycaret) (7.4.0)\n",
            "Requirement already satisfied: murmurhash<1.1.0,>=0.28.0 in /usr/local/lib/python3.7/dist-packages (from spacy<2.4.0->pycaret) (1.0.6)\n",
            "Requirement already satisfied: preshed<3.1.0,>=3.0.2 in /usr/local/lib/python3.7/dist-packages (from spacy<2.4.0->pycaret) (3.0.6)\n",
            "Requirement already satisfied: importlib-metadata>=0.20 in /usr/local/lib/python3.7/dist-packages (from catalogue<1.1.0,>=0.0.7->spacy<2.4.0->pycaret) (4.8.2)\n",
            "Requirement already satisfied: zipp>=0.5 in /usr/local/lib/python3.7/dist-packages (from importlib-metadata>=0.20->catalogue<1.1.0,>=0.0.7->spacy<2.4.0->pycaret) (3.6.0)\n",
            "Requirement already satisfied: notebook>=4.4.1 in /usr/local/lib/python3.7/dist-packages (from widgetsnbextension~=3.5.0->ipywidgets->pycaret) (5.3.1)\n",
            "Requirement already satisfied: Send2Trash in /usr/local/lib/python3.7/dist-packages (from notebook>=4.4.1->widgetsnbextension~=3.5.0->ipywidgets->pycaret) (1.8.0)\n",
            "Requirement already satisfied: nbconvert in /usr/local/lib/python3.7/dist-packages (from notebook>=4.4.1->widgetsnbextension~=3.5.0->ipywidgets->pycaret) (5.6.1)\n",
            "Requirement already satisfied: terminado>=0.8.1 in /usr/local/lib/python3.7/dist-packages (from notebook>=4.4.1->widgetsnbextension~=3.5.0->ipywidgets->pycaret) (0.12.1)\n",
            "Requirement already satisfied: pyzmq>=13 in /usr/local/lib/python3.7/dist-packages (from jupyter-client->ipykernel>=4.5.1->ipywidgets->pycaret) (22.3.0)\n",
            "Requirement already satisfied: ptyprocess in /usr/local/lib/python3.7/dist-packages (from terminado>=0.8.1->notebook>=4.4.1->widgetsnbextension~=3.5.0->ipywidgets->pycaret) (0.7.0)\n",
            "Requirement already satisfied: PyWavelets in /usr/local/lib/python3.7/dist-packages (from imagehash->visions[type_image_path]==0.7.4->pandas-profiling>=2.8.0->pycaret) (1.2.0)\n",
            "Collecting prometheus-flask-exporter\n",
            "  Downloading prometheus_flask_exporter-0.18.6-py3-none-any.whl (17 kB)\n",
            "Requirement already satisfied: cloudpickle in /usr/local/lib/python3.7/dist-packages (from mlflow->pycaret) (1.3.0)\n",
            "Collecting alembic<=1.4.1\n",
            "  Downloading alembic-1.4.1.tar.gz (1.1 MB)\n",
            "\u001b[K     |████████████████████████████████| 1.1 MB 53.2 MB/s \n",
            "\u001b[?25hCollecting gunicorn\n",
            "  Downloading gunicorn-20.1.0-py3-none-any.whl (79 kB)\n",
            "\u001b[K     |████████████████████████████████| 79 kB 7.5 MB/s \n",
            "\u001b[?25hRequirement already satisfied: entrypoints in /usr/local/lib/python3.7/dist-packages (from mlflow->pycaret) (0.3)\n",
            "Requirement already satisfied: sqlparse>=0.3.1 in /usr/local/lib/python3.7/dist-packages (from mlflow->pycaret) (0.4.2)\n",
            "Collecting querystring-parser\n",
            "  Downloading querystring_parser-1.2.4-py2.py3-none-any.whl (7.9 kB)\n",
            "Requirement already satisfied: Flask in /usr/local/lib/python3.7/dist-packages (from mlflow->pycaret) (1.1.4)\n",
            "Collecting gitpython>=2.1.0\n",
            "  Downloading GitPython-3.1.24-py3-none-any.whl (180 kB)\n",
            "\u001b[K     |████████████████████████████████| 180 kB 47.9 MB/s \n",
            "\u001b[?25hRequirement already satisfied: protobuf>=3.7.0 in /usr/local/lib/python3.7/dist-packages (from mlflow->pycaret) (3.17.3)\n",
            "Requirement already satisfied: click>=7.0 in /usr/local/lib/python3.7/dist-packages (from mlflow->pycaret) (7.1.2)\n",
            "Collecting docker>=4.0.0\n",
            "  Downloading docker-5.0.3-py2.py3-none-any.whl (146 kB)\n",
            "\u001b[K     |████████████████████████████████| 146 kB 60.9 MB/s \n",
            "\u001b[?25hRequirement already satisfied: packaging in /usr/local/lib/python3.7/dist-packages (from mlflow->pycaret) (21.3)\n",
            "Collecting databricks-cli>=0.8.7\n",
            "  Downloading databricks-cli-0.16.2.tar.gz (58 kB)\n",
            "\u001b[K     |████████████████████████████████| 58 kB 5.6 MB/s \n",
            "\u001b[?25hRequirement already satisfied: sqlalchemy in /usr/local/lib/python3.7/dist-packages (from mlflow->pycaret) (1.4.27)\n",
            "Collecting Mako\n",
            "  Downloading Mako-1.1.6-py2.py3-none-any.whl (75 kB)\n",
            "\u001b[K     |████████████████████████████████| 75 kB 4.2 MB/s \n",
            "\u001b[?25hCollecting python-editor>=0.3\n",
            "  Downloading python_editor-1.0.4-py3-none-any.whl (4.9 kB)\n",
            "Requirement already satisfied: tabulate>=0.7.7 in /usr/local/lib/python3.7/dist-packages (from databricks-cli>=0.8.7->mlflow->pycaret) (0.8.9)\n",
            "Collecting websocket-client>=0.32.0\n",
            "  Downloading websocket_client-1.2.3-py3-none-any.whl (53 kB)\n",
            "\u001b[K     |████████████████████████████████| 53 kB 2.1 MB/s \n",
            "\u001b[?25hCollecting gitdb<5,>=4.0.1\n",
            "  Downloading gitdb-4.0.9-py3-none-any.whl (63 kB)\n",
            "\u001b[K     |████████████████████████████████| 63 kB 1.5 MB/s \n",
            "\u001b[?25hCollecting smmap<6,>=3.0.1\n",
            "  Downloading smmap-5.0.0-py3-none-any.whl (24 kB)\n",
            "Requirement already satisfied: greenlet!=0.4.17 in /usr/local/lib/python3.7/dist-packages (from sqlalchemy->mlflow->pycaret) (1.1.2)\n",
            "Requirement already satisfied: Werkzeug<2.0,>=0.15 in /usr/local/lib/python3.7/dist-packages (from Flask->mlflow->pycaret) (1.0.1)\n",
            "Requirement already satisfied: itsdangerous<2.0,>=0.24 in /usr/local/lib/python3.7/dist-packages (from Flask->mlflow->pycaret) (1.1.0)\n",
            "Requirement already satisfied: mistune<2,>=0.8.1 in /usr/local/lib/python3.7/dist-packages (from nbconvert->notebook>=4.4.1->widgetsnbextension~=3.5.0->ipywidgets->pycaret) (0.8.4)\n",
            "Requirement already satisfied: testpath in /usr/local/lib/python3.7/dist-packages (from nbconvert->notebook>=4.4.1->widgetsnbextension~=3.5.0->ipywidgets->pycaret) (0.5.0)\n",
            "Requirement already satisfied: bleach in /usr/local/lib/python3.7/dist-packages (from nbconvert->notebook>=4.4.1->widgetsnbextension~=3.5.0->ipywidgets->pycaret) (4.1.0)\n",
            "Requirement already satisfied: pandocfilters>=1.4.1 in /usr/local/lib/python3.7/dist-packages (from nbconvert->notebook>=4.4.1->widgetsnbextension~=3.5.0->ipywidgets->pycaret) (1.5.0)\n",
            "Requirement already satisfied: defusedxml in /usr/local/lib/python3.7/dist-packages (from nbconvert->notebook>=4.4.1->widgetsnbextension~=3.5.0->ipywidgets->pycaret) (0.7.1)\n",
            "Requirement already satisfied: webencodings in /usr/local/lib/python3.7/dist-packages (from bleach->nbconvert->notebook>=4.4.1->widgetsnbextension~=3.5.0->ipywidgets->pycaret) (0.5.1)\n",
            "Requirement already satisfied: prometheus-client in /usr/local/lib/python3.7/dist-packages (from prometheus-flask-exporter->mlflow->pycaret) (0.12.0)\n",
            "Requirement already satisfied: sklearn in /usr/local/lib/python3.7/dist-packages (from pyLDAvis->pycaret) (0.0)\n",
            "Requirement already satisfied: numexpr in /usr/local/lib/python3.7/dist-packages (from pyLDAvis->pycaret) (2.7.3)\n",
            "Collecting pandas\n",
            "  Downloading pandas-1.3.5-cp37-cp37m-manylinux_2_17_x86_64.manylinux2014_x86_64.whl (11.3 MB)\n",
            "\u001b[K     |████████████████████████████████| 11.3 MB 37.8 MB/s \n",
            "\u001b[?25hRequirement already satisfied: future in /usr/local/lib/python3.7/dist-packages (from pyLDAvis->pycaret) (0.16.0)\n",
            "Collecting pyLDAvis\n",
            "  Downloading pyLDAvis-3.3.0.tar.gz (1.7 MB)\n",
            "\u001b[K     |████████████████████████████████| 1.7 MB 37.8 MB/s \n",
            "\u001b[?25h  Installing build dependencies ... \u001b[?25l\u001b[?25hdone\n",
            "  Getting requirements to build wheel ... \u001b[?25l\u001b[?25hdone\n",
            "  Installing backend dependencies ... \u001b[?25l\u001b[?25hdone\n",
            "    Preparing wheel metadata ... \u001b[?25l\u001b[?25hdone\n",
            "  Downloading pyLDAvis-3.2.2.tar.gz (1.7 MB)\n",
            "\u001b[K     |████████████████████████████████| 1.7 MB 60.7 MB/s \n",
            "\u001b[?25hCollecting funcy\n",
            "  Downloading funcy-1.16-py2.py3-none-any.whl (32 kB)\n",
            "Requirement already satisfied: numba>=0.35 in /usr/local/lib/python3.7/dist-packages (from pyod->pycaret) (0.51.2)\n",
            "Requirement already satisfied: statsmodels in /usr/local/lib/python3.7/dist-packages (from pyod->pycaret) (0.10.2)\n",
            "Requirement already satisfied: llvmlite<0.35,>=0.34.0.dev0 in /usr/local/lib/python3.7/dist-packages (from numba>=0.35->pyod->pycaret) (0.34.0)\n",
            "Requirement already satisfied: patsy>=0.4.0 in /usr/local/lib/python3.7/dist-packages (from statsmodels->pyod->pycaret) (0.5.2)\n",
            "Collecting pynndescent>=0.5\n",
            "  Downloading pynndescent-0.5.5.tar.gz (1.1 MB)\n",
            "\u001b[K     |████████████████████████████████| 1.1 MB 54.3 MB/s \n",
            "\u001b[?25hBuilding wheels for collected packages: htmlmin, imagehash, alembic, databricks-cli, pyLDAvis, pyod, umap-learn, pynndescent\n",
            "  Building wheel for htmlmin (setup.py) ... \u001b[?25l\u001b[?25hdone\n",
            "  Created wheel for htmlmin: filename=htmlmin-0.1.12-py3-none-any.whl size=27098 sha256=2a19c99d3172c3ea55277ffb3d808b1d7330328646800cea5d9921017040c246\n",
            "  Stored in directory: /root/.cache/pip/wheels/70/e1/52/5b14d250ba868768823940c3229e9950d201a26d0bd3ee8655\n",
            "  Building wheel for imagehash (setup.py) ... \u001b[?25l\u001b[?25hdone\n",
            "  Created wheel for imagehash: filename=ImageHash-4.2.1-py2.py3-none-any.whl size=295207 sha256=5b8abd32be01451a998ce1524d9fe7c654baf50116414a31f6b851584bd56daa\n",
            "  Stored in directory: /root/.cache/pip/wheels/4c/d5/59/5e3e297533ddb09407769762985d134135064c6831e29a914e\n",
            "  Building wheel for alembic (setup.py) ... \u001b[?25l\u001b[?25hdone\n",
            "  Created wheel for alembic: filename=alembic-1.4.1-py2.py3-none-any.whl size=158172 sha256=76247eef334838d6ec722c69d7261ee56f65ac88c470392fdbd53e7cb3f9461a\n",
            "  Stored in directory: /root/.cache/pip/wheels/be/5d/0a/9e13f53f4f5dfb67cd8d245bb7cdffe12f135846f491a283e3\n",
            "  Building wheel for databricks-cli (setup.py) ... \u001b[?25l\u001b[?25hdone\n",
            "  Created wheel for databricks-cli: filename=databricks_cli-0.16.2-py3-none-any.whl size=106811 sha256=6c3e4da74b01d1d473950f7822983c3cd68ee947f5a6137eafff7c1548369286\n",
            "  Stored in directory: /root/.cache/pip/wheels/f4/5c/ed/e1ce20a53095f63b27b4964abbad03e59cf3472822addf7d29\n",
            "  Building wheel for pyLDAvis (setup.py) ... \u001b[?25l\u001b[?25hdone\n",
            "  Created wheel for pyLDAvis: filename=pyLDAvis-3.2.2-py2.py3-none-any.whl size=135618 sha256=27208133d803a2f66c03ff65abb124d6b523af05a5acdf0beb4830749a57293e\n",
            "  Stored in directory: /root/.cache/pip/wheels/f8/b1/9b/560ac1931796b7303f7b517b949d2d31a4fbc512aad3b9f284\n",
            "  Building wheel for pyod (setup.py) ... \u001b[?25l\u001b[?25hdone\n",
            "  Created wheel for pyod: filename=pyod-0.9.5-py3-none-any.whl size=132699 sha256=25e0a087ae06239498fb28a3ad509dd2c8003a608e52681f2111cc9426a8fcb5\n",
            "  Stored in directory: /root/.cache/pip/wheels/3d/bb/b7/62b60fb451b33b0df1ab8006697fba7a6a49709a629055cf77\n",
            "  Building wheel for umap-learn (setup.py) ... \u001b[?25l\u001b[?25hdone\n",
            "  Created wheel for umap-learn: filename=umap_learn-0.5.2-py3-none-any.whl size=82709 sha256=2b77662c67717772b230adbf0a9b38e19433da7e4530e670d173f0a41068d543\n",
            "  Stored in directory: /root/.cache/pip/wheels/84/1b/c6/aaf68a748122632967cef4dffef68224eb16798b6793257d82\n",
            "  Building wheel for pynndescent (setup.py) ... \u001b[?25l\u001b[?25hdone\n",
            "  Created wheel for pynndescent: filename=pynndescent-0.5.5-py3-none-any.whl size=52603 sha256=6bde025383f6efe1f1f79350ee11b071e8dff4e17230de754dab5856fddf4266\n",
            "  Stored in directory: /root/.cache/pip/wheels/af/e9/33/04db1436df0757c42fda8ea6796d7a8586e23c85fac355f476\n",
            "Successfully built htmlmin imagehash alembic databricks-cli pyLDAvis pyod umap-learn pynndescent\n",
            "Installing collected packages: tangled-up-in-unicode, smmap, scipy, multimethod, joblib, websocket-client, visions, scikit-learn, requests, python-editor, Mako, imagehash, gitdb, querystring-parser, PyYAML, pynndescent, pydantic, prometheus-flask-exporter, phik, htmlmin, gunicorn, gitpython, funcy, docker, databricks-cli, alembic, umap-learn, scikit-plot, pyod, pyLDAvis, pandas-profiling, mlxtend, mlflow, lightgbm, kmodes, imbalanced-learn, Boruta, pycaret\n",
            "  Attempting uninstall: scipy\n",
            "    Found existing installation: scipy 1.4.1\n",
            "    Uninstalling scipy-1.4.1:\n",
            "      Successfully uninstalled scipy-1.4.1\n",
            "  Attempting uninstall: joblib\n",
            "    Found existing installation: joblib 1.1.0\n",
            "    Uninstalling joblib-1.1.0:\n",
            "      Successfully uninstalled joblib-1.1.0\n",
            "  Attempting uninstall: scikit-learn\n",
            "    Found existing installation: scikit-learn 1.0.1\n",
            "    Uninstalling scikit-learn-1.0.1:\n",
            "      Successfully uninstalled scikit-learn-1.0.1\n",
            "  Attempting uninstall: requests\n",
            "    Found existing installation: requests 2.23.0\n",
            "    Uninstalling requests-2.23.0:\n",
            "      Successfully uninstalled requests-2.23.0\n",
            "  Attempting uninstall: PyYAML\n",
            "    Found existing installation: PyYAML 3.13\n",
            "    Uninstalling PyYAML-3.13:\n",
            "      Successfully uninstalled PyYAML-3.13\n",
            "  Attempting uninstall: pandas-profiling\n",
            "    Found existing installation: pandas-profiling 1.4.1\n",
            "    Uninstalling pandas-profiling-1.4.1:\n",
            "      Successfully uninstalled pandas-profiling-1.4.1\n",
            "  Attempting uninstall: mlxtend\n",
            "    Found existing installation: mlxtend 0.14.0\n",
            "    Uninstalling mlxtend-0.14.0:\n",
            "      Successfully uninstalled mlxtend-0.14.0\n",
            "  Attempting uninstall: lightgbm\n",
            "    Found existing installation: lightgbm 2.2.3\n",
            "    Uninstalling lightgbm-2.2.3:\n",
            "      Successfully uninstalled lightgbm-2.2.3\n",
            "  Attempting uninstall: imbalanced-learn\n",
            "    Found existing installation: imbalanced-learn 0.8.1\n",
            "    Uninstalling imbalanced-learn-0.8.1:\n",
            "      Successfully uninstalled imbalanced-learn-0.8.1\n",
            "\u001b[31mERROR: pip's dependency resolver does not currently take into account all the packages that are installed. This behaviour is the source of the following dependency conflicts.\n",
            "google-colab 1.0.0 requires requests~=2.23.0, but you have requests 2.26.0 which is incompatible.\n",
            "datascience 0.10.6 requires folium==0.2.1, but you have folium 0.8.3 which is incompatible.\n",
            "albumentations 0.1.12 requires imgaug<0.2.7,>=0.2.5, but you have imgaug 0.2.9 which is incompatible.\u001b[0m\n",
            "Successfully installed Boruta-0.3 Mako-1.1.6 PyYAML-6.0 alembic-1.4.1 databricks-cli-0.16.2 docker-5.0.3 funcy-1.16 gitdb-4.0.9 gitpython-3.1.24 gunicorn-20.1.0 htmlmin-0.1.12 imagehash-4.2.1 imbalanced-learn-0.7.0 joblib-1.0.1 kmodes-0.11.1 lightgbm-3.3.1 mlflow-1.22.0 mlxtend-0.19.0 multimethod-1.6 pandas-profiling-3.1.0 phik-0.12.0 prometheus-flask-exporter-0.18.6 pyLDAvis-3.2.2 pycaret-2.3.5 pydantic-1.8.2 pynndescent-0.5.5 pyod-0.9.5 python-editor-1.0.4 querystring-parser-1.2.4 requests-2.26.0 scikit-learn-0.23.2 scikit-plot-0.3.7 scipy-1.5.4 smmap-5.0.0 tangled-up-in-unicode-0.1.0 umap-learn-0.5.2 visions-0.7.4 websocket-client-1.2.3\n"
          ]
        }
      ],
      "source": [
        "!pip install pycaret"
      ]
    },
    {
      "cell_type": "code",
      "execution_count": null,
      "metadata": {
        "id": "-mvMQZ96X4e6"
      },
      "outputs": [],
      "source": [
        "from pycaret.classification import *"
      ]
    },
    {
      "cell_type": "code",
      "execution_count": null,
      "metadata": {
        "id": "vygM8rwgbiGN"
      },
      "outputs": [],
      "source": [
        "train_automl = X_train.copy()\n",
        "train_automl['target'] = y_train"
      ]
    },
    {
      "cell_type": "code",
      "execution_count": null,
      "metadata": {
        "colab": {
          "base_uri": "https://localhost:8080/",
          "height": 1000
        },
        "id": "wCl9atTAX4hV",
        "outputId": "5a182c24-902c-4df9-ac7d-86c093fa7400"
      },
      "outputs": [
        {
          "data": {
            "text/html": [
              "<div>\n",
              "<style scoped>\n",
              "    .dataframe tbody tr th:only-of-type {\n",
              "        vertical-align: middle;\n",
              "    }\n",
              "\n",
              "    .dataframe tbody tr th {\n",
              "        vertical-align: top;\n",
              "    }\n",
              "\n",
              "    .dataframe thead th {\n",
              "        text-align: right;\n",
              "    }\n",
              "</style>\n",
              "<table border=\"1\" class=\"dataframe\">\n",
              "  <thead>\n",
              "    <tr style=\"text-align: right;\">\n",
              "      <th></th>\n",
              "      <th>Description</th>\n",
              "      <th>Value</th>\n",
              "    </tr>\n",
              "  </thead>\n",
              "  <tbody>\n",
              "    <tr>\n",
              "      <th>0</th>\n",
              "      <td>session_id</td>\n",
              "      <td>123</td>\n",
              "    </tr>\n",
              "    <tr>\n",
              "      <th>1</th>\n",
              "      <td>Target</td>\n",
              "      <td>target</td>\n",
              "    </tr>\n",
              "    <tr>\n",
              "      <th>2</th>\n",
              "      <td>Target Type</td>\n",
              "      <td>Binary</td>\n",
              "    </tr>\n",
              "    <tr>\n",
              "      <th>3</th>\n",
              "      <td>Label Encoded</td>\n",
              "      <td>None</td>\n",
              "    </tr>\n",
              "    <tr>\n",
              "      <th>4</th>\n",
              "      <td>Original Data</td>\n",
              "      <td>(501951, 39)</td>\n",
              "    </tr>\n",
              "    <tr>\n",
              "      <th>5</th>\n",
              "      <td>Missing Values</td>\n",
              "      <td>False</td>\n",
              "    </tr>\n",
              "    <tr>\n",
              "      <th>6</th>\n",
              "      <td>Numeric Features</td>\n",
              "      <td>15</td>\n",
              "    </tr>\n",
              "    <tr>\n",
              "      <th>7</th>\n",
              "      <td>Categorical Features</td>\n",
              "      <td>23</td>\n",
              "    </tr>\n",
              "    <tr>\n",
              "      <th>8</th>\n",
              "      <td>Ordinal Features</td>\n",
              "      <td>False</td>\n",
              "    </tr>\n",
              "    <tr>\n",
              "      <th>9</th>\n",
              "      <td>High Cardinality Features</td>\n",
              "      <td>False</td>\n",
              "    </tr>\n",
              "    <tr>\n",
              "      <th>10</th>\n",
              "      <td>High Cardinality Method</td>\n",
              "      <td>None</td>\n",
              "    </tr>\n",
              "    <tr>\n",
              "      <th>11</th>\n",
              "      <td>Transformed Train Set</td>\n",
              "      <td>(351365, 111)</td>\n",
              "    </tr>\n",
              "    <tr>\n",
              "      <th>12</th>\n",
              "      <td>Transformed Test Set</td>\n",
              "      <td>(150586, 111)</td>\n",
              "    </tr>\n",
              "    <tr>\n",
              "      <th>13</th>\n",
              "      <td>Shuffle Train-Test</td>\n",
              "      <td>True</td>\n",
              "    </tr>\n",
              "    <tr>\n",
              "      <th>14</th>\n",
              "      <td>Stratify Train-Test</td>\n",
              "      <td>False</td>\n",
              "    </tr>\n",
              "    <tr>\n",
              "      <th>15</th>\n",
              "      <td>Fold Generator</td>\n",
              "      <td>StratifiedKFold</td>\n",
              "    </tr>\n",
              "    <tr>\n",
              "      <th>16</th>\n",
              "      <td>Fold Number</td>\n",
              "      <td>10</td>\n",
              "    </tr>\n",
              "    <tr>\n",
              "      <th>17</th>\n",
              "      <td>CPU Jobs</td>\n",
              "      <td>-1</td>\n",
              "    </tr>\n",
              "    <tr>\n",
              "      <th>18</th>\n",
              "      <td>Use GPU</td>\n",
              "      <td>False</td>\n",
              "    </tr>\n",
              "    <tr>\n",
              "      <th>19</th>\n",
              "      <td>Log Experiment</td>\n",
              "      <td>False</td>\n",
              "    </tr>\n",
              "    <tr>\n",
              "      <th>20</th>\n",
              "      <td>Experiment Name</td>\n",
              "      <td>clf-default-name</td>\n",
              "    </tr>\n",
              "    <tr>\n",
              "      <th>21</th>\n",
              "      <td>USI</td>\n",
              "      <td>13d7</td>\n",
              "    </tr>\n",
              "    <tr>\n",
              "      <th>22</th>\n",
              "      <td>Imputation Type</td>\n",
              "      <td>simple</td>\n",
              "    </tr>\n",
              "    <tr>\n",
              "      <th>23</th>\n",
              "      <td>Iterative Imputation Iteration</td>\n",
              "      <td>None</td>\n",
              "    </tr>\n",
              "    <tr>\n",
              "      <th>24</th>\n",
              "      <td>Numeric Imputer</td>\n",
              "      <td>mean</td>\n",
              "    </tr>\n",
              "    <tr>\n",
              "      <th>25</th>\n",
              "      <td>Iterative Imputation Numeric Model</td>\n",
              "      <td>None</td>\n",
              "    </tr>\n",
              "    <tr>\n",
              "      <th>26</th>\n",
              "      <td>Categorical Imputer</td>\n",
              "      <td>constant</td>\n",
              "    </tr>\n",
              "    <tr>\n",
              "      <th>27</th>\n",
              "      <td>Iterative Imputation Categorical Model</td>\n",
              "      <td>None</td>\n",
              "    </tr>\n",
              "    <tr>\n",
              "      <th>28</th>\n",
              "      <td>Unknown Categoricals Handling</td>\n",
              "      <td>least_frequent</td>\n",
              "    </tr>\n",
              "    <tr>\n",
              "      <th>29</th>\n",
              "      <td>Normalize</td>\n",
              "      <td>False</td>\n",
              "    </tr>\n",
              "    <tr>\n",
              "      <th>30</th>\n",
              "      <td>Normalize Method</td>\n",
              "      <td>None</td>\n",
              "    </tr>\n",
              "    <tr>\n",
              "      <th>31</th>\n",
              "      <td>Transformation</td>\n",
              "      <td>False</td>\n",
              "    </tr>\n",
              "    <tr>\n",
              "      <th>32</th>\n",
              "      <td>Transformation Method</td>\n",
              "      <td>None</td>\n",
              "    </tr>\n",
              "    <tr>\n",
              "      <th>33</th>\n",
              "      <td>PCA</td>\n",
              "      <td>False</td>\n",
              "    </tr>\n",
              "    <tr>\n",
              "      <th>34</th>\n",
              "      <td>PCA Method</td>\n",
              "      <td>None</td>\n",
              "    </tr>\n",
              "    <tr>\n",
              "      <th>35</th>\n",
              "      <td>PCA Components</td>\n",
              "      <td>None</td>\n",
              "    </tr>\n",
              "    <tr>\n",
              "      <th>36</th>\n",
              "      <td>Ignore Low Variance</td>\n",
              "      <td>False</td>\n",
              "    </tr>\n",
              "    <tr>\n",
              "      <th>37</th>\n",
              "      <td>Combine Rare Levels</td>\n",
              "      <td>False</td>\n",
              "    </tr>\n",
              "    <tr>\n",
              "      <th>38</th>\n",
              "      <td>Rare Level Threshold</td>\n",
              "      <td>None</td>\n",
              "    </tr>\n",
              "    <tr>\n",
              "      <th>39</th>\n",
              "      <td>Numeric Binning</td>\n",
              "      <td>False</td>\n",
              "    </tr>\n",
              "    <tr>\n",
              "      <th>40</th>\n",
              "      <td>Remove Outliers</td>\n",
              "      <td>False</td>\n",
              "    </tr>\n",
              "    <tr>\n",
              "      <th>41</th>\n",
              "      <td>Outliers Threshold</td>\n",
              "      <td>None</td>\n",
              "    </tr>\n",
              "    <tr>\n",
              "      <th>42</th>\n",
              "      <td>Remove Multicollinearity</td>\n",
              "      <td>False</td>\n",
              "    </tr>\n",
              "    <tr>\n",
              "      <th>43</th>\n",
              "      <td>Multicollinearity Threshold</td>\n",
              "      <td>None</td>\n",
              "    </tr>\n",
              "    <tr>\n",
              "      <th>44</th>\n",
              "      <td>Remove Perfect Collinearity</td>\n",
              "      <td>True</td>\n",
              "    </tr>\n",
              "    <tr>\n",
              "      <th>45</th>\n",
              "      <td>Clustering</td>\n",
              "      <td>False</td>\n",
              "    </tr>\n",
              "    <tr>\n",
              "      <th>46</th>\n",
              "      <td>Clustering Iteration</td>\n",
              "      <td>None</td>\n",
              "    </tr>\n",
              "    <tr>\n",
              "      <th>47</th>\n",
              "      <td>Polynomial Features</td>\n",
              "      <td>False</td>\n",
              "    </tr>\n",
              "    <tr>\n",
              "      <th>48</th>\n",
              "      <td>Polynomial Degree</td>\n",
              "      <td>None</td>\n",
              "    </tr>\n",
              "    <tr>\n",
              "      <th>49</th>\n",
              "      <td>Trignometry Features</td>\n",
              "      <td>False</td>\n",
              "    </tr>\n",
              "    <tr>\n",
              "      <th>50</th>\n",
              "      <td>Polynomial Threshold</td>\n",
              "      <td>None</td>\n",
              "    </tr>\n",
              "    <tr>\n",
              "      <th>51</th>\n",
              "      <td>Group Features</td>\n",
              "      <td>False</td>\n",
              "    </tr>\n",
              "    <tr>\n",
              "      <th>52</th>\n",
              "      <td>Feature Selection</td>\n",
              "      <td>False</td>\n",
              "    </tr>\n",
              "    <tr>\n",
              "      <th>53</th>\n",
              "      <td>Feature Selection Method</td>\n",
              "      <td>classic</td>\n",
              "    </tr>\n",
              "    <tr>\n",
              "      <th>54</th>\n",
              "      <td>Features Selection Threshold</td>\n",
              "      <td>None</td>\n",
              "    </tr>\n",
              "    <tr>\n",
              "      <th>55</th>\n",
              "      <td>Feature Interaction</td>\n",
              "      <td>False</td>\n",
              "    </tr>\n",
              "    <tr>\n",
              "      <th>56</th>\n",
              "      <td>Feature Ratio</td>\n",
              "      <td>False</td>\n",
              "    </tr>\n",
              "    <tr>\n",
              "      <th>57</th>\n",
              "      <td>Interaction Threshold</td>\n",
              "      <td>None</td>\n",
              "    </tr>\n",
              "    <tr>\n",
              "      <th>58</th>\n",
              "      <td>Fix Imbalance</td>\n",
              "      <td>False</td>\n",
              "    </tr>\n",
              "    <tr>\n",
              "      <th>59</th>\n",
              "      <td>Fix Imbalance Method</td>\n",
              "      <td>SMOTE</td>\n",
              "    </tr>\n",
              "  </tbody>\n",
              "</table>\n",
              "</div>"
            ],
            "text/plain": [
              "                               Description             Value\n",
              "0                               session_id               123\n",
              "1                                   Target            target\n",
              "2                              Target Type            Binary\n",
              "3                            Label Encoded              None\n",
              "4                            Original Data      (501951, 39)\n",
              "5                           Missing Values             False\n",
              "6                         Numeric Features                15\n",
              "7                     Categorical Features                23\n",
              "8                         Ordinal Features             False\n",
              "9                High Cardinality Features             False\n",
              "10                 High Cardinality Method              None\n",
              "11                   Transformed Train Set     (351365, 111)\n",
              "12                    Transformed Test Set     (150586, 111)\n",
              "13                      Shuffle Train-Test              True\n",
              "14                     Stratify Train-Test             False\n",
              "15                          Fold Generator   StratifiedKFold\n",
              "16                             Fold Number                10\n",
              "17                                CPU Jobs                -1\n",
              "18                                 Use GPU             False\n",
              "19                          Log Experiment             False\n",
              "20                         Experiment Name  clf-default-name\n",
              "21                                     USI              13d7\n",
              "22                         Imputation Type            simple\n",
              "23          Iterative Imputation Iteration              None\n",
              "24                         Numeric Imputer              mean\n",
              "25      Iterative Imputation Numeric Model              None\n",
              "26                     Categorical Imputer          constant\n",
              "27  Iterative Imputation Categorical Model              None\n",
              "28           Unknown Categoricals Handling    least_frequent\n",
              "29                               Normalize             False\n",
              "30                        Normalize Method              None\n",
              "31                          Transformation             False\n",
              "32                   Transformation Method              None\n",
              "33                                     PCA             False\n",
              "34                              PCA Method              None\n",
              "35                          PCA Components              None\n",
              "36                     Ignore Low Variance             False\n",
              "37                     Combine Rare Levels             False\n",
              "38                    Rare Level Threshold              None\n",
              "39                         Numeric Binning             False\n",
              "40                         Remove Outliers             False\n",
              "41                      Outliers Threshold              None\n",
              "42                Remove Multicollinearity             False\n",
              "43             Multicollinearity Threshold              None\n",
              "44             Remove Perfect Collinearity              True\n",
              "45                              Clustering             False\n",
              "46                    Clustering Iteration              None\n",
              "47                     Polynomial Features             False\n",
              "48                       Polynomial Degree              None\n",
              "49                    Trignometry Features             False\n",
              "50                    Polynomial Threshold              None\n",
              "51                          Group Features             False\n",
              "52                       Feature Selection             False\n",
              "53                Feature Selection Method           classic\n",
              "54            Features Selection Threshold              None\n",
              "55                     Feature Interaction             False\n",
              "56                           Feature Ratio             False\n",
              "57                   Interaction Threshold              None\n",
              "58                           Fix Imbalance             False\n",
              "59                    Fix Imbalance Method             SMOTE"
            ]
          },
          "metadata": {},
          "output_type": "display_data"
        }
      ],
      "source": [
        "clf = setup(data = train_automl, target = 'target', silent = True, session_id=123)"
      ]
    },
    {
      "cell_type": "code",
      "execution_count": null,
      "metadata": {
        "colab": {
          "base_uri": "https://localhost:8080/",
          "height": 488
        },
        "id": "6TKqw00YX5FG",
        "outputId": "8b83fb82-cf7e-4c34-f369-26c939fd219e"
      },
      "outputs": [
        {
          "data": {
            "text/html": [
              "<div>\n",
              "<style scoped>\n",
              "    .dataframe tbody tr th:only-of-type {\n",
              "        vertical-align: middle;\n",
              "    }\n",
              "\n",
              "    .dataframe tbody tr th {\n",
              "        vertical-align: top;\n",
              "    }\n",
              "\n",
              "    .dataframe thead th {\n",
              "        text-align: right;\n",
              "    }\n",
              "</style>\n",
              "<table border=\"1\" class=\"dataframe\">\n",
              "  <thead>\n",
              "    <tr style=\"text-align: right;\">\n",
              "      <th></th>\n",
              "      <th>Model</th>\n",
              "      <th>Accuracy</th>\n",
              "      <th>AUC</th>\n",
              "      <th>Recall</th>\n",
              "      <th>Prec.</th>\n",
              "      <th>F1</th>\n",
              "      <th>Kappa</th>\n",
              "      <th>MCC</th>\n",
              "      <th>TT (Sec)</th>\n",
              "    </tr>\n",
              "  </thead>\n",
              "  <tbody>\n",
              "    <tr>\n",
              "      <th>qda</th>\n",
              "      <td>Quadratic Discriminant Analysis</td>\n",
              "      <td>0.5014</td>\n",
              "      <td>0.5015</td>\n",
              "      <td>0.8875</td>\n",
              "      <td>0.5008</td>\n",
              "      <td>0.6382</td>\n",
              "      <td>0.0029</td>\n",
              "      <td>0.0044</td>\n",
              "      <td>7.368</td>\n",
              "    </tr>\n",
              "    <tr>\n",
              "      <th>lightgbm</th>\n",
              "      <td>Light Gradient Boosting Machine</td>\n",
              "      <td>0.6128</td>\n",
              "      <td>0.6593</td>\n",
              "      <td>0.6640</td>\n",
              "      <td>0.6023</td>\n",
              "      <td>0.6317</td>\n",
              "      <td>0.2256</td>\n",
              "      <td>0.2268</td>\n",
              "      <td>8.144</td>\n",
              "    </tr>\n",
              "    <tr>\n",
              "      <th>rf</th>\n",
              "      <td>Random Forest Classifier</td>\n",
              "      <td>0.6083</td>\n",
              "      <td>0.6542</td>\n",
              "      <td>0.6211</td>\n",
              "      <td>0.6055</td>\n",
              "      <td>0.6132</td>\n",
              "      <td>0.2166</td>\n",
              "      <td>0.2166</td>\n",
              "      <td>102.734</td>\n",
              "    </tr>\n",
              "    <tr>\n",
              "      <th>gbc</th>\n",
              "      <td>Gradient Boosting Classifier</td>\n",
              "      <td>0.5992</td>\n",
              "      <td>0.6417</td>\n",
              "      <td>0.6339</td>\n",
              "      <td>0.5927</td>\n",
              "      <td>0.6126</td>\n",
              "      <td>0.1983</td>\n",
              "      <td>0.1988</td>\n",
              "      <td>162.244</td>\n",
              "    </tr>\n",
              "    <tr>\n",
              "      <th>ada</th>\n",
              "      <td>Ada Boost Classifier</td>\n",
              "      <td>0.5931</td>\n",
              "      <td>0.6322</td>\n",
              "      <td>0.6221</td>\n",
              "      <td>0.5879</td>\n",
              "      <td>0.6045</td>\n",
              "      <td>0.1862</td>\n",
              "      <td>0.1865</td>\n",
              "      <td>33.644</td>\n",
              "    </tr>\n",
              "    <tr>\n",
              "      <th>et</th>\n",
              "      <td>Extra Trees Classifier</td>\n",
              "      <td>0.6011</td>\n",
              "      <td>0.6429</td>\n",
              "      <td>0.6055</td>\n",
              "      <td>0.6002</td>\n",
              "      <td>0.6028</td>\n",
              "      <td>0.2023</td>\n",
              "      <td>0.2023</td>\n",
              "      <td>112.454</td>\n",
              "    </tr>\n",
              "    <tr>\n",
              "      <th>ridge</th>\n",
              "      <td>Ridge Classifier</td>\n",
              "      <td>0.5884</td>\n",
              "      <td>0.0000</td>\n",
              "      <td>0.6047</td>\n",
              "      <td>0.5856</td>\n",
              "      <td>0.5950</td>\n",
              "      <td>0.1769</td>\n",
              "      <td>0.1770</td>\n",
              "      <td>0.762</td>\n",
              "    </tr>\n",
              "    <tr>\n",
              "      <th>lda</th>\n",
              "      <td>Linear Discriminant Analysis</td>\n",
              "      <td>0.5884</td>\n",
              "      <td>0.6235</td>\n",
              "      <td>0.6047</td>\n",
              "      <td>0.5856</td>\n",
              "      <td>0.5950</td>\n",
              "      <td>0.1769</td>\n",
              "      <td>0.1770</td>\n",
              "      <td>11.082</td>\n",
              "    </tr>\n",
              "    <tr>\n",
              "      <th>dt</th>\n",
              "      <td>Decision Tree Classifier</td>\n",
              "      <td>0.5440</td>\n",
              "      <td>0.5440</td>\n",
              "      <td>0.5440</td>\n",
              "      <td>0.5440</td>\n",
              "      <td>0.5440</td>\n",
              "      <td>0.0881</td>\n",
              "      <td>0.0881</td>\n",
              "      <td>11.580</td>\n",
              "    </tr>\n",
              "    <tr>\n",
              "      <th>knn</th>\n",
              "      <td>K Neighbors Classifier</td>\n",
              "      <td>0.5324</td>\n",
              "      <td>0.5422</td>\n",
              "      <td>0.5475</td>\n",
              "      <td>0.5314</td>\n",
              "      <td>0.5393</td>\n",
              "      <td>0.0648</td>\n",
              "      <td>0.0648</td>\n",
              "      <td>20.422</td>\n",
              "    </tr>\n",
              "    <tr>\n",
              "      <th>nb</th>\n",
              "      <td>Naive Bayes</td>\n",
              "      <td>0.5360</td>\n",
              "      <td>0.5520</td>\n",
              "      <td>0.5382</td>\n",
              "      <td>0.5358</td>\n",
              "      <td>0.5370</td>\n",
              "      <td>0.0721</td>\n",
              "      <td>0.0721</td>\n",
              "      <td>0.832</td>\n",
              "    </tr>\n",
              "    <tr>\n",
              "      <th>lr</th>\n",
              "      <td>Logistic Regression</td>\n",
              "      <td>0.5239</td>\n",
              "      <td>0.5364</td>\n",
              "      <td>0.4101</td>\n",
              "      <td>0.5309</td>\n",
              "      <td>0.4627</td>\n",
              "      <td>0.0478</td>\n",
              "      <td>0.0491</td>\n",
              "      <td>5.288</td>\n",
              "    </tr>\n",
              "    <tr>\n",
              "      <th>svm</th>\n",
              "      <td>SVM - Linear Kernel</td>\n",
              "      <td>0.5010</td>\n",
              "      <td>0.0000</td>\n",
              "      <td>0.4101</td>\n",
              "      <td>0.5409</td>\n",
              "      <td>0.2862</td>\n",
              "      <td>0.0019</td>\n",
              "      <td>0.0069</td>\n",
              "      <td>93.228</td>\n",
              "    </tr>\n",
              "    <tr>\n",
              "      <th>dummy</th>\n",
              "      <td>Dummy Classifier</td>\n",
              "      <td>0.5000</td>\n",
              "      <td>0.5000</td>\n",
              "      <td>0.0000</td>\n",
              "      <td>0.0000</td>\n",
              "      <td>0.0000</td>\n",
              "      <td>0.0000</td>\n",
              "      <td>0.0000</td>\n",
              "      <td>0.390</td>\n",
              "    </tr>\n",
              "  </tbody>\n",
              "</table>\n",
              "</div>"
            ],
            "text/plain": [
              "                                    Model  Accuracy     AUC  Recall   Prec.  \\\n",
              "qda       Quadratic Discriminant Analysis    0.5014  0.5015  0.8875  0.5008   \n",
              "lightgbm  Light Gradient Boosting Machine    0.6128  0.6593  0.6640  0.6023   \n",
              "rf               Random Forest Classifier    0.6083  0.6542  0.6211  0.6055   \n",
              "gbc          Gradient Boosting Classifier    0.5992  0.6417  0.6339  0.5927   \n",
              "ada                  Ada Boost Classifier    0.5931  0.6322  0.6221  0.5879   \n",
              "et                 Extra Trees Classifier    0.6011  0.6429  0.6055  0.6002   \n",
              "ridge                    Ridge Classifier    0.5884  0.0000  0.6047  0.5856   \n",
              "lda          Linear Discriminant Analysis    0.5884  0.6235  0.6047  0.5856   \n",
              "dt               Decision Tree Classifier    0.5440  0.5440  0.5440  0.5440   \n",
              "knn                K Neighbors Classifier    0.5324  0.5422  0.5475  0.5314   \n",
              "nb                            Naive Bayes    0.5360  0.5520  0.5382  0.5358   \n",
              "lr                    Logistic Regression    0.5239  0.5364  0.4101  0.5309   \n",
              "svm                   SVM - Linear Kernel    0.5010  0.0000  0.4101  0.5409   \n",
              "dummy                    Dummy Classifier    0.5000  0.5000  0.0000  0.0000   \n",
              "\n",
              "              F1   Kappa     MCC  TT (Sec)  \n",
              "qda       0.6382  0.0029  0.0044     7.368  \n",
              "lightgbm  0.6317  0.2256  0.2268     8.144  \n",
              "rf        0.6132  0.2166  0.2166   102.734  \n",
              "gbc       0.6126  0.1983  0.1988   162.244  \n",
              "ada       0.6045  0.1862  0.1865    33.644  \n",
              "et        0.6028  0.2023  0.2023   112.454  \n",
              "ridge     0.5950  0.1769  0.1770     0.762  \n",
              "lda       0.5950  0.1769  0.1770    11.082  \n",
              "dt        0.5440  0.0881  0.0881    11.580  \n",
              "knn       0.5393  0.0648  0.0648    20.422  \n",
              "nb        0.5370  0.0721  0.0721     0.832  \n",
              "lr        0.4627  0.0478  0.0491     5.288  \n",
              "svm       0.2862  0.0019  0.0069    93.228  \n",
              "dummy     0.0000  0.0000  0.0000     0.390  "
            ]
          },
          "metadata": {},
          "output_type": "display_data"
        }
      ],
      "source": [
        "best_3 = compare_models(sort = 'F1', n_select = 3, fold= 5)"
      ]
    },
    {
      "cell_type": "markdown",
      "metadata": {
        "id": "X6lbfp3iLaIN"
      },
      "source": [
        "- 베이즈 통계와 생성모델에 기반한 나이브 베이즈\n",
        "  - Naive Bayes\t\n",
        "\n",
        "- 독립변수와 종속변수의 선형 관계성에 기반한 로지스틱 회귀\n",
        "  - Logistic Regression\t\n",
        ": 회귀를 사용하여 데이터가 어떤 범주에 속할 확률을 0에서 1 사이의 값으로 예측하고 그 확률에 따라 가능성이 더 높은 범주에 속하는 것으로 분류해주는 지도 학습 알고리즘\n",
        "  - https://hleecaster.com/ml-logistic-regression-concept/\n",
        "\n",
        "- 데이터 균일도에 따른 규칙 기반의 결정트리\n",
        "  - Decision Tree Classifier\t\n",
        "\n",
        "- 개별 글래스 간의 최대 분류 마진을 효과적으로 찾아주는 서포트 벡터 머신\n",
        "  - SVM - Linear Kernel\t\n",
        "  - https://ko.wikipedia.org/wiki/%EC%84%9C%ED%8F%AC%ED%8A%B8_%EB%B2%A1%ED%84%B0_%EB%A8%B8%EC%8B%A0\n",
        "\n",
        "- 근접 거리를 기준으로 하는 최소 근접 알고리즘\n",
        "  - K Neighbors Classifier\t\n",
        "  - https://ko.wikipedia.org/wiki/K-%EC%B5%9C%EA%B7%BC%EC%A0%91_%EC%9D%B4%EC%9B%83_%EC%95%8C%EA%B3%A0%EB%A6%AC%EC%A6%98\n",
        "\n",
        "- 심층 연결 기반의 신경망\n",
        "\n",
        "- 다변량 데이터에서의 차원축소를 사용한 클래스 분류 방법\n",
        "\n",
        "  - Linear Discriminant Analysis (가정 - 다변량 정규성 만족)\n",
        "  - Quadratic Discriminant Analysis\t\n",
        "  - https://ratsgo.github.io/machine%20learning/2017/03/21/LDA/\n",
        "\n",
        "- 서로 다른 머신러닝 알고리즘을 결합한 앙상블\n",
        "\n",
        "  - 보팅\n",
        "    - 하드보팅\n",
        "    - 소프트보팅\n",
        "\n",
        "- 배깅\n",
        "  - Random Forest Classifier (모든 데이터 사용)\n",
        "\n",
        "\n",
        "- ? 어디에 분류 ??\n",
        "  - Extra Trees Classifier(랜포 보다 더 랜덤한 모델, 랜덤한 피처사용)\n",
        "  - https://wyatt37.tistory.com/6\n",
        "\n",
        "- 부스팅\n",
        "  - Ada Boost Classifier (오분류 가중치)\n",
        "  - Gradient Boosting Classifier (경사하강법)\n",
        "  - XG Boosting Machine (컴퓨팅 성능 강화)\n",
        "  - Light Gradient Boosting Machine\t(비대칭 리프노드 분할)\n",
        "  - Cat Boosting Classifier\t(범주형 변수의 잔치를 반영)\n",
        "    - https://dailyheumsi.tistory.com/136\n",
        "  - NG Boosting Classifier (신경망 기반 부스팅)\t\n",
        "\n",
        "\n",
        "- 흐음\n",
        "  - Ridge Classifier\t\n",
        "  - Dummy Classifier (모델의 base line 명시)"
      ]
    },
    {
      "cell_type": "code",
      "execution_count": null,
      "metadata": {
        "colab": {
          "base_uri": "https://localhost:8080/",
          "height": 426
        },
        "id": "5aflnxgL6z8h",
        "outputId": "5b802878-fa82-450d-edf0-31e780d595ee"
      },
      "outputs": [
        {
          "data": {
            "text/html": [
              "<div>\n",
              "<style scoped>\n",
              "    .dataframe tbody tr th:only-of-type {\n",
              "        vertical-align: middle;\n",
              "    }\n",
              "\n",
              "    .dataframe tbody tr th {\n",
              "        vertical-align: top;\n",
              "    }\n",
              "\n",
              "    .dataframe thead th {\n",
              "        text-align: right;\n",
              "    }\n",
              "</style>\n",
              "<table border=\"1\" class=\"dataframe\">\n",
              "  <thead>\n",
              "    <tr style=\"text-align: right;\">\n",
              "      <th></th>\n",
              "      <th>Accuracy</th>\n",
              "      <th>AUC</th>\n",
              "      <th>Recall</th>\n",
              "      <th>Prec.</th>\n",
              "      <th>F1</th>\n",
              "      <th>Kappa</th>\n",
              "      <th>MCC</th>\n",
              "    </tr>\n",
              "  </thead>\n",
              "  <tbody>\n",
              "    <tr>\n",
              "      <th>0</th>\n",
              "      <td>0.6156</td>\n",
              "      <td>0.6587</td>\n",
              "      <td>0.6669</td>\n",
              "      <td>0.6049</td>\n",
              "      <td>0.6344</td>\n",
              "      <td>0.2313</td>\n",
              "      <td>0.2325</td>\n",
              "    </tr>\n",
              "    <tr>\n",
              "      <th>1</th>\n",
              "      <td>0.6085</td>\n",
              "      <td>0.6563</td>\n",
              "      <td>0.6587</td>\n",
              "      <td>0.5985</td>\n",
              "      <td>0.6272</td>\n",
              "      <td>0.2170</td>\n",
              "      <td>0.2181</td>\n",
              "    </tr>\n",
              "    <tr>\n",
              "      <th>2</th>\n",
              "      <td>0.6129</td>\n",
              "      <td>0.6609</td>\n",
              "      <td>0.6640</td>\n",
              "      <td>0.6024</td>\n",
              "      <td>0.6317</td>\n",
              "      <td>0.2258</td>\n",
              "      <td>0.2270</td>\n",
              "    </tr>\n",
              "    <tr>\n",
              "      <th>3</th>\n",
              "      <td>0.6104</td>\n",
              "      <td>0.6574</td>\n",
              "      <td>0.6625</td>\n",
              "      <td>0.5999</td>\n",
              "      <td>0.6297</td>\n",
              "      <td>0.2208</td>\n",
              "      <td>0.2220</td>\n",
              "    </tr>\n",
              "    <tr>\n",
              "      <th>4</th>\n",
              "      <td>0.6104</td>\n",
              "      <td>0.6576</td>\n",
              "      <td>0.6667</td>\n",
              "      <td>0.5992</td>\n",
              "      <td>0.6312</td>\n",
              "      <td>0.2208</td>\n",
              "      <td>0.2222</td>\n",
              "    </tr>\n",
              "    <tr>\n",
              "      <th>5</th>\n",
              "      <td>0.6115</td>\n",
              "      <td>0.6581</td>\n",
              "      <td>0.6626</td>\n",
              "      <td>0.6011</td>\n",
              "      <td>0.6304</td>\n",
              "      <td>0.2230</td>\n",
              "      <td>0.2242</td>\n",
              "    </tr>\n",
              "    <tr>\n",
              "      <th>6</th>\n",
              "      <td>0.6110</td>\n",
              "      <td>0.6586</td>\n",
              "      <td>0.6597</td>\n",
              "      <td>0.6011</td>\n",
              "      <td>0.6290</td>\n",
              "      <td>0.2219</td>\n",
              "      <td>0.2230</td>\n",
              "    </tr>\n",
              "    <tr>\n",
              "      <th>7</th>\n",
              "      <td>0.6119</td>\n",
              "      <td>0.6609</td>\n",
              "      <td>0.6604</td>\n",
              "      <td>0.6020</td>\n",
              "      <td>0.6299</td>\n",
              "      <td>0.2239</td>\n",
              "      <td>0.2249</td>\n",
              "    </tr>\n",
              "    <tr>\n",
              "      <th>8</th>\n",
              "      <td>0.6173</td>\n",
              "      <td>0.6642</td>\n",
              "      <td>0.6650</td>\n",
              "      <td>0.6070</td>\n",
              "      <td>0.6347</td>\n",
              "      <td>0.2345</td>\n",
              "      <td>0.2356</td>\n",
              "    </tr>\n",
              "    <tr>\n",
              "      <th>9</th>\n",
              "      <td>0.6147</td>\n",
              "      <td>0.6627</td>\n",
              "      <td>0.6629</td>\n",
              "      <td>0.6046</td>\n",
              "      <td>0.6324</td>\n",
              "      <td>0.2294</td>\n",
              "      <td>0.2305</td>\n",
              "    </tr>\n",
              "    <tr>\n",
              "      <th>Mean</th>\n",
              "      <td>0.6124</td>\n",
              "      <td>0.6596</td>\n",
              "      <td>0.6630</td>\n",
              "      <td>0.6021</td>\n",
              "      <td>0.6310</td>\n",
              "      <td>0.2248</td>\n",
              "      <td>0.2260</td>\n",
              "    </tr>\n",
              "    <tr>\n",
              "      <th>SD</th>\n",
              "      <td>0.0026</td>\n",
              "      <td>0.0024</td>\n",
              "      <td>0.0027</td>\n",
              "      <td>0.0026</td>\n",
              "      <td>0.0022</td>\n",
              "      <td>0.0051</td>\n",
              "      <td>0.0051</td>\n",
              "    </tr>\n",
              "  </tbody>\n",
              "</table>\n",
              "</div>"
            ],
            "text/plain": [
              "      Accuracy     AUC  Recall   Prec.      F1   Kappa     MCC\n",
              "0       0.6156  0.6587  0.6669  0.6049  0.6344  0.2313  0.2325\n",
              "1       0.6085  0.6563  0.6587  0.5985  0.6272  0.2170  0.2181\n",
              "2       0.6129  0.6609  0.6640  0.6024  0.6317  0.2258  0.2270\n",
              "3       0.6104  0.6574  0.6625  0.5999  0.6297  0.2208  0.2220\n",
              "4       0.6104  0.6576  0.6667  0.5992  0.6312  0.2208  0.2222\n",
              "5       0.6115  0.6581  0.6626  0.6011  0.6304  0.2230  0.2242\n",
              "6       0.6110  0.6586  0.6597  0.6011  0.6290  0.2219  0.2230\n",
              "7       0.6119  0.6609  0.6604  0.6020  0.6299  0.2239  0.2249\n",
              "8       0.6173  0.6642  0.6650  0.6070  0.6347  0.2345  0.2356\n",
              "9       0.6147  0.6627  0.6629  0.6046  0.6324  0.2294  0.2305\n",
              "Mean    0.6124  0.6596  0.6630  0.6021  0.6310  0.2248  0.2260\n",
              "SD      0.0026  0.0024  0.0027  0.0026  0.0022  0.0051  0.0051"
            ]
          },
          "metadata": {},
          "output_type": "display_data"
        }
      ],
      "source": [
        "lightgbm = create_model('lightgbm')"
      ]
    },
    {
      "cell_type": "code",
      "execution_count": null,
      "metadata": {
        "colab": {
          "base_uri": "https://localhost:8080/",
          "height": 426
        },
        "id": "rNKYWNDtBvUg",
        "outputId": "57c87966-453c-4779-eb44-aa5604b21555"
      },
      "outputs": [
        {
          "data": {
            "text/html": [
              "<div>\n",
              "<style scoped>\n",
              "    .dataframe tbody tr th:only-of-type {\n",
              "        vertical-align: middle;\n",
              "    }\n",
              "\n",
              "    .dataframe tbody tr th {\n",
              "        vertical-align: top;\n",
              "    }\n",
              "\n",
              "    .dataframe thead th {\n",
              "        text-align: right;\n",
              "    }\n",
              "</style>\n",
              "<table border=\"1\" class=\"dataframe\">\n",
              "  <thead>\n",
              "    <tr style=\"text-align: right;\">\n",
              "      <th></th>\n",
              "      <th>Accuracy</th>\n",
              "      <th>AUC</th>\n",
              "      <th>Recall</th>\n",
              "      <th>Prec.</th>\n",
              "      <th>F1</th>\n",
              "      <th>Kappa</th>\n",
              "      <th>MCC</th>\n",
              "    </tr>\n",
              "  </thead>\n",
              "  <tbody>\n",
              "    <tr>\n",
              "      <th>0</th>\n",
              "      <td>0.6110</td>\n",
              "      <td>0.6532</td>\n",
              "      <td>0.6249</td>\n",
              "      <td>0.6079</td>\n",
              "      <td>0.6163</td>\n",
              "      <td>0.2219</td>\n",
              "      <td>0.2220</td>\n",
              "    </tr>\n",
              "    <tr>\n",
              "      <th>1</th>\n",
              "      <td>0.6038</td>\n",
              "      <td>0.6480</td>\n",
              "      <td>0.6103</td>\n",
              "      <td>0.6025</td>\n",
              "      <td>0.6064</td>\n",
              "      <td>0.2077</td>\n",
              "      <td>0.2077</td>\n",
              "    </tr>\n",
              "    <tr>\n",
              "      <th>2</th>\n",
              "      <td>0.6109</td>\n",
              "      <td>0.6561</td>\n",
              "      <td>0.6196</td>\n",
              "      <td>0.6090</td>\n",
              "      <td>0.6142</td>\n",
              "      <td>0.2218</td>\n",
              "      <td>0.2218</td>\n",
              "    </tr>\n",
              "    <tr>\n",
              "      <th>3</th>\n",
              "      <td>0.6109</td>\n",
              "      <td>0.6548</td>\n",
              "      <td>0.6231</td>\n",
              "      <td>0.6082</td>\n",
              "      <td>0.6156</td>\n",
              "      <td>0.2218</td>\n",
              "      <td>0.2219</td>\n",
              "    </tr>\n",
              "    <tr>\n",
              "      <th>4</th>\n",
              "      <td>0.6107</td>\n",
              "      <td>0.6555</td>\n",
              "      <td>0.6311</td>\n",
              "      <td>0.6063</td>\n",
              "      <td>0.6184</td>\n",
              "      <td>0.2213</td>\n",
              "      <td>0.2215</td>\n",
              "    </tr>\n",
              "    <tr>\n",
              "      <th>5</th>\n",
              "      <td>0.6094</td>\n",
              "      <td>0.6557</td>\n",
              "      <td>0.6243</td>\n",
              "      <td>0.6062</td>\n",
              "      <td>0.6151</td>\n",
              "      <td>0.2189</td>\n",
              "      <td>0.2190</td>\n",
              "    </tr>\n",
              "    <tr>\n",
              "      <th>6</th>\n",
              "      <td>0.6126</td>\n",
              "      <td>0.6561</td>\n",
              "      <td>0.6236</td>\n",
              "      <td>0.6101</td>\n",
              "      <td>0.6168</td>\n",
              "      <td>0.2251</td>\n",
              "      <td>0.2252</td>\n",
              "    </tr>\n",
              "    <tr>\n",
              "      <th>7</th>\n",
              "      <td>0.6124</td>\n",
              "      <td>0.6612</td>\n",
              "      <td>0.6246</td>\n",
              "      <td>0.6096</td>\n",
              "      <td>0.6170</td>\n",
              "      <td>0.2247</td>\n",
              "      <td>0.2248</td>\n",
              "    </tr>\n",
              "    <tr>\n",
              "      <th>8</th>\n",
              "      <td>0.6112</td>\n",
              "      <td>0.6577</td>\n",
              "      <td>0.6206</td>\n",
              "      <td>0.6091</td>\n",
              "      <td>0.6148</td>\n",
              "      <td>0.2224</td>\n",
              "      <td>0.2224</td>\n",
              "    </tr>\n",
              "    <tr>\n",
              "      <th>9</th>\n",
              "      <td>0.6117</td>\n",
              "      <td>0.6591</td>\n",
              "      <td>0.6234</td>\n",
              "      <td>0.6091</td>\n",
              "      <td>0.6162</td>\n",
              "      <td>0.2234</td>\n",
              "      <td>0.2235</td>\n",
              "    </tr>\n",
              "    <tr>\n",
              "      <th>Mean</th>\n",
              "      <td>0.6105</td>\n",
              "      <td>0.6557</td>\n",
              "      <td>0.6226</td>\n",
              "      <td>0.6078</td>\n",
              "      <td>0.6151</td>\n",
              "      <td>0.2209</td>\n",
              "      <td>0.2210</td>\n",
              "    </tr>\n",
              "    <tr>\n",
              "      <th>SD</th>\n",
              "      <td>0.0024</td>\n",
              "      <td>0.0033</td>\n",
              "      <td>0.0050</td>\n",
              "      <td>0.0022</td>\n",
              "      <td>0.0031</td>\n",
              "      <td>0.0047</td>\n",
              "      <td>0.0047</td>\n",
              "    </tr>\n",
              "  </tbody>\n",
              "</table>\n",
              "</div>"
            ],
            "text/plain": [
              "      Accuracy     AUC  Recall   Prec.      F1   Kappa     MCC\n",
              "0       0.6110  0.6532  0.6249  0.6079  0.6163  0.2219  0.2220\n",
              "1       0.6038  0.6480  0.6103  0.6025  0.6064  0.2077  0.2077\n",
              "2       0.6109  0.6561  0.6196  0.6090  0.6142  0.2218  0.2218\n",
              "3       0.6109  0.6548  0.6231  0.6082  0.6156  0.2218  0.2219\n",
              "4       0.6107  0.6555  0.6311  0.6063  0.6184  0.2213  0.2215\n",
              "5       0.6094  0.6557  0.6243  0.6062  0.6151  0.2189  0.2190\n",
              "6       0.6126  0.6561  0.6236  0.6101  0.6168  0.2251  0.2252\n",
              "7       0.6124  0.6612  0.6246  0.6096  0.6170  0.2247  0.2248\n",
              "8       0.6112  0.6577  0.6206  0.6091  0.6148  0.2224  0.2224\n",
              "9       0.6117  0.6591  0.6234  0.6091  0.6162  0.2234  0.2235\n",
              "Mean    0.6105  0.6557  0.6226  0.6078  0.6151  0.2209  0.2210\n",
              "SD      0.0024  0.0033  0.0050  0.0022  0.0031  0.0047  0.0047"
            ]
          },
          "metadata": {},
          "output_type": "display_data"
        }
      ],
      "source": [
        "qda = create_model('qda')\n",
        "lightgbm = create_model('lightgbm')\n",
        "rf = create_model('rf')"
      ]
    },
    {
      "cell_type": "code",
      "execution_count": null,
      "metadata": {
        "colab": {
          "base_uri": "https://localhost:8080/",
          "height": 426
        },
        "id": "pZVj3gOIX5KA",
        "outputId": "87dd3060-7d11-4c06-bb4f-194fe482b8c4"
      },
      "outputs": [
        {
          "data": {
            "text/html": [
              "<div>\n",
              "<style scoped>\n",
              "    .dataframe tbody tr th:only-of-type {\n",
              "        vertical-align: middle;\n",
              "    }\n",
              "\n",
              "    .dataframe tbody tr th {\n",
              "        vertical-align: top;\n",
              "    }\n",
              "\n",
              "    .dataframe thead th {\n",
              "        text-align: right;\n",
              "    }\n",
              "</style>\n",
              "<table border=\"1\" class=\"dataframe\">\n",
              "  <thead>\n",
              "    <tr style=\"text-align: right;\">\n",
              "      <th></th>\n",
              "      <th>Accuracy</th>\n",
              "      <th>AUC</th>\n",
              "      <th>Recall</th>\n",
              "      <th>Prec.</th>\n",
              "      <th>F1</th>\n",
              "      <th>Kappa</th>\n",
              "      <th>MCC</th>\n",
              "    </tr>\n",
              "  </thead>\n",
              "  <tbody>\n",
              "    <tr>\n",
              "      <th>0</th>\n",
              "      <td>0.5855</td>\n",
              "      <td>0.6200</td>\n",
              "      <td>0.6630</td>\n",
              "      <td>0.5740</td>\n",
              "      <td>0.6153</td>\n",
              "      <td>0.1711</td>\n",
              "      <td>0.1732</td>\n",
              "    </tr>\n",
              "    <tr>\n",
              "      <th>1</th>\n",
              "      <td>0.5848</td>\n",
              "      <td>0.6201</td>\n",
              "      <td>0.6627</td>\n",
              "      <td>0.5734</td>\n",
              "      <td>0.6148</td>\n",
              "      <td>0.1697</td>\n",
              "      <td>0.1718</td>\n",
              "    </tr>\n",
              "    <tr>\n",
              "      <th>2</th>\n",
              "      <td>0.5890</td>\n",
              "      <td>0.6254</td>\n",
              "      <td>0.6693</td>\n",
              "      <td>0.5766</td>\n",
              "      <td>0.6195</td>\n",
              "      <td>0.1780</td>\n",
              "      <td>0.1803</td>\n",
              "    </tr>\n",
              "    <tr>\n",
              "      <th>3</th>\n",
              "      <td>0.5902</td>\n",
              "      <td>0.6260</td>\n",
              "      <td>0.6668</td>\n",
              "      <td>0.5782</td>\n",
              "      <td>0.6193</td>\n",
              "      <td>0.1804</td>\n",
              "      <td>0.1826</td>\n",
              "    </tr>\n",
              "    <tr>\n",
              "      <th>4</th>\n",
              "      <td>0.5824</td>\n",
              "      <td>0.6210</td>\n",
              "      <td>0.6653</td>\n",
              "      <td>0.5706</td>\n",
              "      <td>0.6143</td>\n",
              "      <td>0.1648</td>\n",
              "      <td>0.1671</td>\n",
              "    </tr>\n",
              "    <tr>\n",
              "      <th>5</th>\n",
              "      <td>0.5899</td>\n",
              "      <td>0.6238</td>\n",
              "      <td>0.6706</td>\n",
              "      <td>0.5774</td>\n",
              "      <td>0.6205</td>\n",
              "      <td>0.1799</td>\n",
              "      <td>0.1823</td>\n",
              "    </tr>\n",
              "    <tr>\n",
              "      <th>6</th>\n",
              "      <td>0.5912</td>\n",
              "      <td>0.6266</td>\n",
              "      <td>0.6689</td>\n",
              "      <td>0.5788</td>\n",
              "      <td>0.6206</td>\n",
              "      <td>0.1823</td>\n",
              "      <td>0.1846</td>\n",
              "    </tr>\n",
              "    <tr>\n",
              "      <th>7</th>\n",
              "      <td>0.5917</td>\n",
              "      <td>0.6273</td>\n",
              "      <td>0.6678</td>\n",
              "      <td>0.5795</td>\n",
              "      <td>0.6205</td>\n",
              "      <td>0.1834</td>\n",
              "      <td>0.1855</td>\n",
              "    </tr>\n",
              "    <tr>\n",
              "      <th>8</th>\n",
              "      <td>0.5875</td>\n",
              "      <td>0.6253</td>\n",
              "      <td>0.6681</td>\n",
              "      <td>0.5753</td>\n",
              "      <td>0.6182</td>\n",
              "      <td>0.1750</td>\n",
              "      <td>0.1773</td>\n",
              "    </tr>\n",
              "    <tr>\n",
              "      <th>9</th>\n",
              "      <td>0.5941</td>\n",
              "      <td>0.6311</td>\n",
              "      <td>0.6748</td>\n",
              "      <td>0.5810</td>\n",
              "      <td>0.6244</td>\n",
              "      <td>0.1883</td>\n",
              "      <td>0.1908</td>\n",
              "    </tr>\n",
              "    <tr>\n",
              "      <th>Mean</th>\n",
              "      <td>0.5886</td>\n",
              "      <td>0.6247</td>\n",
              "      <td>0.6677</td>\n",
              "      <td>0.5765</td>\n",
              "      <td>0.6188</td>\n",
              "      <td>0.1773</td>\n",
              "      <td>0.1795</td>\n",
              "    </tr>\n",
              "    <tr>\n",
              "      <th>SD</th>\n",
              "      <td>0.0034</td>\n",
              "      <td>0.0033</td>\n",
              "      <td>0.0034</td>\n",
              "      <td>0.0030</td>\n",
              "      <td>0.0030</td>\n",
              "      <td>0.0068</td>\n",
              "      <td>0.0068</td>\n",
              "    </tr>\n",
              "  </tbody>\n",
              "</table>\n",
              "</div>"
            ],
            "text/plain": [
              "      Accuracy     AUC  Recall   Prec.      F1   Kappa     MCC\n",
              "0       0.5855  0.6200  0.6630  0.5740  0.6153  0.1711  0.1732\n",
              "1       0.5848  0.6201  0.6627  0.5734  0.6148  0.1697  0.1718\n",
              "2       0.5890  0.6254  0.6693  0.5766  0.6195  0.1780  0.1803\n",
              "3       0.5902  0.6260  0.6668  0.5782  0.6193  0.1804  0.1826\n",
              "4       0.5824  0.6210  0.6653  0.5706  0.6143  0.1648  0.1671\n",
              "5       0.5899  0.6238  0.6706  0.5774  0.6205  0.1799  0.1823\n",
              "6       0.5912  0.6266  0.6689  0.5788  0.6206  0.1823  0.1846\n",
              "7       0.5917  0.6273  0.6678  0.5795  0.6205  0.1834  0.1855\n",
              "8       0.5875  0.6253  0.6681  0.5753  0.6182  0.1750  0.1773\n",
              "9       0.5941  0.6311  0.6748  0.5810  0.6244  0.1883  0.1908\n",
              "Mean    0.5886  0.6247  0.6677  0.5765  0.6188  0.1773  0.1795\n",
              "SD      0.0034  0.0033  0.0034  0.0030  0.0030  0.0068  0.0068"
            ]
          },
          "metadata": {},
          "output_type": "display_data"
        }
      ],
      "source": [
        "qda = tune_model(qda, optimize = 'F1') "
      ]
    },
    {
      "cell_type": "code",
      "execution_count": null,
      "metadata": {
        "colab": {
          "base_uri": "https://localhost:8080/",
          "height": 426
        },
        "id": "BN1gUbCgCVc3",
        "outputId": "6545e64e-0fd7-4615-a129-fac0148f12db"
      },
      "outputs": [
        {
          "data": {
            "text/html": [
              "<div>\n",
              "<style scoped>\n",
              "    .dataframe tbody tr th:only-of-type {\n",
              "        vertical-align: middle;\n",
              "    }\n",
              "\n",
              "    .dataframe tbody tr th {\n",
              "        vertical-align: top;\n",
              "    }\n",
              "\n",
              "    .dataframe thead th {\n",
              "        text-align: right;\n",
              "    }\n",
              "</style>\n",
              "<table border=\"1\" class=\"dataframe\">\n",
              "  <thead>\n",
              "    <tr style=\"text-align: right;\">\n",
              "      <th></th>\n",
              "      <th>Accuracy</th>\n",
              "      <th>AUC</th>\n",
              "      <th>Recall</th>\n",
              "      <th>Prec.</th>\n",
              "      <th>F1</th>\n",
              "      <th>Kappa</th>\n",
              "      <th>MCC</th>\n",
              "    </tr>\n",
              "  </thead>\n",
              "  <tbody>\n",
              "    <tr>\n",
              "      <th>0</th>\n",
              "      <td>0.6217</td>\n",
              "      <td>0.6699</td>\n",
              "      <td>0.6624</td>\n",
              "      <td>0.6124</td>\n",
              "      <td>0.6365</td>\n",
              "      <td>0.2433</td>\n",
              "      <td>0.2441</td>\n",
              "    </tr>\n",
              "    <tr>\n",
              "      <th>1</th>\n",
              "      <td>0.6195</td>\n",
              "      <td>0.6660</td>\n",
              "      <td>0.6580</td>\n",
              "      <td>0.6109</td>\n",
              "      <td>0.6336</td>\n",
              "      <td>0.2389</td>\n",
              "      <td>0.2396</td>\n",
              "    </tr>\n",
              "    <tr>\n",
              "      <th>2</th>\n",
              "      <td>0.6220</td>\n",
              "      <td>0.6707</td>\n",
              "      <td>0.6657</td>\n",
              "      <td>0.6121</td>\n",
              "      <td>0.6378</td>\n",
              "      <td>0.2440</td>\n",
              "      <td>0.2449</td>\n",
              "    </tr>\n",
              "    <tr>\n",
              "      <th>3</th>\n",
              "      <td>0.6213</td>\n",
              "      <td>0.6681</td>\n",
              "      <td>0.6607</td>\n",
              "      <td>0.6125</td>\n",
              "      <td>0.6356</td>\n",
              "      <td>0.2427</td>\n",
              "      <td>0.2434</td>\n",
              "    </tr>\n",
              "    <tr>\n",
              "      <th>4</th>\n",
              "      <td>0.6211</td>\n",
              "      <td>0.6704</td>\n",
              "      <td>0.6740</td>\n",
              "      <td>0.6095</td>\n",
              "      <td>0.6402</td>\n",
              "      <td>0.2423</td>\n",
              "      <td>0.2437</td>\n",
              "    </tr>\n",
              "    <tr>\n",
              "      <th>5</th>\n",
              "      <td>0.6203</td>\n",
              "      <td>0.6674</td>\n",
              "      <td>0.6619</td>\n",
              "      <td>0.6110</td>\n",
              "      <td>0.6354</td>\n",
              "      <td>0.2406</td>\n",
              "      <td>0.2415</td>\n",
              "    </tr>\n",
              "    <tr>\n",
              "      <th>6</th>\n",
              "      <td>0.6206</td>\n",
              "      <td>0.6709</td>\n",
              "      <td>0.6600</td>\n",
              "      <td>0.6117</td>\n",
              "      <td>0.6350</td>\n",
              "      <td>0.2412</td>\n",
              "      <td>0.2419</td>\n",
              "    </tr>\n",
              "    <tr>\n",
              "      <th>7</th>\n",
              "      <td>0.6222</td>\n",
              "      <td>0.6740</td>\n",
              "      <td>0.6632</td>\n",
              "      <td>0.6129</td>\n",
              "      <td>0.6370</td>\n",
              "      <td>0.2444</td>\n",
              "      <td>0.2452</td>\n",
              "    </tr>\n",
              "    <tr>\n",
              "      <th>8</th>\n",
              "      <td>0.6272</td>\n",
              "      <td>0.6751</td>\n",
              "      <td>0.6692</td>\n",
              "      <td>0.6173</td>\n",
              "      <td>0.6422</td>\n",
              "      <td>0.2544</td>\n",
              "      <td>0.2553</td>\n",
              "    </tr>\n",
              "    <tr>\n",
              "      <th>9</th>\n",
              "      <td>0.6263</td>\n",
              "      <td>0.6741</td>\n",
              "      <td>0.6688</td>\n",
              "      <td>0.6163</td>\n",
              "      <td>0.6415</td>\n",
              "      <td>0.2525</td>\n",
              "      <td>0.2534</td>\n",
              "    </tr>\n",
              "    <tr>\n",
              "      <th>Mean</th>\n",
              "      <td>0.6222</td>\n",
              "      <td>0.6706</td>\n",
              "      <td>0.6644</td>\n",
              "      <td>0.6127</td>\n",
              "      <td>0.6375</td>\n",
              "      <td>0.2444</td>\n",
              "      <td>0.2453</td>\n",
              "    </tr>\n",
              "    <tr>\n",
              "      <th>SD</th>\n",
              "      <td>0.0024</td>\n",
              "      <td>0.0029</td>\n",
              "      <td>0.0047</td>\n",
              "      <td>0.0023</td>\n",
              "      <td>0.0028</td>\n",
              "      <td>0.0048</td>\n",
              "      <td>0.0048</td>\n",
              "    </tr>\n",
              "  </tbody>\n",
              "</table>\n",
              "</div>"
            ],
            "text/plain": [
              "      Accuracy     AUC  Recall   Prec.      F1   Kappa     MCC\n",
              "0       0.6217  0.6699  0.6624  0.6124  0.6365  0.2433  0.2441\n",
              "1       0.6195  0.6660  0.6580  0.6109  0.6336  0.2389  0.2396\n",
              "2       0.6220  0.6707  0.6657  0.6121  0.6378  0.2440  0.2449\n",
              "3       0.6213  0.6681  0.6607  0.6125  0.6356  0.2427  0.2434\n",
              "4       0.6211  0.6704  0.6740  0.6095  0.6402  0.2423  0.2437\n",
              "5       0.6203  0.6674  0.6619  0.6110  0.6354  0.2406  0.2415\n",
              "6       0.6206  0.6709  0.6600  0.6117  0.6350  0.2412  0.2419\n",
              "7       0.6222  0.6740  0.6632  0.6129  0.6370  0.2444  0.2452\n",
              "8       0.6272  0.6751  0.6692  0.6173  0.6422  0.2544  0.2553\n",
              "9       0.6263  0.6741  0.6688  0.6163  0.6415  0.2525  0.2534\n",
              "Mean    0.6222  0.6706  0.6644  0.6127  0.6375  0.2444  0.2453\n",
              "SD      0.0024  0.0029  0.0047  0.0023  0.0028  0.0048  0.0048"
            ]
          },
          "metadata": {},
          "output_type": "display_data"
        }
      ],
      "source": [
        "lightgbm = tune_model(lightgbm, optimize = 'F1') "
      ]
    },
    {
      "cell_type": "code",
      "execution_count": null,
      "metadata": {
        "colab": {
          "base_uri": "https://localhost:8080/",
          "height": 260,
          "referenced_widgets": [
            "bde408214eed4078b1af18a856998d90",
            "b9de34775ba74d55b150041188f923a0",
            "021c13f8d20d43c8abb6128213e75cda"
          ]
        },
        "id": "JF7R7PhNCVfh",
        "outputId": "9dc5173f-e3a0-413e-90e9-7389a7863bec"
      },
      "outputs": [
        {
          "data": {
            "application/vnd.jupyter.widget-view+json": {
              "model_id": "bde408214eed4078b1af18a856998d90",
              "version_major": 2,
              "version_minor": 0
            },
            "text/plain": [
              "IntProgress(value=0, description='Processing: ', max=7)"
            ]
          },
          "metadata": {},
          "output_type": "display_data"
        },
        {
          "data": {
            "text/html": [
              "<div>\n",
              "<style scoped>\n",
              "    .dataframe tbody tr th:only-of-type {\n",
              "        vertical-align: middle;\n",
              "    }\n",
              "\n",
              "    .dataframe tbody tr th {\n",
              "        vertical-align: top;\n",
              "    }\n",
              "\n",
              "    .dataframe thead th {\n",
              "        text-align: right;\n",
              "    }\n",
              "</style>\n",
              "<table border=\"1\" class=\"dataframe\">\n",
              "  <thead>\n",
              "    <tr style=\"text-align: right;\">\n",
              "      <th></th>\n",
              "      <th></th>\n",
              "      <th></th>\n",
              "    </tr>\n",
              "    <tr>\n",
              "      <th></th>\n",
              "      <th></th>\n",
              "      <th></th>\n",
              "    </tr>\n",
              "  </thead>\n",
              "  <tbody>\n",
              "    <tr>\n",
              "      <th>Initiated</th>\n",
              "      <td>. . . . . . . . . . . . . . . . . .</td>\n",
              "      <td>15:55:25</td>\n",
              "    </tr>\n",
              "    <tr>\n",
              "      <th>Status</th>\n",
              "      <td>. . . . . . . . . . . . . . . . . .</td>\n",
              "      <td>Searching Hyperparameters</td>\n",
              "    </tr>\n",
              "    <tr>\n",
              "      <th>Estimator</th>\n",
              "      <td>. . . . . . . . . . . . . . . . . .</td>\n",
              "      <td>Random Forest Classifier</td>\n",
              "    </tr>\n",
              "  </tbody>\n",
              "</table>\n",
              "</div>"
            ],
            "text/plain": [
              "                                                                         \n",
              "                                                                         \n",
              "Initiated  . . . . . . . . . . . . . . . . . .                   15:55:25\n",
              "Status     . . . . . . . . . . . . . . . . . .  Searching Hyperparameters\n",
              "Estimator  . . . . . . . . . . . . . . . . . .   Random Forest Classifier"
            ]
          },
          "metadata": {},
          "output_type": "display_data"
        },
        {
          "data": {
            "text/html": [
              "<div>\n",
              "<style scoped>\n",
              "    .dataframe tbody tr th:only-of-type {\n",
              "        vertical-align: middle;\n",
              "    }\n",
              "\n",
              "    .dataframe tbody tr th {\n",
              "        vertical-align: top;\n",
              "    }\n",
              "\n",
              "    .dataframe thead th {\n",
              "        text-align: right;\n",
              "    }\n",
              "</style>\n",
              "<table border=\"1\" class=\"dataframe\">\n",
              "  <thead>\n",
              "    <tr style=\"text-align: right;\">\n",
              "      <th></th>\n",
              "      <th>Accuracy</th>\n",
              "      <th>AUC</th>\n",
              "      <th>Recall</th>\n",
              "      <th>Prec.</th>\n",
              "      <th>F1</th>\n",
              "      <th>Kappa</th>\n",
              "      <th>MCC</th>\n",
              "    </tr>\n",
              "  </thead>\n",
              "  <tbody>\n",
              "  </tbody>\n",
              "</table>\n",
              "</div>"
            ],
            "text/plain": [
              "Empty DataFrame\n",
              "Columns: [Accuracy, AUC, Recall, Prec., F1, Kappa, MCC]\n",
              "Index: []"
            ]
          },
          "metadata": {},
          "output_type": "display_data"
        },
        {
          "name": "stdout",
          "output_type": "stream",
          "text": [
            "Fitting 10 folds for each of 10 candidates, totalling 100 fits\n"
          ]
        },
        {
          "name": "stderr",
          "output_type": "stream",
          "text": [
            "[Parallel(n_jobs=-1)]: Using backend LokyBackend with 2 concurrent workers.\n",
            "[Parallel(n_jobs=-1)]: Done  46 tasks      | elapsed: 13.3min\n"
          ]
        }
      ],
      "source": [
        "rf = tune_model(rf, optimize = 'F1') "
      ]
    },
    {
      "cell_type": "code",
      "execution_count": null,
      "metadata": {
        "id": "3rxJy9BjX5M5"
      },
      "outputs": [],
      "source": [
        "blender_top3 = blend_models(estimator_list = [qda,lightgbm,rf], method = 'soft')"
      ]
    },
    {
      "cell_type": "code",
      "execution_count": null,
      "metadata": {
        "id": "JAN7gHPsp09q"
      },
      "outputs": [],
      "source": [
        "pred_holdout = predict_model(blender_top3)"
      ]
    },
    {
      "cell_type": "code",
      "execution_count": null,
      "metadata": {
        "id": "o5zfUFV3X5Pq"
      },
      "outputs": [],
      "source": [
        "final_model = finalize_model(lightgbm)\n",
        "prediction = predict_model(final_model, data=X_test)"
      ]
    },
    {
      "cell_type": "code",
      "execution_count": null,
      "metadata": {
        "id": "owObBUorX5SK"
      },
      "outputs": [],
      "source": [
        "prediction.to_csv(path + 'prediction.csv')"
      ]
    },
    {
      "cell_type": "code",
      "execution_count": null,
      "metadata": {
        "colab": {
          "base_uri": "https://localhost:8080/",
          "height": 443
        },
        "id": "AYWdNF19X5Um",
        "outputId": "ae6f4527-b0de-44c9-bffb-f40af30f8a24"
      },
      "outputs": [
        {
          "data": {
            "text/html": [
              "<div>\n",
              "<style scoped>\n",
              "    .dataframe tbody tr th:only-of-type {\n",
              "        vertical-align: middle;\n",
              "    }\n",
              "\n",
              "    .dataframe tbody tr th {\n",
              "        vertical-align: top;\n",
              "    }\n",
              "\n",
              "    .dataframe thead th {\n",
              "        text-align: right;\n",
              "    }\n",
              "</style>\n",
              "<table border=\"1\" class=\"dataframe\">\n",
              "  <thead>\n",
              "    <tr style=\"text-align: right;\">\n",
              "      <th></th>\n",
              "      <th>d_l_match_yn</th>\n",
              "      <th>d_m_match_yn</th>\n",
              "      <th>d_s_match_yn</th>\n",
              "      <th>h_l_match_yn</th>\n",
              "      <th>h_m_match_yn</th>\n",
              "      <th>h_s_match_yn</th>\n",
              "      <th>person_attribute_a</th>\n",
              "      <th>person_attribute_a_1</th>\n",
              "      <th>person_attribute_b</th>\n",
              "      <th>person_prefer_c</th>\n",
              "      <th>person_prefer_d_1</th>\n",
              "      <th>person_prefer_d_2</th>\n",
              "      <th>person_prefer_d_3</th>\n",
              "      <th>person_prefer_e</th>\n",
              "      <th>person_prefer_f</th>\n",
              "      <th>person_prefer_g</th>\n",
              "      <th>person_prefer_h_1</th>\n",
              "      <th>person_prefer_h_2</th>\n",
              "      <th>person_prefer_h_3</th>\n",
              "      <th>contents_attribute_i</th>\n",
              "      <th>contents_attribute_a</th>\n",
              "      <th>contents_attribute_j_1</th>\n",
              "      <th>contents_attribute_j</th>\n",
              "      <th>contents_attribute_c</th>\n",
              "      <th>contents_attribute_k</th>\n",
              "      <th>contents_attribute_l</th>\n",
              "      <th>contents_attribute_d</th>\n",
              "      <th>contents_attribute_m</th>\n",
              "      <th>contents_attribute_e</th>\n",
              "      <th>contents_attribute_h</th>\n",
              "      <th>person_rn</th>\n",
              "      <th>contents_rn</th>\n",
              "      <th>month</th>\n",
              "      <th>day</th>\n",
              "      <th>week</th>\n",
              "      <th>dayofweek</th>\n",
              "      <th>hour</th>\n",
              "      <th>minute</th>\n",
              "      <th>Label</th>\n",
              "      <th>Score</th>\n",
              "    </tr>\n",
              "  </thead>\n",
              "  <tbody>\n",
              "    <tr>\n",
              "      <th>0</th>\n",
              "      <td>1</td>\n",
              "      <td>0</td>\n",
              "      <td>0</td>\n",
              "      <td>1</td>\n",
              "      <td>1</td>\n",
              "      <td>1</td>\n",
              "      <td>1</td>\n",
              "      <td>1</td>\n",
              "      <td>2</td>\n",
              "      <td>1</td>\n",
              "      <td>857</td>\n",
              "      <td>851</td>\n",
              "      <td>1227</td>\n",
              "      <td>4</td>\n",
              "      <td>1</td>\n",
              "      <td>1</td>\n",
              "      <td>263</td>\n",
              "      <td>56</td>\n",
              "      <td>49</td>\n",
              "      <td>1</td>\n",
              "      <td>3</td>\n",
              "      <td>10</td>\n",
              "      <td>2</td>\n",
              "      <td>1</td>\n",
              "      <td>2</td>\n",
              "      <td>1147</td>\n",
              "      <td>839</td>\n",
              "      <td>1</td>\n",
              "      <td>5</td>\n",
              "      <td>263</td>\n",
              "      <td>393790</td>\n",
              "      <td>236865</td>\n",
              "      <td>12</td>\n",
              "      <td>1</td>\n",
              "      <td>49</td>\n",
              "      <td>1</td>\n",
              "      <td>2</td>\n",
              "      <td>24</td>\n",
              "      <td>0</td>\n",
              "      <td>0.5952</td>\n",
              "    </tr>\n",
              "    <tr>\n",
              "      <th>1</th>\n",
              "      <td>0</td>\n",
              "      <td>0</td>\n",
              "      <td>0</td>\n",
              "      <td>1</td>\n",
              "      <td>0</td>\n",
              "      <td>0</td>\n",
              "      <td>2</td>\n",
              "      <td>0</td>\n",
              "      <td>2</td>\n",
              "      <td>2</td>\n",
              "      <td>683</td>\n",
              "      <td>1086</td>\n",
              "      <td>662</td>\n",
              "      <td>2</td>\n",
              "      <td>1</td>\n",
              "      <td>1</td>\n",
              "      <td>258</td>\n",
              "      <td>263</td>\n",
              "      <td>49</td>\n",
              "      <td>1</td>\n",
              "      <td>3</td>\n",
              "      <td>5</td>\n",
              "      <td>1</td>\n",
              "      <td>1</td>\n",
              "      <td>2</td>\n",
              "      <td>1611</td>\n",
              "      <td>278</td>\n",
              "      <td>1</td>\n",
              "      <td>4</td>\n",
              "      <td>263</td>\n",
              "      <td>394058</td>\n",
              "      <td>236572</td>\n",
              "      <td>12</td>\n",
              "      <td>17</td>\n",
              "      <td>51</td>\n",
              "      <td>3</td>\n",
              "      <td>5</td>\n",
              "      <td>42</td>\n",
              "      <td>0</td>\n",
              "      <td>0.7370</td>\n",
              "    </tr>\n",
              "    <tr>\n",
              "      <th>2</th>\n",
              "      <td>1</td>\n",
              "      <td>0</td>\n",
              "      <td>0</td>\n",
              "      <td>1</td>\n",
              "      <td>1</td>\n",
              "      <td>1</td>\n",
              "      <td>2</td>\n",
              "      <td>3</td>\n",
              "      <td>2</td>\n",
              "      <td>1</td>\n",
              "      <td>514</td>\n",
              "      <td>790</td>\n",
              "      <td>1233</td>\n",
              "      <td>0</td>\n",
              "      <td>1</td>\n",
              "      <td>1</td>\n",
              "      <td>177</td>\n",
              "      <td>170</td>\n",
              "      <td>171</td>\n",
              "      <td>3</td>\n",
              "      <td>3</td>\n",
              "      <td>3</td>\n",
              "      <td>1</td>\n",
              "      <td>1</td>\n",
              "      <td>2</td>\n",
              "      <td>1817</td>\n",
              "      <td>490</td>\n",
              "      <td>3</td>\n",
              "      <td>4</td>\n",
              "      <td>177</td>\n",
              "      <td>1002061</td>\n",
              "      <td>704612</td>\n",
              "      <td>12</td>\n",
              "      <td>10</td>\n",
              "      <td>50</td>\n",
              "      <td>3</td>\n",
              "      <td>23</td>\n",
              "      <td>33</td>\n",
              "      <td>0</td>\n",
              "      <td>0.7228</td>\n",
              "    </tr>\n",
              "    <tr>\n",
              "      <th>3</th>\n",
              "      <td>1</td>\n",
              "      <td>0</td>\n",
              "      <td>0</td>\n",
              "      <td>1</td>\n",
              "      <td>1</td>\n",
              "      <td>1</td>\n",
              "      <td>1</td>\n",
              "      <td>2</td>\n",
              "      <td>2</td>\n",
              "      <td>5</td>\n",
              "      <td>114</td>\n",
              "      <td>181</td>\n",
              "      <td>175</td>\n",
              "      <td>4</td>\n",
              "      <td>1</td>\n",
              "      <td>1</td>\n",
              "      <td>177</td>\n",
              "      <td>170</td>\n",
              "      <td>171</td>\n",
              "      <td>3</td>\n",
              "      <td>3</td>\n",
              "      <td>5</td>\n",
              "      <td>1</td>\n",
              "      <td>1</td>\n",
              "      <td>2</td>\n",
              "      <td>101</td>\n",
              "      <td>150</td>\n",
              "      <td>5</td>\n",
              "      <td>3</td>\n",
              "      <td>177</td>\n",
              "      <td>1000813</td>\n",
              "      <td>704652</td>\n",
              "      <td>12</td>\n",
              "      <td>3</td>\n",
              "      <td>49</td>\n",
              "      <td>3</td>\n",
              "      <td>19</td>\n",
              "      <td>44</td>\n",
              "      <td>1</td>\n",
              "      <td>0.7092</td>\n",
              "    </tr>\n",
              "    <tr>\n",
              "      <th>4</th>\n",
              "      <td>1</td>\n",
              "      <td>0</td>\n",
              "      <td>0</td>\n",
              "      <td>1</td>\n",
              "      <td>0</td>\n",
              "      <td>0</td>\n",
              "      <td>1</td>\n",
              "      <td>6</td>\n",
              "      <td>4</td>\n",
              "      <td>5</td>\n",
              "      <td>1082</td>\n",
              "      <td>1078</td>\n",
              "      <td>1056</td>\n",
              "      <td>5</td>\n",
              "      <td>1</td>\n",
              "      <td>1</td>\n",
              "      <td>178</td>\n",
              "      <td>177</td>\n",
              "      <td>4</td>\n",
              "      <td>3</td>\n",
              "      <td>1</td>\n",
              "      <td>5</td>\n",
              "      <td>1</td>\n",
              "      <td>1</td>\n",
              "      <td>1</td>\n",
              "      <td>985</td>\n",
              "      <td>1097</td>\n",
              "      <td>1</td>\n",
              "      <td>4</td>\n",
              "      <td>177</td>\n",
              "      <td>111146</td>\n",
              "      <td>704413</td>\n",
              "      <td>12</td>\n",
              "      <td>11</td>\n",
              "      <td>50</td>\n",
              "      <td>4</td>\n",
              "      <td>21</td>\n",
              "      <td>24</td>\n",
              "      <td>1</td>\n",
              "      <td>0.5974</td>\n",
              "    </tr>\n",
              "    <tr>\n",
              "      <th>...</th>\n",
              "      <td>...</td>\n",
              "      <td>...</td>\n",
              "      <td>...</td>\n",
              "      <td>...</td>\n",
              "      <td>...</td>\n",
              "      <td>...</td>\n",
              "      <td>...</td>\n",
              "      <td>...</td>\n",
              "      <td>...</td>\n",
              "      <td>...</td>\n",
              "      <td>...</td>\n",
              "      <td>...</td>\n",
              "      <td>...</td>\n",
              "      <td>...</td>\n",
              "      <td>...</td>\n",
              "      <td>...</td>\n",
              "      <td>...</td>\n",
              "      <td>...</td>\n",
              "      <td>...</td>\n",
              "      <td>...</td>\n",
              "      <td>...</td>\n",
              "      <td>...</td>\n",
              "      <td>...</td>\n",
              "      <td>...</td>\n",
              "      <td>...</td>\n",
              "      <td>...</td>\n",
              "      <td>...</td>\n",
              "      <td>...</td>\n",
              "      <td>...</td>\n",
              "      <td>...</td>\n",
              "      <td>...</td>\n",
              "      <td>...</td>\n",
              "      <td>...</td>\n",
              "      <td>...</td>\n",
              "      <td>...</td>\n",
              "      <td>...</td>\n",
              "      <td>...</td>\n",
              "      <td>...</td>\n",
              "      <td>...</td>\n",
              "      <td>...</td>\n",
              "    </tr>\n",
              "    <tr>\n",
              "      <th>46399</th>\n",
              "      <td>1</td>\n",
              "      <td>1</td>\n",
              "      <td>1</td>\n",
              "      <td>0</td>\n",
              "      <td>0</td>\n",
              "      <td>0</td>\n",
              "      <td>2</td>\n",
              "      <td>0</td>\n",
              "      <td>4</td>\n",
              "      <td>1</td>\n",
              "      <td>147</td>\n",
              "      <td>46</td>\n",
              "      <td>145</td>\n",
              "      <td>4</td>\n",
              "      <td>1</td>\n",
              "      <td>1</td>\n",
              "      <td>2</td>\n",
              "      <td>4</td>\n",
              "      <td>95</td>\n",
              "      <td>3</td>\n",
              "      <td>3</td>\n",
              "      <td>5</td>\n",
              "      <td>1</td>\n",
              "      <td>1</td>\n",
              "      <td>2</td>\n",
              "      <td>759</td>\n",
              "      <td>147</td>\n",
              "      <td>1</td>\n",
              "      <td>5</td>\n",
              "      <td>91</td>\n",
              "      <td>425040</td>\n",
              "      <td>726084</td>\n",
              "      <td>12</td>\n",
              "      <td>17</td>\n",
              "      <td>51</td>\n",
              "      <td>3</td>\n",
              "      <td>1</td>\n",
              "      <td>6</td>\n",
              "      <td>1</td>\n",
              "      <td>0.6952</td>\n",
              "    </tr>\n",
              "    <tr>\n",
              "      <th>46400</th>\n",
              "      <td>1</td>\n",
              "      <td>0</td>\n",
              "      <td>0</td>\n",
              "      <td>1</td>\n",
              "      <td>0</td>\n",
              "      <td>0</td>\n",
              "      <td>2</td>\n",
              "      <td>0</td>\n",
              "      <td>4</td>\n",
              "      <td>1</td>\n",
              "      <td>176</td>\n",
              "      <td>120</td>\n",
              "      <td>159</td>\n",
              "      <td>4</td>\n",
              "      <td>1</td>\n",
              "      <td>1</td>\n",
              "      <td>86</td>\n",
              "      <td>31</td>\n",
              "      <td>278</td>\n",
              "      <td>3</td>\n",
              "      <td>3</td>\n",
              "      <td>10</td>\n",
              "      <td>2</td>\n",
              "      <td>1</td>\n",
              "      <td>2</td>\n",
              "      <td>759</td>\n",
              "      <td>147</td>\n",
              "      <td>1</td>\n",
              "      <td>4</td>\n",
              "      <td>91</td>\n",
              "      <td>290061</td>\n",
              "      <td>156948</td>\n",
              "      <td>12</td>\n",
              "      <td>29</td>\n",
              "      <td>53</td>\n",
              "      <td>1</td>\n",
              "      <td>21</td>\n",
              "      <td>57</td>\n",
              "      <td>1</td>\n",
              "      <td>0.6190</td>\n",
              "    </tr>\n",
              "    <tr>\n",
              "      <th>46401</th>\n",
              "      <td>1</td>\n",
              "      <td>1</td>\n",
              "      <td>0</td>\n",
              "      <td>1</td>\n",
              "      <td>1</td>\n",
              "      <td>1</td>\n",
              "      <td>2</td>\n",
              "      <td>0</td>\n",
              "      <td>3</td>\n",
              "      <td>1</td>\n",
              "      <td>145</td>\n",
              "      <td>46</td>\n",
              "      <td>147</td>\n",
              "      <td>5</td>\n",
              "      <td>1</td>\n",
              "      <td>1</td>\n",
              "      <td>288</td>\n",
              "      <td>279</td>\n",
              "      <td>278</td>\n",
              "      <td>3</td>\n",
              "      <td>3</td>\n",
              "      <td>10</td>\n",
              "      <td>2</td>\n",
              "      <td>1</td>\n",
              "      <td>2</td>\n",
              "      <td>759</td>\n",
              "      <td>147</td>\n",
              "      <td>1</td>\n",
              "      <td>4</td>\n",
              "      <td>288</td>\n",
              "      <td>307951</td>\n",
              "      <td>175069</td>\n",
              "      <td>12</td>\n",
              "      <td>10</td>\n",
              "      <td>50</td>\n",
              "      <td>3</td>\n",
              "      <td>19</td>\n",
              "      <td>9</td>\n",
              "      <td>1</td>\n",
              "      <td>0.7283</td>\n",
              "    </tr>\n",
              "    <tr>\n",
              "      <th>46402</th>\n",
              "      <td>1</td>\n",
              "      <td>1</td>\n",
              "      <td>0</td>\n",
              "      <td>1</td>\n",
              "      <td>1</td>\n",
              "      <td>1</td>\n",
              "      <td>1</td>\n",
              "      <td>3</td>\n",
              "      <td>3</td>\n",
              "      <td>2</td>\n",
              "      <td>145</td>\n",
              "      <td>46</td>\n",
              "      <td>147</td>\n",
              "      <td>6</td>\n",
              "      <td>1</td>\n",
              "      <td>1</td>\n",
              "      <td>288</td>\n",
              "      <td>279</td>\n",
              "      <td>278</td>\n",
              "      <td>3</td>\n",
              "      <td>1</td>\n",
              "      <td>5</td>\n",
              "      <td>1</td>\n",
              "      <td>3</td>\n",
              "      <td>2</td>\n",
              "      <td>759</td>\n",
              "      <td>147</td>\n",
              "      <td>1</td>\n",
              "      <td>5</td>\n",
              "      <td>288</td>\n",
              "      <td>308354</td>\n",
              "      <td>174849</td>\n",
              "      <td>12</td>\n",
              "      <td>7</td>\n",
              "      <td>50</td>\n",
              "      <td>0</td>\n",
              "      <td>14</td>\n",
              "      <td>4</td>\n",
              "      <td>1</td>\n",
              "      <td>0.6984</td>\n",
              "    </tr>\n",
              "    <tr>\n",
              "      <th>46403</th>\n",
              "      <td>1</td>\n",
              "      <td>1</td>\n",
              "      <td>0</td>\n",
              "      <td>1</td>\n",
              "      <td>1</td>\n",
              "      <td>1</td>\n",
              "      <td>1</td>\n",
              "      <td>2</td>\n",
              "      <td>4</td>\n",
              "      <td>1</td>\n",
              "      <td>145</td>\n",
              "      <td>46</td>\n",
              "      <td>147</td>\n",
              "      <td>0</td>\n",
              "      <td>1</td>\n",
              "      <td>1</td>\n",
              "      <td>288</td>\n",
              "      <td>280</td>\n",
              "      <td>283</td>\n",
              "      <td>3</td>\n",
              "      <td>1</td>\n",
              "      <td>5</td>\n",
              "      <td>1</td>\n",
              "      <td>1</td>\n",
              "      <td>2</td>\n",
              "      <td>759</td>\n",
              "      <td>147</td>\n",
              "      <td>2</td>\n",
              "      <td>5</td>\n",
              "      <td>288</td>\n",
              "      <td>309401</td>\n",
              "      <td>173406</td>\n",
              "      <td>12</td>\n",
              "      <td>22</td>\n",
              "      <td>52</td>\n",
              "      <td>1</td>\n",
              "      <td>16</td>\n",
              "      <td>43</td>\n",
              "      <td>1</td>\n",
              "      <td>0.7299</td>\n",
              "    </tr>\n",
              "  </tbody>\n",
              "</table>\n",
              "<p>46404 rows × 40 columns</p>\n",
              "</div>"
            ],
            "text/plain": [
              "       d_l_match_yn  d_m_match_yn  d_s_match_yn  ...  minute  Label   Score\n",
              "0                 1             0             0  ...      24      0  0.5952\n",
              "1                 0             0             0  ...      42      0  0.7370\n",
              "2                 1             0             0  ...      33      0  0.7228\n",
              "3                 1             0             0  ...      44      1  0.7092\n",
              "4                 1             0             0  ...      24      1  0.5974\n",
              "...             ...           ...           ...  ...     ...    ...     ...\n",
              "46399             1             1             1  ...       6      1  0.6952\n",
              "46400             1             0             0  ...      57      1  0.6190\n",
              "46401             1             1             0  ...       9      1  0.7283\n",
              "46402             1             1             0  ...       4      1  0.6984\n",
              "46403             1             1             0  ...      43      1  0.7299\n",
              "\n",
              "[46404 rows x 40 columns]"
            ]
          },
          "execution_count": 17,
          "metadata": {},
          "output_type": "execute_result"
        }
      ],
      "source": [
        "prediction"
      ]
    },
    {
      "cell_type": "code",
      "execution_count": null,
      "metadata": {
        "id": "IwFz5LHYX5ZV"
      },
      "outputs": [],
      "source": [
        "submission['target'] = prediction['Label']"
      ]
    },
    {
      "cell_type": "code",
      "execution_count": null,
      "metadata": {
        "id": "lsNf2z6CX5cA"
      },
      "outputs": [],
      "source": [
        "submission.to_csv(path + 'prediction.csv', index = False)"
      ]
    },
    {
      "cell_type": "code",
      "execution_count": null,
      "metadata": {
        "colab": {
          "base_uri": "https://localhost:8080/",
          "height": 423
        },
        "id": "Kt53SIrEX5fS",
        "outputId": "2c326a35-3f74-43f0-ad63-133bb6b81e1f"
      },
      "outputs": [
        {
          "data": {
            "text/html": [
              "<div>\n",
              "<style scoped>\n",
              "    .dataframe tbody tr th:only-of-type {\n",
              "        vertical-align: middle;\n",
              "    }\n",
              "\n",
              "    .dataframe tbody tr th {\n",
              "        vertical-align: top;\n",
              "    }\n",
              "\n",
              "    .dataframe thead th {\n",
              "        text-align: right;\n",
              "    }\n",
              "</style>\n",
              "<table border=\"1\" class=\"dataframe\">\n",
              "  <thead>\n",
              "    <tr style=\"text-align: right;\">\n",
              "      <th></th>\n",
              "      <th>id</th>\n",
              "      <th>target</th>\n",
              "    </tr>\n",
              "  </thead>\n",
              "  <tbody>\n",
              "    <tr>\n",
              "      <th>0</th>\n",
              "      <td>0</td>\n",
              "      <td>0</td>\n",
              "    </tr>\n",
              "    <tr>\n",
              "      <th>1</th>\n",
              "      <td>1</td>\n",
              "      <td>0</td>\n",
              "    </tr>\n",
              "    <tr>\n",
              "      <th>2</th>\n",
              "      <td>2</td>\n",
              "      <td>0</td>\n",
              "    </tr>\n",
              "    <tr>\n",
              "      <th>3</th>\n",
              "      <td>3</td>\n",
              "      <td>1</td>\n",
              "    </tr>\n",
              "    <tr>\n",
              "      <th>4</th>\n",
              "      <td>4</td>\n",
              "      <td>1</td>\n",
              "    </tr>\n",
              "    <tr>\n",
              "      <th>...</th>\n",
              "      <td>...</td>\n",
              "      <td>...</td>\n",
              "    </tr>\n",
              "    <tr>\n",
              "      <th>46399</th>\n",
              "      <td>46399</td>\n",
              "      <td>1</td>\n",
              "    </tr>\n",
              "    <tr>\n",
              "      <th>46400</th>\n",
              "      <td>46400</td>\n",
              "      <td>1</td>\n",
              "    </tr>\n",
              "    <tr>\n",
              "      <th>46401</th>\n",
              "      <td>46401</td>\n",
              "      <td>1</td>\n",
              "    </tr>\n",
              "    <tr>\n",
              "      <th>46402</th>\n",
              "      <td>46402</td>\n",
              "      <td>1</td>\n",
              "    </tr>\n",
              "    <tr>\n",
              "      <th>46403</th>\n",
              "      <td>46403</td>\n",
              "      <td>1</td>\n",
              "    </tr>\n",
              "  </tbody>\n",
              "</table>\n",
              "<p>46404 rows × 2 columns</p>\n",
              "</div>"
            ],
            "text/plain": [
              "          id  target\n",
              "0          0       0\n",
              "1          1       0\n",
              "2          2       0\n",
              "3          3       1\n",
              "4          4       1\n",
              "...      ...     ...\n",
              "46399  46399       1\n",
              "46400  46400       1\n",
              "46401  46401       1\n",
              "46402  46402       1\n",
              "46403  46403       1\n",
              "\n",
              "[46404 rows x 2 columns]"
            ]
          },
          "execution_count": 20,
          "metadata": {},
          "output_type": "execute_result"
        }
      ],
      "source": [
        "submission"
      ]
    },
    {
      "cell_type": "markdown",
      "metadata": {
        "id": "jxZKFdWFFVgp"
      },
      "source": [
        ""
      ]
    },
    {
      "cell_type": "markdown",
      "metadata": {
        "id": "TZzapd1ZFNHw"
      },
      "source": [
        "# Hyper Parameter tuning\n",
        "##optuna"
      ]
    },
    {
      "cell_type": "code",
      "execution_count": null,
      "metadata": {
        "colab": {
          "base_uri": "https://localhost:8080/"
        },
        "id": "P-Tf0KHNGqqc",
        "outputId": "d14cc513-a2b0-4b56-9569-7e9a28b3acdd"
      },
      "outputs": [
        {
          "name": "stdout",
          "output_type": "stream",
          "text": [
            "Collecting optuna\n",
            "  Downloading optuna-2.10.0-py3-none-any.whl (308 kB)\n",
            "\u001b[K     |████████████████████████████████| 308 kB 5.1 MB/s \n",
            "\u001b[?25hCollecting cliff\n",
            "  Downloading cliff-3.10.0-py3-none-any.whl (80 kB)\n",
            "\u001b[K     |████████████████████████████████| 80 kB 6.2 MB/s \n",
            "\u001b[?25hRequirement already satisfied: PyYAML in /usr/local/lib/python3.7/dist-packages (from optuna) (3.13)\n",
            "Requirement already satisfied: scipy!=1.4.0 in /usr/local/lib/python3.7/dist-packages (from optuna) (1.4.1)\n",
            "Collecting cmaes>=0.8.2\n",
            "  Downloading cmaes-0.8.2-py3-none-any.whl (15 kB)\n",
            "Collecting colorlog\n",
            "  Downloading colorlog-6.6.0-py2.py3-none-any.whl (11 kB)\n",
            "Collecting alembic\n",
            "  Downloading alembic-1.7.5-py3-none-any.whl (209 kB)\n",
            "\u001b[K     |████████████████████████████████| 209 kB 36.3 MB/s \n",
            "\u001b[?25hRequirement already satisfied: packaging>=20.0 in /usr/local/lib/python3.7/dist-packages (from optuna) (21.3)\n",
            "Requirement already satisfied: numpy in /usr/local/lib/python3.7/dist-packages (from optuna) (1.19.5)\n",
            "Requirement already satisfied: tqdm in /usr/local/lib/python3.7/dist-packages (from optuna) (4.62.3)\n",
            "Requirement already satisfied: sqlalchemy>=1.1.0 in /usr/local/lib/python3.7/dist-packages (from optuna) (1.4.27)\n",
            "Requirement already satisfied: pyparsing!=3.0.5,>=2.0.2 in /usr/local/lib/python3.7/dist-packages (from packaging>=20.0->optuna) (3.0.6)\n",
            "Requirement already satisfied: greenlet!=0.4.17 in /usr/local/lib/python3.7/dist-packages (from sqlalchemy>=1.1.0->optuna) (1.1.2)\n",
            "Requirement already satisfied: importlib-metadata in /usr/local/lib/python3.7/dist-packages (from sqlalchemy>=1.1.0->optuna) (4.8.2)\n",
            "Requirement already satisfied: importlib-resources in /usr/local/lib/python3.7/dist-packages (from alembic->optuna) (5.4.0)\n",
            "Collecting Mako\n",
            "  Downloading Mako-1.1.6-py2.py3-none-any.whl (75 kB)\n",
            "\u001b[K     |████████████████████████████████| 75 kB 3.3 MB/s \n",
            "\u001b[?25hCollecting pbr!=2.1.0,>=2.0.0\n",
            "  Downloading pbr-5.8.0-py2.py3-none-any.whl (112 kB)\n",
            "\u001b[K     |████████████████████████████████| 112 kB 52.2 MB/s \n",
            "\u001b[?25hCollecting cmd2>=1.0.0\n",
            "  Downloading cmd2-2.3.3-py3-none-any.whl (149 kB)\n",
            "\u001b[K     |████████████████████████████████| 149 kB 54.0 MB/s \n",
            "\u001b[?25hCollecting stevedore>=2.0.1\n",
            "  Downloading stevedore-3.5.0-py3-none-any.whl (49 kB)\n",
            "\u001b[K     |████████████████████████████████| 49 kB 5.2 MB/s \n",
            "\u001b[?25hCollecting autopage>=0.4.0\n",
            "  Downloading autopage-0.4.0-py3-none-any.whl (20 kB)\n",
            "Requirement already satisfied: PrettyTable>=0.7.2 in /usr/local/lib/python3.7/dist-packages (from cliff->optuna) (2.4.0)\n",
            "Requirement already satisfied: wcwidth>=0.1.7 in /usr/local/lib/python3.7/dist-packages (from cmd2>=1.0.0->cliff->optuna) (0.2.5)\n",
            "Requirement already satisfied: attrs>=16.3.0 in /usr/local/lib/python3.7/dist-packages (from cmd2>=1.0.0->cliff->optuna) (21.2.0)\n",
            "Collecting pyperclip>=1.6\n",
            "  Downloading pyperclip-1.8.2.tar.gz (20 kB)\n",
            "Requirement already satisfied: typing-extensions in /usr/local/lib/python3.7/dist-packages (from cmd2>=1.0.0->cliff->optuna) (3.10.0.2)\n",
            "Requirement already satisfied: zipp>=0.5 in /usr/local/lib/python3.7/dist-packages (from importlib-metadata->sqlalchemy>=1.1.0->optuna) (3.6.0)\n",
            "Requirement already satisfied: MarkupSafe>=0.9.2 in /usr/local/lib/python3.7/dist-packages (from Mako->alembic->optuna) (2.0.1)\n",
            "Building wheels for collected packages: pyperclip\n",
            "  Building wheel for pyperclip (setup.py) ... \u001b[?25l\u001b[?25hdone\n",
            "  Created wheel for pyperclip: filename=pyperclip-1.8.2-py3-none-any.whl size=11136 sha256=073f1948735e3d9e8f0b7a0b13d92d09555c65e943dabd23f59b64a394bfb3db\n",
            "  Stored in directory: /root/.cache/pip/wheels/9f/18/84/8f69f8b08169c7bae2dde6bd7daf0c19fca8c8e500ee620a28\n",
            "Successfully built pyperclip\n",
            "Installing collected packages: pyperclip, pbr, stevedore, Mako, cmd2, autopage, colorlog, cmaes, cliff, alembic, optuna\n",
            "Successfully installed Mako-1.1.6 alembic-1.7.5 autopage-0.4.0 cliff-3.10.0 cmaes-0.8.2 cmd2-2.3.3 colorlog-6.6.0 optuna-2.10.0 pbr-5.8.0 pyperclip-1.8.2 stevedore-3.5.0\n"
          ]
        }
      ],
      "source": [
        "!pip install optuna"
      ]
    },
    {
      "cell_type": "code",
      "execution_count": null,
      "metadata": {
        "colab": {
          "base_uri": "https://localhost:8080/"
        },
        "id": "flBW1AdPFldJ",
        "outputId": "061ceb3f-d129-4476-e6ff-b62ed83a25df"
      },
      "outputs": [
        {
          "name": "stdout",
          "output_type": "stream",
          "text": [
            "Drive already mounted at /content/gdrive/; to attempt to forcibly remount, call drive.mount(\"/content/gdrive/\", force_remount=True).\n"
          ]
        }
      ],
      "source": [
        "import pandas as pd\n",
        "import numpy as np\n",
        "from google.colab import drive\n",
        "drive.mount('/content/gdrive/')\n",
        "\n",
        "import matplotlib.pyplot as plt\n",
        "import matplotlib.cm as cm\n",
        "import seaborn as sns\n",
        "plt.style.use('fivethirtyeight')\n",
        "import warnings\n",
        "warnings.filterwarnings('ignore')\n",
        "%matplotlib inline\n",
        "from tqdm import tnrange, tqdm_notebook, notebook, tqdm\n",
        "import time\n",
        "import random\n",
        "\n",
        "from sklearn import preprocessing\n",
        "import optuna # 하이퍼파라미터 튜닝 라이브러리\n",
        "from sklearn.model_selection import cross_val_score, train_test_split, KFold\n",
        "\n",
        "from lightgbm import LGBMClassifier\n",
        "from sklearn.model_selection import GridSearchCV, cross_validate\n",
        "from sklearn.metrics import f1_score"
      ]
    },
    {
      "cell_type": "code",
      "execution_count": null,
      "metadata": {
        "id": "rfBUTVOlFlfg"
      },
      "outputs": [],
      "source": [
        "def run(trial):\n",
        "\n",
        "    # 구하고자하는 변수들의 범위 설정\n",
        "    n_estimators = trial.suggest_int(\"n_estimators\", 100, 2000)\n",
        "    learning_rate = trial.suggest_float(\"learning_rate\", 1e-2, 0.25, log=True)\n",
        "    max_depth = trial.suggest_int(\"max_depth\", 1, 10)\n",
        "\n",
        "    num = random.randrange(1, 1000) # 1부터 1000 사이의 난수 생성\n",
        "\n",
        "    X_tra, X_val, y_tra, y_val = train_test_split(X_train, y_train, test_size=0.2, random_state=num)\n",
        "\n",
        "    model = LGBMClassifier(\n",
        "        random_state=42,\n",
        "        # LGBM 파라미터\n",
        "        n_estimators=n_estimators,\n",
        "        learning_rate=learning_rate,\n",
        "        max_depth=max_depth,\n",
        "    )\n",
        "    model.fit(X_tra, y_tra, early_stopping_rounds=300, eval_set=[(X_val, y_val)], verbose=1000)\n",
        "    preds_valid = model.predict(X_val)\n",
        "    f1 = f1_score(y_val, preds_valid) # 평가지표 설정\n",
        "    return f1"
      ]
    },
    {
      "cell_type": "code",
      "execution_count": null,
      "metadata": {
        "colab": {
          "base_uri": "https://localhost:8080/"
        },
        "id": "i7taUI5gFliE",
        "outputId": "025b669b-e673-49d5-f45b-e419294179f7"
      },
      "outputs": [
        {
          "name": "stderr",
          "output_type": "stream",
          "text": [
            "\u001b[32m[I 2021-12-18 15:28:24,963]\u001b[0m A new study created in memory with name: no-name-04fd2086-a1c8-4c72-b639-d4c877ea9a68\u001b[0m\n"
          ]
        },
        {
          "name": "stdout",
          "output_type": "stream",
          "text": [
            "Training until validation scores don't improve for 300 rounds.\n",
            "[1000]\tvalid_0's binary_logloss: 0.656947\n",
            "Did not meet early stopping. Best iteration is:\n",
            "[1097]\tvalid_0's binary_logloss: 0.656463\n"
          ]
        },
        {
          "name": "stderr",
          "output_type": "stream",
          "text": [
            "\u001b[32m[I 2021-12-18 15:29:35,863]\u001b[0m Trial 0 finished with value: 0.6179963429891252 and parameters: {'n_estimators': 1097, 'learning_rate': 0.04577302083100789, 'max_depth': 2}. Best is trial 0 with value: 0.6179963429891252.\u001b[0m\n"
          ]
        },
        {
          "name": "stdout",
          "output_type": "stream",
          "text": [
            "Training until validation scores don't improve for 300 rounds.\n",
            "[1000]\tvalid_0's binary_logloss: 0.657263\n",
            "Did not meet early stopping. Best iteration is:\n",
            "[1879]\tvalid_0's binary_logloss: 0.653507\n"
          ]
        },
        {
          "name": "stderr",
          "output_type": "stream",
          "text": [
            "\u001b[32m[I 2021-12-18 15:32:47,764]\u001b[0m Trial 1 finished with value: 0.6233386828626067 and parameters: {'n_estimators': 1879, 'learning_rate': 0.029569802979263416, 'max_depth': 2}. Best is trial 1 with value: 0.6233386828626067.\u001b[0m\n"
          ]
        },
        {
          "name": "stdout",
          "output_type": "stream",
          "text": [
            "Training until validation scores don't improve for 300 rounds.\n",
            "[1000]\tvalid_0's binary_logloss: 0.63825\n",
            "Did not meet early stopping. Best iteration is:\n",
            "[1670]\tvalid_0's binary_logloss: 0.637185\n"
          ]
        },
        {
          "name": "stderr",
          "output_type": "stream",
          "text": [
            "\u001b[32m[I 2021-12-18 15:35:02,740]\u001b[0m Trial 2 finished with value: 0.646217782522495 and parameters: {'n_estimators': 1684, 'learning_rate': 0.10451681258471457, 'max_depth': 7}. Best is trial 2 with value: 0.646217782522495.\u001b[0m\n"
          ]
        },
        {
          "name": "stdout",
          "output_type": "stream",
          "text": [
            "Training until validation scores don't improve for 300 rounds.\n",
            "[1000]\tvalid_0's binary_logloss: 0.648354\n",
            "Did not meet early stopping. Best iteration is:\n",
            "[1428]\tvalid_0's binary_logloss: 0.646517\n"
          ]
        },
        {
          "name": "stderr",
          "output_type": "stream",
          "text": [
            "\u001b[32m[I 2021-12-18 15:37:44,487]\u001b[0m Trial 3 finished with value: 0.6385812673481182 and parameters: {'n_estimators': 1428, 'learning_rate': 0.010742199141231973, 'max_depth': 8}. Best is trial 2 with value: 0.646217782522495.\u001b[0m\n"
          ]
        },
        {
          "name": "stdout",
          "output_type": "stream",
          "text": [
            "Training until validation scores don't improve for 300 rounds.\n",
            "Did not meet early stopping. Best iteration is:\n",
            "[163]\tvalid_0's binary_logloss: 0.659743\n"
          ]
        },
        {
          "name": "stderr",
          "output_type": "stream",
          "text": [
            "\u001b[32m[I 2021-12-18 15:38:07,447]\u001b[0m Trial 4 finished with value: 0.6230550695189178 and parameters: {'n_estimators': 163, 'learning_rate': 0.017199886017550063, 'max_depth': 7}. Best is trial 2 with value: 0.646217782522495.\u001b[0m\n"
          ]
        },
        {
          "name": "stdout",
          "output_type": "stream",
          "text": [
            "Training until validation scores don't improve for 300 rounds.\n",
            "[1000]\tvalid_0's binary_logloss: 0.668523\n",
            "Did not meet early stopping. Best iteration is:\n",
            "[1876]\tvalid_0's binary_logloss: 0.665769\n"
          ]
        },
        {
          "name": "stderr",
          "output_type": "stream",
          "text": [
            "\u001b[32m[I 2021-12-18 15:39:34,158]\u001b[0m Trial 5 finished with value: 0.6007058869410916 and parameters: {'n_estimators': 1876, 'learning_rate': 0.01952413585705188, 'max_depth': 1}. Best is trial 2 with value: 0.646217782522495.\u001b[0m\n"
          ]
        },
        {
          "name": "stdout",
          "output_type": "stream",
          "text": [
            "Training until validation scores don't improve for 300 rounds.\n",
            "Did not meet early stopping. Best iteration is:\n",
            "[908]\tvalid_0's binary_logloss: 0.638168\n"
          ]
        },
        {
          "name": "stderr",
          "output_type": "stream",
          "text": [
            "\u001b[32m[I 2021-12-18 15:40:47,233]\u001b[0m Trial 6 finished with value: 0.6449751623996943 and parameters: {'n_estimators': 912, 'learning_rate': 0.14524371535123784, 'max_depth': 6}. Best is trial 2 with value: 0.646217782522495.\u001b[0m\n"
          ]
        },
        {
          "name": "stdout",
          "output_type": "stream",
          "text": [
            "Training until validation scores don't improve for 300 rounds.\n",
            "Did not meet early stopping. Best iteration is:\n",
            "[918]\tvalid_0's binary_logloss: 0.652173\n"
          ]
        },
        {
          "name": "stderr",
          "output_type": "stream",
          "text": [
            "\u001b[32m[I 2021-12-18 15:42:20,683]\u001b[0m Trial 7 finished with value: 0.6273207403530476 and parameters: {'n_estimators': 918, 'learning_rate': 0.013550806843135123, 'max_depth': 5}. Best is trial 2 with value: 0.646217782522495.\u001b[0m\n"
          ]
        },
        {
          "name": "stdout",
          "output_type": "stream",
          "text": [
            "Training until validation scores don't improve for 300 rounds.\n",
            "Did not meet early stopping. Best iteration is:\n",
            "[620]\tvalid_0's binary_logloss: 0.642887\n"
          ]
        },
        {
          "name": "stderr",
          "output_type": "stream",
          "text": [
            "\u001b[32m[I 2021-12-18 15:43:10,954]\u001b[0m Trial 8 finished with value: 0.6406312615689941 and parameters: {'n_estimators': 621, 'learning_rate': 0.08305095786362104, 'max_depth': 4}. Best is trial 2 with value: 0.646217782522495.\u001b[0m\n"
          ]
        },
        {
          "name": "stdout",
          "output_type": "stream",
          "text": [
            "Training until validation scores don't improve for 300 rounds.\n",
            "[1000]\tvalid_0's binary_logloss: 0.64067\n",
            "Did not meet early stopping. Best iteration is:\n",
            "[1931]\tvalid_0's binary_logloss: 0.638333\n"
          ]
        },
        {
          "name": "stderr",
          "output_type": "stream",
          "text": [
            "\u001b[32m[I 2021-12-18 15:45:35,909]\u001b[0m Trial 9 finished with value: 0.6484093737235569 and parameters: {'n_estimators': 1937, 'learning_rate': 0.06425204697640233, 'max_depth': 10}. Best is trial 9 with value: 0.6484093737235569.\u001b[0m\n"
          ]
        },
        {
          "name": "stdout",
          "output_type": "stream",
          "text": [
            "Training until validation scores don't improve for 300 rounds.\n",
            "[1000]\tvalid_0's binary_logloss: 0.640415\n",
            "Did not meet early stopping. Best iteration is:\n",
            "[1452]\tvalid_0's binary_logloss: 0.639063\n"
          ]
        },
        {
          "name": "stderr",
          "output_type": "stream",
          "text": [
            "\u001b[32m[I 2021-12-18 15:47:29,320]\u001b[0m Trial 10 finished with value: 0.646978516847115 and parameters: {'n_estimators': 1452, 'learning_rate': 0.0610627871106448, 'max_depth': 10}. Best is trial 9 with value: 0.6484093737235569.\u001b[0m\n"
          ]
        },
        {
          "name": "stdout",
          "output_type": "stream",
          "text": [
            "Training until validation scores don't improve for 300 rounds.\n",
            "[1000]\tvalid_0's binary_logloss: 0.639764\n",
            "Did not meet early stopping. Best iteration is:\n",
            "[1383]\tvalid_0's binary_logloss: 0.638604\n"
          ]
        },
        {
          "name": "stderr",
          "output_type": "stream",
          "text": [
            "\u001b[32m[I 2021-12-18 15:49:18,881]\u001b[0m Trial 11 finished with value: 0.6474708171206227 and parameters: {'n_estimators': 1386, 'learning_rate': 0.05792021311984691, 'max_depth': 10}. Best is trial 9 with value: 0.6484093737235569.\u001b[0m\n"
          ]
        },
        {
          "name": "stdout",
          "output_type": "stream",
          "text": [
            "Training until validation scores don't improve for 300 rounds.\n",
            "Early stopping, best iteration is:\n",
            "[435]\tvalid_0's binary_logloss: 0.640474\n"
          ]
        },
        {
          "name": "stderr",
          "output_type": "stream",
          "text": [
            "\u001b[32m[I 2021-12-18 15:50:10,784]\u001b[0m Trial 12 finished with value: 0.642096345862801 and parameters: {'n_estimators': 1454, 'learning_rate': 0.2294328860980347, 'max_depth': 10}. Best is trial 9 with value: 0.6484093737235569.\u001b[0m\n"
          ]
        },
        {
          "name": "stdout",
          "output_type": "stream",
          "text": [
            "Training until validation scores don't improve for 300 rounds.\n",
            "[1000]\tvalid_0's binary_logloss: 0.643724\n",
            "Did not meet early stopping. Best iteration is:\n",
            "[1209]\tvalid_0's binary_logloss: 0.642796\n"
          ]
        },
        {
          "name": "stderr",
          "output_type": "stream",
          "text": [
            "\u001b[32m[I 2021-12-18 15:51:56,215]\u001b[0m Trial 13 finished with value: 0.6410847200493055 and parameters: {'n_estimators': 1209, 'learning_rate': 0.036026593432219506, 'max_depth': 9}. Best is trial 9 with value: 0.6484093737235569.\u001b[0m\n"
          ]
        },
        {
          "name": "stdout",
          "output_type": "stream",
          "text": [
            "Training until validation scores don't improve for 300 rounds.\n",
            "[1000]\tvalid_0's binary_logloss: 0.640306\n",
            "Did not meet early stopping. Best iteration is:\n",
            "[1972]\tvalid_0's binary_logloss: 0.638213\n"
          ]
        },
        {
          "name": "stderr",
          "output_type": "stream",
          "text": [
            "\u001b[32m[I 2021-12-18 15:54:21,794]\u001b[0m Trial 14 finished with value: 0.6443515444883434 and parameters: {'n_estimators': 1991, 'learning_rate': 0.06984787004602953, 'max_depth': 9}. Best is trial 9 with value: 0.6484093737235569.\u001b[0m\n"
          ]
        },
        {
          "name": "stdout",
          "output_type": "stream",
          "text": [
            "Training until validation scores don't improve for 300 rounds.\n",
            "[1000]\tvalid_0's binary_logloss: 0.640705\n",
            "Did not meet early stopping. Best iteration is:\n",
            "[1548]\tvalid_0's binary_logloss: 0.640078\n"
          ]
        },
        {
          "name": "stderr",
          "output_type": "stream",
          "text": [
            "\u001b[32m[I 2021-12-18 15:56:17,352]\u001b[0m Trial 15 finished with value: 0.6431069672955855 and parameters: {'n_estimators': 1642, 'learning_rate': 0.13372937857396458, 'max_depth': 10}. Best is trial 9 with value: 0.6484093737235569.\u001b[0m\n"
          ]
        },
        {
          "name": "stdout",
          "output_type": "stream",
          "text": [
            "Training until validation scores don't improve for 300 rounds.\n",
            "Did not meet early stopping. Best iteration is:\n",
            "[600]\tvalid_0's binary_logloss: 0.64565\n"
          ]
        },
        {
          "name": "stderr",
          "output_type": "stream",
          "text": [
            "\u001b[32m[I 2021-12-18 15:57:24,366]\u001b[0m Trial 16 finished with value: 0.6387914858128471 and parameters: {'n_estimators': 600, 'learning_rate': 0.025423581340048806, 'max_depth': 8}. Best is trial 9 with value: 0.6484093737235569.\u001b[0m\n"
          ]
        },
        {
          "name": "stdout",
          "output_type": "stream",
          "text": [
            "Training until validation scores don't improve for 300 rounds.\n",
            "[1000]\tvalid_0's binary_logloss: 0.646965\n",
            "Did not meet early stopping. Best iteration is:\n",
            "[1692]\tvalid_0's binary_logloss: 0.643918\n"
          ]
        },
        {
          "name": "stderr",
          "output_type": "stream",
          "text": [
            "\u001b[32m[I 2021-12-18 15:59:34,628]\u001b[0m Trial 17 finished with value: 0.6377751497348644 and parameters: {'n_estimators': 1692, 'learning_rate': 0.03970286010577623, 'max_depth': 4}. Best is trial 9 with value: 0.6484093737235569.\u001b[0m\n"
          ]
        },
        {
          "name": "stdout",
          "output_type": "stream",
          "text": [
            "Training until validation scores don't improve for 300 rounds.\n",
            "[1000]\tvalid_0's binary_logloss: 0.640788\n",
            "Did not meet early stopping. Best iteration is:\n",
            "[1277]\tvalid_0's binary_logloss: 0.639777\n"
          ]
        },
        {
          "name": "stderr",
          "output_type": "stream",
          "text": [
            "\u001b[32m[I 2021-12-18 16:01:18,295]\u001b[0m Trial 18 finished with value: 0.6441205791597436 and parameters: {'n_estimators': 1277, 'learning_rate': 0.057088677032402356, 'max_depth': 9}. Best is trial 9 with value: 0.6484093737235569.\u001b[0m\n"
          ]
        },
        {
          "name": "stdout",
          "output_type": "stream",
          "text": [
            "Training until validation scores don't improve for 300 rounds.\n",
            "[1000]\tvalid_0's binary_logloss: 0.6383\n",
            "Did not meet early stopping. Best iteration is:\n",
            "[1617]\tvalid_0's binary_logloss: 0.636864\n"
          ]
        },
        {
          "name": "stderr",
          "output_type": "stream",
          "text": [
            "\u001b[32m[I 2021-12-18 16:03:17,383]\u001b[0m Trial 19 finished with value: 0.6446642353884635 and parameters: {'n_estimators': 1617, 'learning_rate': 0.0936052426824625, 'max_depth': 8}. Best is trial 9 with value: 0.6484093737235569.\u001b[0m\n"
          ]
        }
      ],
      "source": [
        "study = optuna.create_study(direction=\"maximize\")\n",
        "study.optimize(run, n_trials=20)"
      ]
    },
    {
      "cell_type": "code",
      "execution_count": null,
      "metadata": {
        "colab": {
          "base_uri": "https://localhost:8080/"
        },
        "id": "7VlO7X9RFlki",
        "outputId": "9af05ccd-7b7f-49c8-90e6-f4b9a838c311"
      },
      "outputs": [
        {
          "data": {
            "text/plain": [
              "{'learning_rate': 0.06425204697640233, 'max_depth': 10, 'n_estimators': 1937}"
            ]
          },
          "execution_count": 43,
          "metadata": {},
          "output_type": "execute_result"
        }
      ],
      "source": [
        "study.best_params"
      ]
    },
    {
      "cell_type": "code",
      "execution_count": null,
      "metadata": {
        "colab": {
          "base_uri": "https://localhost:8080/"
        },
        "id": "HbiSY0_hJGI3",
        "outputId": "05a03916-069f-45d0-9fb3-62832c29b4c2"
      },
      "outputs": [
        {
          "data": {
            "text/plain": [
              "0.6172961468596128"
            ]
          },
          "execution_count": 45,
          "metadata": {},
          "output_type": "execute_result"
        }
      ],
      "source": [
        "para = study.best_params\n",
        "\n",
        "model = LGBMClassifier(\n",
        "        random_state=42,\n",
        "        n_jobs=-1,\n",
        "        ** para\n",
        "    )\n",
        "\n",
        "cross_val_score(model, X_train, y_train, cv=5, scoring = 'f1', n_jobs=-1).mean()"
      ]
    },
    {
      "cell_type": "code",
      "execution_count": null,
      "metadata": {
        "colab": {
          "base_uri": "https://localhost:8080/"
        },
        "id": "-km-EVAyJGLV",
        "outputId": "731177cf-90d9-4c34-81aa-4323efd27e6e"
      },
      "outputs": [
        {
          "name": "stderr",
          "output_type": "stream",
          "text": [
            "\u001b[32m[I 2021-12-18 16:16:43,785]\u001b[0m A new study created in memory with name: no-name-e3a4958c-2913-4052-bc22-57789df00d15\u001b[0m\n"
          ]
        },
        {
          "name": "stdout",
          "output_type": "stream",
          "text": [
            "Training until validation scores don't improve for 300 rounds.\n",
            "Did not meet early stopping. Best iteration is:\n",
            "[778]\tvalid_0's binary_logloss: 0.64106\n"
          ]
        },
        {
          "name": "stderr",
          "output_type": "stream",
          "text": [
            "\u001b[32m[I 2021-12-18 16:17:44,571]\u001b[0m Trial 0 finished with value: 0.6418082541618624 and parameters: {'n_estimators': 778, 'learning_rate': 0.11676717063658815, 'max_depth': 4}. Best is trial 0 with value: 0.6418082541618624.\u001b[0m\n"
          ]
        },
        {
          "name": "stdout",
          "output_type": "stream",
          "text": [
            "Training until validation scores don't improve for 300 rounds.\n",
            "[1000]\tvalid_0's binary_logloss: 0.639327\n",
            "Early stopping, best iteration is:\n",
            "[1250]\tvalid_0's binary_logloss: 0.638877\n"
          ]
        },
        {
          "name": "stderr",
          "output_type": "stream",
          "text": [
            "\u001b[32m[I 2021-12-18 16:19:37,444]\u001b[0m Trial 1 finished with value: 0.6438403172303352 and parameters: {'n_estimators': 1843, 'learning_rate': 0.10526241755657029, 'max_depth': 9}. Best is trial 1 with value: 0.6438403172303352.\u001b[0m\n"
          ]
        },
        {
          "name": "stdout",
          "output_type": "stream",
          "text": [
            "Training until validation scores don't improve for 300 rounds.\n",
            "[1000]\tvalid_0's binary_logloss: 0.648142\n",
            "Did not meet early stopping. Best iteration is:\n",
            "[1294]\tvalid_0's binary_logloss: 0.646531\n"
          ]
        },
        {
          "name": "stderr",
          "output_type": "stream",
          "text": [
            "\u001b[32m[I 2021-12-18 16:21:56,119]\u001b[0m Trial 2 finished with value: 0.6372263050231077 and parameters: {'n_estimators': 1294, 'learning_rate': 0.013173318105807855, 'max_depth': 6}. Best is trial 1 with value: 0.6438403172303352.\u001b[0m\n"
          ]
        },
        {
          "name": "stdout",
          "output_type": "stream",
          "text": [
            "Training until validation scores don't improve for 300 rounds.\n",
            "[1000]\tvalid_0's binary_logloss: 0.641114\n",
            "Did not meet early stopping. Best iteration is:\n",
            "[1691]\tvalid_0's binary_logloss: 0.638807\n"
          ]
        },
        {
          "name": "stderr",
          "output_type": "stream",
          "text": [
            "\u001b[32m[I 2021-12-18 16:24:25,396]\u001b[0m Trial 3 finished with value: 0.6455675701424285 and parameters: {'n_estimators': 1698, 'learning_rate': 0.06265203286433035, 'max_depth': 5}. Best is trial 3 with value: 0.6455675701424285.\u001b[0m\n"
          ]
        },
        {
          "name": "stdout",
          "output_type": "stream",
          "text": [
            "Training until validation scores don't improve for 300 rounds.\n",
            "Did not meet early stopping. Best iteration is:\n",
            "[945]\tvalid_0's binary_logloss: 0.661809\n"
          ]
        },
        {
          "name": "stderr",
          "output_type": "stream",
          "text": [
            "\u001b[32m[I 2021-12-18 16:25:09,643]\u001b[0m Trial 4 finished with value: 0.6047099792807603 and parameters: {'n_estimators': 945, 'learning_rate': 0.1893756145205277, 'max_depth': 1}. Best is trial 3 with value: 0.6455675701424285.\u001b[0m\n"
          ]
        },
        {
          "name": "stdout",
          "output_type": "stream",
          "text": [
            "Training until validation scores don't improve for 300 rounds.\n",
            "Did not meet early stopping. Best iteration is:\n",
            "[175]\tvalid_0's binary_logloss: 0.649035\n"
          ]
        },
        {
          "name": "stderr",
          "output_type": "stream",
          "text": [
            "\u001b[32m[I 2021-12-18 16:25:34,020]\u001b[0m Trial 5 finished with value: 0.6351702059141109 and parameters: {'n_estimators': 175, 'learning_rate': 0.045240841889378124, 'max_depth': 9}. Best is trial 3 with value: 0.6455675701424285.\u001b[0m\n"
          ]
        },
        {
          "name": "stdout",
          "output_type": "stream",
          "text": [
            "Training until validation scores don't improve for 300 rounds.\n",
            "Did not meet early stopping. Best iteration is:\n",
            "[181]\tvalid_0's binary_logloss: 0.65434\n"
          ]
        },
        {
          "name": "stderr",
          "output_type": "stream",
          "text": [
            "\u001b[32m[I 2021-12-18 16:25:59,821]\u001b[0m Trial 6 finished with value: 0.6289893366046994 and parameters: {'n_estimators': 181, 'learning_rate': 0.0326594668797057, 'max_depth': 10}. Best is trial 3 with value: 0.6455675701424285.\u001b[0m\n"
          ]
        },
        {
          "name": "stdout",
          "output_type": "stream",
          "text": [
            "Training until validation scores don't improve for 300 rounds.\n",
            "Did not meet early stopping. Best iteration is:\n",
            "[716]\tvalid_0's binary_logloss: 0.645613\n"
          ]
        },
        {
          "name": "stderr",
          "output_type": "stream",
          "text": [
            "\u001b[32m[I 2021-12-18 16:27:21,572]\u001b[0m Trial 7 finished with value: 0.638030303030303 and parameters: {'n_estimators': 716, 'learning_rate': 0.022247324671014014, 'max_depth': 10}. Best is trial 3 with value: 0.6455675701424285.\u001b[0m\n"
          ]
        },
        {
          "name": "stdout",
          "output_type": "stream",
          "text": [
            "Training until validation scores don't improve for 300 rounds.\n",
            "[1000]\tvalid_0's binary_logloss: 0.66879\n",
            "Did not meet early stopping. Best iteration is:\n",
            "[1832]\tvalid_0's binary_logloss: 0.665984\n"
          ]
        },
        {
          "name": "stderr",
          "output_type": "stream",
          "text": [
            "\u001b[32m[I 2021-12-18 16:28:45,898]\u001b[0m Trial 8 finished with value: 0.6004441241210043 and parameters: {'n_estimators': 1832, 'learning_rate': 0.016179549023100724, 'max_depth': 1}. Best is trial 3 with value: 0.6455675701424285.\u001b[0m\n"
          ]
        },
        {
          "name": "stdout",
          "output_type": "stream",
          "text": [
            "Training until validation scores don't improve for 300 rounds.\n",
            "[1000]\tvalid_0's binary_logloss: 0.638908\n",
            "Early stopping, best iteration is:\n",
            "[714]\tvalid_0's binary_logloss: 0.638625\n"
          ]
        },
        {
          "name": "stderr",
          "output_type": "stream",
          "text": [
            "\u001b[32m[I 2021-12-18 16:30:02,734]\u001b[0m Trial 9 finished with value: 0.6440648838563696 and parameters: {'n_estimators': 1051, 'learning_rate': 0.20595575622101112, 'max_depth': 6}. Best is trial 3 with value: 0.6455675701424285.\u001b[0m\n"
          ]
        },
        {
          "name": "stdout",
          "output_type": "stream",
          "text": [
            "Training until validation scores don't improve for 300 rounds.\n",
            "[1000]\tvalid_0's binary_logloss: 0.646636\n",
            "Did not meet early stopping. Best iteration is:\n",
            "[1446]\tvalid_0's binary_logloss: 0.644638\n"
          ]
        },
        {
          "name": "stderr",
          "output_type": "stream",
          "text": [
            "\u001b[32m[I 2021-12-18 16:31:39,213]\u001b[0m Trial 10 finished with value: 0.638008447167155 and parameters: {'n_estimators': 1446, 'learning_rate': 0.07463099410514616, 'max_depth': 3}. Best is trial 3 with value: 0.6455675701424285.\u001b[0m\n"
          ]
        },
        {
          "name": "stdout",
          "output_type": "stream",
          "text": [
            "Training until validation scores don't improve for 300 rounds.\n",
            "Early stopping, best iteration is:\n",
            "[414]\tvalid_0's binary_logloss: 0.641895\n"
          ]
        },
        {
          "name": "stderr",
          "output_type": "stream",
          "text": [
            "\u001b[32m[I 2021-12-18 16:32:34,304]\u001b[0m Trial 11 finished with value: 0.6412551774159683 and parameters: {'n_estimators': 1419, 'learning_rate': 0.24561133551400355, 'max_depth': 6}. Best is trial 3 with value: 0.6455675701424285.\u001b[0m\n"
          ]
        },
        {
          "name": "stdout",
          "output_type": "stream",
          "text": [
            "Training until validation scores don't improve for 300 rounds.\n",
            "[1000]\tvalid_0's binary_logloss: 0.638985\n",
            "Did not meet early stopping. Best iteration is:\n",
            "[1150]\tvalid_0's binary_logloss: 0.638456\n"
          ]
        },
        {
          "name": "stderr",
          "output_type": "stream",
          "text": [
            "\u001b[32m[I 2021-12-18 16:34:07,169]\u001b[0m Trial 12 finished with value: 0.6467971868466071 and parameters: {'n_estimators': 1151, 'learning_rate': 0.06598057876494431, 'max_depth': 7}. Best is trial 12 with value: 0.6467971868466071.\u001b[0m\n"
          ]
        },
        {
          "name": "stdout",
          "output_type": "stream",
          "text": [
            "Training until validation scores don't improve for 300 rounds.\n",
            "[1000]\tvalid_0's binary_logloss: 0.639759\n",
            "Did not meet early stopping. Best iteration is:\n",
            "[1610]\tvalid_0's binary_logloss: 0.637966\n"
          ]
        },
        {
          "name": "stderr",
          "output_type": "stream",
          "text": [
            "\u001b[32m[I 2021-12-18 16:36:10,551]\u001b[0m Trial 13 finished with value: 0.647569262937794 and parameters: {'n_estimators': 1611, 'learning_rate': 0.06294795286579005, 'max_depth': 8}. Best is trial 13 with value: 0.647569262937794.\u001b[0m\n"
          ]
        },
        {
          "name": "stdout",
          "output_type": "stream",
          "text": [
            "Training until validation scores don't improve for 300 rounds.\n",
            "[1000]\tvalid_0's binary_logloss: 0.640149\n",
            "Did not meet early stopping. Best iteration is:\n",
            "[1174]\tvalid_0's binary_logloss: 0.63946\n"
          ]
        },
        {
          "name": "stderr",
          "output_type": "stream",
          "text": [
            "\u001b[32m[I 2021-12-18 16:37:50,833]\u001b[0m Trial 14 finished with value: 0.64535180873417 and parameters: {'n_estimators': 1174, 'learning_rate': 0.04156359369600465, 'max_depth': 8}. Best is trial 13 with value: 0.647569262937794.\u001b[0m\n"
          ]
        },
        {
          "name": "stdout",
          "output_type": "stream",
          "text": [
            "Training until validation scores don't improve for 300 rounds.\n",
            "[1000]\tvalid_0's binary_logloss: 0.638814\n",
            "Did not meet early stopping. Best iteration is:\n",
            "[1512]\tvalid_0's binary_logloss: 0.638036\n"
          ]
        },
        {
          "name": "stderr",
          "output_type": "stream",
          "text": [
            "\u001b[32m[I 2021-12-18 16:39:42,880]\u001b[0m Trial 15 finished with value: 0.6456329210566499 and parameters: {'n_estimators': 1560, 'learning_rate': 0.11633706918096447, 'max_depth': 8}. Best is trial 13 with value: 0.647569262937794.\u001b[0m\n"
          ]
        },
        {
          "name": "stdout",
          "output_type": "stream",
          "text": [
            "Training until validation scores don't improve for 300 rounds.\n",
            "[1000]\tvalid_0's binary_logloss: 0.643476\n",
            "Did not meet early stopping. Best iteration is:\n",
            "[1976]\tvalid_0's binary_logloss: 0.639866\n"
          ]
        },
        {
          "name": "stderr",
          "output_type": "stream",
          "text": [
            "\u001b[32m[I 2021-12-18 16:42:28,441]\u001b[0m Trial 16 finished with value: 0.6455657724751122 and parameters: {'n_estimators': 1976, 'learning_rate': 0.029064272370530952, 'max_depth': 7}. Best is trial 13 with value: 0.647569262937794.\u001b[0m\n"
          ]
        },
        {
          "name": "stdout",
          "output_type": "stream",
          "text": [
            "Training until validation scores don't improve for 300 rounds.\n",
            "Did not meet early stopping. Best iteration is:\n",
            "[527]\tvalid_0's binary_logloss: 0.641158\n"
          ]
        },
        {
          "name": "stderr",
          "output_type": "stream",
          "text": [
            "\u001b[32m[I 2021-12-18 16:43:15,752]\u001b[0m Trial 17 finished with value: 0.6446882282726084 and parameters: {'n_estimators': 527, 'learning_rate': 0.07334916830804662, 'max_depth': 8}. Best is trial 13 with value: 0.647569262937794.\u001b[0m\n"
          ]
        },
        {
          "name": "stdout",
          "output_type": "stream",
          "text": [
            "Training until validation scores don't improve for 300 rounds.\n",
            "[1000]\tvalid_0's binary_logloss: 0.639196\n",
            "Did not meet early stopping. Best iteration is:\n",
            "[1588]\tvalid_0's binary_logloss: 0.636983\n"
          ]
        },
        {
          "name": "stderr",
          "output_type": "stream",
          "text": [
            "\u001b[32m[I 2021-12-18 16:45:20,763]\u001b[0m Trial 18 finished with value: 0.6473801412230448 and parameters: {'n_estimators': 1590, 'learning_rate': 0.05934973921071716, 'max_depth': 7}. Best is trial 13 with value: 0.647569262937794.\u001b[0m\n"
          ]
        },
        {
          "name": "stdout",
          "output_type": "stream",
          "text": [
            "Training until validation scores don't improve for 300 rounds.\n",
            "[1000]\tvalid_0's binary_logloss: 0.64785\n",
            "Did not meet early stopping. Best iteration is:\n",
            "[1607]\tvalid_0's binary_logloss: 0.644642\n"
          ]
        },
        {
          "name": "stderr",
          "output_type": "stream",
          "text": [
            "\u001b[32m[I 2021-12-18 16:47:29,219]\u001b[0m Trial 19 finished with value: 0.6363619047619048 and parameters: {'n_estimators': 1607, 'learning_rate': 0.02786887668911511, 'max_depth': 4}. Best is trial 13 with value: 0.647569262937794.\u001b[0m\n"
          ]
        }
      ],
      "source": [
        "from optuna import Trial\n",
        "from optuna.samplers import *\n",
        "\n",
        "study = optuna.create_study(direction=\"maximize\", sampler=TPESampler())\n",
        "study.optimize(run, n_trials=20)"
      ]
    },
    {
      "cell_type": "code",
      "execution_count": null,
      "metadata": {
        "colab": {
          "base_uri": "https://localhost:8080/"
        },
        "id": "dZswV1SJJGNg",
        "outputId": "4edc6b08-189f-4e1f-ee94-cadd9339fa2d"
      },
      "outputs": [
        {
          "data": {
            "text/plain": [
              "{'learning_rate': 0.06294795286579005, 'max_depth': 8, 'n_estimators': 1611}"
            ]
          },
          "execution_count": 47,
          "metadata": {},
          "output_type": "execute_result"
        }
      ],
      "source": [
        "study.best_params"
      ]
    },
    {
      "cell_type": "code",
      "execution_count": null,
      "metadata": {
        "colab": {
          "base_uri": "https://localhost:8080/"
        },
        "id": "xH5aYlV_JGP8",
        "outputId": "1bb9f1ef-d3e9-4261-9759-e15b7060a2da"
      },
      "outputs": [
        {
          "data": {
            "text/plain": [
              "0.6170931536618904"
            ]
          },
          "execution_count": 48,
          "metadata": {},
          "output_type": "execute_result"
        }
      ],
      "source": [
        "para = study.best_params\n",
        "\n",
        "model = LGBMClassifier(\n",
        "        random_state=42,\n",
        "        n_jobs=-1,\n",
        "        ** para\n",
        "    )\n",
        "\n",
        "cross_val_score(model, X_train, y_train, cv=5, scoring = 'f1', n_jobs=-1).mean()"
      ]
    },
    {
      "cell_type": "code",
      "execution_count": null,
      "metadata": {
        "colab": {
          "base_uri": "https://localhost:8080/",
          "height": 602
        },
        "id": "G4QFPitcJGSN",
        "outputId": "2df3f60f-1097-4418-85a2-c64baf097ec1"
      },
      "outputs": [
        {
          "ename": "ImportError",
          "evalue": "ignored",
          "output_type": "error",
          "traceback": [
            "\u001b[0;31m---------------------------------------------------------------------------\u001b[0m",
            "\u001b[0;31mModuleNotFoundError\u001b[0m                       Traceback (most recent call last)",
            "\u001b[0;32m/usr/local/lib/python3.7/dist-packages/optuna/integration/skopt.py\u001b[0m in \u001b[0;36m<module>\u001b[0;34m()\u001b[0m\n\u001b[1;32m     24\u001b[0m \u001b[0;32mwith\u001b[0m \u001b[0mtry_import\u001b[0m\u001b[0;34m(\u001b[0m\u001b[0;34m)\u001b[0m \u001b[0;32mas\u001b[0m \u001b[0m_imports\u001b[0m\u001b[0;34m:\u001b[0m\u001b[0;34m\u001b[0m\u001b[0;34m\u001b[0m\u001b[0m\n\u001b[0;32m---> 25\u001b[0;31m     \u001b[0;32mimport\u001b[0m \u001b[0mskopt\u001b[0m\u001b[0;34m\u001b[0m\u001b[0;34m\u001b[0m\u001b[0m\n\u001b[0m\u001b[1;32m     26\u001b[0m     \u001b[0;32mfrom\u001b[0m \u001b[0mskopt\u001b[0m\u001b[0;34m.\u001b[0m\u001b[0mspace\u001b[0m \u001b[0;32mimport\u001b[0m \u001b[0mspace\u001b[0m\u001b[0;34m\u001b[0m\u001b[0;34m\u001b[0m\u001b[0m\n",
            "\u001b[0;31mModuleNotFoundError\u001b[0m: No module named 'skopt'",
            "\nThe above exception was the direct cause of the following exception:\n",
            "\u001b[0;31mImportError\u001b[0m                               Traceback (most recent call last)",
            "\u001b[0;32m<ipython-input-49-4a1de202a4dc>\u001b[0m in \u001b[0;36m<module>\u001b[0;34m()\u001b[0m\n\u001b[1;32m      1\u001b[0m \u001b[0;32mfrom\u001b[0m \u001b[0moptuna\u001b[0m\u001b[0;34m.\u001b[0m\u001b[0mintegration\u001b[0m \u001b[0;32mimport\u001b[0m \u001b[0mSkoptSampler\u001b[0m\u001b[0;34m\u001b[0m\u001b[0;34m\u001b[0m\u001b[0m\n\u001b[1;32m      2\u001b[0m \u001b[0;34m\u001b[0m\u001b[0m\n\u001b[0;32m----> 3\u001b[0;31m \u001b[0mstudy\u001b[0m \u001b[0;34m=\u001b[0m \u001b[0moptuna\u001b[0m\u001b[0;34m.\u001b[0m\u001b[0mcreate_study\u001b[0m\u001b[0;34m(\u001b[0m\u001b[0mdirection\u001b[0m\u001b[0;34m=\u001b[0m\u001b[0;34m\"maximize\"\u001b[0m\u001b[0;34m,\u001b[0m \u001b[0msampler\u001b[0m\u001b[0;34m=\u001b[0m\u001b[0mSkoptSampler\u001b[0m\u001b[0;34m(\u001b[0m\u001b[0;34m)\u001b[0m\u001b[0;34m)\u001b[0m\u001b[0;34m\u001b[0m\u001b[0;34m\u001b[0m\u001b[0m\n\u001b[0m\u001b[1;32m      4\u001b[0m \u001b[0mstudy\u001b[0m\u001b[0;34m.\u001b[0m\u001b[0moptimize\u001b[0m\u001b[0;34m(\u001b[0m\u001b[0mrun\u001b[0m\u001b[0;34m,\u001b[0m \u001b[0mn_trials\u001b[0m\u001b[0;34m=\u001b[0m\u001b[0;36m20\u001b[0m\u001b[0;34m)\u001b[0m\u001b[0;34m\u001b[0m\u001b[0;34m\u001b[0m\u001b[0m\n",
            "\u001b[0;32m/usr/local/lib/python3.7/dist-packages/optuna/integration/skopt.py\u001b[0m in \u001b[0;36m__init__\u001b[0;34m(self, independent_sampler, warn_independent_sampling, skopt_kwargs, n_startup_trials, consider_pruned_trials)\u001b[0m\n\u001b[1;32m    111\u001b[0m     ) -> None:\n\u001b[1;32m    112\u001b[0m \u001b[0;34m\u001b[0m\u001b[0m\n\u001b[0;32m--> 113\u001b[0;31m         \u001b[0m_imports\u001b[0m\u001b[0;34m.\u001b[0m\u001b[0mcheck\u001b[0m\u001b[0;34m(\u001b[0m\u001b[0;34m)\u001b[0m\u001b[0;34m\u001b[0m\u001b[0;34m\u001b[0m\u001b[0m\n\u001b[0m\u001b[1;32m    114\u001b[0m \u001b[0;34m\u001b[0m\u001b[0m\n\u001b[1;32m    115\u001b[0m         \u001b[0mself\u001b[0m\u001b[0;34m.\u001b[0m\u001b[0m_skopt_kwargs\u001b[0m \u001b[0;34m=\u001b[0m \u001b[0mskopt_kwargs\u001b[0m \u001b[0;32mor\u001b[0m \u001b[0;34m{\u001b[0m\u001b[0;34m}\u001b[0m\u001b[0;34m\u001b[0m\u001b[0;34m\u001b[0m\u001b[0m\n",
            "\u001b[0;32m/usr/local/lib/python3.7/dist-packages/optuna/_imports.py\u001b[0m in \u001b[0;36mcheck\u001b[0;34m(self)\u001b[0m\n\u001b[1;32m     84\u001b[0m         \u001b[0;32mif\u001b[0m \u001b[0mself\u001b[0m\u001b[0;34m.\u001b[0m\u001b[0m_deferred\u001b[0m \u001b[0;32mis\u001b[0m \u001b[0;32mnot\u001b[0m \u001b[0;32mNone\u001b[0m\u001b[0;34m:\u001b[0m\u001b[0;34m\u001b[0m\u001b[0;34m\u001b[0m\u001b[0m\n\u001b[1;32m     85\u001b[0m             \u001b[0mexc_value\u001b[0m\u001b[0;34m,\u001b[0m \u001b[0mmessage\u001b[0m \u001b[0;34m=\u001b[0m \u001b[0mself\u001b[0m\u001b[0;34m.\u001b[0m\u001b[0m_deferred\u001b[0m\u001b[0;34m\u001b[0m\u001b[0;34m\u001b[0m\u001b[0m\n\u001b[0;32m---> 86\u001b[0;31m             \u001b[0;32mraise\u001b[0m \u001b[0mImportError\u001b[0m\u001b[0;34m(\u001b[0m\u001b[0mmessage\u001b[0m\u001b[0;34m)\u001b[0m \u001b[0;32mfrom\u001b[0m \u001b[0mexc_value\u001b[0m\u001b[0;34m\u001b[0m\u001b[0;34m\u001b[0m\u001b[0m\n\u001b[0m\u001b[1;32m     87\u001b[0m \u001b[0;34m\u001b[0m\u001b[0m\n\u001b[1;32m     88\u001b[0m \u001b[0;34m\u001b[0m\u001b[0m\n",
            "\u001b[0;31mImportError\u001b[0m: Tried to import 'skopt' but failed. Please make sure that the package is installed correctly to use this feature. Actual error: No module named 'skopt'.",
            "",
            "\u001b[0;31m---------------------------------------------------------------------------\u001b[0;32m\nNOTE: If your import is failing due to a missing package, you can\nmanually install dependencies using either !pip or !apt.\n\nTo view examples of installing some common dependencies, click the\n\"Open Examples\" button below.\n\u001b[0;31m---------------------------------------------------------------------------\u001b[0m\n"
          ]
        }
      ],
      "source": [
        "from optuna.integration import SkoptSampler\n",
        "\n",
        "study = optuna.create_study(direction=\"maximize\", sampler=SkoptSampler())\n",
        "study.optimize(run, n_trials=20)"
      ]
    },
    {
      "cell_type": "code",
      "execution_count": null,
      "metadata": {
        "id": "nXf4BtRAJGUH"
      },
      "outputs": [],
      "source": [
        "study.best_params"
      ]
    },
    {
      "cell_type": "code",
      "execution_count": null,
      "metadata": {
        "id": "VV270N6mJGWd"
      },
      "outputs": [],
      "source": [
        "para = study.best_params\n",
        "\n",
        "model = LGBMClassifier(\n",
        "        random_state=42,\n",
        "        n_jobs=-1,\n",
        "        ** para\n",
        "    )\n",
        "\n",
        "cross_val_score(model, X_train, y_train, cv=5, scoring = 'f1', n_jobs=-1).mean()"
      ]
    },
    {
      "cell_type": "code",
      "execution_count": null,
      "metadata": {
        "colab": {
          "base_uri": "https://localhost:8080/",
          "height": 602
        },
        "id": "h2B_PJxNFlnE",
        "outputId": "8105b734-bb00-4f15-a6fe-05b870e6c030"
      },
      "outputs": [
        {
          "ename": "ImportError",
          "evalue": "ignored",
          "output_type": "error",
          "traceback": [
            "\u001b[0;31m---------------------------------------------------------------------------\u001b[0m",
            "\u001b[0;31mModuleNotFoundError\u001b[0m                       Traceback (most recent call last)",
            "\u001b[0;32m/usr/local/lib/python3.7/dist-packages/optuna/integration/skopt.py\u001b[0m in \u001b[0;36m<module>\u001b[0;34m()\u001b[0m\n\u001b[1;32m     24\u001b[0m \u001b[0;32mwith\u001b[0m \u001b[0mtry_import\u001b[0m\u001b[0;34m(\u001b[0m\u001b[0;34m)\u001b[0m \u001b[0;32mas\u001b[0m \u001b[0m_imports\u001b[0m\u001b[0;34m:\u001b[0m\u001b[0;34m\u001b[0m\u001b[0;34m\u001b[0m\u001b[0m\n\u001b[0;32m---> 25\u001b[0;31m     \u001b[0;32mimport\u001b[0m \u001b[0mskopt\u001b[0m\u001b[0;34m\u001b[0m\u001b[0;34m\u001b[0m\u001b[0m\n\u001b[0m\u001b[1;32m     26\u001b[0m     \u001b[0;32mfrom\u001b[0m \u001b[0mskopt\u001b[0m\u001b[0;34m.\u001b[0m\u001b[0mspace\u001b[0m \u001b[0;32mimport\u001b[0m \u001b[0mspace\u001b[0m\u001b[0;34m\u001b[0m\u001b[0;34m\u001b[0m\u001b[0m\n",
            "\u001b[0;31mModuleNotFoundError\u001b[0m: No module named 'skopt'",
            "\nThe above exception was the direct cause of the following exception:\n",
            "\u001b[0;31mImportError\u001b[0m                               Traceback (most recent call last)",
            "\u001b[0;32m<ipython-input-14-50472978644f>\u001b[0m in \u001b[0;36m<module>\u001b[0;34m()\u001b[0m\n\u001b[1;32m      1\u001b[0m \u001b[0;32mfrom\u001b[0m \u001b[0moptuna\u001b[0m\u001b[0;34m.\u001b[0m\u001b[0mintegration\u001b[0m \u001b[0;32mimport\u001b[0m \u001b[0mSkoptSampler\u001b[0m\u001b[0;34m\u001b[0m\u001b[0;34m\u001b[0m\u001b[0m\n\u001b[1;32m      2\u001b[0m \u001b[0;34m\u001b[0m\u001b[0m\n\u001b[0;32m----> 3\u001b[0;31m \u001b[0msampler\u001b[0m\u001b[0;34m=\u001b[0m\u001b[0mSkoptSampler\u001b[0m\u001b[0;34m(\u001b[0m\u001b[0mskopt_kwargs\u001b[0m\u001b[0;34m=\u001b[0m\u001b[0;34m{\u001b[0m\u001b[0;34m'base_estimator'\u001b[0m\u001b[0;34m:\u001b[0m\u001b[0;34m'RF'\u001b[0m\u001b[0;34m,\u001b[0m \u001b[0;34m'base_estimator'\u001b[0m\u001b[0;34m:\u001b[0m\u001b[0;34m'ET'\u001b[0m\u001b[0;34m,\u001b[0m \u001b[0;34m'n_random_starts'\u001b[0m\u001b[0;34m:\u001b[0m \u001b[0;36m0\u001b[0m\u001b[0;34m,\u001b[0m \u001b[0;34m'acq_func'\u001b[0m\u001b[0;34m:\u001b[0m\u001b[0;34m'EI'\u001b[0m\u001b[0;34m,\u001b[0m \u001b[0;34m'acq_func_kwargs'\u001b[0m\u001b[0;34m:\u001b[0m \u001b[0;34m{\u001b[0m\u001b[0;34m'xi'\u001b[0m\u001b[0;34m:\u001b[0m\u001b[0;36m0.01\u001b[0m\u001b[0;34m}\u001b[0m\u001b[0;34m}\u001b[0m\u001b[0;34m)\u001b[0m\u001b[0;34m\u001b[0m\u001b[0;34m\u001b[0m\u001b[0m\n\u001b[0m\u001b[1;32m      4\u001b[0m \u001b[0;34m\u001b[0m\u001b[0m\n\u001b[1;32m      5\u001b[0m \u001b[0mstudy\u001b[0m \u001b[0;34m=\u001b[0m \u001b[0moptuna\u001b[0m\u001b[0;34m.\u001b[0m\u001b[0mcreate_study\u001b[0m\u001b[0;34m(\u001b[0m\u001b[0mdirection\u001b[0m\u001b[0;34m=\u001b[0m\u001b[0;34m\"maximize\"\u001b[0m\u001b[0;34m,\u001b[0m \u001b[0msampler\u001b[0m\u001b[0;34m=\u001b[0m\u001b[0msampler\u001b[0m\u001b[0;34m)\u001b[0m\u001b[0;34m\u001b[0m\u001b[0;34m\u001b[0m\u001b[0m\n",
            "\u001b[0;32m/usr/local/lib/python3.7/dist-packages/optuna/integration/skopt.py\u001b[0m in \u001b[0;36m__init__\u001b[0;34m(self, independent_sampler, warn_independent_sampling, skopt_kwargs, n_startup_trials, consider_pruned_trials)\u001b[0m\n\u001b[1;32m    111\u001b[0m     ) -> None:\n\u001b[1;32m    112\u001b[0m \u001b[0;34m\u001b[0m\u001b[0m\n\u001b[0;32m--> 113\u001b[0;31m         \u001b[0m_imports\u001b[0m\u001b[0;34m.\u001b[0m\u001b[0mcheck\u001b[0m\u001b[0;34m(\u001b[0m\u001b[0;34m)\u001b[0m\u001b[0;34m\u001b[0m\u001b[0;34m\u001b[0m\u001b[0m\n\u001b[0m\u001b[1;32m    114\u001b[0m \u001b[0;34m\u001b[0m\u001b[0m\n\u001b[1;32m    115\u001b[0m         \u001b[0mself\u001b[0m\u001b[0;34m.\u001b[0m\u001b[0m_skopt_kwargs\u001b[0m \u001b[0;34m=\u001b[0m \u001b[0mskopt_kwargs\u001b[0m \u001b[0;32mor\u001b[0m \u001b[0;34m{\u001b[0m\u001b[0;34m}\u001b[0m\u001b[0;34m\u001b[0m\u001b[0;34m\u001b[0m\u001b[0m\n",
            "\u001b[0;32m/usr/local/lib/python3.7/dist-packages/optuna/_imports.py\u001b[0m in \u001b[0;36mcheck\u001b[0;34m(self)\u001b[0m\n\u001b[1;32m     84\u001b[0m         \u001b[0;32mif\u001b[0m \u001b[0mself\u001b[0m\u001b[0;34m.\u001b[0m\u001b[0m_deferred\u001b[0m \u001b[0;32mis\u001b[0m \u001b[0;32mnot\u001b[0m \u001b[0;32mNone\u001b[0m\u001b[0;34m:\u001b[0m\u001b[0;34m\u001b[0m\u001b[0;34m\u001b[0m\u001b[0m\n\u001b[1;32m     85\u001b[0m             \u001b[0mexc_value\u001b[0m\u001b[0;34m,\u001b[0m \u001b[0mmessage\u001b[0m \u001b[0;34m=\u001b[0m \u001b[0mself\u001b[0m\u001b[0;34m.\u001b[0m\u001b[0m_deferred\u001b[0m\u001b[0;34m\u001b[0m\u001b[0;34m\u001b[0m\u001b[0m\n\u001b[0;32m---> 86\u001b[0;31m             \u001b[0;32mraise\u001b[0m \u001b[0mImportError\u001b[0m\u001b[0;34m(\u001b[0m\u001b[0mmessage\u001b[0m\u001b[0;34m)\u001b[0m \u001b[0;32mfrom\u001b[0m \u001b[0mexc_value\u001b[0m\u001b[0;34m\u001b[0m\u001b[0;34m\u001b[0m\u001b[0m\n\u001b[0m\u001b[1;32m     87\u001b[0m \u001b[0;34m\u001b[0m\u001b[0m\n\u001b[1;32m     88\u001b[0m \u001b[0;34m\u001b[0m\u001b[0m\n",
            "\u001b[0;31mImportError\u001b[0m: Tried to import 'skopt' but failed. Please make sure that the package is installed correctly to use this feature. Actual error: No module named 'skopt'.",
            "",
            "\u001b[0;31m---------------------------------------------------------------------------\u001b[0;32m\nNOTE: If your import is failing due to a missing package, you can\nmanually install dependencies using either !pip or !apt.\n\nTo view examples of installing some common dependencies, click the\n\"Open Examples\" button below.\n\u001b[0;31m---------------------------------------------------------------------------\u001b[0m\n"
          ]
        }
      ],
      "source": [
        "from optuna.integration import SkoptSampler\n",
        "\n",
        "sampler=SkoptSampler(skopt_kwargs={'base_estimator':'RF', 'base_estimator':'ET', 'n_random_starts': 0, 'acq_func':'EI', 'acq_func_kwargs': {'xi':0.01}})\n",
        "\n",
        "study = optuna.create_study(direction=\"maximize\", sampler=sampler)\n",
        "study.optimize(run, n_trials=20)"
      ]
    },
    {
      "cell_type": "code",
      "execution_count": null,
      "metadata": {
        "id": "4tOjA44JJ0Vx"
      },
      "outputs": [],
      "source": [
        "study.best_params"
      ]
    },
    {
      "cell_type": "code",
      "execution_count": null,
      "metadata": {
        "id": "GhVOee92J0YB"
      },
      "outputs": [],
      "source": [
        "para = study.best_params\n",
        "\n",
        "model = LGBMClassifier(\n",
        "        random_state=42,\n",
        "        n_jobs=-1,\n",
        "        ** para\n",
        "    )\n",
        "\n",
        "cross_val_score(model, X_train, y_train, cv=5, scoring = 'f1', n_jobs=-1).mean()"
      ]
    },
    {
      "cell_type": "markdown",
      "metadata": {
        "id": "SOqidXc9KVX_"
      },
      "source": [
        "## Bayesian Optimization"
      ]
    },
    {
      "cell_type": "code",
      "execution_count": null,
      "metadata": {
        "colab": {
          "background_save": true,
          "base_uri": "https://localhost:8080/"
        },
        "id": "a7RJLc2uJ0aZ",
        "outputId": "0d4d8367-71e0-414a-9299-c6f9db46a61c"
      },
      "outputs": [
        {
          "name": "stdout",
          "output_type": "stream",
          "text": [
            "Fitting 3 folds for each of 48 candidates, totalling 144 fits\n",
            "0.60803636905876\n",
            "LGBMClassifier(learning_rate=0.05, max_depth=10, n_estimators=500)\n"
          ]
        }
      ],
      "source": [
        "learn_rate=[0.05,0.3,0.5]\n",
        "max_depth=[5,10,15,20]\n",
        "n_estimators=[100,500,1000,2000]\n",
        "\n",
        "hyper={'n_estimators':n_estimators,'learning_rate':learn_rate,'max_depth':max_depth}\n",
        "gd=GridSearchCV(estimator=LGBMClassifier(n_jobs=-1),param_grid=hyper,verbose=True, n_jobs=-1, cv=3, scoring='f1')\n",
        "gd.fit(X_train, y_train)\n",
        "print(gd.best_score_)\n",
        "print(gd.best_estimator_)"
      ]
    },
    {
      "cell_type": "code",
      "execution_count": null,
      "metadata": {
        "colab": {
          "background_save": true
        },
        "id": "WxGI9PKPKWhf",
        "outputId": "250cd0df-2621-4ba5-a8ba-45d1e800d59a"
      },
      "outputs": [
        {
          "name": "stdout",
          "output_type": "stream",
          "text": [
            "Requirement already satisfied: bayesian-optimization in /usr/local/lib/python3.7/dist-packages (1.2.0)\n",
            "Requirement already satisfied: numpy>=1.9.0 in /usr/local/lib/python3.7/dist-packages (from bayesian-optimization) (1.19.5)\n",
            "Requirement already satisfied: scikit-learn>=0.18.0 in /usr/local/lib/python3.7/dist-packages (from bayesian-optimization) (1.0.1)\n",
            "Requirement already satisfied: scipy>=0.14.0 in /usr/local/lib/python3.7/dist-packages (from bayesian-optimization) (1.4.1)\n",
            "Requirement already satisfied: joblib>=0.11 in /usr/local/lib/python3.7/dist-packages (from scikit-learn>=0.18.0->bayesian-optimization) (1.1.0)\n",
            "Requirement already satisfied: threadpoolctl>=2.0.0 in /usr/local/lib/python3.7/dist-packages (from scikit-learn>=0.18.0->bayesian-optimization) (3.0.0)\n"
          ]
        }
      ],
      "source": [
        "!pip install bayesian-optimization"
      ]
    },
    {
      "cell_type": "code",
      "execution_count": null,
      "metadata": {
        "colab": {
          "background_save": true
        },
        "id": "fMmLpMs6J0c3"
      },
      "outputs": [],
      "source": [
        "from bayes_opt import BayesianOptimization"
      ]
    },
    {
      "cell_type": "code",
      "execution_count": null,
      "metadata": {
        "colab": {
          "background_save": true
        },
        "id": "2Yyehi52J0e6"
      },
      "outputs": [],
      "source": [
        "# create purpose function\n",
        "def lgbm_cv(learning_rate, n_estimators, max_depth, num_leaves, subsample, min_child_weight, colsample_bytree, max_bin, reg_alpha, reg_lambda):\n",
        "    model = LGBMClassifier(learning_rate = learning_rate,\n",
        "                                n_estimators = int(n_estimators),\n",
        "                                num_leaves = int(round(num_leaves)),\n",
        "                                max_depth = int(round(max_depth)),\n",
        "                                n_jobs = -1,\n",
        "                                random_state = 0,\n",
        "                                subsample = max(subsample, 0),\n",
        "                                min_child_weight = int(round(min_child_weight)),\n",
        "                                colsample_bytree = colsample_bytree,\n",
        "                                max_bin = int(round(max_bin)),\n",
        "                                reg_alpha = max(reg_alpha, 0),\n",
        "                                reg_lambda = max(reg_lambda, 0)\n",
        "                               )\n",
        "    scores = cross_validate(model, X_train, y_train, cv=5, n_jobs = -1, scoring='f1')\n",
        "    return np.mean(scores['test_score'])"
      ]
    },
    {
      "cell_type": "code",
      "execution_count": null,
      "metadata": {
        "colab": {
          "background_save": true
        },
        "id": "vsTw5rItJ0hb"
      },
      "outputs": [],
      "source": [
        "# Interval to be explored for input values\n",
        "pbounds = {'learning_rate': (0.005, 0.5),\n",
        "           'n_estimators': (30, 80),\n",
        "           'max_depth': (15, 50),\n",
        "           'num_leaves': (0, 100),\n",
        "           'subsample': (0, 0.99),\n",
        "           'min_child_weight' : (0, 100),\n",
        "           'colsample_bytree': (0, 0.99),\n",
        "           'max_bin': (0, 1000),\n",
        "           'reg_alpha': (0, 10),\n",
        "           'reg_lambda' : (0, 10)\n",
        "          }"
      ]
    },
    {
      "cell_type": "code",
      "execution_count": null,
      "metadata": {
        "colab": {
          "background_save": true
        },
        "id": "Uab4i0UWK9KT"
      },
      "outputs": [],
      "source": [
        "lgbmBO = BayesianOptimization(f = lgbm_cv, pbounds = pbounds, verbose = 2, random_state = 0)"
      ]
    },
    {
      "cell_type": "code",
      "execution_count": null,
      "metadata": {
        "colab": {
          "background_save": true
        },
        "id": "JaJ7bkRIK9Mu",
        "outputId": "eb2a8314-6f8e-4218-c410-4cb4a45a1eac"
      },
      "outputs": [
        {
          "name": "stdout",
          "output_type": "stream",
          "text": [
            "|   iter    |  target   | colsam... | learni... |  max_bin  | max_depth | min_ch... | n_esti... | num_le... | reg_alpha | reg_la... | subsample |\n",
            "-------------------------------------------------------------------------------------------------------------------------------------------------\n",
            "| \u001b[0m 1       \u001b[0m | \u001b[0m 0.6129  \u001b[0m | \u001b[0m 0.5433  \u001b[0m | \u001b[0m 0.359   \u001b[0m | \u001b[0m 602.8   \u001b[0m | \u001b[0m 34.07   \u001b[0m | \u001b[0m 42.37   \u001b[0m | \u001b[0m 62.29   \u001b[0m | \u001b[0m 43.76   \u001b[0m | \u001b[0m 8.918   \u001b[0m | \u001b[0m 9.637   \u001b[0m | \u001b[0m 0.3796  \u001b[0m |\n",
            "| \u001b[0m 2       \u001b[0m | \u001b[0m 0.5875  \u001b[0m | \u001b[0m 0.7838  \u001b[0m | \u001b[0m 0.2668  \u001b[0m | \u001b[0m 568.0   \u001b[0m | \u001b[0m 47.4    \u001b[0m | \u001b[0m 7.104   \u001b[0m | \u001b[0m 34.36   \u001b[0m | \u001b[0m 2.022   \u001b[0m | \u001b[0m 8.326   \u001b[0m | \u001b[0m 7.782   \u001b[0m | \u001b[0m 0.8613  \u001b[0m |\n",
            "| \u001b[0m 3       \u001b[0m | \u001b[0m 0.6126  \u001b[0m | \u001b[0m 0.9688  \u001b[0m | \u001b[0m 0.4006  \u001b[0m | \u001b[0m 461.5   \u001b[0m | \u001b[0m 42.32   \u001b[0m | \u001b[0m 11.83   \u001b[0m | \u001b[0m 62.0    \u001b[0m | \u001b[0m 14.34   \u001b[0m | \u001b[0m 9.447   \u001b[0m | \u001b[0m 5.218   \u001b[0m | \u001b[0m 0.4105  \u001b[0m |\n",
            "| \u001b[0m 4       \u001b[0m | \u001b[0m 0.6096  \u001b[0m | \u001b[0m 0.2619  \u001b[0m | \u001b[0m 0.3882  \u001b[0m | \u001b[0m 456.2   \u001b[0m | \u001b[0m 34.9    \u001b[0m | \u001b[0m 1.879   \u001b[0m | \u001b[0m 60.88   \u001b[0m | \u001b[0m 61.21   \u001b[0m | \u001b[0m 6.169   \u001b[0m | \u001b[0m 9.437   \u001b[0m | \u001b[0m 0.675   \u001b[0m |\n",
            "| \u001b[0m 5       \u001b[0m | \u001b[0m 0.6107  \u001b[0m | \u001b[0m 0.3559  \u001b[0m | \u001b[0m 0.2213  \u001b[0m | \u001b[0m 697.6   \u001b[0m | \u001b[0m 17.11   \u001b[0m | \u001b[0m 66.68   \u001b[0m | \u001b[0m 63.53   \u001b[0m | \u001b[0m 21.04   \u001b[0m | \u001b[0m 1.289   \u001b[0m | \u001b[0m 3.154   \u001b[0m | \u001b[0m 0.3601  \u001b[0m |\n",
            "| \u001b[0m 6       \u001b[0m | \u001b[0m 0.6107  \u001b[0m | \u001b[0m 0.3374  \u001b[0m | \u001b[0m 0.397   \u001b[0m | \u001b[0m 457.1   \u001b[0m | \u001b[0m 26.61   \u001b[0m | \u001b[0m 18.63   \u001b[0m | \u001b[0m 66.93   \u001b[0m | \u001b[0m 30.09   \u001b[0m | \u001b[0m 9.41    \u001b[0m | \u001b[0m 3.25    \u001b[0m | \u001b[0m 0.5687  \u001b[0m |\n",
            "| \u001b[0m 7       \u001b[0m | \u001b[0m 0.605   \u001b[0m | \u001b[0m 0.1675  \u001b[0m | \u001b[0m 0.3297  \u001b[0m | \u001b[0m 636.0   \u001b[0m | \u001b[0m 23.91   \u001b[0m | \u001b[0m 66.13   \u001b[0m | \u001b[0m 74.16   \u001b[0m | \u001b[0m 45.76   \u001b[0m | \u001b[0m 5.074   \u001b[0m | \u001b[0m 1.315   \u001b[0m | \u001b[0m 0.6774  \u001b[0m |\n",
            "| \u001b[0m 8       \u001b[0m | \u001b[0m 0.6066  \u001b[0m | \u001b[0m 0.1422  \u001b[0m | \u001b[0m 0.3658  \u001b[0m | \u001b[0m 594.4   \u001b[0m | \u001b[0m 31.81   \u001b[0m | \u001b[0m 32.7    \u001b[0m | \u001b[0m 69.09   \u001b[0m | \u001b[0m 86.76   \u001b[0m | \u001b[0m 1.945   \u001b[0m | \u001b[0m 9.058   \u001b[0m | \u001b[0m 0.9491  \u001b[0m |\n",
            "| \u001b[0m 9       \u001b[0m | \u001b[0m 0.6122  \u001b[0m | \u001b[0m 0.5239  \u001b[0m | \u001b[0m 0.1936  \u001b[0m | \u001b[0m 460.1   \u001b[0m | \u001b[0m 45.37   \u001b[0m | \u001b[0m 11.75   \u001b[0m | \u001b[0m 69.39   \u001b[0m | \u001b[0m 15.95   \u001b[0m | \u001b[0m 7.619   \u001b[0m | \u001b[0m 4.268   \u001b[0m | \u001b[0m 0.8723  \u001b[0m |\n",
            "| \u001b[0m 10      \u001b[0m | \u001b[0m 0.6014  \u001b[0m | \u001b[0m 0.7387  \u001b[0m | \u001b[0m 0.4571  \u001b[0m | \u001b[0m 414.5   \u001b[0m | \u001b[0m 44.0    \u001b[0m | \u001b[0m 15.98   \u001b[0m | \u001b[0m 55.42   \u001b[0m | \u001b[0m 4.396   \u001b[0m | \u001b[0m 4.567   \u001b[0m | \u001b[0m 9.165   \u001b[0m | \u001b[0m 0.3947  \u001b[0m |\n",
            "| \u001b[0m 11      \u001b[0m | \u001b[0m 0.6105  \u001b[0m | \u001b[0m 0.5905  \u001b[0m | \u001b[0m 0.4187  \u001b[0m | \u001b[0m 490.7   \u001b[0m | \u001b[0m 45.45   \u001b[0m | \u001b[0m 45.27   \u001b[0m | \u001b[0m 67.4    \u001b[0m | \u001b[0m 21.01   \u001b[0m | \u001b[0m 3.349   \u001b[0m | \u001b[0m 6.089   \u001b[0m | \u001b[0m 0.09354 \u001b[0m |\n",
            "| \u001b[0m 12      \u001b[0m | \u001b[0m 0.6126  \u001b[0m | \u001b[0m 0.907   \u001b[0m | \u001b[0m 0.3421  \u001b[0m | \u001b[0m 577.8   \u001b[0m | \u001b[0m 46.74   \u001b[0m | \u001b[0m 81.44   \u001b[0m | \u001b[0m 65.2    \u001b[0m | \u001b[0m 44.22   \u001b[0m | \u001b[0m 0.8832  \u001b[0m | \u001b[0m 8.084   \u001b[0m | \u001b[0m 0.5693  \u001b[0m |\n",
            "| \u001b[0m 13      \u001b[0m | \u001b[0m 0.5972  \u001b[0m | \u001b[0m 0.2011  \u001b[0m | \u001b[0m 0.05721 \u001b[0m | \u001b[0m 534.5   \u001b[0m | \u001b[0m 21.94   \u001b[0m | \u001b[0m 79.96   \u001b[0m | \u001b[0m 72.78   \u001b[0m | \u001b[0m 53.97   \u001b[0m | \u001b[0m 7.34    \u001b[0m | \u001b[0m 7.607   \u001b[0m | \u001b[0m 0.4029  \u001b[0m |\n",
            "| \u001b[95m 14      \u001b[0m | \u001b[95m 0.613   \u001b[0m | \u001b[95m 0.4708  \u001b[0m | \u001b[95m 0.1886  \u001b[0m | \u001b[95m 494.3   \u001b[0m | \u001b[95m 46.78   \u001b[0m | \u001b[95m 43.19   \u001b[0m | \u001b[95m 62.14   \u001b[0m | \u001b[95m 16.97   \u001b[0m | \u001b[95m 6.81    \u001b[0m | \u001b[95m 9.211   \u001b[0m | \u001b[95m 0.5141  \u001b[0m |\n",
            "| \u001b[0m 15      \u001b[0m | \u001b[0m 0.6077  \u001b[0m | \u001b[0m 0.3678  \u001b[0m | \u001b[0m 0.1091  \u001b[0m | \u001b[0m 487.5   \u001b[0m | \u001b[0m 48.24   \u001b[0m | \u001b[0m 5.158   \u001b[0m | \u001b[0m 41.08   \u001b[0m | \u001b[0m 30.56   \u001b[0m | \u001b[0m 5.327   \u001b[0m | \u001b[0m 8.707   \u001b[0m | \u001b[0m 0.511   \u001b[0m |\n",
            "| \u001b[0m 16      \u001b[0m | \u001b[0m 0.612   \u001b[0m | \u001b[0m 0.4871  \u001b[0m | \u001b[0m 0.3298  \u001b[0m | \u001b[0m 699.0   \u001b[0m | \u001b[0m 16.37   \u001b[0m | \u001b[0m 68.61   \u001b[0m | \u001b[0m 62.84   \u001b[0m | \u001b[0m 25.97   \u001b[0m | \u001b[0m 0.01784 \u001b[0m | \u001b[0m 0.415   \u001b[0m | \u001b[0m 0.04182 \u001b[0m |\n",
            "| \u001b[0m 17      \u001b[0m | \u001b[0m 0.5993  \u001b[0m | \u001b[0m 0.2206  \u001b[0m | \u001b[0m 0.09982 \u001b[0m | \u001b[0m 729.6   \u001b[0m | \u001b[0m 23.88   \u001b[0m | \u001b[0m 83.56   \u001b[0m | \u001b[0m 47.25   \u001b[0m | \u001b[0m 49.8    \u001b[0m | \u001b[0m 8.184   \u001b[0m | \u001b[0m 9.481   \u001b[0m | \u001b[0m 0.4908  \u001b[0m |\n",
            "| \u001b[0m 18      \u001b[0m | \u001b[0m 0.612   \u001b[0m | \u001b[0m 0.6527  \u001b[0m | \u001b[0m 0.4503  \u001b[0m | \u001b[0m 600.3   \u001b[0m | \u001b[0m 44.85   \u001b[0m | \u001b[0m 80.22   \u001b[0m | \u001b[0m 37.41   \u001b[0m | \u001b[0m 48.56   \u001b[0m | \u001b[0m 5.533   \u001b[0m | \u001b[0m 9.491   \u001b[0m | \u001b[0m 0.6616  \u001b[0m |\n",
            "| \u001b[0m 19      \u001b[0m | \u001b[0m 0.607   \u001b[0m | \u001b[0m 0.2489  \u001b[0m | \u001b[0m 0.2883  \u001b[0m | \u001b[0m 600.5   \u001b[0m | \u001b[0m 47.72   \u001b[0m | \u001b[0m 92.62   \u001b[0m | \u001b[0m 58.94   \u001b[0m | \u001b[0m 16.68   \u001b[0m | \u001b[0m 0.7956  \u001b[0m | \u001b[0m 6.517   \u001b[0m | \u001b[0m 0.7112  \u001b[0m |\n",
            "| \u001b[0m 20      \u001b[0m | \u001b[0m 0.6103  \u001b[0m | \u001b[0m 0.7271  \u001b[0m | \u001b[0m 0.4357  \u001b[0m | \u001b[0m 495.8   \u001b[0m | \u001b[0m 45.72   \u001b[0m | \u001b[0m 13.06   \u001b[0m | \u001b[0m 74.57   \u001b[0m | \u001b[0m 6.96    \u001b[0m | \u001b[0m 7.757   \u001b[0m | \u001b[0m 9.43    \u001b[0m | \u001b[0m 0.6069  \u001b[0m |\n",
            "| \u001b[0m 21      \u001b[0m | \u001b[0m nan     \u001b[0m | \u001b[0m 0.8804  \u001b[0m | \u001b[0m 0.4326  \u001b[0m | \u001b[0m 479.3   \u001b[0m | \u001b[0m 21.1    \u001b[0m | \u001b[0m 38.38   \u001b[0m | \u001b[0m 37.43   \u001b[0m | \u001b[0m 1.022   \u001b[0m | \u001b[0m 5.504   \u001b[0m | \u001b[0m 5.14    \u001b[0m | \u001b[0m 0.2981  \u001b[0m |\n"
          ]
        },
        {
          "ename": "ValueError",
          "evalue": "ignored",
          "output_type": "error",
          "traceback": [
            "\u001b[0;31m---------------------------------------------------------------------------\u001b[0m",
            "\u001b[0;31mStopIteration\u001b[0m                             Traceback (most recent call last)",
            "\u001b[0;32m/usr/local/lib/python3.7/dist-packages/bayes_opt/bayesian_optimization.py\u001b[0m in \u001b[0;36mmaximize\u001b[0;34m(self, init_points, n_iter, acq, kappa, kappa_decay, kappa_decay_delay, xi, **gp_params)\u001b[0m\n\u001b[1;32m    178\u001b[0m             \u001b[0;32mtry\u001b[0m\u001b[0;34m:\u001b[0m\u001b[0;34m\u001b[0m\u001b[0;34m\u001b[0m\u001b[0m\n\u001b[0;32m--> 179\u001b[0;31m                 \u001b[0mx_probe\u001b[0m \u001b[0;34m=\u001b[0m \u001b[0mnext\u001b[0m\u001b[0;34m(\u001b[0m\u001b[0mself\u001b[0m\u001b[0;34m.\u001b[0m\u001b[0m_queue\u001b[0m\u001b[0;34m)\u001b[0m\u001b[0;34m\u001b[0m\u001b[0;34m\u001b[0m\u001b[0m\n\u001b[0m\u001b[1;32m    180\u001b[0m             \u001b[0;32mexcept\u001b[0m \u001b[0mStopIteration\u001b[0m\u001b[0;34m:\u001b[0m\u001b[0;34m\u001b[0m\u001b[0;34m\u001b[0m\u001b[0m\n",
            "\u001b[0;32m/usr/local/lib/python3.7/dist-packages/bayes_opt/bayesian_optimization.py\u001b[0m in \u001b[0;36m__next__\u001b[0;34m(self)\u001b[0m\n\u001b[1;32m     24\u001b[0m         \u001b[0;32mif\u001b[0m \u001b[0mself\u001b[0m\u001b[0;34m.\u001b[0m\u001b[0mempty\u001b[0m\u001b[0;34m:\u001b[0m\u001b[0;34m\u001b[0m\u001b[0;34m\u001b[0m\u001b[0m\n\u001b[0;32m---> 25\u001b[0;31m             \u001b[0;32mraise\u001b[0m \u001b[0mStopIteration\u001b[0m\u001b[0;34m(\u001b[0m\u001b[0;34m\"Queue is empty, no more objects to retrieve.\"\u001b[0m\u001b[0;34m)\u001b[0m\u001b[0;34m\u001b[0m\u001b[0;34m\u001b[0m\u001b[0m\n\u001b[0m\u001b[1;32m     26\u001b[0m         \u001b[0mobj\u001b[0m \u001b[0;34m=\u001b[0m \u001b[0mself\u001b[0m\u001b[0;34m.\u001b[0m\u001b[0m_queue\u001b[0m\u001b[0;34m[\u001b[0m\u001b[0;36m0\u001b[0m\u001b[0;34m]\u001b[0m\u001b[0;34m\u001b[0m\u001b[0;34m\u001b[0m\u001b[0m\n",
            "\u001b[0;31mStopIteration\u001b[0m: Queue is empty, no more objects to retrieve.",
            "\nDuring handling of the above exception, another exception occurred:\n",
            "\u001b[0;31mValueError\u001b[0m                                Traceback (most recent call last)",
            "\u001b[0;32m<ipython-input-29-cdc627e395a9>\u001b[0m in \u001b[0;36m<module>\u001b[0;34m()\u001b[0m\n\u001b[0;32m----> 1\u001b[0;31m \u001b[0mlgbmBO\u001b[0m\u001b[0;34m.\u001b[0m\u001b[0mmaximize\u001b[0m\u001b[0;34m(\u001b[0m\u001b[0minit_points\u001b[0m\u001b[0;34m=\u001b[0m\u001b[0;36m5\u001b[0m\u001b[0;34m,\u001b[0m \u001b[0mn_iter\u001b[0m \u001b[0;34m=\u001b[0m \u001b[0;36m20\u001b[0m\u001b[0;34m,\u001b[0m \u001b[0macq\u001b[0m\u001b[0;34m=\u001b[0m\u001b[0;34m'ei'\u001b[0m\u001b[0;34m,\u001b[0m \u001b[0mxi\u001b[0m\u001b[0;34m=\u001b[0m\u001b[0;36m0.01\u001b[0m\u001b[0;34m)\u001b[0m\u001b[0;34m\u001b[0m\u001b[0;34m\u001b[0m\u001b[0m\n\u001b[0m",
            "\u001b[0;32m/usr/local/lib/python3.7/dist-packages/bayes_opt/bayesian_optimization.py\u001b[0m in \u001b[0;36mmaximize\u001b[0;34m(self, init_points, n_iter, acq, kappa, kappa_decay, kappa_decay_delay, xi, **gp_params)\u001b[0m\n\u001b[1;32m    180\u001b[0m             \u001b[0;32mexcept\u001b[0m \u001b[0mStopIteration\u001b[0m\u001b[0;34m:\u001b[0m\u001b[0;34m\u001b[0m\u001b[0;34m\u001b[0m\u001b[0m\n\u001b[1;32m    181\u001b[0m                 \u001b[0mutil\u001b[0m\u001b[0;34m.\u001b[0m\u001b[0mupdate_params\u001b[0m\u001b[0;34m(\u001b[0m\u001b[0;34m)\u001b[0m\u001b[0;34m\u001b[0m\u001b[0;34m\u001b[0m\u001b[0m\n\u001b[0;32m--> 182\u001b[0;31m                 \u001b[0mx_probe\u001b[0m \u001b[0;34m=\u001b[0m \u001b[0mself\u001b[0m\u001b[0;34m.\u001b[0m\u001b[0msuggest\u001b[0m\u001b[0;34m(\u001b[0m\u001b[0mutil\u001b[0m\u001b[0;34m)\u001b[0m\u001b[0;34m\u001b[0m\u001b[0;34m\u001b[0m\u001b[0m\n\u001b[0m\u001b[1;32m    183\u001b[0m                 \u001b[0miteration\u001b[0m \u001b[0;34m+=\u001b[0m \u001b[0;36m1\u001b[0m\u001b[0;34m\u001b[0m\u001b[0;34m\u001b[0m\u001b[0m\n\u001b[1;32m    184\u001b[0m \u001b[0;34m\u001b[0m\u001b[0m\n",
            "\u001b[0;32m/usr/local/lib/python3.7/dist-packages/bayes_opt/bayesian_optimization.py\u001b[0m in \u001b[0;36msuggest\u001b[0;34m(self, utility_function)\u001b[0m\n\u001b[1;32m    126\u001b[0m         \u001b[0;32mwith\u001b[0m \u001b[0mwarnings\u001b[0m\u001b[0;34m.\u001b[0m\u001b[0mcatch_warnings\u001b[0m\u001b[0;34m(\u001b[0m\u001b[0;34m)\u001b[0m\u001b[0;34m:\u001b[0m\u001b[0;34m\u001b[0m\u001b[0;34m\u001b[0m\u001b[0m\n\u001b[1;32m    127\u001b[0m             \u001b[0mwarnings\u001b[0m\u001b[0;34m.\u001b[0m\u001b[0msimplefilter\u001b[0m\u001b[0;34m(\u001b[0m\u001b[0;34m\"ignore\"\u001b[0m\u001b[0;34m)\u001b[0m\u001b[0;34m\u001b[0m\u001b[0;34m\u001b[0m\u001b[0m\n\u001b[0;32m--> 128\u001b[0;31m             \u001b[0mself\u001b[0m\u001b[0;34m.\u001b[0m\u001b[0m_gp\u001b[0m\u001b[0;34m.\u001b[0m\u001b[0mfit\u001b[0m\u001b[0;34m(\u001b[0m\u001b[0mself\u001b[0m\u001b[0;34m.\u001b[0m\u001b[0m_space\u001b[0m\u001b[0;34m.\u001b[0m\u001b[0mparams\u001b[0m\u001b[0;34m,\u001b[0m \u001b[0mself\u001b[0m\u001b[0;34m.\u001b[0m\u001b[0m_space\u001b[0m\u001b[0;34m.\u001b[0m\u001b[0mtarget\u001b[0m\u001b[0;34m)\u001b[0m\u001b[0;34m\u001b[0m\u001b[0;34m\u001b[0m\u001b[0m\n\u001b[0m\u001b[1;32m    129\u001b[0m \u001b[0;34m\u001b[0m\u001b[0m\n\u001b[1;32m    130\u001b[0m         \u001b[0;31m# Finding argmax of the acquisition function.\u001b[0m\u001b[0;34m\u001b[0m\u001b[0;34m\u001b[0m\u001b[0;34m\u001b[0m\u001b[0m\n",
            "\u001b[0;32m/usr/local/lib/python3.7/dist-packages/sklearn/gaussian_process/_gpr.py\u001b[0m in \u001b[0;36mfit\u001b[0;34m(self, X, y)\u001b[0m\n\u001b[1;32m    228\u001b[0m             \u001b[0my_numeric\u001b[0m\u001b[0;34m=\u001b[0m\u001b[0;32mTrue\u001b[0m\u001b[0;34m,\u001b[0m\u001b[0;34m\u001b[0m\u001b[0;34m\u001b[0m\u001b[0m\n\u001b[1;32m    229\u001b[0m             \u001b[0mensure_2d\u001b[0m\u001b[0;34m=\u001b[0m\u001b[0mensure_2d\u001b[0m\u001b[0;34m,\u001b[0m\u001b[0;34m\u001b[0m\u001b[0;34m\u001b[0m\u001b[0m\n\u001b[0;32m--> 230\u001b[0;31m             \u001b[0mdtype\u001b[0m\u001b[0;34m=\u001b[0m\u001b[0mdtype\u001b[0m\u001b[0;34m,\u001b[0m\u001b[0;34m\u001b[0m\u001b[0;34m\u001b[0m\u001b[0m\n\u001b[0m\u001b[1;32m    231\u001b[0m         )\n\u001b[1;32m    232\u001b[0m \u001b[0;34m\u001b[0m\u001b[0m\n",
            "\u001b[0;32m/usr/local/lib/python3.7/dist-packages/sklearn/base.py\u001b[0m in \u001b[0;36m_validate_data\u001b[0;34m(self, X, y, reset, validate_separately, **check_params)\u001b[0m\n\u001b[1;32m    574\u001b[0m                 \u001b[0my\u001b[0m \u001b[0;34m=\u001b[0m \u001b[0mcheck_array\u001b[0m\u001b[0;34m(\u001b[0m\u001b[0my\u001b[0m\u001b[0;34m,\u001b[0m \u001b[0;34m**\u001b[0m\u001b[0mcheck_y_params\u001b[0m\u001b[0;34m)\u001b[0m\u001b[0;34m\u001b[0m\u001b[0;34m\u001b[0m\u001b[0m\n\u001b[1;32m    575\u001b[0m             \u001b[0;32melse\u001b[0m\u001b[0;34m:\u001b[0m\u001b[0;34m\u001b[0m\u001b[0;34m\u001b[0m\u001b[0m\n\u001b[0;32m--> 576\u001b[0;31m                 \u001b[0mX\u001b[0m\u001b[0;34m,\u001b[0m \u001b[0my\u001b[0m \u001b[0;34m=\u001b[0m \u001b[0mcheck_X_y\u001b[0m\u001b[0;34m(\u001b[0m\u001b[0mX\u001b[0m\u001b[0;34m,\u001b[0m \u001b[0my\u001b[0m\u001b[0;34m,\u001b[0m \u001b[0;34m**\u001b[0m\u001b[0mcheck_params\u001b[0m\u001b[0;34m)\u001b[0m\u001b[0;34m\u001b[0m\u001b[0;34m\u001b[0m\u001b[0m\n\u001b[0m\u001b[1;32m    577\u001b[0m             \u001b[0mout\u001b[0m \u001b[0;34m=\u001b[0m \u001b[0mX\u001b[0m\u001b[0;34m,\u001b[0m \u001b[0my\u001b[0m\u001b[0;34m\u001b[0m\u001b[0;34m\u001b[0m\u001b[0m\n\u001b[1;32m    578\u001b[0m \u001b[0;34m\u001b[0m\u001b[0m\n",
            "\u001b[0;32m/usr/local/lib/python3.7/dist-packages/sklearn/utils/validation.py\u001b[0m in \u001b[0;36mcheck_X_y\u001b[0;34m(X, y, accept_sparse, accept_large_sparse, dtype, order, copy, force_all_finite, ensure_2d, allow_nd, multi_output, ensure_min_samples, ensure_min_features, y_numeric, estimator)\u001b[0m\n\u001b[1;32m    969\u001b[0m     )\n\u001b[1;32m    970\u001b[0m \u001b[0;34m\u001b[0m\u001b[0m\n\u001b[0;32m--> 971\u001b[0;31m     \u001b[0my\u001b[0m \u001b[0;34m=\u001b[0m \u001b[0m_check_y\u001b[0m\u001b[0;34m(\u001b[0m\u001b[0my\u001b[0m\u001b[0;34m,\u001b[0m \u001b[0mmulti_output\u001b[0m\u001b[0;34m=\u001b[0m\u001b[0mmulti_output\u001b[0m\u001b[0;34m,\u001b[0m \u001b[0my_numeric\u001b[0m\u001b[0;34m=\u001b[0m\u001b[0my_numeric\u001b[0m\u001b[0;34m)\u001b[0m\u001b[0;34m\u001b[0m\u001b[0;34m\u001b[0m\u001b[0m\n\u001b[0m\u001b[1;32m    972\u001b[0m \u001b[0;34m\u001b[0m\u001b[0m\n\u001b[1;32m    973\u001b[0m     \u001b[0mcheck_consistent_length\u001b[0m\u001b[0;34m(\u001b[0m\u001b[0mX\u001b[0m\u001b[0;34m,\u001b[0m \u001b[0my\u001b[0m\u001b[0;34m)\u001b[0m\u001b[0;34m\u001b[0m\u001b[0;34m\u001b[0m\u001b[0m\n",
            "\u001b[0;32m/usr/local/lib/python3.7/dist-packages/sklearn/utils/validation.py\u001b[0m in \u001b[0;36m_check_y\u001b[0;34m(y, multi_output, y_numeric)\u001b[0m\n\u001b[1;32m    980\u001b[0m     \u001b[0;32mif\u001b[0m \u001b[0mmulti_output\u001b[0m\u001b[0;34m:\u001b[0m\u001b[0;34m\u001b[0m\u001b[0;34m\u001b[0m\u001b[0m\n\u001b[1;32m    981\u001b[0m         y = check_array(\n\u001b[0;32m--> 982\u001b[0;31m             \u001b[0my\u001b[0m\u001b[0;34m,\u001b[0m \u001b[0maccept_sparse\u001b[0m\u001b[0;34m=\u001b[0m\u001b[0;34m\"csr\"\u001b[0m\u001b[0;34m,\u001b[0m \u001b[0mforce_all_finite\u001b[0m\u001b[0;34m=\u001b[0m\u001b[0;32mTrue\u001b[0m\u001b[0;34m,\u001b[0m \u001b[0mensure_2d\u001b[0m\u001b[0;34m=\u001b[0m\u001b[0;32mFalse\u001b[0m\u001b[0;34m,\u001b[0m \u001b[0mdtype\u001b[0m\u001b[0;34m=\u001b[0m\u001b[0;32mNone\u001b[0m\u001b[0;34m\u001b[0m\u001b[0;34m\u001b[0m\u001b[0m\n\u001b[0m\u001b[1;32m    983\u001b[0m         )\n\u001b[1;32m    984\u001b[0m     \u001b[0;32melse\u001b[0m\u001b[0;34m:\u001b[0m\u001b[0;34m\u001b[0m\u001b[0;34m\u001b[0m\u001b[0m\n",
            "\u001b[0;32m/usr/local/lib/python3.7/dist-packages/sklearn/utils/validation.py\u001b[0m in \u001b[0;36mcheck_array\u001b[0;34m(array, accept_sparse, accept_large_sparse, dtype, order, copy, force_all_finite, ensure_2d, allow_nd, ensure_min_samples, ensure_min_features, estimator)\u001b[0m\n\u001b[1;32m    790\u001b[0m \u001b[0;34m\u001b[0m\u001b[0m\n\u001b[1;32m    791\u001b[0m         \u001b[0;32mif\u001b[0m \u001b[0mforce_all_finite\u001b[0m\u001b[0;34m:\u001b[0m\u001b[0;34m\u001b[0m\u001b[0;34m\u001b[0m\u001b[0m\n\u001b[0;32m--> 792\u001b[0;31m             \u001b[0m_assert_all_finite\u001b[0m\u001b[0;34m(\u001b[0m\u001b[0marray\u001b[0m\u001b[0;34m,\u001b[0m \u001b[0mallow_nan\u001b[0m\u001b[0;34m=\u001b[0m\u001b[0mforce_all_finite\u001b[0m \u001b[0;34m==\u001b[0m \u001b[0;34m\"allow-nan\"\u001b[0m\u001b[0;34m)\u001b[0m\u001b[0;34m\u001b[0m\u001b[0;34m\u001b[0m\u001b[0m\n\u001b[0m\u001b[1;32m    793\u001b[0m \u001b[0;34m\u001b[0m\u001b[0m\n\u001b[1;32m    794\u001b[0m     \u001b[0;32mif\u001b[0m \u001b[0mensure_min_samples\u001b[0m \u001b[0;34m>\u001b[0m \u001b[0;36m0\u001b[0m\u001b[0;34m:\u001b[0m\u001b[0;34m\u001b[0m\u001b[0;34m\u001b[0m\u001b[0m\n",
            "\u001b[0;32m/usr/local/lib/python3.7/dist-packages/sklearn/utils/validation.py\u001b[0m in \u001b[0;36m_assert_all_finite\u001b[0;34m(X, allow_nan, msg_dtype)\u001b[0m\n\u001b[1;32m    114\u001b[0m             raise ValueError(\n\u001b[1;32m    115\u001b[0m                 msg_err.format(\n\u001b[0;32m--> 116\u001b[0;31m                     \u001b[0mtype_err\u001b[0m\u001b[0;34m,\u001b[0m \u001b[0mmsg_dtype\u001b[0m \u001b[0;32mif\u001b[0m \u001b[0mmsg_dtype\u001b[0m \u001b[0;32mis\u001b[0m \u001b[0;32mnot\u001b[0m \u001b[0;32mNone\u001b[0m \u001b[0;32melse\u001b[0m \u001b[0mX\u001b[0m\u001b[0;34m.\u001b[0m\u001b[0mdtype\u001b[0m\u001b[0;34m\u001b[0m\u001b[0;34m\u001b[0m\u001b[0m\n\u001b[0m\u001b[1;32m    117\u001b[0m                 )\n\u001b[1;32m    118\u001b[0m             )\n",
            "\u001b[0;31mValueError\u001b[0m: Input contains NaN, infinity or a value too large for dtype('float64')."
          ]
        }
      ],
      "source": [
        "lgbmBO.maximize(init_points=5, n_iter = 20, acq='ei', xi=0.01)"
      ]
    },
    {
      "cell_type": "code",
      "execution_count": null,
      "metadata": {
        "colab": {
          "background_save": true
        },
        "id": "XLGWqDd_K9O8"
      },
      "outputs": [],
      "source": [
        "lgbmBO.max"
      ]
    },
    {
      "cell_type": "code",
      "execution_count": null,
      "metadata": {
        "colab": {
          "background_save": true
        },
        "id": "fM_x8r5CK9Rk"
      },
      "outputs": [],
      "source": [
        "fit_lgbm = LGBMClassifier(learning_rate=lgbmBO.max['params']['learning_rate'],\n",
        "                               n_estimators = int(round(lgbmBO.max['params']['n_estimators'])),\n",
        "                               num_leaves = int(round(lgbmBO.max['params']['num_leaves'])),\n",
        "                               max_depth = int(round(lgbmBO.max['params']['max_depth'])),\n",
        "                               max_bin = int(round(lgbmBO.max['params']['max_bin'])),\n",
        "                               min_child_weight = int(round(lgbmBO.max['params']['min_child_weight'])),\n",
        "                               colsample_bytree=lgbmBO.max['params']['colsample_bytree'],\n",
        "                               subsample = lgbmBO.max['params']['subsample'],\n",
        "                               reg_alpha = lgbmBO.max['params']['reg_alpha'],\n",
        "                               reg_lambda = lgbmBO.max['params']['reg_lambda']\n",
        "                               )"
      ]
    },
    {
      "cell_type": "code",
      "execution_count": null,
      "metadata": {
        "colab": {
          "background_save": true
        },
        "id": "BTgaEs9-K9T4"
      },
      "outputs": [],
      "source": [
        "fit_lgbm"
      ]
    },
    {
      "cell_type": "code",
      "execution_count": null,
      "metadata": {
        "colab": {
          "background_save": true
        },
        "id": "-yNWJ4c1K9WM"
      },
      "outputs": [],
      "source": [
        "model = fit_lgbm.fit(X_train, y_train)"
      ]
    },
    {
      "cell_type": "code",
      "execution_count": null,
      "metadata": {
        "colab": {
          "background_save": true
        },
        "id": "lTCqiolCK9Yg"
      },
      "outputs": [],
      "source": [
        "#pred_y = model.predict(X_test)\n",
        "#submission['target']=pred_y\n",
        "#submission.to_csv('submission_BO.csv')"
      ]
    },
    {
      "cell_type": "code",
      "execution_count": null,
      "metadata": {
        "colab": {
          "background_save": true
        },
        "id": "qySueZ0FK9bA"
      },
      "outputs": [],
      "source": [
        ""
      ]
    },
    {
      "cell_type": "code",
      "execution_count": null,
      "metadata": {
        "colab": {
          "background_save": true
        },
        "id": "wJTmNB57K9dM"
      },
      "outputs": [],
      "source": [
        ""
      ]
    },
    {
      "cell_type": "code",
      "execution_count": null,
      "metadata": {
        "colab": {
          "background_save": true
        },
        "id": "-6x_hcRdK9fV"
      },
      "outputs": [],
      "source": [
        ""
      ]
    },
    {
      "cell_type": "code",
      "execution_count": null,
      "metadata": {
        "colab": {
          "background_save": true
        },
        "id": "oLt9xXYzK9h0"
      },
      "outputs": [],
      "source": [
        ""
      ]
    },
    {
      "cell_type": "code",
      "execution_count": null,
      "metadata": {
        "colab": {
          "background_save": true
        },
        "id": "C0mU4Fh6K9kJ"
      },
      "outputs": [],
      "source": [
        ""
      ]
    }
  ],
  "metadata": {
    "colab": {
      "collapsed_sections": [
        "glbuyNEBFYTh",
        "16mdSPcQFKXZ"
      ],
      "name": "dacon jobcare",
      "provenance": []
    },
    "kernelspec": {
      "display_name": "Python 3",
      "name": "python3"
    },
    "widgets": {
      "application/vnd.jupyter.widget-state+json": {
        "021c13f8d20d43c8abb6128213e75cda": {
          "model_module": "@jupyter-widgets/controls",
          "model_module_version": "1.5.0",
          "model_name": "ProgressStyleModel",
          "state": {
            "_model_module": "@jupyter-widgets/controls",
            "_model_module_version": "1.5.0",
            "_model_name": "ProgressStyleModel",
            "_view_count": null,
            "_view_module": "@jupyter-widgets/base",
            "_view_module_version": "1.2.0",
            "_view_name": "StyleView",
            "bar_color": null,
            "description_width": ""
          }
        },
        "b9de34775ba74d55b150041188f923a0": {
          "model_module": "@jupyter-widgets/base",
          "model_module_version": "1.2.0",
          "model_name": "LayoutModel",
          "state": {
            "_model_module": "@jupyter-widgets/base",
            "_model_module_version": "1.2.0",
            "_model_name": "LayoutModel",
            "_view_count": null,
            "_view_module": "@jupyter-widgets/base",
            "_view_module_version": "1.2.0",
            "_view_name": "LayoutView",
            "align_content": null,
            "align_items": null,
            "align_self": null,
            "border": null,
            "bottom": null,
            "display": null,
            "flex": null,
            "flex_flow": null,
            "grid_area": null,
            "grid_auto_columns": null,
            "grid_auto_flow": null,
            "grid_auto_rows": null,
            "grid_column": null,
            "grid_gap": null,
            "grid_row": null,
            "grid_template_areas": null,
            "grid_template_columns": null,
            "grid_template_rows": null,
            "height": null,
            "justify_content": null,
            "justify_items": null,
            "left": null,
            "margin": null,
            "max_height": null,
            "max_width": null,
            "min_height": null,
            "min_width": null,
            "object_fit": null,
            "object_position": null,
            "order": null,
            "overflow": null,
            "overflow_x": null,
            "overflow_y": null,
            "padding": null,
            "right": null,
            "top": null,
            "visibility": null,
            "width": null
          }
        },
        "bde408214eed4078b1af18a856998d90": {
          "model_module": "@jupyter-widgets/controls",
          "model_module_version": "1.5.0",
          "model_name": "IntProgressModel",
          "state": {
            "_dom_classes": [],
            "_model_module": "@jupyter-widgets/controls",
            "_model_module_version": "1.5.0",
            "_model_name": "IntProgressModel",
            "_view_count": null,
            "_view_module": "@jupyter-widgets/controls",
            "_view_module_version": "1.5.0",
            "_view_name": "ProgressView",
            "bar_style": "",
            "description": "Processing: ",
            "description_tooltip": null,
            "layout": "IPY_MODEL_b9de34775ba74d55b150041188f923a0",
            "max": 7,
            "min": 0,
            "orientation": "horizontal",
            "style": "IPY_MODEL_021c13f8d20d43c8abb6128213e75cda",
            "value": 2
          }
        }
      }
    }
  },
  "nbformat": 4,
  "nbformat_minor": 0
}
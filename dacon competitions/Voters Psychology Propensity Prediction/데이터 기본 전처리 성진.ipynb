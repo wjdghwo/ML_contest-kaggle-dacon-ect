{
 "cells": [
  {
   "cell_type": "markdown",
   "metadata": {},
   "source": [
    "#### 1. 라이브러리 및 데이터 불러오기"
   ]
  },
  {
   "cell_type": "code",
   "execution_count": 84,
   "metadata": {},
   "outputs": [],
   "source": [
    "import pandas as pd\n",
    "import seaborn as sns\n",
    "%matplotlib inline\n",
    "import matplotlib.pyplot as plt\n",
    "import numpy as np\n",
    "from sklearn.preprocessing import LabelEncoder\n",
    "from sklearn.preprocessing import OneHotEncoder"
   ]
  },
  {
   "cell_type": "code",
   "execution_count": 85,
   "metadata": {},
   "outputs": [],
   "source": [
    "train_data = pd.read_csv('train.csv', encoding='cp949')\n",
    "test_data = pd.read_csv('test_x.csv', encoding='cp949')"
   ]
  },
  {
   "cell_type": "code",
   "execution_count": 86,
   "metadata": {},
   "outputs": [
    {
     "data": {
      "text/html": [
       "<div>\n",
       "<style scoped>\n",
       "    .dataframe tbody tr th:only-of-type {\n",
       "        vertical-align: middle;\n",
       "    }\n",
       "\n",
       "    .dataframe tbody tr th {\n",
       "        vertical-align: top;\n",
       "    }\n",
       "\n",
       "    .dataframe thead th {\n",
       "        text-align: right;\n",
       "    }\n",
       "</style>\n",
       "<table border=\"1\" class=\"dataframe\">\n",
       "  <thead>\n",
       "    <tr style=\"text-align: right;\">\n",
       "      <th></th>\n",
       "      <th>QaE</th>\n",
       "      <th>QbE</th>\n",
       "      <th>QcE</th>\n",
       "      <th>QdE</th>\n",
       "      <th>QeE</th>\n",
       "      <th>QfE</th>\n",
       "      <th>QgE</th>\n",
       "      <th>QhE</th>\n",
       "      <th>QmE</th>\n",
       "    </tr>\n",
       "  </thead>\n",
       "  <tbody>\n",
       "    <tr>\n",
       "      <th>count</th>\n",
       "      <td>4.553200e+04</td>\n",
       "      <td>4.553200e+04</td>\n",
       "      <td>45532.000000</td>\n",
       "      <td>4.553200e+04</td>\n",
       "      <td>4.553200e+04</td>\n",
       "      <td>4.553200e+04</td>\n",
       "      <td>4.553200e+04</td>\n",
       "      <td>4.553200e+04</td>\n",
       "      <td>4.553200e+04</td>\n",
       "    </tr>\n",
       "    <tr>\n",
       "      <th>mean</th>\n",
       "      <td>9.453570e+02</td>\n",
       "      <td>2.189589e+03</td>\n",
       "      <td>1484.294518</td>\n",
       "      <td>1.490672e+03</td>\n",
       "      <td>1.899292e+03</td>\n",
       "      <td>1.850650e+03</td>\n",
       "      <td>1.284608e+03</td>\n",
       "      <td>4.584272e+03</td>\n",
       "      <td>2.050287e+03</td>\n",
       "    </tr>\n",
       "    <tr>\n",
       "      <th>std</th>\n",
       "      <td>1.307565e+04</td>\n",
       "      <td>3.351027e+04</td>\n",
       "      <td>8977.664318</td>\n",
       "      <td>1.092260e+04</td>\n",
       "      <td>1.670765e+04</td>\n",
       "      <td>7.608236e+04</td>\n",
       "      <td>9.756584e+03</td>\n",
       "      <td>5.020265e+05</td>\n",
       "      <td>7.530787e+04</td>\n",
       "    </tr>\n",
       "    <tr>\n",
       "      <th>min</th>\n",
       "      <td>2.500000e+01</td>\n",
       "      <td>2.500000e+01</td>\n",
       "      <td>25.000000</td>\n",
       "      <td>2.600000e+01</td>\n",
       "      <td>2.500000e+01</td>\n",
       "      <td>2.500000e+01</td>\n",
       "      <td>2.500000e+01</td>\n",
       "      <td>0.000000e+00</td>\n",
       "      <td>2.500000e+01</td>\n",
       "    </tr>\n",
       "    <tr>\n",
       "      <th>25%</th>\n",
       "      <td>4.040000e+02</td>\n",
       "      <td>8.750000e+02</td>\n",
       "      <td>651.000000</td>\n",
       "      <td>6.790000e+02</td>\n",
       "      <td>8.340000e+02</td>\n",
       "      <td>5.040000e+02</td>\n",
       "      <td>5.490000e+02</td>\n",
       "      <td>1.077000e+03</td>\n",
       "      <td>6.500000e+02</td>\n",
       "    </tr>\n",
       "    <tr>\n",
       "      <th>50%</th>\n",
       "      <td>5.570000e+02</td>\n",
       "      <td>1.218000e+03</td>\n",
       "      <td>899.000000</td>\n",
       "      <td>9.310000e+02</td>\n",
       "      <td>1.154000e+03</td>\n",
       "      <td>7.120000e+02</td>\n",
       "      <td>7.720000e+02</td>\n",
       "      <td>1.464000e+03</td>\n",
       "      <td>9.060000e+02</td>\n",
       "    </tr>\n",
       "    <tr>\n",
       "      <th>75%</th>\n",
       "      <td>8.270000e+02</td>\n",
       "      <td>1.838000e+03</td>\n",
       "      <td>1335.000000</td>\n",
       "      <td>1.355000e+03</td>\n",
       "      <td>1.656000e+03</td>\n",
       "      <td>1.078000e+03</td>\n",
       "      <td>1.150000e+03</td>\n",
       "      <td>2.090000e+03</td>\n",
       "      <td>1.342000e+03</td>\n",
       "    </tr>\n",
       "    <tr>\n",
       "      <th>max</th>\n",
       "      <td>2.413960e+06</td>\n",
       "      <td>5.580395e+06</td>\n",
       "      <td>871557.000000</td>\n",
       "      <td>1.552821e+06</td>\n",
       "      <td>1.919926e+06</td>\n",
       "      <td>1.176370e+07</td>\n",
       "      <td>1.068252e+06</td>\n",
       "      <td>1.070860e+08</td>\n",
       "      <td>1.410832e+07</td>\n",
       "    </tr>\n",
       "  </tbody>\n",
       "</table>\n",
       "</div>"
      ],
      "text/plain": [
       "                QaE           QbE            QcE           QdE           QeE  \\\n",
       "count  4.553200e+04  4.553200e+04   45532.000000  4.553200e+04  4.553200e+04   \n",
       "mean   9.453570e+02  2.189589e+03    1484.294518  1.490672e+03  1.899292e+03   \n",
       "std    1.307565e+04  3.351027e+04    8977.664318  1.092260e+04  1.670765e+04   \n",
       "min    2.500000e+01  2.500000e+01      25.000000  2.600000e+01  2.500000e+01   \n",
       "25%    4.040000e+02  8.750000e+02     651.000000  6.790000e+02  8.340000e+02   \n",
       "50%    5.570000e+02  1.218000e+03     899.000000  9.310000e+02  1.154000e+03   \n",
       "75%    8.270000e+02  1.838000e+03    1335.000000  1.355000e+03  1.656000e+03   \n",
       "max    2.413960e+06  5.580395e+06  871557.000000  1.552821e+06  1.919926e+06   \n",
       "\n",
       "                QfE           QgE           QhE           QmE  \n",
       "count  4.553200e+04  4.553200e+04  4.553200e+04  4.553200e+04  \n",
       "mean   1.850650e+03  1.284608e+03  4.584272e+03  2.050287e+03  \n",
       "std    7.608236e+04  9.756584e+03  5.020265e+05  7.530787e+04  \n",
       "min    2.500000e+01  2.500000e+01  0.000000e+00  2.500000e+01  \n",
       "25%    5.040000e+02  5.490000e+02  1.077000e+03  6.500000e+02  \n",
       "50%    7.120000e+02  7.720000e+02  1.464000e+03  9.060000e+02  \n",
       "75%    1.078000e+03  1.150000e+03  2.090000e+03  1.342000e+03  \n",
       "max    1.176370e+07  1.068252e+06  1.070860e+08  1.410832e+07  "
      ]
     },
     "execution_count": 86,
     "metadata": {},
     "output_type": "execute_result"
    }
   ],
   "source": [
    "train_data[['QaE','QbE','QcE', 'QdE','QeE','QfE','QgE','QhE','QmE']] .describe()"
   ]
  },
  {
   "cell_type": "markdown",
   "metadata": {},
   "source": [
    "#### 2. 컬럼중 명목형 변수로 구성되어 있는 지 체크\n",
    "- (조사 결과, race, religion, gender, age_group 이 그러함)"
   ]
  },
  {
   "cell_type": "code",
   "execution_count": 87,
   "metadata": {
    "scrolled": true
   },
   "outputs": [
    {
     "name": "stdout",
     "output_type": "stream",
     "text": [
      "<class 'pandas.core.frame.DataFrame'>\n",
      "RangeIndex: 45532 entries, 0 to 45531\n",
      "Data columns (total 78 columns):\n",
      " #   Column      Non-Null Count  Dtype  \n",
      "---  ------      --------------  -----  \n",
      " 0   index       45532 non-null  int64  \n",
      " 1   QaA         45532 non-null  float64\n",
      " 2   QaE         45532 non-null  int64  \n",
      " 3   QbA         45532 non-null  float64\n",
      " 4   QbE         45532 non-null  int64  \n",
      " 5   QcA         45532 non-null  float64\n",
      " 6   QcE         45532 non-null  int64  \n",
      " 7   QdA         45532 non-null  float64\n",
      " 8   QdE         45532 non-null  int64  \n",
      " 9   QeA         45532 non-null  float64\n",
      " 10  QeE         45532 non-null  int64  \n",
      " 11  QfA         45532 non-null  float64\n",
      " 12  QfE         45532 non-null  int64  \n",
      " 13  QgA         45532 non-null  float64\n",
      " 14  QgE         45532 non-null  int64  \n",
      " 15  QhA         45532 non-null  float64\n",
      " 16  QhE         45532 non-null  int64  \n",
      " 17  QiA         45532 non-null  float64\n",
      " 18  QiE         45532 non-null  int64  \n",
      " 19  QjA         45532 non-null  float64\n",
      " 20  QjE         45532 non-null  int64  \n",
      " 21  QkA         45532 non-null  float64\n",
      " 22  QkE         45532 non-null  int64  \n",
      " 23  QlA         45532 non-null  float64\n",
      " 24  QlE         45532 non-null  int64  \n",
      " 25  QmA         45532 non-null  float64\n",
      " 26  QmE         45532 non-null  int64  \n",
      " 27  QnA         45532 non-null  float64\n",
      " 28  QnE         45532 non-null  int64  \n",
      " 29  QoA         45532 non-null  float64\n",
      " 30  QoE         45532 non-null  int64  \n",
      " 31  QpA         45532 non-null  float64\n",
      " 32  QpE         45532 non-null  int64  \n",
      " 33  QqA         45532 non-null  float64\n",
      " 34  QqE         45532 non-null  int64  \n",
      " 35  QrA         45532 non-null  float64\n",
      " 36  QrE         45532 non-null  int64  \n",
      " 37  QsA         45532 non-null  float64\n",
      " 38  QsE         45532 non-null  int64  \n",
      " 39  QtA         45532 non-null  float64\n",
      " 40  QtE         45532 non-null  int64  \n",
      " 41  age_group   45532 non-null  object \n",
      " 42  education   45532 non-null  int64  \n",
      " 43  engnat      45532 non-null  int64  \n",
      " 44  familysize  45532 non-null  int64  \n",
      " 45  gender      45532 non-null  object \n",
      " 46  hand        45532 non-null  int64  \n",
      " 47  married     45532 non-null  int64  \n",
      " 48  race        45532 non-null  object \n",
      " 49  religion    45532 non-null  object \n",
      " 50  tp01        45532 non-null  int64  \n",
      " 51  tp02        45532 non-null  int64  \n",
      " 52  tp03        45532 non-null  int64  \n",
      " 53  tp04        45532 non-null  int64  \n",
      " 54  tp05        45532 non-null  int64  \n",
      " 55  tp06        45532 non-null  int64  \n",
      " 56  tp07        45532 non-null  int64  \n",
      " 57  tp08        45532 non-null  int64  \n",
      " 58  tp09        45532 non-null  int64  \n",
      " 59  tp10        45532 non-null  int64  \n",
      " 60  urban       45532 non-null  int64  \n",
      " 61  voted       45532 non-null  int64  \n",
      " 62  wf_01       45532 non-null  int64  \n",
      " 63  wf_02       45532 non-null  int64  \n",
      " 64  wf_03       45532 non-null  int64  \n",
      " 65  wr_01       45532 non-null  int64  \n",
      " 66  wr_02       45532 non-null  int64  \n",
      " 67  wr_03       45532 non-null  int64  \n",
      " 68  wr_04       45532 non-null  int64  \n",
      " 69  wr_05       45532 non-null  int64  \n",
      " 70  wr_06       45532 non-null  int64  \n",
      " 71  wr_07       45532 non-null  int64  \n",
      " 72  wr_08       45532 non-null  int64  \n",
      " 73  wr_09       45532 non-null  int64  \n",
      " 74  wr_10       45532 non-null  int64  \n",
      " 75  wr_11       45532 non-null  int64  \n",
      " 76  wr_12       45532 non-null  int64  \n",
      " 77  wr_13       45532 non-null  int64  \n",
      "dtypes: float64(20), int64(54), object(4)\n",
      "memory usage: 27.1+ MB\n"
     ]
    }
   ],
   "source": [
    "train_data.info()"
   ]
  },
  {
   "cell_type": "markdown",
   "metadata": {},
   "source": [
    "#### 3. index와 QaE~QtE와 같은 연속적인 데이터를 제외한 상태에서 각 컬럼에 대한 value_counts 진행\n",
    "- (github 특성상 너무 길게 나와 print 항목 비활성화)\n",
    "- 분석1. 일종의 결측치와 같은 무응답이 순서형 변수 0으로 되어있는 컬럼들  :  hand, urban, education, engnat, married\n",
    "- 분석2. 순서형 변수 형태를 띄고 있으나, 실제로 숫자 크기에 따라 의미가 없는 컬럼들 : education, engnat, urban, hand, married\n",
    "- 분석3. 일부 정상적인 범위를 벗어나는 항목 : familysize (일부 형제자매수가 100을 가히 넘는 숫자 999, 100, 2147483647을 포함하고 있음)"
   ]
  },
  {
   "cell_type": "code",
   "execution_count": 88,
   "metadata": {},
   "outputs": [],
   "source": [
    "train_value_counts = train_data.drop(['index','QaE','QbE','QcE', 'QdE','QeE','QfE','QgE','QhE','QiE','QjE','QkE','QmE','QnE','QoE','QpE','QqE','QrE','QsE','QtE'], axis=1)\n",
    "#for i in train_value_counts.columns:\n",
    "    #print(pd.DataFrame(train_data[i].value_counts()))"
   ]
  },
  {
   "cell_type": "code",
   "execution_count": 89,
   "metadata": {},
   "outputs": [],
   "source": [
    "test_value_counts = test_data.drop(['index','QaE','QbE','QcE', 'QdE','QeE','QfE','QgE','QhE','QiE','QjE','QkE','QmE','QnE','QoE','QpE','QqE','QrE','QsE','QtE'], axis=1)\n",
    "#for i in test_value_counts.columns:\n",
    "    #print(pd.DataFrame(test_data[i].value_counts()))"
   ]
  },
  {
   "cell_type": "markdown",
   "metadata": {},
   "source": [
    "#### 4. education 컬럼 확인 및 전처리 \n",
    "- 결론적으로, 순서형 변수가 아니기 때문에 모두 명목형 변수로 변환, 0의 경우 무응답이라 결측치 처리"
   ]
  },
  {
   "cell_type": "code",
   "execution_count": 90,
   "metadata": {},
   "outputs": [],
   "source": [
    "#수정을 위한 데이터 생성\n",
    "train_data2 = train_data.copy()"
   ]
  },
  {
   "cell_type": "code",
   "execution_count": 91,
   "metadata": {},
   "outputs": [],
   "source": [
    "test_data2 = test_data.copy()"
   ]
  },
  {
   "cell_type": "code",
   "execution_count": 92,
   "metadata": {},
   "outputs": [
    {
     "data": {
      "text/plain": [
       "2    16835\n",
       "3    15227\n",
       "4     7854\n",
       "1     5088\n",
       "0      528\n",
       "Name: education, dtype: int64"
      ]
     },
     "execution_count": 92,
     "metadata": {},
     "output_type": "execute_result"
    }
   ],
   "source": [
    "train_data['education'].value_counts()"
   ]
  },
  {
   "cell_type": "code",
   "execution_count": 93,
   "metadata": {},
   "outputs": [
    {
     "data": {
      "text/plain": [
       "2.544474215936045"
      ]
     },
     "execution_count": 93,
     "metadata": {},
     "output_type": "execute_result"
    }
   ],
   "source": [
    "train_data['education'].mean()"
   ]
  },
  {
   "cell_type": "code",
   "execution_count": 94,
   "metadata": {},
   "outputs": [
    {
     "data": {
      "text/html": [
       "<div>\n",
       "<style scoped>\n",
       "    .dataframe tbody tr th:only-of-type {\n",
       "        vertical-align: middle;\n",
       "    }\n",
       "\n",
       "    .dataframe tbody tr th {\n",
       "        vertical-align: top;\n",
       "    }\n",
       "\n",
       "    .dataframe thead th {\n",
       "        text-align: right;\n",
       "    }\n",
       "</style>\n",
       "<table border=\"1\" class=\"dataframe\">\n",
       "  <thead>\n",
       "    <tr style=\"text-align: right;\">\n",
       "      <th>voted</th>\n",
       "      <th>1</th>\n",
       "      <th>2</th>\n",
       "    </tr>\n",
       "    <tr>\n",
       "      <th>education</th>\n",
       "      <th></th>\n",
       "      <th></th>\n",
       "    </tr>\n",
       "  </thead>\n",
       "  <tbody>\n",
       "    <tr>\n",
       "      <th>0</th>\n",
       "      <td>252</td>\n",
       "      <td>276</td>\n",
       "    </tr>\n",
       "    <tr>\n",
       "      <th>1</th>\n",
       "      <td>253</td>\n",
       "      <td>4835</td>\n",
       "    </tr>\n",
       "    <tr>\n",
       "      <th>2</th>\n",
       "      <td>6179</td>\n",
       "      <td>10656</td>\n",
       "    </tr>\n",
       "    <tr>\n",
       "      <th>3</th>\n",
       "      <td>9083</td>\n",
       "      <td>6144</td>\n",
       "    </tr>\n",
       "    <tr>\n",
       "      <th>4</th>\n",
       "      <td>4867</td>\n",
       "      <td>2987</td>\n",
       "    </tr>\n",
       "  </tbody>\n",
       "</table>\n",
       "</div>"
      ],
      "text/plain": [
       "voted         1      2\n",
       "education             \n",
       "0           252    276\n",
       "1           253   4835\n",
       "2          6179  10656\n",
       "3          9083   6144\n",
       "4          4867   2987"
      ]
     },
     "execution_count": 94,
     "metadata": {},
     "output_type": "execute_result"
    }
   ],
   "source": [
    "pd.crosstab(train_data.education, train_data.voted)"
   ]
  },
  {
   "cell_type": "code",
   "execution_count": 95,
   "metadata": {},
   "outputs": [
    {
     "data": {
      "text/html": [
       "<div>\n",
       "<style scoped>\n",
       "    .dataframe tbody tr th:only-of-type {\n",
       "        vertical-align: middle;\n",
       "    }\n",
       "\n",
       "    .dataframe tbody tr th {\n",
       "        vertical-align: top;\n",
       "    }\n",
       "\n",
       "    .dataframe thead th {\n",
       "        text-align: right;\n",
       "    }\n",
       "</style>\n",
       "<table border=\"1\" class=\"dataframe\">\n",
       "  <thead>\n",
       "    <tr style=\"text-align: right;\">\n",
       "      <th>voted</th>\n",
       "      <th>1</th>\n",
       "      <th>2</th>\n",
       "    </tr>\n",
       "    <tr>\n",
       "      <th>education</th>\n",
       "      <th></th>\n",
       "      <th></th>\n",
       "    </tr>\n",
       "  </thead>\n",
       "  <tbody>\n",
       "    <tr>\n",
       "      <th>0</th>\n",
       "      <td>0.005535</td>\n",
       "      <td>0.006062</td>\n",
       "    </tr>\n",
       "    <tr>\n",
       "      <th>1</th>\n",
       "      <td>0.005557</td>\n",
       "      <td>0.106189</td>\n",
       "    </tr>\n",
       "    <tr>\n",
       "      <th>2</th>\n",
       "      <td>0.135707</td>\n",
       "      <td>0.234033</td>\n",
       "    </tr>\n",
       "    <tr>\n",
       "      <th>3</th>\n",
       "      <td>0.199486</td>\n",
       "      <td>0.134938</td>\n",
       "    </tr>\n",
       "    <tr>\n",
       "      <th>4</th>\n",
       "      <td>0.106892</td>\n",
       "      <td>0.065602</td>\n",
       "    </tr>\n",
       "  </tbody>\n",
       "</table>\n",
       "</div>"
      ],
      "text/plain": [
       "voted             1         2\n",
       "education                    \n",
       "0          0.005535  0.006062\n",
       "1          0.005557  0.106189\n",
       "2          0.135707  0.234033\n",
       "3          0.199486  0.134938\n",
       "4          0.106892  0.065602"
      ]
     },
     "execution_count": 95,
     "metadata": {},
     "output_type": "execute_result"
    }
   ],
   "source": [
    "pd.crosstab(train_data.education, train_data.voted, normalize=True)"
   ]
  },
  {
   "cell_type": "code",
   "execution_count": 96,
   "metadata": {},
   "outputs": [
    {
     "data": {
      "image/png": "[encoded data removed]",
      "text/plain": [
       "<Figure size 432x288 with 1 Axes>"
      ]
     },
     "metadata": {
      "needs_background": "light"
     },
     "output_type": "display_data"
    }
   ],
   "source": [
    "sns.countplot('education',data=train_data)\n",
    "plt.show()"
   ]
  },
  {
   "cell_type": "code",
   "execution_count": 97,
   "metadata": {
    "scrolled": true
   },
   "outputs": [],
   "source": [
    "train_data2['education'] = train_data2['education'].replace( 1, 'Less than high school')\n",
    "train_data2['education'] = train_data2['education'].replace( 2, 'High school')\n",
    "train_data2['education'] = train_data2['education'].replace( 3, 'University degree')\n",
    "train_data2['education'] = train_data2['education'].replace( 4, 'Graduate degree' )\n",
    "train_data2['education'] = train_data2['education'].replace( 0,  np.nan )"
   ]
  },
  {
   "cell_type": "code",
   "execution_count": 98,
   "metadata": {},
   "outputs": [],
   "source": [
    "test_data2['education'] = test_data2['education'].replace( 1, 'Less than high school')\n",
    "test_data2['education'] = test_data2['education'].replace( 2, 'High school')\n",
    "test_data2['education'] = test_data2['education'].replace( 3, 'University degree')\n",
    "test_data2['education'] = test_data2['education'].replace( 4, 'Graduate degree' )\n",
    "test_data2['education'] = test_data2['education'].replace( 0,  np.nan )"
   ]
  },
  {
   "cell_type": "code",
   "execution_count": 99,
   "metadata": {
    "scrolled": true
   },
   "outputs": [
    {
     "data": {
      "text/plain": [
       "<matplotlib.axes._subplots.AxesSubplot at 0x1d0d4cde2b0>"
      ]
     },
     "execution_count": 99,
     "metadata": {},
     "output_type": "execute_result"
    },
    {
     "data": {
      "image/png": "[encoded data removed]",
      "text/plain": [
       "<Figure size 432x288 with 1 Axes>"
      ]
     },
     "metadata": {
      "needs_background": "light"
     },
     "output_type": "display_data"
    }
   ],
   "source": [
    "sns.countplot('education',data=train_data2)"
   ]
  },
  {
   "cell_type": "markdown",
   "metadata": {},
   "source": [
    "#### 5. engnat 컬럼 전처리\n",
    "- 결론적으로, 모국어가 영어이면 1, 모국어가 영어아니면 0으로 변경\n",
    "- 2의 경우 무응답이라 결측치 처리"
   ]
  },
  {
   "cell_type": "code",
   "execution_count": 100,
   "metadata": {},
   "outputs": [
    {
     "data": {
      "text/plain": [
       "1    33024\n",
       "2    12431\n",
       "0       77\n",
       "Name: engnat, dtype: int64"
      ]
     },
     "execution_count": 100,
     "metadata": {},
     "output_type": "execute_result"
    }
   ],
   "source": [
    "train_data['engnat'].value_counts()"
   ]
  },
  {
   "cell_type": "code",
   "execution_count": 101,
   "metadata": {
    "scrolled": true
   },
   "outputs": [
    {
     "data": {
      "text/html": [
       "<div>\n",
       "<style scoped>\n",
       "    .dataframe tbody tr th:only-of-type {\n",
       "        vertical-align: middle;\n",
       "    }\n",
       "\n",
       "    .dataframe tbody tr th {\n",
       "        vertical-align: top;\n",
       "    }\n",
       "\n",
       "    .dataframe thead th {\n",
       "        text-align: right;\n",
       "    }\n",
       "</style>\n",
       "<table border=\"1\" class=\"dataframe\">\n",
       "  <thead>\n",
       "    <tr style=\"text-align: right;\">\n",
       "      <th>voted</th>\n",
       "      <th>1</th>\n",
       "      <th>2</th>\n",
       "    </tr>\n",
       "    <tr>\n",
       "      <th>engnat</th>\n",
       "      <th></th>\n",
       "      <th></th>\n",
       "    </tr>\n",
       "  </thead>\n",
       "  <tbody>\n",
       "    <tr>\n",
       "      <th>0</th>\n",
       "      <td>0.000637</td>\n",
       "      <td>0.001054</td>\n",
       "    </tr>\n",
       "    <tr>\n",
       "      <th>1</th>\n",
       "      <td>0.335522</td>\n",
       "      <td>0.389770</td>\n",
       "    </tr>\n",
       "    <tr>\n",
       "      <th>2</th>\n",
       "      <td>0.117017</td>\n",
       "      <td>0.156000</td>\n",
       "    </tr>\n",
       "  </tbody>\n",
       "</table>\n",
       "</div>"
      ],
      "text/plain": [
       "voted          1         2\n",
       "engnat                    \n",
       "0       0.000637  0.001054\n",
       "1       0.335522  0.389770\n",
       "2       0.117017  0.156000"
      ]
     },
     "execution_count": 101,
     "metadata": {},
     "output_type": "execute_result"
    }
   ],
   "source": [
    "pd.crosstab(train_data.engnat, train_data.voted, normalize=True)"
   ]
  },
  {
   "cell_type": "code",
   "execution_count": 102,
   "metadata": {},
   "outputs": [],
   "source": [
    "###모국어가 영어이면 1, 모국어가 영어아니면 0으로 변경(무응답은 결측치로 변경)"
   ]
  },
  {
   "cell_type": "code",
   "execution_count": 103,
   "metadata": {},
   "outputs": [],
   "source": [
    "train_data2['engnat'] = train_data2['engnat'].replace( 0, np.nan)\n",
    "train_data2['engnat'] = train_data2['engnat'].replace( 2, 0)"
   ]
  },
  {
   "cell_type": "code",
   "execution_count": 104,
   "metadata": {},
   "outputs": [],
   "source": [
    "test_data2['engnat'] = test_data2['engnat'].replace( 0, np.nan)\n",
    "test_data2['engnat'] = test_data2['engnat'].replace( 2, 0)"
   ]
  },
  {
   "cell_type": "code",
   "execution_count": 105,
   "metadata": {},
   "outputs": [
    {
     "data": {
      "image/png": "[encoded data removed]",
      "text/plain": [
       "<Figure size 432x288 with 1 Axes>"
      ]
     },
     "metadata": {
      "needs_background": "light"
     },
     "output_type": "display_data"
    }
   ],
   "source": [
    "sns.countplot('engnat',data=train_data2)\n",
    "plt.show()"
   ]
  },
  {
   "cell_type": "markdown",
   "metadata": {},
   "source": [
    "#### 6. urban 컬럼 전처리\n",
    "- 결론적으로, 순서형 변수가 아니기 때문에 모두 명목형 변수로 변환, 0의 경우 무응답이라 결측치 처리"
   ]
  },
  {
   "cell_type": "code",
   "execution_count": 106,
   "metadata": {},
   "outputs": [
    {
     "data": {
      "text/plain": [
       "2    18534\n",
       "3    17767\n",
       "1     8909\n",
       "0      322\n",
       "Name: urban, dtype: int64"
      ]
     },
     "execution_count": 106,
     "metadata": {},
     "output_type": "execute_result"
    }
   ],
   "source": [
    "train_data['urban'].value_counts()"
   ]
  },
  {
   "cell_type": "code",
   "execution_count": 107,
   "metadata": {},
   "outputs": [
    {
     "data": {
      "text/html": [
       "<div>\n",
       "<style scoped>\n",
       "    .dataframe tbody tr th:only-of-type {\n",
       "        vertical-align: middle;\n",
       "    }\n",
       "\n",
       "    .dataframe tbody tr th {\n",
       "        vertical-align: top;\n",
       "    }\n",
       "\n",
       "    .dataframe thead th {\n",
       "        text-align: right;\n",
       "    }\n",
       "</style>\n",
       "<table border=\"1\" class=\"dataframe\">\n",
       "  <thead>\n",
       "    <tr style=\"text-align: right;\">\n",
       "      <th>voted</th>\n",
       "      <th>1</th>\n",
       "      <th>2</th>\n",
       "    </tr>\n",
       "    <tr>\n",
       "      <th>urban</th>\n",
       "      <th></th>\n",
       "      <th></th>\n",
       "    </tr>\n",
       "  </thead>\n",
       "  <tbody>\n",
       "    <tr>\n",
       "      <th>0</th>\n",
       "      <td>0.003602</td>\n",
       "      <td>0.003470</td>\n",
       "    </tr>\n",
       "    <tr>\n",
       "      <th>1</th>\n",
       "      <td>0.099227</td>\n",
       "      <td>0.096438</td>\n",
       "    </tr>\n",
       "    <tr>\n",
       "      <th>2</th>\n",
       "      <td>0.186616</td>\n",
       "      <td>0.220438</td>\n",
       "    </tr>\n",
       "    <tr>\n",
       "      <th>3</th>\n",
       "      <td>0.163731</td>\n",
       "      <td>0.226478</td>\n",
       "    </tr>\n",
       "  </tbody>\n",
       "</table>\n",
       "</div>"
      ],
      "text/plain": [
       "voted         1         2\n",
       "urban                    \n",
       "0      0.003602  0.003470\n",
       "1      0.099227  0.096438\n",
       "2      0.186616  0.220438\n",
       "3      0.163731  0.226478"
      ]
     },
     "execution_count": 107,
     "metadata": {},
     "output_type": "execute_result"
    }
   ],
   "source": [
    "pd.crosstab(train_data.urban, train_data.voted, normalize=True)"
   ]
  },
  {
   "cell_type": "code",
   "execution_count": 108,
   "metadata": {},
   "outputs": [],
   "source": [
    "train_data2['urban'] = train_data2['urban'].replace( 0, np.nan)\n",
    "train_data2['urban'] = train_data2['urban'].replace( 1, 'Rural')\n",
    "train_data2['urban'] = train_data2['urban'].replace( 2, 'Suburban')\n",
    "train_data2['urban'] = train_data2['urban'].replace( 3, 'Urban')"
   ]
  },
  {
   "cell_type": "code",
   "execution_count": 109,
   "metadata": {},
   "outputs": [],
   "source": [
    "test_data2['urban'] = test_data2['urban'].replace( 0, np.nan)\n",
    "test_data2['urban'] = test_data2['urban'].replace( 1, 'Rural')\n",
    "test_data2['urban'] = test_data2['urban'].replace( 2, 'Suburban')\n",
    "test_data2['urban'] = test_data2['urban'].replace( 3, 'Urban')"
   ]
  },
  {
   "cell_type": "code",
   "execution_count": 110,
   "metadata": {},
   "outputs": [
    {
     "data": {
      "text/plain": [
       "<matplotlib.axes._subplots.AxesSubplot at 0x1d0d48bd190>"
      ]
     },
     "execution_count": 110,
     "metadata": {},
     "output_type": "execute_result"
    },
    {
     "data": {
      "image/png": "[encoded data removed]",
      "text/plain": [
       "<Figure size 432x288 with 1 Axes>"
      ]
     },
     "metadata": {
      "needs_background": "light"
     },
     "output_type": "display_data"
    }
   ],
   "source": [
    "sns.countplot('urban',data=train_data2)"
   ]
  },
  {
   "cell_type": "markdown",
   "metadata": {},
   "source": [
    "#### 7. hand 컬럼 전처리\n",
    "- 결론적으로, 순서형 변수가 아니기 때문에 모두 명목형 변수로 변환, 0의 경우 무응답이라 결측치 처리"
   ]
  },
  {
   "cell_type": "code",
   "execution_count": 111,
   "metadata": {},
   "outputs": [
    {
     "data": {
      "text/plain": [
       "1    39058\n",
       "2     4692\n",
       "3     1621\n",
       "0      161\n",
       "Name: hand, dtype: int64"
      ]
     },
     "execution_count": 111,
     "metadata": {},
     "output_type": "execute_result"
    }
   ],
   "source": [
    "train_data['hand'].value_counts()"
   ]
  },
  {
   "cell_type": "code",
   "execution_count": 112,
   "metadata": {},
   "outputs": [
    {
     "data": {
      "text/html": [
       "<div>\n",
       "<style scoped>\n",
       "    .dataframe tbody tr th:only-of-type {\n",
       "        vertical-align: middle;\n",
       "    }\n",
       "\n",
       "    .dataframe tbody tr th {\n",
       "        vertical-align: top;\n",
       "    }\n",
       "\n",
       "    .dataframe thead th {\n",
       "        text-align: right;\n",
       "    }\n",
       "</style>\n",
       "<table border=\"1\" class=\"dataframe\">\n",
       "  <thead>\n",
       "    <tr style=\"text-align: right;\">\n",
       "      <th>voted</th>\n",
       "      <th>1</th>\n",
       "      <th>2</th>\n",
       "    </tr>\n",
       "    <tr>\n",
       "      <th>hand</th>\n",
       "      <th></th>\n",
       "      <th></th>\n",
       "    </tr>\n",
       "  </thead>\n",
       "  <tbody>\n",
       "    <tr>\n",
       "      <th>0</th>\n",
       "      <td>0.001296</td>\n",
       "      <td>0.002240</td>\n",
       "    </tr>\n",
       "    <tr>\n",
       "      <th>1</th>\n",
       "      <td>0.390033</td>\n",
       "      <td>0.467781</td>\n",
       "    </tr>\n",
       "    <tr>\n",
       "      <th>2</th>\n",
       "      <td>0.047351</td>\n",
       "      <td>0.055697</td>\n",
       "    </tr>\n",
       "    <tr>\n",
       "      <th>3</th>\n",
       "      <td>0.014495</td>\n",
       "      <td>0.021106</td>\n",
       "    </tr>\n",
       "  </tbody>\n",
       "</table>\n",
       "</div>"
      ],
      "text/plain": [
       "voted         1         2\n",
       "hand                     \n",
       "0      0.001296  0.002240\n",
       "1      0.390033  0.467781\n",
       "2      0.047351  0.055697\n",
       "3      0.014495  0.021106"
      ]
     },
     "execution_count": 112,
     "metadata": {},
     "output_type": "execute_result"
    }
   ],
   "source": [
    "pd.crosstab(train_data.hand, train_data.voted, normalize=True)"
   ]
  },
  {
   "cell_type": "code",
   "execution_count": 113,
   "metadata": {},
   "outputs": [],
   "source": [
    "train_data2['hand'] = train_data2['hand'].replace( 0, np.nan)\n",
    "train_data2['hand'] = train_data2['hand'].replace( 1, 'Right')\n",
    "train_data2['hand'] = train_data2['hand'].replace( 2, 'Left')\n",
    "train_data2['hand'] = train_data2['hand'].replace( 3, 'Both')"
   ]
  },
  {
   "cell_type": "code",
   "execution_count": 114,
   "metadata": {},
   "outputs": [],
   "source": [
    "test_data2['hand'] = test_data2['hand'].replace( 0, np.nan)\n",
    "test_data2['hand'] = test_data2['hand'].replace( 1, 'Right')\n",
    "test_data2['hand'] = test_data2['hand'].replace( 2, 'Left')\n",
    "test_data2['hand'] = test_data2['hand'].replace( 3, 'Both')"
   ]
  },
  {
   "cell_type": "code",
   "execution_count": 115,
   "metadata": {},
   "outputs": [
    {
     "data": {
      "text/plain": [
       "<matplotlib.axes._subplots.AxesSubplot at 0x1d0d45dcac0>"
      ]
     },
     "execution_count": 115,
     "metadata": {},
     "output_type": "execute_result"
    },
    {
     "data": {
      "image/png": "[encoded data removed]",
      "text/plain": [
       "<Figure size 432x288 with 1 Axes>"
      ]
     },
     "metadata": {
      "needs_background": "light"
     },
     "output_type": "display_data"
    }
   ],
   "source": [
    "sns.countplot('hand',data=train_data2)"
   ]
  },
  {
   "cell_type": "markdown",
   "metadata": {},
   "source": [
    "#### 8. married 전처리\n",
    "- 결론적으로, 순서형 변수가 아니기 때문에 모두 명목형 변수로 변환, 0의 경우 무응답이라 결측치 처리"
   ]
  },
  {
   "cell_type": "code",
   "execution_count": 116,
   "metadata": {},
   "outputs": [],
   "source": [
    "train_data2['married'] = train_data2['married'].replace( 0, 'Other')\n",
    "train_data2['married'] = train_data2['married'].replace( 1, 'Never Married')\n",
    "train_data2['married'] = train_data2['married'].replace( 2, 'Currently Married')\n",
    "train_data2['married'] = train_data2['married'].replace( 3, 'Previously Married')"
   ]
  },
  {
   "cell_type": "code",
   "execution_count": 117,
   "metadata": {},
   "outputs": [],
   "source": [
    "test_data2['married'] = test_data2['married'].replace( 0, 'Other')\n",
    "test_data2['married'] = test_data2['married'].replace( 1, 'Never Married')\n",
    "test_data2['married'] = test_data2['married'].replace( 2, 'Currently Married')\n",
    "test_data2['married'] = test_data2['married'].replace( 3, 'Previously Married')"
   ]
  },
  {
   "cell_type": "code",
   "execution_count": 118,
   "metadata": {},
   "outputs": [
    {
     "data": {
      "text/plain": [
       "<matplotlib.axes._subplots.AxesSubplot at 0x1d0d48d5370>"
      ]
     },
     "execution_count": 118,
     "metadata": {},
     "output_type": "execute_result"
    },
    {
     "data": {
      "image/png": "[encoded data removed]",
      "text/plain": [
       "<Figure size 432x288 with 1 Axes>"
      ]
     },
     "metadata": {
      "needs_background": "light"
     },
     "output_type": "display_data"
    }
   ],
   "source": [
    "sns.countplot('married',data=train_data2)"
   ]
  },
  {
   "cell_type": "code",
   "execution_count": 119,
   "metadata": {},
   "outputs": [
    {
     "data": {
      "text/plain": [
       "Never Married         31550\n",
       "Currently Married     10059\n",
       "Previously Married     3830\n",
       "Other                    93\n",
       "Name: married, dtype: int64"
      ]
     },
     "execution_count": 119,
     "metadata": {},
     "output_type": "execute_result"
    }
   ],
   "source": [
    "train_data2['married'].value_counts()"
   ]
  },
  {
   "cell_type": "markdown",
   "metadata": {},
   "source": [
    "#### 9. familysize 전처리\n",
    "- 형제자매수가 0인경우 특이점이 있을 경우를 고려해 외동여부 컬럼 생성\n",
    "- 형제자매수가 100이상인 경우 이상치로 판단하여 결측치 처리"
   ]
  },
  {
   "cell_type": "code",
   "execution_count": 120,
   "metadata": {},
   "outputs": [
    {
     "data": {
      "text/plain": [
       "2             17918\n",
       "3             11256\n",
       "1              6535\n",
       "4              4907\n",
       "5              1962\n",
       "0              1217\n",
       "6               838\n",
       "7               387\n",
       "8               221\n",
       "9               126\n",
       "10               59\n",
       "11               39\n",
       "12               21\n",
       "13               11\n",
       "14                9\n",
       "15                8\n",
       "44                3\n",
       "17                3\n",
       "21                2\n",
       "16                2\n",
       "20                2\n",
       "999               1\n",
       "100               1\n",
       "34                1\n",
       "18                1\n",
       "2147483647        1\n",
       "30                1\n",
       "Name: familysize, dtype: int64"
      ]
     },
     "execution_count": 120,
     "metadata": {},
     "output_type": "execute_result"
    }
   ],
   "source": [
    "train_data2['familysize'].value_counts()"
   ]
  },
  {
   "cell_type": "code",
   "execution_count": 121,
   "metadata": {},
   "outputs": [],
   "source": [
    "train_data2.loc[ train_data2['familysize']==0, 'nobrothersister' ] = 1\n",
    "train_data2.loc[ train_data2['familysize']!=0, 'nobrothersister' ] = 0"
   ]
  },
  {
   "cell_type": "code",
   "execution_count": 122,
   "metadata": {},
   "outputs": [],
   "source": [
    "train_data2.loc[ train_data2['familysize']> 100 , 'familysize' ] = np.nan"
   ]
  },
  {
   "cell_type": "code",
   "execution_count": 123,
   "metadata": {},
   "outputs": [],
   "source": [
    "test_data2.loc[ test_data2['familysize']> 100 , 'familysize' ] = np.nan"
   ]
  },
  {
   "cell_type": "code",
   "execution_count": 124,
   "metadata": {},
   "outputs": [
    {
     "data": {
      "text/plain": [
       "2.0      17918\n",
       "3.0      11256\n",
       "1.0       6535\n",
       "4.0       4907\n",
       "5.0       1962\n",
       "0.0       1217\n",
       "6.0        838\n",
       "7.0        387\n",
       "8.0        221\n",
       "9.0        126\n",
       "10.0        59\n",
       "11.0        39\n",
       "12.0        21\n",
       "13.0        11\n",
       "14.0         9\n",
       "15.0         8\n",
       "17.0         3\n",
       "44.0         3\n",
       "20.0         2\n",
       "16.0         2\n",
       "21.0         2\n",
       "18.0         1\n",
       "100.0        1\n",
       "34.0         1\n",
       "30.0         1\n",
       "Name: familysize, dtype: int64"
      ]
     },
     "execution_count": 124,
     "metadata": {},
     "output_type": "execute_result"
    }
   ],
   "source": [
    "train_data2['familysize'].value_counts()"
   ]
  },
  {
   "cell_type": "markdown",
   "metadata": {},
   "source": [
    "#### 10. Tipi 컬럼 전처리\n",
    "- 현재 컬럼내의 항목의 값들은  [  7  -  기존의 Tipi 컬럼 선택지 항목에서의 값 ] 이 들어가 있기 때문에 추후 관련 다양한 변수들을 만들어내는데 불리하다. 다시 원래대로 항목의 값들을 되돌려줄 예정이다"
   ]
  },
  {
   "cell_type": "code",
   "execution_count": 125,
   "metadata": {},
   "outputs": [
    {
     "data": {
      "text/plain": [
       "<matplotlib.axes._subplots.AxesSubplot at 0x1d0d4c50b20>"
      ]
     },
     "execution_count": 125,
     "metadata": {},
     "output_type": "execute_result"
    },
    {
     "data": {
      "image/png": "[encoded data removed]",
      "text/plain": [
       "<Figure size 432x288 with 1 Axes>"
      ]
     },
     "metadata": {
      "needs_background": "light"
     },
     "output_type": "display_data"
    }
   ],
   "source": [
    "sns.countplot('tp01',data=train_data2)"
   ]
  },
  {
   "cell_type": "code",
   "execution_count": 126,
   "metadata": {},
   "outputs": [
    {
     "data": {
      "text/plain": [
       "<matplotlib.axes._subplots.AxesSubplot at 0x1d0d4cde940>"
      ]
     },
     "execution_count": 126,
     "metadata": {},
     "output_type": "execute_result"
    },
    {
     "data": {
      "image/png": "[encoded data removed]",
      "text/plain": [
       "<Figure size 432x288 with 1 Axes>"
      ]
     },
     "metadata": {
      "needs_background": "light"
     },
     "output_type": "display_data"
    }
   ],
   "source": [
    "sns.countplot('tp02',data=train_data2)"
   ]
  },
  {
   "cell_type": "code",
   "execution_count": 127,
   "metadata": {},
   "outputs": [],
   "source": [
    "train_data2['tp01'] = 7 - train_data2['tp01']\n",
    "train_data2['tp02'] = 7 - train_data2['tp02']\n",
    "train_data2['tp03'] = 7 - train_data2['tp03']\n",
    "train_data2['tp04'] = 7 - train_data2['tp04']\n",
    "train_data2['tp05'] = 7 - train_data2['tp05']\n",
    "train_data2['tp06'] = 7 - train_data2['tp06']\n",
    "train_data2['tp07'] = 7 - train_data2['tp07']\n",
    "train_data2['tp08'] = 7 - train_data2['tp08']\n",
    "train_data2['tp09'] = 7 - train_data2['tp09']\n",
    "train_data2['tp10'] = 7 - train_data2['tp10']"
   ]
  },
  {
   "cell_type": "code",
   "execution_count": 128,
   "metadata": {},
   "outputs": [],
   "source": [
    "test_data2['tp01'] = 7 - test_data2['tp01']\n",
    "test_data2['tp02'] = 7 - test_data2['tp02']\n",
    "test_data2['tp03'] = 7 - test_data2['tp03']\n",
    "test_data2['tp04'] = 7 - test_data2['tp04']\n",
    "test_data2['tp05'] = 7 - test_data2['tp05']\n",
    "test_data2['tp06'] = 7 - test_data2['tp06']\n",
    "test_data2['tp07'] = 7 - test_data2['tp07']\n",
    "test_data2['tp08'] = 7 - test_data2['tp08']\n",
    "test_data2['tp09'] = 7 - test_data2['tp09']\n",
    "test_data2['tp10'] = 7 - test_data2['tp10']"
   ]
  },
  {
   "cell_type": "code",
   "execution_count": 129,
   "metadata": {},
   "outputs": [
    {
     "data": {
      "text/plain": [
       "<matplotlib.axes._subplots.AxesSubplot at 0x1d0d6d92340>"
      ]
     },
     "execution_count": 129,
     "metadata": {},
     "output_type": "execute_result"
    },
    {
     "data": {
      "image/png": "[encoded data removed]",
      "text/plain": [
       "<Figure size 432x288 with 1 Axes>"
      ]
     },
     "metadata": {
      "needs_background": "light"
     },
     "output_type": "display_data"
    }
   ],
   "source": [
    "sns.countplot('tp01',data=train_data2)"
   ]
  },
  {
   "cell_type": "code",
   "execution_count": 130,
   "metadata": {},
   "outputs": [
    {
     "data": {
      "text/plain": [
       "<matplotlib.axes._subplots.AxesSubplot at 0x1d0d44bea00>"
      ]
     },
     "execution_count": 130,
     "metadata": {},
     "output_type": "execute_result"
    },
    {
     "data": {
      "image/png": "[encoded data removed]",
      "text/plain": [
       "<Figure size 432x288 with 1 Axes>"
      ]
     },
     "metadata": {
      "needs_background": "light"
     },
     "output_type": "display_data"
    }
   ],
   "source": [
    "sns.countplot('tp02',data=train_data2)"
   ]
  },
  {
   "cell_type": "code",
   "execution_count": 131,
   "metadata": {},
   "outputs": [],
   "source": [
    "train_data2['tp01'] = train_data2['tp01'].replace(0, np.nan)\n",
    "train_data2['tp02'] = train_data2['tp02'].replace(0, np.nan)\n",
    "train_data2['tp03'] = train_data2['tp03'].replace(0, np.nan)\n",
    "train_data2['tp04'] = train_data2['tp04'].replace(0, np.nan)\n",
    "train_data2['tp05'] = train_data2['tp05'].replace(0, np.nan)\n",
    "train_data2['tp06'] = train_data2['tp06'].replace(0, np.nan)\n",
    "train_data2['tp07'] = train_data2['tp07'].replace(0, np.nan)\n",
    "train_data2['tp08'] = train_data2['tp08'].replace(0, np.nan)\n",
    "train_data2['tp09'] = train_data2['tp09'].replace(0, np.nan)\n",
    "train_data2['tp10'] = train_data2['tp10'].replace(0, np.nan)"
   ]
  },
  {
   "cell_type": "code",
   "execution_count": 132,
   "metadata": {},
   "outputs": [],
   "source": [
    "test_data2['tp01'] = test_data2['tp01'].replace(0, np.nan)\n",
    "test_data2['tp02'] = test_data2['tp02'].replace(0, np.nan)\n",
    "test_data2['tp03'] = test_data2['tp03'].replace(0, np.nan)\n",
    "test_data2['tp04'] = test_data2['tp04'].replace(0, np.nan)\n",
    "test_data2['tp05'] = test_data2['tp05'].replace(0, np.nan)\n",
    "test_data2['tp06'] = test_data2['tp06'].replace(0, np.nan)\n",
    "test_data2['tp07'] = test_data2['tp07'].replace(0, np.nan)\n",
    "test_data2['tp08'] = test_data2['tp08'].replace(0, np.nan)\n",
    "test_data2['tp09'] = test_data2['tp09'].replace(0, np.nan)\n",
    "test_data2['tp10'] = test_data2['tp10'].replace(0, np.nan)"
   ]
  },
  {
   "cell_type": "code",
   "execution_count": 133,
   "metadata": {},
   "outputs": [
    {
     "data": {
      "text/plain": [
       "<matplotlib.axes._subplots.AxesSubplot at 0x1d0d4531940>"
      ]
     },
     "execution_count": 133,
     "metadata": {},
     "output_type": "execute_result"
    },
    {
     "data": {
      "image/png": "[encoded data removed]",
      "text/plain": [
       "<Figure size 432x288 with 1 Axes>"
      ]
     },
     "metadata": {
      "needs_background": "light"
     },
     "output_type": "display_data"
    }
   ],
   "source": [
    "sns.countplot('tp03',data=train_data2)"
   ]
  },
  {
   "cell_type": "markdown",
   "metadata": {},
   "source": [
    "#### 11. tp데이터 추가적인 변수 생성\n",
    "- TIPI 지표 평가 관련자료를 참여하여 새로운 변수를 추가하였다"
   ]
  },
  {
   "attachments": {
    "image.png": {
     "image/png": "[encoded data removed]"
    }
   },
   "cell_type": "markdown",
   "metadata": {},
   "source": [
    "![image.png](attachment:image.png)"
   ]
  },
  {
   "cell_type": "code",
   "execution_count": 134,
   "metadata": {},
   "outputs": [],
   "source": [
    "train_data2['tp_Sincerity'] = ( train_data2['tp03'] + 8 - train_data2['tp08'] ) / 2\n",
    "train_data2['tp_Affinity'] = ( train_data2['tp07'] + 8 - train_data2['tp02'] ) / 2\n",
    "train_data2['tp_Emotional Stability'] = ( train_data2['tp09'] + 8 - train_data2['tp04'] ) / 2\n",
    "train_data2['tp_Experience Openess'] = ( train_data2['tp05'] + 8 - train_data2['tp10'] ) / 2\n",
    "train_data2['tp_Extrovertness'] = ( train_data2['tp01'] + 8 - train_data2['tp06'] ) / 2"
   ]
  },
  {
   "cell_type": "code",
   "execution_count": 135,
   "metadata": {},
   "outputs": [],
   "source": [
    "test_data2['tp_Sincerity'] = ( test_data2['tp03'] + 8 - test_data2['tp08'] ) / 2\n",
    "test_data2['tp_Affinity'] = ( test_data2['tp07'] + 8 - test_data2['tp02'] ) / 2\n",
    "test_data2['tp_Emotional Stability'] = ( test_data2['tp09'] + 8 - test_data2['tp04'] ) / 2\n",
    "test_data2['tp_Experience Openes'] = ( test_data2['tp05'] + 8 - test_data2['tp10'] ) / 2\n",
    "test_data2['tp_Extrovertness'] = ( test_data2['tp01'] + 8 - test_data2['tp06'] ) / 2"
   ]
  },
  {
   "cell_type": "code",
   "execution_count": 136,
   "metadata": {},
   "outputs": [
    {
     "data": {
      "text/plain": [
       "Index(['index', 'QaA', 'QaE', 'QbA', 'QbE', 'QcA', 'QcE', 'QdA', 'QdE', 'QeA',\n",
       "       'QeE', 'QfA', 'QfE', 'QgA', 'QgE', 'QhA', 'QhE', 'QiA', 'QiE', 'QjA',\n",
       "       'QjE', 'QkA', 'QkE', 'QlA', 'QlE', 'QmA', 'QmE', 'QnA', 'QnE', 'QoA',\n",
       "       'QoE', 'QpA', 'QpE', 'QqA', 'QqE', 'QrA', 'QrE', 'QsA', 'QsE', 'QtA',\n",
       "       'QtE', 'age_group', 'education', 'engnat', 'familysize', 'gender',\n",
       "       'hand', 'married', 'race', 'religion', 'tp01', 'tp02', 'tp03', 'tp04',\n",
       "       'tp05', 'tp06', 'tp07', 'tp08', 'tp09', 'tp10', 'urban', 'voted',\n",
       "       'wf_01', 'wf_02', 'wf_03', 'wr_01', 'wr_02', 'wr_03', 'wr_04', 'wr_05',\n",
       "       'wr_06', 'wr_07', 'wr_08', 'wr_09', 'wr_10', 'wr_11', 'wr_12', 'wr_13',\n",
       "       'nobrothersister', 'tp_Sincerity', 'tp_Affinity',\n",
       "       'tp_Emotional Stability', 'tp_Experience Openess', 'tp_Extrovertness'],\n",
       "      dtype='object')"
      ]
     },
     "execution_count": 136,
     "metadata": {},
     "output_type": "execute_result"
    }
   ],
   "source": [
    "train_data2.columns"
   ]
  },
  {
   "cell_type": "code",
   "execution_count": 137,
   "metadata": {
    "scrolled": true
   },
   "outputs": [
    {
     "data": {
      "text/plain": [
       "Index(['index', 'QaA', 'QaE', 'QbA', 'QbE', 'QcA', 'QcE', 'QdA', 'QdE', 'QeA',\n",
       "       'QeE', 'QfA', 'QfE', 'QgA', 'QgE', 'QhA', 'QhE', 'QiA', 'QiE', 'QjA',\n",
       "       'QjE', 'QkA', 'QkE', 'QlA', 'QlE', 'QmA', 'QmE', 'QnA', 'QnE', 'QoA',\n",
       "       'QoE', 'QpA', 'QpE', 'QqA', 'QqE', 'QrA', 'QrE', 'QsA', 'QsE', 'QtA',\n",
       "       'QtE', 'age_group', 'education', 'engnat', 'familysize', 'gender',\n",
       "       'hand', 'married', 'race', 'religion', 'tp01', 'tp02', 'tp03', 'tp04',\n",
       "       'tp05', 'tp06', 'tp07', 'tp08', 'tp09', 'tp10', 'urban', 'wf_01',\n",
       "       'wf_02', 'wf_03', 'wr_01', 'wr_02', 'wr_03', 'wr_04', 'wr_05', 'wr_06',\n",
       "       'wr_07', 'wr_08', 'wr_09', 'wr_10', 'wr_11', 'wr_12', 'wr_13',\n",
       "       'tp_Sincerity', 'tp_Affinity', 'tp_Emotional Stability',\n",
       "       'tp_Experience Openes', 'tp_Extrovertness'],\n",
       "      dtype='object')"
      ]
     },
     "execution_count": 137,
     "metadata": {},
     "output_type": "execute_result"
    }
   ],
   "source": [
    "test_data2.columns"
   ]
  },
  {
   "cell_type": "markdown",
   "metadata": {},
   "source": [
    "#### 12. 마키아밸리 점수 계산\n",
    "- \"QaA\", \"QdA\", \"QgA\", \"QiA\", \"QnA\"이 타 질문들과 음의 관계를 가지고 있어, 6 - train_data2[i]으로 형태를 변환한다"
   ]
  },
  {
   "cell_type": "code",
   "execution_count": 138,
   "metadata": {},
   "outputs": [
    {
     "data": {
      "text/plain": [
       "<matplotlib.axes._subplots.AxesSubplot at 0x1d0d45a7220>"
      ]
     },
     "execution_count": 138,
     "metadata": {},
     "output_type": "execute_result"
    },
    {
     "data": {
      "image/png": "[encoded data removed]",
      "text/plain": [
       "<Figure size 432x288 with 1 Axes>"
      ]
     },
     "metadata": {
      "needs_background": "light"
     },
     "output_type": "display_data"
    }
   ],
   "source": [
    "sns.countplot('QaA',data=train_data2)"
   ]
  },
  {
   "cell_type": "code",
   "execution_count": 139,
   "metadata": {},
   "outputs": [],
   "source": [
    "for i in [\"QaA\", \"QdA\", \"QgA\", \"QiA\", \"QnA\"]:\n",
    "    train_data2[i] = 6 - train_data2[i]\n",
    "    test_data2[i] = 6 - test_data2[i]"
   ]
  },
  {
   "cell_type": "code",
   "execution_count": 140,
   "metadata": {},
   "outputs": [
    {
     "data": {
      "text/plain": [
       "<matplotlib.axes._subplots.AxesSubplot at 0x1d0d5d2caf0>"
      ]
     },
     "execution_count": 140,
     "metadata": {},
     "output_type": "execute_result"
    },
    {
     "data": {
      "image/png": "[encoded data removed]",
      "text/plain": [
       "<Figure size 432x288 with 1 Axes>"
      ]
     },
     "metadata": {
      "needs_background": "light"
     },
     "output_type": "display_data"
    }
   ],
   "source": [
    "sns.countplot('QaA',data=train_data2)"
   ]
  },
  {
   "cell_type": "code",
   "execution_count": 141,
   "metadata": {},
   "outputs": [],
   "source": [
    "train_data2['Machiavelli Score'] = train_data2[ ['QaA', 'QbA', 'QcA', 'QdA', 'QeA',\n",
    "             'QfA', 'QgA', 'QhA', 'QiA', 'QjA', \n",
    "             'QkA', 'QlA', 'QmA', 'QnA', 'QoA', \n",
    "             'QpA', 'QqA', 'QrA', 'QsA', 'QtA']].mean(axis=1)"
   ]
  },
  {
   "cell_type": "code",
   "execution_count": 142,
   "metadata": {},
   "outputs": [],
   "source": [
    "test_data2['Machiavelli Score'] = test_data2[ ['QaA', 'QbA', 'QcA', 'QdA', 'QeA',\n",
    "             'QfA', 'QgA', 'QhA', 'QiA', 'QjA', \n",
    "             'QkA', 'QlA', 'QmA', 'QnA', 'QoA', \n",
    "             'QpA', 'QqA', 'QrA', 'QsA', 'QtA']].mean(axis=1)"
   ]
  },
  {
   "cell_type": "markdown",
   "metadata": {},
   "source": [
    "#### 13. 허구인 단어의 정의를 앎, 실존하는 해당 단어의 정의을 앎 관련 변수 전처리\n",
    "- 관련 자료가 없어, 최대한 창의적으로 변수를 생성하였다"
   ]
  },
  {
   "cell_type": "code",
   "execution_count": 143,
   "metadata": {},
   "outputs": [],
   "source": [
    "train_data2['wf_sum'] = train_data2['wf_01'] + train_data2['wf_02'] + train_data2['wf_03']\n",
    "train_data2['wr_sum'] = train_data2['wr_01'] + train_data2['wr_02'] + train_data2['wr_03'] + train_data2['wr_04'] + train_data2['wr_05'] + train_data2['wr_06'] + train_data2['wr_07'] + train_data2['wr_08'] + train_data2['wr_09'] + train_data2['wr_10'] + train_data2['wr_11'] + train_data2['wr_12'] + train_data2['wr_13']\n",
    "train_data2['wfr_sum'] = train_data2['wf_sum'] + train_data2['wr_sum']\n",
    "train_data2['wfr_minus'] = train_data2['wf_sum'] - train_data2['wr_sum']\n"
   ]
  },
  {
   "cell_type": "markdown",
   "metadata": {},
   "source": [
    "#### 14. 명목형 변수 인코딩"
   ]
  },
  {
   "cell_type": "code",
   "execution_count": 144,
   "metadata": {},
   "outputs": [],
   "source": [
    "train_data3 = pd.get_dummies(train_data2)\n",
    "test_data3 = pd.get_dummies(test_data2)"
   ]
  },
  {
   "cell_type": "code",
   "execution_count": 145,
   "metadata": {},
   "outputs": [],
   "source": [
    "# train_data3 = train_data2.copy()\n",
    "# test_data3 = test_data2.copy()"
   ]
  },
  {
   "cell_type": "code",
   "execution_count": 146,
   "metadata": {},
   "outputs": [
    {
     "data": {
      "text/plain": [
       "Index(['index', 'QaA', 'QaE', 'QbA', 'QbE', 'QcA', 'QcE', 'QdA', 'QdE', 'QeA',\n",
       "       ...\n",
       "       'religion_Christian_Other', 'religion_Christian_Protestant',\n",
       "       'religion_Hindu', 'religion_Jewish', 'religion_Muslim',\n",
       "       'religion_Other', 'religion_Sikh', 'urban_Rural', 'urban_Suburban',\n",
       "       'urban_Urban'],\n",
       "      dtype='object', length=123)"
      ]
     },
     "execution_count": 146,
     "metadata": {},
     "output_type": "execute_result"
    }
   ],
   "source": [
    "train_data3.columns"
   ]
  },
  {
   "cell_type": "code",
   "execution_count": 147,
   "metadata": {},
   "outputs": [
    {
     "name": "stdout",
     "output_type": "stream",
     "text": [
      "index\n",
      "QaA\n",
      "QaE\n",
      "QbA\n",
      "QbE\n",
      "QcA\n",
      "QcE\n",
      "QdA\n",
      "QdE\n",
      "QeA\n",
      "QeE\n",
      "QfA\n",
      "QfE\n",
      "QgA\n",
      "QgE\n",
      "QhA\n",
      "QhE\n",
      "QiA\n",
      "QiE\n",
      "QjA\n",
      "QjE\n",
      "QkA\n",
      "QkE\n",
      "QlA\n",
      "QlE\n",
      "QmA\n",
      "QmE\n",
      "QnA\n",
      "QnE\n",
      "QoA\n",
      "QoE\n",
      "QpA\n",
      "QpE\n",
      "QqA\n",
      "QqE\n",
      "QrA\n",
      "QrE\n",
      "QsA\n",
      "QsE\n",
      "QtA\n",
      "QtE\n",
      "engnat\n",
      "familysize\n",
      "tp01\n",
      "tp02\n",
      "tp03\n",
      "tp04\n",
      "tp05\n",
      "tp06\n",
      "tp07\n",
      "tp08\n",
      "tp09\n",
      "tp10\n",
      "wf_01\n",
      "wf_02\n",
      "wf_03\n",
      "wr_01\n",
      "wr_02\n",
      "wr_03\n",
      "wr_04\n",
      "wr_05\n",
      "wr_06\n",
      "wr_07\n",
      "wr_08\n",
      "wr_09\n",
      "wr_10\n",
      "wr_11\n",
      "wr_12\n",
      "wr_13\n",
      "tp_Sincerity\n",
      "tp_Affinity\n",
      "tp_Emotional Stability\n",
      "tp_Experience Openes\n",
      "tp_Extrovertness\n",
      "Machiavelli Score\n",
      "age_group_+70s\n",
      "age_group_10s\n",
      "age_group_20s\n",
      "age_group_30s\n",
      "age_group_40s\n",
      "age_group_50s\n",
      "age_group_60s\n",
      "education_Graduate degree\n",
      "education_High school\n",
      "education_Less than high school\n",
      "education_University degree\n",
      "gender_Female\n",
      "gender_Male\n",
      "hand_Both\n",
      "hand_Left\n",
      "hand_Right\n",
      "married_Currently Married\n",
      "married_Never Married\n",
      "married_Other\n",
      "married_Previously Married\n",
      "race_Arab\n",
      "race_Asian\n",
      "race_Black\n",
      "race_Indigenous Australian\n",
      "race_Native American\n",
      "race_Other\n",
      "race_White\n",
      "religion_Agnostic\n",
      "religion_Atheist\n",
      "religion_Buddhist\n",
      "religion_Christian_Catholic\n",
      "religion_Christian_Mormon\n",
      "religion_Christian_Other\n",
      "religion_Christian_Protestant\n",
      "religion_Hindu\n",
      "religion_Jewish\n",
      "religion_Muslim\n",
      "religion_Other\n",
      "religion_Sikh\n",
      "urban_Rural\n",
      "urban_Suburban\n",
      "urban_Urban\n"
     ]
    }
   ],
   "source": [
    "for  i in test_data3.columns:\n",
    "    print(i)"
   ]
  },
  {
   "cell_type": "markdown",
   "metadata": {},
   "source": [
    "#### 15. index 컬럼 제거\n",
    "-유의미한 변수로 사용될 수 없는 index 컬럼을 제거하였다"
   ]
  },
  {
   "cell_type": "code",
   "execution_count": 148,
   "metadata": {
    "scrolled": true
   },
   "outputs": [],
   "source": [
    "train_data3 = train_data3.drop('index', axis=1)\n",
    "test_data3 = test_data3.drop('index', axis=1)"
   ]
  },
  {
   "cell_type": "code",
   "execution_count": 149,
   "metadata": {},
   "outputs": [],
   "source": [
    "# train_data3 = train_data3.drop(['race_Black','religion_Muslim','race_Indigenous Australian', 'race_Arab','religion_Jewish','religion_Christian_Mormon'\n",
    "# ,'married_Other','hand_Right','wr_08','hand_Left','hand_Both','wr_10','wr_12','wr_07','religion_Sikh','wr_12','wr_07','wf_03' ]\n",
    "# , axis=1)"
   ]
  },
  {
   "cell_type": "code",
   "execution_count": 150,
   "metadata": {},
   "outputs": [],
   "source": [
    "# test_data3 = test_data3.drop(['race_Black','religion_Muslim','race_Indigenous Australian', 'race_Arab','religion_Jewish','religion_Christian_Mormon'\n",
    "# ,'married_Other','hand_Right','wr_08','hand_Left','hand_Both','wr_10','wr_12','wr_07','religion_Sikh','wr_12','wr_07','wf_03' ]\n",
    "# , axis=1)"
   ]
  },
  {
   "cell_type": "code",
   "execution_count": 151,
   "metadata": {},
   "outputs": [],
   "source": [
    "# selected_data = train_data3[['voted','race_Asian','race_White','age_group_10s','education_High school', 'education_Less than high school','engnat','tp_Emotional Stability','tp06','education_University degree','age_group_20s','tp_Sincerity','married_Currently Married','wr_06','religion_Other','married_Never Married']]\n",
    "# train_data3 = selected_data.copy()"
   ]
  }
 ],
 "metadata": {
  "kernelspec": {
   "display_name": "Python 3",
   "language": "python",
   "name": "python3"
  },
  "language_info": {
   "codemirror_mode": {
    "name": "ipython",
    "version": 3
   },
   "file_extension": ".py",
   "mimetype": "text/x-python",
   "name": "python",
   "nbconvert_exporter": "python",
   "pygments_lexer": "ipython3",
   "version": "3.8.3"
  }
 },
 "nbformat": 4,
 "nbformat_minor": 4
}

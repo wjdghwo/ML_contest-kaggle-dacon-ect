{
 "cells": [
  {
   "cell_type": "markdown",
   "metadata": {
    "id": "FAoo4UE6ZtiM"
   },
   "source": [
    "# Give Me Some Credit"
   ]
  },
  {
   "cell_type": "code",
   "execution_count": 1,
   "metadata": {
    "id": "KJlq4nTgZtiO"
   },
   "outputs": [],
   "source": [
    "import pandas as pd # package for high-performance, easy-to-use data structures and data analysis\n",
    "import numpy as np # fundamental package for scientific computing with Python\n",
    "import matplotlib\n",
    "import matplotlib.pyplot as plt # for plotting\n",
    "import seaborn as sns # for making plots with seaborn\n",
    "import warnings\n",
    "%matplotlib inline\n",
    "warnings.filterwarnings('ignore')"
   ]
  },
  {
   "cell_type": "code",
   "execution_count": 2,
   "metadata": {
    "id": "6CMcZRbeZtiV"
   },
   "outputs": [],
   "source": [
    "train=pd.read_csv('cs-training.csv')\n",
    "test=pd.read_csv('cs-test.csv')\n",
    "X=train\n",
    "Y=test"
   ]
  },
  {
   "cell_type": "code",
   "execution_count": 4,
   "metadata": {
    "id": "KEbMELOUZtic",
    "outputId": "033cdb41-6116-4e6f-be40-367ea8b1070e"
   },
   "outputs": [
    {
     "data": {
      "text/plain": [
       "Index(['Unnamed: 0', 'SeriousDlqin2yrs',\n",
       "       'RevolvingUtilizationOfUnsecuredLines', 'age',\n",
       "       'NumberOfTime30-59DaysPastDueNotWorse', 'DebtRatio', 'MonthlyIncome',\n",
       "       'NumberOfOpenCreditLinesAndLoans', 'NumberOfTimes90DaysLate',\n",
       "       'NumberRealEstateLoansOrLines', 'NumberOfTime60-89DaysPastDueNotWorse',\n",
       "       'NumberOfDependents'],\n",
       "      dtype='object')"
      ]
     },
     "execution_count": 4,
     "metadata": {},
     "output_type": "execute_result"
    }
   ],
   "source": [
    "X.columns"
   ]
  },
  {
   "cell_type": "code",
   "execution_count": 5,
   "metadata": {
    "id": "pZXVWES1Ztij",
    "outputId": "71911f8d-ce0a-4e80-d6d1-9cc8e8d62124"
   },
   "outputs": [
    {
     "data": {
      "text/plain": [
       "Index(['Unnamed: 0', 'SeriousDlqin2yrs',\n",
       "       'RevolvingUtilizationOfUnsecuredLines', 'age',\n",
       "       'NumberOfTime30-59DaysPastDueNotWorse', 'DebtRatio', 'MonthlyIncome',\n",
       "       'NumberOfOpenCreditLinesAndLoans', 'NumberOfTimes90DaysLate',\n",
       "       'NumberRealEstateLoansOrLines', 'NumberOfTime60-89DaysPastDueNotWorse',\n",
       "       'NumberOfDependents'],\n",
       "      dtype='object')"
      ]
     },
     "execution_count": 5,
     "metadata": {},
     "output_type": "execute_result"
    }
   ],
   "source": [
    "Y.columns"
   ]
  },
  {
   "cell_type": "code",
   "execution_count": 6,
   "metadata": {
    "id": "bLKkVB8DZtip",
    "outputId": "ef79d75e-651f-47bc-ca28-37ba3e683db4"
   },
   "outputs": [
    {
     "data": {
      "text/html": [
       "<div>\n",
       "<style scoped>\n",
       "    .dataframe tbody tr th:only-of-type {\n",
       "        vertical-align: middle;\n",
       "    }\n",
       "\n",
       "    .dataframe tbody tr th {\n",
       "        vertical-align: top;\n",
       "    }\n",
       "\n",
       "    .dataframe thead th {\n",
       "        text-align: right;\n",
       "    }\n",
       "</style>\n",
       "<table border=\"1\" class=\"dataframe\">\n",
       "  <thead>\n",
       "    <tr style=\"text-align: right;\">\n",
       "      <th></th>\n",
       "      <th>Unnamed: 0</th>\n",
       "      <th>SeriousDlqin2yrs</th>\n",
       "      <th>RevolvingUtilizationOfUnsecuredLines</th>\n",
       "      <th>age</th>\n",
       "      <th>NumberOfTime30-59DaysPastDueNotWorse</th>\n",
       "      <th>DebtRatio</th>\n",
       "      <th>MonthlyIncome</th>\n",
       "      <th>NumberOfOpenCreditLinesAndLoans</th>\n",
       "      <th>NumberOfTimes90DaysLate</th>\n",
       "      <th>NumberRealEstateLoansOrLines</th>\n",
       "      <th>NumberOfTime60-89DaysPastDueNotWorse</th>\n",
       "      <th>NumberOfDependents</th>\n",
       "    </tr>\n",
       "  </thead>\n",
       "  <tbody>\n",
       "    <tr>\n",
       "      <th>count</th>\n",
       "      <td>150000.000000</td>\n",
       "      <td>150000.000000</td>\n",
       "      <td>150000.000000</td>\n",
       "      <td>150000.000000</td>\n",
       "      <td>150000.000000</td>\n",
       "      <td>150000.000000</td>\n",
       "      <td>1.202690e+05</td>\n",
       "      <td>150000.000000</td>\n",
       "      <td>150000.000000</td>\n",
       "      <td>150000.000000</td>\n",
       "      <td>150000.000000</td>\n",
       "      <td>146076.000000</td>\n",
       "    </tr>\n",
       "    <tr>\n",
       "      <th>mean</th>\n",
       "      <td>75000.500000</td>\n",
       "      <td>0.066840</td>\n",
       "      <td>6.048438</td>\n",
       "      <td>52.295207</td>\n",
       "      <td>0.421033</td>\n",
       "      <td>353.005076</td>\n",
       "      <td>6.670221e+03</td>\n",
       "      <td>8.452760</td>\n",
       "      <td>0.265973</td>\n",
       "      <td>1.018240</td>\n",
       "      <td>0.240387</td>\n",
       "      <td>0.757222</td>\n",
       "    </tr>\n",
       "    <tr>\n",
       "      <th>std</th>\n",
       "      <td>43301.414527</td>\n",
       "      <td>0.249746</td>\n",
       "      <td>249.755371</td>\n",
       "      <td>14.771866</td>\n",
       "      <td>4.192781</td>\n",
       "      <td>2037.818523</td>\n",
       "      <td>1.438467e+04</td>\n",
       "      <td>5.145951</td>\n",
       "      <td>4.169304</td>\n",
       "      <td>1.129771</td>\n",
       "      <td>4.155179</td>\n",
       "      <td>1.115086</td>\n",
       "    </tr>\n",
       "    <tr>\n",
       "      <th>min</th>\n",
       "      <td>1.000000</td>\n",
       "      <td>0.000000</td>\n",
       "      <td>0.000000</td>\n",
       "      <td>0.000000</td>\n",
       "      <td>0.000000</td>\n",
       "      <td>0.000000</td>\n",
       "      <td>0.000000e+00</td>\n",
       "      <td>0.000000</td>\n",
       "      <td>0.000000</td>\n",
       "      <td>0.000000</td>\n",
       "      <td>0.000000</td>\n",
       "      <td>0.000000</td>\n",
       "    </tr>\n",
       "    <tr>\n",
       "      <th>25%</th>\n",
       "      <td>37500.750000</td>\n",
       "      <td>0.000000</td>\n",
       "      <td>0.029867</td>\n",
       "      <td>41.000000</td>\n",
       "      <td>0.000000</td>\n",
       "      <td>0.175074</td>\n",
       "      <td>3.400000e+03</td>\n",
       "      <td>5.000000</td>\n",
       "      <td>0.000000</td>\n",
       "      <td>0.000000</td>\n",
       "      <td>0.000000</td>\n",
       "      <td>0.000000</td>\n",
       "    </tr>\n",
       "    <tr>\n",
       "      <th>50%</th>\n",
       "      <td>75000.500000</td>\n",
       "      <td>0.000000</td>\n",
       "      <td>0.154181</td>\n",
       "      <td>52.000000</td>\n",
       "      <td>0.000000</td>\n",
       "      <td>0.366508</td>\n",
       "      <td>5.400000e+03</td>\n",
       "      <td>8.000000</td>\n",
       "      <td>0.000000</td>\n",
       "      <td>1.000000</td>\n",
       "      <td>0.000000</td>\n",
       "      <td>0.000000</td>\n",
       "    </tr>\n",
       "    <tr>\n",
       "      <th>75%</th>\n",
       "      <td>112500.250000</td>\n",
       "      <td>0.000000</td>\n",
       "      <td>0.559046</td>\n",
       "      <td>63.000000</td>\n",
       "      <td>0.000000</td>\n",
       "      <td>0.868254</td>\n",
       "      <td>8.249000e+03</td>\n",
       "      <td>11.000000</td>\n",
       "      <td>0.000000</td>\n",
       "      <td>2.000000</td>\n",
       "      <td>0.000000</td>\n",
       "      <td>1.000000</td>\n",
       "    </tr>\n",
       "    <tr>\n",
       "      <th>max</th>\n",
       "      <td>150000.000000</td>\n",
       "      <td>1.000000</td>\n",
       "      <td>50708.000000</td>\n",
       "      <td>109.000000</td>\n",
       "      <td>98.000000</td>\n",
       "      <td>329664.000000</td>\n",
       "      <td>3.008750e+06</td>\n",
       "      <td>58.000000</td>\n",
       "      <td>98.000000</td>\n",
       "      <td>54.000000</td>\n",
       "      <td>98.000000</td>\n",
       "      <td>20.000000</td>\n",
       "    </tr>\n",
       "  </tbody>\n",
       "</table>\n",
       "</div>"
      ],
      "text/plain": [
       "          Unnamed: 0  SeriousDlqin2yrs  RevolvingUtilizationOfUnsecuredLines  \\\n",
       "count  150000.000000     150000.000000                         150000.000000   \n",
       "mean    75000.500000          0.066840                              6.048438   \n",
       "std     43301.414527          0.249746                            249.755371   \n",
       "min         1.000000          0.000000                              0.000000   \n",
       "25%     37500.750000          0.000000                              0.029867   \n",
       "50%     75000.500000          0.000000                              0.154181   \n",
       "75%    112500.250000          0.000000                              0.559046   \n",
       "max    150000.000000          1.000000                          50708.000000   \n",
       "\n",
       "                 age  NumberOfTime30-59DaysPastDueNotWorse      DebtRatio  \\\n",
       "count  150000.000000                         150000.000000  150000.000000   \n",
       "mean       52.295207                              0.421033     353.005076   \n",
       "std        14.771866                              4.192781    2037.818523   \n",
       "min         0.000000                              0.000000       0.000000   \n",
       "25%        41.000000                              0.000000       0.175074   \n",
       "50%        52.000000                              0.000000       0.366508   \n",
       "75%        63.000000                              0.000000       0.868254   \n",
       "max       109.000000                             98.000000  329664.000000   \n",
       "\n",
       "       MonthlyIncome  NumberOfOpenCreditLinesAndLoans  \\\n",
       "count   1.202690e+05                    150000.000000   \n",
       "mean    6.670221e+03                         8.452760   \n",
       "std     1.438467e+04                         5.145951   \n",
       "min     0.000000e+00                         0.000000   \n",
       "25%     3.400000e+03                         5.000000   \n",
       "50%     5.400000e+03                         8.000000   \n",
       "75%     8.249000e+03                        11.000000   \n",
       "max     3.008750e+06                        58.000000   \n",
       "\n",
       "       NumberOfTimes90DaysLate  NumberRealEstateLoansOrLines  \\\n",
       "count            150000.000000                 150000.000000   \n",
       "mean                  0.265973                      1.018240   \n",
       "std                   4.169304                      1.129771   \n",
       "min                   0.000000                      0.000000   \n",
       "25%                   0.000000                      0.000000   \n",
       "50%                   0.000000                      1.000000   \n",
       "75%                   0.000000                      2.000000   \n",
       "max                  98.000000                     54.000000   \n",
       "\n",
       "       NumberOfTime60-89DaysPastDueNotWorse  NumberOfDependents  \n",
       "count                         150000.000000       146076.000000  \n",
       "mean                               0.240387            0.757222  \n",
       "std                                4.155179            1.115086  \n",
       "min                                0.000000            0.000000  \n",
       "25%                                0.000000            0.000000  \n",
       "50%                                0.000000            0.000000  \n",
       "75%                                0.000000            1.000000  \n",
       "max                               98.000000           20.000000  "
      ]
     },
     "execution_count": 6,
     "metadata": {},
     "output_type": "execute_result"
    }
   ],
   "source": [
    "X.describe()"
   ]
  },
  {
   "cell_type": "code",
   "execution_count": 7,
   "metadata": {
    "id": "sXj-tRwaZtiu",
    "outputId": "20d9c8cc-39dd-4127-ca45-c759e1a4416b"
   },
   "outputs": [
    {
     "data": {
      "text/html": [
       "<div>\n",
       "<style scoped>\n",
       "    .dataframe tbody tr th:only-of-type {\n",
       "        vertical-align: middle;\n",
       "    }\n",
       "\n",
       "    .dataframe tbody tr th {\n",
       "        vertical-align: top;\n",
       "    }\n",
       "\n",
       "    .dataframe thead th {\n",
       "        text-align: right;\n",
       "    }\n",
       "</style>\n",
       "<table border=\"1\" class=\"dataframe\">\n",
       "  <thead>\n",
       "    <tr style=\"text-align: right;\">\n",
       "      <th></th>\n",
       "      <th>Unnamed: 0</th>\n",
       "      <th>SeriousDlqin2yrs</th>\n",
       "      <th>RevolvingUtilizationOfUnsecuredLines</th>\n",
       "      <th>age</th>\n",
       "      <th>NumberOfTime30-59DaysPastDueNotWorse</th>\n",
       "      <th>DebtRatio</th>\n",
       "      <th>MonthlyIncome</th>\n",
       "      <th>NumberOfOpenCreditLinesAndLoans</th>\n",
       "      <th>NumberOfTimes90DaysLate</th>\n",
       "      <th>NumberRealEstateLoansOrLines</th>\n",
       "      <th>NumberOfTime60-89DaysPastDueNotWorse</th>\n",
       "      <th>NumberOfDependents</th>\n",
       "    </tr>\n",
       "  </thead>\n",
       "  <tbody>\n",
       "    <tr>\n",
       "      <th>count</th>\n",
       "      <td>101503.000000</td>\n",
       "      <td>0.0</td>\n",
       "      <td>101503.000000</td>\n",
       "      <td>101503.000000</td>\n",
       "      <td>101503.000000</td>\n",
       "      <td>101503.000000</td>\n",
       "      <td>8.140000e+04</td>\n",
       "      <td>101503.000000</td>\n",
       "      <td>101503.000000</td>\n",
       "      <td>101503.000000</td>\n",
       "      <td>101503.000000</td>\n",
       "      <td>98877.000000</td>\n",
       "    </tr>\n",
       "    <tr>\n",
       "      <th>mean</th>\n",
       "      <td>50752.000000</td>\n",
       "      <td>NaN</td>\n",
       "      <td>5.310000</td>\n",
       "      <td>52.405436</td>\n",
       "      <td>0.453770</td>\n",
       "      <td>344.475020</td>\n",
       "      <td>6.855036e+03</td>\n",
       "      <td>8.453514</td>\n",
       "      <td>0.296691</td>\n",
       "      <td>1.013074</td>\n",
       "      <td>0.270317</td>\n",
       "      <td>0.769046</td>\n",
       "    </tr>\n",
       "    <tr>\n",
       "      <th>std</th>\n",
       "      <td>29301.536524</td>\n",
       "      <td>NaN</td>\n",
       "      <td>196.156039</td>\n",
       "      <td>14.779756</td>\n",
       "      <td>4.538487</td>\n",
       "      <td>1632.595231</td>\n",
       "      <td>3.650860e+04</td>\n",
       "      <td>5.144100</td>\n",
       "      <td>4.515859</td>\n",
       "      <td>1.110253</td>\n",
       "      <td>4.503578</td>\n",
       "      <td>1.136778</td>\n",
       "    </tr>\n",
       "    <tr>\n",
       "      <th>min</th>\n",
       "      <td>1.000000</td>\n",
       "      <td>NaN</td>\n",
       "      <td>0.000000</td>\n",
       "      <td>21.000000</td>\n",
       "      <td>0.000000</td>\n",
       "      <td>0.000000</td>\n",
       "      <td>0.000000e+00</td>\n",
       "      <td>0.000000</td>\n",
       "      <td>0.000000</td>\n",
       "      <td>0.000000</td>\n",
       "      <td>0.000000</td>\n",
       "      <td>0.000000</td>\n",
       "    </tr>\n",
       "    <tr>\n",
       "      <th>25%</th>\n",
       "      <td>25376.500000</td>\n",
       "      <td>NaN</td>\n",
       "      <td>0.030131</td>\n",
       "      <td>41.000000</td>\n",
       "      <td>0.000000</td>\n",
       "      <td>0.173423</td>\n",
       "      <td>3.408000e+03</td>\n",
       "      <td>5.000000</td>\n",
       "      <td>0.000000</td>\n",
       "      <td>0.000000</td>\n",
       "      <td>0.000000</td>\n",
       "      <td>0.000000</td>\n",
       "    </tr>\n",
       "    <tr>\n",
       "      <th>50%</th>\n",
       "      <td>50752.000000</td>\n",
       "      <td>NaN</td>\n",
       "      <td>0.152586</td>\n",
       "      <td>52.000000</td>\n",
       "      <td>0.000000</td>\n",
       "      <td>0.364260</td>\n",
       "      <td>5.400000e+03</td>\n",
       "      <td>8.000000</td>\n",
       "      <td>0.000000</td>\n",
       "      <td>1.000000</td>\n",
       "      <td>0.000000</td>\n",
       "      <td>0.000000</td>\n",
       "    </tr>\n",
       "    <tr>\n",
       "      <th>75%</th>\n",
       "      <td>76127.500000</td>\n",
       "      <td>NaN</td>\n",
       "      <td>0.564225</td>\n",
       "      <td>63.000000</td>\n",
       "      <td>0.000000</td>\n",
       "      <td>0.851619</td>\n",
       "      <td>8.200000e+03</td>\n",
       "      <td>11.000000</td>\n",
       "      <td>0.000000</td>\n",
       "      <td>2.000000</td>\n",
       "      <td>0.000000</td>\n",
       "      <td>1.000000</td>\n",
       "    </tr>\n",
       "    <tr>\n",
       "      <th>max</th>\n",
       "      <td>101503.000000</td>\n",
       "      <td>NaN</td>\n",
       "      <td>21821.000000</td>\n",
       "      <td>104.000000</td>\n",
       "      <td>98.000000</td>\n",
       "      <td>268326.000000</td>\n",
       "      <td>7.727000e+06</td>\n",
       "      <td>85.000000</td>\n",
       "      <td>98.000000</td>\n",
       "      <td>37.000000</td>\n",
       "      <td>98.000000</td>\n",
       "      <td>43.000000</td>\n",
       "    </tr>\n",
       "  </tbody>\n",
       "</table>\n",
       "</div>"
      ],
      "text/plain": [
       "          Unnamed: 0  SeriousDlqin2yrs  RevolvingUtilizationOfUnsecuredLines  \\\n",
       "count  101503.000000               0.0                         101503.000000   \n",
       "mean    50752.000000               NaN                              5.310000   \n",
       "std     29301.536524               NaN                            196.156039   \n",
       "min         1.000000               NaN                              0.000000   \n",
       "25%     25376.500000               NaN                              0.030131   \n",
       "50%     50752.000000               NaN                              0.152586   \n",
       "75%     76127.500000               NaN                              0.564225   \n",
       "max    101503.000000               NaN                          21821.000000   \n",
       "\n",
       "                 age  NumberOfTime30-59DaysPastDueNotWorse      DebtRatio  \\\n",
       "count  101503.000000                         101503.000000  101503.000000   \n",
       "mean       52.405436                              0.453770     344.475020   \n",
       "std        14.779756                              4.538487    1632.595231   \n",
       "min        21.000000                              0.000000       0.000000   \n",
       "25%        41.000000                              0.000000       0.173423   \n",
       "50%        52.000000                              0.000000       0.364260   \n",
       "75%        63.000000                              0.000000       0.851619   \n",
       "max       104.000000                             98.000000  268326.000000   \n",
       "\n",
       "       MonthlyIncome  NumberOfOpenCreditLinesAndLoans  \\\n",
       "count   8.140000e+04                    101503.000000   \n",
       "mean    6.855036e+03                         8.453514   \n",
       "std     3.650860e+04                         5.144100   \n",
       "min     0.000000e+00                         0.000000   \n",
       "25%     3.408000e+03                         5.000000   \n",
       "50%     5.400000e+03                         8.000000   \n",
       "75%     8.200000e+03                        11.000000   \n",
       "max     7.727000e+06                        85.000000   \n",
       "\n",
       "       NumberOfTimes90DaysLate  NumberRealEstateLoansOrLines  \\\n",
       "count            101503.000000                 101503.000000   \n",
       "mean                  0.296691                      1.013074   \n",
       "std                   4.515859                      1.110253   \n",
       "min                   0.000000                      0.000000   \n",
       "25%                   0.000000                      0.000000   \n",
       "50%                   0.000000                      1.000000   \n",
       "75%                   0.000000                      2.000000   \n",
       "max                  98.000000                     37.000000   \n",
       "\n",
       "       NumberOfTime60-89DaysPastDueNotWorse  NumberOfDependents  \n",
       "count                         101503.000000        98877.000000  \n",
       "mean                               0.270317            0.769046  \n",
       "std                                4.503578            1.136778  \n",
       "min                                0.000000            0.000000  \n",
       "25%                                0.000000            0.000000  \n",
       "50%                                0.000000            0.000000  \n",
       "75%                                0.000000            1.000000  \n",
       "max                               98.000000           43.000000  "
      ]
     },
     "execution_count": 7,
     "metadata": {},
     "output_type": "execute_result"
    }
   ],
   "source": [
    "Y.describe()"
   ]
  },
  {
   "cell_type": "markdown",
   "metadata": {
    "id": "qUyeWbydZti0"
   },
   "source": [
    "## EDA\n",
    "\n",
    "### Target\n",
    "**SeriousDlqin2yrs** - 연체 90일 이상 경과한 경험이 있는 사람\n",
    "\n",
    "### Feature\n",
    "**Unnamed: 0** : 고객ID (제거가능)\n",
    "\n",
    "**RevolvingUtilizationOfUnsecuredLines** - 부동산을 제외한 신용 카드 및 개인 신용 한도의 총 잔액, 신용 한도의 합계로 나눈 자동차 대출과 같은 할부 부채는 없음 (무담보)/ 신용 카드 한도에 대한 신용 카드 잔액의 비율(Revolving Utilization)\n",
    "\n",
    "(신용카드 및 개인 신용 한도과 카드에 남은 잔액의 퍼센트로 0부터 100까지의 값을 가짐->100이 넘어가는 값들은 결측치로 간주해야함)\n",
    "\n",
    "**age** - 차입자 연령(년)\n",
    "\n",
    "(0세 데이터 존재 어떤값으로 처리할껀가? 최고령 109세까지는 데이터가 순차적으로 있으니 그냥 둬도 될 듯)\n",
    "\n",
    "**NumberOfTime30-59DaysPastDueNotWorse** - 대출자가 연체된 지 30~59일이 지난 횟수, 최근 2년 사이 더 나빠지진 않음\n",
    "\n",
    "**DebtRatio** - 월별 부채 지급, 위자료, 생활비를 월별 총소득으로 나눔(빚/소득->부채비율이 많이 높은 값들은 결측치로 간주해야하는가? 월소득이 없어서 그런건가? 소득이 0인데 어떻게 부채비율이 있지?)\n",
    "\n",
    "**MonthlyIncome** - 월 수입\n",
    "\n",
    "**NumberOfOpenCreditLinesAndLoans** - 공개 대출 수(자동차 대출 또는 담보 대출과 같은 할부금) 및 신용 한도(예: 신용 카드)\n",
    "\n",
    "**NumberOfTimes90DaysLate** - 대출자가 연체된 지 90일 이상 경과한 횟수.\n",
    "\n",
    "**NumberRealEstateLoansOrLines** - 주택 담보 대출 및 부동산 대출 건수(신용등급 포함)\n",
    "\n",
    "**NumberOfTime60-89DaysPastDueNotWorse** - 대출자가 연체된 지 60-89일이 지난 횟수, 최근 2년 사이 더 나빠지진 않음\n",
    "\n",
    "(앞의 30~59연체 데이터와 연관성이 있을 수도 있다.)\n",
    "\n",
    "(30-59, 60-89, 90의 연체횟수 데이터가 동일하게 98인 데이터들이 조금 있다. 이 데이터들을 어떻게 처리할지 생각해보자)\n",
    "2 년 내에 한 사람에 대해 96 번 30일이 지난 것은 불가능하다는 것을 알 수 있기 때문입니다.\n",
    "* 2년=730일\n",
    "* 730/30=24.3333-> 연체된지 30일이 지났을때 받을수있는 최대 횟수\n",
    "* 730/60=12.1666-> 연체된지 30일이 지났을때 받을수있는 최대 횟수\n",
    "* 730/90=8.1111-> 연체된지 30일이 지났을때 받을수있는 최대 횟수\n",
    "\n",
    "\n",
    "**NumberOfDependents** - 자신을 제외한 가족 중 부양가족 수(배우자, 자녀 등)"
   ]
  },
  {
   "cell_type": "code",
   "execution_count": 8,
   "metadata": {
    "id": "ceuqgMgjZti1",
    "outputId": "a794a072-0a09-4c6f-8757-626292fe1c6f"
   },
   "outputs": [
    {
     "name": "stdout",
     "output_type": "stream",
     "text": [
      "<class 'pandas.core.frame.DataFrame'>\n",
      "RangeIndex: 150000 entries, 0 to 149999\n",
      "Data columns (total 12 columns):\n",
      " #   Column                                Non-Null Count   Dtype  \n",
      "---  ------                                --------------   -----  \n",
      " 0   Unnamed: 0                            150000 non-null  int64  \n",
      " 1   SeriousDlqin2yrs                      150000 non-null  int64  \n",
      " 2   RevolvingUtilizationOfUnsecuredLines  150000 non-null  float64\n",
      " 3   age                                   150000 non-null  int64  \n",
      " 4   NumberOfTime30-59DaysPastDueNotWorse  150000 non-null  int64  \n",
      " 5   DebtRatio                             150000 non-null  float64\n",
      " 6   MonthlyIncome                         120269 non-null  float64\n",
      " 7   NumberOfOpenCreditLinesAndLoans       150000 non-null  int64  \n",
      " 8   NumberOfTimes90DaysLate               150000 non-null  int64  \n",
      " 9   NumberRealEstateLoansOrLines          150000 non-null  int64  \n",
      " 10  NumberOfTime60-89DaysPastDueNotWorse  150000 non-null  int64  \n",
      " 11  NumberOfDependents                    146076 non-null  float64\n",
      "dtypes: float64(4), int64(8)\n",
      "memory usage: 13.7 MB\n",
      "None\n",
      "<class 'pandas.core.frame.DataFrame'>\n",
      "RangeIndex: 101503 entries, 0 to 101502\n",
      "Data columns (total 12 columns):\n",
      " #   Column                                Non-Null Count   Dtype  \n",
      "---  ------                                --------------   -----  \n",
      " 0   Unnamed: 0                            101503 non-null  int64  \n",
      " 1   SeriousDlqin2yrs                      0 non-null       float64\n",
      " 2   RevolvingUtilizationOfUnsecuredLines  101503 non-null  float64\n",
      " 3   age                                   101503 non-null  int64  \n",
      " 4   NumberOfTime30-59DaysPastDueNotWorse  101503 non-null  int64  \n",
      " 5   DebtRatio                             101503 non-null  float64\n",
      " 6   MonthlyIncome                         81400 non-null   float64\n",
      " 7   NumberOfOpenCreditLinesAndLoans       101503 non-null  int64  \n",
      " 8   NumberOfTimes90DaysLate               101503 non-null  int64  \n",
      " 9   NumberRealEstateLoansOrLines          101503 non-null  int64  \n",
      " 10  NumberOfTime60-89DaysPastDueNotWorse  101503 non-null  int64  \n",
      " 11  NumberOfDependents                    98877 non-null   float64\n",
      "dtypes: float64(5), int64(7)\n",
      "memory usage: 9.3 MB\n",
      "None\n",
      "<class 'pandas.core.frame.DataFrame'>\n",
      "Int64Index: 3924 entries, 8 to 149965\n",
      "Data columns (total 12 columns):\n",
      " #   Column                                Non-Null Count  Dtype  \n",
      "---  ------                                --------------  -----  \n",
      " 0   Unnamed: 0                            3924 non-null   int64  \n",
      " 1   SeriousDlqin2yrs                      3924 non-null   int64  \n",
      " 2   RevolvingUtilizationOfUnsecuredLines  3924 non-null   float64\n",
      " 3   age                                   3924 non-null   int64  \n",
      " 4   NumberOfTime30-59DaysPastDueNotWorse  3924 non-null   int64  \n",
      " 5   DebtRatio                             3924 non-null   float64\n",
      " 6   MonthlyIncome                         0 non-null      float64\n",
      " 7   NumberOfOpenCreditLinesAndLoans       3924 non-null   int64  \n",
      " 8   NumberOfTimes90DaysLate               3924 non-null   int64  \n",
      " 9   NumberRealEstateLoansOrLines          3924 non-null   int64  \n",
      " 10  NumberOfTime60-89DaysPastDueNotWorse  3924 non-null   int64  \n",
      " 11  NumberOfDependents                    0 non-null      float64\n",
      "dtypes: float64(4), int64(8)\n",
      "memory usage: 398.5 KB\n",
      "None\n",
      "<class 'pandas.core.frame.DataFrame'>\n",
      "Int64Index: 2626 entries, 46 to 101500\n",
      "Data columns (total 12 columns):\n",
      " #   Column                                Non-Null Count  Dtype  \n",
      "---  ------                                --------------  -----  \n",
      " 0   Unnamed: 0                            2626 non-null   int64  \n",
      " 1   SeriousDlqin2yrs                      0 non-null      float64\n",
      " 2   RevolvingUtilizationOfUnsecuredLines  2626 non-null   float64\n",
      " 3   age                                   2626 non-null   int64  \n",
      " 4   NumberOfTime30-59DaysPastDueNotWorse  2626 non-null   int64  \n",
      " 5   DebtRatio                             2626 non-null   float64\n",
      " 6   MonthlyIncome                         0 non-null      float64\n",
      " 7   NumberOfOpenCreditLinesAndLoans       2626 non-null   int64  \n",
      " 8   NumberOfTimes90DaysLate               2626 non-null   int64  \n",
      " 9   NumberRealEstateLoansOrLines          2626 non-null   int64  \n",
      " 10  NumberOfTime60-89DaysPastDueNotWorse  2626 non-null   int64  \n",
      " 11  NumberOfDependents                    0 non-null      float64\n",
      "dtypes: float64(5), int64(7)\n",
      "memory usage: 266.7 KB\n",
      "None\n"
     ]
    }
   ],
   "source": [
    "#결측치 있는 변수 확인\n",
    "print(X.info())\n",
    "print(Y.info())\n",
    "train_Nan=train[(train['NumberOfDependents'].isnull()==1)]\n",
    "print(train_Nan.info())\n",
    "test_Nan=test[(test['NumberOfDependents'].isnull()==1)]\n",
    "print(test_Nan.info())"
   ]
  },
  {
   "cell_type": "markdown",
   "metadata": {
    "id": "P8425r36Zti8"
   },
   "source": [
    "train과 test 모두 MonthlyIncome 과 NumberOfDependents에만 결측치가 있음을 알 수 있다.\n",
    "MonthlyIncome의 결측률은 약 20%이며, NumberOfDependent의 결측률 비율은 약 2%이다.\n",
    "\n",
    "또한 test와 train 둘다 NumberOfDependents 변수가 결측치를 가지면 항상 MonthlyIncome 변수도 결측치를 가진다"
   ]
  },
  {
   "cell_type": "code",
   "execution_count": 9,
   "metadata": {
    "id": "TESEdL0zZti9",
    "outputId": "2c17404c-9e7f-4b38-e907-b0bdfa400c1f"
   },
   "outputs": [
    {
     "name": "stdout",
     "output_type": "stream",
     "text": [
      "AxesSubplot(0.125,0.125;0.62x0.755)\n"
     ]
    },
    {
     "data": {
      "image/png": "[encoded data removed]",
      "text/plain": [
       "<Figure size 432x288 with 2 Axes>"
      ]
     },
     "metadata": {
      "needs_background": "light"
     },
     "output_type": "display_data"
    }
   ],
   "source": [
    "#변수간의 상관관계\n",
    "print(sns.heatmap(data=X.corr(),annot=True,fmt='.2f', linewidths=.5,cmap='Blues'))"
   ]
  },
  {
   "cell_type": "code",
   "execution_count": 10,
   "metadata": {
    "id": "oUEHdPKiZtjC",
    "outputId": "08656e2e-a9d4-4cf5-fa86-921cdbe6c90b"
   },
   "outputs": [
    {
     "name": "stdout",
     "output_type": "stream",
     "text": [
      "AxesSubplot(0.125,0.125;0.62x0.755)\n"
     ]
    },
    {
     "data": {
      "image/png": "[encoded data removed]",
      "text/plain": [
       "<Figure size 432x288 with 2 Axes>"
      ]
     },
     "metadata": {
      "needs_background": "light"
     },
     "output_type": "display_data"
    }
   ],
   "source": [
    "print(sns.heatmap(data=Y.corr(),annot=True,fmt='.2f', linewidths=.5,cmap='Blues'))"
   ]
  },
  {
   "cell_type": "markdown",
   "metadata": {
    "id": "QOc-VKidZtjI"
   },
   "source": [
    "MonthlyIncome에 비하여 NumberOfDependents가 타 변수에 의하여 상관관계가 높음을 알 수 있다. 그러므로 MonthlyIncome을 제거하여 NumberOfDepents를 예측한 후 MonthlyIncome을 예측하기로 한다."
   ]
  },
  {
   "cell_type": "markdown",
   "metadata": {
    "id": "W2fl9hWFZtjJ"
   },
   "source": [
    "### 예측을 진행하기 앞서 이상치를 check한다"
   ]
  },
  {
   "cell_type": "code",
   "execution_count": 11,
   "metadata": {
    "id": "-_IH9UHWZtjK",
    "outputId": "f86831ef-0c44-4ebe-e8ce-bd481208dddf"
   },
   "outputs": [
    {
     "data": {
      "image/png": "[encoded data removed]",
      "text/plain": [
       "<Figure size 432x288 with 1 Axes>"
      ]
     },
     "metadata": {
      "needs_background": "light"
     },
     "output_type": "display_data"
    },
    {
     "data": {
      "image/png": "[encoded data removed]",
      "text/plain": [
       "<Figure size 432x288 with 1 Axes>"
      ]
     },
     "metadata": {
      "needs_background": "light"
     },
     "output_type": "display_data"
    }
   ],
   "source": [
    "plt.boxplot(X['RevolvingUtilizationOfUnsecuredLines'])\n",
    "plt.title(\"RevolvingUtilizationOfUnsecuredLines\")\n",
    "plt.show()\n",
    "plt.boxplot(Y['RevolvingUtilizationOfUnsecuredLines'])\n",
    "plt.title(\"RevolvingUtilizationOfUnsecuredLines\")\n",
    "plt.show()\n",
    "#train에서 25000을 넘는 이상치를 제거하는게 좋을듯(test의 max<22000)"
   ]
  },
  {
   "cell_type": "code",
   "execution_count": null,
   "metadata": {
    "id": "MncBpnGoZtjP",
    "outputId": "7f23cb6e-cbfb-4d13-e2cf-4da77789dec1"
   },
   "outputs": [
    {
     "data": {
      "image/png": "[encoded data removed]",
      "text/plain": [
       "<Figure size 432x288 with 1 Axes>"
      ]
     },
     "metadata": {
      "needs_background": "light",
      "tags": []
     },
     "output_type": "display_data"
    },
    {
     "data": {
      "image/png": "[encoded data removed]",
      "text/plain": [
       "<Figure size 432x288 with 1 Axes>"
      ]
     },
     "metadata": {
      "needs_background": "light",
      "tags": []
     },
     "output_type": "display_data"
    }
   ],
   "source": [
    "plt.boxplot(X['age'])\n",
    "plt.title(\"age\")\n",
    "plt.show()\n",
    "plt.boxplot(Y['age'])\n",
    "plt.title(\"age\")\n",
    "plt.show()\n",
    "#train에서 이상치 1을 제거한다"
   ]
  },
  {
   "cell_type": "code",
   "execution_count": 12,
   "metadata": {
    "id": "pjpmYXOgZtjU",
    "outputId": "624e9a07-aa8c-48cd-86a6-c20c2626e1e3"
   },
   "outputs": [
    {
     "data": {
      "image/png": "[encoded data removed]",
      "text/plain": [
       "<Figure size 432x288 with 1 Axes>"
      ]
     },
     "metadata": {
      "needs_background": "light"
     },
     "output_type": "display_data"
    },
    {
     "data": {
      "image/png": "[encoded data removed]",
      "text/plain": [
       "<Figure size 432x288 with 1 Axes>"
      ]
     },
     "metadata": {
      "needs_background": "light"
     },
     "output_type": "display_data"
    }
   ],
   "source": [
    "plt.boxplot(X['DebtRatio'])\n",
    "plt.title(\"DebtRatio\")\n",
    "plt.show()\n",
    "plt.boxplot(Y['DebtRatio'])\n",
    "plt.title(\"DebtRatio\")\n",
    "plt.show()\n",
    "#따로 이상치 제거를 하지 않아도 괜찮아 보인다"
   ]
  },
  {
   "cell_type": "code",
   "execution_count": 13,
   "metadata": {
    "id": "j4hiz_dqZtjZ",
    "outputId": "8814db6b-9c5d-4b10-dc81-32e9f851b035"
   },
   "outputs": [
    {
     "data": {
      "image/png": "[encoded data removed]",
      "text/plain": [
       "<Figure size 432x288 with 1 Axes>"
      ]
     },
     "metadata": {
      "needs_background": "light"
     },
     "output_type": "display_data"
    },
    {
     "data": {
      "image/png": "[encoded data removed]",
      "text/plain": [
       "<Figure size 432x288 with 1 Axes>"
      ]
     },
     "metadata": {
      "needs_background": "light"
     },
     "output_type": "display_data"
    }
   ],
   "source": [
    "plt.boxplot(X['NumberOfOpenCreditLinesAndLoans'])\n",
    "plt.title(\"NumberOfOpenCreditLinesAndLoans\")\n",
    "plt.show()\n",
    "plt.boxplot(Y['NumberOfOpenCreditLinesAndLoans'])\n",
    "plt.title(\"NumberOfOpenCreditLinesAndLoans\")\n",
    "plt.show()\n",
    "#따로 이상치는 존재하지 않아 보인다(test의 이상치는 제거할 수 없다.)"
   ]
  },
  {
   "cell_type": "code",
   "execution_count": 14,
   "metadata": {
    "id": "GBZ7JFu4Ztje",
    "outputId": "19594e0e-fac1-4f9b-a6e2-394d8677f8a1"
   },
   "outputs": [
    {
     "data": {
      "image/png": "[encoded data removed]",
      "text/plain": [
       "<Figure size 432x288 with 1 Axes>"
      ]
     },
     "metadata": {
      "needs_background": "light"
     },
     "output_type": "display_data"
    },
    {
     "data": {
      "image/png": "[encoded data removed]",
      "text/plain": [
       "<Figure size 432x288 with 1 Axes>"
      ]
     },
     "metadata": {
      "needs_background": "light"
     },
     "output_type": "display_data"
    }
   ],
   "source": [
    "plt.boxplot(X['NumberRealEstateLoansOrLines'])\n",
    "plt.title(\"NumberRealEstateLoansOrLines\")\n",
    "plt.show()\n",
    "plt.boxplot(Y['NumberRealEstateLoansOrLines'])\n",
    "plt.title(\"NumberRealEstateLoansOrLines\")\n",
    "plt.show()\n",
    "#50을 넘는 변수가 약간 벗어나 보이나 변수의미를 해석하면 이상치로는 보이지 않는다"
   ]
  },
  {
   "cell_type": "code",
   "execution_count": 15,
   "metadata": {
    "id": "TmXR0IyxZtjl",
    "outputId": "312695a9-7af0-4391-95e1-71633a6f4a23"
   },
   "outputs": [
    {
     "data": {
      "image/png": "[encoded data removed]",
      "text/plain": [
       "<Figure size 432x288 with 1 Axes>"
      ]
     },
     "metadata": {
      "needs_background": "light"
     },
     "output_type": "display_data"
    },
    {
     "data": {
      "image/png": "[encoded data removed]",
      "text/plain": [
       "<Figure size 432x288 with 1 Axes>"
      ]
     },
     "metadata": {
      "needs_background": "light"
     },
     "output_type": "display_data"
    },
    {
     "data": {
      "image/png": "[encoded data removed]",
      "text/plain": [
       "<Figure size 432x288 with 1 Axes>"
      ]
     },
     "metadata": {
      "needs_background": "light"
     },
     "output_type": "display_data"
    },
    {
     "data": {
      "image/png": "[encoded data removed]",
      "text/plain": [
       "<Figure size 432x288 with 1 Axes>"
      ]
     },
     "metadata": {
      "needs_background": "light"
     },
     "output_type": "display_data"
    },
    {
     "data": {
      "image/png": "[encoded data removed]",
      "text/plain": [
       "<Figure size 432x288 with 1 Axes>"
      ]
     },
     "metadata": {
      "needs_background": "light"
     },
     "output_type": "display_data"
    },
    {
     "data": {
      "image/png": "[encoded data removed]",
      "text/plain": [
       "<Figure size 432x288 with 1 Axes>"
      ]
     },
     "metadata": {
      "needs_background": "light"
     },
     "output_type": "display_data"
    }
   ],
   "source": [
    "plt.boxplot(X['NumberOfTime30-59DaysPastDueNotWorse'])\n",
    "plt.title(\"Train-NumberOfTime30-59DaysPastDueNotWorse\")\n",
    "plt.show()\n",
    "plt.boxplot(Y['NumberOfTime30-59DaysPastDueNotWorse'])\n",
    "plt.title(\"Test-NumberOfTime30-59DaysPastDueNotWorse\")\n",
    "plt.show()\n",
    "plt.boxplot(X['NumberOfTime60-89DaysPastDueNotWorse'])\n",
    "plt.title(\"Train-NumberOfTime60-89DaysPastDueNotWorse\")\n",
    "plt.show()\n",
    "plt.boxplot(Y['NumberOfTime60-89DaysPastDueNotWorse'])\n",
    "plt.title(\"Test-NumberOfTime60-89DaysPastDueNotWorse\")\n",
    "plt.show()\n",
    "plt.boxplot(X['NumberOfTimes90DaysLate'])\n",
    "plt.title(\"Train-NumberOfTimes90DaysLate\")\n",
    "plt.show()\n",
    "plt.boxplot(Y['NumberOfTimes90DaysLate'])\n",
    "plt.title(\"Test-NumberOfTimes90DaysLate\")\n",
    "plt.show()"
   ]
  },
  {
   "cell_type": "code",
   "execution_count": 16,
   "metadata": {
    "id": "hG1kLiS8Ztjq",
    "outputId": "8924cea4-a344-4df2-f782-fd134a8a2c1d"
   },
   "outputs": [
    {
     "data": {
      "image/png": "[encoded data removed]",
      "text/plain": [
       "<Figure size 432x288 with 1 Axes>"
      ]
     },
     "metadata": {
      "needs_background": "light"
     },
     "output_type": "display_data"
    },
    {
     "data": {
      "image/png": "[encoded data removed]",
      "text/plain": [
       "<Figure size 432x288 with 1 Axes>"
      ]
     },
     "metadata": {
      "needs_background": "light"
     },
     "output_type": "display_data"
    },
    {
     "data": {
      "image/png": "[encoded data removed]",
      "text/plain": [
       "<Figure size 432x288 with 1 Axes>"
      ]
     },
     "metadata": {
      "needs_background": "light"
     },
     "output_type": "display_data"
    }
   ],
   "source": [
    "#test데이터 내에서의 day변수들관의 관계\n",
    "Day_train=X[['NumberOfTime30-59DaysPastDueNotWorse','NumberOfTime60-89DaysPastDueNotWorse','NumberOfTimes90DaysLate']]\n",
    "\n",
    "plt.scatter(Day_train['NumberOfTime30-59DaysPastDueNotWorse'],Day_train['NumberOfTime60-89DaysPastDueNotWorse'])\n",
    "plt.xlabel('30-59')\n",
    "plt.ylabel('60-89')\n",
    "plt.show()\n",
    "\n",
    "plt.scatter(Day_train['NumberOfTime30-59DaysPastDueNotWorse'],Day_train['NumberOfTimes90DaysLate'])\n",
    "plt.xlabel('30-59')\n",
    "plt.ylabel('90~')\n",
    "plt.show()\n",
    "\n",
    "plt.scatter(Day_train['NumberOfTime60-89DaysPastDueNotWorse'],Day_train['NumberOfTimes90DaysLate'])\n",
    "plt.xlabel('60-89')\n",
    "plt.ylabel('90~')\n",
    "plt.show()"
   ]
  },
  {
   "cell_type": "code",
   "execution_count": 17,
   "metadata": {
    "id": "CVFc8ZJ7Ztjv",
    "outputId": "00d7c11b-cdd3-428b-e420-c3e66ad8a7aa"
   },
   "outputs": [
    {
     "data": {
      "image/png": "[encoded data removed]",
      "text/plain": [
       "<Figure size 432x288 with 1 Axes>"
      ]
     },
     "metadata": {
      "needs_background": "light"
     },
     "output_type": "display_data"
    },
    {
     "data": {
      "image/png": "[encoded data removed]",
      "text/plain": [
       "<Figure size 432x288 with 1 Axes>"
      ]
     },
     "metadata": {
      "needs_background": "light"
     },
     "output_type": "display_data"
    },
    {
     "data": {
      "image/png": "[encoded data removed]",
      "text/plain": [
       "<Figure size 432x288 with 1 Axes>"
      ]
     },
     "metadata": {
      "needs_background": "light"
     },
     "output_type": "display_data"
    }
   ],
   "source": [
    "#Test\n",
    "\n",
    "Day_test=Y[['NumberOfTime30-59DaysPastDueNotWorse','NumberOfTime60-89DaysPastDueNotWorse','NumberOfTimes90DaysLate']]\n",
    "\n",
    "plt.scatter(Day_test['NumberOfTime30-59DaysPastDueNotWorse'],Day_test['NumberOfTime60-89DaysPastDueNotWorse'])\n",
    "plt.xlabel('30-59')\n",
    "plt.ylabel('60-89')\n",
    "plt.show()\n",
    "\n",
    "plt.scatter(Day_test['NumberOfTime30-59DaysPastDueNotWorse'],Day_test['NumberOfTimes90DaysLate'])\n",
    "plt.xlabel('30-59')\n",
    "plt.ylabel('90~')\n",
    "plt.show()\n",
    "\n",
    "plt.scatter(Day_test['NumberOfTime60-89DaysPastDueNotWorse'],Day_test['NumberOfTimes90DaysLate'])\n",
    "plt.xlabel('60-89')\n",
    "plt.ylabel('90~')\n",
    "plt.show()"
   ]
  },
  {
   "cell_type": "code",
   "execution_count": 18,
   "metadata": {
    "id": "YwgunkYgZtjz"
   },
   "outputs": [],
   "source": [
    "#이상치(50이상)를 제거한 후의 day변수 상관관계"
   ]
  },
  {
   "cell_type": "code",
   "execution_count": 19,
   "metadata": {
    "id": "XSOEAg96Ztj4",
    "outputId": "bec569a3-74f6-4fe0-ddc6-9e0863c4a5bd"
   },
   "outputs": [
    {
     "data": {
      "text/html": [
       "<div>\n",
       "<style scoped>\n",
       "    .dataframe tbody tr th:only-of-type {\n",
       "        vertical-align: middle;\n",
       "    }\n",
       "\n",
       "    .dataframe tbody tr th {\n",
       "        vertical-align: top;\n",
       "    }\n",
       "\n",
       "    .dataframe thead th {\n",
       "        text-align: right;\n",
       "    }\n",
       "</style>\n",
       "<table border=\"1\" class=\"dataframe\">\n",
       "  <thead>\n",
       "    <tr style=\"text-align: right;\">\n",
       "      <th></th>\n",
       "      <th>NumberOfTime30-59DaysPastDueNotWorse</th>\n",
       "      <th>NumberOfTime60-89DaysPastDueNotWorse</th>\n",
       "      <th>NumberOfTimes90DaysLate</th>\n",
       "    </tr>\n",
       "  </thead>\n",
       "  <tbody>\n",
       "    <tr>\n",
       "      <th>count</th>\n",
       "      <td>269.000000</td>\n",
       "      <td>269.000000</td>\n",
       "      <td>269.000000</td>\n",
       "    </tr>\n",
       "    <tr>\n",
       "      <th>mean</th>\n",
       "      <td>97.962825</td>\n",
       "      <td>97.962825</td>\n",
       "      <td>97.962825</td>\n",
       "    </tr>\n",
       "    <tr>\n",
       "      <th>std</th>\n",
       "      <td>0.270628</td>\n",
       "      <td>0.270628</td>\n",
       "      <td>0.270628</td>\n",
       "    </tr>\n",
       "    <tr>\n",
       "      <th>min</th>\n",
       "      <td>96.000000</td>\n",
       "      <td>96.000000</td>\n",
       "      <td>96.000000</td>\n",
       "    </tr>\n",
       "    <tr>\n",
       "      <th>25%</th>\n",
       "      <td>98.000000</td>\n",
       "      <td>98.000000</td>\n",
       "      <td>98.000000</td>\n",
       "    </tr>\n",
       "    <tr>\n",
       "      <th>50%</th>\n",
       "      <td>98.000000</td>\n",
       "      <td>98.000000</td>\n",
       "      <td>98.000000</td>\n",
       "    </tr>\n",
       "    <tr>\n",
       "      <th>75%</th>\n",
       "      <td>98.000000</td>\n",
       "      <td>98.000000</td>\n",
       "      <td>98.000000</td>\n",
       "    </tr>\n",
       "    <tr>\n",
       "      <th>max</th>\n",
       "      <td>98.000000</td>\n",
       "      <td>98.000000</td>\n",
       "      <td>98.000000</td>\n",
       "    </tr>\n",
       "  </tbody>\n",
       "</table>\n",
       "</div>"
      ],
      "text/plain": [
       "       NumberOfTime30-59DaysPastDueNotWorse  \\\n",
       "count                            269.000000   \n",
       "mean                              97.962825   \n",
       "std                                0.270628   \n",
       "min                               96.000000   \n",
       "25%                               98.000000   \n",
       "50%                               98.000000   \n",
       "75%                               98.000000   \n",
       "max                               98.000000   \n",
       "\n",
       "       NumberOfTime60-89DaysPastDueNotWorse  NumberOfTimes90DaysLate  \n",
       "count                            269.000000               269.000000  \n",
       "mean                              97.962825                97.962825  \n",
       "std                                0.270628                 0.270628  \n",
       "min                               96.000000                96.000000  \n",
       "25%                               98.000000                98.000000  \n",
       "50%                               98.000000                98.000000  \n",
       "75%                               98.000000                98.000000  \n",
       "max                               98.000000                98.000000  "
      ]
     },
     "execution_count": 19,
     "metadata": {},
     "output_type": "execute_result"
    }
   ],
   "source": [
    "Day_outlier_train=Day_train[(Day_train['NumberOfTimes90DaysLate'] >= 50)]\n",
    "Day_outlier_train.describe()"
   ]
  },
  {
   "cell_type": "code",
   "execution_count": 20,
   "metadata": {
    "id": "eaftW2pCZtj8",
    "outputId": "50bc7005-0cf0-4f2f-b630-93e5f374929f"
   },
   "outputs": [
    {
     "data": {
      "text/html": [
       "<div>\n",
       "<style scoped>\n",
       "    .dataframe tbody tr th:only-of-type {\n",
       "        vertical-align: middle;\n",
       "    }\n",
       "\n",
       "    .dataframe tbody tr th {\n",
       "        vertical-align: top;\n",
       "    }\n",
       "\n",
       "    .dataframe thead th {\n",
       "        text-align: right;\n",
       "    }\n",
       "</style>\n",
       "<table border=\"1\" class=\"dataframe\">\n",
       "  <thead>\n",
       "    <tr style=\"text-align: right;\">\n",
       "      <th></th>\n",
       "      <th>NumberOfTime30-59DaysPastDueNotWorse</th>\n",
       "      <th>NumberOfTime60-89DaysPastDueNotWorse</th>\n",
       "      <th>NumberOfTimes90DaysLate</th>\n",
       "    </tr>\n",
       "  </thead>\n",
       "  <tbody>\n",
       "    <tr>\n",
       "      <th>count</th>\n",
       "      <td>149731.000000</td>\n",
       "      <td>149731.000000</td>\n",
       "      <td>149731.000000</td>\n",
       "    </tr>\n",
       "    <tr>\n",
       "      <th>mean</th>\n",
       "      <td>0.245794</td>\n",
       "      <td>0.064823</td>\n",
       "      <td>0.090456</td>\n",
       "    </tr>\n",
       "    <tr>\n",
       "      <th>std</th>\n",
       "      <td>0.697780</td>\n",
       "      <td>0.330073</td>\n",
       "      <td>0.485527</td>\n",
       "    </tr>\n",
       "    <tr>\n",
       "      <th>min</th>\n",
       "      <td>0.000000</td>\n",
       "      <td>0.000000</td>\n",
       "      <td>0.000000</td>\n",
       "    </tr>\n",
       "    <tr>\n",
       "      <th>25%</th>\n",
       "      <td>0.000000</td>\n",
       "      <td>0.000000</td>\n",
       "      <td>0.000000</td>\n",
       "    </tr>\n",
       "    <tr>\n",
       "      <th>50%</th>\n",
       "      <td>0.000000</td>\n",
       "      <td>0.000000</td>\n",
       "      <td>0.000000</td>\n",
       "    </tr>\n",
       "    <tr>\n",
       "      <th>75%</th>\n",
       "      <td>0.000000</td>\n",
       "      <td>0.000000</td>\n",
       "      <td>0.000000</td>\n",
       "    </tr>\n",
       "    <tr>\n",
       "      <th>max</th>\n",
       "      <td>13.000000</td>\n",
       "      <td>11.000000</td>\n",
       "      <td>17.000000</td>\n",
       "    </tr>\n",
       "  </tbody>\n",
       "</table>\n",
       "</div>"
      ],
      "text/plain": [
       "       NumberOfTime30-59DaysPastDueNotWorse  \\\n",
       "count                         149731.000000   \n",
       "mean                               0.245794   \n",
       "std                                0.697780   \n",
       "min                                0.000000   \n",
       "25%                                0.000000   \n",
       "50%                                0.000000   \n",
       "75%                                0.000000   \n",
       "max                               13.000000   \n",
       "\n",
       "       NumberOfTime60-89DaysPastDueNotWorse  NumberOfTimes90DaysLate  \n",
       "count                         149731.000000            149731.000000  \n",
       "mean                               0.064823                 0.090456  \n",
       "std                                0.330073                 0.485527  \n",
       "min                                0.000000                 0.000000  \n",
       "25%                                0.000000                 0.000000  \n",
       "50%                                0.000000                 0.000000  \n",
       "75%                                0.000000                 0.000000  \n",
       "max                               11.000000                17.000000  "
      ]
     },
     "execution_count": 20,
     "metadata": {},
     "output_type": "execute_result"
    }
   ],
   "source": [
    "Day_normal_train=Day_train[(Day_train['NumberOfTimes90DaysLate'] < 50)]\n",
    "Day_normal_train.describe()"
   ]
  },
  {
   "cell_type": "code",
   "execution_count": 21,
   "metadata": {
    "id": "d-5urPhxZtkB",
    "outputId": "277ab666-9431-4cfc-8018-05aae73a921b"
   },
   "outputs": [
    {
     "data": {
      "text/plain": [
       "98    264\n",
       "96      5\n",
       "Name: NumberOfTime30-59DaysPastDueNotWorse, dtype: int64"
      ]
     },
     "execution_count": 21,
     "metadata": {},
     "output_type": "execute_result"
    }
   ],
   "source": [
    "Day_outlier_train['NumberOfTime30-59DaysPastDueNotWorse'].value_counts()"
   ]
  },
  {
   "cell_type": "code",
   "execution_count": 22,
   "metadata": {
    "id": "I_h1TrdVZtkG",
    "outputId": "24198de3-f54e-4127-87d8-ae30f6d4b94e"
   },
   "outputs": [
    {
     "data": {
      "text/plain": [
       "98    264\n",
       "96      5\n",
       "Name: NumberOfTime60-89DaysPastDueNotWorse, dtype: int64"
      ]
     },
     "execution_count": 22,
     "metadata": {},
     "output_type": "execute_result"
    }
   ],
   "source": [
    "Day_outlier_train['NumberOfTime60-89DaysPastDueNotWorse'].value_counts()"
   ]
  },
  {
   "cell_type": "code",
   "execution_count": 23,
   "metadata": {
    "id": "s4o-pSg5ZtkK",
    "outputId": "2678e8b1-ac17-4d41-e0e7-86fd7dff060a"
   },
   "outputs": [
    {
     "data": {
      "text/plain": [
       "98    264\n",
       "96      5\n",
       "Name: NumberOfTimes90DaysLate, dtype: int64"
      ]
     },
     "execution_count": 23,
     "metadata": {},
     "output_type": "execute_result"
    }
   ],
   "source": [
    "Day_outlier_train['NumberOfTimes90DaysLate'].value_counts()"
   ]
  },
  {
   "cell_type": "code",
   "execution_count": 24,
   "metadata": {
    "id": "gsMG8thMZtkP",
    "outputId": "3b39b0d1-08da-4b36-817f-bc4733528493"
   },
   "outputs": [
    {
     "name": "stdout",
     "output_type": "stream",
     "text": [
      "AxesSubplot(0.125,0.125;0.62x0.755)\n"
     ]
    },
    {
     "data": {
      "image/png": "[encoded data removed]",
      "text/plain": [
       "<Figure size 432x288 with 2 Axes>"
      ]
     },
     "metadata": {
      "needs_background": "light"
     },
     "output_type": "display_data"
    }
   ],
   "source": [
    "print(sns.heatmap(data=Day_normal_train.corr(),annot=True,fmt='.2f', linewidths=.5,cmap='Blues'))"
   ]
  },
  {
   "cell_type": "code",
   "execution_count": 25,
   "metadata": {
    "id": "dq77vxpbZtkU",
    "outputId": "37966878-a626-450c-bb02-b46e5be53be0"
   },
   "outputs": [
    {
     "data": {
      "text/html": [
       "<div>\n",
       "<style scoped>\n",
       "    .dataframe tbody tr th:only-of-type {\n",
       "        vertical-align: middle;\n",
       "    }\n",
       "\n",
       "    .dataframe tbody tr th {\n",
       "        vertical-align: top;\n",
       "    }\n",
       "\n",
       "    .dataframe thead th {\n",
       "        text-align: right;\n",
       "    }\n",
       "</style>\n",
       "<table border=\"1\" class=\"dataframe\">\n",
       "  <thead>\n",
       "    <tr style=\"text-align: right;\">\n",
       "      <th></th>\n",
       "      <th>NumberOfTime30-59DaysPastDueNotWorse</th>\n",
       "      <th>NumberOfTime60-89DaysPastDueNotWorse</th>\n",
       "      <th>NumberOfTimes90DaysLate</th>\n",
       "    </tr>\n",
       "  </thead>\n",
       "  <tbody>\n",
       "    <tr>\n",
       "      <th>count</th>\n",
       "      <td>214.000000</td>\n",
       "      <td>214.000000</td>\n",
       "      <td>214.000000</td>\n",
       "    </tr>\n",
       "    <tr>\n",
       "      <th>mean</th>\n",
       "      <td>97.990654</td>\n",
       "      <td>97.990654</td>\n",
       "      <td>97.990654</td>\n",
       "    </tr>\n",
       "    <tr>\n",
       "      <th>std</th>\n",
       "      <td>0.136717</td>\n",
       "      <td>0.136717</td>\n",
       "      <td>0.136717</td>\n",
       "    </tr>\n",
       "    <tr>\n",
       "      <th>min</th>\n",
       "      <td>96.000000</td>\n",
       "      <td>96.000000</td>\n",
       "      <td>96.000000</td>\n",
       "    </tr>\n",
       "    <tr>\n",
       "      <th>25%</th>\n",
       "      <td>98.000000</td>\n",
       "      <td>98.000000</td>\n",
       "      <td>98.000000</td>\n",
       "    </tr>\n",
       "    <tr>\n",
       "      <th>50%</th>\n",
       "      <td>98.000000</td>\n",
       "      <td>98.000000</td>\n",
       "      <td>98.000000</td>\n",
       "    </tr>\n",
       "    <tr>\n",
       "      <th>75%</th>\n",
       "      <td>98.000000</td>\n",
       "      <td>98.000000</td>\n",
       "      <td>98.000000</td>\n",
       "    </tr>\n",
       "    <tr>\n",
       "      <th>max</th>\n",
       "      <td>98.000000</td>\n",
       "      <td>98.000000</td>\n",
       "      <td>98.000000</td>\n",
       "    </tr>\n",
       "  </tbody>\n",
       "</table>\n",
       "</div>"
      ],
      "text/plain": [
       "       NumberOfTime30-59DaysPastDueNotWorse  \\\n",
       "count                            214.000000   \n",
       "mean                              97.990654   \n",
       "std                                0.136717   \n",
       "min                               96.000000   \n",
       "25%                               98.000000   \n",
       "50%                               98.000000   \n",
       "75%                               98.000000   \n",
       "max                               98.000000   \n",
       "\n",
       "       NumberOfTime60-89DaysPastDueNotWorse  NumberOfTimes90DaysLate  \n",
       "count                            214.000000               214.000000  \n",
       "mean                              97.990654                97.990654  \n",
       "std                                0.136717                 0.136717  \n",
       "min                               96.000000                96.000000  \n",
       "25%                               98.000000                98.000000  \n",
       "50%                               98.000000                98.000000  \n",
       "75%                               98.000000                98.000000  \n",
       "max                               98.000000                98.000000  "
      ]
     },
     "execution_count": 25,
     "metadata": {},
     "output_type": "execute_result"
    }
   ],
   "source": [
    "Day_outlier_test=Day_test[(Day_test['NumberOfTimes90DaysLate'] >= 50)]\n",
    "Day_outlier_test.describe()"
   ]
  },
  {
   "cell_type": "code",
   "execution_count": 26,
   "metadata": {
    "id": "Q8vSBzr_ZtkY",
    "outputId": "c5ad8b59-793c-47f6-d842-27d485043c21"
   },
   "outputs": [
    {
     "data": {
      "text/html": [
       "<div>\n",
       "<style scoped>\n",
       "    .dataframe tbody tr th:only-of-type {\n",
       "        vertical-align: middle;\n",
       "    }\n",
       "\n",
       "    .dataframe tbody tr th {\n",
       "        vertical-align: top;\n",
       "    }\n",
       "\n",
       "    .dataframe thead th {\n",
       "        text-align: right;\n",
       "    }\n",
       "</style>\n",
       "<table border=\"1\" class=\"dataframe\">\n",
       "  <thead>\n",
       "    <tr style=\"text-align: right;\">\n",
       "      <th></th>\n",
       "      <th>NumberOfTime30-59DaysPastDueNotWorse</th>\n",
       "      <th>NumberOfTime60-89DaysPastDueNotWorse</th>\n",
       "      <th>NumberOfTimes90DaysLate</th>\n",
       "    </tr>\n",
       "  </thead>\n",
       "  <tbody>\n",
       "    <tr>\n",
       "      <th>count</th>\n",
       "      <td>101289.000000</td>\n",
       "      <td>101289.000000</td>\n",
       "      <td>101289.000000</td>\n",
       "    </tr>\n",
       "    <tr>\n",
       "      <th>mean</th>\n",
       "      <td>0.247697</td>\n",
       "      <td>0.063857</td>\n",
       "      <td>0.090286</td>\n",
       "    </tr>\n",
       "    <tr>\n",
       "      <th>std</th>\n",
       "      <td>0.706398</td>\n",
       "      <td>0.326854</td>\n",
       "      <td>0.478275</td>\n",
       "    </tr>\n",
       "    <tr>\n",
       "      <th>min</th>\n",
       "      <td>0.000000</td>\n",
       "      <td>0.000000</td>\n",
       "      <td>0.000000</td>\n",
       "    </tr>\n",
       "    <tr>\n",
       "      <th>25%</th>\n",
       "      <td>0.000000</td>\n",
       "      <td>0.000000</td>\n",
       "      <td>0.000000</td>\n",
       "    </tr>\n",
       "    <tr>\n",
       "      <th>50%</th>\n",
       "      <td>0.000000</td>\n",
       "      <td>0.000000</td>\n",
       "      <td>0.000000</td>\n",
       "    </tr>\n",
       "    <tr>\n",
       "      <th>75%</th>\n",
       "      <td>0.000000</td>\n",
       "      <td>0.000000</td>\n",
       "      <td>0.000000</td>\n",
       "    </tr>\n",
       "    <tr>\n",
       "      <th>max</th>\n",
       "      <td>19.000000</td>\n",
       "      <td>9.000000</td>\n",
       "      <td>18.000000</td>\n",
       "    </tr>\n",
       "  </tbody>\n",
       "</table>\n",
       "</div>"
      ],
      "text/plain": [
       "       NumberOfTime30-59DaysPastDueNotWorse  \\\n",
       "count                         101289.000000   \n",
       "mean                               0.247697   \n",
       "std                                0.706398   \n",
       "min                                0.000000   \n",
       "25%                                0.000000   \n",
       "50%                                0.000000   \n",
       "75%                                0.000000   \n",
       "max                               19.000000   \n",
       "\n",
       "       NumberOfTime60-89DaysPastDueNotWorse  NumberOfTimes90DaysLate  \n",
       "count                         101289.000000            101289.000000  \n",
       "mean                               0.063857                 0.090286  \n",
       "std                                0.326854                 0.478275  \n",
       "min                                0.000000                 0.000000  \n",
       "25%                                0.000000                 0.000000  \n",
       "50%                                0.000000                 0.000000  \n",
       "75%                                0.000000                 0.000000  \n",
       "max                                9.000000                18.000000  "
      ]
     },
     "execution_count": 26,
     "metadata": {},
     "output_type": "execute_result"
    }
   ],
   "source": [
    "Day_normal_test=Day_test[(Day_test['NumberOfTimes90DaysLate'] < 50)]\n",
    "Day_normal_test.describe()"
   ]
  },
  {
   "cell_type": "code",
   "execution_count": 27,
   "metadata": {
    "id": "XDssvlq9Ztkd",
    "outputId": "86406ac6-eb44-4f51-8e59-3b1c9207430e"
   },
   "outputs": [
    {
     "data": {
      "text/plain": [
       "98    213\n",
       "96      1\n",
       "Name: NumberOfTime30-59DaysPastDueNotWorse, dtype: int64"
      ]
     },
     "execution_count": 27,
     "metadata": {},
     "output_type": "execute_result"
    }
   ],
   "source": [
    "Day_outlier_test['NumberOfTime30-59DaysPastDueNotWorse'].value_counts()"
   ]
  },
  {
   "cell_type": "code",
   "execution_count": 28,
   "metadata": {
    "id": "OjutIXWAZtki",
    "outputId": "d9781bd1-d358-4e29-a81d-f38326baaecd"
   },
   "outputs": [
    {
     "data": {
      "text/plain": [
       "98    213\n",
       "96      1\n",
       "Name: NumberOfTime60-89DaysPastDueNotWorse, dtype: int64"
      ]
     },
     "execution_count": 28,
     "metadata": {},
     "output_type": "execute_result"
    }
   ],
   "source": [
    "Day_outlier_test['NumberOfTime60-89DaysPastDueNotWorse'].value_counts()"
   ]
  },
  {
   "cell_type": "code",
   "execution_count": 29,
   "metadata": {
    "id": "opmYauDjZtkm",
    "outputId": "925030a3-c1dd-48ed-fc8e-b40e5ae1bc70"
   },
   "outputs": [
    {
     "data": {
      "text/plain": [
       "98    213\n",
       "96      1\n",
       "Name: NumberOfTimes90DaysLate, dtype: int64"
      ]
     },
     "execution_count": 29,
     "metadata": {},
     "output_type": "execute_result"
    }
   ],
   "source": [
    "Day_outlier_test['NumberOfTimes90DaysLate'].value_counts()"
   ]
  },
  {
   "cell_type": "code",
   "execution_count": 30,
   "metadata": {
    "id": "jGU6cPbOZtkr",
    "outputId": "fb87f698-2e65-47ed-cd3d-cf9a42850426"
   },
   "outputs": [
    {
     "name": "stdout",
     "output_type": "stream",
     "text": [
      "AxesSubplot(0.125,0.125;0.62x0.755)\n"
     ]
    },
    {
     "data": {
      "image/png": "[encoded data removed]",
      "text/plain": [
       "<Figure size 432x288 with 2 Axes>"
      ]
     },
     "metadata": {
      "needs_background": "light"
     },
     "output_type": "display_data"
    }
   ],
   "source": [
    "print(sns.heatmap(data=Day_normal_test.corr(),annot=True,fmt='.2f', linewidths=.5,cmap='Blues'))"
   ]
  },
  {
   "cell_type": "markdown",
   "metadata": {
    "id": "5tviSCl_Ztkw"
   },
   "source": [
    "### Day변수\n",
    "이상치(50이상)을 제거한 변수들 끼리는 상관관계가 크게 높기는 하나 다중공선성을 불러올 만큼은 크지 않다. 그렇기에 이상치를 0으로 하여 제거한 변수들을 사용한다. 또한 테스트 데이터에도 이상치를 가진 변수가 존재하기에 이상치를 가진 데이터들은 새로운 변수를 만들어 사용한다. "
   ]
  },
  {
   "cell_type": "markdown",
   "metadata": {
    "id": "LmksI2WkZtkx"
   },
   "source": [
    "## Feature Engineering and Data Cleaning\n",
    "### 이상치데이터를 제거한 Train Data 생성"
   ]
  },
  {
   "cell_type": "code",
   "execution_count": 31,
   "metadata": {
    "colab": {
     "base_uri": "https://localhost:8080/",
     "height": 190
    },
    "id": "9H5sl4CsZtky",
    "outputId": "abeb0545-0e65-4d28-f163-55dd11a9473d"
   },
   "outputs": [
    {
     "data": {
      "text/html": [
       "<div>\n",
       "<style scoped>\n",
       "    .dataframe tbody tr th:only-of-type {\n",
       "        vertical-align: middle;\n",
       "    }\n",
       "\n",
       "    .dataframe tbody tr th {\n",
       "        vertical-align: top;\n",
       "    }\n",
       "\n",
       "    .dataframe thead th {\n",
       "        text-align: right;\n",
       "    }\n",
       "</style>\n",
       "<table border=\"1\" class=\"dataframe\">\n",
       "  <thead>\n",
       "    <tr style=\"text-align: right;\">\n",
       "      <th></th>\n",
       "      <th>Unnamed: 0</th>\n",
       "      <th>SeriousDlqin2yrs</th>\n",
       "      <th>RevolvingUtilizationOfUnsecuredLines</th>\n",
       "      <th>age</th>\n",
       "      <th>NumberOfTime30-59DaysPastDueNotWorse</th>\n",
       "      <th>DebtRatio</th>\n",
       "      <th>MonthlyIncome</th>\n",
       "      <th>NumberOfOpenCreditLinesAndLoans</th>\n",
       "      <th>NumberOfTimes90DaysLate</th>\n",
       "      <th>NumberRealEstateLoansOrLines</th>\n",
       "      <th>NumberOfTime60-89DaysPastDueNotWorse</th>\n",
       "      <th>NumberOfDependents</th>\n",
       "    </tr>\n",
       "  </thead>\n",
       "  <tbody>\n",
       "    <tr>\n",
       "      <th>count</th>\n",
       "      <td>149997.000000</td>\n",
       "      <td>149997.000000</td>\n",
       "      <td>149997.000000</td>\n",
       "      <td>149997.000000</td>\n",
       "      <td>149997.000000</td>\n",
       "      <td>149997.000000</td>\n",
       "      <td>1.202660e+05</td>\n",
       "      <td>149997.000000</td>\n",
       "      <td>149997.000000</td>\n",
       "      <td>149997.000000</td>\n",
       "      <td>149997.000000</td>\n",
       "      <td>146073.000000</td>\n",
       "    </tr>\n",
       "    <tr>\n",
       "      <th>mean</th>\n",
       "      <td>75000.782676</td>\n",
       "      <td>0.066841</td>\n",
       "      <td>5.516422</td>\n",
       "      <td>52.295499</td>\n",
       "      <td>0.421035</td>\n",
       "      <td>353.012129</td>\n",
       "      <td>6.669939e+03</td>\n",
       "      <td>8.452796</td>\n",
       "      <td>0.265979</td>\n",
       "      <td>1.018227</td>\n",
       "      <td>0.240391</td>\n",
       "      <td>0.757224</td>\n",
       "    </tr>\n",
       "    <tr>\n",
       "      <th>std</th>\n",
       "      <td>43301.686174</td>\n",
       "      <td>0.249748</td>\n",
       "      <td>198.980525</td>\n",
       "      <td>14.771387</td>\n",
       "      <td>4.192823</td>\n",
       "      <td>2037.838291</td>\n",
       "      <td>1.438457e+04</td>\n",
       "      <td>5.145996</td>\n",
       "      <td>4.169345</td>\n",
       "      <td>1.129777</td>\n",
       "      <td>4.155221</td>\n",
       "      <td>1.115089</td>\n",
       "    </tr>\n",
       "    <tr>\n",
       "      <th>min</th>\n",
       "      <td>1.000000</td>\n",
       "      <td>0.000000</td>\n",
       "      <td>0.000000</td>\n",
       "      <td>21.000000</td>\n",
       "      <td>0.000000</td>\n",
       "      <td>0.000000</td>\n",
       "      <td>0.000000e+00</td>\n",
       "      <td>0.000000</td>\n",
       "      <td>0.000000</td>\n",
       "      <td>0.000000</td>\n",
       "      <td>0.000000</td>\n",
       "      <td>0.000000</td>\n",
       "    </tr>\n",
       "    <tr>\n",
       "      <th>25%</th>\n",
       "      <td>37501.000000</td>\n",
       "      <td>0.000000</td>\n",
       "      <td>0.029866</td>\n",
       "      <td>41.000000</td>\n",
       "      <td>0.000000</td>\n",
       "      <td>0.175073</td>\n",
       "      <td>3.400000e+03</td>\n",
       "      <td>5.000000</td>\n",
       "      <td>0.000000</td>\n",
       "      <td>0.000000</td>\n",
       "      <td>0.000000</td>\n",
       "      <td>0.000000</td>\n",
       "    </tr>\n",
       "    <tr>\n",
       "      <th>50%</th>\n",
       "      <td>75001.000000</td>\n",
       "      <td>0.000000</td>\n",
       "      <td>0.154170</td>\n",
       "      <td>52.000000</td>\n",
       "      <td>0.000000</td>\n",
       "      <td>0.366503</td>\n",
       "      <td>5.400000e+03</td>\n",
       "      <td>8.000000</td>\n",
       "      <td>0.000000</td>\n",
       "      <td>1.000000</td>\n",
       "      <td>0.000000</td>\n",
       "      <td>0.000000</td>\n",
       "    </tr>\n",
       "    <tr>\n",
       "      <th>75%</th>\n",
       "      <td>112501.000000</td>\n",
       "      <td>0.000000</td>\n",
       "      <td>0.559035</td>\n",
       "      <td>63.000000</td>\n",
       "      <td>0.000000</td>\n",
       "      <td>0.868263</td>\n",
       "      <td>8.249000e+03</td>\n",
       "      <td>11.000000</td>\n",
       "      <td>0.000000</td>\n",
       "      <td>2.000000</td>\n",
       "      <td>0.000000</td>\n",
       "      <td>1.000000</td>\n",
       "    </tr>\n",
       "    <tr>\n",
       "      <th>max</th>\n",
       "      <td>150000.000000</td>\n",
       "      <td>1.000000</td>\n",
       "      <td>22198.000000</td>\n",
       "      <td>109.000000</td>\n",
       "      <td>98.000000</td>\n",
       "      <td>329664.000000</td>\n",
       "      <td>3.008750e+06</td>\n",
       "      <td>58.000000</td>\n",
       "      <td>98.000000</td>\n",
       "      <td>54.000000</td>\n",
       "      <td>98.000000</td>\n",
       "      <td>20.000000</td>\n",
       "    </tr>\n",
       "  </tbody>\n",
       "</table>\n",
       "</div>"
      ],
      "text/plain": [
       "          Unnamed: 0  SeriousDlqin2yrs  RevolvingUtilizationOfUnsecuredLines  \\\n",
       "count  149997.000000     149997.000000                         149997.000000   \n",
       "mean    75000.782676          0.066841                              5.516422   \n",
       "std     43301.686174          0.249748                            198.980525   \n",
       "min         1.000000          0.000000                              0.000000   \n",
       "25%     37501.000000          0.000000                              0.029866   \n",
       "50%     75001.000000          0.000000                              0.154170   \n",
       "75%    112501.000000          0.000000                              0.559035   \n",
       "max    150000.000000          1.000000                          22198.000000   \n",
       "\n",
       "                 age  NumberOfTime30-59DaysPastDueNotWorse      DebtRatio  \\\n",
       "count  149997.000000                         149997.000000  149997.000000   \n",
       "mean       52.295499                              0.421035     353.012129   \n",
       "std        14.771387                              4.192823    2037.838291   \n",
       "min        21.000000                              0.000000       0.000000   \n",
       "25%        41.000000                              0.000000       0.175073   \n",
       "50%        52.000000                              0.000000       0.366503   \n",
       "75%        63.000000                              0.000000       0.868263   \n",
       "max       109.000000                             98.000000  329664.000000   \n",
       "\n",
       "       MonthlyIncome  NumberOfOpenCreditLinesAndLoans  \\\n",
       "count   1.202660e+05                    149997.000000   \n",
       "mean    6.669939e+03                         8.452796   \n",
       "std     1.438457e+04                         5.145996   \n",
       "min     0.000000e+00                         0.000000   \n",
       "25%     3.400000e+03                         5.000000   \n",
       "50%     5.400000e+03                         8.000000   \n",
       "75%     8.249000e+03                        11.000000   \n",
       "max     3.008750e+06                        58.000000   \n",
       "\n",
       "       NumberOfTimes90DaysLate  NumberRealEstateLoansOrLines  \\\n",
       "count            149997.000000                 149997.000000   \n",
       "mean                  0.265979                      1.018227   \n",
       "std                   4.169345                      1.129777   \n",
       "min                   0.000000                      0.000000   \n",
       "25%                   0.000000                      0.000000   \n",
       "50%                   0.000000                      1.000000   \n",
       "75%                   0.000000                      2.000000   \n",
       "max                  98.000000                     54.000000   \n",
       "\n",
       "       NumberOfTime60-89DaysPastDueNotWorse  NumberOfDependents  \n",
       "count                         149997.000000       146073.000000  \n",
       "mean                               0.240391            0.757224  \n",
       "std                                4.155221            1.115089  \n",
       "min                                0.000000            0.000000  \n",
       "25%                                0.000000            0.000000  \n",
       "50%                                0.000000            0.000000  \n",
       "75%                                0.000000            1.000000  \n",
       "max                               98.000000           20.000000  "
      ]
     },
     "execution_count": 31,
     "metadata": {},
     "output_type": "execute_result"
    }
   ],
   "source": [
    "X1=X[(X['age']>=10)&(X['RevolvingUtilizationOfUnsecuredLines']<=25000)]\n",
    "X1.describe()"
   ]
  },
  {
   "cell_type": "markdown",
   "metadata": {
    "id": "ojEGsZHMZtk2"
   },
   "source": [
    "### Day변수들의 조정\n",
    "1.day변수 값이 50을 넘는 값들을 받아줄 새로운 변수('Day_outlier')를 생성하여 따로 나타낸다.\n",
    "\n",
    "2.원래 day변수의 의미를 50을 넘지않는 day변수로 조정한다 -> 50을 넘으면 0로 판단\n"
   ]
  },
  {
   "cell_type": "markdown",
   "metadata": {
    "id": "aaOitCFeZtk3"
   },
   "source": [
    "### train"
   ]
  },
  {
   "cell_type": "code",
   "execution_count": 32,
   "metadata": {
    "colab": {
     "base_uri": "https://localhost:8080/",
     "height": 244
    },
    "id": "ttl6H9hDZtk4",
    "outputId": "10b8a738-2cbd-4793-a5c7-f0df0906a501"
   },
   "outputs": [
    {
     "name": "stdout",
     "output_type": "stream",
     "text": [
      "[1] [0]\n"
     ]
    }
   ],
   "source": [
    "X1['Day_outlier']=X1['NumberOfTime30-59DaysPastDueNotWorse']\n",
    "X1['Day_outlier']=X1['Day_outlier'].apply(lambda x:1 if x>=50 else 0)\n",
    "\n",
    "#새로운 변수 확인\n",
    "New1=X1[(X1['NumberOfTimes90DaysLate'] > 50)]\n",
    "New2=X1[(X1['NumberOfTimes90DaysLate'] <= 50)]\n",
    "\n",
    "print(New1['Day_outlier'].unique(),New2['Day_outlier'].unique())  #잘 나눠졌음을 알 수 있다."
   ]
  },
  {
   "cell_type": "code",
   "execution_count": 33,
   "metadata": {
    "id": "kZgAu7vgZtk8"
   },
   "outputs": [
    {
     "data": {
      "text/html": [
       "<div>\n",
       "<style scoped>\n",
       "    .dataframe tbody tr th:only-of-type {\n",
       "        vertical-align: middle;\n",
       "    }\n",
       "\n",
       "    .dataframe tbody tr th {\n",
       "        vertical-align: top;\n",
       "    }\n",
       "\n",
       "    .dataframe thead th {\n",
       "        text-align: right;\n",
       "    }\n",
       "</style>\n",
       "<table border=\"1\" class=\"dataframe\">\n",
       "  <thead>\n",
       "    <tr style=\"text-align: right;\">\n",
       "      <th></th>\n",
       "      <th>Unnamed: 0</th>\n",
       "      <th>SeriousDlqin2yrs</th>\n",
       "      <th>RevolvingUtilizationOfUnsecuredLines</th>\n",
       "      <th>age</th>\n",
       "      <th>NumberOfTime30-59DaysPastDueNotWorse</th>\n",
       "      <th>DebtRatio</th>\n",
       "      <th>MonthlyIncome</th>\n",
       "      <th>NumberOfOpenCreditLinesAndLoans</th>\n",
       "      <th>NumberOfTimes90DaysLate</th>\n",
       "      <th>NumberRealEstateLoansOrLines</th>\n",
       "      <th>NumberOfTime60-89DaysPastDueNotWorse</th>\n",
       "      <th>NumberOfDependents</th>\n",
       "      <th>Day_outlier</th>\n",
       "    </tr>\n",
       "  </thead>\n",
       "  <tbody>\n",
       "    <tr>\n",
       "      <th>count</th>\n",
       "      <td>149997.000000</td>\n",
       "      <td>149997.000000</td>\n",
       "      <td>149997.000000</td>\n",
       "      <td>149997.000000</td>\n",
       "      <td>149997.000000</td>\n",
       "      <td>149997.000000</td>\n",
       "      <td>1.202660e+05</td>\n",
       "      <td>149997.000000</td>\n",
       "      <td>149997.000000</td>\n",
       "      <td>149997.000000</td>\n",
       "      <td>149997.000000</td>\n",
       "      <td>146073.000000</td>\n",
       "      <td>149997.000000</td>\n",
       "    </tr>\n",
       "    <tr>\n",
       "      <th>mean</th>\n",
       "      <td>75000.782676</td>\n",
       "      <td>0.066841</td>\n",
       "      <td>5.516422</td>\n",
       "      <td>52.295499</td>\n",
       "      <td>0.245352</td>\n",
       "      <td>353.012129</td>\n",
       "      <td>6.669939e+03</td>\n",
       "      <td>8.452796</td>\n",
       "      <td>0.090295</td>\n",
       "      <td>1.018227</td>\n",
       "      <td>0.064708</td>\n",
       "      <td>0.757224</td>\n",
       "      <td>0.001793</td>\n",
       "    </tr>\n",
       "    <tr>\n",
       "      <th>std</th>\n",
       "      <td>43301.686174</td>\n",
       "      <td>0.249748</td>\n",
       "      <td>198.980525</td>\n",
       "      <td>14.771387</td>\n",
       "      <td>0.697235</td>\n",
       "      <td>2037.838291</td>\n",
       "      <td>1.438457e+04</td>\n",
       "      <td>5.145996</td>\n",
       "      <td>0.485112</td>\n",
       "      <td>1.129777</td>\n",
       "      <td>0.329792</td>\n",
       "      <td>1.115089</td>\n",
       "      <td>0.042310</td>\n",
       "    </tr>\n",
       "    <tr>\n",
       "      <th>min</th>\n",
       "      <td>1.000000</td>\n",
       "      <td>0.000000</td>\n",
       "      <td>0.000000</td>\n",
       "      <td>21.000000</td>\n",
       "      <td>0.000000</td>\n",
       "      <td>0.000000</td>\n",
       "      <td>0.000000e+00</td>\n",
       "      <td>0.000000</td>\n",
       "      <td>0.000000</td>\n",
       "      <td>0.000000</td>\n",
       "      <td>0.000000</td>\n",
       "      <td>0.000000</td>\n",
       "      <td>0.000000</td>\n",
       "    </tr>\n",
       "    <tr>\n",
       "      <th>25%</th>\n",
       "      <td>37501.000000</td>\n",
       "      <td>0.000000</td>\n",
       "      <td>0.029866</td>\n",
       "      <td>41.000000</td>\n",
       "      <td>0.000000</td>\n",
       "      <td>0.175073</td>\n",
       "      <td>3.400000e+03</td>\n",
       "      <td>5.000000</td>\n",
       "      <td>0.000000</td>\n",
       "      <td>0.000000</td>\n",
       "      <td>0.000000</td>\n",
       "      <td>0.000000</td>\n",
       "      <td>0.000000</td>\n",
       "    </tr>\n",
       "    <tr>\n",
       "      <th>50%</th>\n",
       "      <td>75001.000000</td>\n",
       "      <td>0.000000</td>\n",
       "      <td>0.154170</td>\n",
       "      <td>52.000000</td>\n",
       "      <td>0.000000</td>\n",
       "      <td>0.366503</td>\n",
       "      <td>5.400000e+03</td>\n",
       "      <td>8.000000</td>\n",
       "      <td>0.000000</td>\n",
       "      <td>1.000000</td>\n",
       "      <td>0.000000</td>\n",
       "      <td>0.000000</td>\n",
       "      <td>0.000000</td>\n",
       "    </tr>\n",
       "    <tr>\n",
       "      <th>75%</th>\n",
       "      <td>112501.000000</td>\n",
       "      <td>0.000000</td>\n",
       "      <td>0.559035</td>\n",
       "      <td>63.000000</td>\n",
       "      <td>0.000000</td>\n",
       "      <td>0.868263</td>\n",
       "      <td>8.249000e+03</td>\n",
       "      <td>11.000000</td>\n",
       "      <td>0.000000</td>\n",
       "      <td>2.000000</td>\n",
       "      <td>0.000000</td>\n",
       "      <td>1.000000</td>\n",
       "      <td>0.000000</td>\n",
       "    </tr>\n",
       "    <tr>\n",
       "      <th>max</th>\n",
       "      <td>150000.000000</td>\n",
       "      <td>1.000000</td>\n",
       "      <td>22198.000000</td>\n",
       "      <td>109.000000</td>\n",
       "      <td>13.000000</td>\n",
       "      <td>329664.000000</td>\n",
       "      <td>3.008750e+06</td>\n",
       "      <td>58.000000</td>\n",
       "      <td>17.000000</td>\n",
       "      <td>54.000000</td>\n",
       "      <td>11.000000</td>\n",
       "      <td>20.000000</td>\n",
       "      <td>1.000000</td>\n",
       "    </tr>\n",
       "  </tbody>\n",
       "</table>\n",
       "</div>"
      ],
      "text/plain": [
       "          Unnamed: 0  SeriousDlqin2yrs  RevolvingUtilizationOfUnsecuredLines  \\\n",
       "count  149997.000000     149997.000000                         149997.000000   \n",
       "mean    75000.782676          0.066841                              5.516422   \n",
       "std     43301.686174          0.249748                            198.980525   \n",
       "min         1.000000          0.000000                              0.000000   \n",
       "25%     37501.000000          0.000000                              0.029866   \n",
       "50%     75001.000000          0.000000                              0.154170   \n",
       "75%    112501.000000          0.000000                              0.559035   \n",
       "max    150000.000000          1.000000                          22198.000000   \n",
       "\n",
       "                 age  NumberOfTime30-59DaysPastDueNotWorse      DebtRatio  \\\n",
       "count  149997.000000                         149997.000000  149997.000000   \n",
       "mean       52.295499                              0.245352     353.012129   \n",
       "std        14.771387                              0.697235    2037.838291   \n",
       "min        21.000000                              0.000000       0.000000   \n",
       "25%        41.000000                              0.000000       0.175073   \n",
       "50%        52.000000                              0.000000       0.366503   \n",
       "75%        63.000000                              0.000000       0.868263   \n",
       "max       109.000000                             13.000000  329664.000000   \n",
       "\n",
       "       MonthlyIncome  NumberOfOpenCreditLinesAndLoans  \\\n",
       "count   1.202660e+05                    149997.000000   \n",
       "mean    6.669939e+03                         8.452796   \n",
       "std     1.438457e+04                         5.145996   \n",
       "min     0.000000e+00                         0.000000   \n",
       "25%     3.400000e+03                         5.000000   \n",
       "50%     5.400000e+03                         8.000000   \n",
       "75%     8.249000e+03                        11.000000   \n",
       "max     3.008750e+06                        58.000000   \n",
       "\n",
       "       NumberOfTimes90DaysLate  NumberRealEstateLoansOrLines  \\\n",
       "count            149997.000000                 149997.000000   \n",
       "mean                  0.090295                      1.018227   \n",
       "std                   0.485112                      1.129777   \n",
       "min                   0.000000                      0.000000   \n",
       "25%                   0.000000                      0.000000   \n",
       "50%                   0.000000                      1.000000   \n",
       "75%                   0.000000                      2.000000   \n",
       "max                  17.000000                     54.000000   \n",
       "\n",
       "       NumberOfTime60-89DaysPastDueNotWorse  NumberOfDependents    Day_outlier  \n",
       "count                         149997.000000       146073.000000  149997.000000  \n",
       "mean                               0.064708            0.757224       0.001793  \n",
       "std                                0.329792            1.115089       0.042310  \n",
       "min                                0.000000            0.000000       0.000000  \n",
       "25%                                0.000000            0.000000       0.000000  \n",
       "50%                                0.000000            0.000000       0.000000  \n",
       "75%                                0.000000            1.000000       0.000000  \n",
       "max                               11.000000           20.000000       1.000000  "
      ]
     },
     "execution_count": 33,
     "metadata": {},
     "output_type": "execute_result"
    }
   ],
   "source": [
    "# 변수 수정(원래 day변수의 의미를 50을 넘지않는 day변수로 조정한다 )\n",
    "X1['NumberOfTimes90DaysLate']=X1['NumberOfTimes90DaysLate'].replace(98,0)\n",
    "X1['NumberOfTimes90DaysLate']=X1['NumberOfTimes90DaysLate'].replace(96,0)\n",
    "\n",
    "X1['NumberOfTime30-59DaysPastDueNotWorse']=X1['NumberOfTime30-59DaysPastDueNotWorse'].replace(98,0)\n",
    "X1['NumberOfTime30-59DaysPastDueNotWorse']=X1['NumberOfTime30-59DaysPastDueNotWorse'].replace(96,0)\n",
    "\n",
    "X1['NumberOfTime60-89DaysPastDueNotWorse']=X1['NumberOfTime60-89DaysPastDueNotWorse'].replace(98,0)\n",
    "X1['NumberOfTime60-89DaysPastDueNotWorse']=X1['NumberOfTime60-89DaysPastDueNotWorse'].replace(96,0)\n",
    "\n",
    "X1.describe()"
   ]
  },
  {
   "cell_type": "markdown",
   "metadata": {
    "id": "VGFn0j5WZtlA"
   },
   "source": [
    "### test"
   ]
  },
  {
   "cell_type": "code",
   "execution_count": null,
   "metadata": {
    "id": "cmgJZQ6nZtlB"
   },
   "outputs": [],
   "source": [
    "Y1=Y\n",
    "\n",
    "Y1['Day_outlier']=Y1['NumberOfTime30-59DaysPastDueNotWorse']\n",
    "Y1['Day_outlier']=Y1['Day_outlier'].apply(lambda x:1 if x>=50 else 0)\n",
    "\n",
    "Y1['NumberOfTimes90DaysLate']=Y1['NumberOfTimes90DaysLate'].replace(98,0)\n",
    "Y1['NumberOfTimes90DaysLate']=Y1['NumberOfTimes90DaysLate'].replace(96,0)\n",
    "\n",
    "Y1['NumberOfTime30-59DaysPastDueNotWorse']=Y1['NumberOfTime30-59DaysPastDueNotWorse'].replace(98,0)\n",
    "Y1['NumberOfTime30-59DaysPastDueNotWorse']=Y1['NumberOfTime30-59DaysPastDueNotWorse'].replace(96,0)\n",
    "\n",
    "Y1['NumberOfTime60-89DaysPastDueNotWorse']=Y1['NumberOfTime60-89DaysPastDueNotWorse'].replace(98,0)\n",
    "Y1['NumberOfTime60-89DaysPastDueNotWorse']=Y1['NumberOfTime60-89DaysPastDueNotWorse'].replace(96,0)\n",
    "\n",
    "Y1.describe()"
   ]
  },
  {
   "cell_type": "code",
   "execution_count": null,
   "metadata": {
    "id": "WdGgWVdrZtlF"
   },
   "outputs": [],
   "source": [
    "X1.describe() #위의  Y1비교했을 때 크게 이상치 없어보임"
   ]
  },
  {
   "cell_type": "code",
   "execution_count": null,
   "metadata": {
    "id": "5ovO-hSgZtlM"
   },
   "outputs": [],
   "source": [
    "X1=pd.DataFrame(X1,columns=X1.columns)\n",
    "Y1=pd.DataFrame(Y1,columns=X1.columns)"
   ]
  },
  {
   "cell_type": "markdown",
   "metadata": {
    "id": "pt2hR_faZtlQ"
   },
   "source": [
    "### 결측치 예측\n",
    "\n",
    "#### MonthlyIncome변수를 제거하여 NumberOfDependents변수를 예측한 뒤에, 예측된 NumberOfDependents도 활용하여 MonthlyIncome변수를 예측하기로 한다.\n",
    "\n",
    "***근거***\n",
    "\n",
    "1.평균값이나 중위값 보다는 회귀를 통한 예측값이 정확하다고 판단함\n",
    "\n",
    "2.변수를 하나 줄여 예측할 경우 정확도가 떨어질 수 있다. MonthlyIncome과 NumberOfDependents의 결측치는 각각 약 20%, 약 2%이다. 조금이라도 정확한 예측을 결측치 비율이 높은 MonthlyIncome변수에 적용하는게 맞다고 판단함.\n",
    "\n",
    "3.상관관계를 보면 NumberOfDependents변수가 MonthlyIncome 이외의 변수에도 상관성이 높다. 반면에 MonthlyIncome 변수는 NumberOfDependents변수와의 상관관계가 가장 높고 다른 변수와의 상관관계는 비교적 낮음을 알 수 있다. 그렇기에 예측한 NumberOfDependents를 MonthlyIncome예측에 사용하기로 한다.\n",
    "\n"
   ]
  },
  {
   "cell_type": "markdown",
   "metadata": {
    "id": "Bpx6EtdPZtlR"
   },
   "source": [
    "### 결측치 예측을 위한 Data생성"
   ]
  },
  {
   "cell_type": "code",
   "execution_count": null,
   "metadata": {
    "id": "DEWi-X1lZtlS"
   },
   "outputs": [],
   "source": [
    "# 예측에 영향을 주지않는 Unnamed:0변수를 제거시킨다\n",
    "# 최종 예측값이 되는 target값 또한 제거시킨다.\n",
    "\n",
    "X1_pred = X1\n",
    "Y1_pred = Y1\n",
    "\n",
    "X1_pred=X1_pred.drop('Unnamed: 0', axis=1)\n",
    "X1_pred=X1_pred.drop('SeriousDlqin2yrs', axis=1)\n",
    "\n",
    "Y1_pred=Y1_pred.drop('Unnamed: 0', axis=1)\n",
    "Y1_pred=Y1_pred.drop('SeriousDlqin2yrs', axis=1)"
   ]
  },
  {
   "cell_type": "code",
   "execution_count": null,
   "metadata": {
    "id": "bi6wGFOMZtlW"
   },
   "outputs": [],
   "source": [
    "X1_pred.describe()"
   ]
  },
  {
   "cell_type": "code",
   "execution_count": null,
   "metadata": {
    "id": "k6uOrjLHZtla"
   },
   "outputs": [],
   "source": [
    "Y1_pred.describe()"
   ]
  },
  {
   "cell_type": "code",
   "execution_count": null,
   "metadata": {
    "id": "5H-skwcaZtlh"
   },
   "outputs": [],
   "source": [
    "# train 과 test결합(최대한 많은 정보를 사용하기 위해서)\n",
    "Pred=X1_pred.append(Y1_pred)\n",
    "Pred.info()"
   ]
  },
  {
   "cell_type": "code",
   "execution_count": null,
   "metadata": {
    "id": "wrb0Z8kEZtll"
   },
   "outputs": [],
   "source": [
    "# Scale 해준다(최적의 RMSE를 위해서)\n",
    "\n",
    "from sklearn.preprocessing import StandardScaler\n",
    "scaler=StandardScaler()\n",
    "scaler.fit(Pred)\n",
    "\n",
    "Pred_scaled=scaler.transform(Pred)\n",
    "Pred_scaled=pd.DataFrame(data=Pred_scaled, columns=Pred.columns)\n",
    "\n",
    "'''나중에 예측후 재결합시 사용하기 위하여 새로운 index를 부여한다.\n",
    "(149996까지 train, 이후에는 test)'''\n",
    "Pred_scaled['index']=Pred_scaled.index\n",
    "\n",
    "Pred_scaled.head(10)"
   ]
  },
  {
   "cell_type": "markdown",
   "metadata": {
    "id": "fh8pbkwMZtlp"
   },
   "source": [
    "### NumberOfDependents예측"
   ]
  },
  {
   "cell_type": "code",
   "execution_count": null,
   "metadata": {
    "id": "I6e_eeVZZtls"
   },
   "outputs": [],
   "source": [
    "Pred_Num=Pred_scaled.drop('MonthlyIncome', axis=1)\n",
    "\n",
    "#test와 train데이터 분리\n",
    "\n",
    "\n",
    "#train\n",
    "Pred_Num_train=Pred_Num[(Pred_Num['NumberOfDependents'].isnull()==0)]\n",
    "\n",
    "Pred_Num_train_X=Pred_Num_train.drop(\"NumberOfDependents\",axis=1)\n",
    "Pred_Num_train_X1=Pred_Num_train_X.drop(\"index\",axis=1)\n",
    "\n",
    "Pred_Num_train_Y=Pred_Num_train[\"NumberOfDependents\"]\n",
    "\n",
    "#test\n",
    "Pred_Num_test=Pred_Num[(Pred_Num['NumberOfDependents'].isnull()==1)]\n",
    "\n",
    "\n",
    "Pred_Num_test_X=Pred_Num_test.drop(\"NumberOfDependents\",axis=1)\n",
    "Pred_Num_test_X1=Pred_Num_test_X.drop(\"index\",axis=1)\n",
    "\n",
    "Pred_Num_train_X.info()\n",
    "Pred_Num_test_X.info()"
   ]
  },
  {
   "cell_type": "code",
   "execution_count": null,
   "metadata": {
    "id": "Y8F3ojBsZtlw"
   },
   "outputs": [],
   "source": [
    "#단순선형회귀를 통한 NumberOfDependents 예측\n",
    "\n",
    "from sklearn.model_selection import train_test_split\n",
    "from sklearn.metrics import mean_squared_error\n",
    "from sklearn.linear_model import LinearRegression\n",
    "from sklearn.preprocessing import StandardScaler\n",
    "\n",
    "lr=LinearRegression()\n",
    "lr.fit(Pred_Num_train_X1,Pred_Num_train_Y)\n",
    "Pred_Num_test_Y=lr.predict(Pred_Num_test_X1)\n",
    "\n",
    "Pred_Num_test_Y"
   ]
  },
  {
   "cell_type": "code",
   "execution_count": null,
   "metadata": {
    "id": "3X9ueWv9Ztl0"
   },
   "outputs": [],
   "source": [
    "#데이터 재결합\n",
    "Pred_Num_train_X[\"NumberOfDependents\"]=Pred_Num_train_Y\n",
    "Pred_Num_test_X[\"NumberOfDependents\"]=Pred_Num_test_Y\n",
    "\n",
    "Pred_Num_new=Pred_Num_train_X.append(Pred_Num_test_X)\n",
    "Pred_Num_new=Pred_Num_new.sort_values(by=[\"index\"],axis=0) #index에 따라 오름차순 정리\n",
    "Pred_Num_new[\"MonthlyIncome\"]=Pred_scaled[\"MonthlyIncome\"] #다시 MonthlyIncome 결합\n",
    "Pred_new=Pred_Num_new\n",
    "\n",
    "Pred_new.info()"
   ]
  },
  {
   "cell_type": "markdown",
   "metadata": {
    "id": "G2OZog9gZtl4"
   },
   "source": [
    "### MonthlyIncome예측"
   ]
  },
  {
   "cell_type": "code",
   "execution_count": null,
   "metadata": {
    "id": "LObyAU-MZtl4"
   },
   "outputs": [],
   "source": [
    "#test와 train데이터 분리\n",
    "\n",
    "#train\n",
    "Pred_Mon_train=Pred_new[(Pred_new['MonthlyIncome'].isnull()==0)]\n",
    "\n",
    "Pred_Mon_train_X=Pred_Mon_train.drop(\"MonthlyIncome\",axis=1)\n",
    "Pred_Mon_train_X1=Pred_Mon_train_X.drop(\"index\",axis=1)\n",
    "\n",
    "Pred_Mon_train_Y=Pred_Mon_train[\"MonthlyIncome\"]\n",
    "\n",
    "#test\n",
    "Pred_Mon_test=Pred_new[(Pred_new['MonthlyIncome'].isnull()==1)]\n",
    "\n",
    "Pred_Mon_test_X=Pred_Mon_test.drop(\"MonthlyIncome\",axis=1)\n",
    "Pred_Mon_test_X1=Pred_Mon_test_X.drop(\"index\",axis=1)"
   ]
  },
  {
   "cell_type": "code",
   "execution_count": null,
   "metadata": {
    "id": "KqiEMvHKZtl7"
   },
   "outputs": [],
   "source": [
    "#단순선형회귀를 통한 MonthlyIncome 예측\n",
    "\n",
    "lr=LinearRegression()\n",
    "lr.fit(Pred_Mon_train_X1,Pred_Mon_train_Y)\n",
    "Pred_Mon_test_Y=lr.predict(Pred_Mon_test_X1)\n",
    "\n",
    "Pred_Mon_test_Y"
   ]
  },
  {
   "cell_type": "code",
   "execution_count": null,
   "metadata": {
    "id": "sMUp7OhmZtl_"
   },
   "outputs": [],
   "source": [
    "#데이터 재결합\n",
    "Pred_Mon_train_X[\"MonthlyIncome\"]=Pred_Mon_train_Y\n",
    "Pred_Mon_test_X[\"MonthlyIncome\"]=Pred_Mon_test_Y\n",
    "\n",
    "Pred_Mon_new=Pred_Mon_train_X.append(Pred_Mon_test_X)\n",
    "Pred_Mon_new=Pred_Mon_new.sort_values(by=[\"index\"],axis=0) #index에 따라 오름차순 정리\n",
    "Pred_new_final=Pred_Mon_new\n",
    "\n",
    "Pred_new_final.info()"
   ]
  },
  {
   "cell_type": "markdown",
   "metadata": {
    "id": "wYJ63cInZtmC"
   },
   "source": [
    "### 최종 train데이터와 test데이터로 분리"
   ]
  },
  {
   "cell_type": "code",
   "execution_count": null,
   "metadata": {
    "id": "bhmZndqIZtmE"
   },
   "outputs": [],
   "source": [
    "#Train_features data\n",
    "train_features=Pred_new_final[(Pred_new_final['index']<=149996)]\n",
    "train_features=train_features.drop(\"index\",axis=1)\n",
    "\n",
    "#Train_target data\n",
    "train_target=X1['SeriousDlqin2yrs']\n",
    "\n",
    "#Test_features\n",
    "test_features=Pred_new_final[(Pred_new_final['index']>149996)]\n",
    "test_features=test_features.drop(\"index\",axis=1)\n",
    "\n",
    "#최종 csv파일에 사용할 ID\n",
    "ID=Y1['Unnamed: 0']\n",
    "\n",
    "train_features.info()\n",
    "test_features.info()"
   ]
  },
  {
   "cell_type": "code",
   "execution_count": null,
   "metadata": {
    "id": "fSU143AcZtmH"
   },
   "outputs": [],
   "source": [
    "train_features"
   ]
  },
  {
   "cell_type": "code",
   "execution_count": null,
   "metadata": {
    "id": "YB7arRDkZtmL"
   },
   "outputs": [],
   "source": [
    "train_target"
   ]
  },
  {
   "cell_type": "code",
   "execution_count": null,
   "metadata": {
    "id": "uwiye9WAZtmS"
   },
   "outputs": [],
   "source": [
    "test_features"
   ]
  },
  {
   "cell_type": "code",
   "execution_count": null,
   "metadata": {
    "id": "W5hhL03MZtmW"
   },
   "outputs": [],
   "source": [
    "train_features.to_csv(r\"C:\\Users\\ASUS VivoBook\\train_features.csv\", index=False)\n",
    "train_target.to_csv(r\"C:\\Users\\ASUS VivoBook\\train_target.csv\", index=False)\n",
    "test_features.to_csv(r\"C:\\Users\\ASUS VivoBook\\test_features.csv\", index=False)"
   ]
  },
  {
   "cell_type": "code",
   "execution_count": 3,
   "metadata": {
    "id": "EN1PzPzdZtmZ"
   },
   "outputs": [],
   "source": [
    "train_features=pd.read_csv(r\"C:\\Users\\ASUS VivoBook\\train_features.csv\")\n",
    "train_target=pd.read_csv(r\"C:\\Users\\ASUS VivoBook\\train_target.csv\")\n",
    "test_features=pd.read_csv(r\"C:\\Users\\ASUS VivoBook\\test_features.csv\")"
   ]
  },
  {
   "cell_type": "code",
   "execution_count": 53,
   "metadata": {
    "id": "wU93D8o-Ztmd"
   },
   "outputs": [
    {
     "data": {
      "text/plain": [
       "{'whiskers': [<matplotlib.lines.Line2D at 0x25aae70bbc8>,\n",
       "  <matplotlib.lines.Line2D at 0x25aae71be88>,\n",
       "  <matplotlib.lines.Line2D at 0x25aa9530d48>,\n",
       "  <matplotlib.lines.Line2D at 0x25aa9530248>,\n",
       "  <matplotlib.lines.Line2D at 0x25aa9544d48>,\n",
       "  <matplotlib.lines.Line2D at 0x25aa954d608>,\n",
       "  <matplotlib.lines.Line2D at 0x25aa9555dc8>,\n",
       "  <matplotlib.lines.Line2D at 0x25aa9555e48>,\n",
       "  <matplotlib.lines.Line2D at 0x25aa956f248>,\n",
       "  <matplotlib.lines.Line2D at 0x25aa9567e88>,\n",
       "  <matplotlib.lines.Line2D at 0x25aa957ae08>,\n",
       "  <matplotlib.lines.Line2D at 0x25aa957aec8>,\n",
       "  <matplotlib.lines.Line2D at 0x25aa958de48>,\n",
       "  <matplotlib.lines.Line2D at 0x25aa958dec8>,\n",
       "  <matplotlib.lines.Line2D at 0x25aa959de48>,\n",
       "  <matplotlib.lines.Line2D at 0x25aa959dec8>,\n",
       "  <matplotlib.lines.Line2D at 0x25aa95b1e08>,\n",
       "  <matplotlib.lines.Line2D at 0x25aa95b1e88>,\n",
       "  <matplotlib.lines.Line2D at 0x25aa95c2d48>,\n",
       "  <matplotlib.lines.Line2D at 0x25aa95c2dc8>,\n",
       "  <matplotlib.lines.Line2D at 0x25aa95d7d48>,\n",
       "  <matplotlib.lines.Line2D at 0x25aa95d7dc8>],\n",
       " 'caps': [<matplotlib.lines.Line2D at 0x25aae720a08>,\n",
       "  <matplotlib.lines.Line2D at 0x25aae720e88>,\n",
       "  <matplotlib.lines.Line2D at 0x25aa953aa48>,\n",
       "  <matplotlib.lines.Line2D at 0x25aa953aec8>,\n",
       "  <matplotlib.lines.Line2D at 0x25aa954da88>,\n",
       "  <matplotlib.lines.Line2D at 0x25aa954df48>,\n",
       "  <matplotlib.lines.Line2D at 0x25aa955eac8>,\n",
       "  <matplotlib.lines.Line2D at 0x25aa955ef48>,\n",
       "  <matplotlib.lines.Line2D at 0x25aa956fb08>,\n",
       "  <matplotlib.lines.Line2D at 0x25aa954da08>,\n",
       "  <matplotlib.lines.Line2D at 0x25aa9582b48>,\n",
       "  <matplotlib.lines.Line2D at 0x25aa9582fc8>,\n",
       "  <matplotlib.lines.Line2D at 0x25aa9595b48>,\n",
       "  <matplotlib.lines.Line2D at 0x25aa9595fc8>,\n",
       "  <matplotlib.lines.Line2D at 0x25aa95a8b48>,\n",
       "  <matplotlib.lines.Line2D at 0x25aa95a8fc8>,\n",
       "  <matplotlib.lines.Line2D at 0x25aa95b8ac8>,\n",
       "  <matplotlib.lines.Line2D at 0x25aa95b8f48>,\n",
       "  <matplotlib.lines.Line2D at 0x25aa95caa48>,\n",
       "  <matplotlib.lines.Line2D at 0x25aa95caec8>,\n",
       "  <matplotlib.lines.Line2D at 0x25aa95dea48>,\n",
       "  <matplotlib.lines.Line2D at 0x25aa95deec8>],\n",
       " 'boxes': [<matplotlib.lines.Line2D at 0x25aae71bdc8>,\n",
       "  <matplotlib.lines.Line2D at 0x25aa9530d08>,\n",
       "  <matplotlib.lines.Line2D at 0x25aa9530888>,\n",
       "  <matplotlib.lines.Line2D at 0x25aa9544848>,\n",
       "  <matplotlib.lines.Line2D at 0x25aa9567d88>,\n",
       "  <matplotlib.lines.Line2D at 0x25aa957adc8>,\n",
       "  <matplotlib.lines.Line2D at 0x25aa957a908>,\n",
       "  <matplotlib.lines.Line2D at 0x25aa958d948>,\n",
       "  <matplotlib.lines.Line2D at 0x25aa959d948>,\n",
       "  <matplotlib.lines.Line2D at 0x25aa95b1948>,\n",
       "  <matplotlib.lines.Line2D at 0x25aa95c28c8>],\n",
       " 'medians': [<matplotlib.lines.Line2D at 0x25aae720e08>,\n",
       "  <matplotlib.lines.Line2D at 0x25aa953ae48>,\n",
       "  <matplotlib.lines.Line2D at 0x25aa954df08>,\n",
       "  <matplotlib.lines.Line2D at 0x25aa955eec8>,\n",
       "  <matplotlib.lines.Line2D at 0x25aa956fe88>,\n",
       "  <matplotlib.lines.Line2D at 0x25aa9582c88>,\n",
       "  <matplotlib.lines.Line2D at 0x25aa9595c88>,\n",
       "  <matplotlib.lines.Line2D at 0x25aa95a8c88>,\n",
       "  <matplotlib.lines.Line2D at 0x25aa95b8ec8>,\n",
       "  <matplotlib.lines.Line2D at 0x25aa95cae48>,\n",
       "  <matplotlib.lines.Line2D at 0x25aa95dee48>],\n",
       " 'fliers': [<matplotlib.lines.Line2D at 0x25aae720fc8>,\n",
       "  <matplotlib.lines.Line2D at 0x25aa9544808>,\n",
       "  <matplotlib.lines.Line2D at 0x25aa9555888>,\n",
       "  <matplotlib.lines.Line2D at 0x25aa9567888>,\n",
       "  <matplotlib.lines.Line2D at 0x25aa957a8c8>,\n",
       "  <matplotlib.lines.Line2D at 0x25aa958d908>,\n",
       "  <matplotlib.lines.Line2D at 0x25aa959d908>,\n",
       "  <matplotlib.lines.Line2D at 0x25aa95b1908>,\n",
       "  <matplotlib.lines.Line2D at 0x25aa957a388>,\n",
       "  <matplotlib.lines.Line2D at 0x25aa95d7808>,\n",
       "  <matplotlib.lines.Line2D at 0x25aa95e8808>],\n",
       " 'means': []}"
      ]
     },
     "execution_count": 53,
     "metadata": {},
     "output_type": "execute_result"
    },
    {
     "data": {
      "image/png": "[encoded data removed]",
      "text/plain": [
       "<Figure size 432x288 with 1 Axes>"
      ]
     },
     "metadata": {
      "needs_background": "light"
     },
     "output_type": "display_data"
    }
   ],
   "source": [
    "plt.boxplot(train_features)"
   ]
  },
  {
   "cell_type": "markdown",
   "metadata": {
    "id": "3cYq_EHNZtmi"
   },
   "source": [
    "DebtRatio 변수에 이상치가 아직 남아있는듯 하다. 하지만 이는 큰 차이를 가지고 있지 않고 각각의 값들이 유의미하므로 따로 처리를 하주진 않는다."
   ]
  },
  {
   "cell_type": "code",
   "execution_count": 54,
   "metadata": {
    "id": "jCc32wQkZtmj"
   },
   "outputs": [
    {
     "data": {
      "text/html": [
       "<div>\n",
       "<style scoped>\n",
       "    .dataframe tbody tr th:only-of-type {\n",
       "        vertical-align: middle;\n",
       "    }\n",
       "\n",
       "    .dataframe tbody tr th {\n",
       "        vertical-align: top;\n",
       "    }\n",
       "\n",
       "    .dataframe thead th {\n",
       "        text-align: right;\n",
       "    }\n",
       "</style>\n",
       "<table border=\"1\" class=\"dataframe\">\n",
       "  <thead>\n",
       "    <tr style=\"text-align: right;\">\n",
       "      <th></th>\n",
       "      <th>RevolvingUtilizationOfUnsecuredLines</th>\n",
       "      <th>age</th>\n",
       "      <th>NumberOfTime30-59DaysPastDueNotWorse</th>\n",
       "      <th>DebtRatio</th>\n",
       "      <th>NumberOfOpenCreditLinesAndLoans</th>\n",
       "      <th>NumberOfTimes90DaysLate</th>\n",
       "      <th>NumberRealEstateLoansOrLines</th>\n",
       "      <th>NumberOfTime60-89DaysPastDueNotWorse</th>\n",
       "      <th>Day_outlier</th>\n",
       "      <th>NumberOfDependents</th>\n",
       "      <th>MonthlyIncome</th>\n",
       "    </tr>\n",
       "  </thead>\n",
       "  <tbody>\n",
       "    <tr>\n",
       "      <th>count</th>\n",
       "      <td>149997.000000</td>\n",
       "      <td>149997.000000</td>\n",
       "      <td>149997.000000</td>\n",
       "      <td>149997.000000</td>\n",
       "      <td>149997.000000</td>\n",
       "      <td>149997.000000</td>\n",
       "      <td>149997.000000</td>\n",
       "      <td>149997.000000</td>\n",
       "      <td>149997.000000</td>\n",
       "      <td>149997.000000</td>\n",
       "      <td>149997.000000</td>\n",
       "    </tr>\n",
       "    <tr>\n",
       "      <th>mean</th>\n",
       "      <td>0.000421</td>\n",
       "      <td>-0.003003</td>\n",
       "      <td>-0.001050</td>\n",
       "      <td>0.001828</td>\n",
       "      <td>-0.000056</td>\n",
       "      <td>0.000167</td>\n",
       "      <td>0.001854</td>\n",
       "      <td>0.001211</td>\n",
       "      <td>-0.002903</td>\n",
       "      <td>-0.009855</td>\n",
       "      <td>-0.011934</td>\n",
       "    </tr>\n",
       "    <tr>\n",
       "      <th>std</th>\n",
       "      <td>1.005741</td>\n",
       "      <td>0.999769</td>\n",
       "      <td>0.995084</td>\n",
       "      <td>1.081197</td>\n",
       "      <td>1.000153</td>\n",
       "      <td>1.006106</td>\n",
       "      <td>1.006988</td>\n",
       "      <td>1.004007</td>\n",
       "      <td>0.966405</td>\n",
       "      <td>0.981009</td>\n",
       "      <td>0.502585</td>\n",
       "    </tr>\n",
       "    <tr>\n",
       "      <th>min</th>\n",
       "      <td>-0.027462</td>\n",
       "      <td>-2.121170</td>\n",
       "      <td>-0.351213</td>\n",
       "      <td>-0.185466</td>\n",
       "      <td>-1.642904</td>\n",
       "      <td>-0.187102</td>\n",
       "      <td>-0.905708</td>\n",
       "      <td>-0.195784</td>\n",
       "      <td>-0.043865</td>\n",
       "      <td>-5.984014</td>\n",
       "      <td>-5.640689</td>\n",
       "    </tr>\n",
       "    <tr>\n",
       "      <th>25%</th>\n",
       "      <td>-0.027311</td>\n",
       "      <td>-0.767514</td>\n",
       "      <td>-0.351213</td>\n",
       "      <td>-0.185373</td>\n",
       "      <td>-0.671126</td>\n",
       "      <td>-0.187102</td>\n",
       "      <td>-0.905708</td>\n",
       "      <td>-0.195784</td>\n",
       "      <td>-0.043865</td>\n",
       "      <td>-0.677990</td>\n",
       "      <td>-0.118388</td>\n",
       "    </tr>\n",
       "    <tr>\n",
       "      <th>50%</th>\n",
       "      <td>-0.026682</td>\n",
       "      <td>-0.023003</td>\n",
       "      <td>-0.351213</td>\n",
       "      <td>-0.185272</td>\n",
       "      <td>-0.088060</td>\n",
       "      <td>-0.187102</td>\n",
       "      <td>-0.014392</td>\n",
       "      <td>-0.195784</td>\n",
       "      <td>-0.043865</td>\n",
       "      <td>-0.677990</td>\n",
       "      <td>-0.051455</td>\n",
       "    </tr>\n",
       "    <tr>\n",
       "      <th>75%</th>\n",
       "      <td>-0.024636</td>\n",
       "      <td>0.721507</td>\n",
       "      <td>-0.351213</td>\n",
       "      <td>-0.185006</td>\n",
       "      <td>0.495007</td>\n",
       "      <td>-0.187102</td>\n",
       "      <td>0.876924</td>\n",
       "      <td>-0.195784</td>\n",
       "      <td>-0.043865</td>\n",
       "      <td>0.211765</td>\n",
       "      <td>0.032598</td>\n",
       "    </tr>\n",
       "    <tr>\n",
       "      <th>max</th>\n",
       "      <td>112.171661</td>\n",
       "      <td>3.834916</td>\n",
       "      <td>18.202204</td>\n",
       "      <td>174.721236</td>\n",
       "      <td>9.629716</td>\n",
       "      <td>35.070350</td>\n",
       "      <td>47.225363</td>\n",
       "      <td>33.292276</td>\n",
       "      <td>22.797016</td>\n",
       "      <td>17.117109</td>\n",
       "      <td>116.729414</td>\n",
       "    </tr>\n",
       "  </tbody>\n",
       "</table>\n",
       "</div>"
      ],
      "text/plain": [
       "       RevolvingUtilizationOfUnsecuredLines            age  \\\n",
       "count                         149997.000000  149997.000000   \n",
       "mean                               0.000421      -0.003003   \n",
       "std                                1.005741       0.999769   \n",
       "min                               -0.027462      -2.121170   \n",
       "25%                               -0.027311      -0.767514   \n",
       "50%                               -0.026682      -0.023003   \n",
       "75%                               -0.024636       0.721507   \n",
       "max                              112.171661       3.834916   \n",
       "\n",
       "       NumberOfTime30-59DaysPastDueNotWorse      DebtRatio  \\\n",
       "count                         149997.000000  149997.000000   \n",
       "mean                              -0.001050       0.001828   \n",
       "std                                0.995084       1.081197   \n",
       "min                               -0.351213      -0.185466   \n",
       "25%                               -0.351213      -0.185373   \n",
       "50%                               -0.351213      -0.185272   \n",
       "75%                               -0.351213      -0.185006   \n",
       "max                               18.202204     174.721236   \n",
       "\n",
       "       NumberOfOpenCreditLinesAndLoans  NumberOfTimes90DaysLate  \\\n",
       "count                    149997.000000            149997.000000   \n",
       "mean                         -0.000056                 0.000167   \n",
       "std                           1.000153                 1.006106   \n",
       "min                          -1.642904                -0.187102   \n",
       "25%                          -0.671126                -0.187102   \n",
       "50%                          -0.088060                -0.187102   \n",
       "75%                           0.495007                -0.187102   \n",
       "max                           9.629716                35.070350   \n",
       "\n",
       "       NumberRealEstateLoansOrLines  NumberOfTime60-89DaysPastDueNotWorse  \\\n",
       "count                 149997.000000                         149997.000000   \n",
       "mean                       0.001854                              0.001211   \n",
       "std                        1.006988                              1.004007   \n",
       "min                       -0.905708                             -0.195784   \n",
       "25%                       -0.905708                             -0.195784   \n",
       "50%                       -0.014392                             -0.195784   \n",
       "75%                        0.876924                             -0.195784   \n",
       "max                       47.225363                             33.292276   \n",
       "\n",
       "         Day_outlier  NumberOfDependents  MonthlyIncome  \n",
       "count  149997.000000       149997.000000  149997.000000  \n",
       "mean       -0.002903           -0.009855      -0.011934  \n",
       "std         0.966405            0.981009       0.502585  \n",
       "min        -0.043865           -5.984014      -5.640689  \n",
       "25%        -0.043865           -0.677990      -0.118388  \n",
       "50%        -0.043865           -0.677990      -0.051455  \n",
       "75%        -0.043865            0.211765       0.032598  \n",
       "max        22.797016           17.117109     116.729414  "
      ]
     },
     "execution_count": 54,
     "metadata": {},
     "output_type": "execute_result"
    }
   ],
   "source": [
    "train_features.describe()"
   ]
  },
  {
   "cell_type": "markdown",
   "metadata": {
    "id": "SKEXVaVrZtmm"
   },
   "source": [
    "## Modeling\n",
    "#### 분류에 적용가능한 머신러닝 알고리즘\n",
    "\n",
    "* 베이즈 통계와 생성모델에 기반한 나이브 베이즈\n",
    "* 독립변수와 종속변수의 선형 관계성에 기반한 로지스틱 회귀\n",
    "* 데이터 균일도에 따른 규칙 기반의 결정트리\n",
    "* 개별 글래스 간의 최대 분류 마진을 효과적으로 찾아주는 서포트 벡터 머신\n",
    "* 근접 거리를 기준으로 하는 최소 근접 알고리즘\n",
    "* 심층 연결 기반의 신경망\n",
    "* 서로 다른 머신러닝 알고리즘을 결합한 앙상블\n",
    "\n",
    "#### 앙상블 학습\n",
    "   #### 보팅 방법\n",
    "   (일반적으로 서로 다른 알고리즘을 가진 분류기를 결합)\n",
    "   \n",
    "    - 하드 보팅\n",
    "    (예측한 결괏값들중 다수의 분류기가 결정한 예측갑을 최종 보팅 결괏값으로 전정하는 것)\n",
    "    - 소프트 보팅\n",
    "    (분류기들의 레이블 값 결정 확률을 모두 더하고 이를 평균해서 이들 중 확률이 가장 높은 레이블 값을 최종 보팅 결괏값으로 선정)\n",
    "\n",
    "   #### 배깅 방법\n",
    "   (각각의 분류기가 모두 같은 유형의 알고리즘 기반이지만, 데이터 샘플링을 서로 다르게 가져가면서 학습을 수행해 보팅을 수행)\n",
    "   \n",
    "    - 랜덤 포레스트\n",
    "    (여러개의 결정 트리 분류기가 전체 데이터에서 배깅 방식으로 각자의 데이터를 샘플링해 개별적으로 학습을 수행한 뒤 최종적으로 모든 분류기가 보팅을 통해 예측 결정)\n",
    "    \n",
    "   #### 부스팅 방법\n",
    "   (여러 개의 분류기가 순차적으로 학습을 수행하되, 앞에서 학습한 분류기가 예측이 틀린 데이터에 대해서는 올바르게 예측할 수 있도록 다음 분류기에게는 가중치를 부여하면서 학습과 예측을 진행)\n",
    "   \n",
    "    - 에이다 부스트\n",
    "    (오류 데이터에 가중치르를 부여하면서 부스팅 수행)\n",
    "    - 그래디언트 부스트\n",
    "    (가중치 업데이트를 경사하강법을 사용)\n",
    "    - XGBoost\n",
    "    (GBM의 느린 수행시간 및 과적합 규제 부재등의 문제를 해결한 기법)\n",
    "    - LightGBM\n",
    "    (리프 중심 트리 분할방식을 사용)\n",
    "\n",
    "   #### 스태킹 모델\n",
    "   (개별 알고리즘의 예측결과 데이터 세트를 최종적인 메타 데이터 세트로 만들어 별도의 ML 알고리즘으로 최종 학습을 수행하고 테스트 데이터를 기반으로 다시 최종 예측을 수행하는 방식)\n",
    "   \n",
    "    - 기본 스태킹\n",
    "    - CV 세트 기반 스태킹\n",
    "    (과적합을 개선하기 위해 최종 메타 모델을 위한 데이터 세트를 만들 때 교차 검증 기반으로 예측된 결과 데이터 세트를 이용)"
   ]
  },
  {
   "cell_type": "markdown",
   "metadata": {
    "id": "IwHsBL_iZtmn"
   },
   "source": [
    "- TPR : True Positive Rate (=민감도, true accept rate)\n",
    "1인 케이스에 대해 1로 잘 예측한 비율.(암환자를 진찰해서 암이라고 진단 함)\n",
    "\n",
    "- FPR :  False Positive Rate (=1-특이도, false accept rate)\n",
    "0인 케이스에 대해 1로 잘못 예측한 비율.(암환자가 아닌데 암이라고 진단 함)\n",
    "\n",
    "1. 문제를 정의한다. 어떤 문제를 해결하고 싶은가?\n",
    "2. 단순하게 시작한다. 데이터와 기준이 되는 결과(baseline results)를 잘 인지하고 있어야 한다.\n",
    "3. 그리고 나서 복잡한 것들을 시도한다."
   ]
  },
  {
   "cell_type": "code",
   "execution_count": 4,
   "metadata": {
    "id": "98ts-Ng8Ztmo"
   },
   "outputs": [],
   "source": [
    "from sklearn.naive_bayes import GaussianNB #Naive bayes\n",
    "from sklearn.linear_model import LogisticRegression # logistic regression\n",
    "from sklearn.tree import DecisionTreeClassifier # Decision Tree\n",
    "from sklearn import svm # support vector Machine\n",
    "from sklearn.neighbors import KNeighborsClassifier # KNN\n",
    "from sklearn.neural_network import MLPClassifier\n",
    "\n",
    "from sklearn.model_selection import train_test_split #training and testing data split\n",
    "from sklearn import metrics # accuracy measure(정확도)\n",
    "from sklearn.metrics import confusion_matrix, accuracy_score\n",
    "from sklearn.metrics import precision_score, recall_score\n",
    "from sklearn.metrics import f1_score, roc_auc_score"
   ]
  },
  {
   "cell_type": "code",
   "execution_count": 5,
   "metadata": {
    "id": "2-TJtjNSZtms"
   },
   "outputs": [],
   "source": [
    "from sklearn.model_selection import GridSearchCV\n",
    "from sklearn.model_selection import KFold #for K-fold cross validation\n",
    "from sklearn.model_selection import cross_val_score #score evaluation\n",
    "from sklearn.model_selection import cross_val_predict #prediction"
   ]
  },
  {
   "cell_type": "code",
   "execution_count": 7,
   "metadata": {
    "id": "12vVOQnhZtmv"
   },
   "outputs": [],
   "source": [
    "#test_size는 전체데이터에서 test데이터의 비율로 설정하였다.\n",
    "train_X, test_X, train_Y, test_Y = train_test_split(train_features, train_target, \n",
    "                                                    test_size=101503/(101503+149997) , random_state=0)"
   ]
  },
  {
   "cell_type": "code",
   "execution_count": null,
   "metadata": {
    "id": "HupqnQwFZtmz",
    "outputId": "fc539503-e79a-44a7-e793-1ada5f7b2c4b"
   },
   "outputs": [
    {
     "name": "stdout",
     "output_type": "stream",
     "text": [
      "The roc_auc_score of the NaiveBayes is 0.6697797084377484\n"
     ]
    }
   ],
   "source": [
    "# Gaussian Naive Bayes\n",
    "model=GaussianNB()\n",
    "model.fit(train_X,train_Y)\n",
    "prediction1=model.predict(test_X)\n",
    "print('The roc_auc_score of the NaiveBayes is',metrics.roc_auc_score(prediction1,test_Y))"
   ]
  },
  {
   "cell_type": "markdown",
   "metadata": {
    "id": "it_Sp_nkZtm4"
   },
   "source": [
    "MultinomialNB와 BernoulliNB는 모델의 복잡도를 조절하는 alpha 매개변수 하나를 가지고 있습니다. alpha가 주어지면 알고리즘이 모든 특성에 양의 값을 가진 가상의 데이터 포인트를 alpha 개수만큼 추가합니다. 이는 통계 데이터를 완만하게 만들어줍니다. alpha가 크면 더 완만해지고 모델의 복잡도는 낮아집니다. alpha에 따른 알고리즘 성능 변동은 비교적 크지 않아서, alpha 값이 성능 향상에 크게 기여하지 않습니다. 그러나 이 값을 조정하면 어느 정도는 정확도를 높일 수 있습니다.\n",
    "\n",
    "GaussianNB는 대부분 매우 고차원인 데이터셋에 사용하고, 다른 두 나이브 베이즈 모델은 텍스트 같은 희소한 데이터를 카운트하는 데 사용합니다. MultinomialNB는 보통 0이 아닌 특성이 비교적 많은 데이터셋(예를 들어 큰 문서들)에서 BernoulliNB보다 성능이 높습니다.\n",
    "\n",
    "나이브 베이즈 모델과 선형 모델의 장단점은 비슷합니다. 훈련과 예측 속도가 빠르며 훈련 과정을 이해하기 쉽습니다. 희소한 고차원 데이터에서 잘 작동하며 비교적 매개변수에 민감하지 않습니다. 선형 모델로는 학습 시간이 너무 오래 걸리는 매우 큰 데이터셋에는 나이브 베이즈 모델을 시도해볼 만하며 종종 사용됩니다."
   ]
  },
  {
   "cell_type": "code",
   "execution_count": null,
   "metadata": {
    "id": "YEHeIma5Ztm4",
    "outputId": "c786ef88-77c9-4b24-f2ea-49b31c313915"
   },
   "outputs": [
    {
     "name": "stdout",
     "output_type": "stream",
     "text": [
      "The roc_auc_score of the Logistic Regression is 0.7732510815596875\n"
     ]
    }
   ],
   "source": [
    "# Logistic Regression\n",
    "model = LogisticRegression()\n",
    "model.fit(train_X,train_Y)\n",
    "prediction2=model.predict(test_X)\n",
    "print('The roc_auc_score of the Logistic Regression is',metrics.roc_auc_score(prediction2,test_Y))"
   ]
  },
  {
   "cell_type": "markdown",
   "metadata": {
    "id": "VRfEBRM4Ztm7"
   },
   "source": [
    "선형 모델의 주요 매개변수는 회귀 모델에서는 alpha였고 LinearSVC와 LogisticRegression에서는 C입니다. alpha 값이 클수록, C 값이 작을수록 모델이 단순해집니다. 특별히 회귀 모델에서 이 매개변수를 조정하는 일이 매우 중요합니다. 보통 C와 alpha는 로그 스케일로 최적치를 정합니다. 그리고 L1 규제를 사용할지 L2 규제를 사용할지를 정해야 합니다. 중요한 특성이 많지 않다고 생각하면 L1 규제를 사용합니다. 그렇지 않으면 기본적으로 L2 규제를 사용해야 합니다. L1 규제는 모델의 해석이 중요한 요소일 때도 사용할 수 있습니다. L1 규제는 몇 가지 특성만 사용하므로 해당 모델에 중요한 특성이 무엇이고 그 효과가 어느 정도인지 설명하기 쉽습니다.\n",
    "\n",
    "선형 모델은 학습 속도가 빠르고 예측도 빠릅니다. 매우 큰 데이터셋과 희소한 데이터셋에도 잘 작동합니다. 수십만에서 수백만 개의 샘플로 이뤄진 대용량 데이터셋이라면 기본 설정보다 빨리 처리하도록 LogisticRegression과 Ridge에 solver=’sag’ 옵션을 줍니다. 다른 대안으로는 여기서 설명한 선형 모델의 대용량 처리 버전으로 구현된 SGDClassifier와 SGDRegressor를 사용할 수 있습니다.\n",
    "\n",
    "선형 모델의 또 하나의 장점은 앞서 회귀와 분류에서 본 공식을 사용해 예측이 어떻게 만들어지는지 비교적 쉽게 이해할 수 있다는 것입니다. 하지만 계수의 값들이 왜 그런지 명확하지 않을 때가 종종 있습니다. 특히 데이터셋의 특성들이 서로 깊게 연관되어 있을 때 그렇습니다. 그리고 이럴 땐 계수를 분석하기가 매우 어려울 수 있습니다.\n",
    "\n",
    "선형 모델은 샘플에 비해 특성이 많을 때 잘 작동합니다. 다른 모델로 학습하기 어려운 매우 큰 데이터셋에도 선형 모델을 많이 사용합니다. 그러나 저차원의 데이터셋에서는 다른 모델들의 일반화 성능이 더 좋습니다."
   ]
  },
  {
   "cell_type": "code",
   "execution_count": null,
   "metadata": {
    "id": "ewssBvWyZtm8",
    "outputId": "964b4e01-4abc-4a9a-984d-e966a95741a9"
   },
   "outputs": [
    {
     "name": "stdout",
     "output_type": "stream",
     "text": [
      "The roc_auc_score of the Decision Tree is 0.6045094447765098\n"
     ]
    }
   ],
   "source": [
    "# Decision Tree\n",
    "model=DecisionTreeClassifier()\n",
    "model.fit(train_X,train_Y)\n",
    "prediction3=model.predict(test_X)\n",
    "print('The roc_auc_score of the Decision Tree is',metrics.roc_auc_score(prediction3,test_Y))"
   ]
  },
  {
   "cell_type": "markdown",
   "metadata": {
    "id": "a8ljrGTtZtnB"
   },
   "source": [
    "앞서 설명처럼 결정 트리에서 모델 복잡도를 조절하는 매개변수는 트리가 완전히 만들어지기 전에 멈추게 하는 사전 가지치기 매개변수입니다. 보통은 사전 가지치기 방법 중 max_depth, max_leaf_nodes 또는 min_samples_leaf 중 하나만 지정해도 과대적합을 막는 데 충분합니다.\n",
    "\n",
    "결정 트리가 이전에 소개한 다른 알고리즘들보다 나은 점은 두 가지입니다. 첫째, 만들어진 모델을 쉽게 시각화할 수 있어서 비전문가도 이해하기 쉽습니다(비교적 작은 트리일 때). 그리고 데이터의 스케일에 구애받지 않습니다. 각 특성이 개별적으로 처리되어 데이터를 분할하는 데 데이터 스케일의 영향을 받지 않으므로 결정 트리에서는 특성의 정규화나 표준화 같은 전처리 과정이 필요 없습니다. 특히 특성의 스케일이 서로 다르거나 이진 특성과 연속적인 특성이 혼합되어 있을 때도 잘 작동합니다.\n",
    "\n",
    "결정 트리의 주요 단점은 사전 가지치기를 사용함에도 불구하고 과대적합되는 경향이 있어 일반화 성능이 좋지 않다는 것입니다. 그래서 다음에 설명할 앙상블 방법을 단일 결정 트리의 대안으로 흔히 사용합니다."
   ]
  },
  {
   "cell_type": "code",
   "execution_count": null,
   "metadata": {
    "id": "1fSCMjgdZtnB",
    "outputId": "65d5eae8-107e-449a-ded9-5e0a5dfcca0d"
   },
   "outputs": [
    {
     "name": "stdout",
     "output_type": "stream",
     "text": [
      "The roc_auc_score of the rbf-SVM is 0.7773257028308064\n"
     ]
    }
   ],
   "source": [
    "# Radial Support Vector Machines(rbf-SVM)\n",
    "model=svm.SVC(kernel='rbf',C=1,gamma=0.1)\n",
    "model.fit(train_X,train_Y)\n",
    "prediction4=model.predict(test_X)\n",
    "print('The roc_auc_score of the rbf-SVM is',metrics.roc_auc_score(prediction4,test_Y))"
   ]
  },
  {
   "cell_type": "code",
   "execution_count": null,
   "metadata": {
    "id": "VvM902sWZtnF",
    "outputId": "e893aab1-b712-45fd-a3d0-baa3f3919790"
   },
   "outputs": [
    {
     "name": "stdout",
     "output_type": "stream",
     "text": [
      "The roc_auc_score of the linear-SVM is 0.7416190662338908\n"
     ]
    }
   ],
   "source": [
    "# Linear Support Vector Machine(linear-SVM)\n",
    "model=svm.SVC(kernel='linear',C=0.1,gamma=0.1)\n",
    "model.fit(train_X,train_Y)\n",
    "prediction5=model.predict(test_X)\n",
    "print('The roc_auc_score of the linear-SVM is',metrics.roc_auc_score(prediction5,test_Y))"
   ]
  },
  {
   "cell_type": "markdown",
   "metadata": {
    "id": "sZ0eGYlQZtnI"
   },
   "source": [
    "커널 서포트 벡터 머신은 강력한 모델이며 다양한 데이터셋에서 잘 작동합니다. SVM은 데이터의 특성이 몇 개 안 되더라도 복잡한 결정 경계를 만들 수 있습니다. 저차원과 고차원의 데이터(즉 특성이 적을 때와 많을 때)에 모두 잘 작동하지만 샘플이 많을 때는 잘 맞지 않습니다. 10,000개의 샘플 정도면 SVM 모델이 잘 작동하겠지만 100,000개 이상의 데이터셋에서는 속도와 메모리 관점에서 도전적인 과제입니다.\n",
    "\n",
    "SVM의 또 하나의 단점은 데이터 전처리와 매개변수 설정에 신경을 많이 써야 한다는 점입니다. 그래서 요즘엔 사람들 대부분이 랜덤 포레스트나 그래디언트 부스팅 같은 (전처리가 거의 또는 전혀 필요 없는) 트리 기반 모델을 애플리케이션에 많이 사용합니다. 더군다나 SVM 모델은 분석하기도 어렵습니다. 예측이 어떻게 결정되었는지 이해하기 어렵고 비전문가에게 모델을 설명하기가 난해합니다.\n",
    "\n",
    "하지만 모든 특성이 비슷한 단위이고(예를 들면 모든 값이 픽셀의 컬러 강도) 스케일이 비슷하면 SVM을 시도해볼 만합니다.\n",
    "\n",
    "커널 SVM에서 중요한 매개변수는 규제 매개변수 C이고 어떤 커널을 사용할지와 각 커널에 따른 매개변수입니다. 우리는 RBF 커널만 살펴봤지만 scikit-learn에는 다른 커널도 많습니다. RBF 커널은 가우시안 커널 폭의 역수인 gamma 매개변수 하나를 가집니다. gamma와 C 모두 모델의 복잡도를 조정하며 둘 다 큰 값이 더 복잡한 모델을 만듭니다. 그러므로 연관성이 많은 이 두 매개변수를 잘 설정하려면 C와 gamma를 함께 조정해야 합니다."
   ]
  },
  {
   "cell_type": "code",
   "execution_count": null,
   "metadata": {
    "id": "rbonOPp_ZtnI",
    "outputId": "eff1ea95-9cd3-4b04-aa24-77c8f42d6fb8"
   },
   "outputs": [
    {
     "name": "stdout",
     "output_type": "stream",
     "text": [
      "The roc_auc_score of the KNN is 0.7082835808217463\n"
     ]
    }
   ],
   "source": [
    "# K-Nearest Neighbours(KNN)\n",
    "model=KNeighborsClassifier() \n",
    "model.fit(train_X,train_Y)\n",
    "prediction6=model.predict(test_X)\n",
    "print('The roc_auc_score of the KNN is',metrics.roc_auc_score(prediction6,test_Y))"
   ]
  },
  {
   "cell_type": "markdown",
   "metadata": {
    "id": "BrfIzqdnZtnL"
   },
   "source": [
    "일반적으로 KNeighbors 분류기에 중요한 매개변수는 두 개입니다. 데이터 포인트 사이의 거리를 재는 방법과 이웃의 수입니다. 실제로 이웃의 수는 3개나 5개 정도로 적을 때 잘 작동하지만, 이 매개변수는 잘 조정해야 합니다. 거리 재는 방법을 고르는 문제는 이 책에서 다루지 않습니다만, 기본적으로 여러 환경에서 잘 동작하는 유클리디안 거리 방식을 사용합니다.\n",
    "\n",
    "k-NN의 장점은 이해하기 매우 쉬운 모델이라는 점입니다. 그리고 많이 조정하지 않아도 자주 좋은 성능을 발휘합니다. 더 복잡한 알고리즘을 적용해보기 전에 시도해볼 수 있는 좋은 시작점입니다. 보통 최근접 이웃 모델은 매우 빠르게 만들 수 있지만, 훈련 세트가 매우 크면 (특성의 수나 샘플의 수가 클 경우) 예측이 느려집니다. k-NN 알고리즘을 사용할 땐 데이터를 전처리하는 과정이 중요합니다. 그리고 (수백 개 이상의) 많은 특성을 가진 데이터셋에는 잘 동작하지 않으며, 특성 값 대부분이 0인 (즉 희소한) 데이터셋과는 특히 잘 작동하지 않습니다.\n",
    "\n",
    "k-최근접 이웃 알고리즘이 이해하긴 쉽지만, 예측이 느리고 많은 특성을 처리하는 능력이 부족해 현업에서는 잘 쓰지 않습니다."
   ]
  },
  {
   "cell_type": "code",
   "execution_count": null,
   "metadata": {
    "id": "s5lWiKd2ZtnM",
    "outputId": "d78804cd-03d4-456e-f82f-ded7f8cfb855"
   },
   "outputs": [
    {
     "name": "stdout",
     "output_type": "stream",
     "text": [
      "The roc_auc_score of the Neural Network is 0.7760965152886605\n"
     ]
    }
   ],
   "source": [
    "# Neural Network\n",
    "model = MLPClassifier(solver='sgd', random_state=0, hidden_layer_sizes=(10, 10, 10))\n",
    "#sgd, lbfgs, adam\n",
    "model.fit(train_X,train_Y)\n",
    "prediction7=model.predict(test_X)\n",
    "print('The roc_auc_score of the Neural Network is',metrics.roc_auc_score(prediction7,test_Y))"
   ]
  },
  {
   "cell_type": "markdown",
   "metadata": {
    "id": "MC10Rl9oZtnQ"
   },
   "source": [
    "신경망은 머신러닝 분야의 많은 애플리케이션에서 최고의 모델로 다시 떠오르고 있습니다. 주요한 장점은 대량의 데이터에 내재된 정보를 잡아내고 매우 복잡한 모델을 만들 수 있다는 점입니다. 충분한 연산 시간과 데이터를 주고 매개변수를 세심하게 조정하면 신경망은 (분류와 회귀 문제에 모두) 종종 다른 머신러닝 알고리즘을 뛰어넘는 성능을 냅니다.\n",
    "\n",
    "이로 인해 단점도 생깁니다. 신경망은 (특히 크고 강력한 모델이라면) 종종 학습이 오래 걸립니다. 또한 앞서 보았듯이 데이터 전처리에 주의해야 합니다. SVM과 비슷하게 모든 특성이 같은 의미를 가진 동질의 데이터에서 잘 작동합니다. 다른 종류의 특성을 가진 데이터라면 트리 기반 모델이 더 잘 작동할 수 있습니다. 신경망 매개변수 튜닝은 예술에 가까운 일입니다. 우리 예에서는 신경망 모델을 조정하고 학습시키는 많은 방법 중 아주 일부만 살짝 보았을 뿐입니다."
   ]
  },
  {
   "cell_type": "code",
   "execution_count": null,
   "metadata": {
    "id": "65LnU1-LZtnR",
    "outputId": "46ee7544-0965-4ad7-841d-72359c18192d"
   },
   "outputs": [
    {
     "data": {
      "text/plain": [
       "<AxesSubplot:>"
      ]
     },
     "execution_count": 93,
     "metadata": {
      "tags": []
     },
     "output_type": "execute_result"
    },
    {
     "data": {
      "image/png": "[encoded data removed]",
      "text/plain": [
       "<Figure size 432x288 with 2 Axes>"
      ]
     },
     "metadata": {
      "needs_background": "light",
      "tags": []
     },
     "output_type": "display_data"
    }
   ],
   "source": [
    "# Matrix for Naive Bayes\n",
    "y_pred = cross_val_predict(GaussianNB(),train_features, train_target,cv=5)\n",
    "sns.heatmap(confusion_matrix(train_target,y_pred),annot=True,fmt='2.0f')"
   ]
  },
  {
   "cell_type": "code",
   "execution_count": null,
   "metadata": {
    "id": "ShqANuvPZtnX",
    "outputId": "c24a0d6a-0402-43e0-9ba3-9018ee52b5bf"
   },
   "outputs": [
    {
     "data": {
      "text/plain": [
       "<AxesSubplot:>"
      ]
     },
     "execution_count": 94,
     "metadata": {
      "tags": []
     },
     "output_type": "execute_result"
    },
    {
     "data": {
      "image/png": "[encoded data removed]",
      "text/plain": [
       "<Figure size 432x288 with 2 Axes>"
      ]
     },
     "metadata": {
      "needs_background": "light",
      "tags": []
     },
     "output_type": "display_data"
    }
   ],
   "source": [
    "# Matrix for Logistic Regression\n",
    "y_pred = cross_val_predict(LogisticRegression(),train_features, train_target,cv=5)\n",
    "sns.heatmap(confusion_matrix(train_target,y_pred),annot=True,fmt='2.0f')"
   ]
  },
  {
   "cell_type": "code",
   "execution_count": null,
   "metadata": {
    "id": "-BD2z3T5Ztna",
    "outputId": "03bf3d91-3876-4fc3-e654-ae1711aff523"
   },
   "outputs": [
    {
     "data": {
      "text/plain": [
       "<AxesSubplot:>"
      ]
     },
     "execution_count": 95,
     "metadata": {
      "tags": []
     },
     "output_type": "execute_result"
    },
    {
     "data": {
      "image/png": "[encoded data removed]",
      "text/plain": [
       "<Figure size 432x288 with 2 Axes>"
      ]
     },
     "metadata": {
      "needs_background": "light",
      "tags": []
     },
     "output_type": "display_data"
    }
   ],
   "source": [
    "# Matrix for Decision Tree\n",
    "y_pred = cross_val_predict(DecisionTreeClassifier(),train_features, train_target,cv=5)\n",
    "sns.heatmap(confusion_matrix(train_target,y_pred),annot=True,fmt='2.0f')"
   ]
  },
  {
   "cell_type": "code",
   "execution_count": null,
   "metadata": {
    "id": "KnpgwpiuZtnd",
    "outputId": "34ff0bee-7b64-4bb1-fb24-e4e374ec5979"
   },
   "outputs": [
    {
     "data": {
      "text/plain": [
       "<AxesSubplot:>"
      ]
     },
     "execution_count": 96,
     "metadata": {
      "tags": []
     },
     "output_type": "execute_result"
    },
    {
     "data": {
      "image/png": "[encoded data removed]",
      "text/plain": [
       "<Figure size 432x288 with 2 Axes>"
      ]
     },
     "metadata": {
      "needs_background": "light",
      "tags": []
     },
     "output_type": "display_data"
    }
   ],
   "source": [
    "# Matrix for rbf-SVM\n",
    "y_pred = cross_val_predict(svm.SVC(kernel='rbf'),train_features, train_target,cv=5)\n",
    "sns.heatmap(confusion_matrix(train_target,y_pred),annot=True,fmt='2.0f')"
   ]
  },
  {
   "cell_type": "code",
   "execution_count": null,
   "metadata": {
    "id": "t3KVcPQfZtng",
    "outputId": "4a764e1c-20bd-4164-81dc-97bd4e22dbea"
   },
   "outputs": [
    {
     "data": {
      "text/plain": [
       "<AxesSubplot:>"
      ]
     },
     "execution_count": 97,
     "metadata": {
      "tags": []
     },
     "output_type": "execute_result"
    },
    {
     "data": {
      "image/png": "[encoded data removed]",
      "text/plain": [
       "<Figure size 432x288 with 2 Axes>"
      ]
     },
     "metadata": {
      "needs_background": "light",
      "tags": []
     },
     "output_type": "display_data"
    }
   ],
   "source": [
    "# Matrix for Linear-SVM\n",
    "y_pred = cross_val_predict(svm.SVC(kernel='linear'),train_features, train_target,cv=5)\n",
    "sns.heatmap(confusion_matrix(train_target,y_pred),annot=True,fmt='2.0f')"
   ]
  },
  {
   "cell_type": "code",
   "execution_count": null,
   "metadata": {
    "id": "rZYjUlMUZtnj",
    "outputId": "255bf300-3d7e-4984-9f48-c0140e2f4a64"
   },
   "outputs": [
    {
     "data": {
      "text/plain": [
       "<AxesSubplot:>"
      ]
     },
     "execution_count": 98,
     "metadata": {
      "tags": []
     },
     "output_type": "execute_result"
    },
    {
     "data": {
      "image/png": "[encoded data removed]",
      "text/plain": [
       "<Figure size 432x288 with 2 Axes>"
      ]
     },
     "metadata": {
      "needs_background": "light",
      "tags": []
     },
     "output_type": "display_data"
    }
   ],
   "source": [
    "# Matrix for KNN\n",
    "y_pred = cross_val_predict(KNeighborsClassifier(n_neighbors=9),train_features, train_target,cv=5)\n",
    "sns.heatmap(confusion_matrix(train_target,y_pred),annot=True,fmt='2.0f')"
   ]
  },
  {
   "cell_type": "code",
   "execution_count": null,
   "metadata": {
    "id": "1yw-UaZgZtnm",
    "outputId": "4404bea1-b98c-44b9-e345-96aa54bae14b"
   },
   "outputs": [
    {
     "data": {
      "text/plain": [
       "<AxesSubplot:>"
      ]
     },
     "execution_count": 99,
     "metadata": {
      "tags": []
     },
     "output_type": "execute_result"
    },
    {
     "data": {
      "image/png": "[encoded data removed]",
      "text/plain": [
       "<Figure size 432x288 with 2 Axes>"
      ]
     },
     "metadata": {
      "needs_background": "light",
      "tags": []
     },
     "output_type": "display_data"
    }
   ],
   "source": [
    "# Matrix for Neural Network\n",
    "y_pred = cross_val_predict(MLPClassifier(solver='sgd', random_state=0, hidden_layer_sizes=(10, 10, 10)),train_features, train_target,cv=5)\n",
    "sns.heatmap(confusion_matrix(train_target,y_pred),annot=True,fmt='2.0f')"
   ]
  },
  {
   "cell_type": "code",
   "execution_count": 6,
   "metadata": {
    "id": "Nhmg0voQZtnp"
   },
   "outputs": [],
   "source": [
    "from sklearn.ensemble import VotingClassifier\n",
    "from sklearn.ensemble import RandomForestClassifier # Random Forest\n",
    "from sklearn.ensemble import AdaBoostClassifier\n",
    "from sklearn.ensemble import GradientBoostingClassifier\n",
    "import xgboost as xgb\n",
    "from xgboost import XGBClassifier\n",
    "from xgboost import plot_importance\n",
    "from lightgbm import LGBMClassifier"
   ]
  },
  {
   "cell_type": "code",
   "execution_count": 9,
   "metadata": {
    "id": "e7MrFHC9Ztns"
   },
   "outputs": [],
   "source": [
    "# 개별 모델은 로지스틱 회귀와 rbf_svm, 신경망 \n",
    "lr_clf = LogisticRegression()\n",
    "svm_clf=svm.SVC(kernel='rbf',C=1,gamma=0.1, probability=True)\n",
    "NN_clf = MLPClassifier(solver='sgd', random_state=0, hidden_layer_sizes=(10, 10, 10))\n",
    "\n",
    "# 개별 모델을 소프트 보팅 기반의 앙상블 모델로 구현한 분류기 \n",
    "vo_hard = VotingClassifier(estimators=[('LR',lr_clf),('rbf_svm',svm_clf),('NN',NN_clf)] , voting='hard')\n",
    "vo_soft = VotingClassifier(estimators=[('LR',lr_clf),('rbf_svm',svm_clf),('NN',NN_clf)] , voting='soft')"
   ]
  },
  {
   "cell_type": "code",
   "execution_count": null,
   "metadata": {
    "id": "xPTqUSYVZtnw"
   },
   "outputs": [],
   "source": [
    "# VotingClassifier 학습/예측/평가. \n",
    "vo_hard.fit(train_X,train_Y)\n",
    "vo_soft.fit(train_X,train_Y)"
   ]
  },
  {
   "cell_type": "code",
   "execution_count": null,
   "metadata": {
    "id": "fWXPAUyuZtny"
   },
   "outputs": [],
   "source": [
    "pred_hard = vo_hard.predict(test_X)\n",
    "print('The roc_auc_score of the Hard Voting is',metrics.roc_auc_score(pred_hard,test_Y))"
   ]
  },
  {
   "cell_type": "code",
   "execution_count": null,
   "metadata": {},
   "outputs": [],
   "source": [
    "pred_soft = vo_soft.predict(test_X)\n",
    "print('The roc_auc_score of the Soft Voting is',metrics.roc_auc_score(pred_soft,test_Y))"
   ]
  },
  {
   "cell_type": "code",
   "execution_count": null,
   "metadata": {
    "id": "VTx0Dli1Ztn3",
    "outputId": "715cbd8f-1205-4be4-ab22-6ebcc471c3ec"
   },
   "outputs": [
    {
     "name": "stdout",
     "output_type": "stream",
     "text": [
      "The roc_auc_score of the random forest is 0.7538661237364256\n"
     ]
    }
   ],
   "source": [
    "# 랜덤 포레스트 학습 및 별도의 테스트 셋으로 예측 성능 평가\n",
    "rf_clf = RandomForestClassifier(random_state=0)\n",
    "rf_clf.fit(train_X,train_Y)\n",
    "pred = rf_clf.predict(test_X)\n",
    "print('The roc_auc_score of the random forest is',metrics.roc_auc_score(pred,test_Y))"
   ]
  },
  {
   "cell_type": "code",
   "execution_count": null,
   "metadata": {
    "id": "f3_QJoQ-Ztn8",
    "outputId": "712e0118-ee01-41a2-e281-b2793003a39c"
   },
   "outputs": [
    {
     "name": "stdout",
     "output_type": "stream",
     "text": [
      "최적 하이퍼 파라미터:\n",
      " {'max_depth': 10, 'min_samples_leaf': 8, 'min_samples_split': 8, 'n_estimators': 100}\n",
      "최고 예측 정확도: 0.9368\n"
     ]
    }
   ],
   "source": [
    "params = {\n",
    "    'n_estimators':[100],\n",
    "    'max_depth' : [6, 8, 10, 12], \n",
    "    'min_samples_leaf' : [8, 12, 18 ],\n",
    "    'min_samples_split' : [8, 16, 20]\n",
    "}\n",
    "# RandomForestClassifier 객체 생성 후 GridSearchCV 수행\n",
    "rf_clf = RandomForestClassifier(random_state=0, n_jobs=-1)\n",
    "grid_cv = GridSearchCV(rf_clf , param_grid=params , cv=5, n_jobs=-1 )\n",
    "grid_cv.fit(train_X,train_Y)\n",
    "\n",
    "print('최적 하이퍼 파라미터:\\n', grid_cv.best_params_)\n",
    "print('최고 예측 정확도: {0:.4f}'.format(grid_cv.best_score_))"
   ]
  },
  {
   "cell_type": "code",
   "execution_count": null,
   "metadata": {
    "id": "4TT3x5B_Ztn_",
    "outputId": "172a7e8b-a57d-4ca3-fb68-6c619318f808"
   },
   "outputs": [
    {
     "name": "stdout",
     "output_type": "stream",
     "text": [
      "The roc_auc_score of the random forest is 0.7929527884394326\n"
     ]
    }
   ],
   "source": [
    "rf_clf = RandomForestClassifier(random_state=0, max_depth=10, min_samples_leaf=8, min_samples_split=8, n_estimators=100)\n",
    "rf_clf.fit(train_X,train_Y)\n",
    "pred = rf_clf.predict(test_X)\n",
    "print('The roc_auc_score of the random forest is',metrics.roc_auc_score(pred,test_Y))"
   ]
  },
  {
   "cell_type": "code",
   "execution_count": null,
   "metadata": {
    "id": "OVj1hpt4ZtoC",
    "outputId": "5484f81b-aee5-4399-8c3c-43849dee017a"
   },
   "outputs": [
    {
     "name": "stdout",
     "output_type": "stream",
     "text": [
      "The cross validated score for AdaBoost is: 0.8564001571147344\n"
     ]
    }
   ],
   "source": [
    "ada=AdaBoostClassifier(n_estimators=100,random_state=0,learning_rate=0.1)\n",
    "result=cross_val_score(ada,train_features, train_target,cv=10,scoring='roc_auc')\n",
    "print('The cross validated score for AdaBoost is:',result.mean())"
   ]
  },
  {
   "cell_type": "code",
   "execution_count": null,
   "metadata": {
    "id": "HS7Le3bAZtoF",
    "outputId": "b44a39f5-f4fb-44e8-f1b4-5b3309d3bd19"
   },
   "outputs": [
    {
     "name": "stdout",
     "output_type": "stream",
     "text": [
      "Fitting 5 folds for each of 120 candidates, totalling 600 fits\n"
     ]
    },
    {
     "name": "stderr",
     "output_type": "stream",
     "text": [
      "[Parallel(n_jobs=1)]: Using backend SequentialBackend with 1 concurrent workers.\n"
     ]
    }
   ],
   "source": [
    "n_estimators=list(range(100,1100,100))\n",
    "learn_rate=[0.05,0.1,0.2,0.3,0.25,0.4,0.5,0.6,0.7,0.8,0.9,1]\n",
    "hyper={'n_estimators':n_estimators,'learning_rate':learn_rate}\n",
    "gd=GridSearchCV(estimator=AdaBoostClassifier(),param_grid=hyper,verbose=True)\n",
    "gd.fit(train_features, train_target)\n",
    "print(gd.best_score_)\n",
    "print(gd.best_estimator_)"
   ]
  },
  {
   "cell_type": "code",
   "execution_count": null,
   "metadata": {
    "id": "JLzCiw5GZtoI"
   },
   "outputs": [],
   "source": [
    "ada=AdaBoostClassifier(n_estimators=100,random_state=0,learning_rate=0.05)\n",
    "result=cross_val_predict(ada,train_features, train_target,cv=10)\n",
    "sns.heatmap(confusion_matrix(train_target,result),cmap='winter',annot=True,fmt='2.0f')\n",
    "plt.show()"
   ]
  },
  {
   "cell_type": "code",
   "execution_count": null,
   "metadata": {
    "id": "E-61L866ZtoK"
   },
   "outputs": [],
   "source": []
  },
  {
   "cell_type": "code",
   "execution_count": null,
   "metadata": {
    "id": "5fVvvbg1ZtoP",
    "outputId": "161caea4-c43b-4b72-8fe8-1934db1f6256"
   },
   "outputs": [
    {
     "name": "stdout",
     "output_type": "stream",
     "text": [
      "The cross validated score for Gradient Boosting is: 0.8638096231425727\n"
     ]
    }
   ],
   "source": [
    "grad=GradientBoostingClassifier(n_estimators=100,random_state=0,learning_rate=0.1)\n",
    "result=cross_val_score(grad,train_features, train_target,cv=10,scoring='roc_auc')\n",
    "print('The cross validated score for Gradient Boosting is:',result.mean())"
   ]
  },
  {
   "cell_type": "code",
   "execution_count": null,
   "metadata": {
    "colab": {
     "base_uri": "https://localhost:8080/",
     "height": 430
    },
    "id": "qDZwntCpZtoS",
    "outputId": "b30a5f4d-bba0-48eb-831c-be528b36278f"
   },
   "outputs": [],
   "source": [
    "learn_rate=[0.05,0.1,0.2,0.3,0.25,0.4,0.5,0.6,0.7,0.8,0.9,1]\n",
    "max_dep = [0,1,3,5,10,15,20,25]\n",
    "\n",
    "hyper={'learning_rate':learn_rate,'max_depth':max_dep}\n",
    "gd=GridSearchCV(estimator=GradientBoostingClassifier(),param_grid=hyper,verbose=True)\n",
    "gd.fit(train_features, train_target)\n",
    "print(gd.best_score_)\n",
    "print(gd.best_estimator_)"
   ]
  },
  {
   "cell_type": "code",
   "execution_count": null,
   "metadata": {
    "id": "wW7kKMkmZtoV"
   },
   "outputs": [],
   "source": [
    "grad=GradientBoostingClassifier(n_estimators=200,random_state=0,learning_rate=0.05)\n",
    "result=cross_val_predict(grad,train_features, train_target,cv=10)\n",
    "sns.heatmap(confusion_matrix(train_target,result),cmap='winter',annot=True,fmt='2.0f')\n",
    "plt.show()"
   ]
  },
  {
   "cell_type": "code",
   "execution_count": null,
   "metadata": {
    "id": "5lhflEDVZtob",
    "outputId": "bc5222b9-ec24-4e6f-dcdb-13d90d868998"
   },
   "outputs": [
    {
     "name": "stdout",
     "output_type": "stream",
     "text": [
      "The cross validated score for XGBoost is: 0.8649203019653793\n"
     ]
    }
   ],
   "source": [
    "xgboost=xgb.XGBClassifier(n_estimators=100,random_state=0,learning_rate=0.1)\n",
    "result=cross_val_score(xgboost,train_features, train_target,cv=10,scoring='roc_auc')\n",
    "print('The cross validated score for XGBoost is:',result.mean())"
   ]
  },
  {
   "cell_type": "code",
   "execution_count": null,
   "metadata": {
    "id": "C2gUEc2qZtoe"
   },
   "outputs": [],
   "source": [
    "learn_rate=[0.05,0.1,0.2,0.3,0.25,0.4,0.5,0.6,0.7,0.8,0.9,1]\n",
    "max_dep = [0,1,3,5,10,15,20,25]\n",
    "\n",
    "hyper={'learning_rate':learn_rate,'max_depth':max_dep}\n",
    "gd=GridSearchCV(estimator=xgb.XGBClassifier(),param_grid=hyper,verbose=True)\n",
    "gd.fit(train_features, train_target)\n",
    "print(gd.best_score_)\n",
    "print(gd.best_estimator_)"
   ]
  },
  {
   "cell_type": "code",
   "execution_count": null,
   "metadata": {
    "id": "G4JzxvmkZtoh"
   },
   "outputs": [],
   "source": [
    "xgboost=xgb.XGBClassifier(n_estimators=200,random_state=0,learning_rate=0.05)\n",
    "result=cross_val_predict(ada,train_features, train_target,cv=10)\n",
    "sns.heatmap(confusion_matrix(train_target,result),cmap='winter',annot=True,fmt='2.0f')lt.show()"
   ]
  },
  {
   "cell_type": "code",
   "execution_count": null,
   "metadata": {
    "id": "rIXQrAQUZton",
    "outputId": "013876e5-53d4-4e16-cb09-27e5fed36dc7"
   },
   "outputs": [
    {
     "name": "stdout",
     "output_type": "stream",
     "text": [
      "The cross validated score for XGBoost is: 0.8649248514664013\n"
     ]
    }
   ],
   "source": [
    "LGBM=LGBMClassifier(n_estimators=100,random_state=0,learning_rate=0.1)\n",
    "result=cross_val_score(LGBM,train_features, train_target,cv=10,scoring='roc_auc')\n",
    "print('The cross validated score for XGBoost is:',result.mean())"
   ]
  },
  {
   "cell_type": "code",
   "execution_count": null,
   "metadata": {
    "id": "W49oDhmAr9Im"
   },
   "outputs": [],
   "source": [
    "n_estimators=[10]\n",
    "learn_rate=[0.05,0.1,0.25,0.6,0.8,1]\n",
    "max_dep = [0,1,3,5,10,15,20,25]\n",
    "num_leaves = [1,3,5,10,20,50]\n",
    "boosting = ['gbdt','rf']\n",
    "colsample_bytree = [0.01,0.1,0.3,0.5,0.7,1]\n",
    "\n",
    "subsample = [0.01,0.1,0.3,0.5,0.7,1]\n",
    "reg_lambda = [0.01,0.1,0.3,0.5,0.7,1]\n",
    "reg_alpha = [0.01,0.1,0.3,0.5,0.7,1]\n",
    "num_leaves = [100,300,500,1000,2000,5000,10000]\n",
    "#min_split_gain\n",
    "#min_child_weight?  \n",
    "#silent\n",
    "#verbose\n",
    "#nthread\n",
    "\n",
    "\n",
    "\n",
    "hyper={'n_estimators':n_estimators,'learning_rate':learn_rate,'max_depth':max_dep,\n",
    "       'num_leaves':num_leaves, 'boosting':boosting}\n",
    "gd=GridSearchCV(estimator=LGBMClassifier(),param_grid=hyper,verbose=True)\n",
    "gd.fit(train_X,train_Y)\n",
    "print(gd.best_score_)\n",
    "print(gd.best_estimator_)\n",
    "# 결과로 boosting='gbdt', learning_rate=0.25, max_depth=3, num_leaves=100이 나왔다. 이때 best_score_은 0.936406614998495"
   ]
  },
  {
   "cell_type": "code",
   "execution_count": 10,
   "metadata": {
    "colab": {
     "base_uri": "https://localhost:8080/",
     "height": 215
    },
    "id": "wt-7oJBEZtos",
    "outputId": "d45c7da8-d3bd-4eb0-e890-eba1a48fd801"
   },
   "outputs": [
    {
     "name": "stdout",
     "output_type": "stream",
     "text": [
      "Fitting 5 folds for each of 100 candidates, totalling 500 fits\n"
     ]
    },
    {
     "name": "stderr",
     "output_type": "stream",
     "text": [
      "[Parallel(n_jobs=1)]: Using backend SequentialBackend with 1 concurrent workers.\n",
      "[Parallel(n_jobs=1)]: Done 500 out of 500 | elapsed: 13.3min finished\n"
     ]
    },
    {
     "name": "stdout",
     "output_type": "stream",
     "text": [
      "0.937465422402969\n",
      "LGBMClassifier(boosting='goss', boosting_type='gbdt', class_weight=None,\n",
      "               colsample_bytree=1.0, importance_type='split',\n",
      "               learning_rate=0.06, max_depth=-1, min_child_samples=20,\n",
      "               min_child_weight=0.001, min_split_gain=0.0, n_estimators=100,\n",
      "               n_jobs=-1, num_leaves=31, objective=None, random_state=None,\n",
      "               reg_alpha=0.0, reg_lambda=0.0, silent=True, subsample=1.0,\n",
      "               subsample_for_bin=200000, subsample_freq=0)\n"
     ]
    }
   ],
   "source": [
    "learn_rate=list(np.arange(0, 1, 0.01))\n",
    "#max_dep = list(range(0,10000,10))\n",
    "boosting = ['goss']\n",
    "\n",
    "hyper={'learning_rate':learn_rate,'boosting':boosting}\n",
    "gd=GridSearchCV(estimator=LGBMClassifier(),param_grid=hyper,verbose=True)\n",
    "gd.fit(train_features, train_target)\n",
    "print(gd.best_score_)\n",
    "print(gd.best_estimator_)\n",
    "\n",
    "'''\n",
    "결과\n",
    "\n",
    "Fitting 5 folds for each of 100 candidates, totalling 500 fits\n",
    "[Parallel(n_jobs=1)]: Using backend SequentialBackend with 1 concurrent workers.\n",
    "[Parallel(n_jobs=1)]: Done 500 out of 500 | elapsed: 13.3min finished\n",
    "0.937465422402969\n",
    "LGBMClassifier(boosting='goss', boosting_type='gbdt', class_weight=None,\n",
    "               colsample_bytree=1.0, importance_type='split',\n",
    "               learning_rate=0.06, max_depth=-1, min_child_samples=20,\n",
    "               min_child_weight=0.001, min_split_gain=0.0, n_estimators=100,\n",
    "               n_jobs=-1, num_leaves=31, objective=None, random_state=None,\n",
    "               reg_alpha=0.0, reg_lambda=0.0, silent=True, subsample=1.0,\n",
    "               subsample_for_bin=200000, subsample_freq=0)\n",
    "'''"
   ]
  },
  {
   "cell_type": "code",
   "execution_count": 44,
   "metadata": {
    "colab": {
     "base_uri": "https://localhost:8080/",
     "height": 35
    },
    "id": "dJeUlrqfxtj5",
    "outputId": "c26d4998-f60a-447d-e5e5-c62941581c5f"
   },
   "outputs": [
    {
     "name": "stdout",
     "output_type": "stream",
     "text": [
      "The cross validated score for LightBoost is: 0.8656159874810581\n"
     ]
    }
   ],
   "source": [
    "LGBM=LGBMClassifier(boosting_type='gbdt', class_weight=None, colsample_bytree=1.0,\n",
    "               importance_type='split', learning_rate=0.05, max_depth=10,\n",
    "               min_child_samples=20, min_child_weight=0.001, min_split_gain=0.0,\n",
    "               n_estimators=100, n_jobs=-1, num_leaves=31, objective=None,\n",
    "               random_state=None, reg_alpha=0.0, reg_lambda=0.0, silent=True,\n",
    "               subsample=1.0, subsample_for_bin=200000, subsample_freq=0)\n",
    "result=cross_val_score(LGBM,train_features, train_target,cv=10,scoring='roc_auc')\n",
    "print('The cross validated score for LightBoost is:',result.mean())"
   ]
  },
  {
   "cell_type": "raw",
   "metadata": {
    "id": "oxa2era0Ztow"
   },
   "source": [
    "Lightgbm 파라미터\n",
    "\n",
    "# (★★★)\n",
    "n_estimators=list(range(100,1100,100))\n",
    "learn_rate=[0.05,0.1,0.2,0.3,0.25,0.4,0.5,0.6,0.7,0.8,0.9,1]\n",
    "max_dep = [0,1,3,5,10,15,20,25]\n",
    "boosting = ['gbdt','rf','dart', 'goss ']\n",
    "gbdt=gradiend boosted decision trees\n",
    "rf=random forest\n",
    "dart=drop out regression tree\n",
    "goss=gradient-based one-side sampling\n",
    "goss는 계산속도를 상당히 줄여주지만 약간의 예측력 손상이 있을 수 있다.\n",
    "dart는 일반적인 경우 조금 더 나은 예측력을 보여주지만, 절대적인건 아니다.\n",
    "'''\n",
    "Metric / Loss 관련 파라미터\n",
    "당연히, 학습하려는 목적에 따라 다음의 metric을 설정하여야 하며, lightGBM에서 제공하는 파라미터는 다음과 같다.\n",
    "binary(Cross Entropy)\n",
    "multiclass(Cross Entropy)\n",
    "regression_l2(MSE)\n",
    "regression_l1 (MAE)\n",
    "mape (MAPE)\n",
    "poisson (Log Transformation)\n",
    "quantile (Quantile)\n",
    "huber (Huber loss, MAE approx)\n",
    "fair (Fair loss, MAE approx)\n",
    "gamma (Residual Deviance)\n",
    "lambdarank\n",
    "tweedie\n",
    "'''\n",
    "\n",
    "'''\n",
    "# (★★)\n",
    "#early_stopping_rounds\n",
    "subsample = list(np.arange(0, 1, 0.01))\n",
    "colsample_bytree = list(np.arange(0, 1, 0.01))\n",
    "#scale_pos_weight \n",
    "\n",
    "\n",
    "# (★)\n",
    "#nthread\n",
    "num_leaves = list(range(0,10000,50))\n",
    "reg_lambda = list(np.arange(0, 1, 0.01))\n",
    "reg_alpha = list(np.arange(0, 1, 0.01))\n",
    "#max_bin \n",
    "#max_cat_threshold \n",
    "#max_conflict_rate \n",
    "#is_unbalance \n",
    "#boost_from_average\n",
    "#enable_feature_grouping \n",
    "'''\n",
    "\n",
    "\n",
    "hyper={'n_estimators':n_estimators,'learning_rate':learn_rate,'max_depth':max_dep,\n",
    "       'num_leaves':num_leaves, 'boosting':boosting}\n",
    "gd=GridSearchCV(estimator=LGBMClassifier(),param_grid=hyper,verbose=True)\n",
    "gd.fit(train_X,train_Y)\n",
    "print(gd.best_score_)\n",
    "print(gd.best_estimator_)"
   ]
  },
  {
   "cell_type": "code",
   "execution_count": 45,
   "metadata": {
    "id": "iODpfo3VZtoz"
   },
   "outputs": [
    {
     "data": {
      "image/png": "[encoded data removed]",
      "text/plain": [
       "<Figure size 432x288 with 2 Axes>"
      ]
     },
     "metadata": {
      "needs_background": "light"
     },
     "output_type": "display_data"
    }
   ],
   "source": [
    "LGBM=LGBMClassifier(boosting_type='gbdt', class_weight=None, colsample_bytree=1.0,\n",
    "               importance_type='split', learning_rate=0.05, max_depth=10,\n",
    "               min_child_samples=20, min_child_weight=0.001, min_split_gain=0.0,\n",
    "               n_estimators=100, n_jobs=-1, num_leaves=31, objective=None,\n",
    "               random_state=None, reg_alpha=0.0, reg_lambda=0.0, silent=True,\n",
    "               subsample=1.0, subsample_for_bin=200000, subsample_freq=0)\n",
    "result=cross_val_predict(LGBM,train_features, train_target,cv=10)\n",
    "sns.heatmap(confusion_matrix(train_target,result),cmap='winter',annot=True,fmt='2.0f')\n",
    "plt.show()"
   ]
  },
  {
   "cell_type": "code",
   "execution_count": 49,
   "metadata": {
    "id": "v8fWjXyHZto7"
   },
   "outputs": [],
   "source": [
    "from ngboost.ngboost import NGBoost\n",
    "from ngboost.learners import default_tree_learner\n",
    "from ngboost.scores import CRPS, MLE\n",
    "from ngboost.distns import LogNormal, Normal"
   ]
  },
  {
   "cell_type": "code",
   "execution_count": null,
   "metadata": {
    "id": "VuEJD_DDZto9"
   },
   "outputs": [],
   "source": [
    "NGBM=NGBoost(n_estimators=100,random_state=0,learning_rate=0.1)\n",
    "result=cross_val_score(NGBM,train_features, train_target,cv=10,scoring='roc_auc')\n",
    "print('The cross validated score for NGBoost is:',result.mean())"
   ]
  },
  {
   "cell_type": "code",
   "execution_count": null,
   "metadata": {
    "id": "hgqGoXcyZto_"
   },
   "outputs": [],
   "source": [
    "n_estimators=list(range(100,1100,100))\n",
    "learn_rate=[0.05,0.1,0.2,0.3,0.25,0.4,0.5,0.6,0.7,0.8,0.9,1]\n",
    "max_dep = [0,1,3,5,10,15,20,25]\n",
    "\n",
    "hyper={'n_estimators':n_estimators,'learning_rate':learn_rate,'max_depth':max_dep}\n",
    "gd=GridSearchCV(estimator=NGBoost(),param_grid=hyper,verbose=True)\n",
    "gd.fit(train_features, train_target)\n",
    "print(gd.best_score_)\n",
    "print(gd.best_estimator_)"
   ]
  },
  {
   "cell_type": "code",
   "execution_count": null,
   "metadata": {
    "id": "vr86MUGmZtpC"
   },
   "outputs": [],
   "source": [
    "NGBM=NGBoost(n_estimators=200,random_state=0,learning_rate=0.05)\n",
    "result=cross_val_predict(NGBM,train_features, train_target,cv=10)\n",
    "sns.heatmap(confusion_matrix(train_target,result),cmap='winter',annot=True,fmt='2.0f')\n",
    "plt.show()"
   ]
  },
  {
   "cell_type": "code",
   "execution_count": null,
   "metadata": {
    "id": "nrouhwOEZtpE"
   },
   "outputs": [],
   "source": []
  },
  {
   "cell_type": "code",
   "execution_count": null,
   "metadata": {
    "id": "3cixaNFqZtpG"
   },
   "outputs": [],
   "source": []
  },
  {
   "cell_type": "code",
   "execution_count": null,
   "metadata": {
    "id": "1LFesWCuZtpJ"
   },
   "outputs": [],
   "source": [
    "# 개별 ML 모델을 위한 Classifier 생성.\n",
    "lr_clf = LogisticRegression()\n",
    "svm_clf=svm.SVC(kernel='rbf',C=1,gamma=0.1)\n",
    "NN_clf = MLPClassifier(solver='sgd', random_state=0, hidden_layer_sizes=(10, 10, 10))\n",
    "xgb_clf = xgb.XGBClassifier(n_estimators=100,random_state=0,learning_rate=0.1)\n",
    "gbm_clf = GradientBoostingClassifier(random_state=0)\n",
    "\n",
    "# 최종 Stacking 모델을 위한 Classifier생성. \n",
    "LGBM_final = LGBMClassifier(boosting='goss', boosting_type='goss', class_weight=None,\n",
    "               colsample_bytree=1.0, importance_type='split',\n",
    "               learning_rate=0.06, max_depth=15, min_child_samples=20,\n",
    "               min_child_weight=0.001, min_split_gain=0.0, n_estimators=100,\n",
    "               n_jobs=-1, num_leaves=31, objective=None, random_state=None,\n",
    "               reg_alpha=0.0, reg_lambda=0.0, silent=True, subsample=1.0,\n",
    "               subsample_for_bin=200000, subsample_freq=0)\n",
    "# 개별 모델들을 학습. \n",
    "lr_clf.fit(train_X, train_Y)\n",
    "svm_clf.fit(train_X, train_Y)\n",
    "NN_clf.fit(train_X, train_Y)\n",
    "xgb_clf.fit(train_X, train_Y)\n",
    "gbm_clf.fit(train_X, train_Y)\n",
    "\n",
    "\n",
    "# 학습된 개별 모델들이 각자 반환하는 예측 데이터 셋을 생성하고 개별 모델의 정확도 측정. \n",
    "lr_pred = lr_clf.predict(test_X)\n",
    "svm_pred = svm_clf.predict(test_X)\n",
    "NN_pred = NN_clf.predict(test_X)\n",
    "xgb_pred = xgb_clf.predict(test_X)\n",
    "gbm_pred = gbm_clf.predict(test_X)\n",
    "\n",
    "pred = np.array([lr_pred, svm_pred, NN_pred, xgb_pred, gbm_pred])\n",
    "\n",
    "# transpose를 이용해 행과 열의 위치 교환. 컬럼 레벨로 각 알고리즘의 예측 결과를 피처로 만듦. \n",
    "pred = np.transpose(pred)\n",
    "\n",
    "LGBM_final.fit(pred, y_test)\n",
    "final = LGBM_final.predict(pred)\n",
    "\n",
    "print('최종 메타 모델의 예측 roc_auc_score',metrics.roc_auc_score(final,test_Y))"
   ]
  },
  {
   "cell_type": "code",
   "execution_count": null,
   "metadata": {
    "id": "5_t64Yh6ZtpL"
   },
   "outputs": [],
   "source": []
  },
  {
   "cell_type": "code",
   "execution_count": null,
   "metadata": {
    "id": "Nv-PlmdcZtpP"
   },
   "outputs": [],
   "source": [
    "# 개별 기반 모델에서 최종 메타 모델이 사용할 학습 및 테스트용 데이터를 생성하기 위한 함수. \n",
    "def get_stacking_base_datasets(model, X_train_n, y_train_n, X_test_n, n_folds ):\n",
    "    # 지정된 n_folds값으로 KFold 생성.\n",
    "    kf = KFold(n_splits=n_folds, shuffle=False, random_state=0)\n",
    "    \n",
    "    #추후에 메타 모델이 사용할 학습 데이터 반환을 위한 넘파이 배열 초기화 \n",
    "    train_fold_pred = np.zeros((X_train_n.shape[0] ,1 ))\n",
    "    test_pred = np.zeros((X_test_n.shape[0],n_folds))\n",
    "    print(model.__class__.__name__ , ' model 시작 ')\n",
    "    \n",
    "    for folder_counter , (train_index, valid_index) in enumerate(kf.split(X_train_n)):\n",
    "        #입력된 학습 데이터에서 기반 모델이 학습/예측할 폴드 데이터 셋 추출 \n",
    "        print('\\t 폴드 세트: ',folder_counter,' 시작 ')\n",
    "        X_tr = X_train_n[train_index] \n",
    "        y_tr = y_train_n[train_index] \n",
    "        X_te = X_train_n[valid_index]  \n",
    "        \n",
    "        #폴드 세트 내부에서 다시 만들어진 학습 데이터로 기반 모델의 학습 수행.\n",
    "        model.fit(X_tr , y_tr)\n",
    "        \n",
    "        #폴드 세트 내부에서 다시 만들어진 검증 데이터로 기반 모델 예측 후 데이터 저장.\n",
    "        train_fold_pred[valid_index, :] = model.predict(X_te).reshape(-1,1)\n",
    "        \n",
    "        #입력된 원본 테스트 데이터를 폴드 세트내 학습된 기반 모델에서 예측 후 데이터 저장. \n",
    "        test_pred[:, folder_counter] = model.predict(X_test_n)\n",
    "            \n",
    "    # 폴드 세트 내에서 원본 테스트 데이터를 예측한 데이터를 평균하여 테스트 데이터로 생성 \n",
    "    test_pred_mean = np.mean(test_pred, axis=1).reshape(-1,1)    \n",
    "    \n",
    "    #train_fold_pred는 최종 메타 모델이 사용하는 학습 데이터, test_pred_mean은 테스트 데이터\n",
    "    return train_fold_pred , test_pred_mean\n",
    "\n",
    "lr_clf = LogisticRegression()\n",
    "svm_clf=svm.SVC(kernel='rbf',C=1,gamma=0.1)\n",
    "NN_clf = MLPClassifier(solver='sgd', random_state=0, hidden_layer_sizes=(10, 10, 10))\n",
    "xgb_clf = xgb.XGBClassifier(n_estimators=100,random_state=0,learning_rate=0.1)\n",
    "gbm_clf = GradientBoostingClassifier(random_state=0)\n",
    "\n",
    "\n",
    "lr_train, lr_test = get_stacking_base_datasets(lr_clf, X_train, y_train, X_test, 7)\n",
    "svm_train, svm_test = get_stacking_base_datasets(svm_clf, X_train, y_train, X_test, 7)\n",
    "NN_train, NN_test = get_stacking_base_datasets(NN_clf, X_train, y_train, X_test,  7)    \n",
    "xgb_train, xgb_test = get_stacking_base_datasets(xgb_clf, X_train, y_train, X_test, 7)\n",
    "gbm_train, gbm_test = get_stacking_base_datasets(gbm_clf, X_train, y_train, X_test, 7)\n",
    "\n",
    "\n",
    "Stack_final_X_train = np.concatenate((lr_train, svm_train, NN_train, xgb_train, gbm_train), axis=1)\n",
    "Stack_final_X_test = np.concatenate((lr_test, svm_test, NN_test, xgb_test, gbm_test), axis=1)\n",
    "\n",
    "\n",
    "LGBM_final = LGBMClassifier(boosting='goss', boosting_type='goss', class_weight=None,\n",
    "               colsample_bytree=1.0, importance_type='split',\n",
    "               learning_rate=0.06, max_depth=15, min_child_samples=20,\n",
    "               min_child_weight=0.001, min_split_gain=0.0, n_estimators=100,\n",
    "               n_jobs=-1, num_leaves=31, objective=None, random_state=None,\n",
    "               reg_alpha=0.0, reg_lambda=0.0, silent=True, subsample=1.0,\n",
    "               subsample_for_bin=200000, subsample_freq=0)\n",
    "\n",
    "\n",
    "LGBM_final.fit(Stack_final_X_train, train_Y)\n",
    "stack_final = LGBM_final.predict(Stack_final_X_test)\n",
    "\n",
    "print('최종 메타 모델의 예측 roc_auc_score',metrics.roc_auc_score(stack_final, test_Y))"
   ]
  },
  {
   "cell_type": "markdown",
   "metadata": {},
   "source": [
    "## 최종 모델 적용\n",
    "앞선 모델들을 모두 비교하기에는 모델학습에 필요한 시간이 너무 많아 그 중에서 효율이 가장 좋은 LightGBM을 사용하기로 하였다."
   ]
  },
  {
   "cell_type": "code",
   "execution_count": 7,
   "metadata": {},
   "outputs": [],
   "source": [
    "train_X = train_features\n",
    "train_Y = train_target\n",
    "test_X = test_features"
   ]
  },
  {
   "cell_type": "code",
   "execution_count": 24,
   "metadata": {
    "colab": {
     "base_uri": "https://localhost:8080/",
     "height": 1000
    },
    "id": "TSsH-15MZtpi",
    "outputId": "c48e165a-afdd-4599-9a01-56432688aa9f"
   },
   "outputs": [
    {
     "name": "stdout",
     "output_type": "stream",
     "text": [
      "[1]\ttraining's binary_logloss: 0.233537\ttraining's binary_logloss: 0.233537\n",
      "[2]\ttraining's binary_logloss: 0.225539\ttraining's binary_logloss: 0.225539\n",
      "[3]\ttraining's binary_logloss: 0.219397\ttraining's binary_logloss: 0.219397\n",
      "[4]\ttraining's binary_logloss: 0.214412\ttraining's binary_logloss: 0.214412\n",
      "[5]\ttraining's binary_logloss: 0.21028\ttraining's binary_logloss: 0.21028\n",
      "[6]\ttraining's binary_logloss: 0.206749\ttraining's binary_logloss: 0.206749\n",
      "[7]\ttraining's binary_logloss: 0.203706\ttraining's binary_logloss: 0.203706\n",
      "[8]\ttraining's binary_logloss: 0.20106\ttraining's binary_logloss: 0.20106\n",
      "[9]\ttraining's binary_logloss: 0.198727\ttraining's binary_logloss: 0.198727\n",
      "[10]\ttraining's binary_logloss: 0.196634\ttraining's binary_logloss: 0.196634\n",
      "[11]\ttraining's binary_logloss: 0.19479\ttraining's binary_logloss: 0.19479\n",
      "[12]\ttraining's binary_logloss: 0.193138\ttraining's binary_logloss: 0.193138\n",
      "[13]\ttraining's binary_logloss: 0.191643\ttraining's binary_logloss: 0.191643\n",
      "[14]\ttraining's binary_logloss: 0.190309\ttraining's binary_logloss: 0.190309\n",
      "[15]\ttraining's binary_logloss: 0.189074\ttraining's binary_logloss: 0.189074\n",
      "[16]\ttraining's binary_logloss: 0.187953\ttraining's binary_logloss: 0.187953\n",
      "[17]\ttraining's binary_logloss: 0.186925\ttraining's binary_logloss: 0.186925\n",
      "[18]\ttraining's binary_logloss: 0.185996\ttraining's binary_logloss: 0.185996\n",
      "[19]\ttraining's binary_logloss: 0.185134\ttraining's binary_logloss: 0.185134\n",
      "[20]\ttraining's binary_logloss: 0.184349\ttraining's binary_logloss: 0.184349\n",
      "[21]\ttraining's binary_logloss: 0.183634\ttraining's binary_logloss: 0.183634\n",
      "[22]\ttraining's binary_logloss: 0.182976\ttraining's binary_logloss: 0.182976\n",
      "[23]\ttraining's binary_logloss: 0.182377\ttraining's binary_logloss: 0.182377\n",
      "[24]\ttraining's binary_logloss: 0.181814\ttraining's binary_logloss: 0.181814\n",
      "[25]\ttraining's binary_logloss: 0.181301\ttraining's binary_logloss: 0.181301\n",
      "[26]\ttraining's binary_logloss: 0.180821\ttraining's binary_logloss: 0.180821\n",
      "[27]\ttraining's binary_logloss: 0.180377\ttraining's binary_logloss: 0.180377\n",
      "[28]\ttraining's binary_logloss: 0.179948\ttraining's binary_logloss: 0.179948\n",
      "[29]\ttraining's binary_logloss: 0.179543\ttraining's binary_logloss: 0.179543\n",
      "[30]\ttraining's binary_logloss: 0.179154\ttraining's binary_logloss: 0.179154\n",
      "[31]\ttraining's binary_logloss: 0.178794\ttraining's binary_logloss: 0.178794\n",
      "[32]\ttraining's binary_logloss: 0.178466\ttraining's binary_logloss: 0.178466\n",
      "[33]\ttraining's binary_logloss: 0.178165\ttraining's binary_logloss: 0.178165\n",
      "[34]\ttraining's binary_logloss: 0.177862\ttraining's binary_logloss: 0.177862\n",
      "[35]\ttraining's binary_logloss: 0.177582\ttraining's binary_logloss: 0.177582\n",
      "[36]\ttraining's binary_logloss: 0.177312\ttraining's binary_logloss: 0.177312\n",
      "[37]\ttraining's binary_logloss: 0.177067\ttraining's binary_logloss: 0.177067\n",
      "[38]\ttraining's binary_logloss: 0.176815\ttraining's binary_logloss: 0.176815\n",
      "[39]\ttraining's binary_logloss: 0.176598\ttraining's binary_logloss: 0.176598\n",
      "[40]\ttraining's binary_logloss: 0.176378\ttraining's binary_logloss: 0.176378\n",
      "[41]\ttraining's binary_logloss: 0.176154\ttraining's binary_logloss: 0.176154\n",
      "[42]\ttraining's binary_logloss: 0.175949\ttraining's binary_logloss: 0.175949\n",
      "[43]\ttraining's binary_logloss: 0.17576\ttraining's binary_logloss: 0.17576\n",
      "[44]\ttraining's binary_logloss: 0.175581\ttraining's binary_logloss: 0.175581\n",
      "[45]\ttraining's binary_logloss: 0.175413\ttraining's binary_logloss: 0.175413\n",
      "[46]\ttraining's binary_logloss: 0.175237\ttraining's binary_logloss: 0.175237\n",
      "[47]\ttraining's binary_logloss: 0.175071\ttraining's binary_logloss: 0.175071\n",
      "[48]\ttraining's binary_logloss: 0.17491\ttraining's binary_logloss: 0.17491\n",
      "[49]\ttraining's binary_logloss: 0.174751\ttraining's binary_logloss: 0.174751\n",
      "[50]\ttraining's binary_logloss: 0.174605\ttraining's binary_logloss: 0.174605\n",
      "[51]\ttraining's binary_logloss: 0.174463\ttraining's binary_logloss: 0.174463\n",
      "[52]\ttraining's binary_logloss: 0.174323\ttraining's binary_logloss: 0.174323\n",
      "[53]\ttraining's binary_logloss: 0.174182\ttraining's binary_logloss: 0.174182\n",
      "[54]\ttraining's binary_logloss: 0.174059\ttraining's binary_logloss: 0.174059\n",
      "[55]\ttraining's binary_logloss: 0.173922\ttraining's binary_logloss: 0.173922\n",
      "[56]\ttraining's binary_logloss: 0.173799\ttraining's binary_logloss: 0.173799\n",
      "[57]\ttraining's binary_logloss: 0.173674\ttraining's binary_logloss: 0.173674\n",
      "[58]\ttraining's binary_logloss: 0.173541\ttraining's binary_logloss: 0.173541\n",
      "[59]\ttraining's binary_logloss: 0.173426\ttraining's binary_logloss: 0.173426\n",
      "[60]\ttraining's binary_logloss: 0.173314\ttraining's binary_logloss: 0.173314\n",
      "[61]\ttraining's binary_logloss: 0.173212\ttraining's binary_logloss: 0.173212\n",
      "[62]\ttraining's binary_logloss: 0.173102\ttraining's binary_logloss: 0.173102\n",
      "[63]\ttraining's binary_logloss: 0.172986\ttraining's binary_logloss: 0.172986\n",
      "[64]\ttraining's binary_logloss: 0.172872\ttraining's binary_logloss: 0.172872\n",
      "[65]\ttraining's binary_logloss: 0.172773\ttraining's binary_logloss: 0.172773\n",
      "[66]\ttraining's binary_logloss: 0.172649\ttraining's binary_logloss: 0.172649\n",
      "[67]\ttraining's binary_logloss: 0.17255\ttraining's binary_logloss: 0.17255\n",
      "[68]\ttraining's binary_logloss: 0.172444\ttraining's binary_logloss: 0.172444\n",
      "[69]\ttraining's binary_logloss: 0.172334\ttraining's binary_logloss: 0.172334\n",
      "[70]\ttraining's binary_logloss: 0.172226\ttraining's binary_logloss: 0.172226\n",
      "[71]\ttraining's binary_logloss: 0.172143\ttraining's binary_logloss: 0.172143\n",
      "[72]\ttraining's binary_logloss: 0.172054\ttraining's binary_logloss: 0.172054\n",
      "[73]\ttraining's binary_logloss: 0.171962\ttraining's binary_logloss: 0.171962\n",
      "[74]\ttraining's binary_logloss: 0.171857\ttraining's binary_logloss: 0.171857\n",
      "[75]\ttraining's binary_logloss: 0.171778\ttraining's binary_logloss: 0.171778\n",
      "[76]\ttraining's binary_logloss: 0.171681\ttraining's binary_logloss: 0.171681\n",
      "[77]\ttraining's binary_logloss: 0.171601\ttraining's binary_logloss: 0.171601\n",
      "[78]\ttraining's binary_logloss: 0.171519\ttraining's binary_logloss: 0.171519\n",
      "[79]\ttraining's binary_logloss: 0.171435\ttraining's binary_logloss: 0.171435\n",
      "[80]\ttraining's binary_logloss: 0.17135\ttraining's binary_logloss: 0.17135\n",
      "[81]\ttraining's binary_logloss: 0.171254\ttraining's binary_logloss: 0.171254\n",
      "[82]\ttraining's binary_logloss: 0.171158\ttraining's binary_logloss: 0.171158\n",
      "[83]\ttraining's binary_logloss: 0.171062\ttraining's binary_logloss: 0.171062\n",
      "[84]\ttraining's binary_logloss: 0.170995\ttraining's binary_logloss: 0.170995\n",
      "[85]\ttraining's binary_logloss: 0.170938\ttraining's binary_logloss: 0.170938\n",
      "[86]\ttraining's binary_logloss: 0.17087\ttraining's binary_logloss: 0.17087\n",
      "[87]\ttraining's binary_logloss: 0.170795\ttraining's binary_logloss: 0.170795\n",
      "[88]\ttraining's binary_logloss: 0.170719\ttraining's binary_logloss: 0.170719\n",
      "[89]\ttraining's binary_logloss: 0.170636\ttraining's binary_logloss: 0.170636\n",
      "[90]\ttraining's binary_logloss: 0.170566\ttraining's binary_logloss: 0.170566\n",
      "[91]\ttraining's binary_logloss: 0.170494\ttraining's binary_logloss: 0.170494\n",
      "[92]\ttraining's binary_logloss: 0.170417\ttraining's binary_logloss: 0.170417\n",
      "[93]\ttraining's binary_logloss: 0.170342\ttraining's binary_logloss: 0.170342\n",
      "[94]\ttraining's binary_logloss: 0.170266\ttraining's binary_logloss: 0.170266\n",
      "[95]\ttraining's binary_logloss: 0.170203\ttraining's binary_logloss: 0.170203\n",
      "[96]\ttraining's binary_logloss: 0.170123\ttraining's binary_logloss: 0.170123\n",
      "[97]\ttraining's binary_logloss: 0.170039\ttraining's binary_logloss: 0.170039\n",
      "[98]\ttraining's binary_logloss: 0.169974\ttraining's binary_logloss: 0.169974\n",
      "[99]\ttraining's binary_logloss: 0.169914\ttraining's binary_logloss: 0.169914\n",
      "[100]\ttraining's binary_logloss: 0.169845\ttraining's binary_logloss: 0.169845\n"
     ]
    },
    {
     "data": {
      "text/plain": [
       "LGBMClassifier(boosting='goss', boosting_type='goss', class_weight=None,\n",
       "               colsample_bytree=1.0, importance_type='split',\n",
       "               learning_rate=0.06, max_depth=15, min_child_samples=20,\n",
       "               min_child_weight=0.001, min_split_gain=0.0, n_estimators=100,\n",
       "               n_jobs=-1, num_leaves=31, objective=None, random_state=None,\n",
       "               reg_alpha=0.0, reg_lambda=0.0, silent=True, subsample=1.0,\n",
       "               subsample_for_bin=200000, subsample_freq=0)"
      ]
     },
     "execution_count": 24,
     "metadata": {
      "tags": []
     },
     "output_type": "execute_result"
    }
   ],
   "source": [
    "evals = [(train_X, train_Y)]\n",
    "\n",
    "lgbm_wrapper = LGBMClassifier(boosting='goss', boosting_type='goss', class_weight=None,\n",
    "               colsample_bytree=1.0, importance_type='split',\n",
    "               learning_rate=0.06, max_depth=15, min_child_samples=20,\n",
    "               min_child_weight=0.001, min_split_gain=0.0, n_estimators=100,\n",
    "               n_jobs=-1, num_leaves=31, objective=None, random_state=None,\n",
    "               reg_alpha=0.0, reg_lambda=0.0, silent=True, subsample=1.0,\n",
    "               subsample_for_bin=200000, subsample_freq=0)\n",
    "lgbm_wrapper.fit(train_X, train_Y, eval_set=evals, eval_metric='logloss', verbose=True)"
   ]
  },
  {
   "cell_type": "code",
   "execution_count": 25,
   "metadata": {
    "id": "a7Towd5dZtpk"
   },
   "outputs": [],
   "source": [
    "LGBM=pd.DataFrame(lgbm_wrapper.predict_proba(test_X))\n",
    "LGBM['Probability']=LGBM[1]\n",
    "LGBM['ID']=test['Unnamed: 0']\n",
    "\n",
    "LGBM=LGBM.drop([0,1],axis=1)\n",
    "LGBM.to_csv(r\"/content/LGBM.csv\", index=False) "
   ]
  },
  {
   "cell_type": "code",
   "execution_count": 15,
   "metadata": {},
   "outputs": [],
   "source": [
    "rf_clf = RandomForestClassifier(random_state=0, max_depth=13, min_samples_leaf=10, min_samples_split=3, n_estimators=100)\n",
    "rf_clf.fit(train_X,train_Y)\n",
    "rf = pd.DataFrame(rf_clf.predict_proba(test_X))\n",
    "\n",
    "rf['Probability']=rf[1]\n",
    "rf['ID']=test['Unnamed: 0']\n",
    "\n",
    "rf=rf.drop([0,1],axis=1)\n",
    "rf.to_csv(r\"C:\\Users\\ASUS VivoBook\\rf.csv\", index=False) "
   ]
  },
  {
   "cell_type": "code",
   "execution_count": null,
   "metadata": {},
   "outputs": [],
   "source": []
  },
  {
   "cell_type": "code",
   "execution_count": 48,
   "metadata": {
    "id": "2LxKNloIZto4"
   },
   "outputs": [
    {
     "data": {
      "text/plain": [
       "<AxesSubplot:>"
      ]
     },
     "execution_count": 48,
     "metadata": {},
     "output_type": "execute_result"
    },
    {
     "data": {
      "image/png": "[encoded data removed]",
      "text/plain": [
       "<Figure size 432x288 with 1 Axes>"
      ]
     },
     "metadata": {
      "needs_background": "light"
     },
     "output_type": "display_data"
    }
   ],
   "source": [
    "model=LGBMClassifier(boosting_type='gbdt', class_weight=None, colsample_bytree=1.0,\n",
    "               importance_type='split', learning_rate=0.05, max_depth=10,\n",
    "               min_child_samples=20, min_child_weight=0.001, min_split_gain=0.0,\n",
    "               n_estimators=100, n_jobs=-1, num_leaves=31, objective=None,\n",
    "               random_state=None, reg_alpha=0.0, reg_lambda=0.0, silent=True,\n",
    "               subsample=1.0, subsample_for_bin=200000, subsample_freq=0)\n",
    "model.fit(train_features,train_target)\n",
    "pd.Series(model.feature_importances_,train_features.columns).sort_values(ascending=True).plot.barh(width=0.8,color='#ddff11')"
   ]
  },
  {
   "cell_type": "markdown",
   "metadata": {},
   "source": [
    "변수 중에서 부채비율과 신용카드 한도에 대한 잔액비율, 나이, 수입, 대출 수 순서로 중요하였다.\n",
    "\n",
    "최종모델의 Private Score은 0.86675 / Public Score는 0.86092가 나왔다.\n",
    "\n",
    "시간의 제약으로 LightGBM모델에서 최적의 파라미터를 찾아 적용시켰지만 크게 스코어가 증가하지는 않았다.\n",
    "\n",
    "이번 Give me some credit으로 EDA 및 결측치 처리, 모델선택, 파라미터 설정 순으로 스코어 증가에 큰 영향을 미친다는 것을 알게 되었다."
   ]
  },
  {
   "cell_type": "markdown",
   "metadata": {
    "id": "gESx06-GZtpt"
   },
   "source": []
  }
 ],
 "metadata": {
  "colab": {
   "name": "10.24GiveMeSomeCredit.ipynb",
   "provenance": [],
   "toc_visible": true
  },
  "kernelspec": {
   "display_name": "Python 3",
   "language": "python",
   "name": "python3"
  },
  "language_info": {
   "codemirror_mode": {
    "name": "ipython",
    "version": 3
   },
   "file_extension": ".py",
   "mimetype": "text/x-python",
   "name": "python",
   "nbconvert_exporter": "python",
   "pygments_lexer": "ipython3",
   "version": "3.7.6"
  }
 },
 "nbformat": 4,
 "nbformat_minor": 1
}

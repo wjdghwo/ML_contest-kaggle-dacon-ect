{
 "cells": [
  {
   "cell_type": "markdown",
   "metadata": {},
   "source": [
    "# Give Me Some Credit 프로젝트\n",
    "\n",
    "## I. 분석 배경\n",
    "2007년 세계 금융 위기가 발발하고 미국의 수많은 금융기관과 가구들이 파산했다. \n",
    "특히 경기의 악화로 인해 투자 심리는 얼어붙고 금융기관들은 정부의 구제금융 정책에도 불구하고 \n",
    "트라우마에 빠져 대출의 진입장벽을 높여 시중 유동성을 악화시켰다. \n",
    "2011년 당시 신용경색이 발생한 미국 경제의 상황이 나아지기 위해서는 시민들을 통한 유동성 확보가 절실했고\n",
    "이 역할을 수행해야 할 은행은 파산할 고객을 분류해 대출을 실행해야 한다. **이를 위해 당시의 차용인인 금융기관들이 \n",
    "최상의 재무 결정을 내리는 데 사용할 수있는 머신러닝 예측 모델을 구축하고자 한다.**"
   ]
  },
  {
   "cell_type": "markdown",
   "metadata": {},
   "source": [
    "## II. 분석 데이터 EDA 및 Data Cleansing\n",
    "\n",
    "### (1) 데이터 개요\n",
    "Kaggle에서 진행된 'Featured Prediction Competition' 중 하나인 'Give Me Some Credit' 대회에서 주어진 금융 데이터를 활용하였다.\n",
    "https://www.kaggle.com/c/GiveMeSomeCredit"
   ]
  },
  {
   "cell_type": "code",
   "execution_count": 1,
   "metadata": {},
   "outputs": [],
   "source": [
    "import pandas as pd # package for high-performance, easy-to-use data structures and data analysis\n",
    "import numpy as np # fundamental package for scientific computing with Python\n",
    "import matplotlib\n",
    "import matplotlib.pyplot as plt # for plotting\n",
    "import seaborn as sns # for making plots with seaborn\n",
    "import warnings\n",
    "from sklearn.model_selection import train_test_split\n",
    "from sklearn.metrics import mean_squared_error\n",
    "from sklearn.linear_model import LinearRegression\n",
    "from sklearn.preprocessing import StandardScaler\n",
    "%matplotlib inline\n",
    "warnings.filterwarnings('ignore')"
   ]
  },
  {
   "cell_type": "code",
   "execution_count": 2,
   "metadata": {},
   "outputs": [],
   "source": [
    "train=pd.read_csv('cs-training.csv')\n",
    "test=pd.read_csv('cs-test.csv')\n",
    "X=train\n",
    "Y=test"
   ]
  },
  {
   "cell_type": "markdown",
   "metadata": {},
   "source": [
    "### (2) 데이터 변수\n",
    "금융상품 이용중인 101503명의 개인 고객 데이터로, 각 행당 총 12개의 변수(피처)로 구성된 개인정보 데이터가 담겨있다. 그 중 'SeriousDlqin2yrs' 변수는 고객의 2년내 파산여부를 담고 있으며, 우리가 예측하고자 하는 결과값에 해당한다. \n",
    "\n",
    "\n",
    "### 타겟 변수 ####\n",
    "SeriousDlqin2yrs 2년내 90일 초과 연체 여부\n",
    "\n",
    "### 인구통계학적 변수 ####\n",
    "\n",
    "age: 나이\n",
    "\n",
    "MonthlyIncome: 월소득\n",
    "\n",
    "NumberOfDependents: 부양가족수(ex. 배우자, 아이)\n",
    "\n",
    "\n",
    "### 금융재무 변수 \n",
    "\n",
    "DebtRatio: 총 월소득에서 갚아야 하는 빚의 비율.\n",
    "\n",
    "RevolvingUtilizationOfUnsecuredLines: 신용한도에서 빌릴 수 있는 돈의 한도에서 실제로 빌린 돈의 비율 \n",
    "\n",
    "NumberOfTime30-59DaysPastDueNotWorse: 30~59일 이상 연체한 횟수\n",
    "\n",
    "NumberOfTime60-89DaysPastDueNotWorse: 60-89일 이상 연체한 횟수\n",
    "\n",
    "NumberOfTimes90DaysLate: 90일 이상 연체한 횟수\n",
    "\n",
    "NumberOfOpenCreditLinesAndLoans: 개인이 이용할 수 있는 자금 동원 횟수 (ex. 신용카드, 마이너스 통장, 단기 담보 대출 등)\n",
    "\n",
    "NumberRealEstateLoansOrLines: 주택 담보 대출 및 부동산 대출 건수\n",
    "\n"
   ]
  },
  {
   "cell_type": "code",
   "execution_count": 3,
   "metadata": {},
   "outputs": [
    {
     "data": {
      "text/plain": [
       "Index(['Unnamed: 0', 'SeriousDlqin2yrs',\n",
       "       'RevolvingUtilizationOfUnsecuredLines', 'age',\n",
       "       'NumberOfTime30-59DaysPastDueNotWorse', 'DebtRatio', 'MonthlyIncome',\n",
       "       'NumberOfOpenCreditLinesAndLoans', 'NumberOfTimes90DaysLate',\n",
       "       'NumberRealEstateLoansOrLines', 'NumberOfTime60-89DaysPastDueNotWorse',\n",
       "       'NumberOfDependents'],\n",
       "      dtype='object')"
      ]
     },
     "execution_count": 3,
     "metadata": {},
     "output_type": "execute_result"
    }
   ],
   "source": [
    "X.columns"
   ]
  },
  {
   "cell_type": "code",
   "execution_count": 4,
   "metadata": {},
   "outputs": [
    {
     "data": {
      "text/plain": [
       "Index(['Unnamed: 0', 'SeriousDlqin2yrs',\n",
       "       'RevolvingUtilizationOfUnsecuredLines', 'age',\n",
       "       'NumberOfTime30-59DaysPastDueNotWorse', 'DebtRatio', 'MonthlyIncome',\n",
       "       'NumberOfOpenCreditLinesAndLoans', 'NumberOfTimes90DaysLate',\n",
       "       'NumberRealEstateLoansOrLines', 'NumberOfTime60-89DaysPastDueNotWorse',\n",
       "       'NumberOfDependents'],\n",
       "      dtype='object')"
      ]
     },
     "execution_count": 4,
     "metadata": {},
     "output_type": "execute_result"
    }
   ],
   "source": [
    "Y.columns"
   ]
  },
  {
   "cell_type": "code",
   "execution_count": 5,
   "metadata": {},
   "outputs": [
    {
     "data": {
      "image/png": "[encoded data removed]",
      "text/plain": [
       "<Figure size 432x288 with 1 Axes>"
      ]
     },
     "metadata": {},
     "output_type": "display_data"
    }
   ],
   "source": [
    "X['SeriousDlqin2yrs'].value_counts().plot.pie(explode=[0,0.1],autopct='%1.1f%%')\n",
    "plt.show()"
   ]
  },
  {
   "cell_type": "markdown",
   "metadata": {},
   "source": [
    "____________________________________________________________\n",
    "**전체 Train 데이터중 약 6.7%만이 2년이내 연체할 가능성이 높은 고객으로 판별되었다**\n",
    "____________________________________________________________"
   ]
  },
  {
   "cell_type": "code",
   "execution_count": 6,
   "metadata": {},
   "outputs": [
    {
     "name": "stdout",
     "output_type": "stream",
     "text": [
      "                    Percentage Nulls\n",
      "MonthlyIncome              19.820667\n",
      "NumberOfDependents          2.616000\n",
      "                    Percentage Nulls\n",
      "SeriousDlqin2yrs          100.000000\n",
      "MonthlyIncome              19.805326\n",
      "NumberOfDependents          2.587116\n"
     ]
    }
   ],
   "source": [
    "def MissingHandler(df):\n",
    "    DataMissing = df.isnull().sum()*100/len(df)\n",
    "    DataMissingByColumn = pd.DataFrame({'Percentage Nulls':DataMissing})\n",
    "    DataMissingByColumn.sort_values(by='Percentage Nulls', ascending=False,inplace=True)\n",
    "    return DataMissingByColumn[DataMissingByColumn['Percentage Nulls']>0]\n",
    "print(MissingHandler(X))\n",
    "print(MissingHandler(Y))"
   ]
  },
  {
   "cell_type": "markdown",
   "metadata": {},
   "source": [
    "____________________________________________________________\n",
    "**전체 데이터중 'MonthlyIncome'과 'NumberOfDependents' 변수에 결측치가 존재함을 알 수 있다**\n",
    "____________________________________________________________"
   ]
  },
  {
   "cell_type": "markdown",
   "metadata": {},
   "source": [
    "### (3)변수간의 상관관계\n",
    "\n",
    "**확인 결과 Train 데이터와 Test 데이터 모두 유사한 양상을 보이며,**\n",
    "- 'NumberOfTime30-59DaysPastDueNotWorse ' 'NumberOfTime60-89DaysPastDueNotWorse ', 'NumberOfTimes90DaysLate' : 0.99\n",
    "- 'NumberOfOpenCreditLinesAndLoans','NumberRealEstateLoansOrLines': 0.43\n",
    "\n",
    "**의 순으로 높은 상관관계를 보여왔으며, 나머지는 낮은 상관관계를 보이는 것을 확인할 수 있다. 이역시 다중공선성 등의 문제를 일으킬 정도는 아닌 것으로 판단된다.**"
   ]
  },
  {
   "cell_type": "code",
   "execution_count": 7,
   "metadata": {},
   "outputs": [
    {
     "data": {
      "text/plain": [
       "<AxesSubplot:>"
      ]
     },
     "execution_count": 7,
     "metadata": {},
     "output_type": "execute_result"
    },
    {
     "data": {
      "image/png": "[encoded data removed]",
      "text/plain": [
       "<Figure size 432x288 with 2 Axes>"
      ]
     },
     "metadata": {
      "needs_background": "light"
     },
     "output_type": "display_data"
    }
   ],
   "source": [
    "sns.heatmap(data=X.corr(),annot=True,fmt='.2f', linewidths=.8,cmap='Blues')"
   ]
  },
  {
   "cell_type": "code",
   "execution_count": 8,
   "metadata": {},
   "outputs": [
    {
     "data": {
      "text/plain": [
       "<AxesSubplot:>"
      ]
     },
     "execution_count": 8,
     "metadata": {},
     "output_type": "execute_result"
    },
    {
     "data": {
      "image/png": "[encoded data removed]",
      "text/plain": [
       "<Figure size 432x288 with 2 Axes>"
      ]
     },
     "metadata": {
      "needs_background": "light"
     },
     "output_type": "display_data"
    }
   ],
   "source": [
    "sns.heatmap(data=Y.corr(),annot=True,fmt='.2f', linewidths=.8,cmap='Blues')"
   ]
  },
  {
   "cell_type": "markdown",
   "metadata": {},
   "source": [
    "### (4) 분포 및 이상치 확인"
   ]
  },
  {
   "cell_type": "code",
   "execution_count": 9,
   "metadata": {},
   "outputs": [
    {
     "data": {
      "text/html": [
       "<div>\n",
       "<style scoped>\n",
       "    .dataframe tbody tr th:only-of-type {\n",
       "        vertical-align: middle;\n",
       "    }\n",
       "\n",
       "    .dataframe tbody tr th {\n",
       "        vertical-align: top;\n",
       "    }\n",
       "\n",
       "    .dataframe thead th {\n",
       "        text-align: right;\n",
       "    }\n",
       "</style>\n",
       "<table border=\"1\" class=\"dataframe\">\n",
       "  <thead>\n",
       "    <tr style=\"text-align: right;\">\n",
       "      <th></th>\n",
       "      <th>Unnamed: 0</th>\n",
       "      <th>SeriousDlqin2yrs</th>\n",
       "      <th>RevolvingUtilizationOfUnsecuredLines</th>\n",
       "      <th>age</th>\n",
       "      <th>NumberOfTime30-59DaysPastDueNotWorse</th>\n",
       "      <th>DebtRatio</th>\n",
       "      <th>MonthlyIncome</th>\n",
       "      <th>NumberOfOpenCreditLinesAndLoans</th>\n",
       "      <th>NumberOfTimes90DaysLate</th>\n",
       "      <th>NumberRealEstateLoansOrLines</th>\n",
       "      <th>NumberOfTime60-89DaysPastDueNotWorse</th>\n",
       "      <th>NumberOfDependents</th>\n",
       "    </tr>\n",
       "  </thead>\n",
       "  <tbody>\n",
       "    <tr>\n",
       "      <th>count</th>\n",
       "      <td>150000.000000</td>\n",
       "      <td>150000.000000</td>\n",
       "      <td>150000.000000</td>\n",
       "      <td>150000.000000</td>\n",
       "      <td>150000.000000</td>\n",
       "      <td>150000.000000</td>\n",
       "      <td>1.202690e+05</td>\n",
       "      <td>150000.000000</td>\n",
       "      <td>150000.000000</td>\n",
       "      <td>150000.000000</td>\n",
       "      <td>150000.000000</td>\n",
       "      <td>146076.000000</td>\n",
       "    </tr>\n",
       "    <tr>\n",
       "      <th>mean</th>\n",
       "      <td>75000.500000</td>\n",
       "      <td>0.066840</td>\n",
       "      <td>6.048438</td>\n",
       "      <td>52.295207</td>\n",
       "      <td>0.421033</td>\n",
       "      <td>353.005076</td>\n",
       "      <td>6.670221e+03</td>\n",
       "      <td>8.452760</td>\n",
       "      <td>0.265973</td>\n",
       "      <td>1.018240</td>\n",
       "      <td>0.240387</td>\n",
       "      <td>0.757222</td>\n",
       "    </tr>\n",
       "    <tr>\n",
       "      <th>std</th>\n",
       "      <td>43301.414527</td>\n",
       "      <td>0.249746</td>\n",
       "      <td>249.755371</td>\n",
       "      <td>14.771866</td>\n",
       "      <td>4.192781</td>\n",
       "      <td>2037.818523</td>\n",
       "      <td>1.438467e+04</td>\n",
       "      <td>5.145951</td>\n",
       "      <td>4.169304</td>\n",
       "      <td>1.129771</td>\n",
       "      <td>4.155179</td>\n",
       "      <td>1.115086</td>\n",
       "    </tr>\n",
       "    <tr>\n",
       "      <th>min</th>\n",
       "      <td>1.000000</td>\n",
       "      <td>0.000000</td>\n",
       "      <td>0.000000</td>\n",
       "      <td>0.000000</td>\n",
       "      <td>0.000000</td>\n",
       "      <td>0.000000</td>\n",
       "      <td>0.000000e+00</td>\n",
       "      <td>0.000000</td>\n",
       "      <td>0.000000</td>\n",
       "      <td>0.000000</td>\n",
       "      <td>0.000000</td>\n",
       "      <td>0.000000</td>\n",
       "    </tr>\n",
       "    <tr>\n",
       "      <th>25%</th>\n",
       "      <td>37500.750000</td>\n",
       "      <td>0.000000</td>\n",
       "      <td>0.029867</td>\n",
       "      <td>41.000000</td>\n",
       "      <td>0.000000</td>\n",
       "      <td>0.175074</td>\n",
       "      <td>3.400000e+03</td>\n",
       "      <td>5.000000</td>\n",
       "      <td>0.000000</td>\n",
       "      <td>0.000000</td>\n",
       "      <td>0.000000</td>\n",
       "      <td>0.000000</td>\n",
       "    </tr>\n",
       "    <tr>\n",
       "      <th>50%</th>\n",
       "      <td>75000.500000</td>\n",
       "      <td>0.000000</td>\n",
       "      <td>0.154181</td>\n",
       "      <td>52.000000</td>\n",
       "      <td>0.000000</td>\n",
       "      <td>0.366508</td>\n",
       "      <td>5.400000e+03</td>\n",
       "      <td>8.000000</td>\n",
       "      <td>0.000000</td>\n",
       "      <td>1.000000</td>\n",
       "      <td>0.000000</td>\n",
       "      <td>0.000000</td>\n",
       "    </tr>\n",
       "    <tr>\n",
       "      <th>75%</th>\n",
       "      <td>112500.250000</td>\n",
       "      <td>0.000000</td>\n",
       "      <td>0.559046</td>\n",
       "      <td>63.000000</td>\n",
       "      <td>0.000000</td>\n",
       "      <td>0.868254</td>\n",
       "      <td>8.249000e+03</td>\n",
       "      <td>11.000000</td>\n",
       "      <td>0.000000</td>\n",
       "      <td>2.000000</td>\n",
       "      <td>0.000000</td>\n",
       "      <td>1.000000</td>\n",
       "    </tr>\n",
       "    <tr>\n",
       "      <th>max</th>\n",
       "      <td>150000.000000</td>\n",
       "      <td>1.000000</td>\n",
       "      <td>50708.000000</td>\n",
       "      <td>109.000000</td>\n",
       "      <td>98.000000</td>\n",
       "      <td>329664.000000</td>\n",
       "      <td>3.008750e+06</td>\n",
       "      <td>58.000000</td>\n",
       "      <td>98.000000</td>\n",
       "      <td>54.000000</td>\n",
       "      <td>98.000000</td>\n",
       "      <td>20.000000</td>\n",
       "    </tr>\n",
       "  </tbody>\n",
       "</table>\n",
       "</div>"
      ],
      "text/plain": [
       "          Unnamed: 0  SeriousDlqin2yrs  RevolvingUtilizationOfUnsecuredLines  \\\n",
       "count  150000.000000     150000.000000                         150000.000000   \n",
       "mean    75000.500000          0.066840                              6.048438   \n",
       "std     43301.414527          0.249746                            249.755371   \n",
       "min         1.000000          0.000000                              0.000000   \n",
       "25%     37500.750000          0.000000                              0.029867   \n",
       "50%     75000.500000          0.000000                              0.154181   \n",
       "75%    112500.250000          0.000000                              0.559046   \n",
       "max    150000.000000          1.000000                          50708.000000   \n",
       "\n",
       "                 age  NumberOfTime30-59DaysPastDueNotWorse      DebtRatio  \\\n",
       "count  150000.000000                         150000.000000  150000.000000   \n",
       "mean       52.295207                              0.421033     353.005076   \n",
       "std        14.771866                              4.192781    2037.818523   \n",
       "min         0.000000                              0.000000       0.000000   \n",
       "25%        41.000000                              0.000000       0.175074   \n",
       "50%        52.000000                              0.000000       0.366508   \n",
       "75%        63.000000                              0.000000       0.868254   \n",
       "max       109.000000                             98.000000  329664.000000   \n",
       "\n",
       "       MonthlyIncome  NumberOfOpenCreditLinesAndLoans  \\\n",
       "count   1.202690e+05                    150000.000000   \n",
       "mean    6.670221e+03                         8.452760   \n",
       "std     1.438467e+04                         5.145951   \n",
       "min     0.000000e+00                         0.000000   \n",
       "25%     3.400000e+03                         5.000000   \n",
       "50%     5.400000e+03                         8.000000   \n",
       "75%     8.249000e+03                        11.000000   \n",
       "max     3.008750e+06                        58.000000   \n",
       "\n",
       "       NumberOfTimes90DaysLate  NumberRealEstateLoansOrLines  \\\n",
       "count            150000.000000                 150000.000000   \n",
       "mean                  0.265973                      1.018240   \n",
       "std                   4.169304                      1.129771   \n",
       "min                   0.000000                      0.000000   \n",
       "25%                   0.000000                      0.000000   \n",
       "50%                   0.000000                      1.000000   \n",
       "75%                   0.000000                      2.000000   \n",
       "max                  98.000000                     54.000000   \n",
       "\n",
       "       NumberOfTime60-89DaysPastDueNotWorse  NumberOfDependents  \n",
       "count                         150000.000000       146076.000000  \n",
       "mean                               0.240387            0.757222  \n",
       "std                                4.155179            1.115086  \n",
       "min                                0.000000            0.000000  \n",
       "25%                                0.000000            0.000000  \n",
       "50%                                0.000000            0.000000  \n",
       "75%                                0.000000            1.000000  \n",
       "max                               98.000000           20.000000  "
      ]
     },
     "execution_count": 9,
     "metadata": {},
     "output_type": "execute_result"
    }
   ],
   "source": [
    "X.describe()"
   ]
  },
  {
   "cell_type": "code",
   "execution_count": 10,
   "metadata": {},
   "outputs": [
    {
     "data": {
      "text/html": [
       "<div>\n",
       "<style scoped>\n",
       "    .dataframe tbody tr th:only-of-type {\n",
       "        vertical-align: middle;\n",
       "    }\n",
       "\n",
       "    .dataframe tbody tr th {\n",
       "        vertical-align: top;\n",
       "    }\n",
       "\n",
       "    .dataframe thead th {\n",
       "        text-align: right;\n",
       "    }\n",
       "</style>\n",
       "<table border=\"1\" class=\"dataframe\">\n",
       "  <thead>\n",
       "    <tr style=\"text-align: right;\">\n",
       "      <th></th>\n",
       "      <th>Unnamed: 0</th>\n",
       "      <th>SeriousDlqin2yrs</th>\n",
       "      <th>RevolvingUtilizationOfUnsecuredLines</th>\n",
       "      <th>age</th>\n",
       "      <th>NumberOfTime30-59DaysPastDueNotWorse</th>\n",
       "      <th>DebtRatio</th>\n",
       "      <th>MonthlyIncome</th>\n",
       "      <th>NumberOfOpenCreditLinesAndLoans</th>\n",
       "      <th>NumberOfTimes90DaysLate</th>\n",
       "      <th>NumberRealEstateLoansOrLines</th>\n",
       "      <th>NumberOfTime60-89DaysPastDueNotWorse</th>\n",
       "      <th>NumberOfDependents</th>\n",
       "    </tr>\n",
       "  </thead>\n",
       "  <tbody>\n",
       "    <tr>\n",
       "      <th>count</th>\n",
       "      <td>101503.000000</td>\n",
       "      <td>0.0</td>\n",
       "      <td>101503.000000</td>\n",
       "      <td>101503.000000</td>\n",
       "      <td>101503.000000</td>\n",
       "      <td>101503.000000</td>\n",
       "      <td>8.140000e+04</td>\n",
       "      <td>101503.000000</td>\n",
       "      <td>101503.000000</td>\n",
       "      <td>101503.000000</td>\n",
       "      <td>101503.000000</td>\n",
       "      <td>98877.000000</td>\n",
       "    </tr>\n",
       "    <tr>\n",
       "      <th>mean</th>\n",
       "      <td>50752.000000</td>\n",
       "      <td>NaN</td>\n",
       "      <td>5.310000</td>\n",
       "      <td>52.405436</td>\n",
       "      <td>0.453770</td>\n",
       "      <td>344.475020</td>\n",
       "      <td>6.855036e+03</td>\n",
       "      <td>8.453514</td>\n",
       "      <td>0.296691</td>\n",
       "      <td>1.013074</td>\n",
       "      <td>0.270317</td>\n",
       "      <td>0.769046</td>\n",
       "    </tr>\n",
       "    <tr>\n",
       "      <th>std</th>\n",
       "      <td>29301.536524</td>\n",
       "      <td>NaN</td>\n",
       "      <td>196.156039</td>\n",
       "      <td>14.779756</td>\n",
       "      <td>4.538487</td>\n",
       "      <td>1632.595231</td>\n",
       "      <td>3.650860e+04</td>\n",
       "      <td>5.144100</td>\n",
       "      <td>4.515859</td>\n",
       "      <td>1.110253</td>\n",
       "      <td>4.503578</td>\n",
       "      <td>1.136778</td>\n",
       "    </tr>\n",
       "    <tr>\n",
       "      <th>min</th>\n",
       "      <td>1.000000</td>\n",
       "      <td>NaN</td>\n",
       "      <td>0.000000</td>\n",
       "      <td>21.000000</td>\n",
       "      <td>0.000000</td>\n",
       "      <td>0.000000</td>\n",
       "      <td>0.000000e+00</td>\n",
       "      <td>0.000000</td>\n",
       "      <td>0.000000</td>\n",
       "      <td>0.000000</td>\n",
       "      <td>0.000000</td>\n",
       "      <td>0.000000</td>\n",
       "    </tr>\n",
       "    <tr>\n",
       "      <th>25%</th>\n",
       "      <td>25376.500000</td>\n",
       "      <td>NaN</td>\n",
       "      <td>0.030131</td>\n",
       "      <td>41.000000</td>\n",
       "      <td>0.000000</td>\n",
       "      <td>0.173423</td>\n",
       "      <td>3.408000e+03</td>\n",
       "      <td>5.000000</td>\n",
       "      <td>0.000000</td>\n",
       "      <td>0.000000</td>\n",
       "      <td>0.000000</td>\n",
       "      <td>0.000000</td>\n",
       "    </tr>\n",
       "    <tr>\n",
       "      <th>50%</th>\n",
       "      <td>50752.000000</td>\n",
       "      <td>NaN</td>\n",
       "      <td>0.152586</td>\n",
       "      <td>52.000000</td>\n",
       "      <td>0.000000</td>\n",
       "      <td>0.364260</td>\n",
       "      <td>5.400000e+03</td>\n",
       "      <td>8.000000</td>\n",
       "      <td>0.000000</td>\n",
       "      <td>1.000000</td>\n",
       "      <td>0.000000</td>\n",
       "      <td>0.000000</td>\n",
       "    </tr>\n",
       "    <tr>\n",
       "      <th>75%</th>\n",
       "      <td>76127.500000</td>\n",
       "      <td>NaN</td>\n",
       "      <td>0.564225</td>\n",
       "      <td>63.000000</td>\n",
       "      <td>0.000000</td>\n",
       "      <td>0.851619</td>\n",
       "      <td>8.200000e+03</td>\n",
       "      <td>11.000000</td>\n",
       "      <td>0.000000</td>\n",
       "      <td>2.000000</td>\n",
       "      <td>0.000000</td>\n",
       "      <td>1.000000</td>\n",
       "    </tr>\n",
       "    <tr>\n",
       "      <th>max</th>\n",
       "      <td>101503.000000</td>\n",
       "      <td>NaN</td>\n",
       "      <td>21821.000000</td>\n",
       "      <td>104.000000</td>\n",
       "      <td>98.000000</td>\n",
       "      <td>268326.000000</td>\n",
       "      <td>7.727000e+06</td>\n",
       "      <td>85.000000</td>\n",
       "      <td>98.000000</td>\n",
       "      <td>37.000000</td>\n",
       "      <td>98.000000</td>\n",
       "      <td>43.000000</td>\n",
       "    </tr>\n",
       "  </tbody>\n",
       "</table>\n",
       "</div>"
      ],
      "text/plain": [
       "          Unnamed: 0  SeriousDlqin2yrs  RevolvingUtilizationOfUnsecuredLines  \\\n",
       "count  101503.000000               0.0                         101503.000000   \n",
       "mean    50752.000000               NaN                              5.310000   \n",
       "std     29301.536524               NaN                            196.156039   \n",
       "min         1.000000               NaN                              0.000000   \n",
       "25%     25376.500000               NaN                              0.030131   \n",
       "50%     50752.000000               NaN                              0.152586   \n",
       "75%     76127.500000               NaN                              0.564225   \n",
       "max    101503.000000               NaN                          21821.000000   \n",
       "\n",
       "                 age  NumberOfTime30-59DaysPastDueNotWorse      DebtRatio  \\\n",
       "count  101503.000000                         101503.000000  101503.000000   \n",
       "mean       52.405436                              0.453770     344.475020   \n",
       "std        14.779756                              4.538487    1632.595231   \n",
       "min        21.000000                              0.000000       0.000000   \n",
       "25%        41.000000                              0.000000       0.173423   \n",
       "50%        52.000000                              0.000000       0.364260   \n",
       "75%        63.000000                              0.000000       0.851619   \n",
       "max       104.000000                             98.000000  268326.000000   \n",
       "\n",
       "       MonthlyIncome  NumberOfOpenCreditLinesAndLoans  \\\n",
       "count   8.140000e+04                    101503.000000   \n",
       "mean    6.855036e+03                         8.453514   \n",
       "std     3.650860e+04                         5.144100   \n",
       "min     0.000000e+00                         0.000000   \n",
       "25%     3.408000e+03                         5.000000   \n",
       "50%     5.400000e+03                         8.000000   \n",
       "75%     8.200000e+03                        11.000000   \n",
       "max     7.727000e+06                        85.000000   \n",
       "\n",
       "       NumberOfTimes90DaysLate  NumberRealEstateLoansOrLines  \\\n",
       "count            101503.000000                 101503.000000   \n",
       "mean                  0.296691                      1.013074   \n",
       "std                   4.515859                      1.110253   \n",
       "min                   0.000000                      0.000000   \n",
       "25%                   0.000000                      0.000000   \n",
       "50%                   0.000000                      1.000000   \n",
       "75%                   0.000000                      2.000000   \n",
       "max                  98.000000                     37.000000   \n",
       "\n",
       "       NumberOfTime60-89DaysPastDueNotWorse  NumberOfDependents  \n",
       "count                         101503.000000        98877.000000  \n",
       "mean                               0.270317            0.769046  \n",
       "std                                4.503578            1.136778  \n",
       "min                                0.000000            0.000000  \n",
       "25%                                0.000000            0.000000  \n",
       "50%                                0.000000            0.000000  \n",
       "75%                                0.000000            1.000000  \n",
       "max                               98.000000           43.000000  "
      ]
     },
     "execution_count": 10,
     "metadata": {},
     "output_type": "execute_result"
    }
   ],
   "source": [
    "Y.describe()"
   ]
  },
  {
   "cell_type": "code",
   "execution_count": 11,
   "metadata": {},
   "outputs": [
    {
     "data": {
      "image/png": "[encoded data removed]",
      "text/plain": [
       "<Figure size 432x288 with 2 Axes>"
      ]
     },
     "metadata": {
      "needs_background": "light"
     },
     "output_type": "display_data"
    },
    {
     "data": {
      "text/html": [
       "<div>\n",
       "<style scoped>\n",
       "    .dataframe tbody tr th:only-of-type {\n",
       "        vertical-align: middle;\n",
       "    }\n",
       "\n",
       "    .dataframe tbody tr th {\n",
       "        vertical-align: top;\n",
       "    }\n",
       "\n",
       "    .dataframe thead th {\n",
       "        text-align: right;\n",
       "    }\n",
       "</style>\n",
       "<table border=\"1\" class=\"dataframe\">\n",
       "  <thead>\n",
       "    <tr style=\"text-align: right;\">\n",
       "      <th></th>\n",
       "      <th>Unnamed: 0</th>\n",
       "      <th>SeriousDlqin2yrs</th>\n",
       "      <th>RevolvingUtilizationOfUnsecuredLines</th>\n",
       "      <th>age</th>\n",
       "      <th>NumberOfTime30-59DaysPastDueNotWorse</th>\n",
       "      <th>DebtRatio</th>\n",
       "      <th>MonthlyIncome</th>\n",
       "      <th>NumberOfOpenCreditLinesAndLoans</th>\n",
       "      <th>NumberOfTimes90DaysLate</th>\n",
       "      <th>NumberRealEstateLoansOrLines</th>\n",
       "      <th>NumberOfTime60-89DaysPastDueNotWorse</th>\n",
       "      <th>NumberOfDependents</th>\n",
       "    </tr>\n",
       "  </thead>\n",
       "  <tbody>\n",
       "    <tr>\n",
       "      <th>65695</th>\n",
       "      <td>65696</td>\n",
       "      <td>0</td>\n",
       "      <td>1.0</td>\n",
       "      <td>0</td>\n",
       "      <td>1</td>\n",
       "      <td>0.436927</td>\n",
       "      <td>6000.0</td>\n",
       "      <td>6</td>\n",
       "      <td>0</td>\n",
       "      <td>2</td>\n",
       "      <td>0</td>\n",
       "      <td>2.0</td>\n",
       "    </tr>\n",
       "  </tbody>\n",
       "</table>\n",
       "</div>"
      ],
      "text/plain": [
       "       Unnamed: 0  SeriousDlqin2yrs  RevolvingUtilizationOfUnsecuredLines  \\\n",
       "65695       65696                 0                                   1.0   \n",
       "\n",
       "       age  NumberOfTime30-59DaysPastDueNotWorse  DebtRatio  MonthlyIncome  \\\n",
       "65695    0                                     1   0.436927         6000.0   \n",
       "\n",
       "       NumberOfOpenCreditLinesAndLoans  NumberOfTimes90DaysLate  \\\n",
       "65695                                6                        0   \n",
       "\n",
       "       NumberRealEstateLoansOrLines  NumberOfTime60-89DaysPastDueNotWorse  \\\n",
       "65695                             2                                     0   \n",
       "\n",
       "       NumberOfDependents  \n",
       "65695                 2.0  "
      ]
     },
     "execution_count": 11,
     "metadata": {},
     "output_type": "execute_result"
    }
   ],
   "source": [
    "plt.suptitle('age',fontsize=13)\n",
    "plt.subplots_adjust(top=0.82)\n",
    "\n",
    "ax1 = plt.subplot(1,2,1)\n",
    "plt.boxplot(X['age'])\n",
    "plt.title(\"Train\")\n",
    "\n",
    "ax1 = plt.subplot(1,2,2)\n",
    "plt.boxplot(Y['age'])\n",
    "plt.title(\"Test\")\n",
    "plt.show()\n",
    "\n",
    "X[X['age'] <= 20]"
   ]
  },
  {
   "cell_type": "markdown",
   "metadata": {},
   "source": [
    "--------------------------------------------------------------------------\n",
    "**Train 데이터에서 금융상품을 이용할 수 연령층을 벗어난 표본(0세)은 제거하는 것이 합리적일 것으로 판단된다.**\n",
    "\n",
    "---------------------------------------------------------"
   ]
  },
  {
   "cell_type": "code",
   "execution_count": 12,
   "metadata": {},
   "outputs": [],
   "source": [
    "X= X.drop([65695])"
   ]
  },
  {
   "cell_type": "markdown",
   "metadata": {},
   "source": [
    "### (5) RevolvingUtilizationOfUnsecuredLines 변수 분석 및 처리"
   ]
  },
  {
   "cell_type": "code",
   "execution_count": 13,
   "metadata": {},
   "outputs": [
    {
     "data": {
      "image/png": "[encoded data removed]",
      "text/plain": [
       "<Figure size 432x288 with 2 Axes>"
      ]
     },
     "metadata": {
      "needs_background": "light"
     },
     "output_type": "display_data"
    }
   ],
   "source": [
    "plt.suptitle('RevolvingUtilizationOfUnsecuredLines',fontsize=13)\n",
    "plt.subplots_adjust(top=0.82)\n",
    "\n",
    "ax1 = plt.subplot(1,3,1)\n",
    "plt.boxplot(X['RevolvingUtilizationOfUnsecuredLines'])\n",
    "plt.title(\"Train\")\n",
    "\n",
    "ax1 = plt.subplot(1,3,3)\n",
    "plt.boxplot(Y['RevolvingUtilizationOfUnsecuredLines'])\n",
    "plt.title(\"Test\")\n",
    "plt.show()"
   ]
  },
  {
   "cell_type": "code",
   "execution_count": 14,
   "metadata": {},
   "outputs": [
    {
     "name": "stdout",
     "output_type": "stream",
     "text": [
      "count    149999.000000\n",
      "mean          6.048472\n",
      "std         249.756203\n",
      "min           0.000000\n",
      "25%           0.029867\n",
      "50%           0.154176\n",
      "75%           0.559044\n",
      "max       50708.000000\n",
      "Name: RevolvingUtilizationOfUnsecuredLines, dtype: float64\n",
      "count    101503.000000\n",
      "mean          5.310000\n",
      "std         196.156039\n",
      "min           0.000000\n",
      "25%           0.030131\n",
      "50%           0.152586\n",
      "75%           0.564225\n",
      "max       21821.000000\n",
      "Name: RevolvingUtilizationOfUnsecuredLines, dtype: float64\n"
     ]
    }
   ],
   "source": [
    "print(X['RevolvingUtilizationOfUnsecuredLines'].describe())\n",
    "print(Y['RevolvingUtilizationOfUnsecuredLines'].describe())"
   ]
  },
  {
   "cell_type": "code",
   "execution_count": 15,
   "metadata": {},
   "outputs": [
    {
     "data": {
      "text/html": [
       "<div>\n",
       "<style scoped>\n",
       "    .dataframe tbody tr th:only-of-type {\n",
       "        vertical-align: middle;\n",
       "    }\n",
       "\n",
       "    .dataframe tbody tr th {\n",
       "        vertical-align: top;\n",
       "    }\n",
       "\n",
       "    .dataframe thead th {\n",
       "        text-align: right;\n",
       "    }\n",
       "</style>\n",
       "<table border=\"1\" class=\"dataframe\">\n",
       "  <thead>\n",
       "    <tr style=\"text-align: right;\">\n",
       "      <th></th>\n",
       "      <th>Unnamed: 0</th>\n",
       "      <th>SeriousDlqin2yrs</th>\n",
       "      <th>RevolvingUtilizationOfUnsecuredLines</th>\n",
       "      <th>age</th>\n",
       "      <th>NumberOfTime30-59DaysPastDueNotWorse</th>\n",
       "      <th>DebtRatio</th>\n",
       "      <th>MonthlyIncome</th>\n",
       "      <th>NumberOfOpenCreditLinesAndLoans</th>\n",
       "      <th>NumberOfTimes90DaysLate</th>\n",
       "      <th>NumberRealEstateLoansOrLines</th>\n",
       "      <th>NumberOfTime60-89DaysPastDueNotWorse</th>\n",
       "      <th>NumberOfDependents</th>\n",
       "    </tr>\n",
       "  </thead>\n",
       "  <tbody>\n",
       "    <tr>\n",
       "      <th>85489</th>\n",
       "      <td>85490</td>\n",
       "      <td>0</td>\n",
       "      <td>50708.0</td>\n",
       "      <td>55</td>\n",
       "      <td>0</td>\n",
       "      <td>0.221757</td>\n",
       "      <td>38000.0</td>\n",
       "      <td>7</td>\n",
       "      <td>0</td>\n",
       "      <td>2</td>\n",
       "      <td>0</td>\n",
       "      <td>0.0</td>\n",
       "    </tr>\n",
       "  </tbody>\n",
       "</table>\n",
       "</div>"
      ],
      "text/plain": [
       "       Unnamed: 0  SeriousDlqin2yrs  RevolvingUtilizationOfUnsecuredLines  \\\n",
       "85489       85490                 0                               50708.0   \n",
       "\n",
       "       age  NumberOfTime30-59DaysPastDueNotWorse  DebtRatio  MonthlyIncome  \\\n",
       "85489   55                                     0   0.221757        38000.0   \n",
       "\n",
       "       NumberOfOpenCreditLinesAndLoans  NumberOfTimes90DaysLate  \\\n",
       "85489                                7                        0   \n",
       "\n",
       "       NumberRealEstateLoansOrLines  NumberOfTime60-89DaysPastDueNotWorse  \\\n",
       "85489                             2                                     0   \n",
       "\n",
       "       NumberOfDependents  \n",
       "85489                 0.0  "
      ]
     },
     "execution_count": 15,
     "metadata": {},
     "output_type": "execute_result"
    }
   ],
   "source": [
    "X[(X['RevolvingUtilizationOfUnsecuredLines'] > 40000)]"
   ]
  },
  {
   "cell_type": "code",
   "execution_count": 16,
   "metadata": {},
   "outputs": [
    {
     "data": {
      "text/html": [
       "<div>\n",
       "<style scoped>\n",
       "    .dataframe tbody tr th:only-of-type {\n",
       "        vertical-align: middle;\n",
       "    }\n",
       "\n",
       "    .dataframe tbody tr th {\n",
       "        vertical-align: top;\n",
       "    }\n",
       "\n",
       "    .dataframe thead th {\n",
       "        text-align: right;\n",
       "    }\n",
       "</style>\n",
       "<table border=\"1\" class=\"dataframe\">\n",
       "  <thead>\n",
       "    <tr style=\"text-align: right;\">\n",
       "      <th></th>\n",
       "      <th>Unnamed: 0</th>\n",
       "      <th>SeriousDlqin2yrs</th>\n",
       "      <th>RevolvingUtilizationOfUnsecuredLines</th>\n",
       "      <th>age</th>\n",
       "      <th>NumberOfTime30-59DaysPastDueNotWorse</th>\n",
       "      <th>DebtRatio</th>\n",
       "      <th>MonthlyIncome</th>\n",
       "      <th>NumberOfOpenCreditLinesAndLoans</th>\n",
       "      <th>NumberOfTimes90DaysLate</th>\n",
       "      <th>NumberRealEstateLoansOrLines</th>\n",
       "      <th>NumberOfTime60-89DaysPastDueNotWorse</th>\n",
       "      <th>NumberOfDependents</th>\n",
       "    </tr>\n",
       "  </thead>\n",
       "  <tbody>\n",
       "    <tr>\n",
       "      <th>31414</th>\n",
       "      <td>31415</td>\n",
       "      <td>0</td>\n",
       "      <td>29110.0</td>\n",
       "      <td>58</td>\n",
       "      <td>0</td>\n",
       "      <td>0.402560</td>\n",
       "      <td>10000.0</td>\n",
       "      <td>7</td>\n",
       "      <td>0</td>\n",
       "      <td>1</td>\n",
       "      <td>0</td>\n",
       "      <td>0.0</td>\n",
       "    </tr>\n",
       "    <tr>\n",
       "      <th>85489</th>\n",
       "      <td>85490</td>\n",
       "      <td>0</td>\n",
       "      <td>50708.0</td>\n",
       "      <td>55</td>\n",
       "      <td>0</td>\n",
       "      <td>0.221757</td>\n",
       "      <td>38000.0</td>\n",
       "      <td>7</td>\n",
       "      <td>0</td>\n",
       "      <td>2</td>\n",
       "      <td>0</td>\n",
       "      <td>0.0</td>\n",
       "    </tr>\n",
       "  </tbody>\n",
       "</table>\n",
       "</div>"
      ],
      "text/plain": [
       "       Unnamed: 0  SeriousDlqin2yrs  RevolvingUtilizationOfUnsecuredLines  \\\n",
       "31414       31415                 0                               29110.0   \n",
       "85489       85490                 0                               50708.0   \n",
       "\n",
       "       age  NumberOfTime30-59DaysPastDueNotWorse  DebtRatio  MonthlyIncome  \\\n",
       "31414   58                                     0   0.402560        10000.0   \n",
       "85489   55                                     0   0.221757        38000.0   \n",
       "\n",
       "       NumberOfOpenCreditLinesAndLoans  NumberOfTimes90DaysLate  \\\n",
       "31414                                7                        0   \n",
       "85489                                7                        0   \n",
       "\n",
       "       NumberRealEstateLoansOrLines  NumberOfTime60-89DaysPastDueNotWorse  \\\n",
       "31414                             1                                     0   \n",
       "85489                             2                                     0   \n",
       "\n",
       "       NumberOfDependents  \n",
       "31414                 0.0  \n",
       "85489                 0.0  "
      ]
     },
     "execution_count": 16,
     "metadata": {},
     "output_type": "execute_result"
    }
   ],
   "source": [
    "X.loc[(X['RevolvingUtilizationOfUnsecuredLines'] > 28000)]"
   ]
  },
  {
   "cell_type": "code",
   "execution_count": 17,
   "metadata": {},
   "outputs": [],
   "source": [
    "X.loc[X['RevolvingUtilizationOfUnsecuredLines'] > 40000, 'RevolvingUtilizationOfUnsecuredLines'] = 29110"
   ]
  },
  {
   "cell_type": "markdown",
   "metadata": {},
   "source": [
    "### (6) NumberOfTime(N)DaysPastDueNotWorse 변수 분석 및 처리"
   ]
  },
  {
   "cell_type": "code",
   "execution_count": 18,
   "metadata": {
    "scrolled": false
   },
   "outputs": [
    {
     "data": {
      "image/png": "[encoded data removed]",
      "text/plain": [
       "<Figure size 432x288 with 2 Axes>"
      ]
     },
     "metadata": {
      "needs_background": "light"
     },
     "output_type": "display_data"
    }
   ],
   "source": [
    "plt.suptitle('NumberOfTime30-59DaysPastDueNotWorse',fontsize=13)\n",
    "plt.subplots_adjust(top=0.82)\n",
    "\n",
    "ax1 = plt.subplot(1,2,1)\n",
    "plt.boxplot(X['NumberOfTime30-59DaysPastDueNotWorse'])\n",
    "plt.title(\"Train\")\n",
    "\n",
    "ax2 = plt.subplot(1,2,2)\n",
    "plt.boxplot(Y['NumberOfTime30-59DaysPastDueNotWorse'])\n",
    "plt.title(\"Test\")\n",
    "plt.show()"
   ]
  },
  {
   "cell_type": "code",
   "execution_count": 19,
   "metadata": {},
   "outputs": [
    {
     "data": {
      "image/png": "[encoded data removed]",
      "text/plain": [
       "<Figure size 432x288 with 2 Axes>"
      ]
     },
     "metadata": {
      "needs_background": "light"
     },
     "output_type": "display_data"
    }
   ],
   "source": [
    "plt.suptitle('NumberOfTime60-89DaysPastDueNotWorse',fontsize=13)\n",
    "plt.subplots_adjust(top=0.82)\n",
    "\n",
    "ax2 = plt.subplot(1,2,1)\n",
    "plt.boxplot(X['NumberOfTime60-89DaysPastDueNotWorse'])\n",
    "plt.title(\"Train\")\n",
    "\n",
    "ax2 = plt.subplot(1,2,2)\n",
    "plt.boxplot(Y['NumberOfTime60-89DaysPastDueNotWorse'])\n",
    "plt.title(\"Test\")\n",
    "plt.show()\n"
   ]
  },
  {
   "cell_type": "code",
   "execution_count": 20,
   "metadata": {},
   "outputs": [
    {
     "data": {
      "image/png": "[encoded data removed]",
      "text/plain": [
       "<Figure size 432x288 with 2 Axes>"
      ]
     },
     "metadata": {
      "needs_background": "light"
     },
     "output_type": "display_data"
    }
   ],
   "source": [
    "plt.suptitle('NumberOfTimes90DaysLate',fontsize=13)\n",
    "plt.subplots_adjust(top=0.82)\n",
    "\n",
    "ax2 = plt.subplot(1,2,1)\n",
    "plt.boxplot(X['NumberOfTimes90DaysLate'])\n",
    "plt.title(\"Train\")\n",
    "\n",
    "ax2 = plt.subplot(1,2,2)\n",
    "plt.boxplot(Y['NumberOfTimes90DaysLate'])\n",
    "plt.title(\"Test\")\n",
    "plt.show()"
   ]
  },
  {
   "cell_type": "code",
   "execution_count": 21,
   "metadata": {},
   "outputs": [
    {
     "data": {
      "text/plain": [
       "Text(0.5, 0, '90- days')"
      ]
     },
     "execution_count": 21,
     "metadata": {},
     "output_type": "execute_result"
    },
    {
     "data": {
      "image/png": "[encoded data removed]",
      "text/plain": [
       "<Figure size 432x288 with 1 Axes>"
      ]
     },
     "metadata": {
      "needs_background": "light"
     },
     "output_type": "display_data"
    }
   ],
   "source": [
    "fig = plt.figure()\n",
    "ax = fig.gca(projection='3d')\n",
    "ax.scatter(X['NumberOfTime60-89DaysPastDueNotWorse'], X['NumberOfTime30-59DaysPastDueNotWorse'],X['NumberOfTimes90DaysLate'])\n",
    "ax.set_xlabel('60-89 days')\n",
    "ax.set_ylabel('30-59 days')\n",
    "ax.set_zlabel('90- days')"
   ]
  },
  {
   "cell_type": "code",
   "execution_count": 22,
   "metadata": {},
   "outputs": [
    {
     "data": {
      "text/plain": [
       "Text(0.5, 0, '90- days')"
      ]
     },
     "execution_count": 22,
     "metadata": {},
     "output_type": "execute_result"
    },
    {
     "data": {
      "image/png": "[encoded data removed]",
      "text/plain": [
       "<Figure size 432x288 with 1 Axes>"
      ]
     },
     "metadata": {
      "needs_background": "light"
     },
     "output_type": "display_data"
    }
   ],
   "source": [
    "fig = plt.figure()\n",
    "ax = fig.gca(projection='3d')\n",
    "ax.scatter(Y['NumberOfTime60-89DaysPastDueNotWorse'], Y['NumberOfTime30-59DaysPastDueNotWorse'],Y['NumberOfTimes90DaysLate'])\n",
    "ax.set_xlabel('60-89 days')\n",
    "ax.set_ylabel('30-59 days')\n",
    "ax.set_zlabel('90- days')"
   ]
  },
  {
   "cell_type": "markdown",
   "metadata": {},
   "source": [
    "------------------------------------------------------------------\n",
    "NumberOfTime(N)DaysPastDueNotWorse 변수에서 이상치를 가진 고객들은 모두 일수(30-59일, 60-89일, 90일 이상)에 관계없이 모든 종류의 일수에서 100근처의 이상치를 가지고 있음을 확인할 수 있다. 이는 Test와 Train 데이터 모두에서 나타나고 있다. \n",
    "\n",
    "-------------------------------------------------------------------"
   ]
  },
  {
   "cell_type": "code",
   "execution_count": 23,
   "metadata": {},
   "outputs": [],
   "source": [
    "Day_train = X[['NumberOfTime30-59DaysPastDueNotWorse','NumberOfTime60-89DaysPastDueNotWorse','NumberOfTimes90DaysLate']]\n",
    "Day_test=Y[['NumberOfTime30-59DaysPastDueNotWorse','NumberOfTime60-89DaysPastDueNotWorse','NumberOfTimes90DaysLate']]"
   ]
  },
  {
   "cell_type": "code",
   "execution_count": 24,
   "metadata": {},
   "outputs": [
    {
     "data": {
      "text/html": [
       "<div>\n",
       "<style scoped>\n",
       "    .dataframe tbody tr th:only-of-type {\n",
       "        vertical-align: middle;\n",
       "    }\n",
       "\n",
       "    .dataframe tbody tr th {\n",
       "        vertical-align: top;\n",
       "    }\n",
       "\n",
       "    .dataframe thead th {\n",
       "        text-align: right;\n",
       "    }\n",
       "</style>\n",
       "<table border=\"1\" class=\"dataframe\">\n",
       "  <thead>\n",
       "    <tr style=\"text-align: right;\">\n",
       "      <th></th>\n",
       "      <th>Unnamed: 0</th>\n",
       "      <th>SeriousDlqin2yrs</th>\n",
       "      <th>RevolvingUtilizationOfUnsecuredLines</th>\n",
       "      <th>age</th>\n",
       "      <th>NumberOfTime30-59DaysPastDueNotWorse</th>\n",
       "      <th>DebtRatio</th>\n",
       "      <th>MonthlyIncome</th>\n",
       "      <th>NumberOfOpenCreditLinesAndLoans</th>\n",
       "      <th>NumberOfTimes90DaysLate</th>\n",
       "      <th>NumberRealEstateLoansOrLines</th>\n",
       "      <th>NumberOfTime60-89DaysPastDueNotWorse</th>\n",
       "      <th>NumberOfDependents</th>\n",
       "    </tr>\n",
       "  </thead>\n",
       "  <tbody>\n",
       "    <tr>\n",
       "      <th>count</th>\n",
       "      <td>149730.000000</td>\n",
       "      <td>149730.000000</td>\n",
       "      <td>149730.000000</td>\n",
       "      <td>149730.000000</td>\n",
       "      <td>149730.000000</td>\n",
       "      <td>149730.000000</td>\n",
       "      <td>1.201200e+05</td>\n",
       "      <td>149730.000000</td>\n",
       "      <td>149730.000000</td>\n",
       "      <td>149730.000000</td>\n",
       "      <td>149730.000000</td>\n",
       "      <td>145837.000000</td>\n",
       "    </tr>\n",
       "    <tr>\n",
       "      <th>mean</th>\n",
       "      <td>75002.264636</td>\n",
       "      <td>0.065979</td>\n",
       "      <td>5.913295</td>\n",
       "      <td>52.327984</td>\n",
       "      <td>0.245789</td>\n",
       "      <td>353.631316</td>\n",
       "      <td>6.675295e+03</td>\n",
       "      <td>8.467949</td>\n",
       "      <td>0.090456</td>\n",
       "      <td>1.020063</td>\n",
       "      <td>0.064823</td>\n",
       "      <td>0.757846</td>\n",
       "    </tr>\n",
       "    <tr>\n",
       "      <th>std</th>\n",
       "      <td>43302.296135</td>\n",
       "      <td>0.248246</td>\n",
       "      <td>225.783924</td>\n",
       "      <td>14.754371</td>\n",
       "      <td>0.697779</td>\n",
       "      <td>2039.601344</td>\n",
       "      <td>1.439255e+04</td>\n",
       "      <td>5.138107</td>\n",
       "      <td>0.485529</td>\n",
       "      <td>1.129961</td>\n",
       "      <td>0.330074</td>\n",
       "      <td>1.115382</td>\n",
       "    </tr>\n",
       "    <tr>\n",
       "      <th>min</th>\n",
       "      <td>1.000000</td>\n",
       "      <td>0.000000</td>\n",
       "      <td>0.000000</td>\n",
       "      <td>21.000000</td>\n",
       "      <td>0.000000</td>\n",
       "      <td>0.000000</td>\n",
       "      <td>0.000000e+00</td>\n",
       "      <td>0.000000</td>\n",
       "      <td>0.000000</td>\n",
       "      <td>0.000000</td>\n",
       "      <td>0.000000</td>\n",
       "      <td>0.000000</td>\n",
       "    </tr>\n",
       "    <tr>\n",
       "      <th>25%</th>\n",
       "      <td>37501.250000</td>\n",
       "      <td>0.000000</td>\n",
       "      <td>0.029771</td>\n",
       "      <td>41.000000</td>\n",
       "      <td>0.000000</td>\n",
       "      <td>0.175994</td>\n",
       "      <td>3.400000e+03</td>\n",
       "      <td>5.000000</td>\n",
       "      <td>0.000000</td>\n",
       "      <td>0.000000</td>\n",
       "      <td>0.000000</td>\n",
       "      <td>0.000000</td>\n",
       "    </tr>\n",
       "    <tr>\n",
       "      <th>50%</th>\n",
       "      <td>75005.500000</td>\n",
       "      <td>0.000000</td>\n",
       "      <td>0.153488</td>\n",
       "      <td>52.000000</td>\n",
       "      <td>0.000000</td>\n",
       "      <td>0.367119</td>\n",
       "      <td>5.400000e+03</td>\n",
       "      <td>8.000000</td>\n",
       "      <td>0.000000</td>\n",
       "      <td>1.000000</td>\n",
       "      <td>0.000000</td>\n",
       "      <td>0.000000</td>\n",
       "    </tr>\n",
       "    <tr>\n",
       "      <th>75%</th>\n",
       "      <td>112502.750000</td>\n",
       "      <td>0.000000</td>\n",
       "      <td>0.555592</td>\n",
       "      <td>63.000000</td>\n",
       "      <td>0.000000</td>\n",
       "      <td>0.870023</td>\n",
       "      <td>8.250000e+03</td>\n",
       "      <td>11.000000</td>\n",
       "      <td>0.000000</td>\n",
       "      <td>2.000000</td>\n",
       "      <td>0.000000</td>\n",
       "      <td>1.000000</td>\n",
       "    </tr>\n",
       "    <tr>\n",
       "      <th>max</th>\n",
       "      <td>150000.000000</td>\n",
       "      <td>1.000000</td>\n",
       "      <td>29110.000000</td>\n",
       "      <td>109.000000</td>\n",
       "      <td>13.000000</td>\n",
       "      <td>329664.000000</td>\n",
       "      <td>3.008750e+06</td>\n",
       "      <td>58.000000</td>\n",
       "      <td>17.000000</td>\n",
       "      <td>54.000000</td>\n",
       "      <td>11.000000</td>\n",
       "      <td>20.000000</td>\n",
       "    </tr>\n",
       "  </tbody>\n",
       "</table>\n",
       "</div>"
      ],
      "text/plain": [
       "          Unnamed: 0  SeriousDlqin2yrs  RevolvingUtilizationOfUnsecuredLines  \\\n",
       "count  149730.000000     149730.000000                         149730.000000   \n",
       "mean    75002.264636          0.065979                              5.913295   \n",
       "std     43302.296135          0.248246                            225.783924   \n",
       "min         1.000000          0.000000                              0.000000   \n",
       "25%     37501.250000          0.000000                              0.029771   \n",
       "50%     75005.500000          0.000000                              0.153488   \n",
       "75%    112502.750000          0.000000                              0.555592   \n",
       "max    150000.000000          1.000000                          29110.000000   \n",
       "\n",
       "                 age  NumberOfTime30-59DaysPastDueNotWorse      DebtRatio  \\\n",
       "count  149730.000000                         149730.000000  149730.000000   \n",
       "mean       52.327984                              0.245789     353.631316   \n",
       "std        14.754371                              0.697779    2039.601344   \n",
       "min        21.000000                              0.000000       0.000000   \n",
       "25%        41.000000                              0.000000       0.175994   \n",
       "50%        52.000000                              0.000000       0.367119   \n",
       "75%        63.000000                              0.000000       0.870023   \n",
       "max       109.000000                             13.000000  329664.000000   \n",
       "\n",
       "       MonthlyIncome  NumberOfOpenCreditLinesAndLoans  \\\n",
       "count   1.201200e+05                    149730.000000   \n",
       "mean    6.675295e+03                         8.467949   \n",
       "std     1.439255e+04                         5.138107   \n",
       "min     0.000000e+00                         0.000000   \n",
       "25%     3.400000e+03                         5.000000   \n",
       "50%     5.400000e+03                         8.000000   \n",
       "75%     8.250000e+03                        11.000000   \n",
       "max     3.008750e+06                        58.000000   \n",
       "\n",
       "       NumberOfTimes90DaysLate  NumberRealEstateLoansOrLines  \\\n",
       "count            149730.000000                 149730.000000   \n",
       "mean                  0.090456                      1.020063   \n",
       "std                   0.485529                      1.129961   \n",
       "min                   0.000000                      0.000000   \n",
       "25%                   0.000000                      0.000000   \n",
       "50%                   0.000000                      1.000000   \n",
       "75%                   0.000000                      2.000000   \n",
       "max                  17.000000                     54.000000   \n",
       "\n",
       "       NumberOfTime60-89DaysPastDueNotWorse  NumberOfDependents  \n",
       "count                         149730.000000       145837.000000  \n",
       "mean                               0.064823            0.757846  \n",
       "std                                0.330074            1.115382  \n",
       "min                                0.000000            0.000000  \n",
       "25%                                0.000000            0.000000  \n",
       "50%                                0.000000            0.000000  \n",
       "75%                                0.000000            1.000000  \n",
       "max                               11.000000           20.000000  "
      ]
     },
     "execution_count": 24,
     "metadata": {},
     "output_type": "execute_result"
    }
   ],
   "source": [
    "X[(Day_train['NumberOfTimes90DaysLate'] < 50)].describe()"
   ]
  },
  {
   "cell_type": "code",
   "execution_count": 25,
   "metadata": {},
   "outputs": [
    {
     "data": {
      "text/html": [
       "<div>\n",
       "<style scoped>\n",
       "    .dataframe tbody tr th:only-of-type {\n",
       "        vertical-align: middle;\n",
       "    }\n",
       "\n",
       "    .dataframe tbody tr th {\n",
       "        vertical-align: top;\n",
       "    }\n",
       "\n",
       "    .dataframe thead th {\n",
       "        text-align: right;\n",
       "    }\n",
       "</style>\n",
       "<table border=\"1\" class=\"dataframe\">\n",
       "  <thead>\n",
       "    <tr style=\"text-align: right;\">\n",
       "      <th></th>\n",
       "      <th>Unnamed: 0</th>\n",
       "      <th>SeriousDlqin2yrs</th>\n",
       "      <th>RevolvingUtilizationOfUnsecuredLines</th>\n",
       "      <th>age</th>\n",
       "      <th>NumberOfTime30-59DaysPastDueNotWorse</th>\n",
       "      <th>DebtRatio</th>\n",
       "      <th>MonthlyIncome</th>\n",
       "      <th>NumberOfOpenCreditLinesAndLoans</th>\n",
       "      <th>NumberOfTimes90DaysLate</th>\n",
       "      <th>NumberRealEstateLoansOrLines</th>\n",
       "      <th>NumberOfTime60-89DaysPastDueNotWorse</th>\n",
       "      <th>NumberOfDependents</th>\n",
       "    </tr>\n",
       "  </thead>\n",
       "  <tbody>\n",
       "    <tr>\n",
       "      <th>count</th>\n",
       "      <td>269.000000</td>\n",
       "      <td>269.000000</td>\n",
       "      <td>2.690000e+02</td>\n",
       "      <td>269.000000</td>\n",
       "      <td>269.000000</td>\n",
       "      <td>269.000000</td>\n",
       "      <td>148.000000</td>\n",
       "      <td>269.000000</td>\n",
       "      <td>269.000000</td>\n",
       "      <td>269.0</td>\n",
       "      <td>269.000000</td>\n",
       "      <td>238.000000</td>\n",
       "    </tr>\n",
       "    <tr>\n",
       "      <th>mean</th>\n",
       "      <td>74052.862454</td>\n",
       "      <td>0.546468</td>\n",
       "      <td>9.999999e-01</td>\n",
       "      <td>34.245353</td>\n",
       "      <td>97.962825</td>\n",
       "      <td>5.739667</td>\n",
       "      <td>2557.135135</td>\n",
       "      <td>0.007435</td>\n",
       "      <td>97.962825</td>\n",
       "      <td>0.0</td>\n",
       "      <td>97.962825</td>\n",
       "      <td>0.369748</td>\n",
       "    </tr>\n",
       "    <tr>\n",
       "      <th>std</th>\n",
       "      <td>42954.890845</td>\n",
       "      <td>0.498764</td>\n",
       "      <td>2.891960e-15</td>\n",
       "      <td>13.061823</td>\n",
       "      <td>0.270628</td>\n",
       "      <td>26.019024</td>\n",
       "      <td>2745.777653</td>\n",
       "      <td>0.086065</td>\n",
       "      <td>0.270628</td>\n",
       "      <td>0.0</td>\n",
       "      <td>0.270628</td>\n",
       "      <td>0.830490</td>\n",
       "    </tr>\n",
       "    <tr>\n",
       "      <th>min</th>\n",
       "      <td>1734.000000</td>\n",
       "      <td>0.000000</td>\n",
       "      <td>9.999999e-01</td>\n",
       "      <td>21.000000</td>\n",
       "      <td>96.000000</td>\n",
       "      <td>0.000000</td>\n",
       "      <td>0.000000</td>\n",
       "      <td>0.000000</td>\n",
       "      <td>96.000000</td>\n",
       "      <td>0.0</td>\n",
       "      <td>96.000000</td>\n",
       "      <td>0.000000</td>\n",
       "    </tr>\n",
       "    <tr>\n",
       "      <th>25%</th>\n",
       "      <td>37025.000000</td>\n",
       "      <td>0.000000</td>\n",
       "      <td>9.999999e-01</td>\n",
       "      <td>24.000000</td>\n",
       "      <td>98.000000</td>\n",
       "      <td>0.000000</td>\n",
       "      <td>1333.000000</td>\n",
       "      <td>0.000000</td>\n",
       "      <td>98.000000</td>\n",
       "      <td>0.0</td>\n",
       "      <td>98.000000</td>\n",
       "      <td>0.000000</td>\n",
       "    </tr>\n",
       "    <tr>\n",
       "      <th>50%</th>\n",
       "      <td>72518.000000</td>\n",
       "      <td>1.000000</td>\n",
       "      <td>9.999999e-01</td>\n",
       "      <td>29.000000</td>\n",
       "      <td>98.000000</td>\n",
       "      <td>0.000000</td>\n",
       "      <td>2168.500000</td>\n",
       "      <td>0.000000</td>\n",
       "      <td>98.000000</td>\n",
       "      <td>0.0</td>\n",
       "      <td>98.000000</td>\n",
       "      <td>0.000000</td>\n",
       "    </tr>\n",
       "    <tr>\n",
       "      <th>75%</th>\n",
       "      <td>109885.000000</td>\n",
       "      <td>1.000000</td>\n",
       "      <td>9.999999e-01</td>\n",
       "      <td>43.000000</td>\n",
       "      <td>98.000000</td>\n",
       "      <td>0.000000</td>\n",
       "      <td>3174.500000</td>\n",
       "      <td>0.000000</td>\n",
       "      <td>98.000000</td>\n",
       "      <td>0.0</td>\n",
       "      <td>98.000000</td>\n",
       "      <td>0.000000</td>\n",
       "    </tr>\n",
       "    <tr>\n",
       "      <th>max</th>\n",
       "      <td>149770.000000</td>\n",
       "      <td>1.000000</td>\n",
       "      <td>9.999999e-01</td>\n",
       "      <td>79.000000</td>\n",
       "      <td>98.000000</td>\n",
       "      <td>255.000000</td>\n",
       "      <td>28733.000000</td>\n",
       "      <td>1.000000</td>\n",
       "      <td>98.000000</td>\n",
       "      <td>0.0</td>\n",
       "      <td>98.000000</td>\n",
       "      <td>5.000000</td>\n",
       "    </tr>\n",
       "  </tbody>\n",
       "</table>\n",
       "</div>"
      ],
      "text/plain": [
       "          Unnamed: 0  SeriousDlqin2yrs  RevolvingUtilizationOfUnsecuredLines  \\\n",
       "count     269.000000        269.000000                          2.690000e+02   \n",
       "mean    74052.862454          0.546468                          9.999999e-01   \n",
       "std     42954.890845          0.498764                          2.891960e-15   \n",
       "min      1734.000000          0.000000                          9.999999e-01   \n",
       "25%     37025.000000          0.000000                          9.999999e-01   \n",
       "50%     72518.000000          1.000000                          9.999999e-01   \n",
       "75%    109885.000000          1.000000                          9.999999e-01   \n",
       "max    149770.000000          1.000000                          9.999999e-01   \n",
       "\n",
       "              age  NumberOfTime30-59DaysPastDueNotWorse   DebtRatio  \\\n",
       "count  269.000000                            269.000000  269.000000   \n",
       "mean    34.245353                             97.962825    5.739667   \n",
       "std     13.061823                              0.270628   26.019024   \n",
       "min     21.000000                             96.000000    0.000000   \n",
       "25%     24.000000                             98.000000    0.000000   \n",
       "50%     29.000000                             98.000000    0.000000   \n",
       "75%     43.000000                             98.000000    0.000000   \n",
       "max     79.000000                             98.000000  255.000000   \n",
       "\n",
       "       MonthlyIncome  NumberOfOpenCreditLinesAndLoans  \\\n",
       "count     148.000000                       269.000000   \n",
       "mean     2557.135135                         0.007435   \n",
       "std      2745.777653                         0.086065   \n",
       "min         0.000000                         0.000000   \n",
       "25%      1333.000000                         0.000000   \n",
       "50%      2168.500000                         0.000000   \n",
       "75%      3174.500000                         0.000000   \n",
       "max     28733.000000                         1.000000   \n",
       "\n",
       "       NumberOfTimes90DaysLate  NumberRealEstateLoansOrLines  \\\n",
       "count               269.000000                         269.0   \n",
       "mean                 97.962825                           0.0   \n",
       "std                   0.270628                           0.0   \n",
       "min                  96.000000                           0.0   \n",
       "25%                  98.000000                           0.0   \n",
       "50%                  98.000000                           0.0   \n",
       "75%                  98.000000                           0.0   \n",
       "max                  98.000000                           0.0   \n",
       "\n",
       "       NumberOfTime60-89DaysPastDueNotWorse  NumberOfDependents  \n",
       "count                            269.000000          238.000000  \n",
       "mean                              97.962825            0.369748  \n",
       "std                                0.270628            0.830490  \n",
       "min                               96.000000            0.000000  \n",
       "25%                               98.000000            0.000000  \n",
       "50%                               98.000000            0.000000  \n",
       "75%                               98.000000            0.000000  \n",
       "max                               98.000000            5.000000  "
      ]
     },
     "execution_count": 25,
     "metadata": {},
     "output_type": "execute_result"
    }
   ],
   "source": [
    "X[(Day_train['NumberOfTimes90DaysLate'] > 50)].describe()"
   ]
  },
  {
   "cell_type": "code",
   "execution_count": 26,
   "metadata": {},
   "outputs": [
    {
     "name": "stdout",
     "output_type": "stream",
     "text": [
      "AxesSubplot(0.260833,0.125;0.503333x0.755)\n"
     ]
    },
    {
     "data": {
      "image/png": "[encoded data removed]",
      "text/plain": [
       "<Figure size 432x288 with 1 Axes>"
      ]
     },
     "metadata": {},
     "output_type": "display_data"
    }
   ],
   "source": [
    "print(X[(Day_train['NumberOfTimes90DaysLate'] < 50)]['SeriousDlqin2yrs'].value_counts().plot.pie(explode=[0,0.1],autopct='%1.1f%%'))"
   ]
  },
  {
   "cell_type": "code",
   "execution_count": 27,
   "metadata": {},
   "outputs": [
    {
     "name": "stdout",
     "output_type": "stream",
     "text": [
      "AxesSubplot(0.260833,0.125;0.503333x0.755)\n"
     ]
    },
    {
     "data": {
      "image/png": "[encoded data removed]",
      "text/plain": [
       "<Figure size 432x288 with 1 Axes>"
      ]
     },
     "metadata": {},
     "output_type": "display_data"
    }
   ],
   "source": [
    "print(X[(Day_train['NumberOfTimes90DaysLate'] > 50)]['SeriousDlqin2yrs'].value_counts().plot.pie(explode=[0,0.1],autopct='%1.1f%%'))"
   ]
  },
  {
   "cell_type": "markdown",
   "metadata": {},
   "source": [
    "------------------------------------------------------------------\n",
    "NumberOfTime(N)DaysPastDueNotWorse 변수에서 이상치를 가진 고객들을 이상치를 가지지 않은 고객집단과 비교할 시, 2년 이내 파산할 확률 변수('SriosDIain2yrs')에서 유의미한 차이를 보고 있다.결과적으로, 이상치들을 가진 고객들을 그룹으로 볼때, 그룹내에서 차이가 뚜렷함을 확인할 수 있다. \n",
    "\n",
    "-------------------------------------------------------------------"
   ]
  },
  {
   "cell_type": "code",
   "execution_count": 28,
   "metadata": {},
   "outputs": [
    {
     "name": "stdout",
     "output_type": "stream",
     "text": [
      "AxesSubplot(0.260833,0.125;0.503333x0.755)\n"
     ]
    },
    {
     "data": {
      "image/png": "[encoded data removed]",
      "text/plain": [
       "<Figure size 432x288 with 1 Axes>"
      ]
     },
     "metadata": {},
     "output_type": "display_data"
    }
   ],
   "source": [
    "print(X[(Day_train['NumberOfTimes90DaysLate'] > 50)&(Day_train['NumberOfTimes90DaysLate'] > 10)]['SeriousDlqin2yrs'].value_counts().plot.pie(explode=[0,0.1],autopct='%1.1f%%'))"
   ]
  },
  {
   "cell_type": "markdown",
   "metadata": {},
   "source": [
    "------------------------------------------------------------------\n",
    "NumberOfTime(N)DaysPastDueNotWorse 변수에서 이상치가 아닌 고객 집단중 NumberOfTime90DaysLate 변수에서 10이상의 가진 고객집단과 비교할 시, 2년 이내 파산할 확률 변수('SriosDIain2yrs')에서 유사한 모습을 보여주고 있다. \n",
    "\n",
    "-------------------------------------------------------------------"
   ]
  },
  {
   "cell_type": "code",
   "execution_count": 29,
   "metadata": {},
   "outputs": [
    {
     "data": {
      "text/html": [
       "<div>\n",
       "<style scoped>\n",
       "    .dataframe tbody tr th:only-of-type {\n",
       "        vertical-align: middle;\n",
       "    }\n",
       "\n",
       "    .dataframe tbody tr th {\n",
       "        vertical-align: top;\n",
       "    }\n",
       "\n",
       "    .dataframe thead th {\n",
       "        text-align: right;\n",
       "    }\n",
       "</style>\n",
       "<table border=\"1\" class=\"dataframe\">\n",
       "  <thead>\n",
       "    <tr style=\"text-align: right;\">\n",
       "      <th></th>\n",
       "      <th>NumberOfOpenCreditLinesAndLoans</th>\n",
       "      <th>NumberRealEstateLoansOrLines</th>\n",
       "    </tr>\n",
       "  </thead>\n",
       "  <tbody>\n",
       "    <tr>\n",
       "      <th>count</th>\n",
       "      <td>149730.000000</td>\n",
       "      <td>149730.000000</td>\n",
       "    </tr>\n",
       "    <tr>\n",
       "      <th>mean</th>\n",
       "      <td>8.467949</td>\n",
       "      <td>1.020063</td>\n",
       "    </tr>\n",
       "    <tr>\n",
       "      <th>std</th>\n",
       "      <td>5.138107</td>\n",
       "      <td>1.129961</td>\n",
       "    </tr>\n",
       "    <tr>\n",
       "      <th>min</th>\n",
       "      <td>0.000000</td>\n",
       "      <td>0.000000</td>\n",
       "    </tr>\n",
       "    <tr>\n",
       "      <th>25%</th>\n",
       "      <td>5.000000</td>\n",
       "      <td>0.000000</td>\n",
       "    </tr>\n",
       "    <tr>\n",
       "      <th>50%</th>\n",
       "      <td>8.000000</td>\n",
       "      <td>1.000000</td>\n",
       "    </tr>\n",
       "    <tr>\n",
       "      <th>75%</th>\n",
       "      <td>11.000000</td>\n",
       "      <td>2.000000</td>\n",
       "    </tr>\n",
       "    <tr>\n",
       "      <th>max</th>\n",
       "      <td>58.000000</td>\n",
       "      <td>54.000000</td>\n",
       "    </tr>\n",
       "  </tbody>\n",
       "</table>\n",
       "</div>"
      ],
      "text/plain": [
       "       NumberOfOpenCreditLinesAndLoans  NumberRealEstateLoansOrLines\n",
       "count                    149730.000000                 149730.000000\n",
       "mean                          8.467949                      1.020063\n",
       "std                           5.138107                      1.129961\n",
       "min                           0.000000                      0.000000\n",
       "25%                           5.000000                      0.000000\n",
       "50%                           8.000000                      1.000000\n",
       "75%                          11.000000                      2.000000\n",
       "max                          58.000000                     54.000000"
      ]
     },
     "execution_count": 29,
     "metadata": {},
     "output_type": "execute_result"
    }
   ],
   "source": [
    "X[(X['NumberOfTimes90DaysLate'] < 50)][['NumberOfOpenCreditLinesAndLoans','NumberRealEstateLoansOrLines']].describe()"
   ]
  },
  {
   "cell_type": "code",
   "execution_count": 30,
   "metadata": {},
   "outputs": [
    {
     "data": {
      "text/html": [
       "<div>\n",
       "<style scoped>\n",
       "    .dataframe tbody tr th:only-of-type {\n",
       "        vertical-align: middle;\n",
       "    }\n",
       "\n",
       "    .dataframe tbody tr th {\n",
       "        vertical-align: top;\n",
       "    }\n",
       "\n",
       "    .dataframe thead th {\n",
       "        text-align: right;\n",
       "    }\n",
       "</style>\n",
       "<table border=\"1\" class=\"dataframe\">\n",
       "  <thead>\n",
       "    <tr style=\"text-align: right;\">\n",
       "      <th></th>\n",
       "      <th>NumberOfOpenCreditLinesAndLoans</th>\n",
       "      <th>NumberRealEstateLoansOrLines</th>\n",
       "    </tr>\n",
       "  </thead>\n",
       "  <tbody>\n",
       "    <tr>\n",
       "      <th>count</th>\n",
       "      <td>269.000000</td>\n",
       "      <td>269.0</td>\n",
       "    </tr>\n",
       "    <tr>\n",
       "      <th>mean</th>\n",
       "      <td>0.007435</td>\n",
       "      <td>0.0</td>\n",
       "    </tr>\n",
       "    <tr>\n",
       "      <th>std</th>\n",
       "      <td>0.086065</td>\n",
       "      <td>0.0</td>\n",
       "    </tr>\n",
       "    <tr>\n",
       "      <th>min</th>\n",
       "      <td>0.000000</td>\n",
       "      <td>0.0</td>\n",
       "    </tr>\n",
       "    <tr>\n",
       "      <th>25%</th>\n",
       "      <td>0.000000</td>\n",
       "      <td>0.0</td>\n",
       "    </tr>\n",
       "    <tr>\n",
       "      <th>50%</th>\n",
       "      <td>0.000000</td>\n",
       "      <td>0.0</td>\n",
       "    </tr>\n",
       "    <tr>\n",
       "      <th>75%</th>\n",
       "      <td>0.000000</td>\n",
       "      <td>0.0</td>\n",
       "    </tr>\n",
       "    <tr>\n",
       "      <th>max</th>\n",
       "      <td>1.000000</td>\n",
       "      <td>0.0</td>\n",
       "    </tr>\n",
       "  </tbody>\n",
       "</table>\n",
       "</div>"
      ],
      "text/plain": [
       "       NumberOfOpenCreditLinesAndLoans  NumberRealEstateLoansOrLines\n",
       "count                       269.000000                         269.0\n",
       "mean                          0.007435                           0.0\n",
       "std                           0.086065                           0.0\n",
       "min                           0.000000                           0.0\n",
       "25%                           0.000000                           0.0\n",
       "50%                           0.000000                           0.0\n",
       "75%                           0.000000                           0.0\n",
       "max                           1.000000                           0.0"
      ]
     },
     "execution_count": 30,
     "metadata": {},
     "output_type": "execute_result"
    }
   ],
   "source": [
    "X[(X['NumberOfTimes90DaysLate'] > 50)][['NumberOfOpenCreditLinesAndLoans','NumberRealEstateLoansOrLines']].describe()"
   ]
  },
  {
   "cell_type": "markdown",
   "metadata": {},
   "source": [
    "------------------------------------------------------------------\n",
    "NumberOfTime(N)DaysPastDueNotWorse 변수에서 이상치를 가진 고객들을 이상치를 가지지 않은 고객집단과 비교할 시, 'NumberOfOpenCreditLinesAndLoans'와 'NumberRealEstateLoansOrLines' 변수에서 평균이 0에 가까운 특징을 보이고 있다.\n",
    "다만, 이는 좀 더 추가적인 분석 및 자료조사가 필요할 것으로 보인다.\n",
    "\n",
    "-------------------------------------------------------------------"
   ]
  },
  {
   "cell_type": "code",
   "execution_count": 31,
   "metadata": {},
   "outputs": [],
   "source": [
    "X.loc[X['NumberOfTime30-59DaysPastDueNotWorse'] >= 50, 'NumberOfTime30-59DaysPastDueNotWorse'] = 13\n",
    "X.loc[X['NumberOfTime60-89DaysPastDueNotWorse'] >= 50, 'NumberOfTime60-89DaysPastDueNotWorse'] = 11\n",
    "X.loc[X['NumberOfTimes90DaysLate'] >= 50, 'NumberOfTimes90DaysLate'] = 17"
   ]
  },
  {
   "cell_type": "code",
   "execution_count": 32,
   "metadata": {},
   "outputs": [],
   "source": [
    "Y.loc[Y['NumberOfTime30-59DaysPastDueNotWorse'] >= 50, 'NumberOfTime30-59DaysPastDueNotWorse'] = 13\n",
    "Y.loc[Y['NumberOfTime60-89DaysPastDueNotWorse'] >= 50, 'NumberOfTime60-89DaysPastDueNotWorse'] = 11\n",
    "Y.loc[Y['NumberOfTimes90DaysLate'] >= 50, 'NumberOfTimes90DaysLate'] = 17"
   ]
  },
  {
   "cell_type": "markdown",
   "metadata": {},
   "source": [
    "### (7) NumberOfDependents 분석 및 처리\n",
    "- Train, Test 데이터 모두 약 2~3% 정도의 결측치를 보유하고 있다"
   ]
  },
  {
   "cell_type": "code",
   "execution_count": 33,
   "metadata": {},
   "outputs": [
    {
     "data": {
      "image/png": "[encoded data removed]",
      "text/plain": [
       "<Figure size 432x288 with 2 Axes>"
      ]
     },
     "metadata": {
      "needs_background": "light"
     },
     "output_type": "display_data"
    }
   ],
   "source": [
    "plt.suptitle('NumberOfDependents',fontsize=13)\n",
    "plt.subplots_adjust(top=0.82)\n",
    "\n",
    "ax1 = plt.subplot(1,2,1)\n",
    "plt.boxplot(X['NumberOfDependents'].dropna())\n",
    "plt.title(\"Train\")\n",
    "\n",
    "ax2 = plt.subplot(1,2,2)\n",
    "plt.boxplot(Y['NumberOfDependents'].dropna())\n",
    "plt.title(\"Test\")\n",
    "plt.show()"
   ]
  },
  {
   "cell_type": "code",
   "execution_count": 34,
   "metadata": {},
   "outputs": [
    {
     "data": {
      "text/plain": [
       "count    146075.000000\n",
       "mean          0.757214\n",
       "std           1.115085\n",
       "min           0.000000\n",
       "25%           0.000000\n",
       "50%           0.000000\n",
       "75%           1.000000\n",
       "max          20.000000\n",
       "Name: NumberOfDependents, dtype: float64"
      ]
     },
     "execution_count": 34,
     "metadata": {},
     "output_type": "execute_result"
    }
   ],
   "source": [
    "X['NumberOfDependents'].describe()"
   ]
  },
  {
   "cell_type": "code",
   "execution_count": 35,
   "metadata": {},
   "outputs": [
    {
     "data": {
      "text/plain": [
       "count     2.000000\n",
       "mean     16.500000\n",
       "std       4.949747\n",
       "min      13.000000\n",
       "25%      14.750000\n",
       "50%      16.500000\n",
       "75%      18.250000\n",
       "max      20.000000\n",
       "Name: NumberOfDependents, dtype: float64"
      ]
     },
     "execution_count": 35,
     "metadata": {},
     "output_type": "execute_result"
    }
   ],
   "source": [
    "X[(X['NumberOfDependents'] > 10)]['NumberOfDependents'].describe()"
   ]
  },
  {
   "cell_type": "code",
   "execution_count": 36,
   "metadata": {},
   "outputs": [
    {
     "name": "stdout",
     "output_type": "stream",
     "text": [
      "AxesSubplot(0.260833,0.125;0.503333x0.755)\n"
     ]
    },
    {
     "data": {
      "image/png": "[encoded data removed]",
      "text/plain": [
       "<Figure size 432x288 with 1 Axes>"
      ]
     },
     "metadata": {},
     "output_type": "display_data"
    }
   ],
   "source": [
    "print(X[(X['NumberOfDependents'] == 0)]['SeriousDlqin2yrs'].value_counts().plot.pie(explode=[0,0.1],autopct='%1.1f%%'))"
   ]
  },
  {
   "cell_type": "code",
   "execution_count": 37,
   "metadata": {},
   "outputs": [
    {
     "name": "stdout",
     "output_type": "stream",
     "text": [
      "AxesSubplot(0.260833,0.125;0.503333x0.755)\n"
     ]
    },
    {
     "data": {
      "image/png": "[encoded data removed]",
      "text/plain": [
       "<Figure size 432x288 with 1 Axes>"
      ]
     },
     "metadata": {},
     "output_type": "display_data"
    }
   ],
   "source": [
    "print(X[X['NumberOfDependents'].isnull() == True]['SeriousDlqin2yrs'].value_counts().plot.pie(explode=[0,0.1],autopct='%1.1f%%'))"
   ]
  },
  {
   "cell_type": "code",
   "execution_count": 38,
   "metadata": {},
   "outputs": [
    {
     "data": {
      "text/html": [
       "<div>\n",
       "<style scoped>\n",
       "    .dataframe tbody tr th:only-of-type {\n",
       "        vertical-align: middle;\n",
       "    }\n",
       "\n",
       "    .dataframe tbody tr th {\n",
       "        vertical-align: top;\n",
       "    }\n",
       "\n",
       "    .dataframe thead th {\n",
       "        text-align: right;\n",
       "    }\n",
       "</style>\n",
       "<table border=\"1\" class=\"dataframe\">\n",
       "  <thead>\n",
       "    <tr style=\"text-align: right;\">\n",
       "      <th></th>\n",
       "      <th>Unnamed: 0</th>\n",
       "      <th>SeriousDlqin2yrs</th>\n",
       "      <th>RevolvingUtilizationOfUnsecuredLines</th>\n",
       "      <th>age</th>\n",
       "      <th>NumberOfTime30-59DaysPastDueNotWorse</th>\n",
       "      <th>DebtRatio</th>\n",
       "      <th>MonthlyIncome</th>\n",
       "      <th>NumberOfOpenCreditLinesAndLoans</th>\n",
       "      <th>NumberOfTimes90DaysLate</th>\n",
       "      <th>NumberRealEstateLoansOrLines</th>\n",
       "      <th>NumberOfTime60-89DaysPastDueNotWorse</th>\n",
       "      <th>NumberOfDependents</th>\n",
       "    </tr>\n",
       "  </thead>\n",
       "  <tbody>\n",
       "    <tr>\n",
       "      <th>8</th>\n",
       "      <td>9</td>\n",
       "      <td>0</td>\n",
       "      <td>0.116951</td>\n",
       "      <td>27</td>\n",
       "      <td>0</td>\n",
       "      <td>46.0</td>\n",
       "      <td>NaN</td>\n",
       "      <td>2</td>\n",
       "      <td>0</td>\n",
       "      <td>0</td>\n",
       "      <td>0</td>\n",
       "      <td>NaN</td>\n",
       "    </tr>\n",
       "    <tr>\n",
       "      <th>96</th>\n",
       "      <td>97</td>\n",
       "      <td>0</td>\n",
       "      <td>0.542243</td>\n",
       "      <td>48</td>\n",
       "      <td>2</td>\n",
       "      <td>10.0</td>\n",
       "      <td>NaN</td>\n",
       "      <td>2</td>\n",
       "      <td>0</td>\n",
       "      <td>0</td>\n",
       "      <td>0</td>\n",
       "      <td>NaN</td>\n",
       "    </tr>\n",
       "    <tr>\n",
       "      <th>109</th>\n",
       "      <td>110</td>\n",
       "      <td>0</td>\n",
       "      <td>0.041258</td>\n",
       "      <td>61</td>\n",
       "      <td>0</td>\n",
       "      <td>4739.0</td>\n",
       "      <td>NaN</td>\n",
       "      <td>11</td>\n",
       "      <td>0</td>\n",
       "      <td>4</td>\n",
       "      <td>0</td>\n",
       "      <td>NaN</td>\n",
       "    </tr>\n",
       "    <tr>\n",
       "      <th>159</th>\n",
       "      <td>160</td>\n",
       "      <td>0</td>\n",
       "      <td>0.000000</td>\n",
       "      <td>63</td>\n",
       "      <td>0</td>\n",
       "      <td>2.0</td>\n",
       "      <td>NaN</td>\n",
       "      <td>4</td>\n",
       "      <td>0</td>\n",
       "      <td>0</td>\n",
       "      <td>0</td>\n",
       "      <td>NaN</td>\n",
       "    </tr>\n",
       "    <tr>\n",
       "      <th>238</th>\n",
       "      <td>239</td>\n",
       "      <td>0</td>\n",
       "      <td>1.000000</td>\n",
       "      <td>28</td>\n",
       "      <td>0</td>\n",
       "      <td>0.0</td>\n",
       "      <td>NaN</td>\n",
       "      <td>0</td>\n",
       "      <td>0</td>\n",
       "      <td>0</td>\n",
       "      <td>0</td>\n",
       "      <td>NaN</td>\n",
       "    </tr>\n",
       "    <tr>\n",
       "      <th>...</th>\n",
       "      <td>...</td>\n",
       "      <td>...</td>\n",
       "      <td>...</td>\n",
       "      <td>...</td>\n",
       "      <td>...</td>\n",
       "      <td>...</td>\n",
       "      <td>...</td>\n",
       "      <td>...</td>\n",
       "      <td>...</td>\n",
       "      <td>...</td>\n",
       "      <td>...</td>\n",
       "      <td>...</td>\n",
       "    </tr>\n",
       "    <tr>\n",
       "      <th>149826</th>\n",
       "      <td>149827</td>\n",
       "      <td>0</td>\n",
       "      <td>0.027319</td>\n",
       "      <td>71</td>\n",
       "      <td>0</td>\n",
       "      <td>1419.0</td>\n",
       "      <td>NaN</td>\n",
       "      <td>13</td>\n",
       "      <td>0</td>\n",
       "      <td>1</td>\n",
       "      <td>0</td>\n",
       "      <td>NaN</td>\n",
       "    </tr>\n",
       "    <tr>\n",
       "      <th>149854</th>\n",
       "      <td>149855</td>\n",
       "      <td>0</td>\n",
       "      <td>0.056589</td>\n",
       "      <td>75</td>\n",
       "      <td>0</td>\n",
       "      <td>8.0</td>\n",
       "      <td>NaN</td>\n",
       "      <td>3</td>\n",
       "      <td>0</td>\n",
       "      <td>0</td>\n",
       "      <td>0</td>\n",
       "      <td>NaN</td>\n",
       "    </tr>\n",
       "    <tr>\n",
       "      <th>149894</th>\n",
       "      <td>149895</td>\n",
       "      <td>0</td>\n",
       "      <td>0.017904</td>\n",
       "      <td>55</td>\n",
       "      <td>0</td>\n",
       "      <td>1058.0</td>\n",
       "      <td>NaN</td>\n",
       "      <td>8</td>\n",
       "      <td>0</td>\n",
       "      <td>1</td>\n",
       "      <td>1</td>\n",
       "      <td>NaN</td>\n",
       "    </tr>\n",
       "    <tr>\n",
       "      <th>149948</th>\n",
       "      <td>149949</td>\n",
       "      <td>0</td>\n",
       "      <td>0.055530</td>\n",
       "      <td>27</td>\n",
       "      <td>0</td>\n",
       "      <td>10.0</td>\n",
       "      <td>NaN</td>\n",
       "      <td>1</td>\n",
       "      <td>0</td>\n",
       "      <td>0</td>\n",
       "      <td>0</td>\n",
       "      <td>NaN</td>\n",
       "    </tr>\n",
       "    <tr>\n",
       "      <th>149965</th>\n",
       "      <td>149966</td>\n",
       "      <td>0</td>\n",
       "      <td>1.000000</td>\n",
       "      <td>27</td>\n",
       "      <td>0</td>\n",
       "      <td>98.0</td>\n",
       "      <td>NaN</td>\n",
       "      <td>2</td>\n",
       "      <td>0</td>\n",
       "      <td>0</td>\n",
       "      <td>0</td>\n",
       "      <td>NaN</td>\n",
       "    </tr>\n",
       "  </tbody>\n",
       "</table>\n",
       "<p>3924 rows × 12 columns</p>\n",
       "</div>"
      ],
      "text/plain": [
       "        Unnamed: 0  SeriousDlqin2yrs  RevolvingUtilizationOfUnsecuredLines  \\\n",
       "8                9                 0                              0.116951   \n",
       "96              97                 0                              0.542243   \n",
       "109            110                 0                              0.041258   \n",
       "159            160                 0                              0.000000   \n",
       "238            239                 0                              1.000000   \n",
       "...            ...               ...                                   ...   \n",
       "149826      149827                 0                              0.027319   \n",
       "149854      149855                 0                              0.056589   \n",
       "149894      149895                 0                              0.017904   \n",
       "149948      149949                 0                              0.055530   \n",
       "149965      149966                 0                              1.000000   \n",
       "\n",
       "        age  NumberOfTime30-59DaysPastDueNotWorse  DebtRatio  MonthlyIncome  \\\n",
       "8        27                                     0       46.0            NaN   \n",
       "96       48                                     2       10.0            NaN   \n",
       "109      61                                     0     4739.0            NaN   \n",
       "159      63                                     0        2.0            NaN   \n",
       "238      28                                     0        0.0            NaN   \n",
       "...     ...                                   ...        ...            ...   \n",
       "149826   71                                     0     1419.0            NaN   \n",
       "149854   75                                     0        8.0            NaN   \n",
       "149894   55                                     0     1058.0            NaN   \n",
       "149948   27                                     0       10.0            NaN   \n",
       "149965   27                                     0       98.0            NaN   \n",
       "\n",
       "        NumberOfOpenCreditLinesAndLoans  NumberOfTimes90DaysLate  \\\n",
       "8                                     2                        0   \n",
       "96                                    2                        0   \n",
       "109                                  11                        0   \n",
       "159                                   4                        0   \n",
       "238                                   0                        0   \n",
       "...                                 ...                      ...   \n",
       "149826                               13                        0   \n",
       "149854                                3                        0   \n",
       "149894                                8                        0   \n",
       "149948                                1                        0   \n",
       "149965                                2                        0   \n",
       "\n",
       "        NumberRealEstateLoansOrLines  NumberOfTime60-89DaysPastDueNotWorse  \\\n",
       "8                                  0                                     0   \n",
       "96                                 0                                     0   \n",
       "109                                4                                     0   \n",
       "159                                0                                     0   \n",
       "238                                0                                     0   \n",
       "...                              ...                                   ...   \n",
       "149826                             1                                     0   \n",
       "149854                             0                                     0   \n",
       "149894                             1                                     1   \n",
       "149948                             0                                     0   \n",
       "149965                             0                                     0   \n",
       "\n",
       "        NumberOfDependents  \n",
       "8                      NaN  \n",
       "96                     NaN  \n",
       "109                    NaN  \n",
       "159                    NaN  \n",
       "238                    NaN  \n",
       "...                    ...  \n",
       "149826                 NaN  \n",
       "149854                 NaN  \n",
       "149894                 NaN  \n",
       "149948                 NaN  \n",
       "149965                 NaN  \n",
       "\n",
       "[3924 rows x 12 columns]"
      ]
     },
     "execution_count": 38,
     "metadata": {},
     "output_type": "execute_result"
    }
   ],
   "source": [
    "X[X['NumberOfDependents'].isnull() == True]"
   ]
  },
  {
   "cell_type": "code",
   "execution_count": 39,
   "metadata": {},
   "outputs": [
    {
     "data": {
      "text/plain": [
       "count    0.0\n",
       "mean     NaN\n",
       "std      NaN\n",
       "min      NaN\n",
       "25%      NaN\n",
       "50%      NaN\n",
       "75%      NaN\n",
       "max      NaN\n",
       "Name: MonthlyIncome, dtype: float64"
      ]
     },
     "execution_count": 39,
     "metadata": {},
     "output_type": "execute_result"
    }
   ],
   "source": [
    "X[X['NumberOfDependents'].isnull() == True]['MonthlyIncome'].describe()"
   ]
  },
  {
   "cell_type": "code",
   "execution_count": 40,
   "metadata": {},
   "outputs": [
    {
     "data": {
      "text/plain": [
       "count    0.0\n",
       "mean     NaN\n",
       "std      NaN\n",
       "min      NaN\n",
       "25%      NaN\n",
       "50%      NaN\n",
       "75%      NaN\n",
       "max      NaN\n",
       "Name: MonthlyIncome, dtype: float64"
      ]
     },
     "execution_count": 40,
     "metadata": {},
     "output_type": "execute_result"
    }
   ],
   "source": [
    "Y[Y['NumberOfDependents'].isnull() == True]['MonthlyIncome'].describe()"
   ]
  },
  {
   "cell_type": "markdown",
   "metadata": {},
   "source": [
    "______________________________________________________________________________\n",
    "특이한 점은, NumberOfDependents 변수가 결측치인 경우, MonthlyIncome 변수 역시 모두 결측치라는 점이다. 이는 은행이 고객정보 기재시, 공통적으로 데이터를 기재하지 않았을 확률이 높아 보인다. 이럴 경우, 현재 NumberOfDependents의 변수에서 과반을 차지하고 있는 최빈값 0을 부여하는 것이 적절해보인다.\n",
    "\n",
    "(참고. NumberOfDependets 변수 결측치 비율은 3% 내외, MonthlyIncome 변수 결측치 비율은 20% 내외)\n",
    "______________________________________________________________________________"
   ]
  },
  {
   "cell_type": "code",
   "execution_count": 41,
   "metadata": {},
   "outputs": [],
   "source": [
    "X.loc[X['NumberOfDependents'].isnull() == True, 'NumberOfDependents'] = 0\n",
    "Y.loc[Y['NumberOfDependents'].isnull() == True, 'NumberOfDependents'] = 0"
   ]
  },
  {
   "cell_type": "markdown",
   "metadata": {},
   "source": [
    "### (8) MonthlyIncome 변수 분석 및 처리"
   ]
  },
  {
   "cell_type": "code",
   "execution_count": 42,
   "metadata": {},
   "outputs": [
    {
     "data": {
      "image/png": "[encoded data removed]",
      "text/plain": [
       "<Figure size 432x288 with 2 Axes>"
      ]
     },
     "metadata": {
      "needs_background": "light"
     },
     "output_type": "display_data"
    }
   ],
   "source": [
    "plt.suptitle('MonthlyIncome',fontsize=13)\n",
    "plt.subplots_adjust(top=0.82)\n",
    "\n",
    "ax1 = plt.subplot(1,2,1)\n",
    "plt.boxplot(X['MonthlyIncome'].dropna())\n",
    "plt.title(\"Train\")\n",
    "\n",
    "ax2 = plt.subplot(1,2,2)\n",
    "plt.boxplot(Y['MonthlyIncome'].dropna())\n",
    "plt.title(\"Test\")\n",
    "plt.show()"
   ]
  },
  {
   "cell_type": "code",
   "execution_count": 43,
   "metadata": {},
   "outputs": [
    {
     "data": {
      "text/plain": [
       "count    1.202680e+05\n",
       "mean     6.670227e+03\n",
       "std      1.438473e+04\n",
       "min      0.000000e+00\n",
       "25%      3.400000e+03\n",
       "50%      5.400000e+03\n",
       "75%      8.249000e+03\n",
       "max      3.008750e+06\n",
       "Name: MonthlyIncome, dtype: float64"
      ]
     },
     "execution_count": 43,
     "metadata": {},
     "output_type": "execute_result"
    }
   ],
   "source": [
    "X['MonthlyIncome'].describe()"
   ]
  },
  {
   "cell_type": "code",
   "execution_count": 44,
   "metadata": {},
   "outputs": [],
   "source": [
    "X['MonthlyIncome'].fillna(X['MonthlyIncome'].median(), inplace=True)\n",
    "Y['MonthlyIncome'].fillna(Y['MonthlyIncome'].median(), inplace=True)"
   ]
  },
  {
   "cell_type": "markdown",
   "metadata": {},
   "source": [
    "### (9) 나머지 변수 확인"
   ]
  },
  {
   "cell_type": "code",
   "execution_count": 45,
   "metadata": {},
   "outputs": [
    {
     "data": {
      "image/png": "[encoded data removed]",
      "text/plain": [
       "<Figure size 432x288 with 2 Axes>"
      ]
     },
     "metadata": {
      "needs_background": "light"
     },
     "output_type": "display_data"
    }
   ],
   "source": [
    "plt.suptitle('NumberOfOpenCreditLinesAndLoans',fontsize=13)\n",
    "plt.subplots_adjust(top=0.82)\n",
    "\n",
    "ax1 = plt.subplot(1,2,1)\n",
    "plt.boxplot(X['NumberOfOpenCreditLinesAndLoans'])\n",
    "plt.title(\"Train\")\n",
    "\n",
    "ax1 = plt.subplot(1,2,2)\n",
    "plt.boxplot(Y['NumberOfOpenCreditLinesAndLoans'])\n",
    "plt.title(\"Test\")\n",
    "plt.show()"
   ]
  },
  {
   "cell_type": "code",
   "execution_count": 46,
   "metadata": {},
   "outputs": [
    {
     "data": {
      "image/png": "[encoded data removed]",
      "text/plain": [
       "<Figure size 432x288 with 2 Axes>"
      ]
     },
     "metadata": {
      "needs_background": "light"
     },
     "output_type": "display_data"
    }
   ],
   "source": [
    "plt.suptitle('NumberRealEstateLoansOrLines',fontsize=13)\n",
    "plt.subplots_adjust(top=0.82)\n",
    "\n",
    "ax1 = plt.subplot(1,2,1)\n",
    "plt.boxplot(X['NumberRealEstateLoansOrLines'])\n",
    "plt.title(\"Train\")\n",
    "\n",
    "ax1 = plt.subplot(1,2,2)\n",
    "plt.boxplot(Y['NumberRealEstateLoansOrLines'])\n",
    "plt.title(\"Test\")\n",
    "plt.show()"
   ]
  },
  {
   "cell_type": "markdown",
   "metadata": {},
   "source": [
    "_______________________________________________________________________\n",
    "나머지 변수들은 정상적인 범주내에서 존재하는 수치로 판단하여 이상치로 판단하지 않았다\n",
    "\n",
    "-----------------------------------------------------------------"
   ]
  },
  {
   "cell_type": "markdown",
   "metadata": {},
   "source": [
    "##### [추후 변수 추가 예정]"
   ]
  },
  {
   "cell_type": "markdown",
   "metadata": {},
   "source": [
    "### III. 모델링"
   ]
  },
  {
   "cell_type": "markdown",
   "metadata": {},
   "source": [
    "\n",
    "분류에 적용하기위해 적합한 알고리즘들을 취사선택하여 적용해보았습니다.\n",
    "- 독립변수와 종속변수의 선형 관계성에 기반한 로지스틱 회귀\n",
    "- 데이터 균일도에 따른 규칙 기반의 결정트리\n",
    "- 개별 글래스 간의 최대 분류 마진을 효과적으로 찾아주는 서포트 벡터 머신\n",
    "- 근접 거리를 기준으로 하는 최소 근접 알고리즘\n",
    "- 서로 다른 머신러닝 알고리즘을 결합한 앙상블\n"
   ]
  },
  {
   "cell_type": "markdown",
   "metadata": {},
   "source": [
    "### (0) 진행을 위한 준비"
   ]
  },
  {
   "cell_type": "markdown",
   "metadata": {},
   "source": [
    "#### GridCV를 활용한 최적의 파라메터를 탐색하기 위해 Train 데이터 내에서 Train 데이터와 Test 데이터로 나눠준다"
   ]
  },
  {
   "cell_type": "code",
   "execution_count": 47,
   "metadata": {},
   "outputs": [],
   "source": [
    "from sklearn.naive_bayes import GaussianNB \n",
    "from sklearn.linear_model import LogisticRegression\n",
    "from sklearn.tree import DecisionTreeClassifier\n",
    "from sklearn import svm \n",
    "from sklearn.neighbors import KNeighborsClassifier \n",
    "from sklearn.ensemble import RandomForestClassifier\n",
    "import xgboost as xgb\n",
    "from xgboost import XGBClassifier\n",
    "from lightgbm import LGBMClassifier\n",
    "\n",
    "from sklearn.model_selection import train_test_split \n",
    "from sklearn import metrics \n",
    "from sklearn.metrics import confusion_matrix, accuracy_score\n",
    "from sklearn.metrics import precision_score, recall_score\n",
    "from sklearn.metrics import f1_score, roc_auc_score"
   ]
  },
  {
   "cell_type": "code",
   "execution_count": 48,
   "metadata": {},
   "outputs": [],
   "source": [
    "from sklearn.model_selection import GridSearchCV\n",
    "from sklearn.model_selection import KFold #for K-fold cross validation\n",
    "from sklearn.model_selection import cross_val_score #score evaluation\n",
    "from sklearn.model_selection import cross_val_predict #prediction"
   ]
  },
  {
   "cell_type": "code",
   "execution_count": 49,
   "metadata": {},
   "outputs": [],
   "source": [
    "from sklearn.tree import DecisionTreeClassifier\n",
    "from sklearn.metrics import accuracy_score, roc_auc_score\n",
    "from sklearn.model_selection import train_test_split"
   ]
  },
  {
   "cell_type": "code",
   "execution_count": 50,
   "metadata": {},
   "outputs": [],
   "source": [
    "from sklearn.model_selection import GridSearchCV\n",
    "import warnings\n",
    "warnings.filterwarnings('ignore')"
   ]
  },
  {
   "cell_type": "code",
   "execution_count": 51,
   "metadata": {},
   "outputs": [],
   "source": [
    "X = X.drop(['Unnamed: 0'], axis=1)\n",
    "Y = Y.drop(['Unnamed: 0'], axis=1)"
   ]
  },
  {
   "cell_type": "code",
   "execution_count": 66,
   "metadata": {},
   "outputs": [],
   "source": [
    "Y = Y.drop(['SeriousDlqin2yrs'], axis=1)"
   ]
  },
  {
   "cell_type": "code",
   "execution_count": 52,
   "metadata": {},
   "outputs": [],
   "source": [
    "X_target = X.drop('SeriousDlqin2yrs', axis=1)\n",
    "X_features = X['SeriousDlqin2yrs']"
   ]
  },
  {
   "cell_type": "code",
   "execution_count": 53,
   "metadata": {},
   "outputs": [],
   "source": [
    "train_X, test_X, train_Y, test_Y = train_test_split( X_target,X_features, test_size=0.3 , random_state=0)"
   ]
  },
  {
   "cell_type": "code",
   "execution_count": 54,
   "metadata": {},
   "outputs": [
    {
     "name": "stdout",
     "output_type": "stream",
     "text": [
      "<class 'pandas.core.frame.DataFrame'>\n",
      "Int64Index: 104999 entries, 120043 to 43567\n",
      "Data columns (total 10 columns):\n",
      " #   Column                                Non-Null Count   Dtype  \n",
      "---  ------                                --------------   -----  \n",
      " 0   RevolvingUtilizationOfUnsecuredLines  104999 non-null  float64\n",
      " 1   age                                   104999 non-null  int64  \n",
      " 2   NumberOfTime30-59DaysPastDueNotWorse  104999 non-null  int64  \n",
      " 3   DebtRatio                             104999 non-null  float64\n",
      " 4   MonthlyIncome                         104999 non-null  float64\n",
      " 5   NumberOfOpenCreditLinesAndLoans       104999 non-null  int64  \n",
      " 6   NumberOfTimes90DaysLate               104999 non-null  int64  \n",
      " 7   NumberRealEstateLoansOrLines          104999 non-null  int64  \n",
      " 8   NumberOfTime60-89DaysPastDueNotWorse  104999 non-null  int64  \n",
      " 9   NumberOfDependents                    104999 non-null  float64\n",
      "dtypes: float64(4), int64(6)\n",
      "memory usage: 8.8 MB\n"
     ]
    }
   ],
   "source": [
    "pd.DataFrame(train_X).info()"
   ]
  },
  {
   "cell_type": "markdown",
   "metadata": {},
   "source": [
    "### (1) 모델 시범 적용"
   ]
  },
  {
   "cell_type": "markdown",
   "metadata": {},
   "source": [
    "\n",
    "#### 가우시안 나이브 베이즈\n",
    "- 나이브 베이즈 모델은 훈련과 예측 속도가 빠르며 훈련 과정을 이해하기 쉽습니다. 희소한 고차원 데이터에서 잘 작동하며 비교적 매개변수에 민감하지 않습니다. 특히, GaussianNB는 대부분 매우 고차원인 데이터셋에 사용하며, 타 나이브 베이즈 모델은 텍스트 같은 희소한 데이터를 카운트하는 데 사용합니다."
   ]
  },
  {
   "cell_type": "code",
   "execution_count": 312,
   "metadata": {},
   "outputs": [
    {
     "name": "stdout",
     "output_type": "stream",
     "text": [
      "The roc_auc_score of the NaiveBayes is 0.7072229941610445\n"
     ]
    }
   ],
   "source": [
    "# Gaussian Naive Bayes\n",
    "model=GaussianNB()\n",
    "model.fit(train_X,train_Y)\n",
    "prediction1=model.predict(test_X)\n",
    "print('The roc_auc_score of the NaiveBayes is',metrics.roc_auc_score(prediction1,test_Y))"
   ]
  },
  {
   "cell_type": "code",
   "execution_count": null,
   "metadata": {},
   "outputs": [],
   "source": [
    "# Radial Support Vector Machines(rbf-SVM)\n",
    "model=svm.SVC(kernel='rbf',C=1,gamma=0.1)\n",
    "model.fit(train_X,train_Y)\n",
    "\n",
    "prediction4=model.predict(test_X)\n",
    "print('The roc_auc_score of the rbf-SVM is',metrics.roc_auc_score(prediction4,test_Y))"
   ]
  },
  {
   "cell_type": "markdown",
   "metadata": {},
   "source": [
    "#### 로지스틱 회귀\n",
    "- 선형회귀 방식을 분류에 적용한 알고리즘입니다. 선형함수의 회귀 최적선을 찾는 선형회귀와 달리 **로지스틱 회귀는 학습을 통해 시그모이드(Sigmoid)함수 최적선을 찾고, 이 시그모이드 함수의 반환 값을 확률로 간주해 확률에 따라 분류를 결정하는 방식입니다.**"
   ]
  },
  {
   "cell_type": "code",
   "execution_count": 314,
   "metadata": {},
   "outputs": [
    {
     "name": "stdout",
     "output_type": "stream",
     "text": [
      "The roc_auc_score of the Logistic Regression is 0.7584463914130543\n"
     ]
    }
   ],
   "source": [
    "# Logistic Regression\n",
    "model = LogisticRegression()\n",
    "model.fit(train_X,train_Y)\n",
    "prediction2=model.predict(test_X)\n",
    "print('The roc_auc_score of the Logistic Regression is',metrics.roc_auc_score(prediction2,test_Y))"
   ]
  },
  {
   "cell_type": "markdown",
   "metadata": {},
   "source": [
    "#### 의사결정나무\n",
    "- 의사결정나무는 의사결정 규칙을 나무 구조로 나타내어 전체 자료를 몇 개의 소집단으로 분류하거나 예측을 수행하는 분석방법이다. 이때 몇 개의 소집단(노드)로 분류될 때, 이 때 소집단내에선 동질성이 커지고, 소집단간에는 이질성이 가장 커지도록 선택된다. **이때, 카이제곱통계량  P값과 지니지수 가 모두 작아지는 방향으로 분류를 진행한다.**"
   ]
  },
  {
   "cell_type": "code",
   "execution_count": 57,
   "metadata": {},
   "outputs": [
    {
     "name": "stdout",
     "output_type": "stream",
     "text": [
      "The roc_auc_score of the Logistic Regression is 0.5948518296388108\n"
     ]
    }
   ],
   "source": [
    "#Decison Tree\n",
    "dt_clf=DecisionTreeClassifier(random_state=0)\n",
    "dt_clf.fit(train_X,train_Y)\n",
    "prediction2=dt_clf.predict(test_X)\n",
    "print('The roc_auc_score of the Logistic Regression is',metrics.roc_auc_score(prediction2,test_Y))"
   ]
  },
  {
   "cell_type": "markdown",
   "metadata": {},
   "source": [
    "#### 배깅 방법\n",
    "동일한 알고리즘(ex.의사결정나무)로 여러 개의 분류기를 만들어서 투표를 통해 최종 결정하는 알고리즘이다. 분류기들에 가중치를 주어 선형결합을 통해 최종 결과를 예측하는 방법에 해당한다. 쉽게 말해 기본적인 의사결정나무와는 달리 부트스트랩  방식을 통해 전체데이터에서 중복을 허용하여 n개의 데이터를 추출하고, 또한 피처값 중에서 중복 허용 없이 k개를 추출하여 만든 데이터를 바탕으로 분류기에 넣어 데이터를 예측한다. 이러한 과정을 여러 번 반복하여 여러 개의 분류기에서 나온 결과값을 바탕으로 예측을 진행한다.\n",
    "\n",
    "- RandomForest Classifier"
   ]
  },
  {
   "cell_type": "code",
   "execution_count": 57,
   "metadata": {},
   "outputs": [
    {
     "name": "stdout",
     "output_type": "stream",
     "text": [
      "The roc_auc_score of the RandomForest Classifier is 0.7385069785495897\n"
     ]
    }
   ],
   "source": [
    "#RandomForest Classifier\n",
    "dt_rf = RandomForestClassifier(random_state=0)\n",
    "dt_rf.fit(train_X,train_Y)\n",
    "prediction2=dt_rf.predict(test_X)\n",
    "print('The roc_auc_score of the RandomForest Classifier is',metrics.roc_auc_score(prediction2,test_Y))"
   ]
  },
  {
   "cell_type": "markdown",
   "metadata": {},
   "source": [
    "#### 부스팅 방법\n",
    "부스팅 알고리즘은 분포에 대해 약한 학습자를 반복적으로 학습시켜 최종적으로 강한 학습자를 만드는 것을 목표로한다. 강한 학습자를 만들기 위해 약한 학습자들의 잔차가 큰 잘못 예측한 데이터에 대해 가중치를 부여하여 예측성을 향상시키고자 한다. \n",
    "\n",
    "- XGBClassifier\n",
    "- LightGBM"
   ]
  },
  {
   "cell_type": "code",
   "execution_count": 60,
   "metadata": {},
   "outputs": [
    {
     "name": "stdout",
     "output_type": "stream",
     "text": [
      "The roc_auc_score of the XGBClassifier is 0.7441114404831323\n"
     ]
    }
   ],
   "source": [
    "#XGBClassifier\n",
    "xgb_wrapper = XGBClassifier()\n",
    "xgb_wrapper.fit(train_X,train_Y)\n",
    "prediction2=xgb_wrapper.predict(test_X)\n",
    "print('The roc_auc_score of the XGBClassifier is', metrics.roc_auc_score(prediction2,test_Y))"
   ]
  },
  {
   "cell_type": "markdown",
   "metadata": {},
   "source": [
    "참고)\n",
    "LightGBM은 XG부스트의 개선 분류모델에 해당한다. XG부스트는 부스팅 모델중에서 상대적으로 빠르긴하나, 여전히 시간이 오래 걸린다는 문제점을 가지고 있습니다. 예측성을 유지하면서도 이러한 문제를 해결한 알고리즘이 LightGBM이다. LightGBM은 대용량 데이터 처리에 적합하며, 메모리 사용량도 적으며, CPU뿐만 아니라 GPU도 활용가능하다. 다만, 너무 적은 양의 데이터에 사용시 과적합 문제가 발생할 가능성이 높다"
   ]
  },
  {
   "cell_type": "code",
   "execution_count": 62,
   "metadata": {},
   "outputs": [
    {
     "name": "stdout",
     "output_type": "stream",
     "text": [
      "The roc_auc_score of the LGBMClassifier is 0.7616870702921765\n"
     ]
    }
   ],
   "source": [
    "lgb_wrapper = LGBMClassifier()\n",
    "lgb_wrapper.fit(train_X,train_Y)\n",
    "prediction2=lgb_wrapper.predict(test_X)\n",
    "print('The roc_auc_score of the LGBMClassifier is', metrics.roc_auc_score(prediction2,test_Y))"
   ]
  },
  {
   "cell_type": "markdown",
   "metadata": {},
   "source": [
    "- 이 중 기본 파라메터로 비교적 높은 예측력을 보인, 의사결정나무와 로지스틱 회귀 파라메터 튜닝을 진행하였다"
   ]
  },
  {
   "cell_type": "markdown",
   "metadata": {},
   "source": [
    "### (2) 모델 파라메터 튜닝"
   ]
  },
  {
   "cell_type": "markdown",
   "metadata": {},
   "source": [
    "#### 1) 로지스틱 회귀 모델 튜닝"
   ]
  },
  {
   "cell_type": "code",
   "execution_count": 63,
   "metadata": {},
   "outputs": [
    {
     "name": "stdout",
     "output_type": "stream",
     "text": [
      "GridSearchCV 최고 평균 roc_auc 점수: 0.7719723814915952\n",
      "GridSearchCV 최적 하이퍼 파라미터: {'C': 0.9, 'penalty': 'l2'}\n"
     ]
    }
   ],
   "source": [
    "params2={'penalty':['l1','l2'],\n",
    "        'C':[0.1,0.3,0.5,0.7,0.9]}\n",
    "model = LogisticRegression()\n",
    "grid_cv2=GridSearchCV(model,param_grid=params2,scoring='roc_auc',cv=5)\n",
    "grid_cv2.fit(train_X,train_Y)\n",
    "print('GridSearchCV 최고 평균 roc_auc 점수:',grid_cv2.best_score_)\n",
    "print('GridSearchCV 최적 하이퍼 파라미터:',grid_cv2.best_params_)"
   ]
  },
  {
   "cell_type": "code",
   "execution_count": 69,
   "metadata": {},
   "outputs": [],
   "source": [
    "model = LogisticRegression(C=0.9, penalty='l2')\n",
    "model.fit(X_target,X_features)\n",
    "\n",
    "pred_probs=pd.DataFrame(model.predict_proba(Y))[1]\n",
    "lr_wrapper_pred=pd.DataFrame(pred_probs)\n",
    "lr_wrapper_pred.index += 1 \n",
    "lr_wrapper_pred.to_csv(r\"제출-로지스틱회귀#1.csv\", index=True)"
   ]
  },
  {
   "attachments": {
    "image.png": {
     "image/png": "[encoded data removed]"
    }
   },
   "cell_type": "markdown",
   "metadata": {},
   "source": [
    "![image.png](attachment:image.png)"
   ]
  },
  {
   "cell_type": "code",
   "execution_count": null,
   "metadata": {},
   "outputs": [],
   "source": []
  },
  {
   "cell_type": "markdown",
   "metadata": {},
   "source": [
    "#### 2) 랜덤포레스트 모델 튜닝"
   ]
  },
  {
   "cell_type": "code",
   "execution_count": 65,
   "metadata": {},
   "outputs": [
    {
     "name": "stdout",
     "output_type": "stream",
     "text": [
      "최적 하이퍼 파라미터와 예측 roc_auc 점수: {'max_depth': 10, 'min_samples_leaf': 10, 'min_samples_split': 3} 0.8629319817935418\n"
     ]
    }
   ],
   "source": [
    "params={\n",
    "    'max_depth':[1,3,5,10],\n",
    "    'min_samples_leaf':[1,3,5,10],\n",
    "    'min_samples_split':[1,3,5,10]\n",
    "    }\n",
    "#RandomForest를 설정하고 GridSearchCV수행\n",
    "rf_clf=RandomForestClassifier(random_state=0,n_jobs=-1)\n",
    "grid_cv = GridSearchCV(rf_clf, param_grid=params,cv=3,n_jobs=-1,scoring='roc_auc')\n",
    "grid_cv.fit(train_X,train_Y)\n",
    "cv_result=pd.DataFrame(grid_cv.cv_results_)\n",
    "\n",
    "print('최적 하이퍼 파라미터와 예측 roc_auc 점수:',grid_cv.best_params_,grid_cv.best_score_)"
   ]
  },
  {
   "cell_type": "code",
   "execution_count": 61,
   "metadata": {},
   "outputs": [
    {
     "name": "stdout",
     "output_type": "stream",
     "text": [
      "The roc_auc_score of the RandomForestClassifier is 0.769101348502687\n"
     ]
    }
   ],
   "source": [
    "rf_clf = RandomForestClassifier(random_state=0, n_jobs=-1, max_depth=20, min_samples_leaf=10, min_samples_split=3)\n",
    "rf_clf.fit(train_X,train_Y)\n",
    "prediction2=rf_clf.predict(test_X)\n",
    "\n",
    "print('The roc_auc_score of the RandomForestClassifier is', metrics.roc_auc_score(prediction2,test_Y))"
   ]
  },
  {
   "cell_type": "code",
   "execution_count": 70,
   "metadata": {},
   "outputs": [],
   "source": [
    "model =  RandomForestClassifier(random_state=0, n_jobs=-1, max_depth=20, min_samples_leaf=10, min_samples_split=3)\n",
    "model.fit(X_target,X_features)\n",
    "\n",
    "pred_probs=pd.DataFrame(model.predict_proba(Y))[1]\n",
    "lr_wrapper_pred=pd.DataFrame(pred_probs)\n",
    "lr_wrapper_pred.index += 1 \n",
    "lr_wrapper_pred.to_csv(r\"제출-랜덤포레스트#1.csv\", index=True)"
   ]
  },
  {
   "attachments": {
    "image.png": {
     "image/png": "[encoded data removed]"
    }
   },
   "cell_type": "markdown",
   "metadata": {},
   "source": [
    "![image.png](attachment:image.png)"
   ]
  },
  {
   "cell_type": "markdown",
   "metadata": {},
   "source": [
    "#### 3)XGBoost 모델 튜닝"
   ]
  },
  {
   "cell_type": "code",
   "execution_count": 72,
   "metadata": {},
   "outputs": [
    {
     "name": "stdout",
     "output_type": "stream",
     "text": [
      "최적 하이퍼 파라미터와 예측 roc_auc 점수: {'learning_rate': 0.1, 'max_depth': 5, 'n_estimators': 100} 0.8635525620849236\n"
     ]
    }
   ],
   "source": [
    "params={\n",
    "    'max_depth':[1,5,10,15],\n",
    "    'learning_rate':[0.1, 0.5, 1.0],\n",
    "    'n_estimators':[1,5,10,100],\n",
    "    }\n",
    "\n",
    "xgb_wrapper = XGBClassifier()\n",
    "grid_cv = GridSearchCV(xgb_wrapper, param_grid=params,cv=5,n_jobs=-1,scoring='roc_auc')\n",
    "grid_cv.fit(train_X,train_Y)\n",
    "\n",
    "cv_result=pd.DataFrame(grid_cv.cv_results_)\n",
    "\n",
    "print('최적 하이퍼 파라미터와 예측 roc_auc 점수:',grid_cv.best_params_,grid_cv.best_score_)"
   ]
  },
  {
   "cell_type": "markdown",
   "metadata": {},
   "source": [
    "#### 4) LightGBM 튜닝"
   ]
  },
  {
   "cell_type": "code",
   "execution_count": null,
   "metadata": {},
   "outputs": [],
   "source": [
    "params={\n",
    "    'max_depth':[1,3,5,10],\n",
    "    'learning_rate':[0.5,1,3,5,10],\n",
    "    'n_estimators':[1,3,5,10],\n",
    "    }\n",
    "\n",
    "LGBM_wrapper = LGBMClassifier()\n",
    "grid_cv = GridSearchCV(LGBM_wrapper, param_grid=params,cv=5,n_jobs=-1,scoring='roc_auc')\n",
    "grid_cv.fit(train_X,train_Y)\n",
    "\n",
    "cv_result=pd.DataFrame(grid_cv.cv_results_)\n",
    "\n",
    "print('최적 하이퍼 파라미터와 예측 roc_auc 점수:',grid_cv.best_params_,grid_cv.best_score_)"
   ]
  },
  {
   "cell_type": "markdown",
   "metadata": {},
   "source": [
    "알게된 점\n",
    "\n",
    "- 머신러닝 알고리즘의 경우 피처엔지니어링 만으로도 큰 차이를 보일 수 있다. 지속적인 고민이 필요하다"
   ]
  },
  {
   "cell_type": "markdown",
   "metadata": {},
   "source": [
    "### (3) SMOTE를 활용한 모델 불균형 해결 "
   ]
  },
  {
   "cell_type": "markdown",
   "metadata": {},
   "source": [
    "현재 데이터에서 고객의 2년내 파산은 3%내외로 극소수에 해당한다. 이는 데이터에 불균형을 초래하며, 데이터의 정확도는 높아도 재현율은이 급격하게 작아지는 현상이 발생할 수 있다. 또한, 이를 통해 얻은 정확성이 높다 하더라도, 신뢰도는 낮을 수 밖에 없다. 이를 해결하고자, 'SMOTE'기법을 활용하여 문제를 수정해보고자 한다. "
   ]
  },
  {
   "cell_type": "code",
   "execution_count": 73,
   "metadata": {},
   "outputs": [],
   "source": [
    "from sklearn.datasets import make_classification\n",
    "from sklearn.decomposition import PCA\n",
    "from imblearn.over_sampling import SMOTE"
   ]
  },
  {
   "cell_type": "code",
   "execution_count": 76,
   "metadata": {},
   "outputs": [
    {
     "ename": "TypeError",
     "evalue": "__init__() got an unexpected keyword argument 'ratio'",
     "output_type": "error",
     "traceback": [
      "\u001b[1;31m---------------------------------------------------------------------------\u001b[0m",
      "\u001b[1;31mTypeError\u001b[0m                                 Traceback (most recent call last)",
      "\u001b[1;32m<ipython-input-76-b96532519f03>\u001b[0m in \u001b[0;36m<module>\u001b[1;34m\u001b[0m\n\u001b[1;32m----> 1\u001b[1;33m \u001b[0msm\u001b[0m \u001b[1;33m=\u001b[0m \u001b[0mSMOTE\u001b[0m\u001b[1;33m(\u001b[0m \u001b[0mratio\u001b[0m\u001b[1;33m=\u001b[0m\u001b[1;34m'auto'\u001b[0m\u001b[1;33m,\u001b[0m \u001b[0mkind\u001b[0m\u001b[1;33m=\u001b[0m\u001b[1;34m'regular'\u001b[0m \u001b[1;33m)\u001b[0m\u001b[1;33m\u001b[0m\u001b[1;33m\u001b[0m\u001b[0m\n\u001b[0m\u001b[0;32m      2\u001b[0m \u001b[1;33m\u001b[0m\u001b[0m\n\u001b[0;32m      3\u001b[0m \u001b[1;31m# train데이터를 넣어 복제함\u001b[0m\u001b[1;33m\u001b[0m\u001b[1;33m\u001b[0m\u001b[1;33m\u001b[0m\u001b[0m\n\u001b[0;32m      4\u001b[0m \u001b[0mX_resampled\u001b[0m\u001b[1;33m,\u001b[0m \u001b[0my_resampled\u001b[0m \u001b[1;33m=\u001b[0m \u001b[0msm\u001b[0m\u001b[1;33m.\u001b[0m\u001b[0mfit_sample\u001b[0m\u001b[1;33m(\u001b[0m\u001b[0mtrain_X\u001b[0m\u001b[1;33m,\u001b[0m\u001b[0mtrain_Y\u001b[0m\u001b[1;33m)\u001b[0m\u001b[1;33m\u001b[0m\u001b[1;33m\u001b[0m\u001b[0m\n\u001b[0;32m      5\u001b[0m \u001b[1;33m\u001b[0m\u001b[0m\n",
      "\u001b[1;32m~\\anaconda3\\lib\\site-packages\\imblearn\\utils\\_validation.py\u001b[0m in \u001b[0;36minner_f\u001b[1;34m(*args, **kwargs)\u001b[0m\n\u001b[0;32m    638\u001b[0m                           FutureWarning)\n\u001b[0;32m    639\u001b[0m         \u001b[0mkwargs\u001b[0m\u001b[1;33m.\u001b[0m\u001b[0mupdate\u001b[0m\u001b[1;33m(\u001b[0m\u001b[1;33m{\u001b[0m\u001b[0mk\u001b[0m\u001b[1;33m:\u001b[0m \u001b[0marg\u001b[0m \u001b[1;32mfor\u001b[0m \u001b[0mk\u001b[0m\u001b[1;33m,\u001b[0m \u001b[0marg\u001b[0m \u001b[1;32min\u001b[0m \u001b[0mzip\u001b[0m\u001b[1;33m(\u001b[0m\u001b[0msig\u001b[0m\u001b[1;33m.\u001b[0m\u001b[0mparameters\u001b[0m\u001b[1;33m,\u001b[0m \u001b[0margs\u001b[0m\u001b[1;33m)\u001b[0m\u001b[1;33m}\u001b[0m\u001b[1;33m)\u001b[0m\u001b[1;33m\u001b[0m\u001b[1;33m\u001b[0m\u001b[0m\n\u001b[1;32m--> 640\u001b[1;33m         \u001b[1;32mreturn\u001b[0m \u001b[0mf\u001b[0m\u001b[1;33m(\u001b[0m\u001b[1;33m**\u001b[0m\u001b[0mkwargs\u001b[0m\u001b[1;33m)\u001b[0m\u001b[1;33m\u001b[0m\u001b[1;33m\u001b[0m\u001b[0m\n\u001b[0m\u001b[0;32m    641\u001b[0m     \u001b[1;32mreturn\u001b[0m \u001b[0minner_f\u001b[0m\u001b[1;33m\u001b[0m\u001b[1;33m\u001b[0m\u001b[0m\n",
      "\u001b[1;31mTypeError\u001b[0m: __init__() got an unexpected keyword argument 'ratio'"
     ]
    }
   ],
   "source": [
    "sm = SMOTE( ratio='auto', kind='regular' )\n",
    "\n",
    "# train데이터를 넣어 복제함\n",
    "X_resampled, y_resampled = sm.fit_sample(train_X,train_Y)\n",
    "\n",
    "print('After OverSampling, the shape of train_X: {}'.format(X_resampled.shape))\n",
    "print('After OverSampling, the shape of train_y: {} \\n'.format(X_resampled.shape))\n",
    "\n",
    "print(\"After OverSampling, counts of label '1': {}\".format(sum(y_resampled==1)))\n",
    "print(\"After OverSampling, counts of label '0': {}\".format(sum(y_resampled==0)))"
   ]
  },
  {
   "cell_type": "code",
   "execution_count": null,
   "metadata": {},
   "outputs": [],
   "source": []
  }
 ],
 "metadata": {
  "kernelspec": {
   "display_name": "Python 3",
   "language": "python",
   "name": "python3"
  },
  "language_info": {
   "codemirror_mode": {
    "name": "ipython",
    "version": 3
   },
   "file_extension": ".py",
   "mimetype": "text/x-python",
   "name": "python",
   "nbconvert_exporter": "python",
   "pygments_lexer": "ipython3",
   "version": "3.8.3"
  }
 },
 "nbformat": 4,
 "nbformat_minor": 4
}

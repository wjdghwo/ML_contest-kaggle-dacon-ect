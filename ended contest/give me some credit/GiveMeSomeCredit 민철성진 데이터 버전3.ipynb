{
 "cells": [
  {
   "cell_type": "markdown",
   "metadata": {},
   "source": [
    "## 신용 데이터 전처리3"
   ]
  },
  {
   "cell_type": "code",
   "execution_count": 2,
   "metadata": {},
   "outputs": [],
   "source": [
    "import numpy as np\n",
    "import pandas as pd\n",
    "import seaborn as sns\n",
    "import matplotlib.pyplot as plt\n",
    "import matplotlib.gridspec as gridspec\n",
    "%matplotlib inline\n",
    "import warnings\n",
    "warnings.filterwarnings('ignore')"
   ]
  },
  {
   "cell_type": "code",
   "execution_count": 3,
   "metadata": {},
   "outputs": [],
   "source": [
    "train_df = pd.read_csv('cs-training.csv')\n",
    "test_df = pd.read_csv('cs-test.csv')"
   ]
  },
  {
   "cell_type": "markdown",
   "metadata": {},
   "source": [
    "## 간단한 데이터 정보 확인"
   ]
  },
  {
   "cell_type": "code",
   "execution_count": 4,
   "metadata": {
    "scrolled": true
   },
   "outputs": [
    {
     "name": "stdout",
     "output_type": "stream",
     "text": [
      "<class 'pandas.core.frame.DataFrame'>\n",
      "RangeIndex: 150000 entries, 0 to 149999\n",
      "Data columns (total 12 columns):\n",
      " #   Column                                Non-Null Count   Dtype  \n",
      "---  ------                                --------------   -----  \n",
      " 0   Unnamed: 0                            150000 non-null  int64  \n",
      " 1   SeriousDlqin2yrs                      150000 non-null  int64  \n",
      " 2   RevolvingUtilizationOfUnsecuredLines  150000 non-null  float64\n",
      " 3   age                                   150000 non-null  int64  \n",
      " 4   NumberOfTime30-59DaysPastDueNotWorse  150000 non-null  int64  \n",
      " 5   DebtRatio                             150000 non-null  float64\n",
      " 6   MonthlyIncome                         120269 non-null  float64\n",
      " 7   NumberOfOpenCreditLinesAndLoans       150000 non-null  int64  \n",
      " 8   NumberOfTimes90DaysLate               150000 non-null  int64  \n",
      " 9   NumberRealEstateLoansOrLines          150000 non-null  int64  \n",
      " 10  NumberOfTime60-89DaysPastDueNotWorse  150000 non-null  int64  \n",
      " 11  NumberOfDependents                    146076 non-null  float64\n",
      "dtypes: float64(4), int64(8)\n",
      "memory usage: 13.7 MB\n"
     ]
    }
   ],
   "source": [
    "train_df.info()"
   ]
  },
  {
   "cell_type": "markdown",
   "metadata": {},
   "source": [
    "Some of the observations are:\n",
    "- We see in the training data, that all the datatypes belong to a numeric class i.e. int and float.\n",
    "- Columns MonthlyIncome and NumberOfDependents have some null values"
   ]
  },
  {
   "cell_type": "code",
   "execution_count": 5,
   "metadata": {
    "scrolled": true
   },
   "outputs": [
    {
     "data": {
      "text/html": [
       "<div>\n",
       "<style scoped>\n",
       "    .dataframe tbody tr th:only-of-type {\n",
       "        vertical-align: middle;\n",
       "    }\n",
       "\n",
       "    .dataframe tbody tr th {\n",
       "        vertical-align: top;\n",
       "    }\n",
       "\n",
       "    .dataframe thead th {\n",
       "        text-align: right;\n",
       "    }\n",
       "</style>\n",
       "<table border=\"1\" class=\"dataframe\">\n",
       "  <thead>\n",
       "    <tr style=\"text-align: right;\">\n",
       "      <th></th>\n",
       "      <th>Unnamed: 0</th>\n",
       "      <th>SeriousDlqin2yrs</th>\n",
       "      <th>RevolvingUtilizationOfUnsecuredLines</th>\n",
       "      <th>age</th>\n",
       "      <th>NumberOfTime30-59DaysPastDueNotWorse</th>\n",
       "      <th>DebtRatio</th>\n",
       "      <th>MonthlyIncome</th>\n",
       "      <th>NumberOfOpenCreditLinesAndLoans</th>\n",
       "      <th>NumberOfTimes90DaysLate</th>\n",
       "      <th>NumberRealEstateLoansOrLines</th>\n",
       "      <th>NumberOfTime60-89DaysPastDueNotWorse</th>\n",
       "      <th>NumberOfDependents</th>\n",
       "    </tr>\n",
       "  </thead>\n",
       "  <tbody>\n",
       "    <tr>\n",
       "      <th>count</th>\n",
       "      <td>150000.000000</td>\n",
       "      <td>150000.000000</td>\n",
       "      <td>150000.000000</td>\n",
       "      <td>150000.000000</td>\n",
       "      <td>150000.000000</td>\n",
       "      <td>150000.000000</td>\n",
       "      <td>1.202690e+05</td>\n",
       "      <td>150000.000000</td>\n",
       "      <td>150000.000000</td>\n",
       "      <td>150000.000000</td>\n",
       "      <td>150000.000000</td>\n",
       "      <td>146076.000000</td>\n",
       "    </tr>\n",
       "    <tr>\n",
       "      <th>mean</th>\n",
       "      <td>75000.500000</td>\n",
       "      <td>0.066840</td>\n",
       "      <td>6.048438</td>\n",
       "      <td>52.295207</td>\n",
       "      <td>0.421033</td>\n",
       "      <td>353.005076</td>\n",
       "      <td>6.670221e+03</td>\n",
       "      <td>8.452760</td>\n",
       "      <td>0.265973</td>\n",
       "      <td>1.018240</td>\n",
       "      <td>0.240387</td>\n",
       "      <td>0.757222</td>\n",
       "    </tr>\n",
       "    <tr>\n",
       "      <th>std</th>\n",
       "      <td>43301.414527</td>\n",
       "      <td>0.249746</td>\n",
       "      <td>249.755371</td>\n",
       "      <td>14.771866</td>\n",
       "      <td>4.192781</td>\n",
       "      <td>2037.818523</td>\n",
       "      <td>1.438467e+04</td>\n",
       "      <td>5.145951</td>\n",
       "      <td>4.169304</td>\n",
       "      <td>1.129771</td>\n",
       "      <td>4.155179</td>\n",
       "      <td>1.115086</td>\n",
       "    </tr>\n",
       "    <tr>\n",
       "      <th>min</th>\n",
       "      <td>1.000000</td>\n",
       "      <td>0.000000</td>\n",
       "      <td>0.000000</td>\n",
       "      <td>0.000000</td>\n",
       "      <td>0.000000</td>\n",
       "      <td>0.000000</td>\n",
       "      <td>0.000000e+00</td>\n",
       "      <td>0.000000</td>\n",
       "      <td>0.000000</td>\n",
       "      <td>0.000000</td>\n",
       "      <td>0.000000</td>\n",
       "      <td>0.000000</td>\n",
       "    </tr>\n",
       "    <tr>\n",
       "      <th>25%</th>\n",
       "      <td>37500.750000</td>\n",
       "      <td>0.000000</td>\n",
       "      <td>0.029867</td>\n",
       "      <td>41.000000</td>\n",
       "      <td>0.000000</td>\n",
       "      <td>0.175074</td>\n",
       "      <td>3.400000e+03</td>\n",
       "      <td>5.000000</td>\n",
       "      <td>0.000000</td>\n",
       "      <td>0.000000</td>\n",
       "      <td>0.000000</td>\n",
       "      <td>0.000000</td>\n",
       "    </tr>\n",
       "    <tr>\n",
       "      <th>50%</th>\n",
       "      <td>75000.500000</td>\n",
       "      <td>0.000000</td>\n",
       "      <td>0.154181</td>\n",
       "      <td>52.000000</td>\n",
       "      <td>0.000000</td>\n",
       "      <td>0.366508</td>\n",
       "      <td>5.400000e+03</td>\n",
       "      <td>8.000000</td>\n",
       "      <td>0.000000</td>\n",
       "      <td>1.000000</td>\n",
       "      <td>0.000000</td>\n",
       "      <td>0.000000</td>\n",
       "    </tr>\n",
       "    <tr>\n",
       "      <th>75%</th>\n",
       "      <td>112500.250000</td>\n",
       "      <td>0.000000</td>\n",
       "      <td>0.559046</td>\n",
       "      <td>63.000000</td>\n",
       "      <td>0.000000</td>\n",
       "      <td>0.868254</td>\n",
       "      <td>8.249000e+03</td>\n",
       "      <td>11.000000</td>\n",
       "      <td>0.000000</td>\n",
       "      <td>2.000000</td>\n",
       "      <td>0.000000</td>\n",
       "      <td>1.000000</td>\n",
       "    </tr>\n",
       "    <tr>\n",
       "      <th>max</th>\n",
       "      <td>150000.000000</td>\n",
       "      <td>1.000000</td>\n",
       "      <td>50708.000000</td>\n",
       "      <td>109.000000</td>\n",
       "      <td>98.000000</td>\n",
       "      <td>329664.000000</td>\n",
       "      <td>3.008750e+06</td>\n",
       "      <td>58.000000</td>\n",
       "      <td>98.000000</td>\n",
       "      <td>54.000000</td>\n",
       "      <td>98.000000</td>\n",
       "      <td>20.000000</td>\n",
       "    </tr>\n",
       "  </tbody>\n",
       "</table>\n",
       "</div>"
      ],
      "text/plain": [
       "          Unnamed: 0  SeriousDlqin2yrs  RevolvingUtilizationOfUnsecuredLines  \\\n",
       "count  150000.000000     150000.000000                         150000.000000   \n",
       "mean    75000.500000          0.066840                              6.048438   \n",
       "std     43301.414527          0.249746                            249.755371   \n",
       "min         1.000000          0.000000                              0.000000   \n",
       "25%     37500.750000          0.000000                              0.029867   \n",
       "50%     75000.500000          0.000000                              0.154181   \n",
       "75%    112500.250000          0.000000                              0.559046   \n",
       "max    150000.000000          1.000000                          50708.000000   \n",
       "\n",
       "                 age  NumberOfTime30-59DaysPastDueNotWorse      DebtRatio  \\\n",
       "count  150000.000000                         150000.000000  150000.000000   \n",
       "mean       52.295207                              0.421033     353.005076   \n",
       "std        14.771866                              4.192781    2037.818523   \n",
       "min         0.000000                              0.000000       0.000000   \n",
       "25%        41.000000                              0.000000       0.175074   \n",
       "50%        52.000000                              0.000000       0.366508   \n",
       "75%        63.000000                              0.000000       0.868254   \n",
       "max       109.000000                             98.000000  329664.000000   \n",
       "\n",
       "       MonthlyIncome  NumberOfOpenCreditLinesAndLoans  \\\n",
       "count   1.202690e+05                    150000.000000   \n",
       "mean    6.670221e+03                         8.452760   \n",
       "std     1.438467e+04                         5.145951   \n",
       "min     0.000000e+00                         0.000000   \n",
       "25%     3.400000e+03                         5.000000   \n",
       "50%     5.400000e+03                         8.000000   \n",
       "75%     8.249000e+03                        11.000000   \n",
       "max     3.008750e+06                        58.000000   \n",
       "\n",
       "       NumberOfTimes90DaysLate  NumberRealEstateLoansOrLines  \\\n",
       "count            150000.000000                 150000.000000   \n",
       "mean                  0.265973                      1.018240   \n",
       "std                   4.169304                      1.129771   \n",
       "min                   0.000000                      0.000000   \n",
       "25%                   0.000000                      0.000000   \n",
       "50%                   0.000000                      1.000000   \n",
       "75%                   0.000000                      2.000000   \n",
       "max                  98.000000                     54.000000   \n",
       "\n",
       "       NumberOfTime60-89DaysPastDueNotWorse  NumberOfDependents  \n",
       "count                         150000.000000       146076.000000  \n",
       "mean                               0.240387            0.757222  \n",
       "std                                4.155179            1.115086  \n",
       "min                                0.000000            0.000000  \n",
       "25%                                0.000000            0.000000  \n",
       "50%                                0.000000            0.000000  \n",
       "75%                                0.000000            1.000000  \n",
       "max                               98.000000           20.000000  "
      ]
     },
     "execution_count": 5,
     "metadata": {},
     "output_type": "execute_result"
    }
   ],
   "source": [
    "train_df.describe()"
   ]
  },
  {
   "cell_type": "markdown",
   "metadata": {},
   "source": [
    "From here we can conclude that the column Unnamed: 0 will have no significance in the predictive modelling because it represents ID of the customer,  \n",
    "(한마디로, Unnamed 열은 신원을 나타내는 변수란 의미다.)"
   ]
  },
  {
   "cell_type": "markdown",
   "metadata": {},
   "source": [
    "### test data도 똑같은 절차로 확인해준다."
   ]
  },
  {
   "cell_type": "code",
   "execution_count": 6,
   "metadata": {},
   "outputs": [
    {
     "name": "stdout",
     "output_type": "stream",
     "text": [
      "<class 'pandas.core.frame.DataFrame'>\n",
      "RangeIndex: 101503 entries, 0 to 101502\n",
      "Data columns (total 12 columns):\n",
      " #   Column                                Non-Null Count   Dtype  \n",
      "---  ------                                --------------   -----  \n",
      " 0   Unnamed: 0                            101503 non-null  int64  \n",
      " 1   SeriousDlqin2yrs                      0 non-null       float64\n",
      " 2   RevolvingUtilizationOfUnsecuredLines  101503 non-null  float64\n",
      " 3   age                                   101503 non-null  int64  \n",
      " 4   NumberOfTime30-59DaysPastDueNotWorse  101503 non-null  int64  \n",
      " 5   DebtRatio                             101503 non-null  float64\n",
      " 6   MonthlyIncome                         81400 non-null   float64\n",
      " 7   NumberOfOpenCreditLinesAndLoans       101503 non-null  int64  \n",
      " 8   NumberOfTimes90DaysLate               101503 non-null  int64  \n",
      " 9   NumberRealEstateLoansOrLines          101503 non-null  int64  \n",
      " 10  NumberOfTime60-89DaysPastDueNotWorse  101503 non-null  int64  \n",
      " 11  NumberOfDependents                    98877 non-null   float64\n",
      "dtypes: float64(5), int64(7)\n",
      "memory usage: 9.3 MB\n"
     ]
    }
   ],
   "source": [
    "test_df.info()"
   ]
  },
  {
   "cell_type": "markdown",
   "metadata": {},
   "source": [
    "MonthlyIncome과 NumberOfDependents에 결측치가 있음을 알 수 있다."
   ]
  },
  {
   "cell_type": "code",
   "execution_count": 7,
   "metadata": {},
   "outputs": [
    {
     "data": {
      "text/html": [
       "<div>\n",
       "<style scoped>\n",
       "    .dataframe tbody tr th:only-of-type {\n",
       "        vertical-align: middle;\n",
       "    }\n",
       "\n",
       "    .dataframe tbody tr th {\n",
       "        vertical-align: top;\n",
       "    }\n",
       "\n",
       "    .dataframe thead th {\n",
       "        text-align: right;\n",
       "    }\n",
       "</style>\n",
       "<table border=\"1\" class=\"dataframe\">\n",
       "  <thead>\n",
       "    <tr style=\"text-align: right;\">\n",
       "      <th></th>\n",
       "      <th>Unnamed: 0</th>\n",
       "      <th>SeriousDlqin2yrs</th>\n",
       "      <th>RevolvingUtilizationOfUnsecuredLines</th>\n",
       "      <th>age</th>\n",
       "      <th>NumberOfTime30-59DaysPastDueNotWorse</th>\n",
       "      <th>DebtRatio</th>\n",
       "      <th>MonthlyIncome</th>\n",
       "      <th>NumberOfOpenCreditLinesAndLoans</th>\n",
       "      <th>NumberOfTimes90DaysLate</th>\n",
       "      <th>NumberRealEstateLoansOrLines</th>\n",
       "      <th>NumberOfTime60-89DaysPastDueNotWorse</th>\n",
       "      <th>NumberOfDependents</th>\n",
       "    </tr>\n",
       "  </thead>\n",
       "  <tbody>\n",
       "    <tr>\n",
       "      <th>count</th>\n",
       "      <td>101503.000000</td>\n",
       "      <td>0.0</td>\n",
       "      <td>101503.000000</td>\n",
       "      <td>101503.000000</td>\n",
       "      <td>101503.000000</td>\n",
       "      <td>101503.000000</td>\n",
       "      <td>8.140000e+04</td>\n",
       "      <td>101503.000000</td>\n",
       "      <td>101503.000000</td>\n",
       "      <td>101503.000000</td>\n",
       "      <td>101503.000000</td>\n",
       "      <td>98877.000000</td>\n",
       "    </tr>\n",
       "    <tr>\n",
       "      <th>mean</th>\n",
       "      <td>50752.000000</td>\n",
       "      <td>NaN</td>\n",
       "      <td>5.310000</td>\n",
       "      <td>52.405436</td>\n",
       "      <td>0.453770</td>\n",
       "      <td>344.475020</td>\n",
       "      <td>6.855036e+03</td>\n",
       "      <td>8.453514</td>\n",
       "      <td>0.296691</td>\n",
       "      <td>1.013074</td>\n",
       "      <td>0.270317</td>\n",
       "      <td>0.769046</td>\n",
       "    </tr>\n",
       "    <tr>\n",
       "      <th>std</th>\n",
       "      <td>29301.536524</td>\n",
       "      <td>NaN</td>\n",
       "      <td>196.156039</td>\n",
       "      <td>14.779756</td>\n",
       "      <td>4.538487</td>\n",
       "      <td>1632.595231</td>\n",
       "      <td>3.650860e+04</td>\n",
       "      <td>5.144100</td>\n",
       "      <td>4.515859</td>\n",
       "      <td>1.110253</td>\n",
       "      <td>4.503578</td>\n",
       "      <td>1.136778</td>\n",
       "    </tr>\n",
       "    <tr>\n",
       "      <th>min</th>\n",
       "      <td>1.000000</td>\n",
       "      <td>NaN</td>\n",
       "      <td>0.000000</td>\n",
       "      <td>21.000000</td>\n",
       "      <td>0.000000</td>\n",
       "      <td>0.000000</td>\n",
       "      <td>0.000000e+00</td>\n",
       "      <td>0.000000</td>\n",
       "      <td>0.000000</td>\n",
       "      <td>0.000000</td>\n",
       "      <td>0.000000</td>\n",
       "      <td>0.000000</td>\n",
       "    </tr>\n",
       "    <tr>\n",
       "      <th>25%</th>\n",
       "      <td>25376.500000</td>\n",
       "      <td>NaN</td>\n",
       "      <td>0.030131</td>\n",
       "      <td>41.000000</td>\n",
       "      <td>0.000000</td>\n",
       "      <td>0.173423</td>\n",
       "      <td>3.408000e+03</td>\n",
       "      <td>5.000000</td>\n",
       "      <td>0.000000</td>\n",
       "      <td>0.000000</td>\n",
       "      <td>0.000000</td>\n",
       "      <td>0.000000</td>\n",
       "    </tr>\n",
       "    <tr>\n",
       "      <th>50%</th>\n",
       "      <td>50752.000000</td>\n",
       "      <td>NaN</td>\n",
       "      <td>0.152586</td>\n",
       "      <td>52.000000</td>\n",
       "      <td>0.000000</td>\n",
       "      <td>0.364260</td>\n",
       "      <td>5.400000e+03</td>\n",
       "      <td>8.000000</td>\n",
       "      <td>0.000000</td>\n",
       "      <td>1.000000</td>\n",
       "      <td>0.000000</td>\n",
       "      <td>0.000000</td>\n",
       "    </tr>\n",
       "    <tr>\n",
       "      <th>75%</th>\n",
       "      <td>76127.500000</td>\n",
       "      <td>NaN</td>\n",
       "      <td>0.564225</td>\n",
       "      <td>63.000000</td>\n",
       "      <td>0.000000</td>\n",
       "      <td>0.851619</td>\n",
       "      <td>8.200000e+03</td>\n",
       "      <td>11.000000</td>\n",
       "      <td>0.000000</td>\n",
       "      <td>2.000000</td>\n",
       "      <td>0.000000</td>\n",
       "      <td>1.000000</td>\n",
       "    </tr>\n",
       "    <tr>\n",
       "      <th>max</th>\n",
       "      <td>101503.000000</td>\n",
       "      <td>NaN</td>\n",
       "      <td>21821.000000</td>\n",
       "      <td>104.000000</td>\n",
       "      <td>98.000000</td>\n",
       "      <td>268326.000000</td>\n",
       "      <td>7.727000e+06</td>\n",
       "      <td>85.000000</td>\n",
       "      <td>98.000000</td>\n",
       "      <td>37.000000</td>\n",
       "      <td>98.000000</td>\n",
       "      <td>43.000000</td>\n",
       "    </tr>\n",
       "  </tbody>\n",
       "</table>\n",
       "</div>"
      ],
      "text/plain": [
       "          Unnamed: 0  SeriousDlqin2yrs  RevolvingUtilizationOfUnsecuredLines  \\\n",
       "count  101503.000000               0.0                         101503.000000   \n",
       "mean    50752.000000               NaN                              5.310000   \n",
       "std     29301.536524               NaN                            196.156039   \n",
       "min         1.000000               NaN                              0.000000   \n",
       "25%     25376.500000               NaN                              0.030131   \n",
       "50%     50752.000000               NaN                              0.152586   \n",
       "75%     76127.500000               NaN                              0.564225   \n",
       "max    101503.000000               NaN                          21821.000000   \n",
       "\n",
       "                 age  NumberOfTime30-59DaysPastDueNotWorse      DebtRatio  \\\n",
       "count  101503.000000                         101503.000000  101503.000000   \n",
       "mean       52.405436                              0.453770     344.475020   \n",
       "std        14.779756                              4.538487    1632.595231   \n",
       "min        21.000000                              0.000000       0.000000   \n",
       "25%        41.000000                              0.000000       0.173423   \n",
       "50%        52.000000                              0.000000       0.364260   \n",
       "75%        63.000000                              0.000000       0.851619   \n",
       "max       104.000000                             98.000000  268326.000000   \n",
       "\n",
       "       MonthlyIncome  NumberOfOpenCreditLinesAndLoans  \\\n",
       "count   8.140000e+04                    101503.000000   \n",
       "mean    6.855036e+03                         8.453514   \n",
       "std     3.650860e+04                         5.144100   \n",
       "min     0.000000e+00                         0.000000   \n",
       "25%     3.408000e+03                         5.000000   \n",
       "50%     5.400000e+03                         8.000000   \n",
       "75%     8.200000e+03                        11.000000   \n",
       "max     7.727000e+06                        85.000000   \n",
       "\n",
       "       NumberOfTimes90DaysLate  NumberRealEstateLoansOrLines  \\\n",
       "count            101503.000000                 101503.000000   \n",
       "mean                  0.296691                      1.013074   \n",
       "std                   4.515859                      1.110253   \n",
       "min                   0.000000                      0.000000   \n",
       "25%                   0.000000                      0.000000   \n",
       "50%                   0.000000                      1.000000   \n",
       "75%                   0.000000                      2.000000   \n",
       "max                  98.000000                     37.000000   \n",
       "\n",
       "       NumberOfTime60-89DaysPastDueNotWorse  NumberOfDependents  \n",
       "count                         101503.000000        98877.000000  \n",
       "mean                               0.270317            0.769046  \n",
       "std                                4.503578            1.136778  \n",
       "min                                0.000000            0.000000  \n",
       "25%                                0.000000            0.000000  \n",
       "50%                                0.000000            0.000000  \n",
       "75%                                0.000000            1.000000  \n",
       "max                               98.000000           43.000000  "
      ]
     },
     "execution_count": 7,
     "metadata": {},
     "output_type": "execute_result"
    }
   ],
   "source": [
    "test_df.describe()"
   ]
  },
  {
   "cell_type": "markdown",
   "metadata": {},
   "source": [
    "### 원래의 데이터를 건드리지 않고 작업을 할 수 있게 복사본을 생성."
   ]
  },
  {
   "cell_type": "code",
   "execution_count": 12,
   "metadata": {},
   "outputs": [],
   "source": [
    "final_train = train_df.copy()\n",
    "final_test = test_df.copy()"
   ]
  },
  {
   "cell_type": "code",
   "execution_count": 13,
   "metadata": {},
   "outputs": [],
   "source": [
    "final_test.drop('SeriousDlqin2yrs', axis=1, inplace = True)"
   ]
  },
  {
   "cell_type": "code",
   "execution_count": 14,
   "metadata": {},
   "outputs": [],
   "source": [
    "trainID = final_train['Unnamed: 0']\n",
    "testID = final_test['Unnamed: 0']\n",
    "\n",
    "final_train.drop('Unnamed: 0', axis=1, inplace=True)\n",
    "final_test.drop('Unnamed: 0', axis=1, inplace=True)"
   ]
  },
  {
   "cell_type": "code",
   "execution_count": 15,
   "metadata": {
    "scrolled": true
   },
   "outputs": [
    {
     "data": {
      "image/png": "[encoded data removed]",
      "text/plain": [
       "<Figure size 432x288 with 1 Axes>"
      ]
     },
     "metadata": {
      "needs_background": "light"
     },
     "output_type": "display_data"
    }
   ],
   "source": [
    "sns.countplot('SeriousDlqin2yrs',data=final_train)\n",
    "plt.show()"
   ]
  },
  {
   "cell_type": "markdown",
   "metadata": {},
   "source": [
    "We cannot rely on the accuracy scores to predict the model's success. Many other evaluation metrics would be considered here. But more on that later."
   ]
  },
  {
   "cell_type": "code",
   "execution_count": 16,
   "metadata": {},
   "outputs": [
    {
     "data": {
      "image/png": "[encoded data removed]",
      "text/plain": [
       "<Figure size 432x288 with 1 Axes>"
      ]
     },
     "metadata": {},
     "output_type": "display_data"
    }
   ],
   "source": [
    "final_train['SeriousDlqin2yrs'].value_counts().plot.pie(explode=[0,0.1],autopct='%1.1f%%')\n",
    "plt.show()"
   ]
  },
  {
   "cell_type": "markdown",
   "metadata": {},
   "source": [
    "좀 허접하긴 하지만 데이터의 비율이 음성이 93.3%. 양성이 6.7%인 것을 알 수 있다. 비율을 보니깐 14:1인데 임계값도 이를 고려해서 정하면 좋지 않을까 생각한다."
   ]
  },
  {
   "cell_type": "code",
   "execution_count": 17,
   "metadata": {
    "scrolled": true
   },
   "outputs": [
    {
     "data": {
      "image/png": "[encoded data removed]",
      "text/plain": [
       "<Figure size 2160x2160 with 11 Axes>"
      ]
     },
     "metadata": {
      "needs_background": "light"
     },
     "output_type": "display_data"
    }
   ],
   "source": [
    "fig = plt.figure(figsize=[30,30])\n",
    "for col, i in zip(final_train.columns,range(1,13)):\n",
    "    axes = fig.add_subplot(7,2,i)\n",
    "    sns.regplot(final_train[col],final_train.SeriousDlqin2yrs,ax=axes)\n",
    "plt.show()"
   ]
  },
  {
   "cell_type": "markdown",
   "metadata": {},
   "source": [
    " NumberOfTime30-59DaysPastDueNotWorse , NumberOfTime60-89DaysPastDueNotWorse and NumberOfTimes90DaysLate 변수에 몇몇 이상치들이 있는 것으로 보이고 DebtRatio랑 RevolvingUtilizationOfUnsecuredLines에 비정상적으로 큰 값을 가진 데이터들이 보인다."
   ]
  },
  {
   "cell_type": "markdown",
   "metadata": {},
   "source": [
    "## Step 1: Fixing the columns NumberOfTime30-59DaysPastDueNotWorse , NumberOfTime60-89DaysPastDueNotWorse and NumberOfTimes90DaysLate"
   ]
  },
  {
   "cell_type": "code",
   "execution_count": 18,
   "metadata": {
    "scrolled": true
   },
   "outputs": [
    {
     "name": "stdout",
     "output_type": "stream",
     "text": [
      "[96 98]\n",
      "[96 98]\n",
      "[96 98]\n",
      "[ 0  1  2  3  4  5  6  7  8  9 10 11 12 13]\n",
      "[ 0  1  2  3  4  5  6  7  8  9 11]\n",
      "[ 0  1  2  3  4  5  6  7  8  9 10 11 12 13 14 15 17]\n",
      "Proportion of positive class with special 96/98 values: 54.65 %\n"
     ]
    }
   ],
   "source": [
    "# NumberOfTime30-59DaysPastDueNotWorse 변수의 값의 종류를 확인하고 분류해주자.\n",
    "print(np.unique(final_train[final_train['NumberOfTime30-59DaysPastDueNotWorse']>=90]['NumberOfTime30-59DaysPastDueNotWorse']))\n",
    "print(np.unique(final_train[final_train['NumberOfTime30-59DaysPastDueNotWorse']>=90]['NumberOfTime60-89DaysPastDueNotWorse']))\n",
    "print(np.unique(final_train[final_train['NumberOfTime30-59DaysPastDueNotWorse']>=90]['NumberOfTimes90DaysLate']))\n",
    "print(np.unique(final_train[final_train['NumberOfTime30-59DaysPastDueNotWorse']<90]['NumberOfTime30-59DaysPastDueNotWorse']))\n",
    "print(np.unique(final_train[final_train['NumberOfTime30-59DaysPastDueNotWorse']<90]['NumberOfTime60-89DaysPastDueNotWorse']))\n",
    "print(np.unique(final_train[final_train['NumberOfTime30-59DaysPastDueNotWorse']<90]['NumberOfTimes90DaysLate']))\n",
    "\n",
    "print(\"Proportion of positive class with special 96/98 values:\",\n",
    "      round(final_train[final_train['NumberOfTime30-59DaysPastDueNotWorse']>=90]['SeriousDlqin2yrs'].sum()*100/\n",
    "      len(final_train[final_train['NumberOfTime30-59DaysPastDueNotWorse']>=90]['SeriousDlqin2yrs']),2),'%')"
   ]
  },
  {
   "cell_type": "markdown",
   "metadata": {},
   "source": [
    "NumberOfTime30-59DaysPastDueNotWorse 열에서 90보다 큰 값이 나오면 다른 열에서도 동일한 값들(96, 98)이 나온다. 그리고 96, 98의 값을 가진 샘플들 중에서 54%가 양성(1)을 가지므로 자칫 오류로 보일 수 있는 상황이다. 그래서 이들을 11, 13, 17로 변경할 것이다."
   ]
  },
  {
   "cell_type": "code",
   "execution_count": 19,
   "metadata": {},
   "outputs": [
    {
     "name": "stdout",
     "output_type": "stream",
     "text": [
      "[ 0  1  2  3  4  5  6  7  8  9 10 11 12 13]\n",
      "[ 0  1  2  3  4  5  6  7  8  9 11]\n",
      "[ 0  1  2  3  4  5  6  7  8  9 10 11 12 13 14 15 17]\n"
     ]
    }
   ],
   "source": [
    "final_train.loc[final_train['NumberOfTime30-59DaysPastDueNotWorse'] >= 90, 'NumberOfTime30-59DaysPastDueNotWorse'] = 13\n",
    "final_train.loc[final_train['NumberOfTime60-89DaysPastDueNotWorse'] >= 90, 'NumberOfTime60-89DaysPastDueNotWorse'] = 11\n",
    "final_train.loc[final_train['NumberOfTimes90DaysLate'] >= 90, 'NumberOfTimes90DaysLate'] = 17\n",
    "\n",
    "print(np.unique(final_train['NumberOfTime30-59DaysPastDueNotWorse']))\n",
    "print(np.unique(final_train['NumberOfTime60-89DaysPastDueNotWorse']))\n",
    "print(np.unique(final_train['NumberOfTimes90DaysLate']))"
   ]
  },
  {
   "cell_type": "markdown",
   "metadata": {},
   "source": [
    "### test data도 똑같은 절차로 확인해준다."
   ]
  },
  {
   "cell_type": "code",
   "execution_count": 20,
   "metadata": {},
   "outputs": [
    {
     "name": "stdout",
     "output_type": "stream",
     "text": [
      "[96 98]\n",
      "[96 98]\n",
      "[96 98]\n",
      "[ 0  1  2  3  4  5  6  7  8  9 10 11 12 19]\n",
      "[0 1 2 3 4 5 6 7 8 9]\n",
      "[ 0  1  2  3  4  5  6  7  8  9 10 11 12 16 17 18]\n"
     ]
    }
   ],
   "source": [
    "print(np.unique(final_test[final_test['NumberOfTime30-59DaysPastDueNotWorse']>=90]['NumberOfTime30-59DaysPastDueNotWorse']))\n",
    "print(np.unique(final_test[final_test['NumberOfTime30-59DaysPastDueNotWorse']>=90]['NumberOfTime60-89DaysPastDueNotWorse']))\n",
    "print(np.unique(final_test[final_test['NumberOfTime30-59DaysPastDueNotWorse']>=90]['NumberOfTimes90DaysLate']))\n",
    "print(np.unique(final_test[final_test['NumberOfTime30-59DaysPastDueNotWorse']<90]['NumberOfTime30-59DaysPastDueNotWorse']))\n",
    "print(np.unique(final_test[final_test['NumberOfTime30-59DaysPastDueNotWorse']<90]['NumberOfTime60-89DaysPastDueNotWorse']))\n",
    "print(np.unique(final_test[final_test['NumberOfTime30-59DaysPastDueNotWorse']<90]['NumberOfTimes90DaysLate']))"
   ]
  },
  {
   "cell_type": "code",
   "execution_count": 21,
   "metadata": {
    "scrolled": true
   },
   "outputs": [
    {
     "name": "stdout",
     "output_type": "stream",
     "text": [
      "[ 0  1  2  3  4  5  6  7  8  9 10 11 12 13 19]\n",
      "[ 0  1  2  3  4  5  6  7  8  9 11]\n",
      "[ 0  1  2  3  4  5  6  7  8  9 10 11 12 16 17 18]\n"
     ]
    }
   ],
   "source": [
    "final_test.loc[final_test['NumberOfTime30-59DaysPastDueNotWorse'] >= 90, 'NumberOfTime30-59DaysPastDueNotWorse'] = 13\n",
    "final_test.loc[final_test['NumberOfTime60-89DaysPastDueNotWorse'] >= 90, 'NumberOfTime60-89DaysPastDueNotWorse'] = 11\n",
    "final_test.loc[final_test['NumberOfTimes90DaysLate'] >= 90, 'NumberOfTimes90DaysLate'] = 17\n",
    "\n",
    "print(np.unique(final_test['NumberOfTime30-59DaysPastDueNotWorse']))\n",
    "print(np.unique(final_test['NumberOfTime60-89DaysPastDueNotWorse']))\n",
    "print(np.unique(final_test['NumberOfTimes90DaysLate']))"
   ]
  },
  {
   "cell_type": "markdown",
   "metadata": {},
   "source": [
    "## Step 2: Checking for DebtRatio and RevolvingUtilizationOfUnsecuredLines."
   ]
  },
  {
   "cell_type": "code",
   "execution_count": 22,
   "metadata": {
    "scrolled": true
   },
   "outputs": [
    {
     "name": "stdout",
     "output_type": "stream",
     "text": [
      "Debt Ratio: \n",
      " count    150000.000000\n",
      "mean        353.005076\n",
      "std        2037.818523\n",
      "min           0.000000\n",
      "25%           0.175074\n",
      "50%           0.366508\n",
      "75%           0.868254\n",
      "max      329664.000000\n",
      "Name: DebtRatio, dtype: float64\n",
      "\n",
      "Revolving Utilization of Unsecured Lines: \n",
      " count    150000.000000\n",
      "mean          6.048438\n",
      "std         249.755371\n",
      "min           0.000000\n",
      "25%           0.029867\n",
      "50%           0.154181\n",
      "75%           0.559046\n",
      "max       50708.000000\n",
      "Name: RevolvingUtilizationOfUnsecuredLines, dtype: float64\n"
     ]
    }
   ],
   "source": [
    "print('Debt Ratio: \\n',final_train['DebtRatio'].describe())\n",
    "print('\\nRevolving Utilization of Unsecured Lines: \\n',final_train['RevolvingUtilizationOfUnsecuredLines'].describe())"
   ]
  },
  {
   "cell_type": "markdown",
   "metadata": {},
   "source": [
    "여기서 3분위수와 최대치의 격차가 매우 크다는 것이다. 이를 좀 더 탐구해 봐야된다."
   ]
  },
  {
   "cell_type": "code",
   "execution_count": 23,
   "metadata": {},
   "outputs": [
    {
     "name": "stdout",
     "output_type": "stream",
     "text": [
      "75.0 % quantile of debt ratio is:  0.86825377325\n",
      "80.0 % quantile of debt ratio is:  4.0\n",
      "81.0 % quantile of debt ratio is:  14.0\n",
      "85.0 % quantile of debt ratio is:  269.1499999999942\n",
      "90.0 % quantile of debt ratio is:  1267.0\n",
      "95.0 % quantile of debt ratio is:  2449.0\n",
      "97.5 % quantile of debt ratio is:  3489.024999999994\n",
      "99.0 % quantile of debt ratio is:  4979.040000000037\n"
     ]
    }
   ],
   "source": [
    "# 75%부터 값을 확인해보고 이상치를 판별하겠다.\n",
    "quantiles = [0.75,0.8,0.81,0.85,0.9,0.95,0.975,0.99]\n",
    "\n",
    "for i in quantiles:\n",
    "    print(i*100,'% quantile of debt ratio is: ',final_train.DebtRatio.quantile(i))"
   ]
  },
  {
   "cell_type": "markdown",
   "metadata": {},
   "source": [
    "81%일 때부터 값이 매우 크게 상승해서 81%부터 제외하고 그 영향력을 확인할까 했지만 데이터 자체가 15만개다 보니 95%나 97.5% 이상의 값을 제외하고 그 영향에 대해 알아보기로 한다. "
   ]
  },
  {
   "cell_type": "code",
   "execution_count": 24,
   "metadata": {
    "scrolled": true
   },
   "outputs": [
    {
     "data": {
      "text/html": [
       "<div>\n",
       "<style scoped>\n",
       "    .dataframe tbody tr th:only-of-type {\n",
       "        vertical-align: middle;\n",
       "    }\n",
       "\n",
       "    .dataframe tbody tr th {\n",
       "        vertical-align: top;\n",
       "    }\n",
       "\n",
       "    .dataframe thead th {\n",
       "        text-align: right;\n",
       "    }\n",
       "</style>\n",
       "<table border=\"1\" class=\"dataframe\">\n",
       "  <thead>\n",
       "    <tr style=\"text-align: right;\">\n",
       "      <th></th>\n",
       "      <th>SeriousDlqin2yrs</th>\n",
       "      <th>MonthlyIncome</th>\n",
       "    </tr>\n",
       "  </thead>\n",
       "  <tbody>\n",
       "    <tr>\n",
       "      <th>count</th>\n",
       "      <td>7501.000000</td>\n",
       "      <td>379.000000</td>\n",
       "    </tr>\n",
       "    <tr>\n",
       "      <th>mean</th>\n",
       "      <td>0.055193</td>\n",
       "      <td>0.084433</td>\n",
       "    </tr>\n",
       "    <tr>\n",
       "      <th>std</th>\n",
       "      <td>0.228371</td>\n",
       "      <td>0.278403</td>\n",
       "    </tr>\n",
       "    <tr>\n",
       "      <th>min</th>\n",
       "      <td>0.000000</td>\n",
       "      <td>0.000000</td>\n",
       "    </tr>\n",
       "    <tr>\n",
       "      <th>25%</th>\n",
       "      <td>0.000000</td>\n",
       "      <td>0.000000</td>\n",
       "    </tr>\n",
       "    <tr>\n",
       "      <th>50%</th>\n",
       "      <td>0.000000</td>\n",
       "      <td>0.000000</td>\n",
       "    </tr>\n",
       "    <tr>\n",
       "      <th>75%</th>\n",
       "      <td>0.000000</td>\n",
       "      <td>0.000000</td>\n",
       "    </tr>\n",
       "    <tr>\n",
       "      <th>max</th>\n",
       "      <td>1.000000</td>\n",
       "      <td>1.000000</td>\n",
       "    </tr>\n",
       "  </tbody>\n",
       "</table>\n",
       "</div>"
      ],
      "text/plain": [
       "       SeriousDlqin2yrs  MonthlyIncome\n",
       "count       7501.000000     379.000000\n",
       "mean           0.055193       0.084433\n",
       "std            0.228371       0.278403\n",
       "min            0.000000       0.000000\n",
       "25%            0.000000       0.000000\n",
       "50%            0.000000       0.000000\n",
       "75%            0.000000       0.000000\n",
       "max            1.000000       1.000000"
      ]
     },
     "execution_count": 24,
     "metadata": {},
     "output_type": "execute_result"
    }
   ],
   "source": [
    "final_train[final_train['DebtRatio'] >= final_train['DebtRatio'].quantile(0.95)][['SeriousDlqin2yrs','MonthlyIncome']].describe()"
   ]
  },
  {
   "cell_type": "code",
   "execution_count": 25,
   "metadata": {
    "scrolled": true
   },
   "outputs": [
    {
     "data": {
      "text/html": [
       "<div>\n",
       "<style scoped>\n",
       "    .dataframe tbody tr th:only-of-type {\n",
       "        vertical-align: middle;\n",
       "    }\n",
       "\n",
       "    .dataframe tbody tr th {\n",
       "        vertical-align: top;\n",
       "    }\n",
       "\n",
       "    .dataframe thead th {\n",
       "        text-align: right;\n",
       "    }\n",
       "</style>\n",
       "<table border=\"1\" class=\"dataframe\">\n",
       "  <thead>\n",
       "    <tr style=\"text-align: right;\">\n",
       "      <th></th>\n",
       "      <th>SeriousDlqin2yrs</th>\n",
       "      <th>RevolvingUtilizationOfUnsecuredLines</th>\n",
       "      <th>age</th>\n",
       "      <th>NumberOfTime30-59DaysPastDueNotWorse</th>\n",
       "      <th>DebtRatio</th>\n",
       "      <th>MonthlyIncome</th>\n",
       "      <th>NumberOfOpenCreditLinesAndLoans</th>\n",
       "      <th>NumberOfTimes90DaysLate</th>\n",
       "      <th>NumberRealEstateLoansOrLines</th>\n",
       "      <th>NumberOfTime60-89DaysPastDueNotWorse</th>\n",
       "      <th>NumberOfDependents</th>\n",
       "    </tr>\n",
       "  </thead>\n",
       "  <tbody>\n",
       "    <tr>\n",
       "      <th>50</th>\n",
       "      <td>0</td>\n",
       "      <td>0.818978</td>\n",
       "      <td>73</td>\n",
       "      <td>0</td>\n",
       "      <td>3095.0</td>\n",
       "      <td>0.0</td>\n",
       "      <td>9</td>\n",
       "      <td>0</td>\n",
       "      <td>1</td>\n",
       "      <td>1</td>\n",
       "      <td>0.0</td>\n",
       "    </tr>\n",
       "    <tr>\n",
       "      <th>73</th>\n",
       "      <td>0</td>\n",
       "      <td>0.059669</td>\n",
       "      <td>31</td>\n",
       "      <td>0</td>\n",
       "      <td>3162.0</td>\n",
       "      <td>0.0</td>\n",
       "      <td>11</td>\n",
       "      <td>0</td>\n",
       "      <td>2</td>\n",
       "      <td>0</td>\n",
       "      <td>1.0</td>\n",
       "    </tr>\n",
       "    <tr>\n",
       "      <th>90</th>\n",
       "      <td>0</td>\n",
       "      <td>0.039388</td>\n",
       "      <td>51</td>\n",
       "      <td>0</td>\n",
       "      <td>15466.0</td>\n",
       "      <td>0.0</td>\n",
       "      <td>7</td>\n",
       "      <td>0</td>\n",
       "      <td>0</td>\n",
       "      <td>0</td>\n",
       "      <td>0.0</td>\n",
       "    </tr>\n",
       "    <tr>\n",
       "      <th>326</th>\n",
       "      <td>0</td>\n",
       "      <td>0.013115</td>\n",
       "      <td>43</td>\n",
       "      <td>0</td>\n",
       "      <td>4211.0</td>\n",
       "      <td>0.0</td>\n",
       "      <td>21</td>\n",
       "      <td>0</td>\n",
       "      <td>2</td>\n",
       "      <td>0</td>\n",
       "      <td>2.0</td>\n",
       "    </tr>\n",
       "    <tr>\n",
       "      <th>508</th>\n",
       "      <td>0</td>\n",
       "      <td>1.000000</td>\n",
       "      <td>73</td>\n",
       "      <td>0</td>\n",
       "      <td>8500.0</td>\n",
       "      <td>0.0</td>\n",
       "      <td>2</td>\n",
       "      <td>0</td>\n",
       "      <td>0</td>\n",
       "      <td>0</td>\n",
       "      <td>0.0</td>\n",
       "    </tr>\n",
       "    <tr>\n",
       "      <th>...</th>\n",
       "      <td>...</td>\n",
       "      <td>...</td>\n",
       "      <td>...</td>\n",
       "      <td>...</td>\n",
       "      <td>...</td>\n",
       "      <td>...</td>\n",
       "      <td>...</td>\n",
       "      <td>...</td>\n",
       "      <td>...</td>\n",
       "      <td>...</td>\n",
       "      <td>...</td>\n",
       "    </tr>\n",
       "    <tr>\n",
       "      <th>147523</th>\n",
       "      <td>0</td>\n",
       "      <td>0.666509</td>\n",
       "      <td>50</td>\n",
       "      <td>0</td>\n",
       "      <td>4351.0</td>\n",
       "      <td>0.0</td>\n",
       "      <td>12</td>\n",
       "      <td>0</td>\n",
       "      <td>2</td>\n",
       "      <td>0</td>\n",
       "      <td>2.0</td>\n",
       "    </tr>\n",
       "    <tr>\n",
       "      <th>148258</th>\n",
       "      <td>0</td>\n",
       "      <td>0.211955</td>\n",
       "      <td>31</td>\n",
       "      <td>0</td>\n",
       "      <td>2734.0</td>\n",
       "      <td>0.0</td>\n",
       "      <td>9</td>\n",
       "      <td>0</td>\n",
       "      <td>1</td>\n",
       "      <td>0</td>\n",
       "      <td>1.0</td>\n",
       "    </tr>\n",
       "    <tr>\n",
       "      <th>148432</th>\n",
       "      <td>0</td>\n",
       "      <td>0.091785</td>\n",
       "      <td>37</td>\n",
       "      <td>0</td>\n",
       "      <td>2752.0</td>\n",
       "      <td>0.0</td>\n",
       "      <td>7</td>\n",
       "      <td>0</td>\n",
       "      <td>2</td>\n",
       "      <td>0</td>\n",
       "      <td>3.0</td>\n",
       "    </tr>\n",
       "    <tr>\n",
       "      <th>149383</th>\n",
       "      <td>0</td>\n",
       "      <td>0.239302</td>\n",
       "      <td>63</td>\n",
       "      <td>0</td>\n",
       "      <td>3153.0</td>\n",
       "      <td>0.0</td>\n",
       "      <td>29</td>\n",
       "      <td>0</td>\n",
       "      <td>1</td>\n",
       "      <td>0</td>\n",
       "      <td>0.0</td>\n",
       "    </tr>\n",
       "    <tr>\n",
       "      <th>149673</th>\n",
       "      <td>0</td>\n",
       "      <td>0.132362</td>\n",
       "      <td>82</td>\n",
       "      <td>0</td>\n",
       "      <td>4123.0</td>\n",
       "      <td>0.0</td>\n",
       "      <td>14</td>\n",
       "      <td>0</td>\n",
       "      <td>2</td>\n",
       "      <td>0</td>\n",
       "      <td>0.0</td>\n",
       "    </tr>\n",
       "  </tbody>\n",
       "</table>\n",
       "<p>331 rows × 11 columns</p>\n",
       "</div>"
      ],
      "text/plain": [
       "        SeriousDlqin2yrs  RevolvingUtilizationOfUnsecuredLines  age  \\\n",
       "50                     0                              0.818978   73   \n",
       "73                     0                              0.059669   31   \n",
       "90                     0                              0.039388   51   \n",
       "326                    0                              0.013115   43   \n",
       "508                    0                              1.000000   73   \n",
       "...                  ...                                   ...  ...   \n",
       "147523                 0                              0.666509   50   \n",
       "148258                 0                              0.211955   31   \n",
       "148432                 0                              0.091785   37   \n",
       "149383                 0                              0.239302   63   \n",
       "149673                 0                              0.132362   82   \n",
       "\n",
       "        NumberOfTime30-59DaysPastDueNotWorse  DebtRatio  MonthlyIncome  \\\n",
       "50                                         0     3095.0            0.0   \n",
       "73                                         0     3162.0            0.0   \n",
       "90                                         0    15466.0            0.0   \n",
       "326                                        0     4211.0            0.0   \n",
       "508                                        0     8500.0            0.0   \n",
       "...                                      ...        ...            ...   \n",
       "147523                                     0     4351.0            0.0   \n",
       "148258                                     0     2734.0            0.0   \n",
       "148432                                     0     2752.0            0.0   \n",
       "149383                                     0     3153.0            0.0   \n",
       "149673                                     0     4123.0            0.0   \n",
       "\n",
       "        NumberOfOpenCreditLinesAndLoans  NumberOfTimes90DaysLate  \\\n",
       "50                                    9                        0   \n",
       "73                                   11                        0   \n",
       "90                                    7                        0   \n",
       "326                                  21                        0   \n",
       "508                                   2                        0   \n",
       "...                                 ...                      ...   \n",
       "147523                               12                        0   \n",
       "148258                                9                        0   \n",
       "148432                                7                        0   \n",
       "149383                               29                        0   \n",
       "149673                               14                        0   \n",
       "\n",
       "        NumberRealEstateLoansOrLines  NumberOfTime60-89DaysPastDueNotWorse  \\\n",
       "50                                 1                                     1   \n",
       "73                                 2                                     0   \n",
       "90                                 0                                     0   \n",
       "326                                2                                     0   \n",
       "508                                0                                     0   \n",
       "...                              ...                                   ...   \n",
       "147523                             2                                     0   \n",
       "148258                             1                                     0   \n",
       "148432                             2                                     0   \n",
       "149383                             1                                     0   \n",
       "149673                             2                                     0   \n",
       "\n",
       "        NumberOfDependents  \n",
       "50                     0.0  \n",
       "73                     1.0  \n",
       "90                     0.0  \n",
       "326                    2.0  \n",
       "508                    0.0  \n",
       "...                    ...  \n",
       "147523                 2.0  \n",
       "148258                 1.0  \n",
       "148432                 3.0  \n",
       "149383                 0.0  \n",
       "149673                 0.0  \n",
       "\n",
       "[331 rows x 11 columns]"
      ]
     },
     "execution_count": 25,
     "metadata": {},
     "output_type": "execute_result"
    }
   ],
   "source": [
    "final_train[(final_train[\"DebtRatio\"] > final_train[\"DebtRatio\"].quantile(0.95)) & (final_train['SeriousDlqin2yrs'] == final_train['MonthlyIncome'])]"
   ]
  },
  {
   "cell_type": "markdown",
   "metadata": {},
   "source": [
    "의미를 모르겠음."
   ]
  },
  {
   "cell_type": "markdown",
   "metadata": {},
   "source": [
    "### Revolving Utilization of Unsecured Lines"
   ]
  },
  {
   "cell_type": "code",
   "execution_count": 26,
   "metadata": {},
   "outputs": [
    {
     "data": {
      "text/html": [
       "<div>\n",
       "<style scoped>\n",
       "    .dataframe tbody tr th:only-of-type {\n",
       "        vertical-align: middle;\n",
       "    }\n",
       "\n",
       "    .dataframe tbody tr th {\n",
       "        vertical-align: top;\n",
       "    }\n",
       "\n",
       "    .dataframe thead th {\n",
       "        text-align: right;\n",
       "    }\n",
       "</style>\n",
       "<table border=\"1\" class=\"dataframe\">\n",
       "  <thead>\n",
       "    <tr style=\"text-align: right;\">\n",
       "      <th></th>\n",
       "      <th>SeriousDlqin2yrs</th>\n",
       "      <th>RevolvingUtilizationOfUnsecuredLines</th>\n",
       "      <th>age</th>\n",
       "      <th>NumberOfTime30-59DaysPastDueNotWorse</th>\n",
       "      <th>DebtRatio</th>\n",
       "      <th>MonthlyIncome</th>\n",
       "      <th>NumberOfOpenCreditLinesAndLoans</th>\n",
       "      <th>NumberOfTimes90DaysLate</th>\n",
       "      <th>NumberRealEstateLoansOrLines</th>\n",
       "      <th>NumberOfTime60-89DaysPastDueNotWorse</th>\n",
       "      <th>NumberOfDependents</th>\n",
       "    </tr>\n",
       "  </thead>\n",
       "  <tbody>\n",
       "    <tr>\n",
       "      <th>count</th>\n",
       "      <td>241.000000</td>\n",
       "      <td>241.000000</td>\n",
       "      <td>241.000000</td>\n",
       "      <td>241.000000</td>\n",
       "      <td>241.000000</td>\n",
       "      <td>173.00000</td>\n",
       "      <td>241.000000</td>\n",
       "      <td>241.000000</td>\n",
       "      <td>241.000000</td>\n",
       "      <td>241.000000</td>\n",
       "      <td>228.000000</td>\n",
       "    </tr>\n",
       "    <tr>\n",
       "      <th>mean</th>\n",
       "      <td>0.070539</td>\n",
       "      <td>3564.023932</td>\n",
       "      <td>50.630705</td>\n",
       "      <td>0.186722</td>\n",
       "      <td>571.918644</td>\n",
       "      <td>8467.67052</td>\n",
       "      <td>5.763485</td>\n",
       "      <td>0.074689</td>\n",
       "      <td>1.186722</td>\n",
       "      <td>0.087137</td>\n",
       "      <td>0.688596</td>\n",
       "    </tr>\n",
       "    <tr>\n",
       "      <th>std</th>\n",
       "      <td>0.256587</td>\n",
       "      <td>5123.802683</td>\n",
       "      <td>14.565389</td>\n",
       "      <td>0.579502</td>\n",
       "      <td>1772.948412</td>\n",
       "      <td>6564.06825</td>\n",
       "      <td>3.114160</td>\n",
       "      <td>0.579711</td>\n",
       "      <td>1.065750</td>\n",
       "      <td>0.559651</td>\n",
       "      <td>1.038659</td>\n",
       "    </tr>\n",
       "    <tr>\n",
       "      <th>min</th>\n",
       "      <td>0.000000</td>\n",
       "      <td>11.385230</td>\n",
       "      <td>24.000000</td>\n",
       "      <td>0.000000</td>\n",
       "      <td>0.000800</td>\n",
       "      <td>0.00000</td>\n",
       "      <td>1.000000</td>\n",
       "      <td>0.000000</td>\n",
       "      <td>0.000000</td>\n",
       "      <td>0.000000</td>\n",
       "      <td>0.000000</td>\n",
       "    </tr>\n",
       "    <tr>\n",
       "      <th>25%</th>\n",
       "      <td>0.000000</td>\n",
       "      <td>941.000000</td>\n",
       "      <td>39.000000</td>\n",
       "      <td>0.000000</td>\n",
       "      <td>0.217813</td>\n",
       "      <td>4500.00000</td>\n",
       "      <td>4.000000</td>\n",
       "      <td>0.000000</td>\n",
       "      <td>0.000000</td>\n",
       "      <td>0.000000</td>\n",
       "      <td>0.000000</td>\n",
       "    </tr>\n",
       "    <tr>\n",
       "      <th>50%</th>\n",
       "      <td>0.000000</td>\n",
       "      <td>2012.000000</td>\n",
       "      <td>48.000000</td>\n",
       "      <td>0.000000</td>\n",
       "      <td>0.402560</td>\n",
       "      <td>7000.00000</td>\n",
       "      <td>5.000000</td>\n",
       "      <td>0.000000</td>\n",
       "      <td>1.000000</td>\n",
       "      <td>0.000000</td>\n",
       "      <td>0.000000</td>\n",
       "    </tr>\n",
       "    <tr>\n",
       "      <th>75%</th>\n",
       "      <td>0.000000</td>\n",
       "      <td>4116.000000</td>\n",
       "      <td>62.000000</td>\n",
       "      <td>0.000000</td>\n",
       "      <td>59.000000</td>\n",
       "      <td>10091.00000</td>\n",
       "      <td>7.000000</td>\n",
       "      <td>0.000000</td>\n",
       "      <td>2.000000</td>\n",
       "      <td>0.000000</td>\n",
       "      <td>1.000000</td>\n",
       "    </tr>\n",
       "    <tr>\n",
       "      <th>max</th>\n",
       "      <td>1.000000</td>\n",
       "      <td>50708.000000</td>\n",
       "      <td>87.000000</td>\n",
       "      <td>3.000000</td>\n",
       "      <td>21395.000000</td>\n",
       "      <td>44472.00000</td>\n",
       "      <td>21.000000</td>\n",
       "      <td>8.000000</td>\n",
       "      <td>9.000000</td>\n",
       "      <td>7.000000</td>\n",
       "      <td>4.000000</td>\n",
       "    </tr>\n",
       "  </tbody>\n",
       "</table>\n",
       "</div>"
      ],
      "text/plain": [
       "       SeriousDlqin2yrs  RevolvingUtilizationOfUnsecuredLines         age  \\\n",
       "count        241.000000                            241.000000  241.000000   \n",
       "mean           0.070539                           3564.023932   50.630705   \n",
       "std            0.256587                           5123.802683   14.565389   \n",
       "min            0.000000                             11.385230   24.000000   \n",
       "25%            0.000000                            941.000000   39.000000   \n",
       "50%            0.000000                           2012.000000   48.000000   \n",
       "75%            0.000000                           4116.000000   62.000000   \n",
       "max            1.000000                          50708.000000   87.000000   \n",
       "\n",
       "       NumberOfTime30-59DaysPastDueNotWorse     DebtRatio  MonthlyIncome  \\\n",
       "count                            241.000000    241.000000      173.00000   \n",
       "mean                               0.186722    571.918644     8467.67052   \n",
       "std                                0.579502   1772.948412     6564.06825   \n",
       "min                                0.000000      0.000800        0.00000   \n",
       "25%                                0.000000      0.217813     4500.00000   \n",
       "50%                                0.000000      0.402560     7000.00000   \n",
       "75%                                0.000000     59.000000    10091.00000   \n",
       "max                                3.000000  21395.000000    44472.00000   \n",
       "\n",
       "       NumberOfOpenCreditLinesAndLoans  NumberOfTimes90DaysLate  \\\n",
       "count                       241.000000               241.000000   \n",
       "mean                          5.763485                 0.074689   \n",
       "std                           3.114160                 0.579711   \n",
       "min                           1.000000                 0.000000   \n",
       "25%                           4.000000                 0.000000   \n",
       "50%                           5.000000                 0.000000   \n",
       "75%                           7.000000                 0.000000   \n",
       "max                          21.000000                 8.000000   \n",
       "\n",
       "       NumberRealEstateLoansOrLines  NumberOfTime60-89DaysPastDueNotWorse  \\\n",
       "count                    241.000000                            241.000000   \n",
       "mean                       1.186722                              0.087137   \n",
       "std                        1.065750                              0.559651   \n",
       "min                        0.000000                              0.000000   \n",
       "25%                        0.000000                              0.000000   \n",
       "50%                        1.000000                              0.000000   \n",
       "75%                        2.000000                              0.000000   \n",
       "max                        9.000000                              7.000000   \n",
       "\n",
       "       NumberOfDependents  \n",
       "count          228.000000  \n",
       "mean             0.688596  \n",
       "std              1.038659  \n",
       "min              0.000000  \n",
       "25%              0.000000  \n",
       "50%              0.000000  \n",
       "75%              1.000000  \n",
       "max              4.000000  "
      ]
     },
     "execution_count": 26,
     "metadata": {},
     "output_type": "execute_result"
    }
   ],
   "source": [
    "final_train[final_train['RevolvingUtilizationOfUnsecuredLines']>10].describe()"
   ]
  },
  {
   "cell_type": "code",
   "execution_count": 27,
   "metadata": {},
   "outputs": [
    {
     "data": {
      "text/html": [
       "<div>\n",
       "<style scoped>\n",
       "    .dataframe tbody tr th:only-of-type {\n",
       "        vertical-align: middle;\n",
       "    }\n",
       "\n",
       "    .dataframe tbody tr th {\n",
       "        vertical-align: top;\n",
       "    }\n",
       "\n",
       "    .dataframe thead th {\n",
       "        text-align: right;\n",
       "    }\n",
       "</style>\n",
       "<table border=\"1\" class=\"dataframe\">\n",
       "  <thead>\n",
       "    <tr style=\"text-align: right;\">\n",
       "      <th></th>\n",
       "      <th>SeriousDlqin2yrs</th>\n",
       "      <th>RevolvingUtilizationOfUnsecuredLines</th>\n",
       "      <th>age</th>\n",
       "      <th>NumberOfTime30-59DaysPastDueNotWorse</th>\n",
       "      <th>DebtRatio</th>\n",
       "      <th>MonthlyIncome</th>\n",
       "      <th>NumberOfOpenCreditLinesAndLoans</th>\n",
       "      <th>NumberOfTimes90DaysLate</th>\n",
       "      <th>NumberRealEstateLoansOrLines</th>\n",
       "      <th>NumberOfTime60-89DaysPastDueNotWorse</th>\n",
       "      <th>NumberOfDependents</th>\n",
       "    </tr>\n",
       "  </thead>\n",
       "  <tbody>\n",
       "    <tr>\n",
       "      <th>count</th>\n",
       "      <td>238.000000</td>\n",
       "      <td>238.000000</td>\n",
       "      <td>238.000000</td>\n",
       "      <td>238.000000</td>\n",
       "      <td>238.000000</td>\n",
       "      <td>170.000000</td>\n",
       "      <td>238.000000</td>\n",
       "      <td>238.000000</td>\n",
       "      <td>238.000000</td>\n",
       "      <td>238.000000</td>\n",
       "      <td>225.000000</td>\n",
       "    </tr>\n",
       "    <tr>\n",
       "      <th>mean</th>\n",
       "      <td>0.058824</td>\n",
       "      <td>3608.797826</td>\n",
       "      <td>50.634454</td>\n",
       "      <td>0.163866</td>\n",
       "      <td>579.117900</td>\n",
       "      <td>8520.041176</td>\n",
       "      <td>5.689076</td>\n",
       "      <td>0.071429</td>\n",
       "      <td>1.176471</td>\n",
       "      <td>0.071429</td>\n",
       "      <td>0.693333</td>\n",
       "    </tr>\n",
       "    <tr>\n",
       "      <th>std</th>\n",
       "      <td>0.235790</td>\n",
       "      <td>5140.423232</td>\n",
       "      <td>14.617658</td>\n",
       "      <td>0.522123</td>\n",
       "      <td>1782.962163</td>\n",
       "      <td>6606.889618</td>\n",
       "      <td>3.032170</td>\n",
       "      <td>0.580214</td>\n",
       "      <td>1.064558</td>\n",
       "      <td>0.542637</td>\n",
       "      <td>1.043346</td>\n",
       "    </tr>\n",
       "    <tr>\n",
       "      <th>min</th>\n",
       "      <td>0.000000</td>\n",
       "      <td>14.000000</td>\n",
       "      <td>24.000000</td>\n",
       "      <td>0.000000</td>\n",
       "      <td>0.000800</td>\n",
       "      <td>0.000000</td>\n",
       "      <td>1.000000</td>\n",
       "      <td>0.000000</td>\n",
       "      <td>0.000000</td>\n",
       "      <td>0.000000</td>\n",
       "      <td>0.000000</td>\n",
       "    </tr>\n",
       "    <tr>\n",
       "      <th>25%</th>\n",
       "      <td>0.000000</td>\n",
       "      <td>951.000000</td>\n",
       "      <td>39.000000</td>\n",
       "      <td>0.000000</td>\n",
       "      <td>0.216587</td>\n",
       "      <td>4608.000000</td>\n",
       "      <td>4.000000</td>\n",
       "      <td>0.000000</td>\n",
       "      <td>0.000000</td>\n",
       "      <td>0.000000</td>\n",
       "      <td>0.000000</td>\n",
       "    </tr>\n",
       "    <tr>\n",
       "      <th>50%</th>\n",
       "      <td>0.000000</td>\n",
       "      <td>2023.500000</td>\n",
       "      <td>48.000000</td>\n",
       "      <td>0.000000</td>\n",
       "      <td>0.391176</td>\n",
       "      <td>7000.000000</td>\n",
       "      <td>5.000000</td>\n",
       "      <td>0.000000</td>\n",
       "      <td>1.000000</td>\n",
       "      <td>0.000000</td>\n",
       "      <td>0.000000</td>\n",
       "    </tr>\n",
       "    <tr>\n",
       "      <th>75%</th>\n",
       "      <td>0.000000</td>\n",
       "      <td>4128.750000</td>\n",
       "      <td>62.000000</td>\n",
       "      <td>0.000000</td>\n",
       "      <td>82.250000</td>\n",
       "      <td>10178.750000</td>\n",
       "      <td>7.000000</td>\n",
       "      <td>0.000000</td>\n",
       "      <td>2.000000</td>\n",
       "      <td>0.000000</td>\n",
       "      <td>1.000000</td>\n",
       "    </tr>\n",
       "    <tr>\n",
       "      <th>max</th>\n",
       "      <td>1.000000</td>\n",
       "      <td>50708.000000</td>\n",
       "      <td>87.000000</td>\n",
       "      <td>3.000000</td>\n",
       "      <td>21395.000000</td>\n",
       "      <td>44472.000000</td>\n",
       "      <td>21.000000</td>\n",
       "      <td>8.000000</td>\n",
       "      <td>9.000000</td>\n",
       "      <td>7.000000</td>\n",
       "      <td>4.000000</td>\n",
       "    </tr>\n",
       "  </tbody>\n",
       "</table>\n",
       "</div>"
      ],
      "text/plain": [
       "       SeriousDlqin2yrs  RevolvingUtilizationOfUnsecuredLines         age  \\\n",
       "count        238.000000                            238.000000  238.000000   \n",
       "mean           0.058824                           3608.797826   50.634454   \n",
       "std            0.235790                           5140.423232   14.617658   \n",
       "min            0.000000                             14.000000   24.000000   \n",
       "25%            0.000000                            951.000000   39.000000   \n",
       "50%            0.000000                           2023.500000   48.000000   \n",
       "75%            0.000000                           4128.750000   62.000000   \n",
       "max            1.000000                          50708.000000   87.000000   \n",
       "\n",
       "       NumberOfTime30-59DaysPastDueNotWorse     DebtRatio  MonthlyIncome  \\\n",
       "count                            238.000000    238.000000     170.000000   \n",
       "mean                               0.163866    579.117900    8520.041176   \n",
       "std                                0.522123   1782.962163    6606.889618   \n",
       "min                                0.000000      0.000800       0.000000   \n",
       "25%                                0.000000      0.216587    4608.000000   \n",
       "50%                                0.000000      0.391176    7000.000000   \n",
       "75%                                0.000000     82.250000   10178.750000   \n",
       "max                                3.000000  21395.000000   44472.000000   \n",
       "\n",
       "       NumberOfOpenCreditLinesAndLoans  NumberOfTimes90DaysLate  \\\n",
       "count                       238.000000               238.000000   \n",
       "mean                          5.689076                 0.071429   \n",
       "std                           3.032170                 0.580214   \n",
       "min                           1.000000                 0.000000   \n",
       "25%                           4.000000                 0.000000   \n",
       "50%                           5.000000                 0.000000   \n",
       "75%                           7.000000                 0.000000   \n",
       "max                          21.000000                 8.000000   \n",
       "\n",
       "       NumberRealEstateLoansOrLines  NumberOfTime60-89DaysPastDueNotWorse  \\\n",
       "count                    238.000000                            238.000000   \n",
       "mean                       1.176471                              0.071429   \n",
       "std                        1.064558                              0.542637   \n",
       "min                        0.000000                              0.000000   \n",
       "25%                        0.000000                              0.000000   \n",
       "50%                        1.000000                              0.000000   \n",
       "75%                        2.000000                              0.000000   \n",
       "max                        9.000000                              7.000000   \n",
       "\n",
       "       NumberOfDependents  \n",
       "count          225.000000  \n",
       "mean             0.693333  \n",
       "std              1.043346  \n",
       "min              0.000000  \n",
       "25%              0.000000  \n",
       "50%              0.000000  \n",
       "75%              1.000000  \n",
       "max              4.000000  "
      ]
     },
     "execution_count": 27,
     "metadata": {},
     "output_type": "execute_result"
    }
   ],
   "source": [
    "final_train[final_train['RevolvingUtilizationOfUnsecuredLines']>13].describe()"
   ]
  },
  {
   "cell_type": "code",
   "execution_count": 28,
   "metadata": {},
   "outputs": [
    {
     "data": {
      "text/html": [
       "<div>\n",
       "<style scoped>\n",
       "    .dataframe tbody tr th:only-of-type {\n",
       "        vertical-align: middle;\n",
       "    }\n",
       "\n",
       "    .dataframe tbody tr th {\n",
       "        vertical-align: top;\n",
       "    }\n",
       "\n",
       "    .dataframe thead th {\n",
       "        text-align: right;\n",
       "    }\n",
       "</style>\n",
       "<table border=\"1\" class=\"dataframe\">\n",
       "  <thead>\n",
       "    <tr style=\"text-align: right;\">\n",
       "      <th></th>\n",
       "      <th>SeriousDlqin2yrs</th>\n",
       "      <th>RevolvingUtilizationOfUnsecuredLines</th>\n",
       "      <th>age</th>\n",
       "      <th>NumberOfTime30-59DaysPastDueNotWorse</th>\n",
       "      <th>DebtRatio</th>\n",
       "      <th>MonthlyIncome</th>\n",
       "      <th>NumberOfOpenCreditLinesAndLoans</th>\n",
       "      <th>NumberOfTimes90DaysLate</th>\n",
       "      <th>NumberRealEstateLoansOrLines</th>\n",
       "      <th>NumberOfTime60-89DaysPastDueNotWorse</th>\n",
       "      <th>NumberOfDependents</th>\n",
       "    </tr>\n",
       "  </thead>\n",
       "  <tbody>\n",
       "    <tr>\n",
       "      <th>0</th>\n",
       "      <td>1</td>\n",
       "      <td>0.766127</td>\n",
       "      <td>45</td>\n",
       "      <td>2</td>\n",
       "      <td>0.802982</td>\n",
       "      <td>9120.0</td>\n",
       "      <td>13</td>\n",
       "      <td>0</td>\n",
       "      <td>6</td>\n",
       "      <td>0</td>\n",
       "      <td>2.0</td>\n",
       "    </tr>\n",
       "    <tr>\n",
       "      <th>1</th>\n",
       "      <td>0</td>\n",
       "      <td>0.957151</td>\n",
       "      <td>40</td>\n",
       "      <td>0</td>\n",
       "      <td>0.121876</td>\n",
       "      <td>2600.0</td>\n",
       "      <td>4</td>\n",
       "      <td>0</td>\n",
       "      <td>0</td>\n",
       "      <td>0</td>\n",
       "      <td>1.0</td>\n",
       "    </tr>\n",
       "    <tr>\n",
       "      <th>2</th>\n",
       "      <td>0</td>\n",
       "      <td>0.658180</td>\n",
       "      <td>38</td>\n",
       "      <td>1</td>\n",
       "      <td>0.085113</td>\n",
       "      <td>3042.0</td>\n",
       "      <td>2</td>\n",
       "      <td>1</td>\n",
       "      <td>0</td>\n",
       "      <td>0</td>\n",
       "      <td>0.0</td>\n",
       "    </tr>\n",
       "    <tr>\n",
       "      <th>3</th>\n",
       "      <td>0</td>\n",
       "      <td>0.233810</td>\n",
       "      <td>30</td>\n",
       "      <td>0</td>\n",
       "      <td>0.036050</td>\n",
       "      <td>3300.0</td>\n",
       "      <td>5</td>\n",
       "      <td>0</td>\n",
       "      <td>0</td>\n",
       "      <td>0</td>\n",
       "      <td>0.0</td>\n",
       "    </tr>\n",
       "    <tr>\n",
       "      <th>4</th>\n",
       "      <td>0</td>\n",
       "      <td>0.907239</td>\n",
       "      <td>49</td>\n",
       "      <td>1</td>\n",
       "      <td>0.024926</td>\n",
       "      <td>63588.0</td>\n",
       "      <td>7</td>\n",
       "      <td>0</td>\n",
       "      <td>1</td>\n",
       "      <td>0</td>\n",
       "      <td>0.0</td>\n",
       "    </tr>\n",
       "    <tr>\n",
       "      <th>...</th>\n",
       "      <td>...</td>\n",
       "      <td>...</td>\n",
       "      <td>...</td>\n",
       "      <td>...</td>\n",
       "      <td>...</td>\n",
       "      <td>...</td>\n",
       "      <td>...</td>\n",
       "      <td>...</td>\n",
       "      <td>...</td>\n",
       "      <td>...</td>\n",
       "      <td>...</td>\n",
       "    </tr>\n",
       "    <tr>\n",
       "      <th>149995</th>\n",
       "      <td>0</td>\n",
       "      <td>0.040674</td>\n",
       "      <td>74</td>\n",
       "      <td>0</td>\n",
       "      <td>0.225131</td>\n",
       "      <td>2100.0</td>\n",
       "      <td>4</td>\n",
       "      <td>0</td>\n",
       "      <td>1</td>\n",
       "      <td>0</td>\n",
       "      <td>0.0</td>\n",
       "    </tr>\n",
       "    <tr>\n",
       "      <th>149996</th>\n",
       "      <td>0</td>\n",
       "      <td>0.299745</td>\n",
       "      <td>44</td>\n",
       "      <td>0</td>\n",
       "      <td>0.716562</td>\n",
       "      <td>5584.0</td>\n",
       "      <td>4</td>\n",
       "      <td>0</td>\n",
       "      <td>1</td>\n",
       "      <td>0</td>\n",
       "      <td>2.0</td>\n",
       "    </tr>\n",
       "    <tr>\n",
       "      <th>149997</th>\n",
       "      <td>0</td>\n",
       "      <td>0.246044</td>\n",
       "      <td>58</td>\n",
       "      <td>0</td>\n",
       "      <td>3870.000000</td>\n",
       "      <td>NaN</td>\n",
       "      <td>18</td>\n",
       "      <td>0</td>\n",
       "      <td>1</td>\n",
       "      <td>0</td>\n",
       "      <td>0.0</td>\n",
       "    </tr>\n",
       "    <tr>\n",
       "      <th>149998</th>\n",
       "      <td>0</td>\n",
       "      <td>0.000000</td>\n",
       "      <td>30</td>\n",
       "      <td>0</td>\n",
       "      <td>0.000000</td>\n",
       "      <td>5716.0</td>\n",
       "      <td>4</td>\n",
       "      <td>0</td>\n",
       "      <td>0</td>\n",
       "      <td>0</td>\n",
       "      <td>0.0</td>\n",
       "    </tr>\n",
       "    <tr>\n",
       "      <th>149999</th>\n",
       "      <td>0</td>\n",
       "      <td>0.850283</td>\n",
       "      <td>64</td>\n",
       "      <td>0</td>\n",
       "      <td>0.249908</td>\n",
       "      <td>8158.0</td>\n",
       "      <td>8</td>\n",
       "      <td>0</td>\n",
       "      <td>2</td>\n",
       "      <td>0</td>\n",
       "      <td>0.0</td>\n",
       "    </tr>\n",
       "  </tbody>\n",
       "</table>\n",
       "<p>149762 rows × 11 columns</p>\n",
       "</div>"
      ],
      "text/plain": [
       "        SeriousDlqin2yrs  RevolvingUtilizationOfUnsecuredLines  age  \\\n",
       "0                      1                              0.766127   45   \n",
       "1                      0                              0.957151   40   \n",
       "2                      0                              0.658180   38   \n",
       "3                      0                              0.233810   30   \n",
       "4                      0                              0.907239   49   \n",
       "...                  ...                                   ...  ...   \n",
       "149995                 0                              0.040674   74   \n",
       "149996                 0                              0.299745   44   \n",
       "149997                 0                              0.246044   58   \n",
       "149998                 0                              0.000000   30   \n",
       "149999                 0                              0.850283   64   \n",
       "\n",
       "        NumberOfTime30-59DaysPastDueNotWorse    DebtRatio  MonthlyIncome  \\\n",
       "0                                          2     0.802982         9120.0   \n",
       "1                                          0     0.121876         2600.0   \n",
       "2                                          1     0.085113         3042.0   \n",
       "3                                          0     0.036050         3300.0   \n",
       "4                                          1     0.024926        63588.0   \n",
       "...                                      ...          ...            ...   \n",
       "149995                                     0     0.225131         2100.0   \n",
       "149996                                     0     0.716562         5584.0   \n",
       "149997                                     0  3870.000000            NaN   \n",
       "149998                                     0     0.000000         5716.0   \n",
       "149999                                     0     0.249908         8158.0   \n",
       "\n",
       "        NumberOfOpenCreditLinesAndLoans  NumberOfTimes90DaysLate  \\\n",
       "0                                    13                        0   \n",
       "1                                     4                        0   \n",
       "2                                     2                        1   \n",
       "3                                     5                        0   \n",
       "4                                     7                        0   \n",
       "...                                 ...                      ...   \n",
       "149995                                4                        0   \n",
       "149996                                4                        0   \n",
       "149997                               18                        0   \n",
       "149998                                4                        0   \n",
       "149999                                8                        0   \n",
       "\n",
       "        NumberRealEstateLoansOrLines  NumberOfTime60-89DaysPastDueNotWorse  \\\n",
       "0                                  6                                     0   \n",
       "1                                  0                                     0   \n",
       "2                                  0                                     0   \n",
       "3                                  0                                     0   \n",
       "4                                  1                                     0   \n",
       "...                              ...                                   ...   \n",
       "149995                             1                                     0   \n",
       "149996                             1                                     0   \n",
       "149997                             1                                     0   \n",
       "149998                             0                                     0   \n",
       "149999                             2                                     0   \n",
       "\n",
       "        NumberOfDependents  \n",
       "0                      2.0  \n",
       "1                      1.0  \n",
       "2                      0.0  \n",
       "3                      0.0  \n",
       "4                      0.0  \n",
       "...                    ...  \n",
       "149995                 0.0  \n",
       "149996                 2.0  \n",
       "149997                 0.0  \n",
       "149998                 0.0  \n",
       "149999                 0.0  \n",
       "\n",
       "[149762 rows x 11 columns]"
      ]
     },
     "execution_count": 28,
     "metadata": {},
     "output_type": "execute_result"
    }
   ],
   "source": [
    "final_train = final_train[final_train['RevolvingUtilizationOfUnsecuredLines']<=13]\n",
    "final_train"
   ]
  },
  {
   "cell_type": "markdown",
   "metadata": {},
   "source": [
    "## Null Handling"
   ]
  },
  {
   "cell_type": "code",
   "execution_count": 29,
   "metadata": {},
   "outputs": [
    {
     "data": {
      "text/html": [
       "<div>\n",
       "<style scoped>\n",
       "    .dataframe tbody tr th:only-of-type {\n",
       "        vertical-align: middle;\n",
       "    }\n",
       "\n",
       "    .dataframe tbody tr th {\n",
       "        vertical-align: top;\n",
       "    }\n",
       "\n",
       "    .dataframe thead th {\n",
       "        text-align: right;\n",
       "    }\n",
       "</style>\n",
       "<table border=\"1\" class=\"dataframe\">\n",
       "  <thead>\n",
       "    <tr style=\"text-align: right;\">\n",
       "      <th></th>\n",
       "      <th>Percentage Nulls</th>\n",
       "    </tr>\n",
       "  </thead>\n",
       "  <tbody>\n",
       "    <tr>\n",
       "      <th>MonthlyIncome</th>\n",
       "      <td>19.806760</td>\n",
       "    </tr>\n",
       "    <tr>\n",
       "      <th>NumberOfDependents</th>\n",
       "      <td>2.611477</td>\n",
       "    </tr>\n",
       "  </tbody>\n",
       "</table>\n",
       "</div>"
      ],
      "text/plain": [
       "                    Percentage Nulls\n",
       "MonthlyIncome              19.806760\n",
       "NumberOfDependents          2.611477"
      ]
     },
     "execution_count": 29,
     "metadata": {},
     "output_type": "execute_result"
    }
   ],
   "source": [
    "def MissingHandler(df):\n",
    "    DataMissing = df.isnull().sum()*100/len(df)\n",
    "    DataMissingByColumn = pd.DataFrame({'Percentage Nulls':DataMissing})\n",
    "    DataMissingByColumn.sort_values(by='Percentage Nulls', ascending=False,inplace=True)\n",
    "    return DataMissingByColumn[DataMissingByColumn['Percentage Nulls']>0]\n",
    "\n",
    "MissingHandler(final_train)"
   ]
  },
  {
   "cell_type": "code",
   "execution_count": 30,
   "metadata": {},
   "outputs": [],
   "source": [
    "final_train['MonthlyIncome'].fillna(final_train['MonthlyIncome'].median(), inplace=True)\n",
    "final_train['NumberOfDependents'].fillna(0, inplace = True)"
   ]
  },
  {
   "cell_type": "code",
   "execution_count": 31,
   "metadata": {},
   "outputs": [
    {
     "data": {
      "text/html": [
       "<div>\n",
       "<style scoped>\n",
       "    .dataframe tbody tr th:only-of-type {\n",
       "        vertical-align: middle;\n",
       "    }\n",
       "\n",
       "    .dataframe tbody tr th {\n",
       "        vertical-align: top;\n",
       "    }\n",
       "\n",
       "    .dataframe thead th {\n",
       "        text-align: right;\n",
       "    }\n",
       "</style>\n",
       "<table border=\"1\" class=\"dataframe\">\n",
       "  <thead>\n",
       "    <tr style=\"text-align: right;\">\n",
       "      <th></th>\n",
       "      <th>Percentage Nulls</th>\n",
       "    </tr>\n",
       "  </thead>\n",
       "  <tbody>\n",
       "  </tbody>\n",
       "</table>\n",
       "</div>"
      ],
      "text/plain": [
       "Empty DataFrame\n",
       "Columns: [Percentage Nulls]\n",
       "Index: []"
      ]
     },
     "execution_count": 31,
     "metadata": {},
     "output_type": "execute_result"
    }
   ],
   "source": [
    "MissingHandler(final_train)"
   ]
  },
  {
   "cell_type": "code",
   "execution_count": 32,
   "metadata": {},
   "outputs": [
    {
     "data": {
      "text/html": [
       "<div>\n",
       "<style scoped>\n",
       "    .dataframe tbody tr th:only-of-type {\n",
       "        vertical-align: middle;\n",
       "    }\n",
       "\n",
       "    .dataframe tbody tr th {\n",
       "        vertical-align: top;\n",
       "    }\n",
       "\n",
       "    .dataframe thead th {\n",
       "        text-align: right;\n",
       "    }\n",
       "</style>\n",
       "<table border=\"1\" class=\"dataframe\">\n",
       "  <thead>\n",
       "    <tr style=\"text-align: right;\">\n",
       "      <th></th>\n",
       "      <th>Percentage Nulls</th>\n",
       "    </tr>\n",
       "  </thead>\n",
       "  <tbody>\n",
       "    <tr>\n",
       "      <th>MonthlyIncome</th>\n",
       "      <td>19.805326</td>\n",
       "    </tr>\n",
       "    <tr>\n",
       "      <th>NumberOfDependents</th>\n",
       "      <td>2.587116</td>\n",
       "    </tr>\n",
       "  </tbody>\n",
       "</table>\n",
       "</div>"
      ],
      "text/plain": [
       "                    Percentage Nulls\n",
       "MonthlyIncome              19.805326\n",
       "NumberOfDependents          2.587116"
      ]
     },
     "execution_count": 32,
     "metadata": {},
     "output_type": "execute_result"
    }
   ],
   "source": [
    "MissingHandler(final_test)"
   ]
  },
  {
   "cell_type": "code",
   "execution_count": 33,
   "metadata": {},
   "outputs": [],
   "source": [
    "final_test['MonthlyIncome'].fillna(final_train['MonthlyIncome'].median(), inplace=True)\n",
    "final_test['NumberOfDependents'].fillna(0, inplace = True)"
   ]
  },
  {
   "cell_type": "code",
   "execution_count": 34,
   "metadata": {},
   "outputs": [
    {
     "data": {
      "text/html": [
       "<div>\n",
       "<style scoped>\n",
       "    .dataframe tbody tr th:only-of-type {\n",
       "        vertical-align: middle;\n",
       "    }\n",
       "\n",
       "    .dataframe tbody tr th {\n",
       "        vertical-align: top;\n",
       "    }\n",
       "\n",
       "    .dataframe thead th {\n",
       "        text-align: right;\n",
       "    }\n",
       "</style>\n",
       "<table border=\"1\" class=\"dataframe\">\n",
       "  <thead>\n",
       "    <tr style=\"text-align: right;\">\n",
       "      <th></th>\n",
       "      <th>Percentage Nulls</th>\n",
       "    </tr>\n",
       "  </thead>\n",
       "  <tbody>\n",
       "  </tbody>\n",
       "</table>\n",
       "</div>"
      ],
      "text/plain": [
       "Empty DataFrame\n",
       "Columns: [Percentage Nulls]\n",
       "Index: []"
      ]
     },
     "execution_count": 34,
     "metadata": {},
     "output_type": "execute_result"
    }
   ],
   "source": [
    "MissingHandler(final_test)"
   ]
  },
  {
   "cell_type": "code",
   "execution_count": 35,
   "metadata": {},
   "outputs": [
    {
     "name": "stdout",
     "output_type": "stream",
     "text": [
      "(149762, 11)\n",
      "(101503, 10)\n"
     ]
    }
   ],
   "source": [
    "print(final_train.shape)\n",
    "print(final_test.shape)"
   ]
  },
  {
   "cell_type": "code",
   "execution_count": 36,
   "metadata": {},
   "outputs": [],
   "source": [
    "SeriousDlqIn2Yrs = final_train['SeriousDlqin2yrs']\n",
    "\n",
    "final_train.drop('SeriousDlqin2yrs', axis = 1 , inplace = True)"
   ]
  },
  {
   "cell_type": "code",
   "execution_count": 37,
   "metadata": {},
   "outputs": [
    {
     "data": {
      "text/plain": [
       "(251265, 10)"
      ]
     },
     "execution_count": 37,
     "metadata": {},
     "output_type": "execute_result"
    }
   ],
   "source": [
    "final_data = pd.concat([final_train, final_test])\n",
    "\n",
    "final_data.shape"
   ]
  },
  {
   "cell_type": "code",
   "execution_count": 38,
   "metadata": {},
   "outputs": [],
   "source": [
    "final_data['MonthlyIncomePerPerson'] = final_data['MonthlyIncome']/(final_data['NumberOfDependents']+1)\n",
    "final_data['MonthlyIncomePerPerson'].fillna(0, inplace=True)\n",
    "\n",
    "final_data['MonthlyDebt'] = final_data['MonthlyIncome']*final_data['DebtRatio']\n",
    "final_data['MonthlyDebt'].fillna(final_data['DebtRatio'],inplace=True)\n",
    "final_data['MonthlyDebt'] = np.where(final_data['MonthlyDebt']==0, final_data['DebtRatio'],final_data['MonthlyDebt'])\n",
    "\n",
    "final_data['isRetired'] = np.where((final_data['age'] > 65), 1, 0)\n",
    "\n",
    "final_data['RevolvingLines'] = final_data['NumberOfOpenCreditLinesAndLoans']-final_data['NumberRealEstateLoansOrLines']\n",
    "\n",
    "final_data['hasRevolvingLines']=np.where((final_data['RevolvingLines']>0),1,0)\n",
    "\n",
    "final_data['hasMultipleRealEstates'] = np.where((final_data['NumberRealEstateLoansOrLines']>=2),1,0)\n",
    "\n",
    "final_data['incomeDivByThousand'] = final_data['MonthlyIncome']/1000"
   ]
  },
  {
   "cell_type": "code",
   "execution_count": 39,
   "metadata": {},
   "outputs": [
    {
     "data": {
      "text/html": [
       "<div>\n",
       "<style scoped>\n",
       "    .dataframe tbody tr th:only-of-type {\n",
       "        vertical-align: middle;\n",
       "    }\n",
       "\n",
       "    .dataframe tbody tr th {\n",
       "        vertical-align: top;\n",
       "    }\n",
       "\n",
       "    .dataframe thead th {\n",
       "        text-align: right;\n",
       "    }\n",
       "</style>\n",
       "<table border=\"1\" class=\"dataframe\">\n",
       "  <thead>\n",
       "    <tr style=\"text-align: right;\">\n",
       "      <th></th>\n",
       "      <th>Percentage Nulls</th>\n",
       "    </tr>\n",
       "  </thead>\n",
       "  <tbody>\n",
       "  </tbody>\n",
       "</table>\n",
       "</div>"
      ],
      "text/plain": [
       "Empty DataFrame\n",
       "Columns: [Percentage Nulls]\n",
       "Index: []"
      ]
     },
     "execution_count": 39,
     "metadata": {},
     "output_type": "execute_result"
    }
   ],
   "source": [
    "MissingHandler(final_data)"
   ]
  },
  {
   "cell_type": "code",
   "execution_count": 40,
   "metadata": {},
   "outputs": [
    {
     "name": "stdout",
     "output_type": "stream",
     "text": [
      "(149762, 17)\n",
      "(101503, 17)\n"
     ]
    }
   ],
   "source": [
    "train_df = final_data[:len(final_train)]\n",
    "test_df = final_data[len(final_train):]\n",
    "print(train_df.shape)\n",
    "print(test_df.shape)"
   ]
  },
  {
   "cell_type": "code",
   "execution_count": 41,
   "metadata": {},
   "outputs": [
    {
     "data": {
      "text/plain": [
       "Index(['RevolvingUtilizationOfUnsecuredLines', 'age',\n",
       "       'NumberOfTime30-59DaysPastDueNotWorse', 'DebtRatio', 'MonthlyIncome',\n",
       "       'NumberOfOpenCreditLinesAndLoans', 'NumberOfTimes90DaysLate',\n",
       "       'NumberRealEstateLoansOrLines', 'NumberOfTime60-89DaysPastDueNotWorse',\n",
       "       'NumberOfDependents', 'MonthlyIncomePerPerson', 'MonthlyDebt',\n",
       "       'isRetired', 'RevolvingLines', 'hasRevolvingLines',\n",
       "       'hasMultipleRealEstates', 'incomeDivByThousand'],\n",
       "      dtype='object')"
      ]
     },
     "execution_count": 41,
     "metadata": {},
     "output_type": "execute_result"
    }
   ],
   "source": [
    "train_df.columns"
   ]
  },
  {
   "cell_type": "markdown",
   "metadata": {},
   "source": [
    "## MachineLearning"
   ]
  },
  {
   "cell_type": "markdown",
   "metadata": {},
   "source": [
    "#### GridCV를 활용한 최적의 파라메터를 탐색하기 위해 Train 데이터 내에서 Train 데이터와 Test 데이터로 나눠준다"
   ]
  },
  {
   "cell_type": "code",
   "execution_count": 43,
   "metadata": {},
   "outputs": [],
   "source": [
    "y_df = SeriousDlqIn2Yrs\n",
    "X_df = train_df\n",
    "X_train,X_test,y_train,y_test = train_test_split(X_df,y_df,test_size=0.2,random_state=0)"
   ]
  },
  {
   "cell_type": "markdown",
   "metadata": {},
   "source": [
    "#### 첫번째 분류모델. 의사결정나무\n",
    "##### 데이터 균일도를 바탕으로 규칙기반으로 분류해나가는 방법"
   ]
  },
  {
   "cell_type": "code",
   "execution_count": 42,
   "metadata": {},
   "outputs": [],
   "source": [
    "from sklearn.tree import DecisionTreeClassifier\n",
    "from sklearn.metrics import accuracy_score, roc_auc_score\n",
    "from sklearn.model_selection import train_test_split\n",
    "dt_clf=DecisionTreeClassifier(random_state=0)"
   ]
  },
  {
   "cell_type": "code",
   "execution_count": 44,
   "metadata": {},
   "outputs": [],
   "source": [
    "from sklearn.model_selection import GridSearchCV\n",
    "import warnings\n",
    "warnings.filterwarnings('ignore')"
   ]
  },
  {
   "cell_type": "code",
   "execution_count": 46,
   "metadata": {
    "scrolled": true
   },
   "outputs": [
    {
     "name": "stdout",
     "output_type": "stream",
     "text": [
      "GridSearchCV 최고 평균 roc_auc 점수: 0.8477117752810246\n",
      "GridSearchCV 최적 하이퍼 파라미터: {'max_depth': 7, 'min_samples_split': 20}\n"
     ]
    }
   ],
   "source": [
    "params2={'max_depth':[1,2,3,5,7,10],\n",
    "       'min_samples_split':[5,10,20]}\n",
    "grid_cv2=GridSearchCV(dt_clf,param_grid=params2,scoring='roc_auc',cv=5)\n",
    "grid_cv2.fit(X_train,y_train)\n",
    "print('GridSearchCV 최고 평균 roc_auc 점수:',grid_cv2.best_score_)\n",
    "print('GridSearchCV 최적 하이퍼 파라미터:',grid_cv2.best_params_)"
   ]
  },
  {
   "cell_type": "code",
   "execution_count": 217,
   "metadata": {},
   "outputs": [
    {
     "name": "stdout",
     "output_type": "stream",
     "text": [
      "결정트리 예측 roc_auc: 0.7510763041283977\n"
     ]
    }
   ],
   "source": [
    "best_df_clf=grid_cv2.best_estimator_\n",
    "pred_df=best_df_clf.predict(X_test)\n",
    "roc_auc=roc_auc_score(pred_df,y_test)\n",
    "print('결정트리 예측 roc_auc:',roc_auc)"
   ]
  },
  {
   "cell_type": "code",
   "execution_count": 243,
   "metadata": {},
   "outputs": [],
   "source": [
    "pred_probs=pd.DataFrame(best_df_clf.predict_proba(test_df))[1]\n",
    "pred_probs.index += 1 \n",
    "pred_probs.to_csv(r\"submit_dctree_data3.csv\", index=True)"
   ]
  },
  {
   "cell_type": "markdown",
   "metadata": {},
   "source": [
    "#### 두번째 분류모델. 랜덤포레스트\n",
    "##### 랜덤포레스트는 배깅의 한종류로, 같은 알고리즘(의사결정나무)로 여러 개의 분류기를 만들어서 투표를 통해 최종 결정하는 알고리즘. 분류기들에 가중치를 주어 선형결합을 통해 최종 결과를 예측하는 방법에 해당. 쉽게 말해, 기본적인 의사결정나무와는 달리 부트스트랩 방식을 통해 전체데이터에서 중복을 허용하여 n개의 데이터를 추출하고, 또한 피처값 중에서 중복 허용 없이 k개를 추출하여 만든 데이터를 바탕으로 분류기에 넣어 데이터를 예측한다. 이러한 과정을 여러 번 반복하여 여러 개의 분류기에서 나온 결과값을 바탕으로 예측을 진행한다."
   ]
  },
  {
   "cell_type": "code",
   "execution_count": 48,
   "metadata": {},
   "outputs": [],
   "source": [
    "from sklearn.ensemble import RandomForestClassifier\n",
    "from sklearn.metrics import roc_auc_score"
   ]
  },
  {
   "cell_type": "code",
   "execution_count": 77,
   "metadata": {},
   "outputs": [
    {
     "name": "stdout",
     "output_type": "stream",
     "text": [
      "최적 하이퍼 파라미터와 예측 roc_auc 점수: {'max_depth': 10, 'min_samples_leaf': 10, 'min_samples_split': 3} 0.863204961909967\n"
     ]
    }
   ],
   "source": [
    "params={\n",
    "    'max_depth':[1,3,5,10],\n",
    "    'min_samples_leaf':[1,3,5,10],\n",
    "    'min_samples_split':[1,3,5,10]\n",
    "    }\n",
    "#RandomForest를 설정하고 GridSearchCV수행\n",
    "rf_clf=RandomForestClassifier(random_state=0,n_jobs=-1)\n",
    "grid_cv = GridSearchCV(rf_clf, param_grid=params,cv=3,n_jobs=-1,scoring='roc_auc')\n",
    "grid_cv.fit(X_train,y_train)\n",
    "cv_result=pd.DataFrame(grid_cv.cv_results_)\n",
    "\n",
    "print('최적 하이퍼 파라미터와 예측 roc_auc 점수:',grid_cv.best_params_,grid_cv.best_score_)"
   ]
  },
  {
   "cell_type": "markdown",
   "metadata": {},
   "source": [
    "##### 추가적으로 더 다양한 파라메터를 고려해보았으나, GridCV에서 점수가 오르는 효과는 있었으나, 과적합 문제로 실제 점수가 떨어지는 효과가 발생하였다. 파라메터를 추가하더라도, 파라메터에 대한 경우의수를 구하기 어려워 여기서 멈추기로함"
   ]
  },
  {
   "cell_type": "code",
   "execution_count": 232,
   "metadata": {},
   "outputs": [
    {
     "name": "stdout",
     "output_type": "stream",
     "text": [
      "랜덤포레스트 예측 roc_auc: 0.7843051634178413\n"
     ]
    }
   ],
   "source": [
    "rf_clf=RandomForestClassifier(max_depth=10, min_samples_leaf=10, min_samples_split=3)\n",
    "rf_clf.fit(X_train, y_train)\n",
    "rf_clf_pred = rf_clf.predict(X_test)\n",
    "roc_auc = roc_auc_score(rf_clf_pred,y_test)\n",
    "print('랜덤포레스트 예측 roc_auc:',roc_auc)"
   ]
  },
  {
   "cell_type": "code",
   "execution_count": 233,
   "metadata": {},
   "outputs": [],
   "source": [
    "#제출 데이터 생성\n",
    "rf_clf=RandomForestClassifier(max_depth=10, min_samples_leaf=10, min_samples_split=3)\n",
    "rf_clf.fit(X_train, y_train)\n",
    "pred_probs=pd.DataFrame(rf_clf.predict_proba(test_df))[1]\n",
    "rf_wrapper_pred=pd.DataFrame(pred_probs)\n",
    "rf_wrapper_pred.index += 1 \n",
    "rf_wrapper_pred.to_csv(r\"submit_rf_data3.csv\", index=True)"
   ]
  },
  {
   "cell_type": "markdown",
   "metadata": {},
   "source": [
    "#### 세번째 분류모델. XG부스트(회귀도 가능)\n",
    "##### 부스팅 알고리즘은 분포에 대해 약한 학습자를 반복적으로 학습시켜 최종적으로 강한 학습자를 만드는 것을 목표로한다. 강한 학습자를 만들기 위해 약한 학습자들의 잔차가 큰 잘못 예측한 데이터에 대해 가중치를 부여하여 예측성을 향상시키고자 한다. 의사결정나무를 기반으로 분석하는 부스팅 기법에는 LightGBM과 XGboost가 있으며, 타 부스팅 기법 대시 분석 소요 시간을 획기적으로 줄이면서도, 예측력은 그대로 유지하고 있거나 더 뛰어나다."
   ]
  },
  {
   "cell_type": "code",
   "execution_count": 234,
   "metadata": {
    "scrolled": true
   },
   "outputs": [
    {
     "name": "stdout",
     "output_type": "stream",
     "text": [
      "최적 하이퍼 파라미터와 예측 roc_auc 점수: {'learning_rate': 1, 'max_depth': 3, 'n_estimators': 10, 'random_state': 1} 0.8578684083569662\n"
     ]
    }
   ],
   "source": [
    "y_org = y_train\n",
    "X_org = X_train\n",
    "\n",
    "params={\n",
    "    'max_depth':[1,3,5,10],\n",
    "    'learning_rate':[1,3,5,10],\n",
    "    'n_estimators':[1,3,5,10],\n",
    "    'random_state':[1,3,5,10]\n",
    "    }\n",
    "\n",
    "xgb_wrapper = XGBClassifier()\n",
    "grid_cv = GridSearchCV(xgb_wrapper, param_grid=params,cv=5,n_jobs=-1,scoring='roc_auc')\n",
    "grid_cv.fit(X_train,y_train)\n",
    "\n",
    "cv_result=pd.DataFrame(grid_cv.cv_results_)\n",
    "\n",
    "print('최적 하이퍼 파라미터와 예측 roc_auc 점수:',grid_cv.best_params_,grid_cv.best_score_)"
   ]
  },
  {
   "cell_type": "code",
   "execution_count": 235,
   "metadata": {},
   "outputs": [
    {
     "name": "stdout",
     "output_type": "stream",
     "text": [
      "[0]\tvalidation_0-logloss:0.25077\n",
      "Will train until validation_0-logloss hasn't improved in 100 rounds.\n",
      "[1]\tvalidation_0-logloss:0.19853\n",
      "[2]\tvalidation_0-logloss:0.18634\n",
      "[3]\tvalidation_0-logloss:0.18383\n",
      "[4]\tvalidation_0-logloss:0.18245\n",
      "[5]\tvalidation_0-logloss:0.18188\n",
      "[6]\tvalidation_0-logloss:0.18137\n",
      "[7]\tvalidation_0-logloss:0.18126\n",
      "[8]\tvalidation_0-logloss:0.18123\n",
      "[9]\tvalidation_0-logloss:0.18136\n",
      "XGBoost 예측 roc_auc: 0.7843051634178413\n"
     ]
    }
   ],
   "source": [
    "y_org = y_train\n",
    "X_org = X_train\n",
    "\n",
    "import xgboost as xgb\n",
    "from xgboost import XGBClassifier\n",
    "\n",
    "xgb_wrapper = XGBClassifier(learning_rate=1 , max_depth=3, n_estimators=10, random_state=1)\n",
    "evals=[(X_test,y_test)]\n",
    "xgb_wrapper.fit(X_org, y_org, early_stopping_rounds=100, eval_metric=\"logloss\",eval_set=evals,verbose=True)\n",
    "xgb_wrapper_pred = xgb_wrapper.predict(X_test)\n",
    "print('XGBoost 예측 roc_auc:',roc_auc)"
   ]
  },
  {
   "cell_type": "code",
   "execution_count": 224,
   "metadata": {},
   "outputs": [],
   "source": [
    "# #임계값을 다르게 해서 점수 확인\n",
    "# pred_probs=pd.DataFrame(xgb_wrapper.predict_proba(X_test))[1]\n",
    "# preds = [1 if x>0.5 else 0 for x in pred_probs]\n",
    "# preds2 = [1 if x>0.7 else 0 for x in pred_probs]\n",
    "# preds3 = [1 if x>0.1 else 0 for x in pred_probs]\n",
    "# preds4 = [1 if x>0.05 else 0 for x in pred_probs]"
   ]
  },
  {
   "cell_type": "code",
   "execution_count": 225,
   "metadata": {},
   "outputs": [
    {
     "data": {
      "text/plain": [
       "0.7549942946767411"
      ]
     },
     "execution_count": 225,
     "metadata": {},
     "output_type": "execute_result"
    }
   ],
   "source": [
    "# from sklearn.metrics import roc_auc_score\n",
    "# roc_auc_score(preds, y_test)"
   ]
  },
  {
   "cell_type": "code",
   "execution_count": 226,
   "metadata": {},
   "outputs": [
    {
     "data": {
      "text/plain": [
       "0.7795137034202108"
      ]
     },
     "execution_count": 226,
     "metadata": {},
     "output_type": "execute_result"
    }
   ],
   "source": [
    "# roc_auc_score(preds2,y_test)"
   ]
  },
  {
   "cell_type": "code",
   "execution_count": 227,
   "metadata": {},
   "outputs": [
    {
     "data": {
      "text/plain": [
       "0.6264307238354005"
      ]
     },
     "execution_count": 227,
     "metadata": {},
     "output_type": "execute_result"
    }
   ],
   "source": [
    "# roc_auc_score(preds3,y_test)"
   ]
  },
  {
   "cell_type": "code",
   "execution_count": 228,
   "metadata": {},
   "outputs": [
    {
     "data": {
      "text/plain": [
       "0.5834534157461636"
      ]
     },
     "execution_count": 228,
     "metadata": {},
     "output_type": "execute_result"
    }
   ],
   "source": [
    "# roc_auc_score( preds4, y_test)"
   ]
  },
  {
   "cell_type": "code",
   "execution_count": 236,
   "metadata": {},
   "outputs": [],
   "source": [
    "#제출 데이터 생성\n",
    "pred_probs=pd.DataFrame(xgb_wrapper.predict_proba(test_df))[1]\n",
    "xgb_wrapper_pred=pd.DataFrame(pred_probs)\n",
    "xgb_wrapper_pred.index += 1 \n",
    "xgb_wrapper_pred\n",
    "xgb_wrapper_pred.to_csv(r\"submit_xgboost_data3.csv\", index=True)"
   ]
  },
  {
   "cell_type": "markdown",
   "metadata": {},
   "source": [
    "#### 네번쨰 분류모델. LightGBM\n",
    "##### XG부스트의 개선 분류모델. XG부스트는 부스팅 모델중에서 상대적으로 빠르긴하나, 여전히 시간이 오래 걸린다는 문제점을 가지고 있습니다. 예측성을 유지하면서도 이러한 문제를 해결한 알고리즘이 LightGBM이다. LightGBM은 대용량 데이터 처리에 적합하며, 메모리 사용량도 적으며, CPU뿐만 아니라 GPU도 활용가능하다. 다만, 너무 적은 양의 데이터에 사용시 과적합 문제가 발생할 가능성이 높다"
   ]
  },
  {
   "cell_type": "code",
   "execution_count": 237,
   "metadata": {},
   "outputs": [],
   "source": [
    "from lightgbm import LGBMClassifier"
   ]
  },
  {
   "cell_type": "code",
   "execution_count": 238,
   "metadata": {},
   "outputs": [
    {
     "name": "stdout",
     "output_type": "stream",
     "text": [
      "최적 하이퍼 파라미터와 예측 roc_auc 점수: {'learning_rate': 0.5, 'max_depth': 3, 'n_estimators': 10, 'random_state': 1} 0.8593512858520439\n"
     ]
    }
   ],
   "source": [
    "params={\n",
    "    'max_depth':[1,3,5,10],\n",
    "    'learning_rate':[0.5,1,3,5,10],\n",
    "    'n_estimators':[1,3,5,10],\n",
    "    'random_state':[1,3,5,10]\n",
    "    }\n",
    "\n",
    "LGBM_wrapper = LGBMClassifier()\n",
    "grid_cv = GridSearchCV(LGBM_wrapper, param_grid=params,cv=5,n_jobs=-1,scoring='roc_auc')\n",
    "grid_cv.fit(X_train,y_train)\n",
    "\n",
    "cv_result=pd.DataFrame(grid_cv.cv_results_)\n",
    "\n",
    "print('최적 하이퍼 파라미터와 예측 roc_auc 점수:',grid_cv.best_params_,grid_cv.best_score_)"
   ]
  },
  {
   "cell_type": "code",
   "execution_count": 239,
   "metadata": {},
   "outputs": [
    {
     "name": "stdout",
     "output_type": "stream",
     "text": [
      "[1]\tvalid_0's binary_logloss: 0.203586\n",
      "Training until validation scores don't improve for 100 rounds\n",
      "[2]\tvalid_0's binary_logloss: 0.192361\n",
      "[3]\tvalid_0's binary_logloss: 0.188022\n",
      "[4]\tvalid_0's binary_logloss: 0.185608\n",
      "[5]\tvalid_0's binary_logloss: 0.18432\n",
      "[6]\tvalid_0's binary_logloss: 0.183106\n",
      "[7]\tvalid_0's binary_logloss: 0.18239\n",
      "[8]\tvalid_0's binary_logloss: 0.181849\n",
      "[9]\tvalid_0's binary_logloss: 0.181497\n",
      "[10]\tvalid_0's binary_logloss: 0.181113\n",
      "Did not meet early stopping. Best iteration is:\n",
      "[10]\tvalid_0's binary_logloss: 0.181113\n",
      "LightGBM 최적 파라미터 roc_auc 예측 점수: 0.7658810071341612\n"
     ]
    }
   ],
   "source": [
    "lgbm_wrapper_time=LGBMClassifier(learning_rate=0.5, max_depth=3, n_estimators=10, random_state=1)\n",
    "evals=[(X_test,y_test)]\n",
    "lgbm_wrapper_time.fit(X_train, y_train, early_stopping_rounds=100, eval_metric=\"logloss\",eval_set=evals,verbose=True)\n",
    "lgbm_wrapper_time_preds=lgbm_wrapper_time.predict(X_test)\n",
    "lgbm_time_roc_auc = roc_auc_score(lgbm_wrapper_time_preds,y_test )\n",
    "print('LightGBM 최적 파라미터 roc_auc 예측 점수:',lgbm_time_roc_auc)"
   ]
  },
  {
   "cell_type": "code",
   "execution_count": 240,
   "metadata": {},
   "outputs": [],
   "source": [
    "pred_probs=pd.DataFrame(lgbm_wrapper_time.predict_proba(test_df))[1]\n",
    "lgbm_wrapper_pred=pd.DataFrame(pred_probs)\n",
    "lgbm_wrapper_pred.index += 1 \n",
    "lgbm_wrapper_pred\n",
    "lgbm_wrapper_pred.to_csv(r\"submit_lgbm_data3.csv\", index=True)"
   ]
  }
 ],
 "metadata": {
  "kernelspec": {
   "display_name": "Python 3",
   "language": "python",
   "name": "python3"
  },
  "language_info": {
   "codemirror_mode": {
    "name": "ipython",
    "version": 3
   },
   "file_extension": ".py",
   "mimetype": "text/x-python",
   "name": "python",
   "nbconvert_exporter": "python",
   "pygments_lexer": "ipython3",
   "version": "3.8.3"
  }
 },
 "nbformat": 4,
 "nbformat_minor": 4
}

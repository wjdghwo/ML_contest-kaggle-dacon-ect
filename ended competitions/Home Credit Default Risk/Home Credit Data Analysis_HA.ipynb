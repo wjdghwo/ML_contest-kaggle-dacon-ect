{
 "cells": [
  {
   "cell_type": "code",
   "execution_count": 1,
   "metadata": {},
   "outputs": [],
   "source": [
    "import pandas as pd # package for high-performance, easy-to-use data structures and data analysis\n",
    "import numpy as np # fundamental package for scientific computing with Python\n",
    "import matplotlib\n",
    "import matplotlib.pyplot as plt # for plotting\n",
    "import seaborn as sns # for making plots with seaborn\n",
    "color = sns.color_palette() #컬러팔레트 사용을 위해서 활성화, 적용시 색다른 테마 적용가능\n",
    "from numpy import array\n",
    "from matplotlib import cm\n",
    "from tqdm import tqdm"
   ]
  },
  {
   "cell_type": "markdown",
   "metadata": {},
   "source": [
    "- 데이터 불러오기 및 열과 행의 갯수 확인"
   ]
  },
  {
   "cell_type": "code",
   "execution_count": 2,
   "metadata": {},
   "outputs": [],
   "source": [
    "#test와 train 데이터만 불러오기\n",
    "\n",
    "app_train = pd.read_csv('application_train.csv')\n",
    "app_test = pd.read_csv('application_test.csv')"
   ]
  },
  {
   "cell_type": "code",
   "execution_count": 3,
   "metadata": {},
   "outputs": [
    {
     "name": "stdout",
     "output_type": "stream",
     "text": [
      "Size of application_train data (307511, 122)\n",
      "Size of application_test data (48744, 121)\n"
     ]
    }
   ],
   "source": [
    "#각 데이터에 대한 행과 열의 갯수 확인\n",
    "#train데이터에 비해 test데이터에 1열이 부족한 이유는 타겟 데이터가 빠졌기 때문\n",
    "\n",
    "print('Size of application_train data', app_train.shape)\n",
    "print('Size of application_test data', app_test.shape)"
   ]
  },
  {
   "cell_type": "markdown",
   "metadata": {},
   "source": [
    "- 범주형 컬럼 데이터를 원핫인코딩 진행 함수(만일을 대비해, target을 제외하고 다른 열이나 행이 있을 경우 삭제시켜줌)"
   ]
  },
  {
   "cell_type": "code",
   "execution_count": 4,
   "metadata": {},
   "outputs": [],
   "source": [
    "def cat_to_dummy(train, test):\n",
    "    train_d = pd.get_dummies(train, drop_first=False)\n",
    "    test_d = pd.get_dummies(test, drop_first=False)\n",
    "    # make sure that the number of features in train and test should be same\n",
    "    for i in train_d.columns:\n",
    "        if i not in test_d.columns:\n",
    "            if i!='TARGET':\n",
    "                train_d = train_d.drop(i, axis=1)\n",
    "    for j in test_d.columns:\n",
    "        if j not in train_d.columns:\n",
    "            if j!='TARGET':\n",
    "                test_d = test_d.drop(i, axis=1)\n",
    "    print('Memory usage of train increases from {:.2f} to {:.2f} MB'.format(train.memory_usage().sum() / 1024**2, \n",
    "                                                                            train_d.memory_usage().sum() / 1024**2))\n",
    "    print('Memory usage of test increases from {:.2f} to {:.2f} MB'.format(test.memory_usage().sum() / 1024**2, \n",
    "                                                                            test_d.memory_usage().sum() / 1024**2))\n",
    "    return train_d, test_d"
   ]
  },
  {
   "cell_type": "code",
   "execution_count": 5,
   "metadata": {},
   "outputs": [
    {
     "name": "stdout",
     "output_type": "stream",
     "text": [
      "Memory usage of train increases from 286.23 to 288.87 MB\n",
      "Memory usage of test increases from 45.00 to 45.42 MB\n",
      "Size of application_train data (307511, 243)\n",
      "Size of application_test data (48744, 242)\n"
     ]
    }
   ],
   "source": [
    "#함수 실행\n",
    "\n",
    "app_train, app_test = cat_to_dummy(app_train, app_test)\n",
    "print('Size of application_train data', app_train.shape)\n",
    "print('Size of application_test data', app_test.shape)"
   ]
  },
  {
   "cell_type": "markdown",
   "metadata": {},
   "source": [
    "- 결측치 확인용 함수 제작 및 사용"
   ]
  },
  {
   "cell_type": "code",
   "execution_count": 6,
   "metadata": {},
   "outputs": [],
   "source": [
    "def find_missing(data):\n",
    "    # number of missing values\n",
    "    count_missing = data.isnull().sum().values\n",
    "    # total records\n",
    "    total = data.shape[0]\n",
    "    # percentage of missing\n",
    "    ratio_missing = count_missing/total\n",
    "    # return a dataframe to show: feature name, # of missing and % of missing\n",
    "    return pd.DataFrame(data={'missing_count':count_missing, 'missing_ratio':ratio_missing}, index=data.columns.values)"
   ]
  },
  {
   "cell_type": "code",
   "execution_count": 7,
   "metadata": {},
   "outputs": [],
   "source": [
    "#함수 실행\n",
    "\n",
    "missing_train = find_missing(app_train)\n",
    "missing_test = find_missing(app_test)\n",
    "\n",
    "missing = pd.concat([missing_train,missing_test])"
   ]
  },
  {
   "cell_type": "markdown",
   "metadata": {},
   "source": [
    "-  결측치 단위에 따라 분류해서 보기"
   ]
  },
  {
   "cell_type": "code",
   "execution_count": 8,
   "metadata": {},
   "outputs": [],
   "source": [
    "#결측치 갯수별로 컬럼 나눠보기\n",
    "def see_missing(missing):\n",
    "    missing_10 = missing[  (missing['missing_count']>=10)  &  (missing['missing_count']<20)]  \n",
    "    missing_100 =  missing[  (missing['missing_count']>=20)  &  (missing['missing_count']<100)] \n",
    "    missing_1000 = missing[  (missing['missing_count']>=100)  &  (missing['missing_count']<1000)] \n",
    "    missing_10000 = missing[  (missing['missing_count']>=1000)  &  (missing['missing_count']<10000)] \n",
    "    missing_100000 = missing[  (missing['missing_count']>=10000)  &  (missing['missing_count']<100000)] \n",
    "    missing_1000000 = missing[  (missing['missing_count']>=100000)  ]\n",
    "\n",
    "    print('결측치 10개 미만\\n', missing_10,'\\n--------------\\n')\n",
    "    print('결측치 100개 미만\\n', missing_100,'\\n--------------\\n')\n",
    "    print('결측치 1000개 미만\\n', missing_1000,'\\n--------------\\n')\n",
    "    print('결측치 10000개 미만\\n', missing_10000,'\\n--------------\\n')\n",
    "    print('결측치 100000개 미만\\n', missing_100000,'\\n--------------\\n')\n",
    "    print('결측치 100000개 이상\\n', missing_1000000,'\\n--------------\\n')"
   ]
  },
  {
   "cell_type": "code",
   "execution_count": 9,
   "metadata": {},
   "outputs": [
    {
     "name": "stdout",
     "output_type": "stream",
     "text": [
      "결측치 10개 미만\n",
      "              missing_count  missing_ratio\n",
      "AMT_ANNUITY             12       0.000039 \n",
      "--------------\n",
      "\n",
      "결측치 100개 미만\n",
      " Empty DataFrame\n",
      "Columns: [missing_count, missing_ratio]\n",
      "Index: [] \n",
      "--------------\n",
      "\n",
      "결측치 1000개 미만\n",
      "                  missing_count  missing_ratio\n",
      "AMT_GOODS_PRICE            278       0.000904\n",
      "EXT_SOURCE_2               660       0.002146 \n",
      "--------------\n",
      "\n",
      "결측치 10000개 미만\n",
      "                           missing_count  missing_ratio\n",
      "OBS_30_CNT_SOCIAL_CIRCLE           1021        0.00332\n",
      "DEF_30_CNT_SOCIAL_CIRCLE           1021        0.00332\n",
      "OBS_60_CNT_SOCIAL_CIRCLE           1021        0.00332\n",
      "DEF_60_CNT_SOCIAL_CIRCLE           1021        0.00332 \n",
      "--------------\n",
      "\n",
      "결측치 100000개 미만\n",
      "                             missing_count  missing_ratio\n",
      "EXT_SOURCE_3                        60965       0.198253\n",
      "AMT_REQ_CREDIT_BUREAU_HOUR          41519       0.135016\n",
      "AMT_REQ_CREDIT_BUREAU_DAY           41519       0.135016\n",
      "AMT_REQ_CREDIT_BUREAU_WEEK          41519       0.135016\n",
      "AMT_REQ_CREDIT_BUREAU_MON           41519       0.135016\n",
      "AMT_REQ_CREDIT_BUREAU_QRT           41519       0.135016\n",
      "AMT_REQ_CREDIT_BUREAU_YEAR          41519       0.135016 \n",
      "--------------\n",
      "\n",
      "결측치 100000개 이상\n",
      "                               missing_count  missing_ratio\n",
      "OWN_CAR_AGE                          202929       0.659908\n",
      "EXT_SOURCE_1                         173378       0.563811\n",
      "APARTMENTS_AVG                       156061       0.507497\n",
      "BASEMENTAREA_AVG                     179943       0.585160\n",
      "YEARS_BEGINEXPLUATATION_AVG          150007       0.487810\n",
      "YEARS_BUILD_AVG                      204488       0.664978\n",
      "COMMONAREA_AVG                       214865       0.698723\n",
      "ELEVATORS_AVG                        163891       0.532960\n",
      "ENTRANCES_AVG                        154828       0.503488\n",
      "FLOORSMAX_AVG                        153020       0.497608\n",
      "FLOORSMIN_AVG                        208642       0.678486\n",
      "LANDAREA_AVG                         182590       0.593767\n",
      "LIVINGAPARTMENTS_AVG                 210199       0.683550\n",
      "LIVINGAREA_AVG                       154350       0.501933\n",
      "NONLIVINGAPARTMENTS_AVG              213514       0.694330\n",
      "NONLIVINGAREA_AVG                    169682       0.551792\n",
      "APARTMENTS_MODE                      156061       0.507497\n",
      "BASEMENTAREA_MODE                    179943       0.585160\n",
      "YEARS_BEGINEXPLUATATION_MODE         150007       0.487810\n",
      "YEARS_BUILD_MODE                     204488       0.664978\n",
      "COMMONAREA_MODE                      214865       0.698723\n",
      "ELEVATORS_MODE                       163891       0.532960\n",
      "ENTRANCES_MODE                       154828       0.503488\n",
      "FLOORSMAX_MODE                       153020       0.497608\n",
      "FLOORSMIN_MODE                       208642       0.678486\n",
      "LANDAREA_MODE                        182590       0.593767\n",
      "LIVINGAPARTMENTS_MODE                210199       0.683550\n",
      "LIVINGAREA_MODE                      154350       0.501933\n",
      "NONLIVINGAPARTMENTS_MODE             213514       0.694330\n",
      "NONLIVINGAREA_MODE                   169682       0.551792\n",
      "APARTMENTS_MEDI                      156061       0.507497\n",
      "BASEMENTAREA_MEDI                    179943       0.585160\n",
      "YEARS_BEGINEXPLUATATION_MEDI         150007       0.487810\n",
      "YEARS_BUILD_MEDI                     204488       0.664978\n",
      "COMMONAREA_MEDI                      214865       0.698723\n",
      "ELEVATORS_MEDI                       163891       0.532960\n",
      "ENTRANCES_MEDI                       154828       0.503488\n",
      "FLOORSMAX_MEDI                       153020       0.497608\n",
      "FLOORSMIN_MEDI                       208642       0.678486\n",
      "LANDAREA_MEDI                        182590       0.593767\n",
      "LIVINGAPARTMENTS_MEDI                210199       0.683550\n",
      "LIVINGAREA_MEDI                      154350       0.501933\n",
      "NONLIVINGAPARTMENTS_MEDI             213514       0.694330\n",
      "NONLIVINGAREA_MEDI                   169682       0.551792\n",
      "TOTALAREA_MODE                       148431       0.482685 \n",
      "--------------\n",
      "\n"
     ]
    }
   ],
   "source": [
    "see_missing(missing_train)"
   ]
  },
  {
   "cell_type": "code",
   "execution_count": 10,
   "metadata": {},
   "outputs": [
    {
     "name": "stdout",
     "output_type": "stream",
     "text": [
      "결측치 10개 미만\n",
      " Empty DataFrame\n",
      "Columns: [missing_count, missing_ratio]\n",
      "Index: [] \n",
      "--------------\n",
      "\n",
      "결측치 100개 미만\n",
      "                           missing_count  missing_ratio\n",
      "AMT_ANNUITY                          24       0.000492\n",
      "OBS_30_CNT_SOCIAL_CIRCLE             29       0.000595\n",
      "DEF_30_CNT_SOCIAL_CIRCLE             29       0.000595\n",
      "OBS_60_CNT_SOCIAL_CIRCLE             29       0.000595\n",
      "DEF_60_CNT_SOCIAL_CIRCLE             29       0.000595 \n",
      "--------------\n",
      "\n",
      "결측치 1000개 미만\n",
      " Empty DataFrame\n",
      "Columns: [missing_count, missing_ratio]\n",
      "Index: [] \n",
      "--------------\n",
      "\n",
      "결측치 10000개 미만\n",
      "                             missing_count  missing_ratio\n",
      "EXT_SOURCE_3                         8668       0.177827\n",
      "AMT_REQ_CREDIT_BUREAU_HOUR           6049       0.124097\n",
      "AMT_REQ_CREDIT_BUREAU_DAY            6049       0.124097\n",
      "AMT_REQ_CREDIT_BUREAU_WEEK           6049       0.124097\n",
      "AMT_REQ_CREDIT_BUREAU_MON            6049       0.124097\n",
      "AMT_REQ_CREDIT_BUREAU_QRT            6049       0.124097\n",
      "AMT_REQ_CREDIT_BUREAU_YEAR           6049       0.124097 \n",
      "--------------\n",
      "\n",
      "결측치 100000개 미만\n",
      "                               missing_count  missing_ratio\n",
      "OWN_CAR_AGE                           32312       0.662892\n",
      "EXT_SOURCE_1                          20532       0.421221\n",
      "APARTMENTS_AVG                        23887       0.490050\n",
      "BASEMENTAREA_AVG                      27641       0.567065\n",
      "YEARS_BEGINEXPLUATATION_AVG           22856       0.468899\n",
      "YEARS_BUILD_AVG                       31818       0.652757\n",
      "COMMONAREA_AVG                        33495       0.687161\n",
      "ELEVATORS_AVG                         25189       0.516761\n",
      "ENTRANCES_AVG                         23579       0.483731\n",
      "FLOORSMAX_AVG                         23321       0.478438\n",
      "FLOORSMIN_AVG                         32466       0.666051\n",
      "LANDAREA_AVG                          28254       0.579641\n",
      "LIVINGAPARTMENTS_AVG                  32780       0.672493\n",
      "LIVINGAREA_AVG                        23552       0.483177\n",
      "NONLIVINGAPARTMENTS_AVG               33347       0.684125\n",
      "NONLIVINGAREA_AVG                     26084       0.535122\n",
      "APARTMENTS_MODE                       23887       0.490050\n",
      "BASEMENTAREA_MODE                     27641       0.567065\n",
      "YEARS_BEGINEXPLUATATION_MODE          22856       0.468899\n",
      "YEARS_BUILD_MODE                      31818       0.652757\n",
      "COMMONAREA_MODE                       33495       0.687161\n",
      "ELEVATORS_MODE                        25189       0.516761\n",
      "ENTRANCES_MODE                        23579       0.483731\n",
      "FLOORSMAX_MODE                        23321       0.478438\n",
      "FLOORSMIN_MODE                        32466       0.666051\n",
      "LANDAREA_MODE                         28254       0.579641\n",
      "LIVINGAPARTMENTS_MODE                 32780       0.672493\n",
      "LIVINGAREA_MODE                       23552       0.483177\n",
      "NONLIVINGAPARTMENTS_MODE              33347       0.684125\n",
      "NONLIVINGAREA_MODE                    26084       0.535122\n",
      "APARTMENTS_MEDI                       23887       0.490050\n",
      "BASEMENTAREA_MEDI                     27641       0.567065\n",
      "YEARS_BEGINEXPLUATATION_MEDI          22856       0.468899\n",
      "YEARS_BUILD_MEDI                      31818       0.652757\n",
      "COMMONAREA_MEDI                       33495       0.687161\n",
      "ELEVATORS_MEDI                        25189       0.516761\n",
      "ENTRANCES_MEDI                        23579       0.483731\n",
      "FLOORSMAX_MEDI                        23321       0.478438\n",
      "FLOORSMIN_MEDI                        32466       0.666051\n",
      "LANDAREA_MEDI                         28254       0.579641\n",
      "LIVINGAPARTMENTS_MEDI                 32780       0.672493\n",
      "LIVINGAREA_MEDI                       23552       0.483177\n",
      "NONLIVINGAPARTMENTS_MEDI              33347       0.684125\n",
      "NONLIVINGAREA_MEDI                    26084       0.535122\n",
      "TOTALAREA_MODE                        22624       0.464139 \n",
      "--------------\n",
      "\n",
      "결측치 100000개 이상\n",
      " Empty DataFrame\n",
      "Columns: [missing_count, missing_ratio]\n",
      "Index: [] \n",
      "--------------\n",
      "\n"
     ]
    }
   ],
   "source": [
    "see_missing(missing_test)"
   ]
  },
  {
   "cell_type": "markdown",
   "metadata": {},
   "source": [
    "#### 분석 결과, 상위 결측치 컬럼 리스트를 자세히 보면.\n",
    "- AMT_REQ_CREDIT_BUREAU~로 되어있는 컬럼의 경우 모두 동일한 열의 갯수만큼 결측치가 발생하고 있음. 참고로, 이 컬럼들은 신청전 1시간/1일/1주일안에 문의 횟수를 보여주고 있음\n",
    "- ~CNT_SOCIAL_CIRCLE 컬럼들 역시 동일한 특징을 보이고 있음. 참고로, 이 컬럼들은 주변 사회구성원(가족/친구/친적) 숫자를 나타내는 것으로 추정됨\n",
    "- 결측치가 100000개 이상인 컬럼들은 대부분 집과 관련된 정보를 담고 있음"
   ]
  },
  {
   "cell_type": "code",
   "execution_count": 11,
   "metadata": {},
   "outputs": [],
   "source": [
    "app_train['DAYS_BIRTH'] = abs(app_train['DAYS_BIRTH'])  # 'DAYS_BIRTH의 값이 음수여서 양으로 바꿔주는 듯 하다.'\n",
    "app_train['DAYS_EMPLOYED'] = abs(app_train['DAYS_EMPLOYED'])  # 'DAYS_EMPLOYED를 DAYS_BIRTH로 대체하는 걸로 돼있는데 오타인가?'\n",
    "app_train['DAYS_LAST_PHONE_CHANGE'] = abs(app_train['DAYS_LAST_PHONE_CHANGE'])"
   ]
  },
  {
   "cell_type": "markdown",
   "metadata": {},
   "source": [
    "- 일부 컬럼을 보면 음수인 경우가 있음. 이 열들의 경우 입사한지, ID등록한지, 태어난지 현재(오늘)로부터 몇 일전인지 보여줌. 만일을 대비해, 히스토그램을 통해 분포를 확인해봤음\n"
   ]
  },
  {
   "cell_type": "code",
   "execution_count": 12,
   "metadata": {},
   "outputs": [
    {
     "data": {
      "text/html": [
       "<div>\n",
       "<style scoped>\n",
       "    .dataframe tbody tr th:only-of-type {\n",
       "        vertical-align: middle;\n",
       "    }\n",
       "\n",
       "    .dataframe tbody tr th {\n",
       "        vertical-align: top;\n",
       "    }\n",
       "\n",
       "    .dataframe thead th {\n",
       "        text-align: right;\n",
       "    }\n",
       "</style>\n",
       "<table border=\"1\" class=\"dataframe\">\n",
       "  <thead>\n",
       "    <tr style=\"text-align: right;\">\n",
       "      <th></th>\n",
       "      <th>DAYS_BIRTH</th>\n",
       "      <th>DAYS_BIRTH</th>\n",
       "    </tr>\n",
       "  </thead>\n",
       "  <tbody>\n",
       "    <tr>\n",
       "      <th>missing_count</th>\n",
       "      <td>0.0</td>\n",
       "      <td>0.0</td>\n",
       "    </tr>\n",
       "    <tr>\n",
       "      <th>missing_ratio</th>\n",
       "      <td>0.0</td>\n",
       "      <td>0.0</td>\n",
       "    </tr>\n",
       "  </tbody>\n",
       "</table>\n",
       "</div>"
      ],
      "text/plain": [
       "               DAYS_BIRTH  DAYS_BIRTH\n",
       "missing_count         0.0         0.0\n",
       "missing_ratio         0.0         0.0"
      ]
     },
     "execution_count": 12,
     "metadata": {},
     "output_type": "execute_result"
    },
    {
     "data": {
      "image/png": "[encoded data removed]",
      "text/plain": [
       "<Figure size 432x288 with 1 Axes>"
      ]
     },
     "metadata": {
      "needs_background": "light"
     },
     "output_type": "display_data"
    }
   ],
   "source": [
    "#'DAYS_BIRTH'컬럼, 고객이 언제 태어났는지 유추가능\n",
    "plt.hist(app_train['DAYS_BIRTH'] )\n",
    "missing.T['DAYS_BIRTH']"
   ]
  },
  {
   "cell_type": "code",
   "execution_count": 13,
   "metadata": {},
   "outputs": [
    {
     "data": {
      "text/html": [
       "<div>\n",
       "<style scoped>\n",
       "    .dataframe tbody tr th:only-of-type {\n",
       "        vertical-align: middle;\n",
       "    }\n",
       "\n",
       "    .dataframe tbody tr th {\n",
       "        vertical-align: top;\n",
       "    }\n",
       "\n",
       "    .dataframe thead th {\n",
       "        text-align: right;\n",
       "    }\n",
       "</style>\n",
       "<table border=\"1\" class=\"dataframe\">\n",
       "  <thead>\n",
       "    <tr style=\"text-align: right;\">\n",
       "      <th></th>\n",
       "      <th>DAYS_EMPLOYED</th>\n",
       "      <th>DAYS_EMPLOYED</th>\n",
       "    </tr>\n",
       "  </thead>\n",
       "  <tbody>\n",
       "    <tr>\n",
       "      <th>missing_count</th>\n",
       "      <td>0.0</td>\n",
       "      <td>0.0</td>\n",
       "    </tr>\n",
       "    <tr>\n",
       "      <th>missing_ratio</th>\n",
       "      <td>0.0</td>\n",
       "      <td>0.0</td>\n",
       "    </tr>\n",
       "  </tbody>\n",
       "</table>\n",
       "</div>"
      ],
      "text/plain": [
       "               DAYS_EMPLOYED  DAYS_EMPLOYED\n",
       "missing_count            0.0            0.0\n",
       "missing_ratio            0.0            0.0"
      ]
     },
     "execution_count": 13,
     "metadata": {},
     "output_type": "execute_result"
    },
    {
     "data": {
      "image/png": "[encoded data removed]",
      "text/plain": [
       "<Figure size 432x288 with 1 Axes>"
      ]
     },
     "metadata": {
      "needs_background": "light"
     },
     "output_type": "display_data"
    }
   ],
   "source": [
    "#'DAYS_EMPLOYED'컬럼, 고객이 현재 동일한 직장이 몇 년동안 다녔는지 유추가능\n",
    "#이상하게 일부 숫자는 양수로 되어 있음(그것도 모두 엑셀에서 같은 숫자를 가짐;;)\n",
    "plt.hist(app_train['DAYS_EMPLOYED'])\n",
    "missing.T['DAYS_EMPLOYED']"
   ]
  },
  {
   "cell_type": "code",
   "execution_count": 14,
   "metadata": {},
   "outputs": [
    {
     "data": {
      "text/html": [
       "<div>\n",
       "<style scoped>\n",
       "    .dataframe tbody tr th:only-of-type {\n",
       "        vertical-align: middle;\n",
       "    }\n",
       "\n",
       "    .dataframe tbody tr th {\n",
       "        vertical-align: top;\n",
       "    }\n",
       "\n",
       "    .dataframe thead th {\n",
       "        text-align: right;\n",
       "    }\n",
       "</style>\n",
       "<table border=\"1\" class=\"dataframe\">\n",
       "  <thead>\n",
       "    <tr style=\"text-align: right;\">\n",
       "      <th></th>\n",
       "      <th>DAYS_REGISTRATION</th>\n",
       "      <th>DAYS_REGISTRATION</th>\n",
       "    </tr>\n",
       "  </thead>\n",
       "  <tbody>\n",
       "    <tr>\n",
       "      <th>missing_count</th>\n",
       "      <td>0.0</td>\n",
       "      <td>0.0</td>\n",
       "    </tr>\n",
       "    <tr>\n",
       "      <th>missing_ratio</th>\n",
       "      <td>0.0</td>\n",
       "      <td>0.0</td>\n",
       "    </tr>\n",
       "  </tbody>\n",
       "</table>\n",
       "</div>"
      ],
      "text/plain": [
       "               DAYS_REGISTRATION  DAYS_REGISTRATION\n",
       "missing_count                0.0                0.0\n",
       "missing_ratio                0.0                0.0"
      ]
     },
     "execution_count": 14,
     "metadata": {},
     "output_type": "execute_result"
    },
    {
     "data": {
      "image/png": "[encoded data removed]",
      "text/plain": [
       "<Figure size 432x288 with 1 Axes>"
      ]
     },
     "metadata": {
      "needs_background": "light"
     },
     "output_type": "display_data"
    }
   ],
   "source": [
    "#'DAYS_REGISTRATION'컬럼, 언제 신청서를 수정했는지 유추가능\n",
    "plt.hist(app_train['DAYS_REGISTRATION'])\n",
    "missing.T['DAYS_REGISTRATION']"
   ]
  },
  {
   "cell_type": "code",
   "execution_count": 15,
   "metadata": {},
   "outputs": [
    {
     "data": {
      "text/html": [
       "<div>\n",
       "<style scoped>\n",
       "    .dataframe tbody tr th:only-of-type {\n",
       "        vertical-align: middle;\n",
       "    }\n",
       "\n",
       "    .dataframe tbody tr th {\n",
       "        vertical-align: top;\n",
       "    }\n",
       "\n",
       "    .dataframe thead th {\n",
       "        text-align: right;\n",
       "    }\n",
       "</style>\n",
       "<table border=\"1\" class=\"dataframe\">\n",
       "  <thead>\n",
       "    <tr style=\"text-align: right;\">\n",
       "      <th></th>\n",
       "      <th>DAYS_ID_PUBLISH</th>\n",
       "      <th>DAYS_ID_PUBLISH</th>\n",
       "    </tr>\n",
       "  </thead>\n",
       "  <tbody>\n",
       "    <tr>\n",
       "      <th>missing_count</th>\n",
       "      <td>0.0</td>\n",
       "      <td>0.0</td>\n",
       "    </tr>\n",
       "    <tr>\n",
       "      <th>missing_ratio</th>\n",
       "      <td>0.0</td>\n",
       "      <td>0.0</td>\n",
       "    </tr>\n",
       "  </tbody>\n",
       "</table>\n",
       "</div>"
      ],
      "text/plain": [
       "               DAYS_ID_PUBLISH  DAYS_ID_PUBLISH\n",
       "missing_count              0.0              0.0\n",
       "missing_ratio              0.0              0.0"
      ]
     },
     "execution_count": 15,
     "metadata": {},
     "output_type": "execute_result"
    },
    {
     "data": {
      "image/png": "[encoded data removed]",
      "text/plain": [
       "<Figure size 432x288 with 1 Axes>"
      ]
     },
     "metadata": {
      "needs_background": "light"
     },
     "output_type": "display_data"
    }
   ],
   "source": [
    "#'DAYS_REGISTRATION'컬럼, 언제 신청서를 수정했는지 유추가능\n",
    "plt.hist(app_train['DAYS_ID_PUBLISH'])\n",
    "missing.T['DAYS_ID_PUBLISH']"
   ]
  },
  {
   "cell_type": "markdown",
   "metadata": {},
   "source": [
    "- 그렇다면, 'DAYS_EMPLOYED'컬럼에 대한 추가적인 작업이 필요한지 여부왁인을 위해 Test 데이터 확인. "
   ]
  },
  {
   "cell_type": "code",
   "execution_count": 16,
   "metadata": {},
   "outputs": [
    {
     "data": {
      "text/html": [
       "<div>\n",
       "<style scoped>\n",
       "    .dataframe tbody tr th:only-of-type {\n",
       "        vertical-align: middle;\n",
       "    }\n",
       "\n",
       "    .dataframe tbody tr th {\n",
       "        vertical-align: top;\n",
       "    }\n",
       "\n",
       "    .dataframe thead th {\n",
       "        text-align: right;\n",
       "    }\n",
       "</style>\n",
       "<table border=\"1\" class=\"dataframe\">\n",
       "  <thead>\n",
       "    <tr style=\"text-align: right;\">\n",
       "      <th></th>\n",
       "      <th>DAYS_EMPLOYED</th>\n",
       "      <th>DAYS_EMPLOYED</th>\n",
       "    </tr>\n",
       "  </thead>\n",
       "  <tbody>\n",
       "    <tr>\n",
       "      <th>missing_count</th>\n",
       "      <td>0.0</td>\n",
       "      <td>0.0</td>\n",
       "    </tr>\n",
       "    <tr>\n",
       "      <th>missing_ratio</th>\n",
       "      <td>0.0</td>\n",
       "      <td>0.0</td>\n",
       "    </tr>\n",
       "  </tbody>\n",
       "</table>\n",
       "</div>"
      ],
      "text/plain": [
       "               DAYS_EMPLOYED  DAYS_EMPLOYED\n",
       "missing_count            0.0            0.0\n",
       "missing_ratio            0.0            0.0"
      ]
     },
     "execution_count": 16,
     "metadata": {},
     "output_type": "execute_result"
    },
    {
     "data": {
      "image/png": "[encoded data removed]",
      "text/plain": [
       "<Figure size 432x288 with 1 Axes>"
      ]
     },
     "metadata": {
      "needs_background": "light"
     },
     "output_type": "display_data"
    }
   ],
   "source": [
    "plt.hist(app_test['DAYS_EMPLOYED'])\n",
    "missing.T['DAYS_EMPLOYED']"
   ]
  },
  {
   "cell_type": "markdown",
   "metadata": {},
   "source": [
    "- 체크해보니, 동일한 분포를 가지고 있어 작업이 필요없을 것으로 추정되긴 하나, 그래도 혹시 모르니 특이값을 가진 컬럼의 경우 범주형 범수 컬럼을 하나 만들고자 함\n",
    "- 컬럼 이름은 'DAYS_EMPLOYED_NEW', 특이값에 해당하는 경우에는 0, 나머지는 1로 부여"
   ]
  },
  {
   "cell_type": "code",
   "execution_count": 17,
   "metadata": {},
   "outputs": [
    {
     "data": {
      "text/html": [
       "<div>\n",
       "<style scoped>\n",
       "    .dataframe tbody tr th:only-of-type {\n",
       "        vertical-align: middle;\n",
       "    }\n",
       "\n",
       "    .dataframe tbody tr th {\n",
       "        vertical-align: top;\n",
       "    }\n",
       "\n",
       "    .dataframe thead th {\n",
       "        text-align: right;\n",
       "    }\n",
       "</style>\n",
       "<table border=\"1\" class=\"dataframe\">\n",
       "  <thead>\n",
       "    <tr style=\"text-align: right;\">\n",
       "      <th>DAYS_EMPLOYED_NEW</th>\n",
       "      <th>0</th>\n",
       "      <th>1</th>\n",
       "    </tr>\n",
       "    <tr>\n",
       "      <th>TARGET</th>\n",
       "      <th></th>\n",
       "      <th></th>\n",
       "    </tr>\n",
       "  </thead>\n",
       "  <tbody>\n",
       "    <tr>\n",
       "      <th>0</th>\n",
       "      <td>282685</td>\n",
       "      <td>1</td>\n",
       "    </tr>\n",
       "    <tr>\n",
       "      <th>1</th>\n",
       "      <td>24824</td>\n",
       "      <td>1</td>\n",
       "    </tr>\n",
       "  </tbody>\n",
       "</table>\n",
       "</div>"
      ],
      "text/plain": [
       "DAYS_EMPLOYED_NEW       0  1\n",
       "TARGET                      \n",
       "0                  282685  1\n",
       "1                   24824  1"
      ]
     },
     "execution_count": 17,
     "metadata": {},
     "output_type": "execute_result"
    }
   ],
   "source": [
    "unnormal_index = list(app_train[app_train['DAYS_EMPLOYED'] > 0].index)\n",
    "app_train['DAYS_EMPLOYED_NEW'] = 1\n",
    "DAYS_EMPLOYED_COLUMN = pd.DataFrame(app_train['DAYS_EMPLOYED_NEW'])\n",
    "DAYS_EMPLOYED_COLUMN.iloc[unnormal_index] = 0\n",
    "app_train['DAYS_EMPLOYED_NEW'] = DAYS_EMPLOYED_COLUMN\n",
    "pd.crosstab( app_train.TARGET, app_train.DAYS_EMPLOYED_NEW)"
   ]
  },
  {
   "cell_type": "markdown",
   "metadata": {},
   "source": [
    "- test set에도 동일하게 적용"
   ]
  },
  {
   "cell_type": "code",
   "execution_count": 18,
   "metadata": {},
   "outputs": [
    {
     "data": {
      "text/plain": [
       "0    1\n",
       "1    1\n",
       "2    1\n",
       "3    1\n",
       "4    1\n",
       "5    1\n",
       "6    1\n",
       "7    1\n",
       "8    1\n",
       "9    1\n",
       "Name: DAYS_EMPLOYED_NEW, dtype: int64"
      ]
     },
     "execution_count": 18,
     "metadata": {},
     "output_type": "execute_result"
    }
   ],
   "source": [
    "unnormal_index = list(app_test[app_test['DAYS_EMPLOYED'] > 0].index)\n",
    "app_test['DAYS_EMPLOYED_NEW'] = 1\n",
    "DAYS_EMPLOYED_COLUMN = pd.DataFrame(app_test['DAYS_EMPLOYED_NEW'])\n",
    "DAYS_EMPLOYED_COLUMN.iloc[unnormal_index] = 0\n",
    "app_test['DAYS_EMPLOYED_NEW'] = DAYS_EMPLOYED_COLUMN\n",
    "app_test['DAYS_EMPLOYED_NEW'].head(10)"
   ]
  },
  {
   "cell_type": "markdown",
   "metadata": {},
   "source": [
    "- EXT_SOURCE 데이터를 위한 처리 함수 제작 및 적용 (다른 분이 만드셨는데 좀 더 공부해오겠습니당ㅠ)"
   ]
  },
  {
   "cell_type": "code",
   "execution_count": 19,
   "metadata": {},
   "outputs": [],
   "source": [
    "def feat_ext_source(df):\n",
    "    x1 = df['EXT_SOURCE_1'].fillna(-1) + 1e-1\n",
    "    x2 = df['EXT_SOURCE_2'].fillna(-1) + 1e-1\n",
    "    x3 = df['EXT_SOURCE_3'].fillna(-1) + 1e-1\n",
    "    \n",
    "    df['EXT_SOURCE_1over2_NAminus1_Add0.1'] = x1/x2\n",
    "    df['EXT_SOURCE_2over1_NAminus1_Add0.1'] = x2/x1\n",
    "    df['EXT_SOURCE_1over3_NAminus1_Add0.1'] = x1/x3\n",
    "    df['EXT_SOURCE_3over1_NAminus1_Add0.1'] = x3/x1\n",
    "    df['EXT_SOURCE_2over3_NAminus1_Add0.1'] = x2/x3\n",
    "    df['EXT_SOURCE_3over2_NAminus1_Add0.1'] = x3/x2\n",
    "    \n",
    "    df['EXT_SOURCE_na1_2'] = (df['EXT_SOURCE_1'].isnull()) * (df['EXT_SOURCE_2'].fillna(0))\n",
    "    df['EXT_SOURCE_na1_3'] = (df['EXT_SOURCE_1'].isnull()) * (df['EXT_SOURCE_3'].fillna(0))\n",
    "    df['EXT_SOURCE_na2_1'] = (df['EXT_SOURCE_2'].isnull()) * (df['EXT_SOURCE_1'].fillna(0))\n",
    "    df['EXT_SOURCE_na2_3'] = (df['EXT_SOURCE_2'].isnull()) * (df['EXT_SOURCE_3'].fillna(0))\n",
    "    df['EXT_SOURCE_na3_1'] = (df['EXT_SOURCE_3'].isnull()) * (df['EXT_SOURCE_1'].fillna(0))\n",
    "    df['EXT_SOURCE_na3_2'] = (df['EXT_SOURCE_3'].isnull()) * (df['EXT_SOURCE_2'].fillna(0))\n",
    "    \n",
    "    df['CREDIT_LENGTH'] = df['AMT_CREDIT'] / df['AMT_ANNUITY']\n",
    "    \n",
    "    return df"
   ]
  },
  {
   "cell_type": "code",
   "execution_count": 20,
   "metadata": {},
   "outputs": [
    {
     "name": "stdout",
     "output_type": "stream",
     "text": [
      "(307511, 257) (48744, 256)\n"
     ]
    }
   ],
   "source": [
    "app_train = feat_ext_source(app_train)\n",
    "app_test  = feat_ext_source(app_test)\n",
    "print(app_train.shape, app_test.shape)"
   ]
  },
  {
   "cell_type": "markdown",
   "metadata": {},
   "source": [
    "#### 현재 번역할 수 있는 수준에서 우리가 적용할 수 있는 것은, \n",
    "- 현재의 임금대비 얼마나 대출을 했는지, 연금대출은 얼마인 지 정도와 대출한 금액 대비 연금은 얼마인지, 대출금액 대비 연금 대출은 얼마인지, 태어난 일 수대비 실제로 얼마나 일을 했는지와 같이 단위가 동일한 컬럼들입니다"
   ]
  },
  {
   "cell_type": "code",
   "execution_count": 21,
   "metadata": {},
   "outputs": [],
   "source": [
    "app_test['CREDIT_INCOME_PERCENT'] = app_test['AMT_CREDIT'] / app_test['AMT_INCOME_TOTAL']\n",
    "app_test['ANNUITY_INCOME_PERCENT'] = app_test['AMT_ANNUITY'] / app_test['AMT_INCOME_TOTAL']\n",
    "app_test['CREDIT_TERM'] = app_test['AMT_ANNUITY'] / app_test['AMT_CREDIT']\n",
    "app_test['DAYS_EMPLOYED_PERCENT'] = app_test['DAYS_EMPLOYED'] / app_test['DAYS_BIRTH']"
   ]
  },
  {
   "cell_type": "code",
   "execution_count": 22,
   "metadata": {},
   "outputs": [],
   "source": [
    "app_train['CREDIT_INCOME_PERCENT'] = app_train['AMT_CREDIT'] / app_train['AMT_INCOME_TOTAL']\n",
    "app_train['ANNUITY_INCOME_PERCENT'] = app_train['AMT_ANNUITY'] / app_train['AMT_INCOME_TOTAL']\n",
    "app_train['CREDIT_TERM'] = app_train['AMT_ANNUITY'] / app_train['AMT_CREDIT']\n",
    "app_train['DAYS_EMPLOYED_PERCENT'] = app_train['DAYS_EMPLOYED'] / app_train['DAYS_BIRTH']"
   ]
  },
  {
   "cell_type": "code",
   "execution_count": 23,
   "metadata": {},
   "outputs": [
    {
     "name": "stdout",
     "output_type": "stream",
     "text": [
      "(307511, 261) (48744, 260)\n"
     ]
    }
   ],
   "source": [
    "print(app_train.shape, app_test.shape)"
   ]
  },
  {
   "cell_type": "markdown",
   "metadata": {},
   "source": [
    "- 위에서 결측치 다룰 때, 결측치가 있다고 해서 모든 컬럼들이 의미 없는 것은 아니기에, 결측치 수가 100개 이하인 컬럼들의 경우 분포를 확인 후 평균으로 대체하고자 합니다.\n",
    "- AMT_ANNUITY, CREDIT_LENGTH,CREDIT_TERM,ANNUITY_INCOME_PERCENT(ANNUNITY로부터 파생된 컬럼) 등이 이에 해당합니다"
   ]
  },
  {
   "cell_type": "code",
   "execution_count": 24,
   "metadata": {},
   "outputs": [],
   "source": [
    "def fill_with_mean(train_data,test_data, column_name):\n",
    "    column_mean = train_data[column_name].mean()\n",
    "    train_data[column_name]=train_data[column_name].fillna(column_mean)\n",
    "    test_data[column_name]=test_data[column_name].fillna(column_mean)\n",
    "    return train_data, test_data"
   ]
  },
  {
   "cell_type": "code",
   "execution_count": 25,
   "metadata": {},
   "outputs": [
    {
     "data": {
      "image/png": "[encoded data removed]",
      "text/plain": [
       "<Figure size 432x288 with 1 Axes>"
      ]
     },
     "metadata": {
      "needs_background": "light"
     },
     "output_type": "display_data"
    }
   ],
   "source": [
    "plt.hist(app_train['AMT_ANNUITY'])\n",
    "app_train, app_test = fill_with_mean(app_train, app_test, 'AMT_ANNUITY')"
   ]
  },
  {
   "cell_type": "code",
   "execution_count": 26,
   "metadata": {},
   "outputs": [
    {
     "data": {
      "image/png": "[encoded data removed]",
      "text/plain": [
       "<Figure size 432x288 with 1 Axes>"
      ]
     },
     "metadata": {
      "needs_background": "light"
     },
     "output_type": "display_data"
    }
   ],
   "source": [
    "plt.hist(app_train['CREDIT_TERM'])\n",
    "app_train, app_test = fill_with_mean(app_train, app_test, 'CREDIT_TERM')"
   ]
  },
  {
   "cell_type": "code",
   "execution_count": 27,
   "metadata": {},
   "outputs": [
    {
     "data": {
      "image/png": "[encoded data removed]",
      "text/plain": [
       "<Figure size 432x288 with 1 Axes>"
      ]
     },
     "metadata": {
      "needs_background": "light"
     },
     "output_type": "display_data"
    }
   ],
   "source": [
    "plt.hist(app_train['CREDIT_LENGTH'])\n",
    "app_train, app_test = fill_with_mean(app_train, app_test, 'CREDIT_LENGTH')"
   ]
  },
  {
   "cell_type": "code",
   "execution_count": 28,
   "metadata": {},
   "outputs": [
    {
     "data": {
      "image/png": "[encoded data removed]",
      "text/plain": [
       "<Figure size 432x288 with 1 Axes>"
      ]
     },
     "metadata": {
      "needs_background": "light"
     },
     "output_type": "display_data"
    }
   ],
   "source": [
    "plt.hist(app_train['ANNUITY_INCOME_PERCENT'])\n",
    "app_train, app_test = fill_with_mean(app_train, app_test, 'ANNUITY_INCOME_PERCENT')"
   ]
  },
  {
   "cell_type": "markdown",
   "metadata": {},
   "source": [
    "- 추가로 결측치나 빈값이 10개 이하인 경우 평균을 부여합니다"
   ]
  },
  {
   "cell_type": "code",
   "execution_count": 29,
   "metadata": {},
   "outputs": [
    {
     "data": {
      "text/plain": [
       "AMT_GOODS_PRICE                    278\n",
       "OWN_CAR_AGE                     202929\n",
       "CNT_FAM_MEMBERS                      2\n",
       "EXT_SOURCE_1                    173378\n",
       "EXT_SOURCE_2                       660\n",
       "EXT_SOURCE_3                     60965\n",
       "APARTMENTS_AVG                  156061\n",
       "BASEMENTAREA_AVG                179943\n",
       "YEARS_BEGINEXPLUATATION_AVG     150007\n",
       "YEARS_BUILD_AVG                 204488\n",
       "COMMONAREA_AVG                  214865\n",
       "ELEVATORS_AVG                   163891\n",
       "ENTRANCES_AVG                   154828\n",
       "FLOORSMAX_AVG                   153020\n",
       "FLOORSMIN_AVG                   208642\n",
       "LANDAREA_AVG                    182590\n",
       "LIVINGAPARTMENTS_AVG            210199\n",
       "LIVINGAREA_AVG                  154350\n",
       "NONLIVINGAPARTMENTS_AVG         213514\n",
       "NONLIVINGAREA_AVG               169682\n",
       "APARTMENTS_MODE                 156061\n",
       "BASEMENTAREA_MODE               179943\n",
       "YEARS_BEGINEXPLUATATION_MODE    150007\n",
       "YEARS_BUILD_MODE                204488\n",
       "COMMONAREA_MODE                 214865\n",
       "ELEVATORS_MODE                  163891\n",
       "ENTRANCES_MODE                  154828\n",
       "FLOORSMAX_MODE                  153020\n",
       "FLOORSMIN_MODE                  208642\n",
       "LANDAREA_MODE                   182590\n",
       "LIVINGAPARTMENTS_MODE           210199\n",
       "LIVINGAREA_MODE                 154350\n",
       "NONLIVINGAPARTMENTS_MODE        213514\n",
       "NONLIVINGAREA_MODE              169682\n",
       "APARTMENTS_MEDI                 156061\n",
       "BASEMENTAREA_MEDI               179943\n",
       "YEARS_BEGINEXPLUATATION_MEDI    150007\n",
       "YEARS_BUILD_MEDI                204488\n",
       "COMMONAREA_MEDI                 214865\n",
       "ELEVATORS_MEDI                  163891\n",
       "ENTRANCES_MEDI                  154828\n",
       "FLOORSMAX_MEDI                  153020\n",
       "FLOORSMIN_MEDI                  208642\n",
       "LANDAREA_MEDI                   182590\n",
       "LIVINGAPARTMENTS_MEDI           210199\n",
       "LIVINGAREA_MEDI                 154350\n",
       "NONLIVINGAPARTMENTS_MEDI        213514\n",
       "NONLIVINGAREA_MEDI              169682\n",
       "TOTALAREA_MODE                  148431\n",
       "OBS_30_CNT_SOCIAL_CIRCLE          1021\n",
       "DEF_30_CNT_SOCIAL_CIRCLE          1021\n",
       "OBS_60_CNT_SOCIAL_CIRCLE          1021\n",
       "DEF_60_CNT_SOCIAL_CIRCLE          1021\n",
       "DAYS_LAST_PHONE_CHANGE               1\n",
       "AMT_REQ_CREDIT_BUREAU_HOUR       41519\n",
       "AMT_REQ_CREDIT_BUREAU_DAY        41519\n",
       "AMT_REQ_CREDIT_BUREAU_WEEK       41519\n",
       "AMT_REQ_CREDIT_BUREAU_MON        41519\n",
       "AMT_REQ_CREDIT_BUREAU_QRT        41519\n",
       "AMT_REQ_CREDIT_BUREAU_YEAR       41519\n",
       "dtype: int64"
      ]
     },
     "execution_count": 29,
     "metadata": {},
     "output_type": "execute_result"
    }
   ],
   "source": [
    "app_train.isnull().sum()[app_train.isnull().sum() > 0]"
   ]
  },
  {
   "cell_type": "code",
   "execution_count": 30,
   "metadata": {},
   "outputs": [],
   "source": [
    "app_train, app_test = fill_with_mean(app_train, app_test, 'CNT_FAM_MEMBERS')\n",
    "app_train, app_test = fill_with_mean(app_train, app_test, 'DAYS_LAST_PHONE_CHANGE')"
   ]
  },
  {
   "cell_type": "markdown",
   "metadata": {},
   "source": [
    "- 나머지 결측값은 제거하나, 만일을 대비해 이는 app_train2, app_test2로 부여합니다"
   ]
  },
  {
   "cell_type": "code",
   "execution_count": 62,
   "metadata": {},
   "outputs": [],
   "source": [
    "app_train2 = app_train.drop(app_train.isnull().sum()[app_train.isnull().sum() > 0].index, axis=1)\n",
    "app_test2 = app_test.drop(app_test.isnull().sum()[app_test.isnull().sum() > 0].index, axis=1)"
   ]
  },
  {
   "cell_type": "markdown",
   "metadata": {},
   "source": [
    "- 데이터1은 일부 결측치 100개 이하 컬럼들에선 평균을 부여한 후, 나머지 결측치 컬럼은 손데지 않은 app_train, app_test\n",
    "- 데이터2는 일부 결측치 100개 이하 컬럼들에선 평균을 부여한 후, 나머지 결측히 컬럼은 삭제한 app_train2, app_test2 "
   ]
  },
  {
   "cell_type": "code",
   "execution_count": 65,
   "metadata": {},
   "outputs": [
    {
     "data": {
      "text/plain": [
       "Index(['SK_ID_CURR', 'TARGET', 'CNT_CHILDREN', 'AMT_INCOME_TOTAL',\n",
       "       'AMT_CREDIT', 'AMT_ANNUITY', 'REGION_POPULATION_RELATIVE', 'DAYS_BIRTH',\n",
       "       'DAYS_EMPLOYED', 'DAYS_REGISTRATION',\n",
       "       ...\n",
       "       'EXT_SOURCE_na1_3', 'EXT_SOURCE_na2_1', 'EXT_SOURCE_na2_3',\n",
       "       'EXT_SOURCE_na3_1', 'EXT_SOURCE_na3_2', 'CREDIT_LENGTH',\n",
       "       'CREDIT_INCOME_PERCENT', 'ANNUITY_INCOME_PERCENT', 'CREDIT_TERM',\n",
       "       'DAYS_EMPLOYED_PERCENT'],\n",
       "      dtype='object', length=203)"
      ]
     },
     "execution_count": 65,
     "metadata": {},
     "output_type": "execute_result"
    }
   ],
   "source": [
    "app_train2.columns"
   ]
  },
  {
   "cell_type": "markdown",
   "metadata": {},
   "source": [
    "## 결정트리(분류)\n"
   ]
  },
  {
   "cell_type": "code",
   "execution_count": 47,
   "metadata": {},
   "outputs": [],
   "source": [
    "import pandas as pd\n",
    "from sklearn.tree import DecisionTreeClassifier\n",
    "from sklearn.metrics import accuracy_score\n",
    "from sklearn.metrics import accuracy_score, roc_auc_score\n",
    "import time\n",
    "#randomstate에 따라 큰 차이는 없다고 보며 random_state=0으로 설정하고 진행한다\n",
    "dt_clf=DecisionTreeClassifier(random_state=0)"
   ]
  },
  {
   "cell_type": "markdown",
   "metadata": {},
   "source": [
    "우선 모델의 정확도를 체크하기 위하여 target값이 주어진 app_train을 train과 test로 나눠서 사용한다"
   ]
  },
  {
   "cell_type": "code",
   "execution_count": 33,
   "metadata": {},
   "outputs": [],
   "source": [
    "y_df = app_train2['TARGET']\n",
    "X_df = app_train2.drop(['TARGET'], axis=1)\n",
    "test_origin = app_test2\n",
    "\n",
    "from sklearn.model_selection import train_test_split\n",
    "X_train,X_test,y_train,y_test = train_test_split(X_df,y_df,test_size=0.2,random_state=0)"
   ]
  },
  {
   "cell_type": "code",
   "execution_count": 34,
   "metadata": {},
   "outputs": [],
   "source": [
    "from sklearn.model_selection import GridSearchCV\n",
    "import warnings\n",
    "warnings.filterwarnings('ignore')"
   ]
  },
  {
   "cell_type": "code",
   "execution_count": 64,
   "metadata": {},
   "outputs": [
    {
     "name": "stdout",
     "output_type": "stream",
     "text": [
      "GridSearchCV 최고 평균 정확도 수치: 0.9188237780804694\n",
      "GridSearchCV 최적 하이퍼 파라미터: {'max_depth': 1}\n"
     ]
    }
   ],
   "source": [
    "params={'max_depth':[1,2,3,5,7,10]}\n",
    "grid_cv=GridSearchCV(dt_clf,param_grid=params,scoring='accuracy',cv=5)\n",
    "grid_cv.fit(X_train,y_train)\n",
    "print('GridSearchCV 최고 평균 정확도 수치:',grid_cv.best_score_)\n",
    "print('GridSearchCV 최적 하이퍼 파라미터:',grid_cv.best_params_)"
   ]
  },
  {
   "cell_type": "code",
   "execution_count": 66,
   "metadata": {},
   "outputs": [
    {
     "name": "stdout",
     "output_type": "stream",
     "text": [
      "GridSearchCV 최고 평균 정확도 수치: 0.9188237780804694\n",
      "GridSearchCV 최적 하이퍼 파라미터: {'max_depth': 1, 'min_samples_split': 5}\n"
     ]
    }
   ],
   "source": [
    "params2={'max_depth':[1,2,3,5,7,10],\n",
    "       'min_samples_split':[5,10,20]}\n",
    "grid_cv2=GridSearchCV(dt_clf,param_grid=params2,scoring='accuracy',cv=5)\n",
    "grid_cv2.fit(X_train,y_train)\n",
    "print('GridSearchCV 최고 평균 정확도 수치:',grid_cv2.best_score_)\n",
    "print('GridSearchCV 최적 하이퍼 파라미터:',grid_cv2.best_params_)\n",
    "\n"
   ]
  },
  {
   "cell_type": "code",
   "execution_count": 68,
   "metadata": {},
   "outputs": [
    {
     "name": "stdout",
     "output_type": "stream",
     "text": [
      "GridSearchCV 최고 평균 정확도 수치: 0.9188237780804694\n",
      "GridSearchCV 최적 하이퍼 파라미터: {'max_depth': 1, 'min_samples_split': 3}\n"
     ]
    }
   ],
   "source": [
    "params2={'max_depth':[1],\n",
    "       'min_samples_split':[1,3,5]}\n",
    "grid_cv2=GridSearchCV(dt_clf,param_grid=params2,scoring='accuracy',cv=5)\n",
    "grid_cv2.fit(X_train,y_train)\n",
    "print('GridSearchCV2 최고 평균 정확도 수치:',grid_cv2.best_score_)\n",
    "print('GridSearchCV2 최적 하이퍼 파라미터:',grid_cv2.best_params_)\n",
    "\n"
   ]
  },
  {
   "cell_type": "code",
   "execution_count": 70,
   "metadata": {},
   "outputs": [
    {
     "name": "stdout",
     "output_type": "stream",
     "text": [
      "결정트리 예측 정확도: 0.9210607612636782\n"
     ]
    }
   ],
   "source": [
    "#최적 파라미터를 활용한 예측\n",
    "best_df_clf=grid_cv2.best_estimator_\n",
    "pred_df=best_df_clf.predict(X_test)\n",
    "accuracy=accuracy_score(y_test,pred_df)\n",
    "print('결정트리 예측 정확도:',accuracy)\n"
   ]
  },
  {
   "cell_type": "markdown",
   "metadata": {},
   "source": [
    "## 랜덤포레스트"
   ]
  },
  {
   "cell_type": "code",
   "execution_count": 35,
   "metadata": {},
   "outputs": [],
   "source": [
    "from sklearn.ensemble import RandomForestClassifier"
   ]
  },
  {
   "cell_type": "code",
   "execution_count": 71,
   "metadata": {},
   "outputs": [
    {
     "name": "stdout",
     "output_type": "stream",
     "text": [
      "랜덤포레스트 정확도: 0.9212883924361414\n"
     ]
    }
   ],
   "source": [
    "#데이터는 위의 결정트리와 같은 데이터를 이용하여 결과를 비교한다.\n",
    "\n",
    "#따로 하이퍼 파라미터를 튜닝하지 않고 예측을해본다.\n",
    "rf_clf = RandomForestClassifier(random_state=0)\n",
    "rf_clf.fit(X_train,y_train)\n",
    "pred = rf_clf.predict(X_test)\n",
    "accuracy=accuracy_score(y_test,pred)\n",
    "print('랜덤포레스트 정확도:',accuracy)"
   ]
  },
  {
   "cell_type": "code",
   "execution_count": 74,
   "metadata": {},
   "outputs": [
    {
     "name": "stdout",
     "output_type": "stream",
     "text": [
      "최적 하이퍼 파라미터와 예측 정확도: {'max_depth': 10, 'min_samples_leaf': 1, 'min_samples_split': 3} 0.9188278430108167\n"
     ]
    }
   ],
   "source": [
    "#랜덤 포레스트 하이퍼 파라미터 및 튜닝\n",
    "#n_estimators는 default값(10)으로 설정하여 나머지 하이퍼 파라미터를 튜닝한 뒤 n_estimator를 100을 늘려서 정확도를 계산한다\n",
    "\n",
    "params={\n",
    "    'max_depth':[1,3,5,10],\n",
    "    'min_samples_leaf':[1,3,5,10],\n",
    "    'min_samples_split':[1,3,5,10]\n",
    "    }\n",
    "#RandomForest를 설정하고 GridSearchCV수행\n",
    "rf_clf=RandomForestClassifier(random_state=0,n_jobs=-1)\n",
    "grid_cv = GridSearchCV(rf_clf, param_grid=params,cv=3,n_jobs=-1)\n",
    "grid_cv.fit(X_train,y_train)\n",
    "\n",
    "cv_result=pd.DataFrame(grid_cv.cv_results_)\n",
    "\n",
    "print('최적 하이퍼 파라미터와 예측 정확도:',grid_cv.best_params_,grid_cv.best_score_)"
   ]
  },
  {
   "cell_type": "code",
   "execution_count": 75,
   "metadata": {},
   "outputs": [
    {
     "name": "stdout",
     "output_type": "stream",
     "text": [
      "(246008, 202)\n"
     ]
    }
   ],
   "source": [
    "print(X_train.shape)"
   ]
  },
  {
   "cell_type": "markdown",
   "metadata": {},
   "source": [
    "max_depth만을 비교하기 위해서 머신러닝을 해본다"
   ]
  },
  {
   "cell_type": "code",
   "execution_count": 76,
   "metadata": {},
   "outputs": [
    {
     "name": "stdout",
     "output_type": "stream",
     "text": [
      "최적 하이퍼 파라미터와 예측 정확도: {'max_depth': 20, 'min_samples_leaf': 1, 'min_samples_split': 3} 0.9189213356740303\n"
     ]
    }
   ],
   "source": [
    " \n",
    "params={\n",
    "    'max_depth':[15,20],\n",
    "    'min_samples_leaf':[1],\n",
    "    'min_samples_split':[3]\n",
    "    }\n",
    "#RandomForest를 설정하고 GridSearchCV수행\n",
    "rf_clf=RandomForestClassifier(random_state=0,n_jobs=-1)\n",
    "grid_cv2 = GridSearchCV(rf_clf, param_grid=params,cv=3,n_jobs=-1)\n",
    "grid_cv2.fit(X_train,y_train)\n",
    "\n",
    "cv_result2=pd.DataFrame(grid_cv2.cv_results_)\n",
    "\n",
    "print('최적 하이퍼 파라미터와 예측 정확도:',grid_cv.best_params_,grid_cv.best_score_)"
   ]
  },
  {
   "cell_type": "code",
   "execution_count": 77,
   "metadata": {},
   "outputs": [
    {
     "name": "stdout",
     "output_type": "stream",
     "text": [
      "rf1정확도: 0.9212883924361414\n",
      "rf2정확도: 0.9210607612636782\n",
      "rf3정확도: 0.9211745768499098\n"
     ]
    }
   ],
   "source": [
    "#max_depth에 따른 정확도 check\n",
    "#RandomForest를 설정하고 GridSearchCV수행\n",
    "rf1=RandomForestClassifier(random_state=0,n_jobs=-1)\n",
    "rf2=RandomForestClassifier(random_state=0,max_depth=10,n_jobs=-1)\n",
    "rf3=RandomForestClassifier(random_state=0,max_depth=20,n_jobs=-1)\n",
    "\n",
    "rf1.fit(X_train,y_train)\n",
    "rf2.fit(X_train,y_train)\n",
    "rf3.fit(X_train,y_train)\n",
    "\n",
    "pred1=rf1.predict(X_test)\n",
    "pred2=rf2.predict(X_test)\n",
    "pred3=rf3.predict(X_test)\n",
    "\n",
    "\n",
    "print('rf1정확도:',accuracy_score(y_test,pred1))\n",
    "print('rf2정확도:',accuracy_score(y_test,pred2))\n",
    "print('rf3정확도:',accuracy_score(y_test,pred3))"
   ]
  },
  {
   "cell_type": "code",
   "execution_count": 93,
   "metadata": {},
   "outputs": [
    {
     "name": "stdout",
     "output_type": "stream",
     "text": [
      "rf4정확도: 0.9212396143277564\n",
      "수행시간:111.9초\n"
     ]
    }
   ],
   "source": [
    "start_time=time.time()\n",
    "rf4=RandomForestClassifier(random_state=0,max_depth=30,n_jobs=-1)\n",
    "rf4.fit(X_train,y_train)\n",
    "pred4=rf4.predict(X_test)\n",
    "print('rf4정확도:',accuracy_score(y_test,pred4))\n",
    "print('수행시간:{0:.1f}초'.format(time.time()-start_time))"
   ]
  },
  {
   "cell_type": "code",
   "execution_count": 46,
   "metadata": {},
   "outputs": [
    {
     "name": "stdout",
     "output_type": "stream",
     "text": [
      "rf5정확도: 0.9214022080223729\n",
      "수행시간:92.1초\n"
     ]
    }
   ],
   "source": [
    "start_time=time.time()\n",
    "rf5=RandomForestClassifier(random_state=0,max_depth=40,n_jobs=-1)\n",
    "rf5.fit(X_train,y_train)\n",
    "pred5=rf5.predict(X_test)\n",
    "print('rf5정확도:',accuracy_score(y_test,pred5))\n",
    "print('수행시간:{0:.1f}초'.format(time.time()-start_time))"
   ]
  },
  {
   "cell_type": "markdown",
   "metadata": {},
   "source": [
    "GBM - 가중치 업데이트를 경사하강법을 이용\n"
   ]
  },
  {
   "cell_type": "code",
   "execution_count": 81,
   "metadata": {},
   "outputs": [
    {
     "name": "stdout",
     "output_type": "stream",
     "text": [
      "정확도: 0.9213859486529112\n",
      "수행시간:437.6초\n"
     ]
    }
   ],
   "source": [
    "import time\n",
    "from sklearn.ensemble import GradientBoostingClassifier\n",
    "start_time = time.time()\n",
    "\n",
    "GB=GradientBoostingClassifier(random_state=0)\n",
    "GB.fit(X_train,y_train)\n",
    "GB_pred=GB.predict(X_test)\n",
    "GB_accuracy=accuracy_score(y_test,GB_pred)\n",
    "\n",
    "print('정확도:',GB_accuracy)\n",
    "print('수행시간:{0:.1f}초'.format(time.time()-start_time))"
   ]
  },
  {
   "cell_type": "code",
   "execution_count": 82,
   "metadata": {},
   "outputs": [],
   "source": [
    "## 시간되면 GBM하이퍼 파라미처 튜닝해보기"
   ]
  },
  {
   "cell_type": "code",
   "execution_count": 83,
   "metadata": {},
   "outputs": [],
   "source": [
    "#XGboost 는 병렬학습이 가능함& GBM기반 빠르게 학습가능 & 내정된 교차검증이 있다 & 결손값 자체처리 가능\n"
   ]
  },
  {
   "cell_type": "code",
   "execution_count": 84,
   "metadata": {},
   "outputs": [],
   "source": [
    "import xgboost as xgb\n",
    "from xgboost import XGBClassifier"
   ]
  },
  {
   "cell_type": "code",
   "execution_count": 89,
   "metadata": {},
   "outputs": [
    {
     "name": "stdout",
     "output_type": "stream",
     "text": [
      "[0]\tvalidation_0-logloss:0.42255\n",
      "Will train until validation_0-logloss hasn't improved in 100 rounds.\n",
      "[1]\tvalidation_0-logloss:0.32912\n",
      "[2]\tvalidation_0-logloss:0.28979\n",
      "[3]\tvalidation_0-logloss:0.27218\n",
      "[4]\tvalidation_0-logloss:0.26416\n",
      "[5]\tvalidation_0-logloss:0.25990\n",
      "[6]\tvalidation_0-logloss:0.25751\n",
      "[7]\tvalidation_0-logloss:0.25588\n",
      "[8]\tvalidation_0-logloss:0.25424\n",
      "[9]\tvalidation_0-logloss:0.25311\n",
      "[10]\tvalidation_0-logloss:0.25228\n",
      "[11]\tvalidation_0-logloss:0.25184\n",
      "[12]\tvalidation_0-logloss:0.25138\n",
      "[13]\tvalidation_0-logloss:0.25101\n",
      "[14]\tvalidation_0-logloss:0.25079\n",
      "[15]\tvalidation_0-logloss:0.25025\n",
      "[16]\tvalidation_0-logloss:0.24991\n",
      "[17]\tvalidation_0-logloss:0.24964\n",
      "[18]\tvalidation_0-logloss:0.24934\n",
      "[19]\tvalidation_0-logloss:0.24891\n",
      "[20]\tvalidation_0-logloss:0.24868\n",
      "[21]\tvalidation_0-logloss:0.24873\n",
      "[22]\tvalidation_0-logloss:0.24850\n",
      "[23]\tvalidation_0-logloss:0.24839\n",
      "[24]\tvalidation_0-logloss:0.24840\n",
      "[25]\tvalidation_0-logloss:0.24829\n",
      "[26]\tvalidation_0-logloss:0.24790\n",
      "[27]\tvalidation_0-logloss:0.24775\n",
      "[28]\tvalidation_0-logloss:0.24763\n",
      "[29]\tvalidation_0-logloss:0.24750\n",
      "[30]\tvalidation_0-logloss:0.24729\n",
      "[31]\tvalidation_0-logloss:0.24725\n",
      "[32]\tvalidation_0-logloss:0.24722\n",
      "[33]\tvalidation_0-logloss:0.24708\n",
      "[34]\tvalidation_0-logloss:0.24696\n",
      "[35]\tvalidation_0-logloss:0.24688\n",
      "[36]\tvalidation_0-logloss:0.24677\n",
      "[37]\tvalidation_0-logloss:0.24673\n",
      "[38]\tvalidation_0-logloss:0.24674\n",
      "[39]\tvalidation_0-logloss:0.24667\n",
      "[40]\tvalidation_0-logloss:0.24663\n",
      "[41]\tvalidation_0-logloss:0.24665\n",
      "[42]\tvalidation_0-logloss:0.24658\n",
      "[43]\tvalidation_0-logloss:0.24649\n",
      "[44]\tvalidation_0-logloss:0.24650\n",
      "[45]\tvalidation_0-logloss:0.24643\n",
      "[46]\tvalidation_0-logloss:0.24642\n",
      "[47]\tvalidation_0-logloss:0.24638\n",
      "[48]\tvalidation_0-logloss:0.24637\n",
      "[49]\tvalidation_0-logloss:0.24625\n",
      "[50]\tvalidation_0-logloss:0.24622\n",
      "[51]\tvalidation_0-logloss:0.24622\n",
      "[52]\tvalidation_0-logloss:0.24622\n",
      "[53]\tvalidation_0-logloss:0.24619\n",
      "[54]\tvalidation_0-logloss:0.24619\n",
      "[55]\tvalidation_0-logloss:0.24616\n",
      "[56]\tvalidation_0-logloss:0.24617\n",
      "[57]\tvalidation_0-logloss:0.24614\n",
      "[58]\tvalidation_0-logloss:0.24613\n",
      "[59]\tvalidation_0-logloss:0.24618\n",
      "[60]\tvalidation_0-logloss:0.24588\n",
      "[61]\tvalidation_0-logloss:0.24588\n",
      "[62]\tvalidation_0-logloss:0.24588\n",
      "[63]\tvalidation_0-logloss:0.24596\n",
      "[64]\tvalidation_0-logloss:0.24594\n",
      "[65]\tvalidation_0-logloss:0.24598\n",
      "[66]\tvalidation_0-logloss:0.24596\n",
      "[67]\tvalidation_0-logloss:0.24594\n",
      "[68]\tvalidation_0-logloss:0.24596\n",
      "[69]\tvalidation_0-logloss:0.24599\n",
      "[70]\tvalidation_0-logloss:0.24591\n",
      "[71]\tvalidation_0-logloss:0.24594\n",
      "[72]\tvalidation_0-logloss:0.24597\n",
      "[73]\tvalidation_0-logloss:0.24593\n",
      "[74]\tvalidation_0-logloss:0.24595\n",
      "[75]\tvalidation_0-logloss:0.24600\n",
      "[76]\tvalidation_0-logloss:0.24604\n",
      "[77]\tvalidation_0-logloss:0.24587\n",
      "[78]\tvalidation_0-logloss:0.24584\n",
      "[79]\tvalidation_0-logloss:0.24573\n",
      "[80]\tvalidation_0-logloss:0.24568\n",
      "[81]\tvalidation_0-logloss:0.24570\n",
      "[82]\tvalidation_0-logloss:0.24572\n",
      "[83]\tvalidation_0-logloss:0.24580\n",
      "[84]\tvalidation_0-logloss:0.24578\n",
      "[85]\tvalidation_0-logloss:0.24583\n",
      "[86]\tvalidation_0-logloss:0.24583\n",
      "[87]\tvalidation_0-logloss:0.24580\n",
      "[88]\tvalidation_0-logloss:0.24583\n",
      "[89]\tvalidation_0-logloss:0.24585\n",
      "[90]\tvalidation_0-logloss:0.24586\n",
      "[91]\tvalidation_0-logloss:0.24580\n",
      "[92]\tvalidation_0-logloss:0.24570\n",
      "[93]\tvalidation_0-logloss:0.24576\n",
      "[94]\tvalidation_0-logloss:0.24581\n",
      "[95]\tvalidation_0-logloss:0.24584\n",
      "[96]\tvalidation_0-logloss:0.24582\n",
      "[97]\tvalidation_0-logloss:0.24578\n",
      "[98]\tvalidation_0-logloss:0.24571\n",
      "[99]\tvalidation_0-logloss:0.24575\n",
      "[100]\tvalidation_0-logloss:0.24574\n",
      "[101]\tvalidation_0-logloss:0.24579\n",
      "[102]\tvalidation_0-logloss:0.24578\n",
      "[103]\tvalidation_0-logloss:0.24578\n",
      "[104]\tvalidation_0-logloss:0.24584\n",
      "[105]\tvalidation_0-logloss:0.24579\n",
      "[106]\tvalidation_0-logloss:0.24577\n",
      "[107]\tvalidation_0-logloss:0.24581\n",
      "[108]\tvalidation_0-logloss:0.24583\n",
      "[109]\tvalidation_0-logloss:0.24579\n",
      "[110]\tvalidation_0-logloss:0.24577\n",
      "[111]\tvalidation_0-logloss:0.24583\n",
      "[112]\tvalidation_0-logloss:0.24590\n",
      "[113]\tvalidation_0-logloss:0.24585\n",
      "[114]\tvalidation_0-logloss:0.24587\n",
      "[115]\tvalidation_0-logloss:0.24590\n",
      "[116]\tvalidation_0-logloss:0.24595\n",
      "[117]\tvalidation_0-logloss:0.24595\n",
      "[118]\tvalidation_0-logloss:0.24589\n",
      "[119]\tvalidation_0-logloss:0.24588\n",
      "[120]\tvalidation_0-logloss:0.24585\n",
      "[121]\tvalidation_0-logloss:0.24585\n",
      "[122]\tvalidation_0-logloss:0.24586\n",
      "[123]\tvalidation_0-logloss:0.24586\n",
      "[124]\tvalidation_0-logloss:0.24585\n",
      "[125]\tvalidation_0-logloss:0.24588\n",
      "[126]\tvalidation_0-logloss:0.24589\n",
      "[127]\tvalidation_0-logloss:0.24587\n",
      "[128]\tvalidation_0-logloss:0.24590\n",
      "[129]\tvalidation_0-logloss:0.24592\n",
      "[130]\tvalidation_0-logloss:0.24596\n",
      "[131]\tvalidation_0-logloss:0.24597\n",
      "[132]\tvalidation_0-logloss:0.24595\n",
      "[133]\tvalidation_0-logloss:0.24599\n",
      "[134]\tvalidation_0-logloss:0.24598\n",
      "[135]\tvalidation_0-logloss:0.24598\n",
      "[136]\tvalidation_0-logloss:0.24601\n",
      "[137]\tvalidation_0-logloss:0.24601\n",
      "[138]\tvalidation_0-logloss:0.24604\n",
      "[139]\tvalidation_0-logloss:0.24607\n",
      "[140]\tvalidation_0-logloss:0.24608\n",
      "[141]\tvalidation_0-logloss:0.24604\n",
      "[142]\tvalidation_0-logloss:0.24603\n",
      "[143]\tvalidation_0-logloss:0.24605\n",
      "[144]\tvalidation_0-logloss:0.24605\n",
      "[145]\tvalidation_0-logloss:0.24607\n",
      "[146]\tvalidation_0-logloss:0.24607\n",
      "[147]\tvalidation_0-logloss:0.24602\n",
      "[148]\tvalidation_0-logloss:0.24600\n",
      "[149]\tvalidation_0-logloss:0.24602\n",
      "[150]\tvalidation_0-logloss:0.24609\n",
      "[151]\tvalidation_0-logloss:0.24610\n",
      "[152]\tvalidation_0-logloss:0.24609\n",
      "[153]\tvalidation_0-logloss:0.24607\n",
      "[154]\tvalidation_0-logloss:0.24607\n",
      "[155]\tvalidation_0-logloss:0.24610\n",
      "[156]\tvalidation_0-logloss:0.24610\n",
      "[157]\tvalidation_0-logloss:0.24612\n",
      "[158]\tvalidation_0-logloss:0.24612\n",
      "[159]\tvalidation_0-logloss:0.24613\n",
      "[160]\tvalidation_0-logloss:0.24610\n",
      "[161]\tvalidation_0-logloss:0.24608\n",
      "[162]\tvalidation_0-logloss:0.24606\n",
      "[163]\tvalidation_0-logloss:0.24607\n",
      "[164]\tvalidation_0-logloss:0.24609\n",
      "[165]\tvalidation_0-logloss:0.24612\n",
      "[166]\tvalidation_0-logloss:0.24614\n",
      "[167]\tvalidation_0-logloss:0.24613\n",
      "[168]\tvalidation_0-logloss:0.24602\n",
      "[169]\tvalidation_0-logloss:0.24605\n",
      "[170]\tvalidation_0-logloss:0.24606\n",
      "[171]\tvalidation_0-logloss:0.24607\n",
      "[172]\tvalidation_0-logloss:0.24603\n",
      "[173]\tvalidation_0-logloss:0.24604\n",
      "[174]\tvalidation_0-logloss:0.24605\n",
      "[175]\tvalidation_0-logloss:0.24607\n",
      "[176]\tvalidation_0-logloss:0.24610\n",
      "[177]\tvalidation_0-logloss:0.24612\n",
      "[178]\tvalidation_0-logloss:0.24615\n",
      "[179]\tvalidation_0-logloss:0.24615\n",
      "[180]\tvalidation_0-logloss:0.24622\n",
      "Stopping. Best iteration:\n",
      "[80]\tvalidation_0-logloss:0.24568\n",
      "\n",
      "0.9207680926133684\n",
      "수행시간:226.0초\n"
     ]
    }
   ],
   "source": [
    "start_time = time.time()\n",
    "xgb_wrapper = XGBClassifier(random_state=1, n_estimators=400, learning_rate=0.5, max_depth=3)\n",
    "evals=[(X_test,y_test)]\n",
    "xgb_wrapper.fit(X_train, y_train, early_stopping_rounds=100, eval_metric=\"logloss\",eval_set=evals,verbose=True)\n",
    "xgb_wrapper_pred = xgb_wrapper.predict(X_test)\n",
    "xgb_accuracy = accuracy_score(xgb_wrapper_pred,y_test )\n",
    "\n",
    "print(xgb_accuracy)\n",
    "print('수행시간:{0:.1f}초'.format(time.time()-start_time))"
   ]
  },
  {
   "cell_type": "code",
   "execution_count": 90,
   "metadata": {},
   "outputs": [
    {
     "name": "stdout",
     "output_type": "stream",
     "text": [
      "[0]\tvalidation_0-logloss:0.62532\n",
      "Will train until validation_0-logloss hasn't improved in 100 rounds.\n",
      "[1]\tvalidation_0-logloss:0.56979\n",
      "[2]\tvalidation_0-logloss:0.52384\n",
      "[3]\tvalidation_0-logloss:0.48533\n",
      "[4]\tvalidation_0-logloss:0.45298\n",
      "[5]\tvalidation_0-logloss:0.42544\n",
      "[6]\tvalidation_0-logloss:0.40202\n",
      "[7]\tvalidation_0-logloss:0.38200\n",
      "[8]\tvalidation_0-logloss:0.36481\n",
      "[9]\tvalidation_0-logloss:0.35010\n",
      "[10]\tvalidation_0-logloss:0.33745\n",
      "[11]\tvalidation_0-logloss:0.32652\n",
      "[12]\tvalidation_0-logloss:0.31713\n",
      "[13]\tvalidation_0-logloss:0.30902\n",
      "[14]\tvalidation_0-logloss:0.30207\n",
      "[15]\tvalidation_0-logloss:0.29601\n",
      "[16]\tvalidation_0-logloss:0.29081\n",
      "[17]\tvalidation_0-logloss:0.28633\n",
      "[18]\tvalidation_0-logloss:0.28245\n",
      "[19]\tvalidation_0-logloss:0.27905\n",
      "[20]\tvalidation_0-logloss:0.27614\n",
      "[21]\tvalidation_0-logloss:0.27359\n",
      "[22]\tvalidation_0-logloss:0.27137\n",
      "[23]\tvalidation_0-logloss:0.26948\n",
      "[24]\tvalidation_0-logloss:0.26779\n",
      "[25]\tvalidation_0-logloss:0.26629\n",
      "[26]\tvalidation_0-logloss:0.26504\n",
      "[27]\tvalidation_0-logloss:0.26396\n",
      "[28]\tvalidation_0-logloss:0.26286\n",
      "[29]\tvalidation_0-logloss:0.26199\n",
      "[30]\tvalidation_0-logloss:0.26100\n",
      "[31]\tvalidation_0-logloss:0.26026\n",
      "[32]\tvalidation_0-logloss:0.25961\n",
      "[33]\tvalidation_0-logloss:0.25903\n",
      "[34]\tvalidation_0-logloss:0.25848\n",
      "[35]\tvalidation_0-logloss:0.25796\n",
      "[36]\tvalidation_0-logloss:0.25748\n",
      "[37]\tvalidation_0-logloss:0.25709\n",
      "[38]\tvalidation_0-logloss:0.25674\n",
      "[39]\tvalidation_0-logloss:0.25634\n",
      "[40]\tvalidation_0-logloss:0.25601\n",
      "[41]\tvalidation_0-logloss:0.25574\n",
      "[42]\tvalidation_0-logloss:0.25534\n",
      "[43]\tvalidation_0-logloss:0.25505\n",
      "[44]\tvalidation_0-logloss:0.25477\n",
      "[45]\tvalidation_0-logloss:0.25454\n",
      "[46]\tvalidation_0-logloss:0.25424\n",
      "[47]\tvalidation_0-logloss:0.25401\n",
      "[48]\tvalidation_0-logloss:0.25377\n",
      "[49]\tvalidation_0-logloss:0.25355\n",
      "[50]\tvalidation_0-logloss:0.25336\n",
      "[51]\tvalidation_0-logloss:0.25312\n",
      "[52]\tvalidation_0-logloss:0.25296\n",
      "[53]\tvalidation_0-logloss:0.25277\n",
      "[54]\tvalidation_0-logloss:0.25260\n",
      "[55]\tvalidation_0-logloss:0.25241\n",
      "[56]\tvalidation_0-logloss:0.25227\n",
      "[57]\tvalidation_0-logloss:0.25214\n",
      "[58]\tvalidation_0-logloss:0.25196\n",
      "[59]\tvalidation_0-logloss:0.25179\n",
      "[60]\tvalidation_0-logloss:0.25162\n",
      "[61]\tvalidation_0-logloss:0.25149\n",
      "[62]\tvalidation_0-logloss:0.25137\n",
      "[63]\tvalidation_0-logloss:0.25119\n",
      "[64]\tvalidation_0-logloss:0.25107\n",
      "[65]\tvalidation_0-logloss:0.25097\n",
      "[66]\tvalidation_0-logloss:0.25087\n",
      "[67]\tvalidation_0-logloss:0.25078\n",
      "[68]\tvalidation_0-logloss:0.25064\n",
      "[69]\tvalidation_0-logloss:0.25056\n",
      "[70]\tvalidation_0-logloss:0.25044\n",
      "[71]\tvalidation_0-logloss:0.25036\n",
      "[72]\tvalidation_0-logloss:0.25029\n",
      "[73]\tvalidation_0-logloss:0.25022\n",
      "[74]\tvalidation_0-logloss:0.25011\n",
      "[75]\tvalidation_0-logloss:0.25002\n",
      "[76]\tvalidation_0-logloss:0.24993\n",
      "[77]\tvalidation_0-logloss:0.24982\n",
      "[78]\tvalidation_0-logloss:0.24974\n",
      "[79]\tvalidation_0-logloss:0.24963\n",
      "[80]\tvalidation_0-logloss:0.24957\n",
      "[81]\tvalidation_0-logloss:0.24949\n",
      "[82]\tvalidation_0-logloss:0.24943\n",
      "[83]\tvalidation_0-logloss:0.24935\n",
      "[84]\tvalidation_0-logloss:0.24927\n",
      "[85]\tvalidation_0-logloss:0.24923\n",
      "[86]\tvalidation_0-logloss:0.24917\n",
      "[87]\tvalidation_0-logloss:0.24913\n",
      "[88]\tvalidation_0-logloss:0.24908\n",
      "[89]\tvalidation_0-logloss:0.24893\n",
      "[90]\tvalidation_0-logloss:0.24890\n",
      "[91]\tvalidation_0-logloss:0.24886\n",
      "[92]\tvalidation_0-logloss:0.24881\n",
      "[93]\tvalidation_0-logloss:0.24876\n",
      "[94]\tvalidation_0-logloss:0.24871\n",
      "[95]\tvalidation_0-logloss:0.24867\n",
      "[96]\tvalidation_0-logloss:0.24861\n",
      "[97]\tvalidation_0-logloss:0.24855\n",
      "[98]\tvalidation_0-logloss:0.24849\n",
      "[99]\tvalidation_0-logloss:0.24843\n",
      "[100]\tvalidation_0-logloss:0.24837\n",
      "[101]\tvalidation_0-logloss:0.24835\n",
      "[102]\tvalidation_0-logloss:0.24831\n",
      "[103]\tvalidation_0-logloss:0.24828\n",
      "[104]\tvalidation_0-logloss:0.24826\n",
      "[105]\tvalidation_0-logloss:0.24819\n",
      "[106]\tvalidation_0-logloss:0.24817\n",
      "[107]\tvalidation_0-logloss:0.24814\n",
      "[108]\tvalidation_0-logloss:0.24806\n",
      "[109]\tvalidation_0-logloss:0.24806\n",
      "[110]\tvalidation_0-logloss:0.24804\n",
      "[111]\tvalidation_0-logloss:0.24798\n",
      "[112]\tvalidation_0-logloss:0.24794\n",
      "[113]\tvalidation_0-logloss:0.24790\n",
      "[114]\tvalidation_0-logloss:0.24788\n",
      "[115]\tvalidation_0-logloss:0.24786\n",
      "[116]\tvalidation_0-logloss:0.24783\n",
      "[117]\tvalidation_0-logloss:0.24777\n",
      "[118]\tvalidation_0-logloss:0.24766\n",
      "[119]\tvalidation_0-logloss:0.24763\n",
      "[120]\tvalidation_0-logloss:0.24758\n",
      "[121]\tvalidation_0-logloss:0.24756\n",
      "[122]\tvalidation_0-logloss:0.24754\n",
      "[123]\tvalidation_0-logloss:0.24753\n",
      "[124]\tvalidation_0-logloss:0.24750\n",
      "[125]\tvalidation_0-logloss:0.24747\n",
      "[126]\tvalidation_0-logloss:0.24745\n",
      "[127]\tvalidation_0-logloss:0.24742\n",
      "[128]\tvalidation_0-logloss:0.24731\n",
      "[129]\tvalidation_0-logloss:0.24728\n",
      "[130]\tvalidation_0-logloss:0.24718\n",
      "[131]\tvalidation_0-logloss:0.24714\n",
      "[132]\tvalidation_0-logloss:0.24712\n",
      "[133]\tvalidation_0-logloss:0.24712\n",
      "[134]\tvalidation_0-logloss:0.24710\n",
      "[135]\tvalidation_0-logloss:0.24710\n",
      "[136]\tvalidation_0-logloss:0.24709\n",
      "[137]\tvalidation_0-logloss:0.24706\n",
      "[138]\tvalidation_0-logloss:0.24704\n",
      "[139]\tvalidation_0-logloss:0.24703\n",
      "[140]\tvalidation_0-logloss:0.24701\n",
      "[141]\tvalidation_0-logloss:0.24698\n",
      "[142]\tvalidation_0-logloss:0.24696\n",
      "[143]\tvalidation_0-logloss:0.24687\n",
      "[144]\tvalidation_0-logloss:0.24685\n",
      "[145]\tvalidation_0-logloss:0.24684\n",
      "[146]\tvalidation_0-logloss:0.24679\n",
      "[147]\tvalidation_0-logloss:0.24678\n",
      "[148]\tvalidation_0-logloss:0.24678\n",
      "[149]\tvalidation_0-logloss:0.24677\n",
      "[150]\tvalidation_0-logloss:0.24676\n",
      "[151]\tvalidation_0-logloss:0.24674\n",
      "[152]\tvalidation_0-logloss:0.24672\n",
      "[153]\tvalidation_0-logloss:0.24664\n",
      "[154]\tvalidation_0-logloss:0.24663\n",
      "[155]\tvalidation_0-logloss:0.24661\n",
      "[156]\tvalidation_0-logloss:0.24660\n",
      "[157]\tvalidation_0-logloss:0.24658\n",
      "[158]\tvalidation_0-logloss:0.24655\n",
      "[159]\tvalidation_0-logloss:0.24647\n",
      "[160]\tvalidation_0-logloss:0.24646\n",
      "[161]\tvalidation_0-logloss:0.24644\n",
      "[162]\tvalidation_0-logloss:0.24643\n",
      "[163]\tvalidation_0-logloss:0.24641\n",
      "[164]\tvalidation_0-logloss:0.24639\n",
      "[165]\tvalidation_0-logloss:0.24639\n",
      "[166]\tvalidation_0-logloss:0.24638\n",
      "[167]\tvalidation_0-logloss:0.24637\n",
      "[168]\tvalidation_0-logloss:0.24632\n",
      "[169]\tvalidation_0-logloss:0.24632\n",
      "[170]\tvalidation_0-logloss:0.24630\n",
      "[171]\tvalidation_0-logloss:0.24627\n",
      "[172]\tvalidation_0-logloss:0.24626\n",
      "[173]\tvalidation_0-logloss:0.24623\n",
      "[174]\tvalidation_0-logloss:0.24621\n",
      "[175]\tvalidation_0-logloss:0.24622\n",
      "[176]\tvalidation_0-logloss:0.24621\n",
      "[177]\tvalidation_0-logloss:0.24620\n",
      "[178]\tvalidation_0-logloss:0.24619\n",
      "[179]\tvalidation_0-logloss:0.24616\n",
      "[180]\tvalidation_0-logloss:0.24616\n",
      "[181]\tvalidation_0-logloss:0.24610\n",
      "[182]\tvalidation_0-logloss:0.24610\n",
      "[183]\tvalidation_0-logloss:0.24609\n",
      "[184]\tvalidation_0-logloss:0.24607\n",
      "[185]\tvalidation_0-logloss:0.24606\n",
      "[186]\tvalidation_0-logloss:0.24604\n",
      "[187]\tvalidation_0-logloss:0.24599\n",
      "[188]\tvalidation_0-logloss:0.24598\n",
      "[189]\tvalidation_0-logloss:0.24596\n",
      "[190]\tvalidation_0-logloss:0.24595\n",
      "[191]\tvalidation_0-logloss:0.24594\n",
      "[192]\tvalidation_0-logloss:0.24594\n",
      "[193]\tvalidation_0-logloss:0.24594\n",
      "[194]\tvalidation_0-logloss:0.24592\n",
      "[195]\tvalidation_0-logloss:0.24585\n",
      "[196]\tvalidation_0-logloss:0.24584\n",
      "[197]\tvalidation_0-logloss:0.24583\n",
      "[198]\tvalidation_0-logloss:0.24579\n",
      "[199]\tvalidation_0-logloss:0.24579\n",
      "[200]\tvalidation_0-logloss:0.24579\n",
      "[201]\tvalidation_0-logloss:0.24578\n",
      "[202]\tvalidation_0-logloss:0.24578\n",
      "[203]\tvalidation_0-logloss:0.24577\n",
      "[204]\tvalidation_0-logloss:0.24577\n",
      "[205]\tvalidation_0-logloss:0.24577\n",
      "[206]\tvalidation_0-logloss:0.24576\n",
      "[207]\tvalidation_0-logloss:0.24574\n",
      "[208]\tvalidation_0-logloss:0.24572\n",
      "[209]\tvalidation_0-logloss:0.24573\n",
      "[210]\tvalidation_0-logloss:0.24571\n",
      "[211]\tvalidation_0-logloss:0.24571\n",
      "[212]\tvalidation_0-logloss:0.24570\n",
      "[213]\tvalidation_0-logloss:0.24566\n",
      "[214]\tvalidation_0-logloss:0.24567\n",
      "[215]\tvalidation_0-logloss:0.24566\n",
      "[216]\tvalidation_0-logloss:0.24567\n",
      "[217]\tvalidation_0-logloss:0.24566\n",
      "[218]\tvalidation_0-logloss:0.24566\n",
      "[219]\tvalidation_0-logloss:0.24564\n",
      "[220]\tvalidation_0-logloss:0.24563\n",
      "[221]\tvalidation_0-logloss:0.24562\n",
      "[222]\tvalidation_0-logloss:0.24561\n",
      "[223]\tvalidation_0-logloss:0.24560\n",
      "[224]\tvalidation_0-logloss:0.24557\n",
      "[225]\tvalidation_0-logloss:0.24556\n",
      "[226]\tvalidation_0-logloss:0.24556\n",
      "[227]\tvalidation_0-logloss:0.24556\n",
      "[228]\tvalidation_0-logloss:0.24555\n",
      "[229]\tvalidation_0-logloss:0.24553\n",
      "[230]\tvalidation_0-logloss:0.24553\n",
      "[231]\tvalidation_0-logloss:0.24552\n",
      "[232]\tvalidation_0-logloss:0.24551\n",
      "[233]\tvalidation_0-logloss:0.24550\n",
      "[234]\tvalidation_0-logloss:0.24550\n",
      "[235]\tvalidation_0-logloss:0.24550\n"
     ]
    },
    {
     "name": "stdout",
     "output_type": "stream",
     "text": [
      "[236]\tvalidation_0-logloss:0.24547\n",
      "[237]\tvalidation_0-logloss:0.24547\n",
      "[238]\tvalidation_0-logloss:0.24547\n",
      "[239]\tvalidation_0-logloss:0.24546\n",
      "[240]\tvalidation_0-logloss:0.24544\n",
      "[241]\tvalidation_0-logloss:0.24544\n",
      "[242]\tvalidation_0-logloss:0.24544\n",
      "[243]\tvalidation_0-logloss:0.24544\n",
      "[244]\tvalidation_0-logloss:0.24543\n",
      "[245]\tvalidation_0-logloss:0.24540\n",
      "[246]\tvalidation_0-logloss:0.24539\n",
      "[247]\tvalidation_0-logloss:0.24539\n",
      "[248]\tvalidation_0-logloss:0.24539\n",
      "[249]\tvalidation_0-logloss:0.24538\n",
      "[250]\tvalidation_0-logloss:0.24537\n",
      "[251]\tvalidation_0-logloss:0.24536\n",
      "[252]\tvalidation_0-logloss:0.24535\n",
      "[253]\tvalidation_0-logloss:0.24534\n",
      "[254]\tvalidation_0-logloss:0.24534\n",
      "[255]\tvalidation_0-logloss:0.24534\n",
      "[256]\tvalidation_0-logloss:0.24534\n",
      "[257]\tvalidation_0-logloss:0.24531\n",
      "[258]\tvalidation_0-logloss:0.24530\n",
      "[259]\tvalidation_0-logloss:0.24522\n",
      "[260]\tvalidation_0-logloss:0.24522\n",
      "[261]\tvalidation_0-logloss:0.24519\n",
      "[262]\tvalidation_0-logloss:0.24517\n",
      "[263]\tvalidation_0-logloss:0.24516\n",
      "[264]\tvalidation_0-logloss:0.24516\n",
      "[265]\tvalidation_0-logloss:0.24515\n",
      "[266]\tvalidation_0-logloss:0.24515\n",
      "[267]\tvalidation_0-logloss:0.24515\n",
      "[268]\tvalidation_0-logloss:0.24514\n",
      "[269]\tvalidation_0-logloss:0.24513\n",
      "[270]\tvalidation_0-logloss:0.24513\n",
      "[271]\tvalidation_0-logloss:0.24513\n",
      "[272]\tvalidation_0-logloss:0.24505\n",
      "[273]\tvalidation_0-logloss:0.24504\n",
      "[274]\tvalidation_0-logloss:0.24503\n",
      "[275]\tvalidation_0-logloss:0.24503\n",
      "[276]\tvalidation_0-logloss:0.24503\n",
      "[277]\tvalidation_0-logloss:0.24502\n",
      "[278]\tvalidation_0-logloss:0.24501\n",
      "[279]\tvalidation_0-logloss:0.24500\n",
      "[280]\tvalidation_0-logloss:0.24500\n",
      "[281]\tvalidation_0-logloss:0.24502\n",
      "[282]\tvalidation_0-logloss:0.24501\n",
      "[283]\tvalidation_0-logloss:0.24500\n",
      "[284]\tvalidation_0-logloss:0.24494\n",
      "[285]\tvalidation_0-logloss:0.24493\n",
      "[286]\tvalidation_0-logloss:0.24493\n",
      "[287]\tvalidation_0-logloss:0.24493\n",
      "[288]\tvalidation_0-logloss:0.24491\n",
      "[289]\tvalidation_0-logloss:0.24491\n",
      "[290]\tvalidation_0-logloss:0.24491\n",
      "[291]\tvalidation_0-logloss:0.24489\n",
      "[292]\tvalidation_0-logloss:0.24489\n",
      "[293]\tvalidation_0-logloss:0.24489\n",
      "[294]\tvalidation_0-logloss:0.24488\n",
      "[295]\tvalidation_0-logloss:0.24488\n",
      "[296]\tvalidation_0-logloss:0.24488\n",
      "[297]\tvalidation_0-logloss:0.24488\n",
      "[298]\tvalidation_0-logloss:0.24487\n",
      "[299]\tvalidation_0-logloss:0.24486\n",
      "[300]\tvalidation_0-logloss:0.24484\n",
      "[301]\tvalidation_0-logloss:0.24485\n",
      "[302]\tvalidation_0-logloss:0.24482\n",
      "[303]\tvalidation_0-logloss:0.24477\n",
      "[304]\tvalidation_0-logloss:0.24478\n",
      "[305]\tvalidation_0-logloss:0.24477\n",
      "[306]\tvalidation_0-logloss:0.24477\n",
      "[307]\tvalidation_0-logloss:0.24477\n",
      "[308]\tvalidation_0-logloss:0.24477\n",
      "[309]\tvalidation_0-logloss:0.24476\n",
      "[310]\tvalidation_0-logloss:0.24475\n",
      "[311]\tvalidation_0-logloss:0.24473\n",
      "[312]\tvalidation_0-logloss:0.24468\n",
      "[313]\tvalidation_0-logloss:0.24467\n",
      "[314]\tvalidation_0-logloss:0.24466\n",
      "[315]\tvalidation_0-logloss:0.24466\n",
      "[316]\tvalidation_0-logloss:0.24468\n",
      "[317]\tvalidation_0-logloss:0.24468\n",
      "[318]\tvalidation_0-logloss:0.24468\n",
      "[319]\tvalidation_0-logloss:0.24468\n",
      "[320]\tvalidation_0-logloss:0.24468\n",
      "[321]\tvalidation_0-logloss:0.24467\n",
      "[322]\tvalidation_0-logloss:0.24467\n",
      "[323]\tvalidation_0-logloss:0.24468\n",
      "[324]\tvalidation_0-logloss:0.24467\n",
      "[325]\tvalidation_0-logloss:0.24465\n",
      "[326]\tvalidation_0-logloss:0.24465\n",
      "[327]\tvalidation_0-logloss:0.24466\n",
      "[328]\tvalidation_0-logloss:0.24464\n",
      "[329]\tvalidation_0-logloss:0.24462\n",
      "[330]\tvalidation_0-logloss:0.24461\n",
      "[331]\tvalidation_0-logloss:0.24462\n",
      "[332]\tvalidation_0-logloss:0.24457\n",
      "[333]\tvalidation_0-logloss:0.24458\n",
      "[334]\tvalidation_0-logloss:0.24458\n",
      "[335]\tvalidation_0-logloss:0.24458\n",
      "[336]\tvalidation_0-logloss:0.24458\n",
      "[337]\tvalidation_0-logloss:0.24453\n",
      "[338]\tvalidation_0-logloss:0.24453\n",
      "[339]\tvalidation_0-logloss:0.24454\n",
      "[340]\tvalidation_0-logloss:0.24453\n",
      "[341]\tvalidation_0-logloss:0.24453\n",
      "[342]\tvalidation_0-logloss:0.24452\n",
      "[343]\tvalidation_0-logloss:0.24451\n",
      "[344]\tvalidation_0-logloss:0.24451\n",
      "[345]\tvalidation_0-logloss:0.24452\n",
      "[346]\tvalidation_0-logloss:0.24450\n",
      "[347]\tvalidation_0-logloss:0.24447\n",
      "[348]\tvalidation_0-logloss:0.24447\n",
      "[349]\tvalidation_0-logloss:0.24447\n",
      "[350]\tvalidation_0-logloss:0.24447\n",
      "[351]\tvalidation_0-logloss:0.24447\n",
      "[352]\tvalidation_0-logloss:0.24438\n",
      "[353]\tvalidation_0-logloss:0.24438\n",
      "[354]\tvalidation_0-logloss:0.24438\n",
      "[355]\tvalidation_0-logloss:0.24437\n",
      "[356]\tvalidation_0-logloss:0.24437\n",
      "[357]\tvalidation_0-logloss:0.24437\n",
      "[358]\tvalidation_0-logloss:0.24436\n",
      "[359]\tvalidation_0-logloss:0.24437\n",
      "[360]\tvalidation_0-logloss:0.24436\n",
      "[361]\tvalidation_0-logloss:0.24436\n",
      "[362]\tvalidation_0-logloss:0.24428\n",
      "[363]\tvalidation_0-logloss:0.24428\n",
      "[364]\tvalidation_0-logloss:0.24424\n",
      "[365]\tvalidation_0-logloss:0.24425\n",
      "[366]\tvalidation_0-logloss:0.24424\n",
      "[367]\tvalidation_0-logloss:0.24424\n",
      "[368]\tvalidation_0-logloss:0.24424\n",
      "[369]\tvalidation_0-logloss:0.24423\n",
      "[370]\tvalidation_0-logloss:0.24422\n",
      "[371]\tvalidation_0-logloss:0.24422\n",
      "[372]\tvalidation_0-logloss:0.24423\n",
      "[373]\tvalidation_0-logloss:0.24422\n",
      "[374]\tvalidation_0-logloss:0.24422\n",
      "[375]\tvalidation_0-logloss:0.24422\n",
      "[376]\tvalidation_0-logloss:0.24422\n",
      "[377]\tvalidation_0-logloss:0.24423\n",
      "[378]\tvalidation_0-logloss:0.24423\n",
      "[379]\tvalidation_0-logloss:0.24422\n",
      "[380]\tvalidation_0-logloss:0.24422\n",
      "[381]\tvalidation_0-logloss:0.24422\n",
      "[382]\tvalidation_0-logloss:0.24422\n",
      "[383]\tvalidation_0-logloss:0.24421\n",
      "[384]\tvalidation_0-logloss:0.24421\n",
      "[385]\tvalidation_0-logloss:0.24421\n",
      "[386]\tvalidation_0-logloss:0.24420\n",
      "[387]\tvalidation_0-logloss:0.24419\n",
      "[388]\tvalidation_0-logloss:0.24420\n",
      "[389]\tvalidation_0-logloss:0.24419\n",
      "[390]\tvalidation_0-logloss:0.24417\n",
      "[391]\tvalidation_0-logloss:0.24414\n",
      "[392]\tvalidation_0-logloss:0.24413\n",
      "[393]\tvalidation_0-logloss:0.24414\n",
      "[394]\tvalidation_0-logloss:0.24410\n",
      "[395]\tvalidation_0-logloss:0.24410\n",
      "[396]\tvalidation_0-logloss:0.24408\n",
      "[397]\tvalidation_0-logloss:0.24408\n",
      "[398]\tvalidation_0-logloss:0.24408\n",
      "[399]\tvalidation_0-logloss:0.24408\n",
      "0.9214022080223729\n",
      "수행시간:489.5초\n"
     ]
    }
   ],
   "source": [
    "start_time = time.time()\n",
    "xgb_wrapper = XGBClassifier(random_state=1, n_estimators=400, learning_rate=0.1, max_depth=3)\n",
    "evals=[(X_test,y_test)]\n",
    "xgb_wrapper.fit(X_train, y_train, early_stopping_rounds=100, eval_metric=\"logloss\",eval_set=evals,verbose=True)\n",
    "xgb_wrapper_pred = xgb_wrapper.predict(X_test)\n",
    "xgb_accuracy = accuracy_score(xgb_wrapper_pred,y_test )\n",
    "\n",
    "print(xgb_accuracy)\n",
    "print('수행시간:{0:.1f}초'.format(time.time()-start_time))"
   ]
  },
  {
   "cell_type": "markdown",
   "metadata": {},
   "source": [
    "XGboost조차도 오래 걸린다. 특히 GridSearchCV를 하면\n",
    "훨씬 빠른 LightGBM사용\n",
    "LightGBM은 적은 데이터 세트에 적용할 경우 과적합이 발생하기 쉽다. (<=10000.LightBGM공식문서)\n",
    "비대칭 형태의 Tree형태 사용 -> 예측 오류 손실을 최소화 할 수 있다\n",
    "카테고리형 피처의 자동 변환과 최적분할(원-핫 인코딩 등을 사용하지 않고도 카테고리형 피처를 최적으로 변환하고 이에 따른 노드 분할 수행)\n",
    "\n",
    "\n"
   ]
  },
  {
   "cell_type": "markdown",
   "metadata": {},
   "source": [
    "num_leaves의 개수를 중심으로 나머지 하이퍼 파라미터(min_child_samples,max_depth등)를 함께 조정하면서 모델의 복잡도를 줄이는 것이 기본 튜닝 방법\n",
    "\n",
    "LGBM도 XGBoost와 동일하게 조기 중단 수행 가능."
   ]
  },
  {
   "cell_type": "code",
   "execution_count": 39,
   "metadata": {},
   "outputs": [],
   "source": [
    "#feature 데이터에 존재하는 json값으로 lightbgm이 작동하지 않아서 데이터를 다시 설정해주었다\n",
    "import re\n",
    "X_train = X_train.rename(columns = lambda x:re.sub('[^A-Za-z0-9_]+', '', x))\n",
    "X_test = X_test.rename(columns = lambda x:re.sub('[^A-Za-z0-9_]+', '', x))"
   ]
  },
  {
   "cell_type": "code",
   "execution_count": 51,
   "metadata": {},
   "outputs": [
    {
     "name": "stdout",
     "output_type": "stream",
     "text": [
      "[1]\tvalid_0's binary_logloss: 0.272191\n",
      "Training until validation scores don't improve for 100 rounds\n",
      "[2]\tvalid_0's binary_logloss: 0.269098\n",
      "[3]\tvalid_0's binary_logloss: 0.26665\n",
      "[4]\tvalid_0's binary_logloss: 0.264638\n",
      "[5]\tvalid_0's binary_logloss: 0.262789\n",
      "[6]\tvalid_0's binary_logloss: 0.261283\n",
      "[7]\tvalid_0's binary_logloss: 0.260034\n",
      "[8]\tvalid_0's binary_logloss: 0.258819\n",
      "[9]\tvalid_0's binary_logloss: 0.257693\n",
      "[10]\tvalid_0's binary_logloss: 0.256733\n",
      "[11]\tvalid_0's binary_logloss: 0.256006\n",
      "[12]\tvalid_0's binary_logloss: 0.255224\n",
      "[13]\tvalid_0's binary_logloss: 0.254613\n",
      "[14]\tvalid_0's binary_logloss: 0.254038\n",
      "[15]\tvalid_0's binary_logloss: 0.253417\n",
      "[16]\tvalid_0's binary_logloss: 0.253038\n",
      "[17]\tvalid_0's binary_logloss: 0.25254\n",
      "[18]\tvalid_0's binary_logloss: 0.251773\n",
      "[19]\tvalid_0's binary_logloss: 0.251371\n",
      "[20]\tvalid_0's binary_logloss: 0.251074\n",
      "[21]\tvalid_0's binary_logloss: 0.250799\n",
      "[22]\tvalid_0's binary_logloss: 0.250502\n",
      "[23]\tvalid_0's binary_logloss: 0.250269\n",
      "[24]\tvalid_0's binary_logloss: 0.249929\n",
      "[25]\tvalid_0's binary_logloss: 0.249654\n",
      "[26]\tvalid_0's binary_logloss: 0.249383\n",
      "[27]\tvalid_0's binary_logloss: 0.248966\n",
      "[28]\tvalid_0's binary_logloss: 0.248783\n",
      "[29]\tvalid_0's binary_logloss: 0.248385\n",
      "[30]\tvalid_0's binary_logloss: 0.248259\n",
      "[31]\tvalid_0's binary_logloss: 0.248047\n",
      "[32]\tvalid_0's binary_logloss: 0.247908\n",
      "[33]\tvalid_0's binary_logloss: 0.247826\n",
      "[34]\tvalid_0's binary_logloss: 0.247687\n",
      "[35]\tvalid_0's binary_logloss: 0.247578\n",
      "[36]\tvalid_0's binary_logloss: 0.247451\n",
      "[37]\tvalid_0's binary_logloss: 0.247315\n",
      "[38]\tvalid_0's binary_logloss: 0.247055\n",
      "[39]\tvalid_0's binary_logloss: 0.246935\n",
      "[40]\tvalid_0's binary_logloss: 0.246908\n",
      "[41]\tvalid_0's binary_logloss: 0.246852\n",
      "[42]\tvalid_0's binary_logloss: 0.246815\n",
      "[43]\tvalid_0's binary_logloss: 0.246741\n",
      "[44]\tvalid_0's binary_logloss: 0.246662\n",
      "[45]\tvalid_0's binary_logloss: 0.246583\n",
      "[46]\tvalid_0's binary_logloss: 0.246548\n",
      "[47]\tvalid_0's binary_logloss: 0.246455\n",
      "[48]\tvalid_0's binary_logloss: 0.246397\n",
      "[49]\tvalid_0's binary_logloss: 0.246329\n",
      "[50]\tvalid_0's binary_logloss: 0.246204\n",
      "[51]\tvalid_0's binary_logloss: 0.246176\n",
      "[52]\tvalid_0's binary_logloss: 0.246143\n",
      "[53]\tvalid_0's binary_logloss: 0.246115\n",
      "[54]\tvalid_0's binary_logloss: 0.24605\n",
      "[55]\tvalid_0's binary_logloss: 0.245994\n",
      "[56]\tvalid_0's binary_logloss: 0.245957\n",
      "[57]\tvalid_0's binary_logloss: 0.245919\n",
      "[58]\tvalid_0's binary_logloss: 0.245886\n",
      "[59]\tvalid_0's binary_logloss: 0.245854\n",
      "[60]\tvalid_0's binary_logloss: 0.245832\n",
      "[61]\tvalid_0's binary_logloss: 0.245798\n",
      "[62]\tvalid_0's binary_logloss: 0.245762\n",
      "[63]\tvalid_0's binary_logloss: 0.245696\n",
      "[64]\tvalid_0's binary_logloss: 0.245672\n",
      "[65]\tvalid_0's binary_logloss: 0.245636\n",
      "[66]\tvalid_0's binary_logloss: 0.245602\n",
      "[67]\tvalid_0's binary_logloss: 0.245608\n",
      "[68]\tvalid_0's binary_logloss: 0.245552\n",
      "[69]\tvalid_0's binary_logloss: 0.245525\n",
      "[70]\tvalid_0's binary_logloss: 0.24551\n",
      "[71]\tvalid_0's binary_logloss: 0.245468\n",
      "[72]\tvalid_0's binary_logloss: 0.245449\n",
      "[73]\tvalid_0's binary_logloss: 0.245434\n",
      "[74]\tvalid_0's binary_logloss: 0.245412\n",
      "[75]\tvalid_0's binary_logloss: 0.245417\n",
      "[76]\tvalid_0's binary_logloss: 0.245365\n",
      "[77]\tvalid_0's binary_logloss: 0.245366\n",
      "[78]\tvalid_0's binary_logloss: 0.245375\n",
      "[79]\tvalid_0's binary_logloss: 0.24535\n",
      "[80]\tvalid_0's binary_logloss: 0.245334\n",
      "[81]\tvalid_0's binary_logloss: 0.24533\n",
      "[82]\tvalid_0's binary_logloss: 0.245355\n",
      "[83]\tvalid_0's binary_logloss: 0.245352\n",
      "[84]\tvalid_0's binary_logloss: 0.245358\n",
      "[85]\tvalid_0's binary_logloss: 0.245366\n",
      "[86]\tvalid_0's binary_logloss: 0.245376\n",
      "[87]\tvalid_0's binary_logloss: 0.245362\n",
      "[88]\tvalid_0's binary_logloss: 0.24538\n",
      "[89]\tvalid_0's binary_logloss: 0.245393\n",
      "[90]\tvalid_0's binary_logloss: 0.245375\n",
      "[91]\tvalid_0's binary_logloss: 0.245353\n",
      "[92]\tvalid_0's binary_logloss: 0.245337\n",
      "[93]\tvalid_0's binary_logloss: 0.245339\n",
      "[94]\tvalid_0's binary_logloss: 0.245353\n",
      "[95]\tvalid_0's binary_logloss: 0.245331\n",
      "[96]\tvalid_0's binary_logloss: 0.245303\n",
      "[97]\tvalid_0's binary_logloss: 0.245315\n",
      "[98]\tvalid_0's binary_logloss: 0.245293\n",
      "[99]\tvalid_0's binary_logloss: 0.245311\n",
      "[100]\tvalid_0's binary_logloss: 0.245296\n",
      "[101]\tvalid_0's binary_logloss: 0.245293\n",
      "[102]\tvalid_0's binary_logloss: 0.245305\n",
      "[103]\tvalid_0's binary_logloss: 0.245315\n",
      "[104]\tvalid_0's binary_logloss: 0.245324\n",
      "[105]\tvalid_0's binary_logloss: 0.245337\n",
      "[106]\tvalid_0's binary_logloss: 0.245348\n",
      "[107]\tvalid_0's binary_logloss: 0.245243\n",
      "[108]\tvalid_0's binary_logloss: 0.245219\n",
      "[109]\tvalid_0's binary_logloss: 0.245211\n",
      "[110]\tvalid_0's binary_logloss: 0.245204\n",
      "[111]\tvalid_0's binary_logloss: 0.245199\n",
      "[112]\tvalid_0's binary_logloss: 0.245168\n",
      "[113]\tvalid_0's binary_logloss: 0.245179\n",
      "[114]\tvalid_0's binary_logloss: 0.24514\n",
      "[115]\tvalid_0's binary_logloss: 0.245134\n",
      "[116]\tvalid_0's binary_logloss: 0.245133\n",
      "[117]\tvalid_0's binary_logloss: 0.245147\n",
      "[118]\tvalid_0's binary_logloss: 0.245166\n",
      "[119]\tvalid_0's binary_logloss: 0.245187\n",
      "[120]\tvalid_0's binary_logloss: 0.245177\n",
      "[121]\tvalid_0's binary_logloss: 0.245191\n",
      "[122]\tvalid_0's binary_logloss: 0.245196\n",
      "[123]\tvalid_0's binary_logloss: 0.245211\n",
      "[124]\tvalid_0's binary_logloss: 0.245194\n",
      "[125]\tvalid_0's binary_logloss: 0.24521\n",
      "[126]\tvalid_0's binary_logloss: 0.245217\n",
      "[127]\tvalid_0's binary_logloss: 0.245211\n",
      "[128]\tvalid_0's binary_logloss: 0.24522\n",
      "[129]\tvalid_0's binary_logloss: 0.24524\n",
      "[130]\tvalid_0's binary_logloss: 0.245231\n",
      "[131]\tvalid_0's binary_logloss: 0.245211\n",
      "[132]\tvalid_0's binary_logloss: 0.245165\n",
      "[133]\tvalid_0's binary_logloss: 0.245174\n",
      "[134]\tvalid_0's binary_logloss: 0.245179\n",
      "[135]\tvalid_0's binary_logloss: 0.245138\n",
      "[136]\tvalid_0's binary_logloss: 0.245172\n",
      "[137]\tvalid_0's binary_logloss: 0.245193\n",
      "[138]\tvalid_0's binary_logloss: 0.245191\n",
      "[139]\tvalid_0's binary_logloss: 0.245184\n",
      "[140]\tvalid_0's binary_logloss: 0.245197\n",
      "[141]\tvalid_0's binary_logloss: 0.245191\n",
      "[142]\tvalid_0's binary_logloss: 0.245183\n",
      "[143]\tvalid_0's binary_logloss: 0.245184\n",
      "[144]\tvalid_0's binary_logloss: 0.245208\n",
      "[145]\tvalid_0's binary_logloss: 0.245221\n",
      "[146]\tvalid_0's binary_logloss: 0.24521\n",
      "[147]\tvalid_0's binary_logloss: 0.245233\n",
      "[148]\tvalid_0's binary_logloss: 0.245246\n",
      "[149]\tvalid_0's binary_logloss: 0.245241\n",
      "[150]\tvalid_0's binary_logloss: 0.245198\n",
      "[151]\tvalid_0's binary_logloss: 0.245214\n",
      "[152]\tvalid_0's binary_logloss: 0.245229\n",
      "[153]\tvalid_0's binary_logloss: 0.245243\n",
      "[154]\tvalid_0's binary_logloss: 0.245244\n",
      "[155]\tvalid_0's binary_logloss: 0.245244\n",
      "[156]\tvalid_0's binary_logloss: 0.245264\n",
      "[157]\tvalid_0's binary_logloss: 0.245256\n",
      "[158]\tvalid_0's binary_logloss: 0.245265\n",
      "[159]\tvalid_0's binary_logloss: 0.245273\n",
      "[160]\tvalid_0's binary_logloss: 0.245286\n",
      "[161]\tvalid_0's binary_logloss: 0.245293\n",
      "[162]\tvalid_0's binary_logloss: 0.24527\n",
      "[163]\tvalid_0's binary_logloss: 0.245243\n",
      "[164]\tvalid_0's binary_logloss: 0.245253\n",
      "[165]\tvalid_0's binary_logloss: 0.245256\n",
      "[166]\tvalid_0's binary_logloss: 0.245269\n",
      "[167]\tvalid_0's binary_logloss: 0.24527\n",
      "[168]\tvalid_0's binary_logloss: 0.24522\n",
      "[169]\tvalid_0's binary_logloss: 0.245225\n",
      "[170]\tvalid_0's binary_logloss: 0.245223\n",
      "[171]\tvalid_0's binary_logloss: 0.245224\n",
      "[172]\tvalid_0's binary_logloss: 0.245224\n",
      "[173]\tvalid_0's binary_logloss: 0.245219\n",
      "[174]\tvalid_0's binary_logloss: 0.24522\n",
      "[175]\tvalid_0's binary_logloss: 0.24524\n",
      "[176]\tvalid_0's binary_logloss: 0.245239\n",
      "[177]\tvalid_0's binary_logloss: 0.245249\n",
      "[178]\tvalid_0's binary_logloss: 0.245268\n",
      "[179]\tvalid_0's binary_logloss: 0.245291\n",
      "[180]\tvalid_0's binary_logloss: 0.245296\n",
      "[181]\tvalid_0's binary_logloss: 0.245316\n",
      "[182]\tvalid_0's binary_logloss: 0.245311\n",
      "[183]\tvalid_0's binary_logloss: 0.245299\n",
      "[184]\tvalid_0's binary_logloss: 0.245277\n",
      "[185]\tvalid_0's binary_logloss: 0.245271\n",
      "[186]\tvalid_0's binary_logloss: 0.24527\n",
      "[187]\tvalid_0's binary_logloss: 0.245268\n",
      "[188]\tvalid_0's binary_logloss: 0.245275\n",
      "[189]\tvalid_0's binary_logloss: 0.24531\n",
      "[190]\tvalid_0's binary_logloss: 0.245312\n",
      "[191]\tvalid_0's binary_logloss: 0.245305\n",
      "[192]\tvalid_0's binary_logloss: 0.24532\n",
      "[193]\tvalid_0's binary_logloss: 0.245317\n",
      "[194]\tvalid_0's binary_logloss: 0.245333\n",
      "[195]\tvalid_0's binary_logloss: 0.245308\n",
      "[196]\tvalid_0's binary_logloss: 0.245279\n",
      "[197]\tvalid_0's binary_logloss: 0.245262\n",
      "[198]\tvalid_0's binary_logloss: 0.245253\n",
      "[199]\tvalid_0's binary_logloss: 0.24526\n",
      "[200]\tvalid_0's binary_logloss: 0.24526\n",
      "[201]\tvalid_0's binary_logloss: 0.245279\n",
      "[202]\tvalid_0's binary_logloss: 0.24528\n",
      "[203]\tvalid_0's binary_logloss: 0.245246\n"
     ]
    },
    {
     "name": "stdout",
     "output_type": "stream",
     "text": [
      "[204]\tvalid_0's binary_logloss: 0.245218\n",
      "[205]\tvalid_0's binary_logloss: 0.245223\n",
      "[206]\tvalid_0's binary_logloss: 0.245203\n",
      "[207]\tvalid_0's binary_logloss: 0.245215\n",
      "[208]\tvalid_0's binary_logloss: 0.24522\n",
      "[209]\tvalid_0's binary_logloss: 0.245238\n",
      "[210]\tvalid_0's binary_logloss: 0.245221\n",
      "[211]\tvalid_0's binary_logloss: 0.24524\n",
      "[212]\tvalid_0's binary_logloss: 0.245222\n",
      "[213]\tvalid_0's binary_logloss: 0.245226\n",
      "[214]\tvalid_0's binary_logloss: 0.245233\n",
      "[215]\tvalid_0's binary_logloss: 0.245247\n",
      "[216]\tvalid_0's binary_logloss: 0.245233\n",
      "Early stopping, best iteration is:\n",
      "[116]\tvalid_0's binary_logloss: 0.245133\n",
      "roc_auc_score: 0.5065529413142115\n",
      "정확도: 0.9213371705445262\n",
      "수행시간:20.2초\n"
     ]
    }
   ],
   "source": [
    "from lightgbm import LGBMClassifier\n",
    "\n",
    "start_time=time.time()\n",
    "\n",
    "lgbm_wrapper=LGBMClassifier(random_state=0,n_estimators=400)\n",
    "\n",
    "evals=[(X_test,y_test)]\n",
    "lgbm_wrapper.fit(X_train, y_train, early_stopping_rounds=100, eval_metric=\"logloss\",eval_set=evals,verbose=True)\n",
    "lgbm_wrapper_preds=lgbm_wrapper.predict(X_test)\n",
    "lgbm_accuracy = accuracy_score(lgbm_wrapper_preds,y_test )\n",
    "roc_auc_lgbm=roc_auc_score(y_test,lgbm_wrapper_preds)\n",
    "\n",
    "\n",
    "print('roc_auc_score:',roc_auc_lgbm)\n",
    "print('정확도:',lgbm_accuracy)\n",
    "print('수행시간:{0:.1f}초'.format(time.time()-start_time))"
   ]
  },
  {
   "cell_type": "markdown",
   "metadata": {},
   "source": [
    "XGBoost와 LightBGM의 속도 비교를 위해 처음 행했던 XGBoost와 모든 하이퍼 파라미터를 동일하게 설정하여 LightBGM을 수행해본다."
   ]
  },
  {
   "cell_type": "code",
   "execution_count": 44,
   "metadata": {},
   "outputs": [
    {
     "name": "stdout",
     "output_type": "stream",
     "text": [
      "[1]\tvalid_0's binary_logloss: 0.266972\n",
      "Training until validation scores don't improve for 100 rounds\n",
      "[2]\tvalid_0's binary_logloss: 0.263113\n",
      "[3]\tvalid_0's binary_logloss: 0.26082\n",
      "[4]\tvalid_0's binary_logloss: 0.258028\n",
      "[5]\tvalid_0's binary_logloss: 0.256543\n",
      "[6]\tvalid_0's binary_logloss: 0.255338\n",
      "[7]\tvalid_0's binary_logloss: 0.254516\n",
      "[8]\tvalid_0's binary_logloss: 0.253556\n",
      "[9]\tvalid_0's binary_logloss: 0.252993\n",
      "[10]\tvalid_0's binary_logloss: 0.252665\n",
      "[11]\tvalid_0's binary_logloss: 0.252263\n",
      "[12]\tvalid_0's binary_logloss: 0.251971\n",
      "[13]\tvalid_0's binary_logloss: 0.251649\n",
      "[14]\tvalid_0's binary_logloss: 0.251405\n",
      "[15]\tvalid_0's binary_logloss: 0.251109\n",
      "[16]\tvalid_0's binary_logloss: 0.250605\n",
      "[17]\tvalid_0's binary_logloss: 0.250472\n",
      "[18]\tvalid_0's binary_logloss: 0.250303\n",
      "[19]\tvalid_0's binary_logloss: 0.249742\n",
      "[20]\tvalid_0's binary_logloss: 0.249756\n",
      "[21]\tvalid_0's binary_logloss: 0.249752\n",
      "[22]\tvalid_0's binary_logloss: 0.249633\n",
      "[23]\tvalid_0's binary_logloss: 0.249337\n",
      "[24]\tvalid_0's binary_logloss: 0.24901\n",
      "[25]\tvalid_0's binary_logloss: 0.248961\n",
      "[26]\tvalid_0's binary_logloss: 0.248897\n",
      "[27]\tvalid_0's binary_logloss: 0.248879\n",
      "[28]\tvalid_0's binary_logloss: 0.248799\n",
      "[29]\tvalid_0's binary_logloss: 0.248708\n",
      "[30]\tvalid_0's binary_logloss: 0.248564\n",
      "[31]\tvalid_0's binary_logloss: 0.248345\n",
      "[32]\tvalid_0's binary_logloss: 0.248298\n",
      "[33]\tvalid_0's binary_logloss: 0.248263\n",
      "[34]\tvalid_0's binary_logloss: 0.247972\n",
      "[35]\tvalid_0's binary_logloss: 0.247807\n",
      "[36]\tvalid_0's binary_logloss: 0.247848\n",
      "[37]\tvalid_0's binary_logloss: 0.247772\n",
      "[38]\tvalid_0's binary_logloss: 0.247708\n",
      "[39]\tvalid_0's binary_logloss: 0.247704\n",
      "[40]\tvalid_0's binary_logloss: 0.247273\n",
      "[41]\tvalid_0's binary_logloss: 0.247223\n",
      "[42]\tvalid_0's binary_logloss: 0.247208\n",
      "[43]\tvalid_0's binary_logloss: 0.247236\n",
      "[44]\tvalid_0's binary_logloss: 0.247172\n",
      "[45]\tvalid_0's binary_logloss: 0.247087\n",
      "[46]\tvalid_0's binary_logloss: 0.24717\n",
      "[47]\tvalid_0's binary_logloss: 0.24709\n",
      "[48]\tvalid_0's binary_logloss: 0.247046\n",
      "[49]\tvalid_0's binary_logloss: 0.247068\n",
      "[50]\tvalid_0's binary_logloss: 0.247063\n",
      "[51]\tvalid_0's binary_logloss: 0.246985\n",
      "[52]\tvalid_0's binary_logloss: 0.246991\n",
      "[53]\tvalid_0's binary_logloss: 0.247032\n",
      "[54]\tvalid_0's binary_logloss: 0.247049\n",
      "[55]\tvalid_0's binary_logloss: 0.247061\n",
      "[56]\tvalid_0's binary_logloss: 0.247066\n",
      "[57]\tvalid_0's binary_logloss: 0.247095\n",
      "[58]\tvalid_0's binary_logloss: 0.247175\n",
      "[59]\tvalid_0's binary_logloss: 0.247175\n",
      "[60]\tvalid_0's binary_logloss: 0.247123\n",
      "[61]\tvalid_0's binary_logloss: 0.24712\n",
      "[62]\tvalid_0's binary_logloss: 0.247156\n",
      "[63]\tvalid_0's binary_logloss: 0.247155\n",
      "[64]\tvalid_0's binary_logloss: 0.247146\n",
      "[65]\tvalid_0's binary_logloss: 0.247194\n",
      "[66]\tvalid_0's binary_logloss: 0.247184\n",
      "[67]\tvalid_0's binary_logloss: 0.24718\n",
      "[68]\tvalid_0's binary_logloss: 0.247082\n",
      "[69]\tvalid_0's binary_logloss: 0.247069\n",
      "[70]\tvalid_0's binary_logloss: 0.247082\n",
      "[71]\tvalid_0's binary_logloss: 0.247065\n",
      "[72]\tvalid_0's binary_logloss: 0.247008\n",
      "[73]\tvalid_0's binary_logloss: 0.246862\n",
      "[74]\tvalid_0's binary_logloss: 0.246765\n",
      "[75]\tvalid_0's binary_logloss: 0.246661\n",
      "[76]\tvalid_0's binary_logloss: 0.246674\n",
      "[77]\tvalid_0's binary_logloss: 0.24669\n",
      "[78]\tvalid_0's binary_logloss: 0.246746\n",
      "[79]\tvalid_0's binary_logloss: 0.246757\n",
      "[80]\tvalid_0's binary_logloss: 0.246779\n",
      "[81]\tvalid_0's binary_logloss: 0.246805\n",
      "[82]\tvalid_0's binary_logloss: 0.246778\n",
      "[83]\tvalid_0's binary_logloss: 0.246765\n",
      "[84]\tvalid_0's binary_logloss: 0.246775\n",
      "[85]\tvalid_0's binary_logloss: 0.246809\n",
      "[86]\tvalid_0's binary_logloss: 0.246815\n",
      "[87]\tvalid_0's binary_logloss: 0.246821\n",
      "[88]\tvalid_0's binary_logloss: 0.246783\n",
      "[89]\tvalid_0's binary_logloss: 0.246787\n",
      "[90]\tvalid_0's binary_logloss: 0.246797\n",
      "[91]\tvalid_0's binary_logloss: 0.246803\n",
      "[92]\tvalid_0's binary_logloss: 0.246769\n",
      "[93]\tvalid_0's binary_logloss: 0.246726\n",
      "[94]\tvalid_0's binary_logloss: 0.246729\n",
      "[95]\tvalid_0's binary_logloss: 0.246789\n",
      "[96]\tvalid_0's binary_logloss: 0.246815\n",
      "[97]\tvalid_0's binary_logloss: 0.246851\n",
      "[98]\tvalid_0's binary_logloss: 0.246874\n",
      "[99]\tvalid_0's binary_logloss: 0.246865\n",
      "[100]\tvalid_0's binary_logloss: 0.246871\n",
      "[101]\tvalid_0's binary_logloss: 0.246654\n",
      "[102]\tvalid_0's binary_logloss: 0.246619\n",
      "[103]\tvalid_0's binary_logloss: 0.246609\n",
      "[104]\tvalid_0's binary_logloss: 0.246493\n",
      "[105]\tvalid_0's binary_logloss: 0.246465\n",
      "[106]\tvalid_0's binary_logloss: 0.246482\n",
      "[107]\tvalid_0's binary_logloss: 0.246522\n",
      "[108]\tvalid_0's binary_logloss: 0.246521\n",
      "[109]\tvalid_0's binary_logloss: 0.246495\n",
      "[110]\tvalid_0's binary_logloss: 0.246486\n",
      "[111]\tvalid_0's binary_logloss: 0.246535\n",
      "[112]\tvalid_0's binary_logloss: 0.246531\n",
      "[113]\tvalid_0's binary_logloss: 0.246515\n",
      "[114]\tvalid_0's binary_logloss: 0.246488\n",
      "[115]\tvalid_0's binary_logloss: 0.246536\n",
      "[116]\tvalid_0's binary_logloss: 0.246599\n",
      "[117]\tvalid_0's binary_logloss: 0.246639\n",
      "[118]\tvalid_0's binary_logloss: 0.246659\n",
      "[119]\tvalid_0's binary_logloss: 0.24661\n",
      "[120]\tvalid_0's binary_logloss: 0.246646\n",
      "[121]\tvalid_0's binary_logloss: 0.246682\n",
      "[122]\tvalid_0's binary_logloss: 0.246694\n",
      "[123]\tvalid_0's binary_logloss: 0.246743\n",
      "[124]\tvalid_0's binary_logloss: 0.246756\n",
      "[125]\tvalid_0's binary_logloss: 0.24678\n",
      "[126]\tvalid_0's binary_logloss: 0.24676\n",
      "[127]\tvalid_0's binary_logloss: 0.246827\n",
      "[128]\tvalid_0's binary_logloss: 0.246846\n",
      "[129]\tvalid_0's binary_logloss: 0.246907\n",
      "[130]\tvalid_0's binary_logloss: 0.246947\n",
      "[131]\tvalid_0's binary_logloss: 0.24697\n",
      "[132]\tvalid_0's binary_logloss: 0.246951\n",
      "[133]\tvalid_0's binary_logloss: 0.246967\n",
      "[134]\tvalid_0's binary_logloss: 0.247034\n",
      "[135]\tvalid_0's binary_logloss: 0.246991\n",
      "[136]\tvalid_0's binary_logloss: 0.246977\n",
      "[137]\tvalid_0's binary_logloss: 0.246995\n",
      "[138]\tvalid_0's binary_logloss: 0.246973\n",
      "[139]\tvalid_0's binary_logloss: 0.246968\n",
      "[140]\tvalid_0's binary_logloss: 0.246977\n",
      "[141]\tvalid_0's binary_logloss: 0.247029\n",
      "[142]\tvalid_0's binary_logloss: 0.247059\n",
      "[143]\tvalid_0's binary_logloss: 0.247101\n",
      "[144]\tvalid_0's binary_logloss: 0.247055\n",
      "[145]\tvalid_0's binary_logloss: 0.247004\n",
      "[146]\tvalid_0's binary_logloss: 0.247001\n",
      "[147]\tvalid_0's binary_logloss: 0.246984\n",
      "[148]\tvalid_0's binary_logloss: 0.246983\n",
      "[149]\tvalid_0's binary_logloss: 0.246909\n",
      "[150]\tvalid_0's binary_logloss: 0.246931\n",
      "[151]\tvalid_0's binary_logloss: 0.246958\n",
      "[152]\tvalid_0's binary_logloss: 0.246965\n",
      "[153]\tvalid_0's binary_logloss: 0.246964\n",
      "[154]\tvalid_0's binary_logloss: 0.246967\n",
      "[155]\tvalid_0's binary_logloss: 0.246941\n",
      "[156]\tvalid_0's binary_logloss: 0.246998\n",
      "[157]\tvalid_0's binary_logloss: 0.246982\n",
      "[158]\tvalid_0's binary_logloss: 0.246991\n",
      "[159]\tvalid_0's binary_logloss: 0.246976\n",
      "[160]\tvalid_0's binary_logloss: 0.247021\n",
      "[161]\tvalid_0's binary_logloss: 0.247287\n",
      "[162]\tvalid_0's binary_logloss: 0.247193\n",
      "[163]\tvalid_0's binary_logloss: 0.247156\n",
      "[164]\tvalid_0's binary_logloss: 0.247123\n",
      "[165]\tvalid_0's binary_logloss: 0.247149\n",
      "[166]\tvalid_0's binary_logloss: 0.24719\n",
      "[167]\tvalid_0's binary_logloss: 0.247157\n",
      "[168]\tvalid_0's binary_logloss: 0.247181\n",
      "[169]\tvalid_0's binary_logloss: 0.247178\n",
      "[170]\tvalid_0's binary_logloss: 0.247203\n",
      "[171]\tvalid_0's binary_logloss: 0.247253\n",
      "[172]\tvalid_0's binary_logloss: 0.247234\n",
      "[173]\tvalid_0's binary_logloss: 0.247218\n",
      "[174]\tvalid_0's binary_logloss: 0.247203\n",
      "[175]\tvalid_0's binary_logloss: 0.247173\n",
      "[176]\tvalid_0's binary_logloss: 0.24724\n",
      "[177]\tvalid_0's binary_logloss: 0.247242\n",
      "[178]\tvalid_0's binary_logloss: 0.247206\n",
      "[179]\tvalid_0's binary_logloss: 0.247238\n",
      "[180]\tvalid_0's binary_logloss: 0.247238\n",
      "[181]\tvalid_0's binary_logloss: 0.247247\n",
      "[182]\tvalid_0's binary_logloss: 0.24735\n",
      "[183]\tvalid_0's binary_logloss: 0.247398\n",
      "[184]\tvalid_0's binary_logloss: 0.247402\n",
      "[185]\tvalid_0's binary_logloss: 0.247373\n",
      "[186]\tvalid_0's binary_logloss: 0.247347\n",
      "[187]\tvalid_0's binary_logloss: 0.247348\n",
      "[188]\tvalid_0's binary_logloss: 0.247381\n",
      "[189]\tvalid_0's binary_logloss: 0.247372\n",
      "[190]\tvalid_0's binary_logloss: 0.247346\n",
      "[191]\tvalid_0's binary_logloss: 0.24739\n",
      "[192]\tvalid_0's binary_logloss: 0.247383\n",
      "[193]\tvalid_0's binary_logloss: 0.247369\n",
      "[194]\tvalid_0's binary_logloss: 0.247388\n",
      "[195]\tvalid_0's binary_logloss: 0.247378\n",
      "[196]\tvalid_0's binary_logloss: 0.247361\n",
      "[197]\tvalid_0's binary_logloss: 0.247314\n",
      "[198]\tvalid_0's binary_logloss: 0.247341\n",
      "[199]\tvalid_0's binary_logloss: 0.247344\n",
      "[200]\tvalid_0's binary_logloss: 0.247339\n",
      "[201]\tvalid_0's binary_logloss: 0.247374\n",
      "[202]\tvalid_0's binary_logloss: 0.247353\n",
      "[203]\tvalid_0's binary_logloss: 0.247284\n"
     ]
    },
    {
     "name": "stdout",
     "output_type": "stream",
     "text": [
      "[204]\tvalid_0's binary_logloss: 0.247296\n",
      "[205]\tvalid_0's binary_logloss: 0.247306\n",
      "Early stopping, best iteration is:\n",
      "[105]\tvalid_0's binary_logloss: 0.246465\n",
      "0.9201990146822107\n",
      "수행시간:12.2초\n"
     ]
    }
   ],
   "source": [
    "start_time=time.time()\n",
    "\n",
    "lgbm_wrapper_time=LGBMClassifier(random_state=1, n_estimators=400, learning_rate=0.5, max_depth=3)\n",
    "\n",
    "evals=[(X_test,y_test)]\n",
    "lgbm_wrapper_time.fit(X_train, y_train, early_stopping_rounds=100, eval_metric=\"logloss\",eval_set=evals,verbose=True)\n",
    "lgbm_wrapper_time_preds=lgbm_wrapper_time.predict(X_test)\n",
    "lgbm_time_accuracy = accuracy_score(lgbm_wrapper_time_preds,y_test )\n",
    "\n",
    "print(lgbm_time_accuracy)\n",
    "print('수행시간:{0:.1f}초'.format(time.time()-start_time))"
   ]
  },
  {
   "cell_type": "markdown",
   "metadata": {},
   "source": [
    "XGBoost:226초, 정확도: 920768...\n",
    "\n",
    "LightBGM:12.2초, 정확도:0.920199...\n",
    "\n",
    "약 20배의 시간차이에 비해 정확도의 차이는 크게 나지 않음을 알 수 있다."
   ]
  },
  {
   "cell_type": "markdown",
   "metadata": {},
   "source": [
    "# 로지스틱회귀"
   ]
  },
  {
   "cell_type": "code",
   "execution_count": 49,
   "metadata": {},
   "outputs": [
    {
     "name": "stdout",
     "output_type": "stream",
     "text": [
      "roc_auc_score: 0.5\n",
      "accuracy: 0.9210607612636782\n"
     ]
    }
   ],
   "source": [
    "from sklearn.linear_model import LogisticRegression\n",
    "\n",
    "lr_clf=LogisticRegression()\n",
    "lr_clf.fit(X_train,y_train)\n",
    "lr_preds=lr_clf.predict(X_test)\n",
    "accuracy_lr=accuracy_score(y_test,lr_preds)\n",
    "roc_auc_lr=roc_auc_score(y_test,lr_preds)\n",
    "\n",
    "\n",
    "print('roc_auc_score:',roc_auc_lr)\n",
    "print('accuracy:',accuracy_lr)\n"
   ]
  },
  {
   "cell_type": "markdown",
   "metadata": {},
   "source": [
    "실제 train을 이용하여 test값을 예측 \n",
    "(결측값을 제외한 데이터를 사용)"
   ]
  },
  {
   "cell_type": "code",
   "execution_count": 59,
   "metadata": {},
   "outputs": [
    {
     "name": "stdout",
     "output_type": "stream",
     "text": [
      "(307511, 202)\n",
      "(48744, 203)\n"
     ]
    }
   ],
   "source": [
    "y_df = app_train2['TARGET']\n",
    "X_df = app_train2.drop(['TARGET'], axis=1)\n",
    "#feature 데이터에 존재하는 json값으로 lightbgm이 작동하지 않아서 데이터를 다시 설정해주었다\n",
    "import re\n",
    "X_df = X_df.rename(columns = lambda x:re.sub('[^A-Za-z0-9_]+', '', x))\n",
    "app_test2 = app_test2.rename(columns = lambda x:re.sub('[^A-Za-z0-9_]+', '', x))\n",
    "print(X_df.shape)\n",
    "print(app_test2.shape)"
   ]
  },
  {
   "cell_type": "code",
   "execution_count": 68,
   "metadata": {},
   "outputs": [],
   "source": [
    "y_org = app_train['TARGET']\n",
    "X_org = app_train.drop(['TARGET'], axis=1)\n",
    "\n"
   ]
  },
  {
   "cell_type": "code",
   "execution_count": 69,
   "metadata": {},
   "outputs": [
    {
     "name": "stdout",
     "output_type": "stream",
     "text": [
      "[0]\tvalidation_0-logloss:0.62507\n",
      "Will train until validation_0-logloss hasn't improved in 100 rounds.\n",
      "[1]\tvalidation_0-logloss:0.56937\n",
      "[2]\tvalidation_0-logloss:0.52341\n",
      "[3]\tvalidation_0-logloss:0.48490\n",
      "[4]\tvalidation_0-logloss:0.45232\n",
      "[5]\tvalidation_0-logloss:0.42489\n",
      "[6]\tvalidation_0-logloss:0.40128\n",
      "[7]\tvalidation_0-logloss:0.38123\n",
      "[8]\tvalidation_0-logloss:0.36392\n",
      "[9]\tvalidation_0-logloss:0.34916\n",
      "[10]\tvalidation_0-logloss:0.33640\n",
      "[11]\tvalidation_0-logloss:0.32543\n",
      "[12]\tvalidation_0-logloss:0.31593\n",
      "[13]\tvalidation_0-logloss:0.30771\n",
      "[14]\tvalidation_0-logloss:0.30063\n",
      "[15]\tvalidation_0-logloss:0.29453\n",
      "[16]\tvalidation_0-logloss:0.28922\n",
      "[17]\tvalidation_0-logloss:0.28462\n",
      "[18]\tvalidation_0-logloss:0.28068\n",
      "[19]\tvalidation_0-logloss:0.27725\n",
      "[20]\tvalidation_0-logloss:0.27427\n",
      "[21]\tvalidation_0-logloss:0.27166\n",
      "[22]\tvalidation_0-logloss:0.26944\n",
      "[23]\tvalidation_0-logloss:0.26747\n",
      "[24]\tvalidation_0-logloss:0.26575\n",
      "[25]\tvalidation_0-logloss:0.26423\n",
      "[26]\tvalidation_0-logloss:0.26290\n",
      "[27]\tvalidation_0-logloss:0.26177\n",
      "[28]\tvalidation_0-logloss:0.26076\n",
      "[29]\tvalidation_0-logloss:0.25986\n",
      "[30]\tvalidation_0-logloss:0.25904\n",
      "[31]\tvalidation_0-logloss:0.25831\n",
      "[32]\tvalidation_0-logloss:0.25768\n",
      "[33]\tvalidation_0-logloss:0.25704\n",
      "[34]\tvalidation_0-logloss:0.25649\n",
      "[35]\tvalidation_0-logloss:0.25598\n",
      "[36]\tvalidation_0-logloss:0.25543\n",
      "[37]\tvalidation_0-logloss:0.25499\n",
      "[38]\tvalidation_0-logloss:0.25458\n",
      "[39]\tvalidation_0-logloss:0.25421\n",
      "[40]\tvalidation_0-logloss:0.25377\n",
      "[41]\tvalidation_0-logloss:0.25344\n",
      "[42]\tvalidation_0-logloss:0.25315\n",
      "[43]\tvalidation_0-logloss:0.25282\n",
      "[44]\tvalidation_0-logloss:0.25252\n",
      "[45]\tvalidation_0-logloss:0.25222\n",
      "[46]\tvalidation_0-logloss:0.25191\n",
      "[47]\tvalidation_0-logloss:0.25170\n",
      "[48]\tvalidation_0-logloss:0.25151\n",
      "[49]\tvalidation_0-logloss:0.25127\n",
      "[50]\tvalidation_0-logloss:0.25106\n",
      "[51]\tvalidation_0-logloss:0.25088\n",
      "[52]\tvalidation_0-logloss:0.25066\n",
      "[53]\tvalidation_0-logloss:0.25049\n",
      "[54]\tvalidation_0-logloss:0.25023\n",
      "[55]\tvalidation_0-logloss:0.25009\n",
      "[56]\tvalidation_0-logloss:0.24993\n",
      "[57]\tvalidation_0-logloss:0.24976\n",
      "[58]\tvalidation_0-logloss:0.24958\n",
      "[59]\tvalidation_0-logloss:0.24943\n",
      "[60]\tvalidation_0-logloss:0.24930\n",
      "[61]\tvalidation_0-logloss:0.24917\n",
      "[62]\tvalidation_0-logloss:0.24904\n",
      "[63]\tvalidation_0-logloss:0.24891\n",
      "[64]\tvalidation_0-logloss:0.24877\n",
      "[65]\tvalidation_0-logloss:0.24865\n",
      "[66]\tvalidation_0-logloss:0.24853\n",
      "[67]\tvalidation_0-logloss:0.24843\n",
      "[68]\tvalidation_0-logloss:0.24829\n",
      "[69]\tvalidation_0-logloss:0.24816\n",
      "[70]\tvalidation_0-logloss:0.24805\n",
      "[71]\tvalidation_0-logloss:0.24796\n",
      "[72]\tvalidation_0-logloss:0.24787\n",
      "[73]\tvalidation_0-logloss:0.24773\n",
      "[74]\tvalidation_0-logloss:0.24759\n",
      "[75]\tvalidation_0-logloss:0.24751\n",
      "[76]\tvalidation_0-logloss:0.24743\n",
      "[77]\tvalidation_0-logloss:0.24728\n",
      "[78]\tvalidation_0-logloss:0.24719\n",
      "[79]\tvalidation_0-logloss:0.24706\n",
      "[80]\tvalidation_0-logloss:0.24699\n",
      "[81]\tvalidation_0-logloss:0.24683\n",
      "[82]\tvalidation_0-logloss:0.24669\n",
      "[83]\tvalidation_0-logloss:0.24661\n",
      "[84]\tvalidation_0-logloss:0.24649\n",
      "[85]\tvalidation_0-logloss:0.24642\n",
      "[86]\tvalidation_0-logloss:0.24633\n",
      "[87]\tvalidation_0-logloss:0.24626\n",
      "[88]\tvalidation_0-logloss:0.24619\n",
      "[89]\tvalidation_0-logloss:0.24613\n",
      "[90]\tvalidation_0-logloss:0.24605\n",
      "[91]\tvalidation_0-logloss:0.24596\n",
      "[92]\tvalidation_0-logloss:0.24589\n",
      "[93]\tvalidation_0-logloss:0.24583\n",
      "[94]\tvalidation_0-logloss:0.24575\n",
      "[95]\tvalidation_0-logloss:0.24568\n",
      "[96]\tvalidation_0-logloss:0.24554\n",
      "[97]\tvalidation_0-logloss:0.24546\n",
      "[98]\tvalidation_0-logloss:0.24539\n",
      "[99]\tvalidation_0-logloss:0.24533\n",
      "[100]\tvalidation_0-logloss:0.24528\n",
      "[101]\tvalidation_0-logloss:0.24521\n",
      "[102]\tvalidation_0-logloss:0.24516\n",
      "[103]\tvalidation_0-logloss:0.24509\n",
      "[104]\tvalidation_0-logloss:0.24502\n",
      "[105]\tvalidation_0-logloss:0.24497\n",
      "[106]\tvalidation_0-logloss:0.24487\n",
      "[107]\tvalidation_0-logloss:0.24482\n",
      "[108]\tvalidation_0-logloss:0.24477\n",
      "[109]\tvalidation_0-logloss:0.24473\n",
      "[110]\tvalidation_0-logloss:0.24467\n",
      "[111]\tvalidation_0-logloss:0.24461\n",
      "[112]\tvalidation_0-logloss:0.24455\n",
      "[113]\tvalidation_0-logloss:0.24450\n",
      "[114]\tvalidation_0-logloss:0.24445\n",
      "[115]\tvalidation_0-logloss:0.24440\n",
      "[116]\tvalidation_0-logloss:0.24433\n",
      "[117]\tvalidation_0-logloss:0.24429\n",
      "[118]\tvalidation_0-logloss:0.24425\n",
      "[119]\tvalidation_0-logloss:0.24421\n",
      "[120]\tvalidation_0-logloss:0.24415\n",
      "[121]\tvalidation_0-logloss:0.24411\n",
      "[122]\tvalidation_0-logloss:0.24407\n",
      "[123]\tvalidation_0-logloss:0.24402\n",
      "[124]\tvalidation_0-logloss:0.24398\n",
      "[125]\tvalidation_0-logloss:0.24393\n",
      "[126]\tvalidation_0-logloss:0.24389\n",
      "[127]\tvalidation_0-logloss:0.24385\n",
      "[128]\tvalidation_0-logloss:0.24375\n",
      "[129]\tvalidation_0-logloss:0.24371\n",
      "[130]\tvalidation_0-logloss:0.24368\n",
      "[131]\tvalidation_0-logloss:0.24360\n",
      "[132]\tvalidation_0-logloss:0.24353\n",
      "[133]\tvalidation_0-logloss:0.24344\n",
      "[134]\tvalidation_0-logloss:0.24341\n",
      "[135]\tvalidation_0-logloss:0.24337\n",
      "[136]\tvalidation_0-logloss:0.24334\n",
      "[137]\tvalidation_0-logloss:0.24329\n",
      "[138]\tvalidation_0-logloss:0.24325\n",
      "[139]\tvalidation_0-logloss:0.24322\n",
      "[140]\tvalidation_0-logloss:0.24316\n",
      "[141]\tvalidation_0-logloss:0.24313\n",
      "[142]\tvalidation_0-logloss:0.24310\n",
      "[143]\tvalidation_0-logloss:0.24307\n",
      "[144]\tvalidation_0-logloss:0.24304\n",
      "[145]\tvalidation_0-logloss:0.24301\n",
      "[146]\tvalidation_0-logloss:0.24298\n",
      "[147]\tvalidation_0-logloss:0.24295\n",
      "[148]\tvalidation_0-logloss:0.24288\n",
      "[149]\tvalidation_0-logloss:0.24285\n",
      "[150]\tvalidation_0-logloss:0.24282\n",
      "[151]\tvalidation_0-logloss:0.24278\n",
      "[152]\tvalidation_0-logloss:0.24275\n",
      "[153]\tvalidation_0-logloss:0.24272\n",
      "[154]\tvalidation_0-logloss:0.24268\n",
      "[155]\tvalidation_0-logloss:0.24265\n",
      "[156]\tvalidation_0-logloss:0.24258\n",
      "[157]\tvalidation_0-logloss:0.24255\n",
      "[158]\tvalidation_0-logloss:0.24251\n",
      "[159]\tvalidation_0-logloss:0.24249\n",
      "[160]\tvalidation_0-logloss:0.24245\n",
      "[161]\tvalidation_0-logloss:0.24242\n",
      "[162]\tvalidation_0-logloss:0.24240\n",
      "[163]\tvalidation_0-logloss:0.24238\n",
      "[164]\tvalidation_0-logloss:0.24235\n",
      "[165]\tvalidation_0-logloss:0.24233\n",
      "[166]\tvalidation_0-logloss:0.24230\n",
      "[167]\tvalidation_0-logloss:0.24226\n",
      "[168]\tvalidation_0-logloss:0.24222\n",
      "[169]\tvalidation_0-logloss:0.24219\n",
      "[170]\tvalidation_0-logloss:0.24217\n",
      "[171]\tvalidation_0-logloss:0.24214\n",
      "[172]\tvalidation_0-logloss:0.24212\n",
      "[173]\tvalidation_0-logloss:0.24208\n",
      "[174]\tvalidation_0-logloss:0.24205\n",
      "[175]\tvalidation_0-logloss:0.24203\n",
      "[176]\tvalidation_0-logloss:0.24200\n",
      "[177]\tvalidation_0-logloss:0.24197\n",
      "[178]\tvalidation_0-logloss:0.24195\n",
      "[179]\tvalidation_0-logloss:0.24193\n",
      "[180]\tvalidation_0-logloss:0.24191\n",
      "[181]\tvalidation_0-logloss:0.24185\n",
      "[182]\tvalidation_0-logloss:0.24183\n",
      "[183]\tvalidation_0-logloss:0.24177\n",
      "[184]\tvalidation_0-logloss:0.24174\n",
      "[185]\tvalidation_0-logloss:0.24171\n",
      "[186]\tvalidation_0-logloss:0.24170\n",
      "[187]\tvalidation_0-logloss:0.24167\n",
      "[188]\tvalidation_0-logloss:0.24163\n",
      "[189]\tvalidation_0-logloss:0.24161\n",
      "[190]\tvalidation_0-logloss:0.24159\n",
      "[191]\tvalidation_0-logloss:0.24157\n",
      "[192]\tvalidation_0-logloss:0.24155\n",
      "[193]\tvalidation_0-logloss:0.24153\n",
      "[194]\tvalidation_0-logloss:0.24151\n",
      "[195]\tvalidation_0-logloss:0.24149\n",
      "[196]\tvalidation_0-logloss:0.24146\n",
      "[197]\tvalidation_0-logloss:0.24144\n",
      "[198]\tvalidation_0-logloss:0.24137\n",
      "[199]\tvalidation_0-logloss:0.24134\n",
      "[200]\tvalidation_0-logloss:0.24126\n",
      "[201]\tvalidation_0-logloss:0.24124\n",
      "[202]\tvalidation_0-logloss:0.24121\n",
      "[203]\tvalidation_0-logloss:0.24116\n",
      "[204]\tvalidation_0-logloss:0.24115\n",
      "[205]\tvalidation_0-logloss:0.24109\n",
      "[206]\tvalidation_0-logloss:0.24107\n",
      "[207]\tvalidation_0-logloss:0.24105\n",
      "[208]\tvalidation_0-logloss:0.24103\n",
      "[209]\tvalidation_0-logloss:0.24101\n",
      "[210]\tvalidation_0-logloss:0.24098\n",
      "[211]\tvalidation_0-logloss:0.24096\n",
      "[212]\tvalidation_0-logloss:0.24094\n",
      "[213]\tvalidation_0-logloss:0.24093\n",
      "[214]\tvalidation_0-logloss:0.24091\n",
      "[215]\tvalidation_0-logloss:0.24086\n",
      "[216]\tvalidation_0-logloss:0.24083\n",
      "[217]\tvalidation_0-logloss:0.24081\n",
      "[218]\tvalidation_0-logloss:0.24078\n",
      "[219]\tvalidation_0-logloss:0.24074\n",
      "[220]\tvalidation_0-logloss:0.24072\n",
      "[221]\tvalidation_0-logloss:0.24068\n",
      "[222]\tvalidation_0-logloss:0.24063\n",
      "[223]\tvalidation_0-logloss:0.24061\n",
      "[224]\tvalidation_0-logloss:0.24057\n",
      "[225]\tvalidation_0-logloss:0.24048\n",
      "[226]\tvalidation_0-logloss:0.24045\n",
      "[227]\tvalidation_0-logloss:0.24043\n",
      "[228]\tvalidation_0-logloss:0.24040\n",
      "[229]\tvalidation_0-logloss:0.24038\n",
      "[230]\tvalidation_0-logloss:0.24036\n",
      "[231]\tvalidation_0-logloss:0.24033\n",
      "[232]\tvalidation_0-logloss:0.24032\n",
      "[233]\tvalidation_0-logloss:0.24028\n",
      "[234]\tvalidation_0-logloss:0.24025\n",
      "[235]\tvalidation_0-logloss:0.24022\n"
     ]
    },
    {
     "name": "stdout",
     "output_type": "stream",
     "text": [
      "[236]\tvalidation_0-logloss:0.24021\n",
      "[237]\tvalidation_0-logloss:0.24019\n",
      "[238]\tvalidation_0-logloss:0.24017\n",
      "[239]\tvalidation_0-logloss:0.24016\n",
      "[240]\tvalidation_0-logloss:0.24013\n",
      "[241]\tvalidation_0-logloss:0.24010\n",
      "[242]\tvalidation_0-logloss:0.24008\n",
      "[243]\tvalidation_0-logloss:0.24006\n",
      "[244]\tvalidation_0-logloss:0.24004\n",
      "[245]\tvalidation_0-logloss:0.24002\n",
      "[246]\tvalidation_0-logloss:0.24000\n",
      "[247]\tvalidation_0-logloss:0.23997\n",
      "[248]\tvalidation_0-logloss:0.23996\n",
      "[249]\tvalidation_0-logloss:0.23995\n",
      "[250]\tvalidation_0-logloss:0.23993\n",
      "[251]\tvalidation_0-logloss:0.23991\n",
      "[252]\tvalidation_0-logloss:0.23988\n",
      "[253]\tvalidation_0-logloss:0.23987\n",
      "[254]\tvalidation_0-logloss:0.23986\n",
      "[255]\tvalidation_0-logloss:0.23985\n",
      "[256]\tvalidation_0-logloss:0.23979\n",
      "[257]\tvalidation_0-logloss:0.23977\n",
      "[258]\tvalidation_0-logloss:0.23975\n",
      "[259]\tvalidation_0-logloss:0.23972\n",
      "[260]\tvalidation_0-logloss:0.23971\n",
      "[261]\tvalidation_0-logloss:0.23970\n",
      "[262]\tvalidation_0-logloss:0.23968\n",
      "[263]\tvalidation_0-logloss:0.23966\n",
      "[264]\tvalidation_0-logloss:0.23963\n",
      "[265]\tvalidation_0-logloss:0.23961\n",
      "[266]\tvalidation_0-logloss:0.23958\n",
      "[267]\tvalidation_0-logloss:0.23956\n",
      "[268]\tvalidation_0-logloss:0.23948\n",
      "[269]\tvalidation_0-logloss:0.23945\n",
      "[270]\tvalidation_0-logloss:0.23942\n",
      "[271]\tvalidation_0-logloss:0.23940\n",
      "[272]\tvalidation_0-logloss:0.23938\n",
      "[273]\tvalidation_0-logloss:0.23936\n",
      "[274]\tvalidation_0-logloss:0.23935\n",
      "[275]\tvalidation_0-logloss:0.23934\n",
      "[276]\tvalidation_0-logloss:0.23932\n",
      "[277]\tvalidation_0-logloss:0.23930\n",
      "[278]\tvalidation_0-logloss:0.23929\n",
      "[279]\tvalidation_0-logloss:0.23926\n",
      "[280]\tvalidation_0-logloss:0.23925\n",
      "[281]\tvalidation_0-logloss:0.23922\n",
      "[282]\tvalidation_0-logloss:0.23920\n",
      "[283]\tvalidation_0-logloss:0.23918\n",
      "[284]\tvalidation_0-logloss:0.23916\n",
      "[285]\tvalidation_0-logloss:0.23915\n",
      "[286]\tvalidation_0-logloss:0.23910\n",
      "[287]\tvalidation_0-logloss:0.23909\n",
      "[288]\tvalidation_0-logloss:0.23908\n",
      "[289]\tvalidation_0-logloss:0.23906\n",
      "[290]\tvalidation_0-logloss:0.23904\n",
      "[291]\tvalidation_0-logloss:0.23899\n",
      "[292]\tvalidation_0-logloss:0.23897\n",
      "[293]\tvalidation_0-logloss:0.23892\n",
      "[294]\tvalidation_0-logloss:0.23889\n",
      "[295]\tvalidation_0-logloss:0.23888\n",
      "[296]\tvalidation_0-logloss:0.23885\n",
      "[297]\tvalidation_0-logloss:0.23884\n",
      "[298]\tvalidation_0-logloss:0.23884\n",
      "[299]\tvalidation_0-logloss:0.23882\n",
      "[300]\tvalidation_0-logloss:0.23880\n",
      "[301]\tvalidation_0-logloss:0.23878\n",
      "[302]\tvalidation_0-logloss:0.23875\n",
      "[303]\tvalidation_0-logloss:0.23872\n",
      "[304]\tvalidation_0-logloss:0.23871\n",
      "[305]\tvalidation_0-logloss:0.23870\n",
      "[306]\tvalidation_0-logloss:0.23868\n",
      "[307]\tvalidation_0-logloss:0.23868\n",
      "[308]\tvalidation_0-logloss:0.23866\n",
      "[309]\tvalidation_0-logloss:0.23864\n",
      "[310]\tvalidation_0-logloss:0.23862\n",
      "[311]\tvalidation_0-logloss:0.23860\n",
      "[312]\tvalidation_0-logloss:0.23858\n",
      "[313]\tvalidation_0-logloss:0.23857\n",
      "[314]\tvalidation_0-logloss:0.23855\n",
      "[315]\tvalidation_0-logloss:0.23852\n",
      "[316]\tvalidation_0-logloss:0.23850\n",
      "[317]\tvalidation_0-logloss:0.23847\n",
      "[318]\tvalidation_0-logloss:0.23844\n",
      "[319]\tvalidation_0-logloss:0.23841\n",
      "[320]\tvalidation_0-logloss:0.23839\n",
      "[321]\tvalidation_0-logloss:0.23837\n",
      "[322]\tvalidation_0-logloss:0.23836\n",
      "[323]\tvalidation_0-logloss:0.23834\n",
      "[324]\tvalidation_0-logloss:0.23831\n",
      "[325]\tvalidation_0-logloss:0.23830\n",
      "[326]\tvalidation_0-logloss:0.23829\n",
      "[327]\tvalidation_0-logloss:0.23827\n",
      "[328]\tvalidation_0-logloss:0.23825\n",
      "[329]\tvalidation_0-logloss:0.23816\n",
      "[330]\tvalidation_0-logloss:0.23814\n",
      "[331]\tvalidation_0-logloss:0.23811\n",
      "[332]\tvalidation_0-logloss:0.23807\n",
      "[333]\tvalidation_0-logloss:0.23805\n",
      "[334]\tvalidation_0-logloss:0.23803\n",
      "[335]\tvalidation_0-logloss:0.23801\n",
      "[336]\tvalidation_0-logloss:0.23799\n",
      "[337]\tvalidation_0-logloss:0.23798\n",
      "[338]\tvalidation_0-logloss:0.23797\n",
      "[339]\tvalidation_0-logloss:0.23796\n",
      "[340]\tvalidation_0-logloss:0.23794\n",
      "[341]\tvalidation_0-logloss:0.23792\n",
      "[342]\tvalidation_0-logloss:0.23791\n",
      "[343]\tvalidation_0-logloss:0.23789\n",
      "[344]\tvalidation_0-logloss:0.23788\n",
      "[345]\tvalidation_0-logloss:0.23786\n",
      "[346]\tvalidation_0-logloss:0.23785\n",
      "[347]\tvalidation_0-logloss:0.23783\n",
      "[348]\tvalidation_0-logloss:0.23781\n",
      "[349]\tvalidation_0-logloss:0.23780\n",
      "[350]\tvalidation_0-logloss:0.23778\n",
      "[351]\tvalidation_0-logloss:0.23774\n",
      "[352]\tvalidation_0-logloss:0.23772\n",
      "[353]\tvalidation_0-logloss:0.23770\n",
      "[354]\tvalidation_0-logloss:0.23769\n",
      "[355]\tvalidation_0-logloss:0.23766\n",
      "[356]\tvalidation_0-logloss:0.23764\n",
      "[357]\tvalidation_0-logloss:0.23762\n",
      "[358]\tvalidation_0-logloss:0.23761\n",
      "[359]\tvalidation_0-logloss:0.23759\n",
      "[360]\tvalidation_0-logloss:0.23758\n",
      "[361]\tvalidation_0-logloss:0.23758\n",
      "[362]\tvalidation_0-logloss:0.23756\n",
      "[363]\tvalidation_0-logloss:0.23754\n",
      "[364]\tvalidation_0-logloss:0.23751\n",
      "[365]\tvalidation_0-logloss:0.23750\n",
      "[366]\tvalidation_0-logloss:0.23749\n",
      "[367]\tvalidation_0-logloss:0.23748\n",
      "[368]\tvalidation_0-logloss:0.23746\n",
      "[369]\tvalidation_0-logloss:0.23745\n",
      "[370]\tvalidation_0-logloss:0.23744\n",
      "[371]\tvalidation_0-logloss:0.23743\n",
      "[372]\tvalidation_0-logloss:0.23742\n",
      "[373]\tvalidation_0-logloss:0.23741\n",
      "[374]\tvalidation_0-logloss:0.23739\n",
      "[375]\tvalidation_0-logloss:0.23738\n",
      "[376]\tvalidation_0-logloss:0.23736\n",
      "[377]\tvalidation_0-logloss:0.23734\n",
      "[378]\tvalidation_0-logloss:0.23733\n",
      "[379]\tvalidation_0-logloss:0.23731\n",
      "[380]\tvalidation_0-logloss:0.23730\n",
      "[381]\tvalidation_0-logloss:0.23729\n",
      "[382]\tvalidation_0-logloss:0.23728\n",
      "[383]\tvalidation_0-logloss:0.23726\n",
      "[384]\tvalidation_0-logloss:0.23725\n",
      "[385]\tvalidation_0-logloss:0.23723\n",
      "[386]\tvalidation_0-logloss:0.23722\n",
      "[387]\tvalidation_0-logloss:0.23720\n",
      "[388]\tvalidation_0-logloss:0.23716\n",
      "[389]\tvalidation_0-logloss:0.23714\n",
      "[390]\tvalidation_0-logloss:0.23712\n",
      "[391]\tvalidation_0-logloss:0.23711\n",
      "[392]\tvalidation_0-logloss:0.23710\n",
      "[393]\tvalidation_0-logloss:0.23708\n",
      "[394]\tvalidation_0-logloss:0.23707\n",
      "[395]\tvalidation_0-logloss:0.23706\n",
      "[396]\tvalidation_0-logloss:0.23704\n",
      "[397]\tvalidation_0-logloss:0.23704\n",
      "[398]\tvalidation_0-logloss:0.23703\n",
      "[399]\tvalidation_0-logloss:0.23702\n",
      "수행시간:931.8초\n"
     ]
    }
   ],
   "source": [
    "y_org = app_train['TARGET']\n",
    "X_org = app_train.drop(['TARGET'], axis=1)\n",
    "\n",
    "import xgboost as xgb\n",
    "from xgboost import XGBClassifier\n",
    "\n",
    "start_time = time.time()\n",
    "xgb_wrapper = XGBClassifier(random_state=1, n_estimators=400, learning_rate=0.1, max_depth=3)\n",
    "evals=[(X_org,y_org)]\n",
    "xgb_wrapper.fit(X_org, y_org, early_stopping_rounds=100, eval_metric=\"logloss\",eval_set=evals,verbose=True)\n",
    "xgb_wrapper_pred = xgb_wrapper.predict(app_test)\n",
    "\n",
    "print('수행시간:{0:.1f}초'.format(time.time()-start_time))"
   ]
  },
  {
   "cell_type": "code",
   "execution_count": 70,
   "metadata": {},
   "outputs": [
    {
     "data": {
      "text/plain": [
       "(48744,)"
      ]
     },
     "execution_count": 70,
     "metadata": {},
     "output_type": "execute_result"
    }
   ],
   "source": [
    "xgb_wrapper_pred.shape"
   ]
  },
  {
   "cell_type": "code",
   "execution_count": 74,
   "metadata": {},
   "outputs": [],
   "source": [
    "ID=pd.DataFrame(app_test['SK_ID_CURR'])\n",
    "T_pred=pd.DataFrame(xgb_wrapper_pred)\n"
   ]
  },
  {
   "cell_type": "code",
   "execution_count": 77,
   "metadata": {},
   "outputs": [],
   "source": [
    "ID['pred']=T_pred"
   ]
  },
  {
   "cell_type": "code",
   "execution_count": 78,
   "metadata": {},
   "outputs": [
    {
     "data": {
      "text/html": [
       "<div>\n",
       "<style scoped>\n",
       "    .dataframe tbody tr th:only-of-type {\n",
       "        vertical-align: middle;\n",
       "    }\n",
       "\n",
       "    .dataframe tbody tr th {\n",
       "        vertical-align: top;\n",
       "    }\n",
       "\n",
       "    .dataframe thead th {\n",
       "        text-align: right;\n",
       "    }\n",
       "</style>\n",
       "<table border=\"1\" class=\"dataframe\">\n",
       "  <thead>\n",
       "    <tr style=\"text-align: right;\">\n",
       "      <th></th>\n",
       "      <th>SK_ID_CURR</th>\n",
       "      <th>pred</th>\n",
       "    </tr>\n",
       "  </thead>\n",
       "  <tbody>\n",
       "    <tr>\n",
       "      <th>0</th>\n",
       "      <td>100001</td>\n",
       "      <td>0</td>\n",
       "    </tr>\n",
       "    <tr>\n",
       "      <th>1</th>\n",
       "      <td>100005</td>\n",
       "      <td>0</td>\n",
       "    </tr>\n",
       "    <tr>\n",
       "      <th>2</th>\n",
       "      <td>100013</td>\n",
       "      <td>0</td>\n",
       "    </tr>\n",
       "    <tr>\n",
       "      <th>3</th>\n",
       "      <td>100028</td>\n",
       "      <td>0</td>\n",
       "    </tr>\n",
       "    <tr>\n",
       "      <th>4</th>\n",
       "      <td>100038</td>\n",
       "      <td>0</td>\n",
       "    </tr>\n",
       "    <tr>\n",
       "      <th>...</th>\n",
       "      <td>...</td>\n",
       "      <td>...</td>\n",
       "    </tr>\n",
       "    <tr>\n",
       "      <th>48739</th>\n",
       "      <td>456221</td>\n",
       "      <td>0</td>\n",
       "    </tr>\n",
       "    <tr>\n",
       "      <th>48740</th>\n",
       "      <td>456222</td>\n",
       "      <td>0</td>\n",
       "    </tr>\n",
       "    <tr>\n",
       "      <th>48741</th>\n",
       "      <td>456223</td>\n",
       "      <td>0</td>\n",
       "    </tr>\n",
       "    <tr>\n",
       "      <th>48742</th>\n",
       "      <td>456224</td>\n",
       "      <td>0</td>\n",
       "    </tr>\n",
       "    <tr>\n",
       "      <th>48743</th>\n",
       "      <td>456250</td>\n",
       "      <td>0</td>\n",
       "    </tr>\n",
       "  </tbody>\n",
       "</table>\n",
       "<p>48744 rows × 2 columns</p>\n",
       "</div>"
      ],
      "text/plain": [
       "       SK_ID_CURR  pred\n",
       "0          100001     0\n",
       "1          100005     0\n",
       "2          100013     0\n",
       "3          100028     0\n",
       "4          100038     0\n",
       "...           ...   ...\n",
       "48739      456221     0\n",
       "48740      456222     0\n",
       "48741      456223     0\n",
       "48742      456224     0\n",
       "48743      456250     0\n",
       "\n",
       "[48744 rows x 2 columns]"
      ]
     },
     "execution_count": 78,
     "metadata": {},
     "output_type": "execute_result"
    }
   ],
   "source": [
    "ID"
   ]
  },
  {
   "cell_type": "code",
   "execution_count": 86,
   "metadata": {},
   "outputs": [],
   "source": [
    "ID.to_csv(r\"C:\\Users\\stat\\ML\\Home Credit Data Analysis2\\pred.csv\")"
   ]
  },
  {
   "cell_type": "code",
   "execution_count": null,
   "metadata": {},
   "outputs": [],
   "source": []
  }
 ],
 "metadata": {
  "kernelspec": {
   "display_name": "Python 3",
   "language": "python",
   "name": "python3"
  },
  "language_info": {
   "codemirror_mode": {
    "name": "ipython",
    "version": 3
   },
   "file_extension": ".py",
   "mimetype": "text/x-python",
   "name": "python",
   "nbconvert_exporter": "python",
   "pygments_lexer": "ipython3",
   "version": "3.8.5"
  }
 },
 "nbformat": 4,
 "nbformat_minor": 4
}
